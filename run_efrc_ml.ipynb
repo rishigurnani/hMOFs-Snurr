{
 "cells": [
  {
   "cell_type": "code",
   "execution_count": 1,
   "metadata": {
    "scrolled": true
   },
   "outputs": [],
   "source": [
    "import pandas as pd"
   ]
  },
  {
   "cell_type": "code",
   "execution_count": 2,
   "metadata": {},
   "outputs": [],
   "source": [
    "import numpy as np"
   ]
  },
  {
   "cell_type": "code",
   "execution_count": 3,
   "metadata": {},
   "outputs": [],
   "source": [
    "from matplotlib import pyplot as plt"
   ]
  },
  {
   "cell_type": "code",
   "execution_count": 4,
   "metadata": {},
   "outputs": [],
   "source": [
    "import math"
   ]
  },
  {
   "cell_type": "code",
   "execution_count": 5,
   "metadata": {},
   "outputs": [],
   "source": [
    "%matplotlib inline\n",
    "tickfontsize=20\n",
    "labelfontsize = tickfontsize"
   ]
  },
  {
   "cell_type": "code",
   "execution_count": 27,
   "metadata": {
    "scrolled": false
   },
   "outputs": [
    {
     "data": {
      "text/plain": [
       "<module 'efrc_ml_production' from '/home/rgur/py_scripts/efrc_ml_production.py'>"
      ]
     },
     "execution_count": 27,
     "metadata": {},
     "output_type": "execute_result"
    }
   ],
   "source": [
    "import importlib\n",
    "import efrc_ml_production as ml\n",
    "importlib.reload(ml)"
   ]
  },
  {
   "cell_type": "code",
   "execution_count": 7,
   "metadata": {},
   "outputs": [],
   "source": [
    "from rdkit import Chem"
   ]
  },
  {
   "cell_type": "code",
   "execution_count": 8,
   "metadata": {},
   "outputs": [],
   "source": [
    "import xgboost as xgb"
   ]
  },
  {
   "cell_type": "code",
   "execution_count": 9,
   "metadata": {},
   "outputs": [],
   "source": [
    "import datetime\n",
    "import time"
   ]
  },
  {
   "cell_type": "markdown",
   "metadata": {},
   "source": [
    "# Define variables"
   ]
  },
  {
   "cell_type": "code",
   "execution_count": 17,
   "metadata": {},
   "outputs": [],
   "source": [
    "#following must be defined\n",
    "algo = 'nn' #am I using XGBoost (xgb) or Neural Nets (nn)?\n",
    "total_frac = .1 #total fraction of data set to work with\n",
    "training_pct = .7 #how much percent of total fraction should be used for training\n",
    "random_split = True #make True if the training data should be chosen randomly\n",
    "n_remote = 10000 #the n_remote most remote points will be added to training set if random_split = False\n",
    "USE_PCA = True #should I use PCA?\n",
    "N_COMPONENTS=400 #how many PCA Components should I use?\n",
    "del_defective_mofs = False #make True if you want to remove all MOFs which a '0' value for at least one geometric property\n",
    "cat_si_sd = False #make True if you want to concatenate size-indep and size-dep fps\n",
    "add_size_fp = True #make True if you want to add 20 feature columns, where each feature is the number of atoms in a linker\n",
    "srt_size_fp = True\n",
    "size_dependent = False #make True if the input ML-ready data contains fingerprint which does not normalize each PG feature$\n",
    "stacked = True #make True if the input ML-ready data contains pressure as feature\n",
    "n_core = 18 #number of cores to use\n",
    "if not stacked:\n",
    "    SD_ML_DATA_PATH = '/data/rgur/efrc/prep_data/all_no_norm/ml_data.csv' #path to size-dep data\n",
    "else:\n",
    "    SD_ML_DATA_PATH = '/data/rgur/efrc/prep_data/all_no_norm/stacked.csv'\n",
    "if not stacked:\n",
    "    SI_ML_DATA_PATH = '/data/rgur/efrc/prep_data/all_v1/ml_data.csv' #path to size-indep data\n",
    "else:\n",
    "    SI_ML_DATA_PATH = '/data/rgur/efrc/prep_data/all_v1/stacked.csv'\n",
    "if not stacked:\n",
    "    start_str_sd = 'CH4_v/v_248_bar'\n",
    "    end_str_sd = 'norm_Dom._Pore_(ang.)'\n",
    "else:\n",
    "    start_str_sd = 'Density'\n",
    "    end_str_sd = 'norm_Dom._Pore_(ang.)'\n",
    "\n",
    "\n",
    "start_str_si = 'filename'\n",
    "end_str_si = 'valence_pa'\n",
    "\n",
    "\n",
    "del_geometric_fp = False #make True if you want to ignore the geometric features\n",
    "cat_col_names = ['oh_1', 'oh_2', 'oh_3', 'oh_4'] #names for interpenetration columns\n",
    "Y_DATA_PATH = '/data/rgur/efrc/data_DONOTTOUCH/hMOF_allData_March25_2013.xlsx' #path to original hMOF data\n",
    "default_params = {'objective':'reg:linear', 'colsample_bytree':0.3, 'learning_rate':0.1,\n",
    "                'max_depth':15, 'alpha':10, 'n_estimators':10}\n",
    "n_trees = 50 #number of weak learners. Bigger is better until 5000\n",
    "save_pp = False #make True if you want to save the parity plot\n",
    "#########################################################################"
   ]
  },
  {
   "cell_type": "markdown",
   "metadata": {},
   "source": [
    "# Steps before run"
   ]
  },
  {
   "cell_type": "code",
   "execution_count": 28,
   "metadata": {
    "scrolled": false
   },
   "outputs": [
    {
     "name": "stdout",
     "output_type": "stream",
     "text": [
      "\n",
      "\n",
      "Using following 440 features\n",
      "Mafp_Br1_C2_C1\n",
      "Mafp_Br1_C2_C2\n",
      "Mafp_Br1_C2_C3\n",
      "Mafp_Br1_C3_Br1\n",
      "Mafp_Br1_C3_C1\n",
      "Mafp_Br1_C3_C2\n",
      "Mafp_Br1_C3_C3\n",
      "Mafp_Br1_C3_C4\n",
      "Mafp_Br1_C3_N1\n",
      "Mafp_Br1_C3_N2\n",
      "Mafp_Br1_C3_N3\n",
      "Mafp_Br1_C3_O1\n",
      "Mafp_Br1_C4_Br1\n",
      "Mafp_Br1_C4_C2\n",
      "Mafp_Br1_C4_C3\n",
      "Mafp_Br1_C4_C4\n",
      "Mafp_Br1_C4_H1\n",
      "Mafp_Br1_C4_N1\n",
      "Mafp_Br1_C4_N2\n",
      "Mafp_Br1_C4_N3\n",
      "Mafp_Br1_C4_O1\n",
      "Mafp_Br1_C4_O2\n",
      "Mafp_Br1_N2_C2\n",
      "Mafp_Br1_N2_C3\n",
      "Mafp_Br1_N2_C4\n",
      "Mafp_Br1_N2_N1\n",
      "Mafp_Br1_N2_N2\n",
      "Mafp_Br1_N2_N3\n",
      "Mafp_Br1_N3_Br1\n",
      "Mafp_Br1_N3_C2\n",
      "Mafp_Br1_N3_C3\n",
      "Mafp_Br1_N3_H1\n",
      "Mafp_Br1_N3_N2\n",
      "Mafp_Br1_N3_O2\n",
      "Mafp_Br1_O2_C2\n",
      "Mafp_Br1_O2_C3\n",
      "Mafp_Br1_O2_C4\n",
      "Mafp_C1_C2_C2\n",
      "Mafp_C1_C2_C3\n",
      "Mafp_C1_C2_C4\n",
      "Mafp_C1_C2_F1\n",
      "Mafp_C1_C2_H1\n",
      "Mafp_C1_C2_O1\n",
      "Mafp_C1_C2_O2\n",
      "Mafp_C1_C3_C2\n",
      "Mafp_C1_C3_C3\n",
      "Mafp_C1_C3_C4\n",
      "Mafp_C1_C3_Cl1\n",
      "Mafp_C1_C3_F1\n",
      "Mafp_C1_C3_H1\n",
      "Mafp_C1_C3_N2\n",
      "Mafp_C1_C3_N3\n",
      "Mafp_C1_C3_O1\n",
      "Mafp_C1_C3_O2\n",
      "Mafp_C1_C4_C2\n",
      "Mafp_C1_C4_C3\n",
      "Mafp_C1_C4_C4\n",
      "Mafp_C1_C4_H1\n",
      "Mafp_C1_C4_O1\n",
      "Mafp_C1_C4_O2\n",
      "Mafp_C1_N2_C2\n",
      "Mafp_C1_N2_C3\n",
      "Mafp_C1_N2_N2\n",
      "Mafp_C1_N2_N3\n",
      "Mafp_C1_N3_C3\n",
      "Mafp_C1_N3_C4\n",
      "Mafp_C1_N3_N2\n",
      "Mafp_C1_N3_N3\n",
      "Mafp_C1_N3_O1\n",
      "Mafp_C1_O2_C3\n",
      "Mafp_C1_O2_C4\n",
      "Mafp_C2_C2_C2\n",
      "Mafp_C2_C2_C3\n",
      "Mafp_C2_C2_C4\n",
      "Mafp_C2_C2_Cl1\n",
      "Mafp_C2_C2_F1\n",
      "Mafp_C2_C2_H1\n",
      "Mafp_C2_C2_N1\n",
      "Mafp_C2_C2_N2\n",
      "Mafp_C2_C2_N3\n",
      "Mafp_C2_C2_O1\n",
      "Mafp_C2_C2_O2\n",
      "Mafp_C2_C3_C2\n",
      "Mafp_C2_C3_C3\n",
      "Mafp_C2_C3_C4\n",
      "Mafp_C2_C3_Cl1\n",
      "Mafp_C2_C3_F1\n",
      "Mafp_C2_C3_H1\n",
      "Mafp_C2_C3_N1\n",
      "Mafp_C2_C3_N2\n",
      "Mafp_C2_C3_N3\n",
      "Mafp_C2_C3_O1\n",
      "Mafp_C2_C3_O2\n",
      "Mafp_C2_C4_C2\n",
      "Mafp_C2_C4_C3\n",
      "Mafp_C2_C4_C4\n",
      "Mafp_C2_C4_Cl1\n",
      "Mafp_C2_C4_F1\n",
      "Mafp_C2_C4_H1\n",
      "Mafp_C2_C4_N2\n",
      "Mafp_C2_C4_N3\n",
      "Mafp_C2_C4_O1\n",
      "Mafp_C2_C4_O2\n",
      "Mafp_C2_N2_C2\n",
      "Mafp_C2_N2_C3\n",
      "Mafp_C2_N2_C4\n",
      "Mafp_C2_N2_Cl1\n",
      "Mafp_C2_N2_F1\n",
      "Mafp_C2_N2_H1\n",
      "Mafp_C2_N2_N1\n",
      "Mafp_C2_N2_N2\n",
      "Mafp_C2_N2_N3\n",
      "Mafp_C2_N2_O1\n",
      "Mafp_C2_N2_O2\n",
      "Mafp_C2_N3_C2\n",
      "Mafp_C2_N3_C3\n",
      "Mafp_C2_N3_C4\n",
      "Mafp_C2_N3_F1\n",
      "Mafp_C2_N3_H1\n",
      "Mafp_C2_N3_N2\n",
      "Mafp_C2_N3_N3\n",
      "Mafp_C2_N3_O1\n",
      "Mafp_C2_N3_O2\n",
      "Mafp_C2_O2_C2\n",
      "Mafp_C2_O2_C3\n",
      "Mafp_C2_O2_C4\n",
      "Mafp_C2_O2_Cl1\n",
      "Mafp_C2_O2_H1\n",
      "Mafp_C2_O2_N2\n",
      "Mafp_C2_O2_N3\n",
      "Mafp_C3_C2_C3\n",
      "Mafp_C3_C2_C4\n",
      "Mafp_C3_C2_Cl1\n",
      "Mafp_C3_C2_F1\n",
      "Mafp_C3_C2_H1\n",
      "Mafp_C3_C2_N1\n",
      "Mafp_C3_C2_N2\n",
      "Mafp_C3_C2_N3\n",
      "Mafp_C3_C2_O1\n",
      "Mafp_C3_C2_O2\n",
      "Mafp_C3_C3_C3\n",
      "Mafp_C3_C3_C4\n",
      "Mafp_C3_C3_Cl1\n",
      "Mafp_C3_C3_F1\n",
      "Mafp_C3_C3_H1\n",
      "Mafp_C3_C3_N1\n",
      "Mafp_C3_C3_N2\n",
      "Mafp_C3_C3_N3\n",
      "Mafp_C3_C3_O1\n",
      "Mafp_C3_C3_O2\n",
      "Mafp_C3_C4_C3\n",
      "Mafp_C3_C4_C4\n",
      "Mafp_C3_C4_Cl1\n",
      "Mafp_C3_C4_F1\n",
      "Mafp_C3_C4_H1\n",
      "Mafp_C3_C4_N1\n",
      "Mafp_C3_C4_N2\n",
      "Mafp_C3_C4_N3\n",
      "Mafp_C3_C4_O1\n",
      "Mafp_C3_C4_O2\n",
      "Mafp_C3_N2_C3\n",
      "Mafp_C3_N2_C4\n",
      "Mafp_C3_N2_Cl1\n",
      "Mafp_C3_N2_F1\n",
      "Mafp_C3_N2_H1\n",
      "Mafp_C3_N2_N1\n",
      "Mafp_C3_N2_N2\n",
      "Mafp_C3_N2_N3\n",
      "Mafp_C3_N2_O1\n",
      "Mafp_C3_N2_O2\n",
      "Mafp_C3_N3_C3\n",
      "Mafp_C3_N3_C4\n",
      "Mafp_C3_N3_Cl1\n",
      "Mafp_C3_N3_F1\n",
      "Mafp_C3_N3_H1\n",
      "Mafp_C3_N3_N1\n",
      "Mafp_C3_N3_N2\n",
      "Mafp_C3_N3_N3\n",
      "Mafp_C3_N3_O2\n",
      "Mafp_C3_O2_C3\n",
      "Mafp_C3_O2_C4\n",
      "Mafp_C3_O2_Cl1\n",
      "Mafp_C3_O2_F1\n",
      "Mafp_C3_O2_H1\n",
      "Mafp_C3_O2_N2\n",
      "Mafp_C3_O2_N3\n",
      "Mafp_C3_O2_O1\n",
      "Mafp_C3_O2_O2\n",
      "Mafp_C4_C2_C4\n",
      "Mafp_C4_C2_H1\n",
      "Mafp_C4_C2_N1\n",
      "Mafp_C4_C2_N2\n",
      "Mafp_C4_C2_N3\n",
      "Mafp_C4_C2_O1\n",
      "Mafp_C4_C2_O2\n",
      "Mafp_C4_C3_C4\n",
      "Mafp_C4_C3_Cl1\n",
      "Mafp_C4_C3_F1\n",
      "Mafp_C4_C3_H1\n",
      "Mafp_C4_C3_N1\n",
      "Mafp_C4_C3_N2\n",
      "Mafp_C4_C3_N3\n",
      "Mafp_C4_C3_O1\n",
      "Mafp_C4_C3_O2\n",
      "Mafp_C4_C4_C4\n",
      "Mafp_C4_C4_Cl1\n",
      "Mafp_C4_C4_F1\n",
      "Mafp_C4_C4_H1\n",
      "Mafp_C4_C4_N1\n",
      "Mafp_C4_C4_N2\n",
      "Mafp_C4_C4_N3\n",
      "Mafp_C4_C4_O1\n",
      "Mafp_C4_C4_O2\n",
      "Mafp_C4_N2_C4\n",
      "Mafp_C4_N2_H1\n",
      "Mafp_C4_N2_N1\n",
      "Mafp_C4_N2_N2\n",
      "Mafp_C4_N2_N3\n",
      "Mafp_C4_N2_O1\n",
      "Mafp_C4_N3_C4\n",
      "Mafp_C4_N3_F1\n",
      "Mafp_C4_N3_H1\n",
      "Mafp_C4_N3_N1\n",
      "Mafp_C4_N3_N2\n",
      "Mafp_C4_N3_N3\n",
      "Mafp_C4_N3_O1\n",
      "Mafp_C4_N3_O2\n",
      "Mafp_C4_O2_C4\n",
      "Mafp_C4_O2_Cl1\n",
      "Mafp_C4_O2_F1\n",
      "Mafp_C4_O2_H1\n",
      "Mafp_C4_O2_N2\n",
      "Mafp_C4_O2_N3\n",
      "Mafp_C4_O2_O1\n",
      "Mafp_C4_O2_O2\n",
      "Mafp_Cl1_C3_Cl1\n",
      "Mafp_Cl1_C3_H1\n",
      "Mafp_Cl1_C3_N1\n",
      "Mafp_Cl1_C3_N2\n",
      "Mafp_Cl1_C3_N3\n",
      "Mafp_Cl1_C3_O1\n",
      "Mafp_Cl1_C4_Cl1\n",
      "Mafp_Cl1_C4_H1\n",
      "Mafp_Cl1_C4_N2\n",
      "Mafp_Cl1_C4_N3\n",
      "Mafp_Cl1_C4_O1\n",
      "Mafp_Cl1_C4_O2\n",
      "Mafp_Cl1_N2_N1\n",
      "Mafp_Cl1_N2_N2\n",
      "Mafp_Cl1_N3_Cl1\n",
      "Mafp_Cl1_N3_H1\n",
      "Mafp_Cl1_N3_N2\n",
      "Mafp_F1_C3_F1\n",
      "Mafp_F1_C3_N1\n",
      "Mafp_F1_C3_N2\n",
      "Mafp_F1_C3_N3\n",
      "Mafp_F1_C3_O1\n",
      "Mafp_F1_C3_O2\n",
      "Mafp_F1_C4_F1\n",
      "Mafp_F1_C4_H1\n",
      "Mafp_F1_C4_N2\n",
      "Mafp_F1_C4_N3\n",
      "Mafp_F1_C4_O1\n",
      "Mafp_F1_C4_O2\n",
      "Mafp_F1_N2_N2\n",
      "Mafp_F1_N3_F1\n",
      "Mafp_F1_N3_H1\n",
      "Mafp_F1_N3_N1\n",
      "Mafp_F1_N3_N2\n",
      "Mafp_F1_N3_N3\n",
      "Mafp_H1_C2_H1\n",
      "Mafp_H1_C2_N1\n",
      "Mafp_H1_C2_N2\n",
      "Mafp_H1_C2_N3\n",
      "Mafp_H1_C2_O1\n",
      "Mafp_H1_C2_O2\n",
      "Mafp_H1_C3_H1\n",
      "Mafp_H1_C3_N1\n",
      "Mafp_H1_C3_N2\n",
      "Mafp_H1_C3_N3\n",
      "Mafp_H1_C3_O1\n",
      "Mafp_H1_C3_O2\n",
      "Mafp_H1_C4_H1\n",
      "Mafp_H1_C4_N2\n",
      "Mafp_H1_C4_N3\n",
      "Mafp_H1_C4_O1\n",
      "Mafp_H1_C4_O2\n",
      "Mafp_H1_N2_H1\n",
      "Mafp_H1_N2_N1\n",
      "Mafp_H1_N2_N2\n",
      "Mafp_H1_N2_N3\n",
      "Mafp_H1_N3_H1\n",
      "Mafp_H1_N3_N1\n",
      "Mafp_H1_N3_N2\n",
      "Mafp_H1_N3_N3\n",
      "Mafp_H1_N3_O2\n",
      "Mafp_H1_O2_H1\n",
      "Mafp_H1_O2_N2\n",
      "Mafp_H1_O2_O1\n",
      "Mafp_H1_O2_O2\n",
      "Mafp_N1_C2_N2\n",
      "Mafp_N1_C2_N3\n",
      "Mafp_N1_C2_O2\n",
      "Mafp_N1_C3_N2\n",
      "Mafp_N1_C3_N3\n",
      "Mafp_N1_C3_O1\n",
      "Mafp_N1_C3_O2\n",
      "Mafp_N1_C4_N2\n",
      "Mafp_N1_C4_N3\n",
      "Mafp_N1_C4_O2\n",
      "Mafp_N1_N2_N3\n",
      "Mafp_N1_N3_N2\n",
      "Mafp_N1_N3_N3\n",
      "Mafp_N2_C2_N2\n",
      "Mafp_N2_C2_N3\n",
      "Mafp_N2_C2_O2\n",
      "Mafp_N2_C3_N2\n",
      "Mafp_N2_C3_N3\n",
      "Mafp_N2_C3_O1\n",
      "Mafp_N2_C3_O2\n",
      "Mafp_N2_C4_N2\n",
      "Mafp_N2_C4_N3\n",
      "Mafp_N2_C4_O1\n",
      "Mafp_N2_C4_O2\n",
      "Mafp_N2_N2_N2\n",
      "Mafp_N2_N2_N3\n",
      "Mafp_N2_N2_O2\n",
      "Mafp_N2_N3_N2\n",
      "Mafp_N2_N3_N3\n",
      "Mafp_N2_N3_O2\n",
      "Mafp_N2_O2_N3\n",
      "Mafp_N3_C2_O1\n",
      "Mafp_N3_C3_N3\n",
      "Mafp_N3_C3_O1\n",
      "Mafp_N3_C3_O2\n",
      "Mafp_N3_C4_N3\n",
      "Mafp_N3_C4_O1\n",
      "Mafp_N3_C4_O2\n",
      "Mafp_N3_N2_N3\n",
      "Mafp_N3_N2_O1\n",
      "Mafp_N3_N2_O2\n",
      "Mafp_N3_N3_N3\n",
      "Mafp_N3_N3_O1\n",
      "Mafp_N3_N3_O2\n",
      "Mafp_N3_O2_N3\n",
      "Mafp_O1_C2_O1\n",
      "Mafp_O1_C2_O2\n",
      "Mafp_O1_C3_O1\n",
      "Mafp_O1_C3_O2\n",
      "Mafp_O1_C4_O1\n",
      "Mafp_O1_C4_O2\n",
      "Mafp_O1_N3_O2\n",
      "Mafp_O2_C2_O2\n",
      "Mafp_O2_C3_O2\n",
      "Mafp_O2_C4_O2\n",
      "Mafp_O2_N3_O2\n",
      "Mefp_fam_acrylate\n",
      "Mefp_fam_carbonateester\n",
      "Mefp_fam_ketone\n",
      "Mefp_fam_polyamides\n",
      "Mefp_fam_single\n",
      "Mefp_norm_mol_wt\n",
      "Mefp_numatoms_none_H\n",
      "Mefp_ring\n",
      "Mmfp_Chi0n\n",
      "Mmfp_Chi0v\n",
      "Mmfp_Chi1n\n",
      "Mmfp_Chi1v\n",
      "Mmfp_Chi2n\n",
      "Mmfp_Chi2v\n",
      "Mmfp_HallKierAlpha\n",
      "Mmfp_MQNs13\n",
      "Mmfp_MQNs14\n",
      "Mmfp_MQNs15\n",
      "Mmfp_MQNs16\n",
      "Mmfp_MQNs17\n",
      "Mmfp_MQNs18\n",
      "Mmfp_MQNs19\n",
      "Mmfp_MQNs20\n",
      "Mmfp_MQNs21\n",
      "Mmfp_MQNs22\n",
      "Mmfp_MQNs23\n",
      "Mmfp_MQNs24\n",
      "Mmfp_MQNs25\n",
      "Mmfp_MQNs26\n",
      "Mmfp_MQNs27\n",
      "Mmfp_MQNs28\n",
      "Mmfp_MQNs29\n",
      "Mmfp_MQNs30\n",
      "Mmfp_MQNs31\n",
      "Mmfp_MQNs32\n",
      "Mmfp_MQNs33\n",
      "Mmfp_MQNs34\n",
      "Mmfp_MQNs35\n",
      "Mmfp_MQNs36\n",
      "Mmfp_MQNs37\n",
      "Mmfp_MQNs38\n",
      "Mmfp_MQNs39\n",
      "Mmfp_MQNs40\n",
      "Mmfp_MQNs41\n",
      "Mmfp_MQNs42\n",
      "Mmfp_NumAliphaticRings\n",
      "Mmfp_NumAromaticRings\n",
      "Mmfp_tpsa\n",
      "norm_valence_pa\n",
      "norm_atomic_rad_pa_(angstroms)\n",
      "norm_affinity_pa_(eV)\n",
      "norm_ionization_potential_pa_(eV)\n",
      "norm_electronegativity_pa\n",
      "norm_Dom._Pore_(ang.)\n",
      "norm_Max._Pore_(ang.)\n",
      "norm_Void_Fraction\n",
      "norm_Surf._Area_(m2/g)\n",
      "norm_Vol._Surf._Area\n",
      "norm_Density\n",
      "oh_1\n",
      "oh_2\n",
      "oh_3\n",
      "oh_4\n",
      "norm_log_pressure\n",
      "size_0\n",
      "size_1\n",
      "size_2\n",
      "size_3\n",
      "size_4\n",
      "size_5\n",
      "size_6\n",
      "size_7\n",
      "size_8\n",
      "size_9\n",
      "size_10\n",
      "size_11\n",
      "size_12\n",
      "size_13\n",
      "size_14\n",
      "size_15\n",
      "size_16\n",
      "size_17\n",
      "size_18\n",
      "size_19\n",
      "Starting To Make Linker Size Columns\n",
      "Starting to sort Linker Size Columns\n",
      "Finished Making Linker Size Columns\n",
      "The following columns have been dropped: []\n"
     ]
    }
   ],
   "source": [
    "if not stacked:\n",
    "    ml_data, property_used, target_mean, target_std, features = ml.prepToSplit(algo, cat_si_sd, SD_ML_DATA_PATH, \n",
    "                                            SI_ML_DATA_PATH, start_str_sd, end_str_sd, start_str_si, end_str_si, \n",
    "                                            total_frac, del_defective_mofs, add_size_fp, srt_size_fp, size_dependent, stacked, n_core, \n",
    "                                            del_geometric_fp, cat_col_names, Y_DATA_PATH)\n",
    "if stacked:\n",
    "    ml_data, property_used, target_mean, target_std, features, p_info = ml.prepToSplit(algo, cat_si_sd, SD_ML_DATA_PATH, \n",
    "                                            SI_ML_DATA_PATH, start_str_sd, end_str_sd, start_str_si, end_str_si, \n",
    "                                            total_frac, del_defective_mofs, add_size_fp, srt_size_fp, size_dependent, stacked, n_core, \n",
    "                                            del_geometric_fp, cat_col_names, Y_DATA_PATH)"
   ]
  },
  {
   "cell_type": "code",
   "execution_count": 29,
   "metadata": {},
   "outputs": [
    {
     "data": {
      "text/html": [
       "<div>\n",
       "<style scoped>\n",
       "    .dataframe tbody tr th:only-of-type {\n",
       "        vertical-align: middle;\n",
       "    }\n",
       "\n",
       "    .dataframe tbody tr th {\n",
       "        vertical-align: top;\n",
       "    }\n",
       "\n",
       "    .dataframe thead th {\n",
       "        text-align: right;\n",
       "    }\n",
       "</style>\n",
       "<table border=\"1\" class=\"dataframe\">\n",
       "  <thead>\n",
       "    <tr style=\"text-align: right;\">\n",
       "      <th></th>\n",
       "      <th>size_16</th>\n",
       "      <th>size_17</th>\n",
       "      <th>size_18</th>\n",
       "      <th>size_19</th>\n",
       "      <th>size_1</th>\n",
       "      <th>size_2</th>\n",
       "      <th>size_3</th>\n",
       "      <th>size_4</th>\n",
       "      <th>size_5</th>\n",
       "      <th>size_6</th>\n",
       "      <th>size_7</th>\n",
       "      <th>size_8</th>\n",
       "      <th>size_9</th>\n",
       "      <th>norm_vol_uptake</th>\n",
       "      <th>oh_1</th>\n",
       "      <th>oh_2</th>\n",
       "      <th>oh_3</th>\n",
       "      <th>oh_4</th>\n",
       "      <th>log_pressure</th>\n",
       "      <th>norm_log_pressure</th>\n",
       "    </tr>\n",
       "  </thead>\n",
       "  <tbody>\n",
       "    <tr>\n",
       "      <th>0</th>\n",
       "      <td>-0.05004</td>\n",
       "      <td>-0.049703</td>\n",
       "      <td>-0.044044</td>\n",
       "      <td>-0.043852</td>\n",
       "      <td>-0.010455</td>\n",
       "      <td>0.183910</td>\n",
       "      <td>-0.682753</td>\n",
       "      <td>-0.616519</td>\n",
       "      <td>-0.594647</td>\n",
       "      <td>-0.351888</td>\n",
       "      <td>-0.32897</td>\n",
       "      <td>-0.291659</td>\n",
       "      <td>-0.165357</td>\n",
       "      <td>-1.218399</td>\n",
       "      <td>1</td>\n",
       "      <td>0</td>\n",
       "      <td>0</td>\n",
       "      <td>0</td>\n",
       "      <td>0.000000</td>\n",
       "      <td>-1.568109</td>\n",
       "    </tr>\n",
       "    <tr>\n",
       "      <th>1</th>\n",
       "      <td>-0.05004</td>\n",
       "      <td>-0.049703</td>\n",
       "      <td>-0.044044</td>\n",
       "      <td>-0.043852</td>\n",
       "      <td>-0.866180</td>\n",
       "      <td>-0.489178</td>\n",
       "      <td>-0.682753</td>\n",
       "      <td>-0.616519</td>\n",
       "      <td>-0.594647</td>\n",
       "      <td>-0.351888</td>\n",
       "      <td>-0.32897</td>\n",
       "      <td>-0.291659</td>\n",
       "      <td>-0.165357</td>\n",
       "      <td>0.751626</td>\n",
       "      <td>1</td>\n",
       "      <td>0</td>\n",
       "      <td>0</td>\n",
       "      <td>0</td>\n",
       "      <td>4.605170</td>\n",
       "      <td>0.808183</td>\n",
       "    </tr>\n",
       "    <tr>\n",
       "      <th>2</th>\n",
       "      <td>-0.05004</td>\n",
       "      <td>-0.049703</td>\n",
       "      <td>-0.044044</td>\n",
       "      <td>-0.043852</td>\n",
       "      <td>-0.580938</td>\n",
       "      <td>-1.162265</td>\n",
       "      <td>-0.682753</td>\n",
       "      <td>-0.616519</td>\n",
       "      <td>-0.594647</td>\n",
       "      <td>-0.351888</td>\n",
       "      <td>-0.32897</td>\n",
       "      <td>-0.291659</td>\n",
       "      <td>-0.165357</td>\n",
       "      <td>-0.357497</td>\n",
       "      <td>1</td>\n",
       "      <td>0</td>\n",
       "      <td>0</td>\n",
       "      <td>0</td>\n",
       "      <td>1.757858</td>\n",
       "      <td>-0.661045</td>\n",
       "    </tr>\n",
       "    <tr>\n",
       "      <th>3</th>\n",
       "      <td>-0.05004</td>\n",
       "      <td>-0.049703</td>\n",
       "      <td>-0.044044</td>\n",
       "      <td>-0.043852</td>\n",
       "      <td>0.940351</td>\n",
       "      <td>-0.825722</td>\n",
       "      <td>-0.682753</td>\n",
       "      <td>-0.616519</td>\n",
       "      <td>-0.594647</td>\n",
       "      <td>-0.351888</td>\n",
       "      <td>-0.32897</td>\n",
       "      <td>-0.291659</td>\n",
       "      <td>-0.165357</td>\n",
       "      <td>1.018059</td>\n",
       "      <td>1</td>\n",
       "      <td>0</td>\n",
       "      <td>0</td>\n",
       "      <td>0</td>\n",
       "      <td>4.605170</td>\n",
       "      <td>0.808183</td>\n",
       "    </tr>\n",
       "    <tr>\n",
       "      <th>4</th>\n",
       "      <td>-0.05004</td>\n",
       "      <td>-0.049703</td>\n",
       "      <td>-0.044044</td>\n",
       "      <td>-0.043852</td>\n",
       "      <td>-0.343237</td>\n",
       "      <td>0.127819</td>\n",
       "      <td>0.695720</td>\n",
       "      <td>0.666837</td>\n",
       "      <td>0.709362</td>\n",
       "      <td>-0.351888</td>\n",
       "      <td>-0.32897</td>\n",
       "      <td>-0.291659</td>\n",
       "      <td>-0.165357</td>\n",
       "      <td>-1.256224</td>\n",
       "      <td>0</td>\n",
       "      <td>1</td>\n",
       "      <td>0</td>\n",
       "      <td>0</td>\n",
       "      <td>0.000000</td>\n",
       "      <td>-1.568109</td>\n",
       "    </tr>\n",
       "  </tbody>\n",
       "</table>\n",
       "</div>"
      ],
      "text/plain": [
       "   size_16   size_17   size_18   size_19    size_1    size_2    size_3  \\\n",
       "0 -0.05004 -0.049703 -0.044044 -0.043852 -0.010455  0.183910 -0.682753   \n",
       "1 -0.05004 -0.049703 -0.044044 -0.043852 -0.866180 -0.489178 -0.682753   \n",
       "2 -0.05004 -0.049703 -0.044044 -0.043852 -0.580938 -1.162265 -0.682753   \n",
       "3 -0.05004 -0.049703 -0.044044 -0.043852  0.940351 -0.825722 -0.682753   \n",
       "4 -0.05004 -0.049703 -0.044044 -0.043852 -0.343237  0.127819  0.695720   \n",
       "\n",
       "     size_4    size_5    size_6   size_7    size_8    size_9  norm_vol_uptake  \\\n",
       "0 -0.616519 -0.594647 -0.351888 -0.32897 -0.291659 -0.165357        -1.218399   \n",
       "1 -0.616519 -0.594647 -0.351888 -0.32897 -0.291659 -0.165357         0.751626   \n",
       "2 -0.616519 -0.594647 -0.351888 -0.32897 -0.291659 -0.165357        -0.357497   \n",
       "3 -0.616519 -0.594647 -0.351888 -0.32897 -0.291659 -0.165357         1.018059   \n",
       "4  0.666837  0.709362 -0.351888 -0.32897 -0.291659 -0.165357        -1.256224   \n",
       "\n",
       "   oh_1  oh_2  oh_3  oh_4  log_pressure  norm_log_pressure  \n",
       "0     1     0     0     0      0.000000          -1.568109  \n",
       "1     1     0     0     0      4.605170           0.808183  \n",
       "2     1     0     0     0      1.757858          -0.661045  \n",
       "3     1     0     0     0      4.605170           0.808183  \n",
       "4     0     1     0     0      0.000000          -1.568109  "
      ]
     },
     "execution_count": 29,
     "metadata": {},
     "output_type": "execute_result"
    }
   ],
   "source": [
    "ml_data.head().iloc[:, -20:]"
   ]
  },
  {
   "cell_type": "code",
   "execution_count": 30,
   "metadata": {
    "scrolled": true
   },
   "outputs": [
    {
     "name": "stdout",
     "output_type": "stream",
     "text": [
      "Total len of test_df + train_df: 53343\n"
     ]
    }
   ],
   "source": [
    "train_df, test_df= ml.trainTestSplit(ml_data, property_used, training_pct, stacked, \n",
    "                                     n_core, random_split, n_remote, features, USE_PCA, N_COMPONENTS)"
   ]
  },
  {
   "cell_type": "code",
   "execution_count": 31,
   "metadata": {},
   "outputs": [],
   "source": [
    "if algo == 'xgb':\n",
    "    train_d, test_d, train_label, test_label = ml.alter_dtype(train_df, test_df, property_used, n_core, algo, features)\n",
    "else:\n",
    "    train_d, test_d, train_label, test_label = ml.alter_dtype(train_df, test_df, property_used, n_core, algo, features)"
   ]
  },
  {
   "cell_type": "code",
   "execution_count": 32,
   "metadata": {},
   "outputs": [
    {
     "data": {
      "text/plain": [
       "53343"
      ]
     },
     "execution_count": 32,
     "metadata": {},
     "output_type": "execute_result"
    }
   ],
   "source": [
    "len(train_label) + len(test_label)"
   ]
  },
  {
   "cell_type": "markdown",
   "metadata": {},
   "source": [
    "# Run Single Model"
   ]
  },
  {
   "cell_type": "markdown",
   "metadata": {},
   "source": [
    "Good parameters"
   ]
  },
  {
   "cell_type": "code",
   "execution_count": 33,
   "metadata": {},
   "outputs": [
    {
     "name": "stdout",
     "output_type": "stream",
     "text": [
      "Train on 29852 samples, validate on 7463 samples\n",
      "Epoch 1/1000\n",
      "29504/29852 [============================>.] - ETA: 0s - loss: 0.0665 - mae: 0.1593 - mse: 0.0665\n",
      "Epoch 00001: val_loss improved from inf to 0.02933, saving model to model_checkpoint.h5\n",
      "\n",
      "Epoch: 0, loss:0.0660,  mae:0.1589,  mse:0.0660,  val_loss:0.0293,  val_mae:0.1126,  val_mse:0.0293,  \n",
      "29852/29852 [==============================] - 3s 112us/sample - loss: 0.0660 - mae: 0.1589 - mse: 0.0660 - val_loss: 0.0293 - val_mae: 0.1126 - val_mse: 0.0293\n",
      "Epoch 2/1000\n",
      "29824/29852 [============================>.] - ETA: 0s - loss: 0.0256 - mae: 0.1066 - mse: 0.0256\n",
      "Epoch 00002: val_loss improved from 0.02933 to 0.02577, saving model to model_checkpoint.h5\n",
      "29852/29852 [==============================] - 3s 108us/sample - loss: 0.0256 - mae: 0.1066 - mse: 0.0256 - val_loss: 0.0258 - val_mae: 0.1090 - val_mse: 0.0258\n",
      "Epoch 3/1000\n",
      "29568/29852 [============================>.] - ETA: 0s - loss: 0.0225 - mae: 0.1001 - mse: 0.0225\n",
      "Epoch 00003: val_loss improved from 0.02577 to 0.02114, saving model to model_checkpoint.h5\n",
      "29852/29852 [==============================] - 3s 103us/sample - loss: 0.0225 - mae: 0.1003 - mse: 0.0225 - val_loss: 0.0211 - val_mae: 0.0954 - val_mse: 0.0211\n",
      "Epoch 4/1000\n",
      "29824/29852 [============================>.] - ETA: 0s - loss: 0.0208 - mae: 0.0972 - mse: 0.0208\n",
      "Epoch 00004: val_loss improved from 0.02114 to 0.01975, saving model to model_checkpoint.h5\n",
      "29852/29852 [==============================] - 3s 98us/sample - loss: 0.0208 - mae: 0.0972 - mse: 0.0208 - val_loss: 0.0198 - val_mae: 0.0923 - val_mse: 0.0198\n",
      "Epoch 5/1000\n",
      "29504/29852 [============================>.] - ETA: 0s - loss: 0.0204 - mae: 0.0951 - mse: 0.0204\n",
      "Epoch 00005: val_loss improved from 0.01975 to 0.01822, saving model to model_checkpoint.h5\n",
      "29852/29852 [==============================] - 3s 102us/sample - loss: 0.0204 - mae: 0.0951 - mse: 0.0204 - val_loss: 0.0182 - val_mae: 0.0884 - val_mse: 0.0182\n",
      "Epoch 6/1000\n",
      "29760/29852 [============================>.] - ETA: 0s - loss: 0.0190 - mae: 0.0921 - mse: 0.0190\n",
      "Epoch 00006: val_loss did not improve from 0.01822\n",
      "29852/29852 [==============================] - 3s 103us/sample - loss: 0.0190 - mae: 0.0920 - mse: 0.0190 - val_loss: 0.0240 - val_mae: 0.0884 - val_mse: 0.0240\n",
      "Epoch 7/1000\n",
      "29344/29852 [============================>.] - ETA: 0s - loss: 0.0181 - mae: 0.0909 - mse: 0.0181\n",
      "Epoch 00007: val_loss improved from 0.01822 to 0.01743, saving model to model_checkpoint.h5\n",
      "29852/29852 [==============================] - 3s 97us/sample - loss: 0.0182 - mae: 0.0909 - mse: 0.0182 - val_loss: 0.0174 - val_mae: 0.0922 - val_mse: 0.0174\n",
      "Epoch 8/1000\n",
      "29824/29852 [============================>.] - ETA: 0s - loss: 0.0174 - mae: 0.0885 - mse: 0.0174\n",
      "Epoch 00008: val_loss improved from 0.01743 to 0.01597, saving model to model_checkpoint.h5\n",
      "29852/29852 [==============================] - 3s 99us/sample - loss: 0.0173 - mae: 0.0885 - mse: 0.0173 - val_loss: 0.0160 - val_mae: 0.0848 - val_mse: 0.0160\n",
      "Epoch 9/1000\n",
      "29728/29852 [============================>.] - ETA: 0s - loss: 0.0161 - mae: 0.0866 - mse: 0.0161\n",
      "Epoch 00009: val_loss did not improve from 0.01597\n",
      "29852/29852 [==============================] - 3s 110us/sample - loss: 0.0161 - mae: 0.0866 - mse: 0.0161 - val_loss: 0.0181 - val_mae: 0.1016 - val_mse: 0.0181\n",
      "Epoch 10/1000\n",
      "29600/29852 [============================>.] - ETA: 0s - loss: 0.0153 - mae: 0.0850 - mse: 0.0153\n",
      "Epoch 00010: val_loss did not improve from 0.01597\n",
      "29852/29852 [==============================] - 3s 97us/sample - loss: 0.0155 - mae: 0.0850 - mse: 0.0155 - val_loss: 0.0161 - val_mae: 0.0912 - val_mse: 0.0161\n",
      "Epoch 11/1000\n",
      "29824/29852 [============================>.] - ETA: 0s - loss: 0.0165 - mae: 0.0856 - mse: 0.0165\n",
      "Epoch 00011: val_loss improved from 0.01597 to 0.01589, saving model to model_checkpoint.h5\n",
      "29852/29852 [==============================] - 3s 115us/sample - loss: 0.0165 - mae: 0.0856 - mse: 0.0165 - val_loss: 0.0159 - val_mae: 0.0874 - val_mse: 0.0159\n",
      "Epoch 12/1000\n",
      "29472/29852 [============================>.] - ETA: 0s - loss: 0.0151 - mae: 0.0828 - mse: 0.0151\n",
      "Epoch 00012: val_loss improved from 0.01589 to 0.01475, saving model to model_checkpoint.h5\n",
      "29852/29852 [==============================] - 3s 108us/sample - loss: 0.0151 - mae: 0.0828 - mse: 0.0151 - val_loss: 0.0148 - val_mae: 0.0829 - val_mse: 0.0148\n",
      "Epoch 13/1000\n",
      "29792/29852 [============================>.] - ETA: 0s - loss: 0.0139 - mae: 0.0802 - mse: 0.0139\n",
      "Epoch 00013: val_loss improved from 0.01475 to 0.01396, saving model to model_checkpoint.h5\n",
      "29852/29852 [==============================] - 3s 103us/sample - loss: 0.0139 - mae: 0.0802 - mse: 0.0139 - val_loss: 0.0140 - val_mae: 0.0833 - val_mse: 0.0140\n",
      "Epoch 14/1000\n",
      "29376/29852 [============================>.] - ETA: 0s - loss: 0.0137 - mae: 0.0801 - mse: 0.0137\n",
      "Epoch 00014: val_loss did not improve from 0.01396\n",
      "29852/29852 [==============================] - 3s 90us/sample - loss: 0.0136 - mae: 0.0799 - mse: 0.0136 - val_loss: 0.0150 - val_mae: 0.0860 - val_mse: 0.0150\n",
      "Epoch 15/1000\n",
      "29632/29852 [============================>.] - ETA: 0s - loss: 0.0138 - mae: 0.0789 - mse: 0.0138\n",
      "Epoch 00015: val_loss did not improve from 0.01396\n",
      "29852/29852 [==============================] - 3s 99us/sample - loss: 0.0137 - mae: 0.0789 - mse: 0.0137 - val_loss: 0.0147 - val_mae: 0.0818 - val_mse: 0.0147\n",
      "Epoch 16/1000\n",
      "29248/29852 [============================>.] - ETA: 0s - loss: 0.0132 - mae: 0.0783 - mse: 0.0132\n",
      "Epoch 00016: val_loss did not improve from 0.01396\n",
      "29852/29852 [==============================] - 3s 91us/sample - loss: 0.0133 - mae: 0.0784 - mse: 0.0133 - val_loss: 0.0154 - val_mae: 0.0877 - val_mse: 0.0154\n",
      "Elapsed time during model training:  48.97671031951904\n",
      "Test RMSE is 10.813740636785287\n"
     ]
    },
    {
     "data": {
      "image/png": "[encoded data removed]",
      "text/plain": [
       "<Figure size 576x576 with 1 Axes>"
      ]
     },
     "metadata": {
      "needs_background": "light"
     },
     "output_type": "display_data"
    }
   ],
   "source": [
    "SAVE_FIG = False\n",
    "params = [100,\n",
    "       .001,\n",
    "       3]\n",
    "\n",
    "MODEL = ml.run_model(algo, train_d, n_trees, params)\n",
    "ml.parity_plot(MODEL, train_d, test_d, stacked, algo, target_mean, target_std, property_used, test_label, train_label, save=SAVE_FIG)"
   ]
  },
  {
   "cell_type": "code",
   "execution_count": null,
   "metadata": {},
   "outputs": [],
   "source": []
  },
  {
   "cell_type": "code",
   "execution_count": null,
   "metadata": {},
   "outputs": [],
   "source": []
  },
  {
   "cell_type": "code",
   "execution_count": 42,
   "metadata": {},
   "outputs": [
    {
     "data": {
      "text/plain": [
       "'07:05PM_on_April_11_2020'"
      ]
     },
     "execution_count": 42,
     "metadata": {},
     "output_type": "execute_result"
    }
   ],
   "source": [
    "now = datetime.datetime.now().strftime(\"%I:%M%p_on_%B_%d_%Y\")\n",
    "now"
   ]
  },
  {
   "cell_type": "code",
   "execution_count": null,
   "metadata": {},
   "outputs": [],
   "source": [
    "SAVE_FIG = True"
   ]
  },
  {
   "cell_type": "code",
   "execution_count": null,
   "metadata": {},
   "outputs": [],
   "source": [
    "ml.parity_plot(MODEL, train_d, test_d, stacked, algo, target_mean, target_std, property_used, test_label, train_label, save=SAVE_FIG, fname=now)"
   ]
  },
  {
   "cell_type": "code",
   "execution_count": null,
   "metadata": {},
   "outputs": [],
   "source": [
    "#only run below to save"
   ]
  },
  {
   "cell_type": "code",
   "execution_count": null,
   "metadata": {},
   "outputs": [],
   "source": [
    "if algo=='xgb':\n",
    "    MODEL.save_model('/data/rgur/efrc/ml/models/%s/%s.xgb' %(now, now))\n",
    "else:\n",
    "    MODEL.save('/data/rgur/efrc/ml/models/%s/%s.h5' %(now, now),save_format='h5')"
   ]
  },
  {
   "cell_type": "code",
   "execution_count": 85,
   "metadata": {},
   "outputs": [
    {
     "name": "stderr",
     "output_type": "stream",
     "text": [
      "/home/modules/anaconda3/lib/python3.7/site-packages/ipykernel_launcher.py:1: FutureWarning: The signature of `Series.to_csv` was aligned to that of `DataFrame.to_csv`, and argument 'header' will change its default value from False to True: please pass an explicit value to suppress this warning.\n",
      "  \"\"\"Entry point for launching an IPython kernel.\n"
     ]
    }
   ],
   "source": [
    "train_df['filename'].to_csv('/data/rgur/efrc/ml/models/%s/train_%s.csv' %(now, now))"
   ]
  },
  {
   "cell_type": "code",
   "execution_count": 86,
   "metadata": {},
   "outputs": [
    {
     "name": "stderr",
     "output_type": "stream",
     "text": [
      "/home/modules/anaconda3/lib/python3.7/site-packages/ipykernel_launcher.py:1: FutureWarning: The signature of `Series.to_csv` was aligned to that of `DataFrame.to_csv`, and argument 'header' will change its default value from False to True: please pass an explicit value to suppress this warning.\n",
      "  \"\"\"Entry point for launching an IPython kernel.\n"
     ]
    }
   ],
   "source": [
    "test_df['filename'].to_csv('/data/rgur/efrc/ml/models/%s/test_%s.csv' %(now, now))"
   ]
  },
  {
   "cell_type": "code",
   "execution_count": 87,
   "metadata": {},
   "outputs": [],
   "source": [
    "import pickle"
   ]
  },
  {
   "cell_type": "code",
   "execution_count": 88,
   "metadata": {},
   "outputs": [],
   "source": [
    "with open('/data/rgur/efrc/ml/models/%s/features_%s.pkl' %(now, now), 'wb') as f:\n",
    "    pickle.dump(features, f, protocol=3)"
   ]
  },
  {
   "cell_type": "markdown",
   "metadata": {},
   "source": [
    "# Get inds of defective MOFs and plot"
   ]
  },
  {
   "cell_type": "code",
   "execution_count": null,
   "metadata": {
    "scrolled": true
   },
   "outputs": [],
   "source": [
    "ml_data, property_used, target_mean, target_std = ml.prepToSplit(ML_DATA_PATH, start_str, end_str, total_frac, \n",
    "                                        del_defective_mofs, add_size_fp, size_dependent, stacked, n_core, \n",
    "                                        del_geometric_fp, cat_col_names, Y_DATA_PATH)"
   ]
  },
  {
   "cell_type": "code",
   "execution_count": null,
   "metadata": {},
   "outputs": [],
   "source": [
    "train_df, test_df = ml.trainTestSplit(ml_data, property_used, training_pct, stacked, n_core, random_split, n_remote)"
   ]
  },
  {
   "cell_type": "code",
   "execution_count": null,
   "metadata": {},
   "outputs": [],
   "source": [
    "check_cols = ['Dom._Pore_(ang.)',\n",
    "             'Max._Pore_(ang.)',\n",
    "             'Void_Fraction',\n",
    "             'Surf._Area_(m2/g)',\n",
    "             'Vol._Surf._Area',\n",
    "             'Density']\n",
    "to_drop = test_df[(test_df[check_cols].T == 0).any()].index"
   ]
  },
  {
   "cell_type": "code",
   "execution_count": null,
   "metadata": {},
   "outputs": [],
   "source": [
    "to_drop"
   ]
  },
  {
   "cell_type": "code",
   "execution_count": null,
   "metadata": {},
   "outputs": [],
   "source": [
    "train_d, test_d, train_label, test_label = ml.alter_dtype(train_df, test_df, property_used, n_core, algo)"
   ]
  },
  {
   "cell_type": "code",
   "execution_count": null,
   "metadata": {},
   "outputs": [],
   "source": [
    "len(train_label) + len(test_label)"
   ]
  },
  {
   "cell_type": "code",
   "execution_count": null,
   "metadata": {},
   "outputs": [],
   "source": [
    "params = {'objective': 'reg:linear',\n",
    "   'colsample_bytree': 0.5,\n",
    "   'learning_rate': 0.15,\n",
    "   'max_depth': 10,\n",
    "   'alpha': 2,\n",
    "   'n_estimators': 10}\n",
    "MODEL = ml.run_model(algo, n_trees, params)"
   ]
  },
  {
   "cell_type": "code",
   "execution_count": null,
   "metadata": {},
   "outputs": [],
   "source": [
    "now = datetime.datetime.now().strftime(\"%I:%M%p_on_%B_%d_%Y\")\n",
    "now"
   ]
  },
  {
   "cell_type": "code",
   "execution_count": null,
   "metadata": {},
   "outputs": [],
   "source": [
    "SAVE_FIG = False"
   ]
  },
  {
   "cell_type": "code",
   "execution_count": null,
   "metadata": {},
   "outputs": [],
   "source": [
    "ml.parity_plot(MODEL, stacked, algo, target_mean, target_std, property_used, \n",
    "               test_label, train_label, save=SAVE_FIG, fname=now, subset_inds=to_drop.tolist())"
   ]
  },
  {
   "cell_type": "code",
   "execution_count": null,
   "metadata": {},
   "outputs": [],
   "source": []
  },
  {
   "cell_type": "markdown",
   "metadata": {},
   "source": [
    "# Test functions"
   ]
  },
  {
   "cell_type": "code",
   "execution_count": null,
   "metadata": {},
   "outputs": [],
   "source": []
  }
 ],
 "metadata": {
  "kernelspec": {
   "display_name": "Python 3",
   "language": "python",
   "name": "python3"
  },
  "language_info": {
   "codemirror_mode": {
    "name": "ipython",
    "version": 3
   },
   "file_extension": ".py",
   "mimetype": "text/x-python",
   "name": "python",
   "nbconvert_exporter": "python",
   "pygments_lexer": "ipython3",
   "version": "3.7.3"
  }
 },
 "nbformat": 4,
 "nbformat_minor": 2
}
