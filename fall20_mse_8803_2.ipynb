{
 "cells": [
  {
   "cell_type": "code",
   "execution_count": null,
   "metadata": {},
   "outputs": [],
   "source": [
    "import rishi_utils as ru\n",
    "from rdkit import Chem\n",
    "import fall20_mse_8803 as retro\n",
    "import importlib\n",
    "from rdkit.Chem.Draw import IPythonConsole\n",
    "from rdkit.Chem import Draw\n",
    "importlib.reload(retro)\n",
    "importlib.reload(ru)\n",
    "import numpy as np\n",
    "import pickle"
   ]
  },
  {
   "cell_type": "code",
   "execution_count": null,
   "metadata": {},
   "outputs": [],
   "source": [
    "Chem.MolFromSmiles('Cc1sc2c(-c3sc(-c4cc5c(s4)-c4sc(-c6sc(-c7sc(-c8scc9c8OCCO9)c8sc(C)c(F)c78)c7c6OCCO7)cc4C5(C)C)c4c3OCCO4)scc2c1F')"
   ]
  },
  {
   "cell_type": "markdown",
   "metadata": {},
   "source": [
    "# Test is_symmetric2"
   ]
  },
  {
   "cell_type": "code",
   "execution_count": null,
   "metadata": {},
   "outputs": [],
   "source": [
    "Chem.Atom.GetProp"
   ]
  },
  {
   "cell_type": "code",
   "execution_count": null,
   "metadata": {},
   "outputs": [],
   "source": [
    "m.GetAtoms()[0].GetPropsAsDict()"
   ]
  },
  {
   "cell_type": "code",
   "execution_count": null,
   "metadata": {},
   "outputs": [],
   "source": [
    "m.GetAtoms()[0].GetProp('_GasteigerCharge')"
   ]
  },
  {
   "cell_type": "code",
   "execution_count": null,
   "metadata": {},
   "outputs": [],
   "source": [
    "m = Chem.MolFromSmiles('C1=C(C=CC2=C1C3C2CCC4C(CC3)CC5C(C4)C=CC(=C5)Br)Br')\n",
    "m"
   ]
  },
  {
   "cell_type": "code",
   "execution_count": null,
   "metadata": {},
   "outputs": [],
   "source": [
    "retro.is_symmetric2(m,'Br')"
   ]
  },
  {
   "cell_type": "code",
   "execution_count": null,
   "metadata": {},
   "outputs": [],
   "source": [
    "retro.is_symmetric2('C=C','C')"
   ]
  },
  {
   "cell_type": "code",
   "execution_count": null,
   "metadata": {},
   "outputs": [],
   "source": [
    "m2 = Chem.MolFromSmiles('C(C(CCCC1=CC=CC(=C1)Br)C)C2=CC(=CC=C2)Br')\n",
    "m2"
   ]
  },
  {
   "cell_type": "code",
   "execution_count": null,
   "metadata": {},
   "outputs": [],
   "source": [
    "retro.is_symmetric2(m2,'Br')"
   ]
  },
  {
   "cell_type": "code",
   "execution_count": null,
   "metadata": {},
   "outputs": [],
   "source": [
    "retro.is_symmetric2(m2,'Br')"
   ]
  },
  {
   "cell_type": "markdown",
   "metadata": {},
   "source": [
    "# ox_depolymerize scratch"
   ]
  },
  {
   "cell_type": "code",
   "execution_count": null,
   "metadata": {},
   "outputs": [],
   "source": [
    "mol = Chem.MolFromSmiles('*c1ccc(*)cc1')\n",
    "mol"
   ]
  },
  {
   "cell_type": "code",
   "execution_count": null,
   "metadata": {},
   "outputs": [],
   "source": [
    "mol.GetAtoms()[2].GetBonds()[0].GetBondTypeAsDouble()"
   ]
  },
  {
   "cell_type": "code",
   "execution_count": null,
   "metadata": {},
   "outputs": [],
   "source": [
    "lp = ru.LinearPol(mol)\n",
    "if retro.is_symmetric2(lp.mol,'*'):\n",
    "    bonds = lp.mol.GetAtoms()[max(lp.connector_inds)].GetBonds()\n",
    "    bond_types = np.array([b.GetBondTypeAsDouble() for b in bonds])\n",
    "    if any(bond_types > 1):\n",
    "        em = Chem.EditableMol(lp.mol)\n",
    "        em.RemoveAtom(max(lp.star_inds))\n",
    "        em.RemoveAtom(min(lp.star_inds))\n",
    "        try:\n",
    "            new_mol = em.GetMol()\n",
    "            Chem.SanitizeMol(new_mol)\n",
    "            #return new_mol\n",
    "        except:\n",
    "            print(None)\n",
    "            #return None\n",
    "    else:\n",
    "        print(None)\n",
    "        #return None\n",
    "else:\n",
    "    print(None)\n",
    "    #return None"
   ]
  },
  {
   "cell_type": "code",
   "execution_count": null,
   "metadata": {},
   "outputs": [],
   "source": [
    "Chem.SanitizeMol(new_mol)"
   ]
  },
  {
   "cell_type": "code",
   "execution_count": null,
   "metadata": {},
   "outputs": [],
   "source": [
    "mol.GetBonds()[6].GetBondTypeAsDouble()"
   ]
  },
  {
   "cell_type": "code",
   "execution_count": null,
   "metadata": {},
   "outputs": [],
   "source": [
    "mol.GetBonds()[6].GetBondType()"
   ]
  },
  {
   "cell_type": "markdown",
   "metadata": {},
   "source": [
    "# Test ox_depolymerize"
   ]
  },
  {
   "cell_type": "code",
   "execution_count": null,
   "metadata": {},
   "outputs": [],
   "source": [
    "mol = Chem.MolFromSmiles('*c1ccc(*)cc1')\n",
    "mol"
   ]
  },
  {
   "cell_type": "code",
   "execution_count": null,
   "metadata": {
    "scrolled": true
   },
   "outputs": [],
   "source": [
    "retro.ox_depolymerize(mol)"
   ]
  },
  {
   "cell_type": "code",
   "execution_count": null,
   "metadata": {},
   "outputs": [],
   "source": [
    "mol = Chem.MolFromSmiles('*C1CCC(*)CC1')\n",
    "mol"
   ]
  },
  {
   "cell_type": "code",
   "execution_count": null,
   "metadata": {},
   "outputs": [],
   "source": [
    "retro.ox_depolymerize(mol) #should return nothing. No double bonds"
   ]
  },
  {
   "cell_type": "code",
   "execution_count": null,
   "metadata": {},
   "outputs": [],
   "source": [
    "mol3 = Chem.MolFromSmiles('*Cc1ccc(*)cc1')\n",
    "mol3"
   ]
  },
  {
   "cell_type": "code",
   "execution_count": null,
   "metadata": {},
   "outputs": [],
   "source": [
    "retro.ox_depolymerize(mol3) #should return nothing. Not symmetric"
   ]
  },
  {
   "cell_type": "code",
   "execution_count": null,
   "metadata": {},
   "outputs": [],
   "source": [
    "mol4 = Chem.MolFromSmiles('*Cc1ccc(C*)cc1')\n",
    "mol4"
   ]
  },
  {
   "cell_type": "code",
   "execution_count": null,
   "metadata": {},
   "outputs": [],
   "source": [
    "retro.ox_depolymerize(mol4) #should return nothing. Connector atoms do not have pi electrons"
   ]
  },
  {
   "cell_type": "code",
   "execution_count": null,
   "metadata": {},
   "outputs": [],
   "source": [
    "mol5 = Chem.MolFromSmiles('*c1ccc(*)[nH]1')\n",
    "mol5"
   ]
  },
  {
   "cell_type": "code",
   "execution_count": null,
   "metadata": {},
   "outputs": [],
   "source": [
    "retro.ox_depolymerize(mol5) #should return something"
   ]
  },
  {
   "cell_type": "code",
   "execution_count": null,
   "metadata": {},
   "outputs": [],
   "source": [
    "mol6 = Chem.MolFromSmiles('*c1[nH]c(*)c2OCCCOc12')\n",
    "mol6"
   ]
  },
  {
   "cell_type": "code",
   "execution_count": null,
   "metadata": {},
   "outputs": [],
   "source": [
    "retro.ox_depolymerize(mol6) #shoudld return something"
   ]
  },
  {
   "cell_type": "markdown",
   "metadata": {},
   "source": [
    "# Look thru G2G success polymers"
   ]
  },
  {
   "cell_type": "code",
   "execution_count": null,
   "metadata": {},
   "outputs": [],
   "source": [
    "success = ru.pd_load('/data/rgur/g2g/paper_1/cib_tg_eg/cutoff-.1/first_cib_model/new_polymers_12_43PM_on_June_23_2020_sortedObjective.csv')\n",
    "success.head()\n",
    "\n",
    "len(success)\n",
    "\n",
    "smiles_ls = success['SMILES'].tolist()\n",
    "inds = [x for x in smiles_ls if retro.ox_depolymerize(x) != None]\n",
    "inds\n",
    "\n",
    "len(inds)"
   ]
  },
  {
   "source": [
    "# Look thru relaxed G2G polymers "
   ],
   "cell_type": "markdown",
   "metadata": {}
  },
  {
   "cell_type": "code",
   "execution_count": null,
   "metadata": {},
   "outputs": [],
   "source": [
    "df = ru.pd_load('/data/rgur/g2g/paper_1/cib_tg_eg/cutoff-.1/first_cib_model/results_List/uniqueCanPolyAndProps.csv')\n",
    "df.head()\n",
    "\n",
    "df_med = df[(df['bg']>5.5)&(df['cib']>2.5)&(df['tg']>400)].drop_duplicates()\n",
    "smiles_ls = df_med['smiles'].tolist()"
   ]
  },
  {
   "cell_type": "code",
   "execution_count": null,
   "metadata": {},
   "outputs": [],
   "source": [
    "smiles_ls[0:5]"
   ]
  },
  {
   "cell_type": "code",
   "execution_count": null,
   "metadata": {},
   "outputs": [],
   "source": [
    "inds = [x for x in smiles_ls if retro.ox_depolymerize(x) != None]\n",
    "inds\n",
    "\n",
    "len(inds)"
   ]
  },
  {
   "cell_type": "code",
   "execution_count": null,
   "metadata": {},
   "outputs": [],
   "source": [
    "Chem.MolFromSmiles(inds[0])"
   ]
  },
  {
   "cell_type": "code",
   "execution_count": null,
   "metadata": {},
   "outputs": [],
   "source": [
    "retro.ox_depolymerize(inds[0])"
   ]
  },
  {
   "cell_type": "markdown",
   "metadata": {},
   "source": [
    "# Check symmetry"
   ]
  },
  {
   "cell_type": "code",
   "execution_count": null,
   "metadata": {},
   "outputs": [],
   "source": [
    "inds = []\n",
    "for x in smiles_ls:\n",
    "    lp = ru.LinearPol(x)\n",
    "    if len(set(lp.connector_inds)) == 2:\n",
    "        m=lp.delStarMol()\n",
    "        if retro.is_symmetric2(m,group=lp.delStarMolInds):\n",
    "            inds += [x]"
   ]
  },
  {
   "cell_type": "code",
   "execution_count": null,
   "metadata": {},
   "outputs": [],
   "source": [
    "len(inds)"
   ]
  },
  {
   "cell_type": "code",
   "execution_count": null,
   "metadata": {},
   "outputs": [],
   "source": [
    "Chem.MolFromSmiles(inds[0])"
   ]
  },
  {
   "cell_type": "code",
   "execution_count": null,
   "metadata": {},
   "outputs": [],
   "source": [
    "Chem.MolFromSmiles(inds[1])"
   ]
  },
  {
   "cell_type": "code",
   "execution_count": null,
   "metadata": {},
   "outputs": [],
   "source": [
    "Chem.MolFromSmiles(inds[2])"
   ]
  },
  {
   "cell_type": "code",
   "execution_count": null,
   "metadata": {},
   "outputs": [],
   "source": [
    "Chem.MolFromSmiles(inds[3])"
   ]
  },
  {
   "cell_type": "code",
   "execution_count": null,
   "metadata": {},
   "outputs": [],
   "source": [
    "Chem.MolFromSmiles(inds[4])"
   ]
  },
  {
   "cell_type": "code",
   "execution_count": null,
   "metadata": {},
   "outputs": [],
   "source": [
    "Chem.MolFromSmiles(inds[5])"
   ]
  },
  {
   "cell_type": "code",
   "execution_count": null,
   "metadata": {},
   "outputs": [],
   "source": [
    "Chem.MolFromSmiles(inds[6])"
   ]
  },
  {
   "cell_type": "code",
   "execution_count": null,
   "metadata": {},
   "outputs": [],
   "source": [
    "Chem.MolFromSmiles(inds[7])"
   ]
  },
  {
   "cell_type": "code",
   "execution_count": null,
   "metadata": {},
   "outputs": [],
   "source": [
    "Chem.MolFromSmiles(inds[8])"
   ]
  },
  {
   "cell_type": "code",
   "execution_count": null,
   "metadata": {},
   "outputs": [],
   "source": [
    "Chem.MolFromSmiles(inds[9])"
   ]
  },
  {
   "cell_type": "code",
   "execution_count": null,
   "metadata": {},
   "outputs": [],
   "source": [
    "Chem.MolFromSmiles(inds[10])"
   ]
  },
  {
   "cell_type": "code",
   "execution_count": null,
   "metadata": {},
   "outputs": [],
   "source": [
    "Chem.MolFromSmiles(inds[11])"
   ]
  },
  {
   "cell_type": "code",
   "execution_count": null,
   "metadata": {},
   "outputs": [],
   "source": [
    "Chem.MolFromSmiles(inds[12])"
   ]
  },
  {
   "cell_type": "code",
   "execution_count": null,
   "metadata": {},
   "outputs": [],
   "source": [
    "Chem.MolFromSmiles(inds[13])"
   ]
  },
  {
   "cell_type": "code",
   "execution_count": null,
   "metadata": {},
   "outputs": [],
   "source": [
    "Chem.MolFromSmiles(inds[14])"
   ]
  },
  {
   "cell_type": "code",
   "execution_count": null,
   "metadata": {},
   "outputs": [],
   "source": [
    "Chem.MolFromSmiles(inds[15])"
   ]
  },
  {
   "cell_type": "code",
   "execution_count": null,
   "metadata": {},
   "outputs": [],
   "source": [
    "Chem.MolFromSmiles(inds[16])"
   ]
  },
  {
   "cell_type": "code",
   "execution_count": null,
   "metadata": {},
   "outputs": [],
   "source": [
    "Chem.MolFromSmiles(inds[17])"
   ]
  },
  {
   "cell_type": "code",
   "execution_count": null,
   "metadata": {},
   "outputs": [],
   "source": [
    "Chem.MolFromSmiles(inds[18])"
   ]
  },
  {
   "cell_type": "code",
   "execution_count": null,
   "metadata": {},
   "outputs": [],
   "source": [
    "Chem.MolFromSmiles(inds[19])"
   ]
  },
  {
   "cell_type": "code",
   "execution_count": null,
   "metadata": {},
   "outputs": [],
   "source": [
    "Chem.MolFromSmiles(inds[20])"
   ]
  },
  {
   "cell_type": "code",
   "execution_count": null,
   "metadata": {},
   "outputs": [],
   "source": [
    "Chem.MolFromSmiles(inds[21])"
   ]
  },
  {
   "cell_type": "code",
   "execution_count": null,
   "metadata": {},
   "outputs": [],
   "source": [
    "Chem.MolFromSmiles(inds[22])"
   ]
  },
  {
   "cell_type": "code",
   "execution_count": null,
   "metadata": {},
   "outputs": [],
   "source": [
    "Chem.MolFromSmiles(inds[23])"
   ]
  },
  {
   "cell_type": "code",
   "execution_count": null,
   "metadata": {},
   "outputs": [],
   "source": [
    "Chem.MolFromSmiles(inds[24])"
   ]
  },
  {
   "cell_type": "code",
   "execution_count": null,
   "metadata": {},
   "outputs": [],
   "source": [
    "Chem.MolFromSmiles(inds[25])"
   ]
  },
  {
   "cell_type": "code",
   "execution_count": null,
   "metadata": {},
   "outputs": [],
   "source": [
    "Chem.MolFromSmiles(inds[26])"
   ]
  },
  {
   "cell_type": "code",
   "execution_count": null,
   "metadata": {},
   "outputs": [],
   "source": [
    "Chem.MolFromSmiles(inds[27])"
   ]
  },
  {
   "cell_type": "code",
   "execution_count": null,
   "metadata": {},
   "outputs": [],
   "source": [
    "Chem.MolFromSmiles(inds[28])"
   ]
  },
  {
   "cell_type": "code",
   "execution_count": null,
   "metadata": {},
   "outputs": [],
   "source": [
    "Chem.MolFromSmiles(inds[29])"
   ]
  },
  {
   "cell_type": "code",
   "execution_count": null,
   "metadata": {},
   "outputs": [],
   "source": [
    "Chem.MolFromSmiles(inds[40])"
   ]
  },
  {
   "cell_type": "code",
   "execution_count": null,
   "metadata": {},
   "outputs": [],
   "source": [
    "Chem.MolFromSmiles(inds[47])"
   ]
  },
  {
   "cell_type": "code",
   "execution_count": null,
   "metadata": {},
   "outputs": [],
   "source": [
    "Chem.MolFromSmiles(inds[50])"
   ]
  },
  {
   "cell_type": "markdown",
   "metadata": {},
   "source": [
    "# Look for resonance"
   ]
  },
  {
   "cell_type": "code",
   "execution_count": null,
   "metadata": {},
   "outputs": [],
   "source": [
    "mol = Chem.MolFromSmiles('Oc1[c][c-]c(O)cc1')\n",
    "mol"
   ]
  },
  {
   "cell_type": "code",
   "execution_count": null,
   "metadata": {},
   "outputs": [],
   "source": [
    "Chem.AddHs(mol)"
   ]
  },
  {
   "cell_type": "code",
   "execution_count": null,
   "metadata": {},
   "outputs": [],
   "source": [
    "a=Chem.ResonanceMolSupplier(mol)"
   ]
  },
  {
   "cell_type": "code",
   "execution_count": null,
   "metadata": {},
   "outputs": [],
   "source": [
    "Chem.AddHs(a[0])"
   ]
  },
  {
   "cell_type": "code",
   "execution_count": null,
   "metadata": {},
   "outputs": [],
   "source": [
    "Chem.AddHs(a[1])"
   ]
  },
  {
   "cell_type": "code",
   "execution_count": null,
   "metadata": {},
   "outputs": [],
   "source": [
    "Chem.AddHs(a[2])"
   ]
  },
  {
   "source": [
    "# Create function for drawing depolymerizations"
   ],
   "cell_type": "markdown",
   "metadata": {}
  },
  {
   "cell_type": "code",
   "execution_count": null,
   "metadata": {},
   "outputs": [],
   "source": [
    "p_mol = '*CC*'#polymer mol\n",
    "dp_func = retro.frp_depolymerize #depolymerization function\n",
    "if type(p_mol) == str:\n",
    "    p_mol = Chem.MolFromSmiles('*CC*')\n",
    "monomer = dp_func(p_mol)\n",
    "label_dict = {\n",
    "    retro.frp_depolymerize: 'Radical/Ionic Polymerization'\n",
    "}\n",
    "Chem.Draw.MolsToGridImage((monomer,p_mol),legends=['#1: %s' %(label_dict[dp_func]),'#2: Final'])"
   ]
  },
  {
   "source": [
    "# Test function for drawing depolymerizations"
   ],
   "cell_type": "markdown",
   "metadata": {}
  },
  {
   "cell_type": "code",
   "execution_count": null,
   "metadata": {},
   "outputs": [],
   "source": [
    "importlib.reload(retro)\n",
    "retro.drawRxn(p_mol,retro.frp_depolymerize)"
   ]
  },
  {
   "source": [
    "# Step-growth polymerizations"
   ],
   "cell_type": "markdown",
   "metadata": {}
  },
  {
   "cell_type": "code",
   "execution_count": null,
   "metadata": {},
   "outputs": [],
   "source": [
    "#OH-Cl\n",
    "polymer_linkage = Chem.MolFromSmarts('*OC(=O)O')\n",
    "polymer_linkage"
   ]
  },
  {
   "cell_type": "code",
   "execution_count": null,
   "metadata": {},
   "outputs": [],
   "source": [
    "polymer = Chem.MolFromSmiles('*Oc2ccc(C(C)(C)c1ccc(OC(*)=O)cc1)cc2')\n",
    "polymer"
   ]
  },
  {
   "cell_type": "code",
   "execution_count": null,
   "metadata": {},
   "outputs": [],
   "source": [
    "lp = ru.LinearPol(polymer)\n",
    "pm = lp.PeriodicMol()\n",
    "pm"
   ]
  },
  {
   "cell_type": "code",
   "execution_count": null,
   "metadata": {},
   "outputs": [],
   "source": [
    "ru.mol_with_atom_index(pm)"
   ]
  },
  {
   "cell_type": "code",
   "execution_count": null,
   "metadata": {},
   "outputs": [],
   "source": [
    "matches=pm.GetSubstructMatches(polymer_linkage)\n",
    "matches"
   ]
  },
  {
   "cell_type": "code",
   "execution_count": null,
   "metadata": {},
   "outputs": [],
   "source": [
    "# *OC(=O)O\n",
    "#i_left_star,i_o_right,i_c,i_dbl0,i_o_left,i_right_star = matches[0]\n",
    "new_mols = None\n",
    "match_pairs = list(itertools.combinations(matches, 2))#implement\n",
    "#for match_pair in matches:\n",
    "match_pair = matches #needs to be commented out\n",
    "ai_r,ai_o_right,ai_c,i_dbl0,ai_o_left = match_pair[0]\n",
    "bi_r,bi_o_right,bi_c,bi_dbl0,bi_o_left = match_pair[1]"
   ]
  },
  {
   "cell_type": "code",
   "execution_count": null,
   "metadata": {},
   "outputs": [],
   "source": [
    "em = Chem.EditableMol(pm)\n",
    "em.RemoveBond(ai_o_left,ai_c)\n",
    "em.RemoveBond(bi_o_left,bi_c)\n",
    "i_cl1 = em.AddAtom(Chem.AtomFromSmiles('Cl'))\n",
    "i_cl2 = em.AddAtom(Chem.AtomFromSmiles('Cl'))\n",
    "em.AddBond(ai_c,i_cl1,Chem.BondType.SINGLE)\n",
    "em.AddBond(bi_c,i_cl2,Chem.BondType.SINGLE)\n",
    "new_mol=em.GetMol()\n",
    "Chem.SanitizeMol(new_mol)\n",
    "new_mol"
   ]
  },
  {
   "cell_type": "code",
   "execution_count": null,
   "metadata": {},
   "outputs": [],
   "source": [
    "frag_ids = Chem.GetMolFrags(new_mol, asMols=False)\n",
    "frag_mols = Chem.GetMolFrags(new_mol, asMols=True)\n",
    "frag_ids"
   ]
  },
  {
   "cell_type": "code",
   "execution_count": null,
   "metadata": {},
   "outputs": [],
   "source": [
    "cl_ind = [i for i,x in enumerate(frag_ids) if i_dbl0 in x][0]\n",
    "if cl_ind == 0:\n",
    "    oh_ind = 1\n",
    "else:\n",
    "    oh_ind = 0\n",
    "oh_mol = frag_mols[oh_ind]\n",
    "cl_mol = frag_mols[cl_ind]"
   ]
  },
  {
   "cell_type": "code",
   "execution_count": null,
   "metadata": {},
   "outputs": [],
   "source": [
    "cl_mol"
   ]
  },
  {
   "cell_type": "code",
   "execution_count": null,
   "metadata": {},
   "outputs": [],
   "source": [
    "if retro.is_symmetric2(cl_mol,'Cl') and retro.is_symmetric2(oh_mol,Chem.MolFromSmarts('[OH]')): #symmetric function checks to make sure there are only 2 matches\n",
    "    print('new_mol')\n",
    "else:\n",
    "    None"
   ]
  },
  {
   "source": [
    "# Edit sg_depolymerize so two monomer sets are created with swapped functional groups"
   ],
   "cell_type": "markdown",
   "metadata": {}
  },
  {
   "cell_type": "code",
   "execution_count": null,
   "metadata": {},
   "outputs": [],
   "source": [
    "from rdkit import Chem"
   ]
  },
  {
   "cell_type": "code",
   "execution_count": null,
   "metadata": {},
   "outputs": [],
   "source": [
    "import time\n",
    "start = time.time()\n",
    "Chem.MolFromSmiles('CCCl').HasSubstructMatch(Chem.AtomFromSmiles('Cl'))\n",
    "print(time.time()-start)\n"
   ]
  },
  {
   "cell_type": "code",
   "execution_count": null,
   "metadata": {},
   "outputs": [],
   "source": [
    "import time\n",
    "start = time.time()\n",
    "'Cl' in Chem.MolToSmiles(Chem.AtomFromSmiles('CCCl'))\n",
    "print(time.time()-start)"
   ]
  },
  {
   "cell_type": "code",
   "execution_count": null,
   "metadata": {},
   "outputs": [],
   "source": [
    "def oh_cl_edit(pm,match_pair):\n",
    "    '''\n",
    "    Take in an editable mol and match_pair and perform the bond breakage to create one monomer w/ OH and another monomer w/ Cl\n",
    "    '''\n",
    "    new_mols = []\n",
    "    cl_mols = []\n",
    "    oh_mols = []\n",
    "    \n",
    "    ### make the first monomer set ###\n",
    "    em = Chem.EditableMol(pm)\n",
    "    ai_r,ai_o_right,ai_c,i_dbl0,ai_o_left = match_pair[0]\n",
    "    bi_r,bi_o_right,bi_c,bi_dbl0,bi_o_left = match_pair[1]\n",
    "    em.RemoveBond(ai_o_left,ai_c)\n",
    "    em.RemoveBond(bi_o_left,bi_c)\n",
    "    i_cl1 = em.AddAtom(Chem.AtomFromSmiles('Cl'))\n",
    "    i_cl2 = em.AddAtom(Chem.AtomFromSmiles('Cl'))\n",
    "    em.AddBond(ai_c,i_cl1,Chem.BondType.SINGLE)\n",
    "    em.AddBond(bi_c,i_cl2,Chem.BondType.SINGLE)\n",
    "    new_mol1=em.GetMol()\n",
    "    Chem.SanitizeMol(new_mol1)\n",
    "\n",
    "    ### make the second monomer set ###\n",
    "    em2 = Chem.EditableMol(pm)\n",
    "    em2.RemoveBond(ai_o_right,ai_r)\n",
    "    em2.RemoveBond(bi_o_right,bi_r)\n",
    "    i_cl1 = em2.AddAtom(Chem.AtomFromSmiles('Cl'))\n",
    "    i_cl2 = em2.AddAtom(Chem.AtomFromSmiles('Cl'))\n",
    "    em2.AddBond(ai_r,i_cl1,Chem.BondType.SINGLE)\n",
    "    em2.AddBond(bi_r,i_cl2,Chem.BondType.SINGLE)\n",
    "    new_mol2 = em2.GetMol()\n",
    "    Chem.SanitizeMol(new_mol2)   \n",
    "\n",
    "    for new_mol in (new_mol1,new_mol2):\n",
    "        frag_ids = Chem.GetMolFrags(new_mol, asMols=False)\n",
    "        if len(frag_ids) == 2:\n",
    "            frag_mols = Chem.GetMolFrags(new_mol, asMols=True)\n",
    "            if frag_mols[0].HasSubstructMatch(Chem.MolFromSmiles('Cl')):\n",
    "                cl_ind = 0\n",
    "                oh_ind = 1\n",
    "            else:\n",
    "                cl_ind = 1\n",
    "                oh_ind = 0\n",
    "            oh_mol = frag_mols[oh_ind]\n",
    "            cl_mol = frag_mols[cl_ind]\n",
    "        new_mols.append(new_mol)\n",
    "        cl_mols.append(cl_mol)\n",
    "        oh_mols.append(oh_mol)\n",
    "    return list(zip(new_mols, cl_mols, oh_mols))"
   ]
  },
  {
   "cell_type": "code",
   "execution_count": null,
   "metadata": {},
   "outputs": [],
   "source": [
    "rxn_info = retro.sg_rxns['*OC(=O)O'][0]\n",
    "rxn_info"
   ]
  },
  {
   "cell_type": "code",
   "execution_count": null,
   "metadata": {},
   "outputs": [],
   "source": [
    "ru.mol_with_atom_index(ru.LinearPol(polymer).PeriodicMol())"
   ]
  },
  {
   "cell_type": "code",
   "execution_count": null,
   "metadata": {},
   "outputs": [],
   "source": [
    "match_pair = matches\n",
    "match_pair"
   ]
  },
  {
   "cell_type": "code",
   "execution_count": null,
   "metadata": {},
   "outputs": [],
   "source": [
    "new_mols = []\n",
    "cl_mols = []\n",
    "oh_mols = []\n",
    "\n",
    "### make the first monomer set ###\n",
    "em = Chem.EditableMol(pm)\n",
    "ai_r,ai_o_right,ai_c,i_dbl0,ai_o_left = match_pair[0]\n",
    "print(ai_r,ai_o_right,ai_c,i_dbl0,ai_o_left)\n",
    "bi_r,bi_o_right,bi_c,bi_dbl0,bi_o_left = match_pair[1]\n",
    "print(bi_r,bi_o_right,bi_c,bi_dbl0,bi_o_left)\n",
    "em.RemoveBond(ai_o_left,ai_c)\n",
    "em.RemoveBond(bi_o_left,bi_c)\n",
    "i_cl1 = em.AddAtom(Chem.AtomFromSmiles('Cl'))\n",
    "i_cl2 = em.AddAtom(Chem.AtomFromSmiles('Cl'))\n",
    "em.AddBond(ai_c,i_cl1,Chem.BondType.SINGLE)\n",
    "em.AddBond(bi_c,i_cl2,Chem.BondType.SINGLE)\n",
    "new_mol1=em.GetMol()\n",
    "Chem.SanitizeMol(new_mol1)\n",
    "\n",
    "### make the second monomer set ###\n",
    "em2 = Chem.EditableMol(pm)\n",
    "em2.RemoveBond(ai_o_right,ai_r)\n",
    "em2.RemoveBond(bi_o_right,bi_r)\n",
    "i_cl1 = em2.AddAtom(Chem.AtomFromSmiles('Cl'))\n",
    "i_cl2 = em2.AddAtom(Chem.AtomFromSmiles('Cl'))\n",
    "em2.AddBond(ai_r,i_cl1,Chem.BondType.SINGLE)\n",
    "em2.AddBond(bi_r,i_cl2,Chem.BondType.SINGLE)\n",
    "new_mol2 = em2.GetMol()\n",
    "Chem.SanitizeMol(new_mol2)\n",
    "new_mol2"
   ]
  },
  {
   "cell_type": "code",
   "execution_count": null,
   "metadata": {},
   "outputs": [],
   "source": [
    "importlib.reload(retro)\n",
    "out=retro.sg_depolymerize(polymer,polymer_linkage,retro.sg_rxns[Chem.MolToSmiles(polymer_linkage)][0])\n",
    "out[0]"
   ]
  },
  {
   "cell_type": "code",
   "execution_count": null,
   "metadata": {},
   "outputs": [],
   "source": [
    "out[1]"
   ]
  },
  {
   "source": [
    "# Try sg_depolymerize on relaxed G2G"
   ],
   "cell_type": "markdown",
   "metadata": {}
  },
  {
   "cell_type": "code",
   "execution_count": null,
   "metadata": {
    "tags": [
     "outputPrepend"
    ]
   },
   "outputs": [],
   "source": [
    "importlib.reload(retro)\n",
    "polymer_linkage = '*OC(=O)O'\n",
    "inds = [x for x in smiles_ls if retro.sg_depolymerize(x,Chem.MolFromSmarts(polymer_linkage),retro.sg_rxns[polymer_linkage][0]) != None]\n",
    "inds\n",
    "\n",
    "len(inds)"
   ]
  },
  {
   "cell_type": "code",
   "execution_count": null,
   "metadata": {},
   "outputs": [],
   "source": [
    "len(inds)"
   ]
  },
  {
   "cell_type": "code",
   "execution_count": null,
   "metadata": {},
   "outputs": [],
   "source": [
    "retro.sg_depolymerize(inds[0],Chem.MolFromSmarts(polymer_linkage),retro.sg_rxns[polymer_linkage][0])"
   ]
  },
  {
   "cell_type": "code",
   "execution_count": null,
   "metadata": {},
   "outputs": [],
   "source": [
    "retro.sg_depolymerize(inds[1],Chem.MolFromSmarts(polymer_linkage),retro.sg_rxns[polymer_linkage][0])"
   ]
  },
  {
   "cell_type": "code",
   "execution_count": null,
   "metadata": {},
   "outputs": [],
   "source": [
    "importlib.reload(retro)\n",
    "retro.drawRxn(inds[0],extra_arg1=Chem.MolFromSmarts(polymer_linkage),extra_arg2=retro.sg_rxns[polymer_linkage][0])"
   ]
  },
  {
   "cell_type": "code",
   "execution_count": null,
   "metadata": {},
   "outputs": [],
   "source": [
    "retro.drawRxn(inds[1],extra_arg1=Chem.MolFromSmarts(polymer_linkage),extra_arg2=retro.sg_rxns[polymer_linkage][0])"
   ]
  },
  {
   "cell_type": "code",
   "execution_count": null,
   "metadata": {},
   "outputs": [],
   "source": [
    "retro.drawRxn(inds[2],extra_arg1=Chem.MolFromSmarts(polymer_linkage),extra_arg2=retro.sg_rxns[polymer_linkage][0])"
   ]
  },
  {
   "cell_type": "code",
   "execution_count": null,
   "metadata": {},
   "outputs": [],
   "source": [
    "retro.drawRxn(inds[4],extra_arg1=Chem.MolFromSmarts(polymer_linkage),extra_arg2=retro.sg_rxns[polymer_linkage][0])"
   ]
  },
  {
   "cell_type": "code",
   "execution_count": null,
   "metadata": {},
   "outputs": [],
   "source": [
    "retro.drawRxn(inds[19],extra_arg1=Chem.MolFromSmarts(polymer_linkage),extra_arg2=retro.sg_rxns[polymer_linkage][0])"
   ]
  },
  {
   "cell_type": "code",
   "execution_count": null,
   "metadata": {},
   "outputs": [],
   "source": [
    "df_med[df_med['smiles']==inds[0]]"
   ]
  },
  {
   "cell_type": "code",
   "execution_count": null,
   "metadata": {},
   "outputs": [],
   "source": [
    "out=retro.sg_depolymerize(inds[0],Chem.MolFromSmarts(polymer_linkage),retro.sg_rxns[polymer_linkage][0])\n",
    "Chem.MolToSmiles(out)"
   ]
  },
  {
   "source": [
    "# OH-OH reaction"
   ],
   "cell_type": "markdown",
   "metadata": {}
  },
  {
   "cell_type": "code",
   "execution_count": null,
   "metadata": {},
   "outputs": [],
   "source": [
    "mol = Chem.MolFromSmiles('[*]Oc1ccc(C(C)(C)c2ccc(OC(=O)c3ccc(C([*])=O)cc3)cc2)cc1')\n",
    "mol"
   ]
  },
  {
   "cell_type": "code",
   "execution_count": null,
   "metadata": {},
   "outputs": [],
   "source": [
    "lp = ru.LinearPol(mol)\n",
    "pm = lp.PeriodicMol()\n",
    "pm"
   ]
  },
  {
   "cell_type": "code",
   "execution_count": null,
   "metadata": {},
   "outputs": [],
   "source": [
    "ru.mol_with_atom_index(pm)"
   ]
  },
  {
   "cell_type": "code",
   "execution_count": null,
   "metadata": {},
   "outputs": [],
   "source": [
    "polymer_linkage = Chem.MolFromSmarts('*C(=O)O*')\n",
    "polymer_linkage"
   ]
  },
  {
   "cell_type": "code",
   "execution_count": null,
   "metadata": {},
   "outputs": [],
   "source": [
    "matches = pm.GetSubstructMatches(polymer_linkage)\n",
    "matches"
   ]
  },
  {
   "cell_type": "code",
   "execution_count": null,
   "metadata": {},
   "outputs": [],
   "source": [
    "new_mols = None\n",
    "import itertools\n",
    "match_pairs = list(itertools.combinations(matches, 2))#implement\n",
    "#for match_pair in matches:\n",
    "match_pair = matches #needs to be commented out\n",
    "ai_r1,ai_c,ai_o_dbl,ai_o,ai_r2 = match_pair[0]\n",
    "bi_r1,bi_c,bi_o_dbl,bi_o,bi_r2 = match_pair[1]"
   ]
  },
  {
   "cell_type": "code",
   "execution_count": null,
   "metadata": {},
   "outputs": [],
   "source": [
    "em = Chem.EditableMol(pm)\n",
    "em.RemoveBond(ai_o,ai_r2)\n",
    "em.RemoveBond(bi_o,bi_r2)\n",
    "i_o1 = em.AddAtom(Chem.AtomFromSmiles('O'))\n",
    "i_o2 = em.AddAtom(Chem.AtomFromSmiles('O'))\n",
    "em.AddBond(ai_r2,i_o1,Chem.BondType.SINGLE)\n",
    "em.AddBond(bi_r2,i_o2,Chem.BondType.SINGLE)\n",
    "new_mol=em.GetMol()\n",
    "Chem.SanitizeMol(new_mol)\n",
    "new_mol"
   ]
  },
  {
   "cell_type": "code",
   "execution_count": null,
   "metadata": {},
   "outputs": [],
   "source": [
    "#frag_ids = Chem.GetMolFrags(new_mol, asMols=False)\n",
    "if len(frag_ids) == 2:\n",
    "    frag_mols = Chem.GetMolFrags(new_mol, asMols=True)\n",
    "    oh_mol1 = frag_mols[0]\n",
    "    oh_mol2 = frag_mols[1]\n",
    "    #return new_mol, cl_mol, oh_mol\n",
    "else:\n",
    "    #return None,None,None"
   ]
  },
  {
   "cell_type": "code",
   "execution_count": null,
   "metadata": {},
   "outputs": [],
   "source": [
    "retro.is_symmetric2(oh_mol2,Chem.MolFromSmarts('[OH]'))"
   ]
  },
  {
   "cell_type": "code",
   "execution_count": null,
   "metadata": {},
   "outputs": [],
   "source": [
    "oh_mol2"
   ]
  },
  {
   "cell_type": "code",
   "execution_count": null,
   "metadata": {},
   "outputs": [],
   "source": [
    "importlib.reload(retro)\n",
    "polymer_linkage = '*C(=O)O*'\n",
    "retro.sg_depolymerize(mol,Chem.MolFromSmarts(polymer_linkage),retro.sg_rxns[polymer_linkage][0])"
   ]
  },
  {
   "cell_type": "code",
   "execution_count": null,
   "metadata": {},
   "outputs": [],
   "source": [
    "retro.is_symmetric2(Chem.MolFromSmiles('c1([OH:16])[cH:1][cH:2][c:3]([C:4]([CH3:5])([CH3:6])[c:7]2[cH:8][cH:9][c:10]([OH:15])[cH:11][cH:12]2)[cH:13][cH:14]1'),Chem.MolFromSmiles('[OH]'))"
   ]
  },
  {
   "cell_type": "code",
   "execution_count": null,
   "metadata": {},
   "outputs": [],
   "source": [
    "importlib.reload(retro)\n",
    "polymer_linkage = '*C(=O)O*'\n",
    "retro.drawRxn(mol,extra_arg1=Chem.MolFromSmarts(polymer_linkage),extra_arg2=retro.sg_rxns[polymer_linkage][0])"
   ]
  },
  {
   "source": [
    "# Try on relaexed G2G"
   ],
   "cell_type": "markdown",
   "metadata": {}
  },
  {
   "cell_type": "code",
   "execution_count": null,
   "metadata": {},
   "outputs": [],
   "source": [
    "df = ru.pd_load('/data/rgur/g2g/paper_1/cib_tg_eg/cutoff-.1/first_cib_model/results_List/uniqueCanPolyAndProps.csv')\n",
    "df.head()\n",
    "\n",
    "df_med = df[(df['bg']>5.5)&(df['cib']>2.5)&(df['tg']>400)].drop_duplicates()\n",
    "smiles_ls = df_med['smiles'].tolist()"
   ]
  },
  {
   "cell_type": "code",
   "execution_count": null,
   "metadata": {
    "tags": [
     "outputPrepend"
    ]
   },
   "outputs": [],
   "source": [
    "importlib.reload(retro)\n",
    "polymer_linkage = '*C(=O)O*'\n",
    "inds = [x for x in smiles_ls if retro.sg_depolymerize(x,Chem.MolFromSmarts(polymer_linkage),retro.sg_rxns[polymer_linkage][0]) != None]\n",
    "inds"
   ]
  },
  {
   "cell_type": "code",
   "execution_count": null,
   "metadata": {},
   "outputs": [],
   "source": [
    "len(inds)"
   ]
  },
  {
   "cell_type": "code",
   "execution_count": null,
   "metadata": {},
   "outputs": [],
   "source": [
    "for i,x in enumerate(inds):\n",
    "    print(i,Chem.MolFromSmiles(x).GetNumAtoms())"
   ]
  },
  {
   "cell_type": "code",
   "execution_count": null,
   "metadata": {},
   "outputs": [],
   "source": [
    "inds[22]"
   ]
  },
  {
   "cell_type": "code",
   "execution_count": null,
   "metadata": {},
   "outputs": [],
   "source": [
    "importlib.reload(retro)\n",
    "polymer_linkage = '*C(=O)O*'\n",
    "retro.drawRxn(inds[22],extra_arg1=Chem.MolFromSmarts(polymer_linkage),extra_arg2=retro.sg_rxns[polymer_linkage][0])"
   ]
  },
  {
   "cell_type": "code",
   "execution_count": null,
   "metadata": {},
   "outputs": [],
   "source": [
    "df_med[df_med['smiles']==inds[0]]"
   ]
  },
  {
   "cell_type": "code",
   "execution_count": null,
   "metadata": {},
   "outputs": [],
   "source": [
    "polymer_linkage = '*C(=O)O*'\n",
    "retro.drawRxn(inds[1],extra_arg1=Chem.MolFromSmarts(polymer_linkage),extra_arg2=retro.sg_rxns[polymer_linkage][0])"
   ]
  },
  {
   "cell_type": "code",
   "execution_count": null,
   "metadata": {},
   "outputs": [],
   "source": [
    "df_med[df_med['smiles']==inds[1]]"
   ]
  },
  {
   "cell_type": "code",
   "execution_count": null,
   "metadata": {},
   "outputs": [],
   "source": [
    "polymer_linkage = '*C(=O)O*'\n",
    "retro.drawRxn(inds[2],extra_arg1=Chem.MolFromSmarts(polymer_linkage),extra_arg2=retro.sg_rxns[polymer_linkage][0])"
   ]
  },
  {
   "cell_type": "code",
   "execution_count": null,
   "metadata": {},
   "outputs": [],
   "source": [
    "df_med[df_med['smiles']==inds[2]]"
   ]
  },
  {
   "cell_type": "code",
   "execution_count": null,
   "metadata": {},
   "outputs": [],
   "source": [
    "polymer_linkage = '*C(=O)O*'\n",
    "retro.drawRxn(inds[3],extra_arg1=Chem.MolFromSmarts(polymer_linkage),extra_arg2=retro.sg_rxns[polymer_linkage][0])"
   ]
  },
  {
   "cell_type": "code",
   "execution_count": null,
   "metadata": {},
   "outputs": [],
   "source": [
    "df_med[df_med['smiles']==inds[3]]"
   ]
  },
  {
   "cell_type": "code",
   "execution_count": null,
   "metadata": {},
   "outputs": [],
   "source": [
    "polymer_linkage = '*C(=O)O*'\n",
    "retro.drawRxn(inds[4],extra_arg1=Chem.MolFromSmarts(polymer_linkage),extra_arg2=retro.sg_rxns[polymer_linkage][0])"
   ]
  },
  {
   "cell_type": "code",
   "execution_count": null,
   "metadata": {},
   "outputs": [],
   "source": [
    "df_med[df_med['smiles']==inds[4]]"
   ]
  },
  {
   "cell_type": "code",
   "execution_count": null,
   "metadata": {},
   "outputs": [],
   "source": [
    "polymer_linkage = '*C(=O)O*'\n",
    "retro.drawRxn(inds[5],extra_arg1=Chem.MolFromSmarts(polymer_linkage),extra_arg2=retro.sg_rxns[polymer_linkage][0])"
   ]
  },
  {
   "cell_type": "code",
   "execution_count": null,
   "metadata": {},
   "outputs": [],
   "source": [
    "df_med[df_med['smiles']==inds[5]]"
   ]
  },
  {
   "cell_type": "code",
   "execution_count": null,
   "metadata": {},
   "outputs": [],
   "source": [
    "polymer_linkage = '*C(=O)O*'\n",
    "retro.drawRxn(inds[6],extra_arg1=Chem.MolFromSmarts(polymer_linkage),extra_arg2=retro.sg_rxns[polymer_linkage][0])"
   ]
  },
  {
   "cell_type": "code",
   "execution_count": null,
   "metadata": {},
   "outputs": [],
   "source": [
    "df_med[df_med['smiles']==inds[6]]"
   ]
  },
  {
   "cell_type": "code",
   "execution_count": null,
   "metadata": {},
   "outputs": [],
   "source": [
    "polymer_linkage = '*C(=O)O*'\n",
    "retro.drawRxn(inds[7],extra_arg1=Chem.MolFromSmarts(polymer_linkage),extra_arg2=retro.sg_rxns[polymer_linkage][0])"
   ]
  },
  {
   "cell_type": "code",
   "execution_count": null,
   "metadata": {},
   "outputs": [],
   "source": [
    "df_med[df_med['smiles']==inds[7]]"
   ]
  },
  {
   "cell_type": "code",
   "execution_count": null,
   "metadata": {},
   "outputs": [],
   "source": [
    "polymer_linkage = '*C(=O)O*'\n",
    "retro.drawRxn(inds[8],extra_arg1=Chem.MolFromSmarts(polymer_linkage),extra_arg2=retro.sg_rxns[polymer_linkage][0])"
   ]
  },
  {
   "cell_type": "code",
   "execution_count": null,
   "metadata": {},
   "outputs": [],
   "source": [
    "df_med[df_med['smiles']==inds[8]]"
   ]
  },
  {
   "cell_type": "code",
   "execution_count": null,
   "metadata": {},
   "outputs": [],
   "source": [
    "polymer_linkage = '*C(=O)O*'\n",
    "retro.drawRxn(inds[9],extra_arg1=Chem.MolFromSmarts(polymer_linkage),extra_arg2=retro.sg_rxns[polymer_linkage][0])"
   ]
  },
  {
   "cell_type": "code",
   "execution_count": null,
   "metadata": {},
   "outputs": [],
   "source": [
    "df_med[df_med['smiles']==inds[9]]"
   ]
  },
  {
   "cell_type": "code",
   "execution_count": null,
   "metadata": {},
   "outputs": [],
   "source": [
    "polymer_linkage = '*C(=O)O*'\n",
    "retro.drawRxn(inds[10],extra_arg1=Chem.MolFromSmarts(polymer_linkage),extra_arg2=retro.sg_rxns[polymer_linkage][0])"
   ]
  },
  {
   "cell_type": "code",
   "execution_count": null,
   "metadata": {},
   "outputs": [],
   "source": [
    "df_med[df_med['smiles']==inds[10]]"
   ]
  },
  {
   "cell_type": "code",
   "execution_count": null,
   "metadata": {},
   "outputs": [],
   "source": [
    "for x in []:\n",
    "    print(x)"
   ]
  },
  {
   "cell_type": "code",
   "execution_count": null,
   "metadata": {},
   "outputs": [],
   "source": [
    "import itertools"
   ]
  },
  {
   "cell_type": "code",
   "execution_count": null,
   "metadata": {},
   "outputs": [],
   "source": [
    "list(itertools.combinations([1,2],2))"
   ]
  },
  {
   "source": [
    "# Test lookup on G2G-relaxed polymers"
   ],
   "cell_type": "markdown",
   "metadata": {}
  },
  {
   "cell_type": "code",
   "execution_count": 253,
   "metadata": {},
   "outputs": [],
   "source": [
    "df = ru.pd_load('/data/rgur/g2g/paper_1/cib_tg_eg/cutoff-.1/first_cib_model/results_List/uniqueCanPolyAndProps.csv')\n",
    "df.head()\n",
    "\n",
    "df_med = df[(df['bg']>5.5)&(df['cib']>2.5)&(df['tg']>400)].drop_duplicates()\n",
    "smiles_ls = df_med['smiles'].tolist()"
   ]
  },
  {
   "cell_type": "code",
   "execution_count": 254,
   "metadata": {
    "tags": [
     "outputPrepend"
    ]
   },
   "outputs": [
    {
     "output_type": "stream",
     "name": "stdout",
     "text": [
      "**\n",
      "RDKit ERROR: Pre-condition Violation\n",
      "RDKit ERROR: bond already exists\n",
      "RDKit ERROR: Violation occurred on line 311 in file /home/conda/feedstock_root/build_artifacts/rdkit_1589101087701/work/Code/GraphMol/RWMol.cpp\n",
      "RDKit ERROR: Failed Expression: !(boost::edge(atomIdx1, atomIdx2, d_graph).second)\n",
      "RDKit ERROR: ****\n",
      "RDKit ERROR: \n",
      "RDKit ERROR: [19:13:27] \n",
      "RDKit ERROR: \n",
      "RDKit ERROR: ****\n",
      "RDKit ERROR: Pre-condition Violation\n",
      "RDKit ERROR: bond already exists\n",
      "RDKit ERROR: Violation occurred on line 311 in file /home/conda/feedstock_root/build_artifacts/rdkit_1589101087701/work/Code/GraphMol/RWMol.cpp\n",
      "RDKit ERROR: Failed Expression: !(boost::edge(atomIdx1, atomIdx2, d_graph).second)\n",
      "RDKit ERROR: ****\n",
      "RDKit ERROR: \n",
      "RDKit ERROR: [19:13:27] \n",
      "RDKit ERROR: \n",
      "RDKit ERROR: ****\n",
      "RDKit ERROR: Pre-condition Violation\n",
      "RDKit ERROR: bond already exists\n",
      "RDKit ERROR: Violation occurred on line 311 in file /home/conda/feedstock_root/build_artifacts/rdkit_1589101087701/work/Code/GraphMol/RWMol.cpp\n",
      "RDKit ERROR: Failed Expression: !(boost::edge(atomIdx1, atomIdx2, d_graph).second)\n",
      "RDKit ERROR: ****\n",
      "RDKit ERROR: \n",
      "RDKit ERROR: [19:13:27] \n",
      "RDKit ERROR: \n",
      "RDKit ERROR: ****\n",
      "RDKit ERROR: Pre-condition Violation\n",
      "RDKit ERROR: bond already exists\n",
      "RDKit ERROR: Violation occurred on line 311 in file /home/conda/feedstock_root/build_artifacts/rdkit_1589101087701/work/Code/GraphMol/RWMol.cpp\n",
      "RDKit ERROR: Failed Expression: !(boost::edge(atomIdx1, atomIdx2, d_graph).second)\n",
      "RDKit ERROR: ****\n",
      "RDKit ERROR: \n",
      "RDKit ERROR: [19:13:27] \n",
      "RDKit ERROR: \n",
      "RDKit ERROR: ****\n",
      "RDKit ERROR: Pre-condition Violation\n",
      "RDKit ERROR: bond already exists\n",
      "RDKit ERROR: Violation occurred on line 311 in file /home/conda/feedstock_root/build_artifacts/rdkit_1589101087701/work/Code/GraphMol/RWMol.cpp\n",
      "RDKit ERROR: Failed Expression: !(boost::edge(atomIdx1, atomIdx2, d_graph).second)\n",
      "RDKit ERROR: ****\n",
      "RDKit ERROR: \n",
      "RDKit ERROR: [19:13:27] \n",
      "RDKit ERROR: \n",
      "RDKit ERROR: ****\n",
      "RDKit ERROR: Pre-condition Violation\n",
      "RDKit ERROR: bond already exists\n",
      "RDKit ERROR: Violation occurred on line 311 in file /home/conda/feedstock_root/build_artifacts/rdkit_1589101087701/work/Code/GraphMol/RWMol.cpp\n",
      "RDKit ERROR: Failed Expression: !(boost::edge(atomIdx1, atomIdx2, d_graph).second)\n",
      "RDKit ERROR: ****\n",
      "RDKit ERROR: \n",
      "RDKit ERROR: [19:13:27] \n",
      "RDKit ERROR: \n",
      "RDKit ERROR: ****\n",
      "RDKit ERROR: Pre-condition Violation\n",
      "RDKit ERROR: bond already exists\n",
      "RDKit ERROR: Violation occurred on line 311 in file /home/conda/feedstock_root/build_artifacts/rdkit_1589101087701/work/Code/GraphMol/RWMol.cpp\n",
      "RDKit ERROR: Failed Expression: !(boost::edge(atomIdx1, atomIdx2, d_graph).second)\n",
      "RDKit ERROR: ****\n",
      "RDKit ERROR: \n",
      "RDKit ERROR: [19:13:27] \n",
      "RDKit ERROR: \n",
      "RDKit ERROR: ****\n",
      "RDKit ERROR: Pre-condition Violation\n",
      "RDKit ERROR: bond already exists\n",
      "RDKit ERROR: Violation occurred on line 311 in file /home/conda/feedstock_root/build_artifacts/rdkit_1589101087701/work/Code/GraphMol/RWMol.cpp\n",
      "RDKit ERROR: Failed Expression: !(boost::edge(atomIdx1, atomIdx2, d_graph).second)\n",
      "RDKit ERROR: ****\n",
      "RDKit ERROR: \n",
      "RDKit ERROR: [19:13:27] \n",
      "RDKit ERROR: \n",
      "RDKit ERROR: ****\n",
      "RDKit ERROR: Pre-condition Violation\n",
      "RDKit ERROR: bond already exists\n",
      "RDKit ERROR: Violation occurred on line 311 in file /home/conda/feedstock_root/build_artifacts/rdkit_1589101087701/work/Code/GraphMol/RWMol.cpp\n",
      "RDKit ERROR: Failed Expression: !(boost::edge(atomIdx1, atomIdx2, d_graph).second)\n",
      "RDKit ERROR: ****\n",
      "RDKit ERROR: \n",
      "RDKit ERROR: [19:13:27] \n",
      "RDKit ERROR: \n",
      "RDKit ERROR: ****\n",
      "RDKit ERROR: Pre-condition Violation\n",
      "RDKit ERROR: bond already exists\n",
      "RDKit ERROR: Violation occurred on line 311 in file /home/conda/feedstock_root/build_artifacts/rdkit_1589101087701/work/Code/GraphMol/RWMol.cpp\n",
      "RDKit ERROR: Failed Expression: !(boost::edge(atomIdx1, atomIdx2, d_graph).second)\n",
      "RDKit ERROR: ****\n",
      "RDKit ERROR: \n",
      "RDKit ERROR: [19:13:27] \n",
      "RDKit ERROR: \n",
      "RDKit ERROR: ****\n",
      "RDKit ERROR: Pre-condition Violation\n",
      "RDKit ERROR: bond already exists\n",
      "RDKit ERROR: Violation occurred on line 311 in file /home/conda/feedstock_root/build_artifacts/rdkit_1589101087701/work/Code/GraphMol/RWMol.cpp\n",
      "RDKit ERROR: Failed Expression: !(boost::edge(atomIdx1, atomIdx2, d_graph).second)\n",
      "RDKit ERROR: ****\n",
      "RDKit ERROR: \n",
      "RDKit ERROR: [19:13:27] \n",
      "RDKit ERROR: \n",
      "RDKit ERROR: ****\n",
      "RDKit ERROR: Pre-condition Violation\n",
      "RDKit ERROR: bond already exists\n",
      "RDKit ERROR: Violation occurred on line 311 in file /home/conda/feedstock_root/build_artifacts/rdkit_1589101087701/work/Code/GraphMol/RWMol.cpp\n",
      "RDKit ERROR: Failed Expression: !(boost::edge(atomIdx1, atomIdx2, d_graph).second)\n",
      "RDKit ERROR: ****\n",
      "RDKit ERROR: \n",
      "RDKit ERROR: [19:13:27] \n",
      "RDKit ERROR: \n",
      "RDKit ERROR: ****\n",
      "RDKit ERROR: Pre-condition Violation\n",
      "RDKit ERROR: bond already exists\n",
      "RDKit ERROR: Violation occurred on line 311 in file /home/conda/feedstock_root/build_artifacts/rdkit_1589101087701/work/Code/GraphMol/RWMol.cpp\n",
      "RDKit ERROR: Failed Expression: !(boost::edge(atomIdx1, atomIdx2, d_graph).second)\n",
      "RDKit ERROR: ****\n",
      "RDKit ERROR: \n",
      "RDKit ERROR: [19:13:28] \n",
      "RDKit ERROR: \n",
      "RDKit ERROR: ****\n",
      "RDKit ERROR: Pre-condition Violation\n",
      "RDKit ERROR: bond already exists\n",
      "RDKit ERROR: Violation occurred on line 311 in file /home/conda/feedstock_root/build_artifacts/rdkit_1589101087701/work/Code/GraphMol/RWMol.cpp\n",
      "RDKit ERROR: Failed Expression: !(boost::edge(atomIdx1, atomIdx2, d_graph).second)\n",
      "RDKit ERROR: ****\n",
      "RDKit ERROR: \n",
      "RDKit ERROR: [19:13:28] \n",
      "RDKit ERROR: \n",
      "RDKit ERROR: ****\n",
      "RDKit ERROR: Pre-condition Violation\n",
      "RDKit ERROR: bond already exists\n",
      "RDKit ERROR: Violation occurred on line 311 in file /home/conda/feedstock_root/build_artifacts/rdkit_1589101087701/work/Code/GraphMol/RWMol.cpp\n",
      "RDKit ERROR: Failed Expression: !(boost::edge(atomIdx1, atomIdx2, d_graph).second)\n",
      "RDKit ERROR: ****\n",
      "RDKit ERROR: \n",
      "RDKit ERROR: [19:13:28] \n",
      "RDKit ERROR: \n",
      "RDKit ERROR: ****\n",
      "RDKit ERROR: Pre-condition Violation\n",
      "RDKit ERROR: bond already exists\n",
      "RDKit ERROR: Violation occurred on line 311 in file /home/conda/feedstock_root/build_artifacts/rdkit_1589101087701/work/Code/GraphMol/RWMol.cpp\n",
      "RDKit ERROR: Failed Expression: !(boost::edge(atomIdx1, atomIdx2, d_graph).second)\n",
      "RDKit ERROR: ****\n",
      "RDKit ERROR: \n",
      "RDKit ERROR: [19:13:28] \n",
      "RDKit ERROR: \n",
      "RDKit ERROR: ****\n",
      "RDKit ERROR: Pre-condition Violation\n",
      "RDKit ERROR: bond already exists\n",
      "RDKit ERROR: Violation occurred on line 311 in file /home/conda/feedstock_root/build_artifacts/rdkit_1589101087701/work/Code/GraphMol/RWMol.cpp\n",
      "RDKit ERROR: Failed Expression: !(boost::edge(atomIdx1, atomIdx2, d_graph).second)\n",
      "RDKit ERROR: ****\n",
      "RDKit ERROR: \n",
      "RDKit ERROR: [19:13:28] \n",
      "RDKit ERROR: \n",
      "RDKit ERROR: ****\n",
      "RDKit ERROR: Pre-condition Violation\n",
      "RDKit ERROR: bond already exists\n",
      "RDKit ERROR: Violation occurred on line 311 in file /home/conda/feedstock_root/build_artifacts/rdkit_1589101087701/work/Code/GraphMol/RWMol.cpp\n",
      "RDKit ERROR: Failed Expression: !(boost::edge(atomIdx1, atomIdx2, d_graph).second)\n",
      "RDKit ERROR: ****\n",
      "RDKit ERROR: \n",
      "RDKit ERROR: [19:13:28] \n",
      "RDKit ERROR: \n",
      "RDKit ERROR: ****\n",
      "RDKit ERROR: Pre-condition Violation\n",
      "RDKit ERROR: bond already exists\n",
      "RDKit ERROR: Violation occurred on line 311 in file /home/conda/feedstock_root/build_artifacts/rdkit_1589101087701/work/Code/GraphMol/RWMol.cpp\n",
      "RDKit ERROR: Failed Expression: !(boost::edge(atomIdx1, atomIdx2, d_graph).second)\n",
      "RDKit ERROR: ****\n",
      "RDKit ERROR: \n",
      "RDKit ERROR: [19:13:28] \n",
      "RDKit ERROR: \n",
      "RDKit ERROR: ****\n",
      "RDKit ERROR: Pre-condition Violation\n",
      "RDKit ERROR: bond already exists\n",
      "!!!Periodization Failed!!!\n",
      "!!!Periodization Failed!!!\n",
      "!!!Periodization Failed!!!\n",
      "!!!Periodization Failed!!!\n",
      "!!!Periodization Failed!!!\n",
      "!!!Periodization Failed!!!\n",
      "!!!Periodization Failed!!!\n",
      "!!!Periodization Failed!!!\n",
      "!!!Periodization Failed!!!\n",
      "!!!Periodization Failed!!!\n",
      "!!!Periodization Failed!!!\n",
      "!!!Periodization Failed!!!\n",
      "!!!Periodization Failed!!!\n",
      "!!!Periodization Failed!!!\n",
      "!!!Periodization Failed!!!\n",
      "!!!Periodization Failed!!!\n",
      "!!!Periodization Failed!!!\n",
      "!!!Periodization Failed!!!\n",
      "RDKit ERROR: Violation occurred on line 311 in file /home/conda/feedstock_root/build_artifacts/rdkit_1589101087701/work/Code/GraphMol/RWMol.cpp\n",
      "RDKit ERROR: Failed Expression: !(boost::edge(atomIdx1, atomIdx2, d_graph).second)\n",
      "RDKit ERROR: ****\n",
      "RDKit ERROR: \n",
      "RDKit ERROR: [19:13:28] \n",
      "RDKit ERROR: \n",
      "RDKit ERROR: ****\n",
      "RDKit ERROR: Pre-condition Violation\n",
      "RDKit ERROR: bond already exists\n",
      "RDKit ERROR: Violation occurred on line 311 in file /home/conda/feedstock_root/build_artifacts/rdkit_1589101087701/work/Code/GraphMol/RWMol.cpp\n",
      "RDKit ERROR: Failed Expression: !(boost::edge(atomIdx1, atomIdx2, d_graph).second)\n",
      "RDKit ERROR: ****\n",
      "RDKit ERROR: \n",
      "RDKit ERROR: [19:13:28] \n",
      "RDKit ERROR: \n",
      "RDKit ERROR: ****\n",
      "RDKit ERROR: Pre-condition Violation\n",
      "RDKit ERROR: bond already exists\n",
      "RDKit ERROR: Violation occurred on line 311 in file /home/conda/feedstock_root/build_artifacts/rdkit_1589101087701/work/Code/GraphMol/RWMol.cpp\n",
      "RDKit ERROR: Failed Expression: !(boost::edge(atomIdx1, atomIdx2, d_graph).second)\n",
      "RDKit ERROR: ****\n",
      "RDKit ERROR: \n",
      "RDKit ERROR: [19:13:28] \n",
      "RDKit ERROR: \n",
      "RDKit ERROR: ****\n",
      "RDKit ERROR: Pre-condition Violation\n",
      "RDKit ERROR: bond already exists\n",
      "RDKit ERROR: Violation occurred on line 311 in file /home/conda/feedstock_root/build_artifacts/rdkit_1589101087701/work/Code/GraphMol/RWMol.cpp\n",
      "RDKit ERROR: Failed Expression: !(boost::edge(atomIdx1, atomIdx2, d_graph).second)\n",
      "RDKit ERROR: ****\n",
      "RDKit ERROR: \n",
      "RDKit ERROR: [19:13:28] \n",
      "RDKit ERROR: \n",
      "RDKit ERROR: ****\n",
      "RDKit ERROR: Pre-condition Violation\n",
      "RDKit ERROR: bond already exists\n",
      "RDKit ERROR: Violation occurred on line 311 in file /home/conda/feedstock_root/build_artifacts/rdkit_1589101087701/work/Code/GraphMol/RWMol.cpp\n",
      "RDKit ERROR: Failed Expression: !(boost::edge(atomIdx1, atomIdx2, d_graph).second)\n",
      "RDKit ERROR: ****\n",
      "RDKit ERROR: \n",
      "RDKit ERROR: [19:13:28] \n",
      "RDKit ERROR: \n",
      "RDKit ERROR: ****\n",
      "RDKit ERROR: Pre-condition Violation\n",
      "RDKit ERROR: bond already exists\n",
      "RDKit ERROR: Violation occurred on line 311 in file /home/conda/feedstock_root/build_artifacts/rdkit_1589101087701/work/Code/GraphMol/RWMol.cpp\n",
      "RDKit ERROR: Failed Expression: !(boost::edge(atomIdx1, atomIdx2, d_graph).second)\n",
      "RDKit ERROR: ****\n",
      "RDKit ERROR: \n",
      "RDKit ERROR: [19:13:28] \n",
      "RDKit ERROR: \n",
      "RDKit ERROR: ****\n",
      "RDKit ERROR: Pre-condition Violation\n",
      "RDKit ERROR: bond already exists\n",
      "RDKit ERROR: Violation occurred on line 311 in file /home/conda/feedstock_root/build_artifacts/rdkit_1589101087701/work/Code/GraphMol/RWMol.cpp\n",
      "RDKit ERROR: Failed Expression: !(boost::edge(atomIdx1, atomIdx2, d_graph).second)\n",
      "RDKit ERROR: ****\n",
      "RDKit ERROR: \n",
      "RDKit ERROR: [19:13:28] \n",
      "RDKit ERROR: \n",
      "RDKit ERROR: ****\n",
      "RDKit ERROR: Pre-condition Violation\n",
      "RDKit ERROR: bond already exists\n",
      "RDKit ERROR: Violation occurred on line 311 in file /home/conda/feedstock_root/build_artifacts/rdkit_1589101087701/work/Code/GraphMol/RWMol.cpp\n",
      "RDKit ERROR: Failed Expression: !(boost::edge(atomIdx1, atomIdx2, d_graph).second)\n",
      "RDKit ERROR: ****\n",
      "RDKit ERROR: \n",
      "RDKit ERROR: [19:13:28] \n",
      "RDKit ERROR: \n",
      "RDKit ERROR: ****\n",
      "RDKit ERROR: Pre-condition Violation\n",
      "RDKit ERROR: bond already exists\n",
      "RDKit ERROR: Violation occurred on line 311 in file /home/conda/feedstock_root/build_artifacts/rdkit_1589101087701/work/Code/GraphMol/RWMol.cpp\n",
      "RDKit ERROR: Failed Expression: !(boost::edge(atomIdx1, atomIdx2, d_graph).second)\n",
      "RDKit ERROR: ****\n",
      "RDKit ERROR: \n",
      "RDKit ERROR: [19:13:28] \n",
      "RDKit ERROR: \n",
      "RDKit ERROR: ****\n",
      "RDKit ERROR: Pre-condition Violation\n",
      "RDKit ERROR: bond already exists\n",
      "RDKit ERROR: Violation occurred on line 311 in file /home/conda/feedstock_root/build_artifacts/rdkit_1589101087701/work/Code/GraphMol/RWMol.cpp\n",
      "RDKit ERROR: Failed Expression: !(boost::edge(atomIdx1, atomIdx2, d_graph).second)\n",
      "RDKit ERROR: ****\n",
      "RDKit ERROR: \n",
      "RDKit ERROR: [19:13:28] \n",
      "RDKit ERROR: \n",
      "RDKit ERROR: ****\n",
      "RDKit ERROR: Pre-condition Violation\n",
      "RDKit ERROR: bond already exists\n",
      "RDKit ERROR: Violation occurred on line 311 in file /home/conda/feedstock_root/build_artifacts/rdkit_1589101087701/work/Code/GraphMol/RWMol.cpp\n",
      "RDKit ERROR: Failed Expression: !(boost::edge(atomIdx1, atomIdx2, d_graph).second)\n",
      "RDKit ERROR: ****\n",
      "RDKit ERROR: \n",
      "RDKit ERROR: [19:13:28] \n",
      "RDKit ERROR: \n",
      "RDKit ERROR: ****\n",
      "RDKit ERROR: Pre-condition Violation\n",
      "RDKit ERROR: bond already exists\n",
      "RDKit ERROR: Violation occurred on line 311 in file /home/conda/feedstock_root/build_artifacts/rdkit_1589101087701/work/Code/GraphMol/RWMol.cpp\n",
      "RDKit ERROR: Failed Expression: !(boost::edge(atomIdx1, atomIdx2, d_graph).second)\n",
      "RDKit ERROR: ****\n",
      "RDKit ERROR: \n",
      "RDKit ERROR: [19:13:28] Explicit valence for atom # 35 N, 4, is greater than permitted\n",
      "RDKit ERROR: [19:13:28] Explicit valence for atom # 28 N, 4, is greater than permitted\n",
      "RDKit ERROR: [19:13:28] Explicit valence for atom # 38 N, 4, is greater than permitted\n",
      "RDKit ERROR: [19:13:28] Explicit valence for atom # 12 N, 4, is greater than permitted\n",
      "RDKit ERROR: [19:13:28] Explicit valence for atom # 48 N, 4, is greater than permitted\n",
      "RDKit ERROR: [19:13:28] Explicit valence for atom # 28 N, 4, is greater than permitted\n",
      "RDKit ERROR: [19:13:28] Explicit valence for atom # 35 N, 4, is greater than permitted\n",
      "RDKit ERROR: [19:13:28] Explicit valence for atom # 2 N, 4, is greater than permitted\n",
      "RDKit ERROR: [19:13:28] Explicit valence for atom # 35 N, 4, is greater than permitted\n",
      "RDKit ERROR: [19:13:28] Explicit valence for atom # 35 N, 4, is greater than permitted\n",
      "RDKit ERROR: [19:13:28] Explicit valence for atom # 38 N, 4, is greater than permitted\n",
      "RDKit ERROR: [19:13:28] Explicit valence for atom # 38 N, 4, is greater than permitted\n",
      "!!!Periodization Failed!!!\n",
      "!!!Periodization Failed!!!\n",
      "!!!Periodization Failed!!!\n",
      "!!!Periodization Failed!!!\n",
      "!!!Periodization Failed!!!\n",
      "!!!Periodization Failed!!!\n",
      "!!!Periodization Failed!!!\n",
      "!!!Periodization Failed!!!\n",
      "!!!Periodization Failed!!!\n",
      "!!!Periodization Failed!!!\n",
      "!!!Periodization Failed!!!\n",
      "!!!Periodization Failed!!!\n",
      "!!!Periodization Failed!!!\n",
      "!!!Periodization Failed!!!\n",
      "!!!Periodization Failed!!!\n",
      "!!!Periodization Failed!!!\n",
      "!!!Periodization Failed!!!\n",
      "!!!Periodization Failed!!!\n",
      "!!!Periodization Failed!!!\n",
      "!!!Periodization Failed!!!\n",
      "!!!Periodization Failed!!!\n",
      "!!!Periodization Failed!!!\n",
      "!!!Periodization Failed!!!\n",
      "!!!Periodization Failed!!!\n",
      "RDKit ERROR: [19:13:28] \n",
      "RDKit ERROR: \n",
      "RDKit ERROR: ****\n",
      "RDKit ERROR: Pre-condition Violation\n",
      "RDKit ERROR: attempt to add self-bond\n",
      "RDKit ERROR: Violation occurred on line 309 in file /home/conda/feedstock_root/build_artifacts/rdkit_1589101087701/work/Code/GraphMol/RWMol.cpp\n",
      "RDKit ERROR: Failed Expression: atomIdx1 != atomIdx2\n",
      "RDKit ERROR: ****\n",
      "RDKit ERROR: \n",
      "RDKit ERROR: [19:13:28] \n",
      "RDKit ERROR: \n",
      "RDKit ERROR: ****\n",
      "RDKit ERROR: Pre-condition Violation\n",
      "RDKit ERROR: attempt to add self-bond\n",
      "RDKit ERROR: Violation occurred on line 309 in file /home/conda/feedstock_root/build_artifacts/rdkit_1589101087701/work/Code/GraphMol/RWMol.cpp\n",
      "RDKit ERROR: Failed Expression: atomIdx1 != atomIdx2\n",
      "RDKit ERROR: ****\n",
      "RDKit ERROR: \n",
      "RDKit ERROR: [19:13:28] \n",
      "RDKit ERROR: \n",
      "RDKit ERROR: ****\n",
      "RDKit ERROR: Pre-condition Violation\n",
      "RDKit ERROR: attempt to add self-bond\n",
      "RDKit ERROR: Violation occurred on line 309 in file /home/conda/feedstock_root/build_artifacts/rdkit_1589101087701/work/Code/GraphMol/RWMol.cpp\n",
      "RDKit ERROR: Failed Expression: atomIdx1 != atomIdx2\n",
      "RDKit ERROR: ****\n",
      "RDKit ERROR: \n",
      "RDKit ERROR: [19:13:28] \n",
      "RDKit ERROR: \n",
      "RDKit ERROR: ****\n",
      "RDKit ERROR: Pre-condition Violation\n",
      "RDKit ERROR: attempt to add self-bond\n",
      "RDKit ERROR: Violation occurred on line 309 in file /home/conda/feedstock_root/build_artifacts/rdkit_1589101087701/work/Code/GraphMol/RWMol.cpp\n",
      "RDKit ERROR: Failed Expression: atomIdx1 != atomIdx2\n",
      "RDKit ERROR: ****\n",
      "RDKit ERROR: \n",
      "RDKit ERROR: [19:13:28] \n",
      "RDKit ERROR: \n",
      "RDKit ERROR: ****\n",
      "RDKit ERROR: Pre-condition Violation\n",
      "RDKit ERROR: attempt to add self-bond\n",
      "RDKit ERROR: Violation occurred on line 309 in file /home/conda/feedstock_root/build_artifacts/rdkit_1589101087701/work/Code/GraphMol/RWMol.cpp\n",
      "RDKit ERROR: Failed Expression: atomIdx1 != atomIdx2\n",
      "RDKit ERROR: ****\n",
      "RDKit ERROR: \n",
      "RDKit ERROR: [19:13:28] \n",
      "RDKit ERROR: \n",
      "RDKit ERROR: ****\n",
      "RDKit ERROR: Pre-condition Violation\n",
      "RDKit ERROR: attempt to add self-bond\n",
      "RDKit ERROR: Violation occurred on line 309 in file /home/conda/feedstock_root/build_artifacts/rdkit_1589101087701/work/Code/GraphMol/RWMol.cpp\n",
      "RDKit ERROR: Failed Expression: atomIdx1 != atomIdx2\n",
      "RDKit ERROR: ****\n",
      "RDKit ERROR: \n",
      "RDKit ERROR: [19:13:28] \n",
      "RDKit ERROR: \n",
      "RDKit ERROR: ****\n",
      "RDKit ERROR: Pre-condition Violation\n",
      "RDKit ERROR: bond already exists\n",
      "RDKit ERROR: Violation occurred on line 311 in file /home/conda/feedstock_root/build_artifacts/rdkit_1589101087701/work/Code/GraphMol/RWMol.cpp\n",
      "RDKit ERROR: Failed Expression: !(boost::edge(atomIdx1, atomIdx2, d_graph).second)\n",
      "RDKit ERROR: ****\n",
      "RDKit ERROR: \n",
      "RDKit ERROR: [19:13:28] \n",
      "RDKit ERROR: \n",
      "RDKit ERROR: ****\n",
      "RDKit ERROR: Pre-condition Violation\n",
      "RDKit ERROR: bond already exists\n",
      "RDKit ERROR: Violation occurred on line 311 in file /home/conda/feedstock_root/build_artifacts/rdkit_1589101087701/work/Code/GraphMol/RWMol.cpp\n",
      "RDKit ERROR: Failed Expression: !(boost::edge(atomIdx1, atomIdx2, d_graph).second)\n",
      "RDKit ERROR: ****\n",
      "RDKit ERROR: \n",
      "RDKit ERROR: [19:13:28] \n",
      "RDKit ERROR: \n",
      "RDKit ERROR: ****\n",
      "RDKit ERROR: Pre-condition Violation\n",
      "RDKit ERROR: bond already exists\n",
      "RDKit ERROR: Violation occurred on line 311 in file /home/conda/feedstock_root/build_artifacts/rdkit_1589101087701/work/Code/GraphMol/RWMol.cpp\n",
      "RDKit ERROR: Failed Expression: !(boost::edge(atomIdx1, atomIdx2, d_graph).second)\n",
      "RDKit ERROR: ****\n",
      "RDKit ERROR: \n",
      "RDKit ERROR: [19:13:28] \n",
      "RDKit ERROR: \n",
      "RDKit ERROR: ****\n",
      "RDKit ERROR: Pre-condition Violation\n",
      "RDKit ERROR: bond already exists\n",
      "RDKit ERROR: Violation occurred on line 311 in file /home/conda/feedstock_root/build_artifacts/rdkit_1589101087701/work/Code/GraphMol/RWMol.cpp\n",
      "RDKit ERROR: Failed Expression: !(boost::edge(atomIdx1, atomIdx2, d_graph).second)\n",
      "RDKit ERROR: ****\n",
      "RDKit ERROR: \n",
      "RDKit ERROR: [19:13:28] \n",
      "RDKit ERROR: \n",
      "RDKit ERROR: ****\n",
      "RDKit ERROR: Pre-condition Violation\n",
      "RDKit ERROR: bond already exists\n",
      "RDKit ERROR: Violation occurred on line 311 in file /home/conda/feedstock_root/build_artifacts/rdkit_1589101087701/work/Code/GraphMol/RWMol.cpp\n",
      "RDKit ERROR: Failed Expression: !(boost::edge(atomIdx1, atomIdx2, d_graph).second)\n",
      "RDKit ERROR: ****\n",
      "RDKit ERROR: \n",
      "RDKit ERROR: [19:13:28] \n",
      "RDKit ERROR: \n",
      "RDKit ERROR: ****\n",
      "RDKit ERROR: Pre-condition Violation\n",
      "RDKit ERROR: bond already exists\n",
      "RDKit ERROR: Violation occurred on line 311 in file /home/conda/feedstock_root/build_artifacts/rdkit_1589101087701/work/Code/GraphMol/RWMol.cpp\n",
      "RDKit ERROR: Failed Expression: !(boost::edge(atomIdx1, atomIdx2, d_graph).second)\n",
      "RDKit ERROR: ****\n",
      "RDKit ERROR: \n",
      "RDKit ERROR: [19:13:28] \n",
      "RDKit ERROR: \n",
      "RDKit ERROR: ****\n",
      "RDKit ERROR: Pre-condition Violation\n",
      "RDKit ERROR: bond already exists\n",
      "RDKit ERROR: Violation occurred on line 311 in file /home/conda/feedstock_root/build_artifacts/rdkit_1589101087701/work/Code/GraphMol/RWMol.cpp\n",
      "RDKit ERROR: Failed Expression: !(boost::edge(atomIdx1, atomIdx2, d_graph).second)\n",
      "RDKit ERROR: ****\n",
      "RDKit ERROR: \n",
      "RDKit ERROR: [19:13:28] \n",
      "RDKit ERROR: \n",
      "RDKit ERROR: ****\n",
      "RDKit ERROR: Pre-condition Violation\n",
      "RDKit ERROR: bond already exists\n",
      "RDKit ERROR: Violation occurred on line 311 in file /home/conda/feedstock_root/build_artifacts/rdkit_1589101087701/work/Code/GraphMol/RWMol.cpp\n",
      "RDKit ERROR: Failed Expression: !(boost::edge(atomIdx1, atomIdx2, d_graph).second)\n",
      "RDKit ERROR: ****\n",
      "RDKit ERROR: \n",
      "RDKit ERROR: [19:13:28] \n",
      "RDKit ERROR: \n",
      "RDKit ERROR: ****\n",
      "RDKit ERROR: Pre-condition Violation\n",
      "RDKit ERROR: bond already exists\n",
      "RDKit ERROR: Violation occurred on line 311 in file /home/conda/feedstock_root/build_artifacts/rdkit_1589101087701/work/Code/GraphMol/RWMol.cpp\n",
      "RDKit ERROR: Failed Expression: !(boost::edge(atomIdx1, atomIdx2, d_graph).second)\n",
      "RDKit ERROR: ****\n",
      "RDKit ERROR: \n",
      "RDKit ERROR: [19:13:28] \n",
      "RDKit ERROR: \n",
      "RDKit ERROR: ****\n",
      "RDKit ERROR: Pre-condition Violation\n",
      "RDKit ERROR: bond already exists\n",
      "RDKit ERROR: Violation occurred on line 311 in file /home/conda/feedstock_root/build_artifacts/rdkit_1589101087701/work/Code/GraphMol/RWMol.cpp\n"
     ]
    }
   ],
   "source": [
    "importlib.reload(retro)\n",
    "ReactionStepList = []\n",
    "for x in smiles_ls:\n",
    "    mol = Chem.MolFromSmiles(x)\n",
    "    linkages = retro.sg_rxns.keys()\n",
    "    for linkage_smiles in linkages:\n",
    "        if 'c' in linkage_smiles: #if string represents aromatic linkage then use SMILES\n",
    "            linkage_mol = Chem.MolFromSmiles(linkage_smiles)\n",
    "        else:\n",
    "            linkage_mol = Chem.MolFromSmarts(linkage_smiles)\n",
    "        for rxn_info in retro.sg_rxns[linkage_smiles]:\n",
    "            monomers = retro.sg_depolymerize(x,linkage_mol,rxn_info)\n",
    "            if monomers != None:\n",
    "                for monomer in monomers:\n",
    "                    rs = retro.ReactionStep(monomer,mol,retro.sg_depolymerize)\n",
    "                    ReactionStepList.append(rs)"
   ]
  },
  {
   "cell_type": "code",
   "execution_count": 255,
   "metadata": {},
   "outputs": [
    {
     "output_type": "execute_result",
     "data": {
      "text/plain": [
       "352"
      ]
     },
     "metadata": {},
     "execution_count": 255
    }
   ],
   "source": [
    "len(ReactionStepList)"
   ]
  },
  {
   "cell_type": "code",
   "execution_count": null,
   "metadata": {},
   "outputs": [],
   "source": [
    "with open('/data/rgur/retrosynthesis/molecule_lookup/mol_set.pkl','rb') as f:\n",
    "    mol_set = pickle.load(f)"
   ]
  },
  {
   "cell_type": "code",
   "execution_count": null,
   "metadata": {},
   "outputs": [],
   "source": [
    "for x in ReactionStepList:\n",
    "    x.SearchReactants(mol_set)"
   ]
  },
  {
   "cell_type": "code",
   "execution_count": null,
   "metadata": {},
   "outputs": [],
   "source": [
    "filtered_rs_ls = list(filter(lambda x: sum(x.catalog) > 0, ReactionStepList)) #remove all reactions where none of the reactants are commercially available"
   ]
  },
  {
   "cell_type": "code",
   "execution_count": null,
   "metadata": {},
   "outputs": [],
   "source": [
    "len(filtered_rs_ls)"
   ]
  },
  {
   "cell_type": "code",
   "execution_count": null,
   "metadata": {},
   "outputs": [],
   "source": [
    "importlib.reload(retro)\n",
    "#filtered_rs_ls = [retro.ReactionStep(x.reactant_mol,x.product_mol,x.rxn_fn) for x in filtered_rs_ls]\n",
    "for x in filtered_rs_ls:\n",
    "    #x.SearchReactants(mol_set)\n",
    "    x.SyntheticScore()"
   ]
  },
  {
   "cell_type": "code",
   "execution_count": null,
   "metadata": {},
   "outputs": [],
   "source": [
    "filtered_rs_ls[0].synthetic_scores"
   ]
  },
  {
   "cell_type": "code",
   "execution_count": null,
   "metadata": {},
   "outputs": [],
   "source": [
    "filtered_rs_ls_srt = sorted(filtered_rs_ls,key=lambda x: np.mean(x.synthetic_scores),reverse=False)"
   ]
  },
  {
   "cell_type": "code",
   "execution_count": null,
   "metadata": {},
   "outputs": [],
   "source": [
    "importlib.reload(ru)\n",
    "keep_inds = ru.arg_unique_ordered([x.SetRepresentation() for x in filtered_rs_ls_srt])\n",
    "filtered_rs_ls_srt_no_dup = [filtered_rs_ls_srt[i] for i in keep_inds]\n",
    "len(filtered_rs_ls_srt_no_dup)"
   ]
  },
  {
   "cell_type": "code",
   "execution_count": null,
   "metadata": {},
   "outputs": [],
   "source": [
    "i=0\n",
    "print(filtered_rs_ls_srt_no_dup[i].synthetic_scores)\n",
    "filtered_rs_ls_srt_no_dup[i].DrawCatalog()"
   ]
  },
  {
   "cell_type": "code",
   "execution_count": null,
   "metadata": {},
   "outputs": [],
   "source": [
    "filtered_rs_ls_srt_no_dup[0].reactant_frag_smiles"
   ]
  },
  {
   "cell_type": "code",
   "execution_count": null,
   "metadata": {},
   "outputs": [],
   "source": [
    "i=1\n",
    "print(filtered_rs_ls_srt_no_dup[i].synthetic_scores)\n",
    "filtered_rs_ls_srt_no_dup[i].DrawCatalog()"
   ]
  },
  {
   "cell_type": "code",
   "execution_count": null,
   "metadata": {},
   "outputs": [],
   "source": [
    "i=2\n",
    "print(filtered_rs_ls_srt_no_dup[i].synthetic_scores)\n",
    "filtered_rs_ls_srt_no_dup[i].DrawCatalog()"
   ]
  },
  {
   "cell_type": "code",
   "execution_count": null,
   "metadata": {},
   "outputs": [],
   "source": [
    "i=3\n",
    "print(filtered_rs_ls_srt_no_dup[i].synthetic_scores)\n",
    "filtered_rs_ls_srt_no_dup[i].DrawCatalog()"
   ]
  },
  {
   "cell_type": "code",
   "execution_count": null,
   "metadata": {},
   "outputs": [],
   "source": [
    "filtered_rs_ls_srt_no_dup[i].DrawStep()"
   ]
  },
  {
   "cell_type": "code",
   "execution_count": null,
   "metadata": {},
   "outputs": [],
   "source": [
    "df_med[df_med['smiles']=='[*]C(=O)NC1CC1NC(=O)N1CCN([*])CC1']"
   ]
  },
  {
   "cell_type": "code",
   "execution_count": null,
   "metadata": {},
   "outputs": [],
   "source": [
    "filtered_rs_ls_srt_no_dup[i].reactant_frag_smiles"
   ]
  },
  {
   "cell_type": "code",
   "execution_count": null,
   "metadata": {},
   "outputs": [],
   "source": [
    "i=4\n",
    "print(filtered_rs_ls_srt_no_dup[i].synthetic_scores)\n",
    "filtered_rs_ls_srt_no_dup[i].DrawCatalog()"
   ]
  },
  {
   "cell_type": "code",
   "execution_count": null,
   "metadata": {},
   "outputs": [],
   "source": [
    "filtered_rs_ls_srt_no_dup[i].product_smiles"
   ]
  },
  {
   "cell_type": "code",
   "execution_count": null,
   "metadata": {},
   "outputs": [],
   "source": [
    "i=5\n",
    "print(filtered_rs_ls_srt_no_dup[i].synthetic_scores)\n",
    "filtered_rs_ls_srt_no_dup[i].DrawCatalog()"
   ]
  },
  {
   "cell_type": "code",
   "execution_count": null,
   "metadata": {},
   "outputs": [],
   "source": [
    "i=6\n",
    "print(filtered_rs_ls_srt_no_dup[i].synthetic_scores)\n",
    "filtered_rs_ls_srt_no_dup[i].DrawCatalog()"
   ]
  },
  {
   "cell_type": "code",
   "execution_count": null,
   "metadata": {},
   "outputs": [],
   "source": [
    "filtered_rs_ls_srt_no_dup[i].DrawStep()"
   ]
  },
  {
   "cell_type": "code",
   "execution_count": null,
   "metadata": {},
   "outputs": [],
   "source": [
    "i=7\n",
    "print(filtered_rs_ls_srt_no_dup[i].synthetic_scores)\n",
    "filtered_rs_ls_srt_no_dup[i].DrawCatalog()"
   ]
  },
  {
   "cell_type": "code",
   "execution_count": null,
   "metadata": {},
   "outputs": [],
   "source": [
    "filtered_rs_ls_srt_no_dup[i].reactant_frag_smiles"
   ]
  },
  {
   "cell_type": "code",
   "execution_count": null,
   "metadata": {},
   "outputs": [],
   "source": [
    "i=8\n",
    "print(filtered_rs_ls_srt_no_dup[i].synthetic_scores)\n",
    "filtered_rs_ls_srt_no_dup[i].DrawCatalog()"
   ]
  },
  {
   "cell_type": "code",
   "execution_count": null,
   "metadata": {},
   "outputs": [],
   "source": [
    "i=9\n",
    "print(filtered_rs_ls_srt_no_dup[i].synthetic_scores)\n",
    "filtered_rs_ls_srt_no_dup[i].DrawCatalog()"
   ]
  },
  {
   "cell_type": "code",
   "execution_count": null,
   "metadata": {},
   "outputs": [],
   "source": [
    "filtered_rs_ls_srt_no_dup[i].reactant_frag_smiles"
   ]
  },
  {
   "cell_type": "code",
   "execution_count": null,
   "metadata": {},
   "outputs": [],
   "source": [
    "i=10\n",
    "print(filtered_rs_ls_srt_no_dup[i].synthetic_scores)\n",
    "filtered_rs_ls_srt_no_dup[i].DrawCatalog()"
   ]
  },
  {
   "cell_type": "code",
   "execution_count": null,
   "metadata": {},
   "outputs": [],
   "source": [
    "i=16\n",
    "print(filtered_rs_ls_srt_no_dup[i].synthetic_scores)\n",
    "filtered_rs_ls_srt_no_dup[i].DrawCatalog()"
   ]
  },
  {
   "cell_type": "code",
   "execution_count": null,
   "metadata": {},
   "outputs": [],
   "source": [
    "filtered_rs_ls_srt_no_dup[i].DrawStep()"
   ]
  },
  {
   "cell_type": "code",
   "execution_count": null,
   "metadata": {},
   "outputs": [],
   "source": [
    "filtered_rs_ls_srt_no_dup[i].product_smiles.replace('*','[*]')"
   ]
  },
  {
   "cell_type": "code",
   "execution_count": null,
   "metadata": {},
   "outputs": [],
   "source": [
    "df_med[df_med['smiles']==filtered_rs_ls_srt_no_dup[i].product_smiles.replace('*','[*]')]"
   ]
  },
  {
   "source": [
    "# Find spiro centers"
   ],
   "cell_type": "markdown",
   "metadata": {}
  },
  {
   "cell_type": "code",
   "execution_count": null,
   "metadata": {},
   "outputs": [],
   "source": [
    "mol = Chem.MolFromSmiles('C1CC5(C1)CCC(C4CCC3(CC2CCC2CO3)C4)C5')\n",
    "mol"
   ]
  },
  {
   "cell_type": "code",
   "execution_count": null,
   "metadata": {},
   "outputs": [],
   "source": [
    "ru.mol_with_atom_index(mol)"
   ]
  },
  {
   "cell_type": "code",
   "execution_count": null,
   "metadata": {},
   "outputs": [],
   "source": [
    "ri = mol.GetRingInfo()"
   ]
  },
  {
   "cell_type": "code",
   "execution_count": null,
   "metadata": {},
   "outputs": [],
   "source": [
    "ri.AtomRings()"
   ]
  },
  {
   "cell_type": "code",
   "execution_count": null,
   "metadata": {},
   "outputs": [],
   "source": [
    "ar_sets = [set(ring) for ring in ri.AtomRings()]\n",
    "ar_sets"
   ]
  },
  {
   "cell_type": "code",
   "execution_count": null,
   "metadata": {},
   "outputs": [],
   "source": [
    "n_spiro = 0\n",
    "for i,ring in enumerate(ar_sets):\n",
    "    for j,other_ring in enumerate(ar_sets):\n",
    "        if i>j:\n",
    "            if len(ring.intersection(other_ring)) == 1:\n",
    "                n_spiro += 1"
   ]
  },
  {
   "cell_type": "code",
   "execution_count": null,
   "metadata": {},
   "outputs": [],
   "source": [
    "n_spiro"
   ]
  },
  {
   "cell_type": "code",
   "execution_count": null,
   "metadata": {},
   "outputs": [],
   "source": [
    "importlib.reload(ru)"
   ]
  },
  {
   "cell_type": "code",
   "execution_count": null,
   "metadata": {},
   "outputs": [],
   "source": [
    "ru.n_spiro(mol) #should be 2"
   ]
  },
  {
   "source": [
    "# Polyamide sg"
   ],
   "cell_type": "markdown",
   "metadata": {}
  },
  {
   "cell_type": "code",
   "execution_count": null,
   "metadata": {},
   "outputs": [],
   "source": [
    "linkage = '*[NH]C(=O)*'"
   ]
  },
  {
   "cell_type": "code",
   "execution_count": null,
   "metadata": {},
   "outputs": [],
   "source": [
    "Chem.MolFromSmarts(linkage)"
   ]
  },
  {
   "cell_type": "code",
   "execution_count": null,
   "metadata": {},
   "outputs": [],
   "source": [
    "g1 = Chem.MolFromSmarts('C(=O)[OH]')\n",
    "g1"
   ]
  },
  {
   "cell_type": "code",
   "execution_count": null,
   "metadata": {},
   "outputs": [],
   "source": [
    "mol = Chem.MolFromSmiles('NCCC(=O)O')\n",
    "ru.mol_with_atom_index(mol)"
   ]
  },
  {
   "cell_type": "code",
   "execution_count": null,
   "metadata": {},
   "outputs": [],
   "source": [
    "mol.GetSubstructMatches(g1) "
   ]
  },
  {
   "cell_type": "code",
   "execution_count": null,
   "metadata": {},
   "outputs": [],
   "source": [
    "g2 = Chem.MolFromSmarts('[NH2]')\n",
    "g2"
   ]
  },
  {
   "cell_type": "code",
   "execution_count": null,
   "metadata": {},
   "outputs": [],
   "source": [
    "mol.GetSubstructMatches(g2)"
   ]
  },
  {
   "cell_type": "code",
   "execution_count": null,
   "metadata": {},
   "outputs": [],
   "source": [
    "polymer = Chem.MolFromSmiles('[*]CCCCNC(=O)CCCCC(=O)N[*]')\n",
    "polymer"
   ]
  },
  {
   "cell_type": "code",
   "execution_count": null,
   "metadata": {},
   "outputs": [],
   "source": [
    "import itertools\n",
    "lp = ru.LinearPol(polymer)\n",
    "pm = lp.PeriodicMol()\n",
    "if pm is None: #periodization failed\n",
    "    print('None')\n",
    "    #return None\n",
    "if pm.HasSubstructMatch(g1) or pm.HasSubstructMatch(g2): #chain should not have same functional groups we want to react\n",
    "    print('None')\n",
    "    #return None\n",
    "matches=pm.GetSubstructMatches(Chem.MolFromSmarts(linkage))\n",
    "match_pairs = list(itertools.combinations(matches, 2))\n",
    "new_mols = []"
   ]
  },
  {
   "cell_type": "code",
   "execution_count": null,
   "metadata": {},
   "outputs": [],
   "source": [
    "ru.mol_with_atom_index(pm)"
   ]
  },
  {
   "cell_type": "code",
   "execution_count": null,
   "metadata": {},
   "outputs": [],
   "source": [
    "match_pairs"
   ]
  },
  {
   "cell_type": "code",
   "execution_count": null,
   "metadata": {},
   "outputs": [],
   "source": [
    "match_pair = match_pairs[0]\n",
    "match_pair"
   ]
  },
  {
   "cell_type": "code",
   "execution_count": null,
   "metadata": {},
   "outputs": [],
   "source": [
    "linkage"
   ]
  },
  {
   "cell_type": "code",
   "execution_count": null,
   "metadata": {},
   "outputs": [],
   "source": [
    "a_ir1,a_in,a_ic,a_io,a_ir2 = match_pair[0]\n",
    "b_ir1,b_in,b_ic,b_io,b_ir2 = match_pair[1]"
   ]
  },
  {
   "cell_type": "code",
   "execution_count": null,
   "metadata": {},
   "outputs": [],
   "source": [
    "em = Chem.EditableMol(pm)\n",
    "em.RemoveBond(a_ic,a_in)\n",
    "em.RemoveBond(b_ic,b_in)\n",
    "o1 = em.AddAtom(Chem.AtomFromSmiles('O'))\n",
    "o2 = em.AddAtom(Chem.AtomFromSmiles('O'))\n",
    "em.AddBond(o1,a_ic,Chem.BondType.SINGLE)\n",
    "em.AddBond(o2,b_ic,Chem.BondType.SINGLE)\n",
    "new_mol=em.GetMol()\n",
    "Chem.SanitizeMol(new_mol)\n",
    "new_mol"
   ]
  },
  {
   "source": [
    "# Test polyamide sg"
   ],
   "cell_type": "markdown",
   "metadata": {}
  },
  {
   "cell_type": "code",
   "execution_count": null,
   "metadata": {},
   "outputs": [],
   "source": [
    "importlib.reload(retro)"
   ]
  },
  {
   "cell_type": "code",
   "execution_count": null,
   "metadata": {},
   "outputs": [],
   "source": [
    "linkage"
   ]
  },
  {
   "cell_type": "code",
   "execution_count": null,
   "metadata": {},
   "outputs": [],
   "source": [
    "retro.sg_depolymerize(polymer,Chem.MolFromSmarts(linkage),retro.sg_rxns[linkage][0])[0]"
   ]
  },
  {
   "source": [
    "# sg polyurea"
   ],
   "cell_type": "markdown",
   "metadata": {}
  },
  {
   "cell_type": "code",
   "execution_count": null,
   "metadata": {},
   "outputs": [],
   "source": [
    "linkage_smarts = '*[NH]C(=O)[NH]*'\n",
    "polymer_linkage = Chem.MolFromSmarts(linkage_smarts)\n",
    "polymer_linkage"
   ]
  },
  {
   "cell_type": "code",
   "execution_count": null,
   "metadata": {},
   "outputs": [],
   "source": [
    "mol = Chem.MolFromSmiles('*NCNC(=O)Nc1cccc(NC(*)=O)c1')\n",
    "mol"
   ]
  },
  {
   "cell_type": "code",
   "execution_count": null,
   "metadata": {},
   "outputs": [],
   "source": [
    "g1,g2 = Chem.MolFromSmarts('[NH2]'),Chem.MolFromSmarts('N=C=O')\n",
    "g2"
   ]
  },
  {
   "cell_type": "code",
   "execution_count": null,
   "metadata": {},
   "outputs": [],
   "source": [
    "import itertools\n",
    "if type(mol) == str:\n",
    "    mol = Chem.MolFromSmiles(mol)\n",
    "\n",
    "lp = ru.LinearPol(mol)\n",
    "pm = lp.PeriodicMol()\n",
    "if pm is None: #periodization failed\n",
    "    print(None)\n",
    "    #return None\n",
    "if pm.HasSubstructMatch(g1) or pm.HasSubstructMatch(g2): #chain should not have same functional groups we want to react\n",
    "    print(None)\n",
    "    #return None\n",
    "matches=pm.GetSubstructMatches(polymer_linkage)\n",
    "match_pairs = list(itertools.combinations(matches, 2))\n",
    "new_mols = []\n",
    "match_pairs"
   ]
  },
  {
   "cell_type": "code",
   "execution_count": null,
   "metadata": {},
   "outputs": [],
   "source": [
    "ru.mol_with_atom_index(pm)"
   ]
  },
  {
   "cell_type": "code",
   "execution_count": null,
   "metadata": {},
   "outputs": [],
   "source": [
    "match_pair = match_pairs[0]\n",
    "match_pair"
   ]
  },
  {
   "cell_type": "code",
   "execution_count": null,
   "metadata": {},
   "outputs": [],
   "source": [
    "linkage_smarts"
   ]
  },
  {
   "cell_type": "code",
   "execution_count": null,
   "metadata": {},
   "outputs": [],
   "source": [
    "a_ir1,a_inh,a_ic,a_io,a_in,a_ir = match_pair[0]\n",
    "b_ir1,b_inh,b_ic,b_io,b_in,b_ir = match_pair[1]"
   ]
  },
  {
   "cell_type": "code",
   "execution_count": null,
   "metadata": {},
   "outputs": [],
   "source": [
    "em = Chem.EditableMol(pm)\n",
    "em.RemoveBond(a_inh,a_ic)\n",
    "em.RemoveBond(b_inh,b_ic)\n",
    "#switch bond\n",
    "em.RemoveBond(a_in,a_ic)\n",
    "em.AddBond(a_in,a_ic,Chem.BondType.DOUBLE)\n",
    "#switch bond\n",
    "em.RemoveBond(b_in,b_ic)\n",
    "em.AddBond(b_in,b_ic,Chem.BondType.DOUBLE)\n",
    "new_mol = em.GetMol()\n",
    "Chem.SanitizeMol(new_mol)\n",
    "new_mol"
   ]
  },
  {
   "cell_type": "code",
   "execution_count": null,
   "metadata": {},
   "outputs": [],
   "source": [
    "em = Chem.EditableMol(pm)\n",
    "em.RemoveBond(a_in,a_ic)\n",
    "em.RemoveBond(b_in,b_ic)\n",
    "#switch bond\n",
    "em.RemoveBond(a_inh,a_ic)\n",
    "em.AddBond(a_inh,a_ic,Chem.BondType.DOUBLE)\n",
    "#switch bond\n",
    "em.RemoveBond(b_inh,b_ic)\n",
    "em.AddBond(b_inh,b_ic,Chem.BondType.DOUBLE)\n",
    "new_mol = em.GetMol()\n",
    "Chem.SanitizeMol(new_mol)\n",
    "new_mol"
   ]
  },
  {
   "source": [
    "# Test polyurea sg depolymerize on vanilla case"
   ],
   "cell_type": "markdown",
   "metadata": {}
  },
  {
   "cell_type": "code",
   "execution_count": null,
   "metadata": {},
   "outputs": [],
   "source": [
    "linkage_smarts = '*[NH]C(=O)[NH]*'\n",
    "polymer_linkage = Chem.MolFromSmarts(linkage_smarts)\n",
    "mol = Chem.MolFromSmiles('*NCNC(=O)Nc1cccc(NC(*)=O)c1')\n",
    "importlib.reload(retro)\n",
    "out=retro.sg_depolymerize(mol,polymer_linkage,retro.sg_rxns[linkage_smarts][0])"
   ]
  },
  {
   "cell_type": "code",
   "execution_count": null,
   "metadata": {},
   "outputs": [],
   "source": [
    "out[0]"
   ]
  },
  {
   "cell_type": "code",
   "execution_count": null,
   "metadata": {},
   "outputs": [],
   "source": [
    "out[1]"
   ]
  },
  {
   "source": [
    "# Make polyurea sg depolymerize on hard case"
   ],
   "cell_type": "markdown",
   "metadata": {}
  },
  {
   "cell_type": "code",
   "execution_count": null,
   "metadata": {},
   "outputs": [],
   "source": [
    "mol = Chem.MolFromSmiles('[*]C(=O)NC1CC1NC(=O)N1CCN([*])CC1')\n",
    "mol"
   ]
  },
  {
   "cell_type": "code",
   "execution_count": null,
   "metadata": {},
   "outputs": [],
   "source": [
    "linkage_smarts = '[NH]C(=O)N'\n",
    "polymer_linkage = Chem.MolFromSmarts(linkage_smarts)\n",
    "polymer_linkage"
   ]
  },
  {
   "cell_type": "code",
   "execution_count": null,
   "metadata": {},
   "outputs": [],
   "source": [
    "g1,g2 = Chem.MolFromSmarts('[NH]'),Chem.MolFromSmarts('N=C=O')"
   ]
  },
  {
   "cell_type": "code",
   "execution_count": null,
   "metadata": {},
   "outputs": [],
   "source": [
    "import itertools\n",
    "if type(mol) == str:\n",
    "    mol = Chem.MolFromSmiles(mol)\n",
    "\n",
    "lp = ru.LinearPol(mol)\n",
    "pm = lp.PeriodicMol()\n",
    "if pm is None: #periodization failed\n",
    "    print(None)\n",
    "    #return None\n",
    "# if pm.HasSubstructMatch(g1) or pm.HasSubstructMatch(g2): #chain should not have same functional groups we want to react\n",
    "#     print('None2')\n",
    "    #return None\n",
    "matches=pm.GetSubstructMatches(polymer_linkage)\n",
    "match_pairs = list(itertools.combinations(matches, 2))\n",
    "new_mols = []\n",
    "match_pairs"
   ]
  },
  {
   "cell_type": "code",
   "execution_count": null,
   "metadata": {},
   "outputs": [],
   "source": [
    "match_pair = match_pairs[0]\n",
    "linkage_smarts"
   ]
  },
  {
   "cell_type": "code",
   "execution_count": null,
   "metadata": {},
   "outputs": [],
   "source": [
    "a_inh,a_ic,a_io,a_in = match_pair[0]\n",
    "b_inh,b_ic,b_io,b_in = match_pair[1]\n",
    "ru.mol_with_atom_index(pm)"
   ]
  },
  {
   "cell_type": "code",
   "execution_count": null,
   "metadata": {},
   "outputs": [],
   "source": [
    "### make the first monomer set ###\n",
    "em = Chem.EditableMol(pm)\n",
    "em.RemoveBond(a_inh,a_ic)\n",
    "em.RemoveBond(b_inh,b_ic)\n",
    "#switch bond\n",
    "em.RemoveBond(a_in,a_ic)\n",
    "em.AddBond(a_in,a_ic,Chem.BondType.DOUBLE)\n",
    "#switch bond\n",
    "em.RemoveBond(b_in,b_ic)\n",
    "em.AddBond(b_in,b_ic,Chem.BondType.DOUBLE)\n",
    "\n",
    "new_mol1=em.GetMol()\n",
    "try:\n",
    "    Chem.SanitizeMol(new_mol1)\n",
    "except:\n",
    "    pass\n",
    "\n",
    "### make the second monomer set ###\n",
    "em = Chem.EditableMol(pm)\n",
    "em.RemoveBond(a_in,a_ic)\n",
    "em.RemoveBond(b_in,b_ic)\n",
    "#switch bond\n",
    "em.RemoveBond(a_inh,a_ic)\n",
    "em.AddBond(a_inh,a_ic,Chem.BondType.DOUBLE)\n",
    "#switch bond\n",
    "em.RemoveBond(b_inh,b_ic)\n",
    "em.AddBond(b_inh,b_ic,Chem.BondType.DOUBLE)\n",
    "new_mol2 = em.GetMol()\n",
    "try:\n",
    "    Chem.SanitizeMol(new_mol2) \n",
    "except:\n",
    "    pass  "
   ]
  },
  {
   "cell_type": "code",
   "execution_count": null,
   "metadata": {},
   "outputs": [],
   "source": [
    "new_mol2"
   ]
  },
  {
   "cell_type": "code",
   "execution_count": null,
   "metadata": {},
   "outputs": [],
   "source": [
    "### make the first monomer set ###\n",
    "em = Chem.EditableMol(pm)\n",
    "em.RemoveBond(a_inh,a_ic)\n",
    "em.RemoveBond(b_inh,b_ic)\n",
    "em.GetMol()"
   ]
  },
  {
   "cell_type": "code",
   "execution_count": null,
   "metadata": {},
   "outputs": [],
   "source": [
    "### make the second monomer set ###\n",
    "em = Chem.EditableMol(pm)\n",
    "em.RemoveBond(a_in,a_ic)\n",
    "em.RemoveBond(b_in,b_ic)\n",
    "#switch bond\n",
    "em.RemoveBond(a_inh,a_ic)\n",
    "em.AddBond(a_inh,a_ic,Chem.BondType.DOUBLE)\n",
    "#switch bond\n",
    "em.RemoveBond(b_inh,b_ic)\n",
    "em.AddBond(b_inh,b_ic,Chem.BondType.DOUBLE)\n",
    "new_mol2 = em.GetMol()\n",
    "try:\n",
    "    Chem.SanitizeMol(new_mol2) \n",
    "except:\n",
    "    pass  "
   ]
  },
  {
   "source": [
    "# Test polyurea on hard case"
   ],
   "cell_type": "markdown",
   "metadata": {}
  },
  {
   "cell_type": "code",
   "execution_count": null,
   "metadata": {},
   "outputs": [],
   "source": [
    "mol = Chem.MolFromSmiles('[*]C(=O)NC1CC1NC(=O)N1CCN([*])CC1')"
   ]
  },
  {
   "cell_type": "code",
   "execution_count": null,
   "metadata": {},
   "outputs": [],
   "source": [
    "linkage_smarts = '[NH]C(=O)N'\n",
    "polymer_linkage = Chem.MolFromSmarts(linkage_smarts)"
   ]
  },
  {
   "cell_type": "code",
   "execution_count": null,
   "metadata": {},
   "outputs": [],
   "source": [
    "importlib.reload(retro)\n",
    "out=retro.sg_depolymerize(mol,polymer_linkage,retro.sg_rxns[linkage_smarts][0])\n",
    "out"
   ]
  },
  {
   "cell_type": "code",
   "execution_count": null,
   "metadata": {},
   "outputs": [],
   "source": [
    "out[0]"
   ]
  },
  {
   "source": [
    "# Make sg of C=O aromatic polyether"
   ],
   "cell_type": "markdown",
   "metadata": {}
  },
  {
   "cell_type": "code",
   "execution_count": 195,
   "metadata": {},
   "outputs": [
    {
     "output_type": "execute_result",
     "data": {
      "text/plain": [
       "<rdkit.Chem.rdchem.Mol at 0x7f9e09219030>"
      ],
      "image/png": "[encoded data removed]"
     },
     "metadata": {},
     "execution_count": 195
    }
   ],
   "source": [
    "mol = Chem.MolFromSmiles('[*]Oc1ccc(Oc2ccc(C(=O)c3ccc([*])cc3)cc2)cc1')\n",
    "mol"
   ]
  },
  {
   "cell_type": "code",
   "execution_count": 235,
   "metadata": {},
   "outputs": [
    {
     "output_type": "execute_result",
     "data": {
      "text/plain": [
       "<rdkit.Chem.rdchem.Mol at 0x7f9e09256a30>"
      ],
      "image/png": "[encoded data removed]"
     },
     "metadata": {},
     "execution_count": 235
    }
   ],
   "source": [
    "linkage_smiles= 'O=Cc1ccc(O)cc1'\n",
    "polymer_linkage=Chem.MolFromSmiles(linkage_smiles)\n",
    "polymer_linkage"
   ]
  },
  {
   "cell_type": "code",
   "execution_count": 227,
   "metadata": {},
   "outputs": [
    {
     "output_type": "execute_result",
     "data": {
      "text/plain": [
       "True"
      ]
     },
     "metadata": {},
     "execution_count": 227
    }
   ],
   "source": [
    "mol.HasSubstructMatch(polymer_linkage)"
   ]
  },
  {
   "cell_type": "code",
   "execution_count": 228,
   "metadata": {},
   "outputs": [
    {
     "output_type": "execute_result",
     "data": {
      "text/plain": [
       "<rdkit.Chem.rdchem.Mol at 0x7f9e081ee080>"
      ],
      "image/png": "[encoded data removed]"
     },
     "metadata": {},
     "execution_count": 228
    }
   ],
   "source": [
    "mol2 = Chem.MolFromSmiles('COC1CCC(C=O)CC1')\n",
    "mol2"
   ]
  },
  {
   "cell_type": "code",
   "execution_count": 229,
   "metadata": {},
   "outputs": [
    {
     "output_type": "execute_result",
     "data": {
      "text/plain": [
       "False"
      ]
     },
     "metadata": {},
     "execution_count": 229
    }
   ],
   "source": [
    "mol2.HasSubstructMatch(polymer_linkage) #should be false"
   ]
  },
  {
   "cell_type": "code",
   "execution_count": 240,
   "metadata": {},
   "outputs": [
    {
     "output_type": "execute_result",
     "data": {
      "text/plain": [
       "<rdkit.Chem.rdchem.Mol at 0x7f9e081e41c0>"
      ],
      "image/png": "[encoded data removed]"
     },
     "metadata": {},
     "execution_count": 240
    }
   ],
   "source": [
    "g1 = Chem.MolFromSmiles('Cl')\n",
    "g2 = Chem.MolFromSmiles('O[Na]')\n",
    "g2"
   ]
  },
  {
   "cell_type": "code",
   "execution_count": 241,
   "metadata": {},
   "outputs": [],
   "source": [
    "b=g2.GetBonds()[0]"
   ]
  },
  {
   "cell_type": "code",
   "execution_count": 242,
   "metadata": {},
   "outputs": [
    {
     "output_type": "execute_result",
     "data": {
      "text/plain": [
       "rdkit.Chem.rdchem.BondType.SINGLE"
      ]
     },
     "metadata": {},
     "execution_count": 242
    }
   ],
   "source": [
    "b.GetBondType()"
   ]
  },
  {
   "cell_type": "code",
   "execution_count": 231,
   "metadata": {},
   "outputs": [],
   "source": [
    "if type(mol) == str:\n",
    "    mol = Chem.MolFromSmiles(mol)\n",
    "\n",
    "lp = ru.LinearPol(mol)\n",
    "pm = lp.PeriodicMol()\n",
    "if pm is None: #periodization failed\n",
    "    print('None')\n",
    "    #return None\n",
    "if pm.HasSubstructMatch(g1) or pm.HasSubstructMatch(g2): #chain should not have same functional groups we want to react\n",
    "    if edit_function != nh_nco_edit: #but there are exceptions\n",
    "        print('None')\n",
    "polymer_linkage.UpdatePropertyCache()\n",
    "Chem.SanitizeMol(polymer_linkage)\n",
    "matches=pm.GetSubstructMatches(polymer_linkage)\n",
    "match_pairs = list(itertools.combinations(matches, 2))\n",
    "new_mols = []"
   ]
  },
  {
   "cell_type": "code",
   "execution_count": 232,
   "metadata": {},
   "outputs": [
    {
     "output_type": "execute_result",
     "data": {
      "text/plain": [
       "[((11, 10, 9, 8, 7, 6, 5, 19, 18), (11, 10, 12, 13, 14, 15, 0, 16, 17))]"
      ]
     },
     "metadata": {},
     "execution_count": 232
    }
   ],
   "source": [
    "match_pairs"
   ]
  },
  {
   "cell_type": "code",
   "execution_count": 237,
   "metadata": {},
   "outputs": [],
   "source": [
    "match_pair = match_pairs[0]"
   ]
  },
  {
   "cell_type": "code",
   "execution_count": 233,
   "metadata": {},
   "outputs": [
    {
     "output_type": "execute_result",
     "data": {
      "text/plain": [
       "<rdkit.Chem.rdchem.Mol at 0x7f9e091ebe90>"
      ],
      "image/png": "[encoded data removed]"
     },
     "metadata": {},
     "execution_count": 233
    }
   ],
   "source": [
    "ru.mol_with_atom_index(pm)"
   ]
  },
  {
   "cell_type": "code",
   "execution_count": 236,
   "metadata": {},
   "outputs": [
    {
     "output_type": "execute_result",
     "data": {
      "text/plain": [
       "'O=Cc1ccc(O)cc1'"
      ]
     },
     "metadata": {},
     "execution_count": 236
    }
   ],
   "source": [
    "linkage_smiles"
   ]
  },
  {
   "cell_type": "code",
   "execution_count": 238,
   "metadata": {},
   "outputs": [],
   "source": [
    "_,_,_,_,_,ai_c,ai_o,_,_ = match_pair[0]\n",
    "_,_,_,_,_,bi_c,i_o,_,_ = match_pair[1]"
   ]
  },
  {
   "cell_type": "code",
   "execution_count": 244,
   "metadata": {},
   "outputs": [
    {
     "output_type": "execute_result",
     "data": {
      "text/plain": [
       "<rdkit.Chem.rdchem.Mol at 0x7f9e09055300>"
      ],
      "image/png": "[encoded data removed]"
     },
     "metadata": {},
     "execution_count": 244
    }
   ],
   "source": [
    "em = Chem.EditableMol(pm)\n",
    "em.RemoveBond(ai_c,ai_o)\n",
    "em.RemoveBond(bi_c,bi_o)\n",
    "#add atoms\n",
    "cl1=em.AddAtom(Chem.AtomFromSmiles('Cl'))\n",
    "cl2=em.AddAtom(Chem.AtomFromSmiles('Cl'))\n",
    "na1=em.AddAtom(Chem.AtomFromSmiles('[Na]'))\n",
    "na2=em.AddAtom(Chem.AtomFromSmiles('[Na]'))\n",
    "#add bonds\n",
    "em.AddBond(ai_o,na1,Chem.BondType.SINGLE)\n",
    "em.AddBond(bi_o,na2,Chem.BondType.SINGLE)\n",
    "em.AddBond(ai_c,cl1,Chem.BondType.SINGLE)\n",
    "em.AddBond(bi_c,cl2,Chem.BondType.SINGLE)\n",
    "#get mol\n",
    "new_mol=em.GetMol()\n",
    "Chem.SanitizeMol(new_mol)\n",
    "new_mol\n",
    "#frag_ids = Chem.GetMolFrags(new_mol)\n",
    "\n",
    "# if len(frag_ids) == 2:\n",
    "#     frag_mols = Chem.GetMolFrags(new_mol, asMols=True)\n",
    "#     if frag_mols[0].HasSubstructMatch(Chem.MolFromSmarts('[NH2]')):\n",
    "#         nh2_ind = 0\n",
    "#         cooh_ind = 1\n",
    "#     else:\n",
    "#         nh2_ind = 1\n",
    "#         cooh_ind = 0\n",
    "#     nh2_mol = frag_mols[nh2_ind]\n",
    "#     cooh_mol = frag_mols[cooh_ind]\n",
    "#     return [(new_mol, nh2_mol, cooh_mol)]\n",
    "# else:\n",
    "#     return []"
   ]
  },
  {
   "source": [
    "# Test aromatic C=O polyether"
   ],
   "cell_type": "markdown",
   "metadata": {}
  },
  {
   "cell_type": "code",
   "execution_count": 249,
   "metadata": {},
   "outputs": [
    {
     "output_type": "stream",
     "name": "stdout",
     "text": [
      "Restored variables from /data/rgur/retrosynthesis/scscore/models/full_reaxys_model_1024uint8/model.ckpt-10654.as_numpy.json.gz\n"
     ]
    }
   ],
   "source": [
    "importlib.reload(retro)\n",
    "linkage_smiles= 'O=Cc1ccc(O)cc1'\n",
    "polymer_linkage=Chem.MolFromSmiles(linkage_smiles)\n",
    "polymer_linkage\n",
    "mol = Chem.MolFromSmiles('[*]Oc1ccc(Oc2ccc(C(=O)c3ccc([*])cc3)cc2)cc1')\n",
    "out=retro.sg_depolymerize(mol,polymer_linkage,retro.sg_rxns[linkage_smiles][0])"
   ]
  },
  {
   "cell_type": "code",
   "execution_count": 250,
   "metadata": {},
   "outputs": [
    {
     "output_type": "execute_result",
     "data": {
      "text/plain": [
       "<rdkit.Chem.rdchem.Mol at 0x7f9e081f0bc0>"
      ],
      "image/png": "[encoded data removed]"
     },
     "metadata": {},
     "execution_count": 250
    }
   ],
   "source": [
    "out[0]"
   ]
  },
  {
   "cell_type": "code",
   "execution_count": 251,
   "metadata": {},
   "outputs": [
    {
     "output_type": "execute_result",
     "data": {
      "text/plain": [
       "<rdkit.Chem.rdchem.Mol at 0x7f9e09249a30>"
      ],
      "image/png": "[encoded data removed]"
     },
     "metadata": {},
     "execution_count": 251
    }
   ],
   "source": [
    "Chem.MolFromSmarts(linkage_smiles)"
   ]
  },
  {
   "cell_type": "code",
   "execution_count": 259,
   "metadata": {},
   "outputs": [
    {
     "output_type": "execute_result",
     "data": {
      "text/plain": [
       "<rdkit.Chem.rdchem.Mol at 0x7f9e09237d50>"
      ],
      "image/png": "[encoded data removed]"
     },
     "metadata": {},
     "execution_count": 259
    }
   ],
   "source": [
    "polymer_linkage"
   ]
  },
  {
   "cell_type": "code",
   "execution_count": 260,
   "metadata": {},
   "outputs": [],
   "source": [
    "out = []\n",
    "for x in smiles_ls:\n",
    "    mol = Chem.MolFromSmiles(x)\n",
    "    if mol.HasSubstructMatch(Chem.MolFromSmiles('S(=O)(=O)')):\n",
    "        out.append(x)\n"
   ]
  },
  {
   "cell_type": "code",
   "execution_count": 261,
   "metadata": {},
   "outputs": [
    {
     "output_type": "execute_result",
     "data": {
      "text/plain": [
       "0"
      ]
     },
     "metadata": {},
     "execution_count": 261
    }
   ],
   "source": [
    "len(out)"
   ]
  },
  {
   "cell_type": "code",
   "execution_count": 262,
   "metadata": {},
   "outputs": [
    {
     "output_type": "execute_result",
     "data": {
      "text/plain": [
       "<rdkit.Chem.rdchem.Mol at 0x7f9e7be3cd50>"
      ],
      "image/png": "[encoded data removed]"
     },
     "metadata": {},
     "execution_count": 262
    }
   ],
   "source": [
    "Chem.MolFromSmiles('S(=O)(=O)')"
   ]
  },
  {
   "cell_type": "code",
   "execution_count": null,
   "metadata": {},
   "outputs": [],
   "source": []
  }
 ],
 "metadata": {
  "kernelspec": {
   "display_name": "Python (efrc)",
   "language": "python",
   "name": "efrc"
  },
  "language_info": {
   "codemirror_mode": {
    "name": "ipython",
    "version": 3
   },
   "file_extension": ".py",
   "mimetype": "text/x-python",
   "name": "python",
   "nbconvert_exporter": "python",
   "pygments_lexer": "ipython3",
   "version": "3.7.7-final"
  }
 },
 "nbformat": 4,
 "nbformat_minor": 2
}