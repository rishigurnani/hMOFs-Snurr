{
 "cells": [
  {
   "cell_type": "code",
   "execution_count": 1,
   "metadata": {},
   "outputs": [],
   "source": [
    "import rishi_utils as ru\n",
    "import importlib\n",
    "importlib.reload(ru)\n",
    "from rdkit import Chem\n",
    "import fall20_mse_8803 as retro\n",
    "importlib.reload(retro)\n",
    "from rdkit.Chem import AllChem"
   ]
  },
  {
   "cell_type": "markdown",
   "metadata": {},
   "source": [
    "***I need to fix sg_possible to only fragment bonds which appear in the main chain***"
   ]
  },
  {
   "source": [
    "# Incorporate volume into FRP"
   ],
   "cell_type": "markdown",
   "metadata": {}
  },
  {
   "cell_type": "code",
   "execution_count": 9,
   "metadata": {},
   "outputs": [
    {
     "output_type": "execute_result",
     "data": {
      "text/plain": [
       "<rdkit.Chem.rdchem.Mol at 0x7fa5f34c6620>"
      ],
      "image/png": "[encoded data removed]"
     },
     "metadata": {},
     "execution_count": 9
    }
   ],
   "source": [
    "m=Chem.MolFromSmiles('C=C(CCO)')\n",
    "m"
   ]
  },
  {
   "cell_type": "code",
   "execution_count": 22,
   "metadata": {},
   "outputs": [
    {
     "output_type": "execute_result",
     "data": {
      "text/plain": [
       "True"
      ]
     },
     "metadata": {},
     "execution_count": 22
    }
   ],
   "source": [
    "m2 = Chem.MolFromSmiles('*C=C*')\n",
    "lp = ru.LinearPol(m2)\n",
    "lp._HasSubstructMatch('C')"
   ]
  },
  {
   "cell_type": "code",
   "execution_count": 19,
   "metadata": {},
   "outputs": [
    {
     "output_type": "execute_result",
     "data": {
      "text/plain": [
       "<rdkit.Chem.rdchem.Mol at 0x7fa624239620>"
      ],
      "image/png": "[encoded data removed]"
     },
     "metadata": {},
     "execution_count": 19
    }
   ],
   "source": [
    "m3 = Chem.MolFromSmiles('C(F)(F)=C(F)(F)')\n",
    "m3"
   ]
  },
  {
   "cell_type": "code",
   "execution_count": 22,
   "metadata": {},
   "outputs": [
    {
     "output_type": "execute_result",
     "data": {
      "text/plain": [
       "(20.23, 0.0, 0.0)"
      ]
     },
     "metadata": {},
     "execution_count": 22
    }
   ],
   "source": [
    "Chem.rdMolDescriptors.CalcTPSA(m),Chem.rdMolDescriptors.CalcTPSA(m2),Chem.rdMolDescriptors.CalcTPSA(m3,force=True,includeSandP=True)"
   ]
  },
  {
   "cell_type": "code",
   "execution_count": 29,
   "metadata": {},
   "outputs": [
    {
     "output_type": "execute_result",
     "data": {
      "text/plain": [
       "35.66400000000001"
      ]
     },
     "metadata": {},
     "execution_count": 29
    }
   ],
   "source": [
    "m4 = Chem.MolFromSmiles('C(F)(F)')\n",
    "Chem.AllChem.EmbedMolecule(m4)\n",
    "Chem.AllChem.ComputeMolVolume(m4)"
   ]
  },
  {
   "cell_type": "code",
   "execution_count": 13,
   "metadata": {},
   "outputs": [
    {
     "output_type": "execute_result",
     "data": {
      "text/plain": [
       "33.44800000000001"
      ]
     },
     "metadata": {},
     "execution_count": 13
    }
   ],
   "source": [
    "m4 = Chem.MolFromSmiles('CC')\n",
    "Chem.AllChem.EmbedMolecule(m4)\n",
    "Chem.AllChem.ComputeMolVolume(m4)"
   ]
  },
  {
   "cell_type": "code",
   "execution_count": 2,
   "metadata": {},
   "outputs": [
    {
     "output_type": "execute_result",
     "data": {
      "text/plain": [
       "20.424000000000007"
      ]
     },
     "metadata": {},
     "execution_count": 2
    }
   ],
   "source": [
    "m4 = Chem.MolFromSmiles('C')\n",
    "Chem.AllChem.EmbedMolecule(m4)\n",
    "Chem.AllChem.ComputeMolVolume(m4)"
   ]
  },
  {
   "cell_type": "code",
   "execution_count": 3,
   "metadata": {},
   "outputs": [
    {
     "output_type": "execute_result",
     "data": {
      "text/plain": [
       "<rdkit.Chem.rdchem.Mol at 0x7fa8be12dda0>"
      ],
      "image/png": "[encoded data removed]"
     },
     "metadata": {},
     "execution_count": 3
    }
   ],
   "source": [
    "Chem.MolFromSmarts('[OH]')"
   ]
  },
  {
   "cell_type": "code",
   "execution_count": 30,
   "metadata": {},
   "outputs": [
    {
     "output_type": "execute_result",
     "data": {
      "text/plain": [
       "<rdkit.Chem.rdchem.Mol at 0x7fa624239620>"
      ],
      "image/png": "[encoded data removed]"
     },
     "metadata": {},
     "execution_count": 30
    }
   ],
   "source": [
    "ru.mol_with_atom_index(m3)"
   ]
  },
  {
   "cell_type": "code",
   "execution_count": 36,
   "metadata": {},
   "outputs": [],
   "source": [
    "b=m3.GetBondBetweenAtoms(0,3)"
   ]
  },
  {
   "cell_type": "code",
   "execution_count": 34,
   "metadata": {},
   "outputs": [],
   "source": [
    "em = Chem.EditableMol(m3)"
   ]
  },
  {
   "cell_type": "code",
   "execution_count": 37,
   "metadata": {},
   "outputs": [],
   "source": [
    "em.RemoveBond(b.GetBeginAtomIdx(), b.GetEndAtomIdx())"
   ]
  },
  {
   "cell_type": "code",
   "execution_count": 38,
   "metadata": {},
   "outputs": [
    {
     "output_type": "execute_result",
     "data": {
      "text/plain": [
       "<rdkit.Chem.rdchem.Mol at 0x7fa5f32dc8f0>"
      ],
      "image/png": "[encoded data removed]"
     },
     "metadata": {},
     "execution_count": 38
    }
   ],
   "source": [
    "m = em.GetMol()\n",
    "m"
   ]
  },
  {
   "cell_type": "code",
   "execution_count": 39,
   "metadata": {},
   "outputs": [
    {
     "output_type": "execute_result",
     "data": {
      "text/plain": [
       "(<rdkit.Chem.rdchem.Mol at 0x7fa5f34d6570>,\n",
       " <rdkit.Chem.rdchem.Mol at 0x7fa5f34d65d0>)"
      ]
     },
     "metadata": {},
     "execution_count": 39
    }
   ],
   "source": [
    "out = Chem.GetMolFrags(m, asMols=True)\n",
    "out"
   ]
  },
  {
   "cell_type": "code",
   "execution_count": 52,
   "metadata": {},
   "outputs": [
    {
     "output_type": "execute_result",
     "data": {
      "text/plain": [
       "<rdkit.Chem.rdchem.Mol at 0x7fa5f32c4210>"
      ],
      "image/png": "[encoded data removed]"
     },
     "metadata": {},
     "execution_count": 52
    }
   ],
   "source": [
    "m4 = Chem.MolFromSmiles('*C(F)(F)C(F)(F)*')\n",
    "m4"
   ]
  },
  {
   "cell_type": "code",
   "execution_count": 53,
   "metadata": {},
   "outputs": [
    {
     "output_type": "execute_result",
     "data": {
      "text/plain": [
       "<rdkit.Chem.rdchem.Mol at 0x7fa5f34c8cb0>"
      ],
      "image/png": "[encoded data removed]"
     },
     "metadata": {},
     "execution_count": 53
    }
   ],
   "source": [
    "retro.frp_depolymerize(m4) #should pass"
   ]
  },
  {
   "cell_type": "code",
   "execution_count": 58,
   "metadata": {},
   "outputs": [
    {
     "output_type": "execute_result",
     "data": {
      "text/plain": [
       "<rdkit.Chem.rdchem.Mol at 0x7fa5f32fb990>"
      ],
      "image/png": "[encoded data removed]"
     },
     "metadata": {},
     "execution_count": 58
    }
   ],
   "source": [
    "m5 = Chem.MolFromSmiles('*C(c1ccccc1)C(*)c2ccccc2')\n",
    "m5"
   ]
  },
  {
   "cell_type": "code",
   "execution_count": 59,
   "metadata": {},
   "outputs": [
    {
     "output_type": "stream",
     "name": "stdout",
     "text": [
      "83.91200000000002\n"
     ]
    }
   ],
   "source": [
    "retro.frp_depolymerize(m5) #should fail"
   ]
  },
  {
   "cell_type": "code",
   "execution_count": 61,
   "metadata": {},
   "outputs": [
    {
     "output_type": "execute_result",
     "data": {
      "text/plain": [
       "<rdkit.Chem.rdchem.Mol at 0x7fa5f32668f0>"
      ],
      "image/png": "[encoded data removed]"
     },
     "metadata": {},
     "execution_count": 61
    }
   ],
   "source": [
    "m6 = Chem.MolFromSmiles('*C=C*')\n",
    "m6"
   ]
  },
  {
   "cell_type": "code",
   "execution_count": 67,
   "metadata": {},
   "outputs": [
    {
     "output_type": "execute_result",
     "data": {
      "text/plain": [
       "<rdkit.Chem.rdchem.Mol at 0x7fa5f31f6ee0>"
      ],
      "image/png": "[encoded data removed]"
     },
     "metadata": {},
     "execution_count": 67
    }
   ],
   "source": [
    "retro.frp_depolymerize(m6) #should work"
   ]
  },
  {
   "cell_type": "markdown",
   "metadata": {},
   "source": [
    "# Allow for frp of monomers with triple bond"
   ]
  },
  {
   "cell_type": "code",
   "execution_count": null,
   "metadata": {},
   "outputs": [],
   "source": [
    "m = Chem.MolFromSmiles('*C=C*')\n",
    "m"
   ]
  },
  {
   "cell_type": "code",
   "execution_count": null,
   "metadata": {
    "scrolled": true
   },
   "outputs": [],
   "source": [
    "retro.frp_depolymerize(m)"
   ]
  },
  {
   "cell_type": "code",
   "execution_count": null,
   "metadata": {},
   "outputs": [],
   "source": [
    "m2 = Chem.MolFromSmiles('*CC*')\n",
    "m2"
   ]
  },
  {
   "cell_type": "code",
   "execution_count": null,
   "metadata": {},
   "outputs": [],
   "source": [
    "retro.frp_depolymerize(m2)"
   ]
  },
  {
   "cell_type": "markdown",
   "metadata": {},
   "source": [
    "# Cyclopolymerization scratch"
   ]
  },
  {
   "cell_type": "code",
   "execution_count": null,
   "metadata": {},
   "outputs": [],
   "source": [
    "m = Chem.MolFromSmiles('*C=C1C=C(*)CCC1')\n",
    "m"
   ]
  },
  {
   "cell_type": "code",
   "execution_count": null,
   "metadata": {},
   "outputs": [],
   "source": [
    "# check that non-aromatic ring is there\n",
    "ri = m.GetRingInfo()"
   ]
  },
  {
   "cell_type": "code",
   "execution_count": null,
   "metadata": {},
   "outputs": [],
   "source": [
    "non_aromatic_rings = []\n",
    "for ind,ring in enumerate(ri.BondRings()):\n",
    "    for bond_ind in ring:\n",
    "        if m.GetBonds()[bond_ind].GetBondType() != Chem.rdchem.BondType.AROMATIC:\n",
    "            non_aromatic_rings.append(ind)\n",
    "non_aromatic_rings = set(non_aromatic_rings)"
   ]
  },
  {
   "cell_type": "code",
   "execution_count": null,
   "metadata": {},
   "outputs": [],
   "source": [
    "non_aromatic_rings"
   ]
  },
  {
   "cell_type": "code",
   "execution_count": null,
   "metadata": {},
   "outputs": [],
   "source": [
    "ru.mol_with_atom_index(m)"
   ]
  },
  {
   "cell_type": "code",
   "execution_count": null,
   "metadata": {},
   "outputs": [],
   "source": [
    "# check that connection point is on ring\n",
    "lp = ru.LinearPol(m)\n",
    "non_aromatic_ring_atoms = []\n",
    "ring_connection_atom_ind = False\n",
    "ring_connection_ring_ind = False\n",
    "for ind,ring in enumerate(ri.AtomRings()):\n",
    "    if ind in non_aromatic_rings:\n",
    "        for atom_ind in ring:\n",
    "            if atom_ind in lp.connector_inds:\n",
    "                ring_connection_atom_ind  = atom_ind\n",
    "                ring_connection_ring_ind = ind\n",
    "                \n",
    "ring_connection_atom_ind,ring_connection_ring_ind"
   ]
  },
  {
   "cell_type": "code",
   "execution_count": null,
   "metadata": {},
   "outputs": [],
   "source": [
    "#cycle through all ring bonds of ring_connection_ring_ind\n",
    "monomers = []\n",
    "patt1 = Chem.MolFromSmiles('*CC*')\n",
    "patt2 = Chem.MolFromSmiles('*C=C*')\n",
    "for bond_ind in ri.BondRings()[ring_connection_ring_ind]:\n",
    "    bond = m.GetBondWithIdx(bond_ind)\n",
    "    if bond.GetBondType() == Chem.rdchem.BondType.SINGLE:\n",
    "        em = Chem.EditableMol(m)\n",
    "        atoms = (bond.GetBeginAtomIdx(),bond.GetEndAtomIdx())\n",
    "        em.RemoveBond(atoms[0],atoms[1])\n",
    "        ind1=em.AddAtom(Chem.AtomFromSmiles('*'))\n",
    "        ind2=em.AddAtom(Chem.AtomFromSmiles('*'))\n",
    "        em.AddBond(atoms[0],ind1,Chem.rdchem.BondType.SINGLE)\n",
    "        em.AddBond(atoms[1],ind2,Chem.rdchem.BondType.SINGLE)\n",
    "        new_mol = em.GetMol()\n",
    "        n_matches = len(new_mol.GetSubstructMatches(patt1)) + len(new_mol.GetSubstructMatches(patt2))\n",
    "        if n_matches == 2:\n",
    "            monomers.append(new_mol)"
   ]
  },
  {
   "cell_type": "code",
   "execution_count": null,
   "metadata": {},
   "outputs": [],
   "source": [
    "a=monomers[0]\n",
    "a = ru.mol_with_atom_index(a)"
   ]
  },
  {
   "cell_type": "code",
   "execution_count": null,
   "metadata": {},
   "outputs": [],
   "source": [
    "a"
   ]
  },
  {
   "cell_type": "code",
   "execution_count": null,
   "metadata": {},
   "outputs": [],
   "source": [
    "a.GetSubstructMatches(Chem.MolFromSmarts('[#0]C=C[#0]'))"
   ]
  },
  {
   "cell_type": "code",
   "execution_count": null,
   "metadata": {},
   "outputs": [],
   "source": [
    "rxn = AllChem.ReactionFromSmarts('[#0]C([*:1])=C[#0]>>[*:1]C#C')"
   ]
  },
  {
   "cell_type": "code",
   "execution_count": null,
   "metadata": {},
   "outputs": [],
   "source": [
    "ps = rxn.RunReactants((a,))"
   ]
  },
  {
   "cell_type": "code",
   "execution_count": null,
   "metadata": {},
   "outputs": [],
   "source": [
    "ps[0][0]"
   ]
  },
  {
   "cell_type": "code",
   "execution_count": null,
   "metadata": {},
   "outputs": [],
   "source": [
    "rxn.RunReactants((ps[0][0],))[0][0]"
   ]
  },
  {
   "cell_type": "markdown",
   "metadata": {},
   "source": [
    "# test cyclodepolymerize"
   ]
  },
  {
   "cell_type": "code",
   "execution_count": null,
   "metadata": {},
   "outputs": [],
   "source": [
    "m = Chem.MolFromSmiles('*C=C1C=C(*)CCC1')\n",
    "m"
   ]
  },
  {
   "cell_type": "code",
   "execution_count": null,
   "metadata": {},
   "outputs": [],
   "source": [
    "ru.mol_with_atom_index(m)"
   ]
  },
  {
   "cell_type": "code",
   "execution_count": null,
   "metadata": {},
   "outputs": [],
   "source": [
    "out=retro.cyclodepolymerize(m)"
   ]
  },
  {
   "cell_type": "code",
   "execution_count": null,
   "metadata": {},
   "outputs": [],
   "source": [
    "out[0]"
   ]
  },
  {
   "cell_type": "code",
   "execution_count": null,
   "metadata": {},
   "outputs": [],
   "source": [
    "m = Chem.MolFromSmiles('*CC1C=C(*)CCC1')\n",
    "m"
   ]
  },
  {
   "cell_type": "code",
   "execution_count": null,
   "metadata": {},
   "outputs": [],
   "source": [
    "out=retro.cyclodepolymerize(m)[0]\n",
    "out"
   ]
  },
  {
   "cell_type": "code",
   "execution_count": null,
   "metadata": {},
   "outputs": [],
   "source": [
    "m = Chem.MolFromSmiles('*C=C1CC(*)CCC1')\n",
    "m"
   ]
  },
  {
   "cell_type": "code",
   "execution_count": null,
   "metadata": {},
   "outputs": [],
   "source": [
    "out=retro.cyclodepolymerize(m)[0]\n",
    "out"
   ]
  },
  {
   "cell_type": "markdown",
   "metadata": {},
   "source": [
    "# Test frp_possible without steric consideration"
   ]
  },
  {
   "cell_type": "code",
   "execution_count": null,
   "metadata": {},
   "outputs": [],
   "source": [
    "m = Chem.MolFromSmiles('*CC(*)c1ccccc1')\n",
    "m"
   ]
  },
  {
   "cell_type": "code",
   "execution_count": null,
   "metadata": {},
   "outputs": [],
   "source": [
    "em = Chem.EditableMol(m)"
   ]
  },
  {
   "cell_type": "code",
   "execution_count": null,
   "metadata": {},
   "outputs": [],
   "source": []
  },
  {
   "cell_type": "code",
   "execution_count": null,
   "metadata": {},
   "outputs": [],
   "source": [
    "em.AddAtom(Chem.AtomFromSmiles('C'))"
   ]
  },
  {
   "cell_type": "code",
   "execution_count": null,
   "metadata": {},
   "outputs": [],
   "source": [
    "m2 = Chem.MolFromSmiles('C=C')\n",
    "m2"
   ]
  },
  {
   "cell_type": "code",
   "execution_count": null,
   "metadata": {},
   "outputs": [],
   "source": [
    "patt = Chem.MolFromSmiles('*CC*')"
   ]
  },
  {
   "cell_type": "code",
   "execution_count": null,
   "metadata": {},
   "outputs": [],
   "source": [
    "frp_possible(m) #should be True"
   ]
  },
  {
   "cell_type": "code",
   "execution_count": null,
   "metadata": {},
   "outputs": [],
   "source": [
    "frp_possible(m2) #should be False"
   ]
  },
  {
   "cell_type": "code",
   "execution_count": null,
   "metadata": {},
   "outputs": [],
   "source": [
    "m3 = Chem.MolFromSmiles('[*]C1Nc2ccc(C)cc2C1C1NCC2C([*])C(C)CC21')\n",
    "frp_possible(m3) #should be False"
   ]
  },
  {
   "cell_type": "code",
   "execution_count": null,
   "metadata": {},
   "outputs": [],
   "source": [
    "m4 = Chem.MolFromSmiles('*CC(*)c1cccc(C=C)c1')\n",
    "frp_possible(m4) #should be False"
   ]
  },
  {
   "cell_type": "markdown",
   "metadata": {},
   "source": [
    "# Test frp_possible with steric consideration"
   ]
  },
  {
   "cell_type": "code",
   "execution_count": null,
   "metadata": {
    "scrolled": true
   },
   "outputs": [],
   "source": [
    "m = Chem.MolFromSmiles('*CC(*)c1ccccc1')\n",
    "m"
   ]
  },
  {
   "cell_type": "code",
   "execution_count": null,
   "metadata": {},
   "outputs": [],
   "source": [
    "retro.frp_possible(m) #should be true"
   ]
  },
  {
   "cell_type": "code",
   "execution_count": null,
   "metadata": {},
   "outputs": [],
   "source": [
    "m2 = Chem.MolFromSmiles('*C(c1ccccc1)C(*)c2ccccc2') #polystilbene\n",
    "m2"
   ]
  },
  {
   "cell_type": "code",
   "execution_count": null,
   "metadata": {},
   "outputs": [],
   "source": [
    "retro.frp_possible(m2) #should be false"
   ]
  },
  {
   "cell_type": "markdown",
   "metadata": {},
   "source": [
    "# Make donor-acceptor polymerization"
   ]
  },
  {
   "cell_type": "code",
   "execution_count": null,
   "metadata": {},
   "outputs": [],
   "source": [
    "m = Chem.MolFromSmiles('*C1C(=O)OC(=O)C1C(c2ccccc2)C(*)c3ccccc3')\n",
    "m"
   ]
  },
  {
   "cell_type": "code",
   "execution_count": null,
   "metadata": {},
   "outputs": [],
   "source": [
    "patt = Chem.MolFromSmarts('[#0][C;H0,H1][C;H0,H1][C;H0,H1][C;H0,H1][#0]')\n",
    "patt"
   ]
  },
  {
   "cell_type": "code",
   "execution_count": null,
   "metadata": {},
   "outputs": [],
   "source": [
    "m.HasSubstructMatch(patt) #should be true"
   ]
  },
  {
   "cell_type": "code",
   "execution_count": null,
   "metadata": {},
   "outputs": [],
   "source": [
    "m2 = Chem.MolFromSmiles('*CC(c1ccccc1)C2C(=O)OC(=O)C2*')\n",
    "m2"
   ]
  },
  {
   "cell_type": "code",
   "execution_count": null,
   "metadata": {},
   "outputs": [],
   "source": [
    "ru.mol_with_atom_index(m2)"
   ]
  },
  {
   "cell_type": "code",
   "execution_count": null,
   "metadata": {},
   "outputs": [],
   "source": [
    "m2.HasSubstructMatch(patt) #should be False"
   ]
  },
  {
   "cell_type": "code",
   "execution_count": null,
   "metadata": {
    "scrolled": true
   },
   "outputs": [],
   "source": [
    "out=retro.dap_depolymerize(m)\n",
    "out"
   ]
  },
  {
   "cell_type": "code",
   "execution_count": null,
   "metadata": {},
   "outputs": [],
   "source": [
    "ru.mol_with_partial_charge(out)"
   ]
  },
  {
   "cell_type": "code",
   "execution_count": null,
   "metadata": {},
   "outputs": [],
   "source": [
    "ru.mol_with_atom_index(out)"
   ]
  },
  {
   "cell_type": "code",
   "execution_count": null,
   "metadata": {},
   "outputs": [],
   "source": [
    "ru.mol_with_atom_index(m)"
   ]
  },
  {
   "cell_type": "code",
   "execution_count": null,
   "metadata": {},
   "outputs": [],
   "source": [
    "mon_matches=out.GetSubstructMatches(Chem.MolFromSmiles('C=C'))\n",
    "mon_matches"
   ]
  },
  {
   "cell_type": "code",
   "execution_count": null,
   "metadata": {},
   "outputs": [],
   "source": [
    "out.ComputeGasteigerCharges()"
   ]
  },
  {
   "cell_type": "code",
   "execution_count": null,
   "metadata": {},
   "outputs": [],
   "source": [
    "def getCharges(mol,atom_inds):\n",
    "    atoms = mol.GetAtoms()\n",
    "    return [atoms[ind].GetDoubleProp('_GasteigerCharge') for ind in atom_inds]"
   ]
  },
  {
   "cell_type": "code",
   "execution_count": null,
   "metadata": {},
   "outputs": [],
   "source": [
    "charges = getCharges(out,[mon_matches[0][0],mon_matches[0][1],mon_matches[1][0], \\\n",
    "                     mon_matches[1][1]])\n",
    "if charges[0]*charges[1] > 0 and charges[2]*charges[3] > 0 and charges[3]*charges[1] < 0 \\\n",
    "    and charges[0]*charges[2] < 0:\n",
    "    print('hi')"
   ]
  },
  {
   "cell_type": "markdown",
   "metadata": {},
   "source": [
    "# Incorporate partial charge"
   ]
  },
  {
   "cell_type": "code",
   "execution_count": null,
   "metadata": {},
   "outputs": [],
   "source": [
    "out.GetAtoms()[14].GetDoubleProp('_GasteigerCharge')"
   ]
  },
  {
   "cell_type": "code",
   "execution_count": null,
   "metadata": {},
   "outputs": [],
   "source": [
    "out.GetAtoms()[6].GetDoubleProp('_GasteigerCharge')"
   ]
  },
  {
   "cell_type": "code",
   "execution_count": null,
   "metadata": {},
   "outputs": [],
   "source": [
    "out.GetAtoms()[0].GetDoubleProp('_GasteigerCharge')"
   ]
  },
  {
   "cell_type": "markdown",
   "metadata": {},
   "source": [
    "# Run frp_possible on G2G success paper results"
   ]
  },
  {
   "cell_type": "code",
   "execution_count": 2,
   "metadata": {},
   "outputs": [
    {
     "output_type": "execute_result",
     "data": {
      "text/plain": [
       "                           SMILES  Bandgap    CIB       Tg  Epoch       ID  \\\n",
       "0     [*]C1C2CCC1C1CC([*])(C)CC21    6.309  3.722  505.582      0  ID_4593   \n",
       "1     [*]C1CC2CC1C1CC([*])(C)CC21    6.390  3.722  504.867      0   ID_198   \n",
       "2  [*]C1CCC2CC(OC(=O)O)C([*])C1O2    6.578  3.305  576.055      1  ID_2955   \n",
       "3         [*]C([*])(C)C1CCCC(C)C1    6.467  3.895  485.356      1  ID_1424   \n",
       "4   [*]C1CC2CC1C(C([*])OC(=O)O)C2    6.708  3.198  531.194      1  ID_1515   \n",
       "\n",
       "   afp_C3_C3_C3  afp_C3_C3_C4  afp_C3_C3_H1  afp_C3_C3_N3  ...  mfp_MQNs40  \\\n",
       "0           0.0           0.0           0.0           0.0  ...         0.0   \n",
       "1           0.0           0.0           0.0           0.0  ...         0.0   \n",
       "2           0.0           0.0           0.0           0.0  ...         0.0   \n",
       "3           0.0           0.0           0.0           0.0  ...         0.0   \n",
       "4           0.0           0.0           0.0           0.0  ...         0.0   \n",
       "\n",
       "   mfp_MQNs41  mfp_MQNs42  mfp_NumAliphaticRings  mfp_NumAromaticRings  \\\n",
       "0       0.185       0.111                  0.111                   0.0   \n",
       "1       0.185       0.111                  0.111                   0.0   \n",
       "2       0.120       0.080                  0.080                   0.0   \n",
       "3       0.000       0.000                  0.040                   0.0   \n",
       "4       0.125       0.083                  0.083                   0.0   \n",
       "\n",
       "   mfp_tpsa  Uniqueness  n_atoms  main_chain_len  Objective  \n",
       "0     0.000    0.566667       27             6.0   0.020390  \n",
       "1     0.000    0.457143       27             6.0   0.016218  \n",
       "2     0.558    0.422222       25             4.0   0.015142  \n",
       "3     0.000    0.678571       25             2.0   0.012242  \n",
       "4     0.485    0.447368       24             5.0   0.012222  \n",
       "\n",
       "[5 rows x 229 columns]"
      ],
      "text/html": "<div>\n<style scoped>\n    .dataframe tbody tr th:only-of-type {\n        vertical-align: middle;\n    }\n\n    .dataframe tbody tr th {\n        vertical-align: top;\n    }\n\n    .dataframe thead th {\n        text-align: right;\n    }\n</style>\n<table border=\"1\" class=\"dataframe\">\n  <thead>\n    <tr style=\"text-align: right;\">\n      <th></th>\n      <th>SMILES</th>\n      <th>Bandgap</th>\n      <th>CIB</th>\n      <th>Tg</th>\n      <th>Epoch</th>\n      <th>ID</th>\n      <th>afp_C3_C3_C3</th>\n      <th>afp_C3_C3_C4</th>\n      <th>afp_C3_C3_H1</th>\n      <th>afp_C3_C3_N3</th>\n      <th>...</th>\n      <th>mfp_MQNs40</th>\n      <th>mfp_MQNs41</th>\n      <th>mfp_MQNs42</th>\n      <th>mfp_NumAliphaticRings</th>\n      <th>mfp_NumAromaticRings</th>\n      <th>mfp_tpsa</th>\n      <th>Uniqueness</th>\n      <th>n_atoms</th>\n      <th>main_chain_len</th>\n      <th>Objective</th>\n    </tr>\n  </thead>\n  <tbody>\n    <tr>\n      <th>0</th>\n      <td>[*]C1C2CCC1C1CC([*])(C)CC21</td>\n      <td>6.309</td>\n      <td>3.722</td>\n      <td>505.582</td>\n      <td>0</td>\n      <td>ID_4593</td>\n      <td>0.0</td>\n      <td>0.0</td>\n      <td>0.0</td>\n      <td>0.0</td>\n      <td>...</td>\n      <td>0.0</td>\n      <td>0.185</td>\n      <td>0.111</td>\n      <td>0.111</td>\n      <td>0.0</td>\n      <td>0.000</td>\n      <td>0.566667</td>\n      <td>27</td>\n      <td>6.0</td>\n      <td>0.020390</td>\n    </tr>\n    <tr>\n      <th>1</th>\n      <td>[*]C1CC2CC1C1CC([*])(C)CC21</td>\n      <td>6.390</td>\n      <td>3.722</td>\n      <td>504.867</td>\n      <td>0</td>\n      <td>ID_198</td>\n      <td>0.0</td>\n      <td>0.0</td>\n      <td>0.0</td>\n      <td>0.0</td>\n      <td>...</td>\n      <td>0.0</td>\n      <td>0.185</td>\n      <td>0.111</td>\n      <td>0.111</td>\n      <td>0.0</td>\n      <td>0.000</td>\n      <td>0.457143</td>\n      <td>27</td>\n      <td>6.0</td>\n      <td>0.016218</td>\n    </tr>\n    <tr>\n      <th>2</th>\n      <td>[*]C1CCC2CC(OC(=O)O)C([*])C1O2</td>\n      <td>6.578</td>\n      <td>3.305</td>\n      <td>576.055</td>\n      <td>1</td>\n      <td>ID_2955</td>\n      <td>0.0</td>\n      <td>0.0</td>\n      <td>0.0</td>\n      <td>0.0</td>\n      <td>...</td>\n      <td>0.0</td>\n      <td>0.120</td>\n      <td>0.080</td>\n      <td>0.080</td>\n      <td>0.0</td>\n      <td>0.558</td>\n      <td>0.422222</td>\n      <td>25</td>\n      <td>4.0</td>\n      <td>0.015142</td>\n    </tr>\n    <tr>\n      <th>3</th>\n      <td>[*]C([*])(C)C1CCCC(C)C1</td>\n      <td>6.467</td>\n      <td>3.895</td>\n      <td>485.356</td>\n      <td>1</td>\n      <td>ID_1424</td>\n      <td>0.0</td>\n      <td>0.0</td>\n      <td>0.0</td>\n      <td>0.0</td>\n      <td>...</td>\n      <td>0.0</td>\n      <td>0.000</td>\n      <td>0.000</td>\n      <td>0.040</td>\n      <td>0.0</td>\n      <td>0.000</td>\n      <td>0.678571</td>\n      <td>25</td>\n      <td>2.0</td>\n      <td>0.012242</td>\n    </tr>\n    <tr>\n      <th>4</th>\n      <td>[*]C1CC2CC1C(C([*])OC(=O)O)C2</td>\n      <td>6.708</td>\n      <td>3.198</td>\n      <td>531.194</td>\n      <td>1</td>\n      <td>ID_1515</td>\n      <td>0.0</td>\n      <td>0.0</td>\n      <td>0.0</td>\n      <td>0.0</td>\n      <td>...</td>\n      <td>0.0</td>\n      <td>0.125</td>\n      <td>0.083</td>\n      <td>0.083</td>\n      <td>0.0</td>\n      <td>0.485</td>\n      <td>0.447368</td>\n      <td>24</td>\n      <td>5.0</td>\n      <td>0.012222</td>\n    </tr>\n  </tbody>\n</table>\n<p>5 rows × 229 columns</p>\n</div>"
     },
     "metadata": {},
     "execution_count": 2
    }
   ],
   "source": [
    "success = ru.pd_load('/data/rgur/g2g/paper_1/cib_tg_eg/cutoff-.1/first_cib_model/new_polymers_12_43PM_on_June_23_2020_sortedObjective.csv')\n",
    "success.head()"
   ]
  },
  {
   "cell_type": "code",
   "execution_count": 3,
   "metadata": {},
   "outputs": [
    {
     "output_type": "execute_result",
     "data": {
      "text/plain": [
       "3556"
      ]
     },
     "metadata": {},
     "execution_count": 3
    }
   ],
   "source": [
    "len(success)"
   ]
  },
  {
   "cell_type": "code",
   "execution_count": 4,
   "metadata": {
    "tags": [
     "outputPrepend"
    ]
   },
   "outputs": [
    {
     "output_type": "stream",
     "name": "stderr",
     "text": [
      "xplicit valence for atom # 16 C, 5, is greater than permitted\n",
      "RDKit ERROR: [17:47:14] Explicit valence for atom # 14 C, 5, is greater than permitted\n",
      "RDKit ERROR: [17:47:14] Explicit valence for atom # 0 C, 5, is greater than permitted\n",
      "RDKit ERROR: [17:47:14] Explicit valence for atom # 34 C, 5, is greater than permitted\n",
      "RDKit ERROR: [17:47:14] Explicit valence for atom # 7 C, 5, is greater than permitted\n",
      "RDKit ERROR: [17:47:14] Explicit valence for atom # 23 C, 5, is greater than permitted\n",
      "RDKit ERROR: [17:47:14] Explicit valence for atom # 0 C, 5, is greater than permitted\n",
      "RDKit ERROR: [17:47:14] Explicit valence for atom # 0 C, 5, is greater than permitted\n",
      "RDKit ERROR: [17:47:14] Explicit valence for atom # 11 C, 5, is greater than permitted\n",
      "RDKit ERROR: [17:47:14] Explicit valence for atom # 0 C, 5, is greater than permitted\n",
      "RDKit ERROR: [17:47:14] Explicit valence for atom # 21 C, 5, is greater than permitted\n",
      "RDKit ERROR: [17:47:14] Explicit valence for atom # 16 C, 5, is greater than permitted\n",
      "RDKit ERROR: [17:47:14] Explicit valence for atom # 24 C, 5, is greater than permitted\n",
      "RDKit ERROR: [17:47:14] Explicit valence for atom # 0 C, 5, is greater than permitted\n",
      "RDKit ERROR: [17:47:14] Explicit valence for atom # 20 C, 5, is greater than permitted\n",
      "RDKit ERROR: [17:47:14] Explicit valence for atom # 0 C, 5, is greater than permitted\n",
      "RDKit ERROR: [17:47:15] Explicit valence for atom # 10 C, 5, is greater than permitted\n",
      "RDKit ERROR: [17:47:15] Explicit valence for atom # 0 C, 5, is greater than permitted\n",
      "RDKit ERROR: [17:47:15] Explicit valence for atom # 10 C, 5, is greater than permitted\n",
      "RDKit ERROR: [17:47:15] Explicit valence for atom # 52 C, 5, is greater than permitted\n",
      "RDKit ERROR: [17:47:15] Explicit valence for atom # 21 C, 5, is greater than permitted\n",
      "RDKit ERROR: [17:47:15] Explicit valence for atom # 12 C, 5, is greater than permitted\n",
      "RDKit ERROR: [17:47:15] Explicit valence for atom # 0 C, 5, is greater than permitted\n",
      "RDKit ERROR: [17:47:15] Explicit valence for atom # 26 C, 5, is greater than permitted\n",
      "RDKit ERROR: [17:47:15] Explicit valence for atom # 0 C, 5, is greater than permitted\n",
      "RDKit ERROR: [17:47:15] Explicit valence for atom # 9 C, 5, is greater than permitted\n",
      "RDKit ERROR: [17:47:15] Explicit valence for atom # 12 C, 5, is greater than permitted\n",
      "RDKit ERROR: [17:47:15] Explicit valence for atom # 18 C, 5, is greater than permitted\n",
      "RDKit ERROR: [17:47:15] Explicit valence for atom # 32 C, 5, is greater than permitted\n",
      "RDKit ERROR: [17:47:15] Explicit valence for atom # 10 C, 5, is greater than permitted\n",
      "RDKit ERROR: [17:47:15] Explicit valence for atom # 31 C, 5, is greater than permitted\n",
      "RDKit ERROR: [17:47:15] Explicit valence for atom # 22 C, 5, is greater than permitted\n",
      "RDKit ERROR: [17:47:15] Explicit valence for atom # 40 C, 5, is greater than permitted\n",
      "RDKit ERROR: [17:47:15] Explicit valence for atom # 19 C, 5, is greater than permitted\n",
      "RDKit ERROR: [17:47:15] Explicit valence for atom # 3 C, 5, is greater than permitted\n",
      "RDKit ERROR: [17:47:15] Explicit valence for atom # 2 C, 5, is greater than permitted\n",
      "RDKit ERROR: [17:47:16] Explicit valence for atom # 18 C, 5, is greater than permitted\n",
      "RDKit ERROR: [17:47:16] Explicit valence for atom # 7 C, 5, is greater than permitted\n",
      "RDKit ERROR: [17:47:16] Explicit valence for atom # 17 C, 5, is greater than permitted\n",
      "RDKit ERROR: [17:47:16] Explicit valence for atom # 16 C, 5, is greater than permitted\n",
      "RDKit ERROR: [17:47:16] Explicit valence for atom # 0 C, 5, is greater than permitted\n",
      "RDKit ERROR: [17:47:16] Explicit valence for atom # 41 C, 5, is greater than permitted\n",
      "RDKit ERROR: [17:47:16] Explicit valence for atom # 28 C, 5, is greater than permitted\n",
      "RDKit ERROR: [17:47:16] Explicit valence for atom # 16 C, 5, is greater than permitted\n",
      "RDKit ERROR: [17:47:16] Explicit valence for atom # 10 C, 5, is greater than permitted\n",
      "RDKit ERROR: [17:47:16] Explicit valence for atom # 0 C, 5, is greater than permitted\n",
      "RDKit ERROR: [17:47:16] Explicit valence for atom # 0 C, 5, is greater than permitted\n",
      "RDKit ERROR: [17:47:16] Explicit valence for atom # 38 C, 5, is greater than permitted\n",
      "RDKit ERROR: [17:47:16] Explicit valence for atom # 14 C, 5, is greater than permitted\n",
      "RDKit ERROR: [17:47:16] Explicit valence for atom # 12 C, 5, is greater than permitted\n",
      "RDKit ERROR: [17:47:16] Explicit valence for atom # 5 C, 5, is greater than permitted\n",
      "RDKit ERROR: [17:47:16] Explicit valence for atom # 18 C, 5, is greater than permitted\n",
      "RDKit ERROR: [17:47:16] Explicit valence for atom # 0 C, 5, is greater than permitted\n",
      "RDKit ERROR: [17:47:16] Explicit valence for atom # 8 C, 5, is greater than permitted\n",
      "RDKit ERROR: [17:47:16] Explicit valence for atom # 16 C, 5, is greater than permitted\n",
      "RDKit ERROR: [17:47:16] Explicit valence for atom # 34 C, 5, is greater than permitted\n",
      "RDKit ERROR: [17:47:16] Explicit valence for atom # 7 C, 5, is greater than permitted\n",
      "RDKit ERROR: [17:47:16] Explicit valence for atom # 10 C, 5, is greater than permitted\n",
      "RDKit ERROR: [17:47:16] Explicit valence for atom # 12 C, 5, is greater than permitted\n",
      "RDKit ERROR: [17:47:16] Explicit valence for atom # 2 C, 5, is greater than permitted\n",
      "RDKit ERROR: [17:47:16] Explicit valence for atom # 21 C, 5, is greater than permitted\n",
      "RDKit ERROR: [17:47:16] Explicit valence for atom # 8 C, 5, is greater than permitted\n",
      "RDKit ERROR: [17:47:16] Explicit valence for atom # 0 O, 3, is greater than permitted\n",
      "RDKit ERROR: [17:47:16] Explicit valence for atom # 45 C, 5, is greater than permitted\n",
      "RDKit ERROR: [17:47:16] Explicit valence for atom # 10 C, 5, is greater than permitted\n",
      "RDKit ERROR: [17:47:16] Explicit valence for atom # 0 C, 5, is greater than permitted\n",
      "RDKit ERROR: [17:47:16] Explicit valence for atom # 2 C, 5, is greater than permitted\n",
      "RDKit ERROR: [17:47:16] Explicit valence for atom # 18 C, 5, is greater than permitted\n",
      "RDKit ERROR: [17:47:16] Explicit valence for atom # 36 C, 5, is greater than permitted\n",
      "RDKit ERROR: [17:47:16] Explicit valence for atom # 18 C, 5, is greater than permitted\n",
      "RDKit ERROR: [17:47:16] Explicit valence for atom # 22 C, 5, is greater than permitted\n",
      "RDKit ERROR: [17:47:16] Explicit valence for atom # 23 C, 5, is greater than permitted\n",
      "RDKit ERROR: [17:47:16] Explicit valence for atom # 16 C, 5, is greater than permitted\n",
      "RDKit ERROR: [17:47:16] Explicit valence for atom # 17 C, 5, is greater than permitted\n",
      "RDKit ERROR: [17:47:17] Explicit valence for atom # 0 C, 5, is greater than permitted\n",
      "RDKit ERROR: [17:47:17] Explicit valence for atom # 33 C, 5, is greater than permitted\n",
      "RDKit ERROR: [17:47:17] Explicit valence for atom # 7 C, 5, is greater than permitted\n",
      "RDKit ERROR: [17:47:17] Explicit valence for atom # 11 C, 5, is greater than permitted\n",
      "RDKit ERROR: [17:47:17] Explicit valence for atom # 14 C, 5, is greater than permitted\n",
      "RDKit ERROR: [17:47:17] Explicit valence for atom # 24 C, 5, is greater than permitted\n",
      "RDKit ERROR: [17:47:17] Explicit valence for atom # 10 C, 5, is greater than permitted\n",
      "RDKit ERROR: [17:47:17] Explicit valence for atom # 22 C, 5, is greater than permitted\n",
      "RDKit ERROR: [17:47:17] Explicit valence for atom # 0 O, 3, is greater than permitted\n",
      "RDKit ERROR: [17:47:17] Explicit valence for atom # 0 C, 5, is greater than permitted\n",
      "RDKit ERROR: [17:47:17] Explicit valence for atom # 21 C, 5, is greater than permitted\n",
      "RDKit ERROR: [17:47:17] Explicit valence for atom # 0 C, 5, is greater than permitted\n",
      "RDKit ERROR: [17:47:17] Explicit valence for atom # 0 O, 3, is greater than permitted\n",
      "RDKit ERROR: [17:47:17] Explicit valence for atom # 14 C, 5, is greater than permitted\n",
      "RDKit ERROR: [17:47:17] Explicit valence for atom # 13 C, 5, is greater than permitted\n",
      "RDKit ERROR: [17:47:17] Explicit valence for atom # 23 C, 5, is greater than permitted\n",
      "RDKit ERROR: [17:47:17] Explicit valence for atom # 13 C, 5, is greater than permitted\n",
      "RDKit ERROR: [17:47:17] Explicit valence for atom # 22 O, 3, is greater than permitted\n",
      "RDKit ERROR: [17:47:17] Explicit valence for atom # 8 C, 5, is greater than permitted\n",
      "RDKit ERROR: [17:47:17] Explicit valence for atom # 13 C, 5, is greater than permitted\n",
      "RDKit ERROR: [17:47:18] Explicit valence for atom # 20 C, 5, is greater than permitted\n",
      "RDKit ERROR: [17:47:18] Explicit valence for atom # 3 C, 5, is greater than permitted\n",
      "RDKit ERROR: [17:47:18] Explicit valence for atom # 20 C, 5, is greater than permitted\n",
      "RDKit ERROR: [17:47:18] Explicit valence for atom # 14 C, 5, is greater than permitted\n",
      "RDKit ERROR: [17:47:18] Explicit valence for atom # 16 C, 5, is greater than permitted\n",
      "RDKit ERROR: [17:47:18] Explicit valence for atom # 25 C, 5, is greater than permitted\n",
      "RDKit ERROR: [17:47:18] Explicit valence for atom # 13 C, 5, is greater than permitted\n",
      "RDKit ERROR: [17:47:18] Explicit valence for atom # 8 C, 5, is greater than permitted\n",
      "RDKit ERROR: [17:47:18] Explicit valence for atom # 18 C, 5, is greater than permitted\n",
      "RDKit ERROR: [17:47:18] Explicit valence for atom # 12 C, 5, is greater than permitted\n",
      "RDKit ERROR: [17:47:18] Explicit valence for atom # 6 C, 5, is greater than permitted\n",
      "RDKit ERROR: [17:47:18] Explicit valence for atom # 8 C, 5, is greater than permitted\n",
      "RDKit ERROR: [17:47:18] Explicit valence for atom # 28 C, 5, is greater than permitted\n",
      "RDKit ERROR: [17:47:18] Explicit valence for atom # 24 C, 5, is greater than permitted\n",
      "RDKit ERROR: [17:47:18] Explicit valence for atom # 22 C, 5, is greater than permitted\n",
      "RDKit ERROR: [17:47:18] Explicit valence for atom # 3 C, 5, is greater than permitted\n",
      "RDKit ERROR: [17:47:18] Explicit valence for atom # 15 C, 5, is greater than permitted\n",
      "RDKit ERROR: [17:47:18] Explicit valence for atom # 31 C, 5, is greater than permitted\n",
      "RDKit ERROR: [17:47:19] Explicit valence for atom # 5 N, 4, is greater than permitted\n",
      "RDKit ERROR: [17:47:19] Explicit valence for atom # 8 C, 5, is greater than permitted\n",
      "RDKit ERROR: [17:47:19] Explicit valence for atom # 10 C, 5, is greater than permitted\n",
      "RDKit ERROR: [17:47:19] Explicit valence for atom # 0 C, 5, is greater than permitted\n",
      "RDKit ERROR: [17:47:19] Explicit valence for atom # 18 C, 5, is greater than permitted\n",
      "RDKit ERROR: [17:47:19] Explicit valence for atom # 24 C, 5, is greater than permitted\n",
      "RDKit ERROR: [17:47:19] Explicit valence for atom # 18 C, 5, is greater than permitted\n",
      "RDKit ERROR: [17:47:19] Explicit valence for atom # 2 C, 5, is greater than permitted\n",
      "RDKit ERROR: [17:47:19] Explicit valence for atom # 0 O, 3, is greater than permitted\n",
      "RDKit ERROR: [17:47:19] Explicit valence for atom # 20 C, 5, is greater than permitted\n",
      "RDKit ERROR: [17:47:19] Explicit valence for atom # 8 C, 5, is greater than permitted\n",
      "RDKit ERROR: [17:47:19] Explicit valence for atom # 21 C, 5, is greater than permitted\n",
      "RDKit ERROR: [17:47:19] Explicit valence for atom # 0 C, 5, is greater than permitted\n",
      "RDKit ERROR: [17:47:19] Explicit valence for atom # 12 C, 5, is greater than permitted\n",
      "RDKit ERROR: [17:47:19] Explicit valence for atom # 17 C, 5, is greater than permitted\n",
      "RDKit ERROR: [17:47:19] Explicit valence for atom # 0 C, 5, is greater than permitted\n",
      "RDKit ERROR: [17:47:19] Explicit valence for atom # 15 C, 5, is greater than permitted\n",
      "RDKit ERROR: [17:47:19] Explicit valence for atom # 35 C, 5, is greater than permitted\n",
      "RDKit ERROR: [17:47:19] Explicit valence for atom # 24 C, 5, is greater than permitted\n",
      "RDKit ERROR: [17:47:19] Explicit valence for atom # 14 C, 5, is greater than permitted\n",
      "RDKit ERROR: [17:47:19] Explicit valence for atom # 15 C, 5, is greater than permitted\n",
      "RDKit ERROR: [17:47:19] Explicit valence for atom # 24 C, 5, is greater than permitted\n",
      "RDKit ERROR: [17:47:19] Explicit valence for atom # 12 C, 5, is greater than permitted\n",
      "RDKit ERROR: [17:47:19] Explicit valence for atom # 10 C, 5, is greater than permitted\n",
      "RDKit ERROR: [17:47:19] Explicit valence for atom # 17 C, 5, is greater than permitted\n",
      "RDKit ERROR: [17:47:19] Explicit valence for atom # 40 C, 5, is greater than permitted\n",
      "RDKit ERROR: [17:47:19] Explicit valence for atom # 10 C, 5, is greater than permitted\n",
      "RDKit ERROR: [17:47:20] Explicit valence for atom # 4 C, 5, is greater than permitted\n",
      "RDKit ERROR: [17:47:20] Explicit valence for atom # 18 C, 5, is greater than permitted\n",
      "RDKit ERROR: [17:47:20] Explicit valence for atom # 22 C, 5, is greater than permitted\n",
      "RDKit ERROR: [17:47:20] Explicit valence for atom # 26 C, 5, is greater than permitted\n",
      "RDKit ERROR: [17:47:20] Explicit valence for atom # 2 C, 5, is greater than permitted\n",
      "RDKit ERROR: [17:47:20] Explicit valence for atom # 34 C, 5, is greater than permitted\n",
      "RDKit ERROR: [17:47:20] Explicit valence for atom # 16 C, 5, is greater than permitted\n",
      "RDKit ERROR: [17:47:20] Explicit valence for atom # 35 C, 5, is greater than permitted\n",
      "RDKit ERROR: [17:47:20] Explicit valence for atom # 8 C, 5, is greater than permitted\n",
      "RDKit ERROR: [17:47:20] Explicit valence for atom # 2 C, 5, is greater than permitted\n",
      "RDKit ERROR: [17:47:20] Explicit valence for atom # 34 C, 5, is greater than permitted\n",
      "RDKit ERROR: [17:47:20] Explicit valence for atom # 17 C, 5, is greater than permitted\n",
      "RDKit ERROR: [17:47:20] Explicit valence for atom # 20 C, 5, is greater than permitted\n",
      "RDKit ERROR: [17:47:20] Explicit valence for atom # 27 C, 5, is greater than permitted\n",
      "RDKit ERROR: [17:47:20] Explicit valence for atom # 0 O, 3, is greater than permitted\n",
      "RDKit ERROR: [17:47:20] Explicit valence for atom # 31 C, 5, is greater than permitted\n",
      "RDKit ERROR: [17:47:20] Explicit valence for atom # 3 C, 5, is greater than permitted\n",
      "RDKit ERROR: [17:47:20] Explicit valence for atom # 30 C, 5, is greater than permitted\n",
      "RDKit ERROR: [17:47:20] Explicit valence for atom # 48 C, 5, is greater than permitted\n",
      "RDKit ERROR: [17:47:20] Explicit valence for atom # 15 C, 5, is greater than permitted\n",
      "RDKit ERROR: [17:47:20] Explicit valence for atom # 13 C, 5, is greater than permitted\n",
      "RDKit ERROR: [17:47:20] Explicit valence for atom # 24 C, 5, is greater than permitted\n",
      "RDKit ERROR: [17:47:20] Explicit valence for atom # 23 C, 5, is greater than permitted\n",
      "RDKit ERROR: [17:47:20] Explicit valence for atom # 18 C, 5, is greater than permitted\n",
      "RDKit ERROR: [17:47:20] Explicit valence for atom # 0 C, 5, is greater than permitted\n",
      "RDKit ERROR: [17:47:20] Explicit valence for atom # 19 C, 5, is greater than permitted\n",
      "RDKit ERROR: [17:47:20] Explicit valence for atom # 15 C, 5, is greater than permitted\n",
      "RDKit ERROR: [17:47:20] Explicit valence for atom # 15 C, 5, is greater than permitted\n",
      "RDKit ERROR: [17:47:20] Explicit valence for atom # 49 C, 5, is greater than permitted\n",
      "RDKit ERROR: [17:47:20] Explicit valence for atom # 31 C, 5, is greater than permitted\n",
      "RDKit ERROR: [17:47:21] Explicit valence for atom # 10 C, 5, is greater than permitted\n",
      "RDKit ERROR: [17:47:21] Explicit valence for atom # 0 C, 5, is greater than permitted\n",
      "RDKit ERROR: [17:47:21] Explicit valence for atom # 16 C, 5, is greater than permitted\n",
      "RDKit ERROR: [17:47:21] Explicit valence for atom # 26 C, 5, is greater than permitted\n",
      "RDKit ERROR: [17:47:21] Explicit valence for atom # 12 C, 5, is greater than permitted\n",
      "RDKit ERROR: [17:47:21] Explicit valence for atom # 24 C, 5, is greater than permitted\n",
      "RDKit ERROR: [17:47:21] Explicit valence for atom # 20 C, 5, is greater than permitted\n",
      "RDKit ERROR: [17:47:21] Explicit valence for atom # 2 C, 5, is greater than permitted\n",
      "RDKit ERROR: [17:47:21] Explicit valence for atom # 19 C, 5, is greater than permitted\n",
      "RDKit ERROR: [17:47:21] Explicit valence for atom # 0 O, 3, is greater than permitted\n",
      "RDKit ERROR: [17:47:21] Explicit valence for atom # 0 C, 5, is greater than permitted\n",
      "RDKit ERROR: [17:47:21] Explicit valence for atom # 8 C, 5, is greater than permitted\n",
      "RDKit ERROR: [17:47:21] Explicit valence for atom # 23 C, 5, is greater than permitted\n",
      "RDKit ERROR: [17:47:21] Explicit valence for atom # 5 C, 5, is greater than permitted\n",
      "RDKit ERROR: [17:47:21] Explicit valence for atom # 0 C, 5, is greater than permitted\n",
      "RDKit ERROR: [17:47:21] Explicit valence for atom # 22 C, 5, is greater than permitted\n",
      "RDKit ERROR: [17:47:21] Explicit valence for atom # 15 C, 5, is greater than permitted\n",
      "RDKit ERROR: [17:47:21] Explicit valence for atom # 32 C, 5, is greater than permitted\n",
      "RDKit ERROR: [17:47:21] Explicit valence for atom # 0 C, 5, is greater than permitted\n",
      "RDKit ERROR: [17:47:21] Explicit valence for atom # 11 C, 5, is greater than permitted\n",
      "RDKit ERROR: [17:47:21] Explicit valence for atom # 25 C, 5, is greater than permitted\n",
      "RDKit ERROR: [17:47:21] Explicit valence for atom # 25 C, 5, is greater than permitted\n",
      "RDKit ERROR: [17:47:21] Explicit valence for atom # 31 C, 5, is greater than permitted\n",
      "RDKit ERROR: [17:47:21] Explicit valence for atom # 17 C, 5, is greater than permitted\n",
      "RDKit ERROR: [17:47:21] Explicit valence for atom # 17 C, 5, is greater than permitted\n",
      "RDKit ERROR: [17:47:21] Explicit valence for atom # 31 C, 5, is greater than permitted\n",
      "RDKit ERROR: [17:47:21] Explicit valence for atom # 0 C, 5, is greater than permitted\n",
      "RDKit ERROR: [17:47:21] Explicit valence for atom # 0 O, 3, is greater than permitted\n",
      "RDKit ERROR: [17:47:21] Explicit valence for atom # 10 C, 5, is greater than permitted\n",
      "RDKit ERROR: [17:47:21] Explicit valence for atom # 24 C, 5, is greater than permitted\n",
      "RDKit ERROR: [17:47:21] Explicit valence for atom # 12 C, 5, is greater than permitted\n",
      "RDKit ERROR: [17:47:21] Explicit valence for atom # 28 O, 3, is greater than permitted\n",
      "RDKit ERROR: [17:47:21] Explicit valence for atom # 0 C, 5, is greater than permitted\n",
      "RDKit ERROR: [17:47:22] Explicit valence for atom # 13 C, 5, is greater than permitted\n",
      "RDKit ERROR: [17:47:22] Explicit valence for atom # 13 C, 5, is greater than permitted\n",
      "RDKit ERROR: [17:47:22] Explicit valence for atom # 27 C, 5, is greater than permitted\n",
      "RDKit ERROR: [17:47:22] Explicit valence for atom # 9 C, 5, is greater than permitted\n",
      "RDKit ERROR: [17:47:22] Explicit valence for atom # 16 C, 5, is greater than permitted\n",
      "RDKit ERROR: [17:47:22] Explicit valence for atom # 4 C, 5, is greater than permitted\n",
      "RDKit ERROR: [17:47:22] Explicit valence for atom # 53 C, 5, is greater than permitted\n",
      "RDKit ERROR: [17:47:22] Explicit valence for atom # 10 C, 5, is greater than permitted\n",
      "RDKit ERROR: [17:47:22] Explicit valence for atom # 0 O, 3, is greater than permitted\n",
      "RDKit ERROR: [17:47:22] Explicit valence for atom # 38 C, 5, is greater than permitted\n",
      "RDKit ERROR: [17:47:22] Explicit valence for atom # 16 C, 5, is greater than permitted\n",
      "RDKit ERROR: [17:47:22] Explicit valence for atom # 6 C, 5, is greater than permitted\n",
      "RDKit ERROR: [17:47:22] Explicit valence for atom # 36 C, 5, is greater than permitted\n",
      "RDKit ERROR: [17:47:22] Explicit valence for atom # 34 C, 5, is greater than permitted\n",
      "RDKit ERROR: [17:47:23] Explicit valence for atom # 6 C, 5, is greater than permitted\n",
      "RDKit ERROR: [17:47:23] Explicit valence for atom # 17 C, 5, is greater than permitted\n",
      "RDKit ERROR: [17:47:23] Explicit valence for atom # 39 C, 5, is greater than permitted\n",
      "RDKit ERROR: [17:47:23] Explicit valence for atom # 30 C, 5, is greater than permitted\n",
      "RDKit ERROR: [17:47:23] Explicit valence for atom # 28 C, 5, is greater than permitted\n",
      "RDKit ERROR: [17:47:23] Explicit valence for atom # 13 C, 5, is greater than permitted\n",
      "RDKit ERROR: [17:47:23] Explicit valence for atom # 16 C, 5, is greater than permitted\n",
      "RDKit ERROR: [17:47:23] Explicit valence for atom # 36 C, 5, is greater than permitted\n",
      "RDKit ERROR: [17:47:23] Explicit valence for atom # 25 C, 5, is greater than permitted\n",
      "RDKit ERROR: [17:47:23] Explicit valence for atom # 8 C, 5, is greater than permitted\n",
      "RDKit ERROR: [17:47:24] Explicit valence for atom # 13 C, 5, is greater than permitted\n",
      "RDKit ERROR: [17:47:24] Explicit valence for atom # 13 C, 5, is greater than permitted\n",
      "RDKit ERROR: [17:47:24] Explicit valence for atom # 8 C, 5, is greater than permitted\n",
      "RDKit ERROR: [17:47:25] Explicit valence for atom # 10 C, 5, is greater than permitted\n",
      "RDKit ERROR: [17:47:25] Explicit valence for atom # 6 C, 5, is greater than permitted\n"
     ]
    },
    {
     "output_type": "execute_result",
     "data": {
      "text/plain": [
       "['[*]C(F)(F)C1([*])CCCC(C(F)F)C1',\n",
       " '[*]C(C)C1([*])CCCC(C)C1',\n",
       " '[*]C(O)C1([*])OC(OC2OC(C)C(O)C(O)C2OC(C)=O)C(O)C(O)C1O',\n",
       " '[*]C(O)C1([*])C(OC2OC(COCC(=O)O)C(O)C(O)C2O)OC(OC)C1O']"
      ]
     },
     "metadata": {},
     "execution_count": 4
    }
   ],
   "source": [
    "smiles_ls = success['SMILES'].tolist()\n",
    "inds = [x for x in smiles_ls if retro.frp_depolymerize(x) != None]\n",
    "inds"
   ]
  },
  {
   "cell_type": "code",
   "execution_count": 6,
   "metadata": {},
   "outputs": [
    {
     "output_type": "execute_result",
     "data": {
      "text/plain": [
       "4"
      ]
     },
     "metadata": {},
     "execution_count": 6
    }
   ],
   "source": [
    "len(inds)"
   ]
  },
  {
   "cell_type": "code",
   "execution_count": 8,
   "metadata": {},
   "outputs": [
    {
     "output_type": "execute_result",
     "data": {
      "text/plain": [
       "<rdkit.Chem.rdchem.Mol at 0x7f1784ee03a0>"
      ],
      "image/png": "[encoded data removed]"
     },
     "metadata": {},
     "execution_count": 8
    }
   ],
   "source": [
    "retro.frp_depolymerize(Chem.MolFromSmiles(inds[0]))"
   ]
  },
  {
   "cell_type": "code",
   "execution_count": 9,
   "metadata": {},
   "outputs": [
    {
     "output_type": "execute_result",
     "data": {
      "text/plain": [
       "<rdkit.Chem.rdchem.Mol at 0x7f1784ed5cb0>"
      ],
      "image/png": "[encoded data removed]"
     },
     "metadata": {},
     "execution_count": 9
    }
   ],
   "source": [
    "retro.frp_depolymerize(Chem.MolFromSmiles(inds[1]))"
   ]
  },
  {
   "cell_type": "code",
   "execution_count": 10,
   "metadata": {},
   "outputs": [
    {
     "output_type": "execute_result",
     "data": {
      "text/plain": [
       "<rdkit.Chem.rdchem.Mol at 0x7f1784d09260>"
      ],
      "image/png": "[encoded data removed]"
     },
     "metadata": {},
     "execution_count": 10
    }
   ],
   "source": [
    "retro.frp_depolymerize(Chem.MolFromSmiles(inds[2]))"
   ]
  },
  {
   "cell_type": "code",
   "execution_count": 11,
   "metadata": {},
   "outputs": [
    {
     "output_type": "execute_result",
     "data": {
      "text/plain": [
       "<rdkit.Chem.rdchem.Mol at 0x7f1784eed2b0>"
      ],
      "image/png": "[encoded data removed]"
     },
     "metadata": {},
     "execution_count": 11
    }
   ],
   "source": [
    "retro.frp_depolymerize(Chem.MolFromSmiles(inds[3]))"
   ]
  },
  {
   "source": [
    "# Run frp_possible on G2G all paper results"
   ],
   "cell_type": "markdown",
   "metadata": {}
  },
  {
   "cell_type": "code",
   "execution_count": 4,
   "metadata": {},
   "outputs": [
    {
     "output_type": "execute_result",
     "data": {
      "text/plain": [
       "                                              smiles          tg        bg  \\\n",
       "0  [*]C(C)CCCCCCCCC1C2CCC(C2)C1C1(CCCCCCCCCCC([*]...  315.868362  5.577356   \n",
       "1  [*]C1CC(NC(=O)OC2CC3CCCC(C2)O3)CCC1CC1CCC(NC(=...  484.888270  5.491678   \n",
       "2  [*]C(CC)CCCCCCCC1C2CCC(C2)C1C1C2CCC(C2)C1C([*]...  347.465907  6.147327   \n",
       "3  [*]C1NC(C)CN(C(=O)C2CCCCC2C(=O)N2CC(C)N(C(=O)C...  446.112044  5.642420   \n",
       "4  [*]C([*])OC(=O)C1(C)CC2CC1C1C(CCC3CCC4C3C3CC4C...  463.547114  4.624584   \n",
       "\n",
       "        cib  \n",
       "0  2.921176  \n",
       "1  2.680727  \n",
       "2  3.238905  \n",
       "3  2.740090  \n",
       "4  2.283929  "
      ],
      "text/html": "<div>\n<style scoped>\n    .dataframe tbody tr th:only-of-type {\n        vertical-align: middle;\n    }\n\n    .dataframe tbody tr th {\n        vertical-align: top;\n    }\n\n    .dataframe thead th {\n        text-align: right;\n    }\n</style>\n<table border=\"1\" class=\"dataframe\">\n  <thead>\n    <tr style=\"text-align: right;\">\n      <th></th>\n      <th>smiles</th>\n      <th>tg</th>\n      <th>bg</th>\n      <th>cib</th>\n    </tr>\n  </thead>\n  <tbody>\n    <tr>\n      <th>0</th>\n      <td>[*]C(C)CCCCCCCCC1C2CCC(C2)C1C1(CCCCCCCCCCC([*]...</td>\n      <td>315.868362</td>\n      <td>5.577356</td>\n      <td>2.921176</td>\n    </tr>\n    <tr>\n      <th>1</th>\n      <td>[*]C1CC(NC(=O)OC2CC3CCCC(C2)O3)CCC1CC1CCC(NC(=...</td>\n      <td>484.888270</td>\n      <td>5.491678</td>\n      <td>2.680727</td>\n    </tr>\n    <tr>\n      <th>2</th>\n      <td>[*]C(CC)CCCCCCCC1C2CCC(C2)C1C1C2CCC(C2)C1C([*]...</td>\n      <td>347.465907</td>\n      <td>6.147327</td>\n      <td>3.238905</td>\n    </tr>\n    <tr>\n      <th>3</th>\n      <td>[*]C1NC(C)CN(C(=O)C2CCCCC2C(=O)N2CC(C)N(C(=O)C...</td>\n      <td>446.112044</td>\n      <td>5.642420</td>\n      <td>2.740090</td>\n    </tr>\n    <tr>\n      <th>4</th>\n      <td>[*]C([*])OC(=O)C1(C)CC2CC1C1C(CCC3CCC4C3C3CC4C...</td>\n      <td>463.547114</td>\n      <td>4.624584</td>\n      <td>2.283929</td>\n    </tr>\n  </tbody>\n</table>\n</div>"
     },
     "metadata": {},
     "execution_count": 4
    }
   ],
   "source": [
    "df = ru.pd_load('/data/rgur/g2g/paper_1/cib_tg_eg/cutoff-.1/first_cib_model/results_List/uniqueCanPolyAndProps.csv')\n",
    "df.head()"
   ]
  },
  {
   "cell_type": "code",
   "execution_count": 5,
   "metadata": {},
   "outputs": [
    {
     "output_type": "execute_result",
     "data": {
      "text/plain": [
       "29317"
      ]
     },
     "metadata": {},
     "execution_count": 5
    }
   ],
   "source": [
    "df_med = df[(df['bg']>5.5)&(df['cib']>2.5)&(df['tg']>400)]\n",
    "len(df_med)"
   ]
  },
  {
   "cell_type": "code",
   "execution_count": 6,
   "metadata": {},
   "outputs": [
    {
     "output_type": "error",
     "ename": "TypeError",
     "evalue": "'set' object is not subscriptable",
     "traceback": [
      "\u001b[0;31m---------------------------------------------------------------------------\u001b[0m",
      "\u001b[0;31mTypeError\u001b[0m                                 Traceback (most recent call last)",
      "\u001b[0;32m<ipython-input-6-c355b65ecd05>\u001b[0m in \u001b[0;36m<module>\u001b[0;34m\u001b[0m\n\u001b[1;32m      1\u001b[0m \u001b[0msmiles_ls\u001b[0m \u001b[0;34m=\u001b[0m \u001b[0mset\u001b[0m\u001b[0;34m(\u001b[0m\u001b[0mdf_med\u001b[0m\u001b[0;34m[\u001b[0m\u001b[0;34m'smiles'\u001b[0m\u001b[0;34m]\u001b[0m\u001b[0;34m.\u001b[0m\u001b[0mtolist\u001b[0m\u001b[0;34m(\u001b[0m\u001b[0;34m)\u001b[0m\u001b[0;34m)\u001b[0m\u001b[0;34m\u001b[0m\u001b[0;34m\u001b[0m\u001b[0m\n\u001b[0;32m----> 2\u001b[0;31m \u001b[0msmiles_ls\u001b[0m\u001b[0;34m[\u001b[0m\u001b[0;36m0\u001b[0m\u001b[0;34m:\u001b[0m\u001b[0;36m5\u001b[0m\u001b[0;34m]\u001b[0m\u001b[0;34m\u001b[0m\u001b[0;34m\u001b[0m\u001b[0m\n\u001b[0m",
      "\u001b[0;31mTypeError\u001b[0m: 'set' object is not subscriptable"
     ]
    }
   ],
   "source": [
    "smiles_ls = set(df_med['smiles'].tolist())"
   ]
  },
  {
   "cell_type": "code",
   "execution_count": 17,
   "metadata": {},
   "outputs": [
    {
     "output_type": "execute_result",
     "data": {
      "text/plain": [
       "<rdkit.Chem.rdchem.Mol at 0x7fe46724c620>"
      ],
      "image/png": "[encoded data removed]"
     },
     "metadata": {},
     "execution_count": 17
    }
   ],
   "source": [
    "Chem.MolFromSmarts('[#0][CH2]C[#0]')"
   ]
  },
  {
   "cell_type": "code",
   "execution_count": 7,
   "metadata": {
    "tags": [
     "outputPrepend"
    ]
   },
   "outputs": [
    {
     "output_type": "stream",
     "name": "stderr",
     "text": [
      "mitted\n",
      "RDKit ERROR: [09:56:47] Explicit valence for atom # 0 C, 5, is greater than permitted\n",
      "RDKit ERROR: [09:56:47] Explicit valence for atom # 29 C, 5, is greater than permitted\n",
      "RDKit ERROR: [09:56:47] Explicit valence for atom # 15 C, 5, is greater than permitted\n",
      "RDKit ERROR: [09:56:47] Explicit valence for atom # 9 C, 5, is greater than permitted\n",
      "RDKit ERROR: [09:56:47] Explicit valence for atom # 35 O, 3, is greater than permitted\n",
      "RDKit ERROR: [09:56:47] Explicit valence for atom # 0 O, 3, is greater than permitted\n",
      "RDKit ERROR: [09:56:47] Explicit valence for atom # 25 C, 5, is greater than permitted\n",
      "RDKit ERROR: [09:56:47] Explicit valence for atom # 30 C, 5, is greater than permitted\n",
      "RDKit ERROR: [09:56:47] Explicit valence for atom # 5 C, 5, is greater than permitted\n",
      "RDKit ERROR: [09:56:47] Explicit valence for atom # 4 C, 5, is greater than permitted\n",
      "RDKit ERROR: [09:56:47] Explicit valence for atom # 0 C, 5, is greater than permitted\n",
      "RDKit ERROR: [09:56:47] Explicit valence for atom # 16 C, 5, is greater than permitted\n",
      "RDKit ERROR: [09:56:47] Explicit valence for atom # 18 O, 3, is greater than permitted\n",
      "RDKit ERROR: [09:56:47] Explicit valence for atom # 14 C, 5, is greater than permitted\n",
      "RDKit ERROR: [09:56:47] Explicit valence for atom # 6 C, 5, is greater than permitted\n",
      "RDKit ERROR: [09:56:47] Explicit valence for atom # 0 C, 5, is greater than permitted\n",
      "RDKit ERROR: [09:56:47] Explicit valence for atom # 29 C, 5, is greater than permitted\n",
      "RDKit ERROR: [09:56:47] Explicit valence for atom # 22 C, 5, is greater than permitted\n",
      "RDKit ERROR: [09:56:47] Explicit valence for atom # 0 C, 5, is greater than permitted\n",
      "RDKit ERROR: [09:56:47] Explicit valence for atom # 7 C, 5, is greater than permitted\n",
      "RDKit ERROR: [09:56:47] Explicit valence for atom # 22 C, 5, is greater than permitted\n",
      "RDKit ERROR: [09:56:47] Explicit valence for atom # 0 O, 3, is greater than permitted\n",
      "RDKit ERROR: [09:56:47] Explicit valence for atom # 14 O, 3, is greater than permitted\n",
      "RDKit ERROR: [09:56:47] Explicit valence for atom # 23 C, 5, is greater than permitted\n",
      "RDKit ERROR: [09:56:47] Explicit valence for atom # 17 C, 5, is greater than permitted\n",
      "RDKit ERROR: [09:56:47] Explicit valence for atom # 0 C, 5, is greater than permitted\n",
      "RDKit ERROR: [09:56:47] Explicit valence for atom # 42 C, 5, is greater than permitted\n",
      "RDKit ERROR: [09:56:47] Explicit valence for atom # 21 C, 5, is greater than permitted\n",
      "RDKit ERROR: [09:56:47] Explicit valence for atom # 0 C, 5, is greater than permitted\n",
      "RDKit ERROR: [09:56:47] Explicit valence for atom # 54 C, 5, is greater than permitted\n",
      "RDKit ERROR: [09:56:47] Explicit valence for atom # 15 C, 5, is greater than permitted\n",
      "RDKit ERROR: [09:56:47] Explicit valence for atom # 4 C, 5, is greater than permitted\n",
      "RDKit ERROR: [09:56:47] Explicit valence for atom # 19 C, 5, is greater than permitted\n",
      "RDKit ERROR: [09:56:47] Explicit valence for atom # 45 C, 5, is greater than permitted\n",
      "RDKit ERROR: [09:56:47] Explicit valence for atom # 0 C, 5, is greater than permitted\n",
      "RDKit ERROR: [09:56:47] Explicit valence for atom # 4 C, 5, is greater than permitted\n",
      "RDKit ERROR: [09:56:47] Explicit valence for atom # 0 O, 3, is greater than permitted\n",
      "RDKit ERROR: [09:56:47] Explicit valence for atom # 10 C, 5, is greater than permitted\n",
      "RDKit ERROR: [09:56:48] Explicit valence for atom # 0 O, 3, is greater than permitted\n",
      "RDKit ERROR: [09:56:48] Explicit valence for atom # 35 C, 5, is greater than permitted\n",
      "RDKit ERROR: [09:56:48] Explicit valence for atom # 0 C, 5, is greater than permitted\n",
      "RDKit ERROR: [09:56:48] Explicit valence for atom # 4 C, 5, is greater than permitted\n",
      "RDKit ERROR: [09:56:48] Explicit valence for atom # 17 C, 5, is greater than permitted\n",
      "RDKit ERROR: [09:56:48] Explicit valence for atom # 0 O, 3, is greater than permitted\n",
      "RDKit ERROR: [09:56:48] Explicit valence for atom # 12 C, 5, is greater than permitted\n",
      "RDKit ERROR: [09:56:48] Explicit valence for atom # 0 O, 3, is greater than permitted\n",
      "RDKit ERROR: [09:56:48] Explicit valence for atom # 41 C, 5, is greater than permitted\n",
      "RDKit ERROR: [09:56:48] Explicit valence for atom # 0 C, 5, is greater than permitted\n",
      "RDKit ERROR: [09:56:48] Explicit valence for atom # 39 C, 5, is greater than permitted\n",
      "RDKit ERROR: [09:56:48] Explicit valence for atom # 54 C, 5, is greater than permitted\n",
      "RDKit ERROR: [09:56:48] Explicit valence for atom # 31 C, 5, is greater than permitted\n",
      "RDKit ERROR: [09:56:48] Explicit valence for atom # 17 C, 5, is greater than permitted\n",
      "RDKit ERROR: [09:56:48] Explicit valence for atom # 18 C, 5, is greater than permitted\n",
      "RDKit ERROR: [09:56:48] Explicit valence for atom # 41 N, 4, is greater than permitted\n",
      "RDKit ERROR: [09:56:48] Explicit valence for atom # 29 C, 5, is greater than permitted\n",
      "RDKit ERROR: [09:56:48] Explicit valence for atom # 14 N, 4, is greater than permitted\n",
      "RDKit ERROR: [09:56:48] Explicit valence for atom # 0 O, 3, is greater than permitted\n",
      "RDKit ERROR: [09:56:48] Explicit valence for atom # 19 C, 5, is greater than permitted\n",
      "RDKit ERROR: [09:56:48] Explicit valence for atom # 0 C, 5, is greater than permitted\n",
      "RDKit ERROR: [09:56:48] Explicit valence for atom # 0 O, 3, is greater than permitted\n",
      "RDKit ERROR: [09:56:48] Explicit valence for atom # 19 C, 5, is greater than permitted\n",
      "RDKit ERROR: [09:56:48] Explicit valence for atom # 23 C, 5, is greater than permitted\n",
      "RDKit ERROR: [09:56:48] Explicit valence for atom # 11 C, 5, is greater than permitted\n",
      "RDKit ERROR: [09:56:48] Explicit valence for atom # 4 C, 5, is greater than permitted\n",
      "RDKit ERROR: [09:56:48] Explicit valence for atom # 24 C, 5, is greater than permitted\n",
      "RDKit ERROR: [09:56:48] Explicit valence for atom # 0 C, 5, is greater than permitted\n",
      "RDKit ERROR: [09:56:48] Explicit valence for atom # 0 O, 3, is greater than permitted\n",
      "RDKit ERROR: [09:56:48] Explicit valence for atom # 0 O, 3, is greater than permitted\n",
      "RDKit ERROR: [09:56:48] Explicit valence for atom # 16 C, 5, is greater than permitted\n",
      "RDKit ERROR: [09:56:48] Explicit valence for atom # 38 O, 3, is greater than permitted\n",
      "RDKit ERROR: [09:56:48] Explicit valence for atom # 8 C, 5, is greater than permitted\n",
      "RDKit ERROR: [09:56:49] Explicit valence for atom # 12 C, 5, is greater than permitted\n",
      "RDKit ERROR: [09:56:49] Explicit valence for atom # 24 C, 5, is greater than permitted\n",
      "RDKit ERROR: [09:56:49] Explicit valence for atom # 16 C, 5, is greater than permitted\n",
      "RDKit ERROR: [09:56:49] Explicit valence for atom # 0 C, 5, is greater than permitted\n",
      "RDKit ERROR: [09:56:49] Explicit valence for atom # 10 C, 5, is greater than permitted\n",
      "RDKit ERROR: [09:56:49] Explicit valence for atom # 0 O, 3, is greater than permitted\n",
      "RDKit ERROR: [09:56:49] Explicit valence for atom # 0 C, 5, is greater than permitted\n",
      "RDKit ERROR: [09:56:49] Explicit valence for atom # 24 C, 5, is greater than permitted\n",
      "RDKit ERROR: [09:56:49] Explicit valence for atom # 29 O, 3, is greater than permitted\n",
      "RDKit ERROR: [09:56:49] Explicit valence for atom # 29 C, 5, is greater than permitted\n",
      "RDKit ERROR: [09:56:49] Explicit valence for atom # 12 C, 5, is greater than permitted\n",
      "RDKit ERROR: [09:56:49] Explicit valence for atom # 27 C, 5, is greater than permitted\n",
      "RDKit ERROR: [09:56:49] Explicit valence for atom # 22 C, 5, is greater than permitted\n",
      "RDKit ERROR: [09:56:49] Explicit valence for atom # 11 C, 5, is greater than permitted\n",
      "RDKit ERROR: [09:56:49] Explicit valence for atom # 32 C, 5, is greater than permitted\n",
      "RDKit ERROR: [09:56:49] Explicit valence for atom # 17 C, 5, is greater than permitted\n",
      "RDKit ERROR: [09:56:49] Explicit valence for atom # 3 C, 5, is greater than permitted\n",
      "RDKit ERROR: [09:56:49] Explicit valence for atom # 0 O, 3, is greater than permitted\n",
      "RDKit ERROR: [09:56:49] Explicit valence for atom # 11 C, 5, is greater than permitted\n",
      "RDKit ERROR: [09:56:49] Explicit valence for atom # 12 C, 5, is greater than permitted\n",
      "RDKit ERROR: [09:56:49] Explicit valence for atom # 20 C, 5, is greater than permitted\n",
      "RDKit ERROR: [09:56:49] Explicit valence for atom # 3 C, 5, is greater than permitted\n",
      "RDKit ERROR: [09:56:49] Explicit valence for atom # 17 C, 5, is greater than permitted\n",
      "RDKit ERROR: [09:56:49] Explicit valence for atom # 32 C, 5, is greater than permitted\n",
      "RDKit ERROR: [09:56:49] Explicit valence for atom # 35 C, 5, is greater than permitted\n",
      "RDKit ERROR: [09:56:49] Explicit valence for atom # 0 O, 3, is greater than permitted\n",
      "RDKit ERROR: [09:56:49] Explicit valence for atom # 0 O, 3, is greater than permitted\n",
      "RDKit ERROR: [09:56:50] Explicit valence for atom # 23 C, 5, is greater than permitted\n",
      "RDKit ERROR: [09:56:50] Explicit valence for atom # 13 C, 5, is greater than permitted\n",
      "RDKit ERROR: [09:56:50] Explicit valence for atom # 40 C, 5, is greater than permitted\n",
      "RDKit ERROR: [09:56:50] Explicit valence for atom # 13 C, 5, is greater than permitted\n",
      "RDKit ERROR: [09:56:50] Explicit valence for atom # 12 C, 5, is greater than permitted\n",
      "RDKit ERROR: [09:56:50] Explicit valence for atom # 12 C, 5, is greater than permitted\n",
      "RDKit ERROR: [09:56:50] Explicit valence for atom # 26 N, 4, is greater than permitted\n",
      "RDKit ERROR: [09:56:50] Explicit valence for atom # 0 O, 3, is greater than permitted\n",
      "RDKit ERROR: [09:56:50] Explicit valence for atom # 0 O, 3, is greater than permitted\n",
      "RDKit ERROR: [09:56:50] Explicit valence for atom # 21 C, 5, is greater than permitted\n",
      "RDKit ERROR: [09:56:50] Explicit valence for atom # 21 C, 5, is greater than permitted\n",
      "RDKit ERROR: [09:56:50] Explicit valence for atom # 0 C, 5, is greater than permitted\n",
      "RDKit ERROR: [09:56:50] Explicit valence for atom # 0 O, 3, is greater than permitted\n",
      "RDKit ERROR: [09:56:50] Explicit valence for atom # 19 O, 3, is greater than permitted\n",
      "RDKit ERROR: [09:56:50] Explicit valence for atom # 33 C, 5, is greater than permitted\n",
      "RDKit ERROR: [09:56:50] Explicit valence for atom # 0 O, 3, is greater than permitted\n",
      "RDKit ERROR: [09:56:50] Explicit valence for atom # 23 C, 5, is greater than permitted\n",
      "RDKit ERROR: [09:56:50] Explicit valence for atom # 10 C, 5, is greater than permitted\n",
      "RDKit ERROR: [09:56:50] Explicit valence for atom # 25 C, 5, is greater than permitted\n",
      "RDKit ERROR: [09:56:50] Explicit valence for atom # 34 C, 5, is greater than permitted\n",
      "RDKit ERROR: [09:56:50] Explicit valence for atom # 2 C, 5, is greater than permitted\n",
      "RDKit ERROR: [09:56:50] Explicit valence for atom # 33 C, 5, is greater than permitted\n",
      "RDKit ERROR: [09:56:50] Explicit valence for atom # 17 C, 5, is greater than permitted\n",
      "RDKit ERROR: [09:56:50] Explicit valence for atom # 0 O, 3, is greater than permitted\n",
      "RDKit ERROR: [09:56:50] Explicit valence for atom # 0 O, 3, is greater than permitted\n",
      "RDKit ERROR: [09:56:50] Explicit valence for atom # 32 C, 5, is greater than permitted\n",
      "RDKit ERROR: [09:56:50] Explicit valence for atom # 0 O, 3, is greater than permitted\n",
      "RDKit ERROR: [09:56:50] Explicit valence for atom # 16 C, 5, is greater than permitted\n",
      "RDKit ERROR: [09:56:50] Explicit valence for atom # 25 C, 5, is greater than permitted\n",
      "RDKit ERROR: [09:56:50] Explicit valence for atom # 28 C, 5, is greater than permitted\n",
      "RDKit ERROR: [09:56:50] Explicit valence for atom # 17 C, 5, is greater than permitted\n",
      "RDKit ERROR: [09:56:50] Explicit valence for atom # 0 O, 3, is greater than permitted\n",
      "RDKit ERROR: [09:56:51] Explicit valence for atom # 29 C, 5, is greater than permitted\n",
      "RDKit ERROR: [09:56:51] Explicit valence for atom # 22 N, 4, is greater than permitted\n",
      "RDKit ERROR: [09:56:51] Explicit valence for atom # 2 C, 5, is greater than permitted\n",
      "RDKit ERROR: [09:56:51] Explicit valence for atom # 16 C, 5, is greater than permitted\n",
      "RDKit ERROR: [09:56:51] Explicit valence for atom # 0 O, 3, is greater than permitted\n",
      "RDKit ERROR: [09:56:51] Explicit valence for atom # 0 O, 3, is greater than permitted\n",
      "RDKit ERROR: [09:56:51] Explicit valence for atom # 4 C, 5, is greater than permitted\n",
      "RDKit ERROR: [09:56:51] Explicit valence for atom # 0 O, 3, is greater than permitted\n",
      "RDKit ERROR: [09:56:51] Explicit valence for atom # 17 C, 5, is greater than permitted\n",
      "RDKit ERROR: [09:56:51] Explicit valence for atom # 22 C, 5, is greater than permitted\n",
      "RDKit ERROR: [09:56:51] Explicit valence for atom # 0 O, 3, is greater than permitted\n",
      "RDKit ERROR: [09:56:51] Explicit valence for atom # 5 C, 5, is greater than permitted\n",
      "RDKit ERROR: [09:56:51] Explicit valence for atom # 0 O, 3, is greater than permitted\n",
      "RDKit ERROR: [09:56:51] Explicit valence for atom # 0 C, 5, is greater than permitted\n",
      "RDKit ERROR: [09:56:51] Explicit valence for atom # 24 C, 5, is greater than permitted\n",
      "RDKit ERROR: [09:56:51] Explicit valence for atom # 0 C, 5, is greater than permitted\n",
      "RDKit ERROR: [09:56:51] Explicit valence for atom # 13 C, 5, is greater than permitted\n",
      "RDKit ERROR: [09:56:51] Explicit valence for atom # 0 C, 5, is greater than permitted\n",
      "RDKit ERROR: [09:56:51] Explicit valence for atom # 7 C, 5, is greater than permitted\n",
      "RDKit ERROR: [09:56:51] Explicit valence for atom # 28 C, 5, is greater than permitted\n",
      "RDKit ERROR: [09:56:51] Explicit valence for atom # 23 C, 5, is greater than permitted\n",
      "RDKit ERROR: [09:56:51] Explicit valence for atom # 0 O, 3, is greater than permitted\n",
      "RDKit ERROR: [09:56:51] Explicit valence for atom # 0 C, 5, is greater than permitted\n",
      "RDKit ERROR: [09:56:51] Explicit valence for atom # 10 N, 4, is greater than permitted\n",
      "RDKit ERROR: [09:56:51] Explicit valence for atom # 25 C, 5, is greater than permitted\n",
      "RDKit ERROR: [09:56:51] Explicit valence for atom # 31 C, 5, is greater than permitted\n",
      "RDKit ERROR: [09:56:51] Explicit valence for atom # 6 C, 5, is greater than permitted\n",
      "RDKit ERROR: [09:56:51] Explicit valence for atom # 0 C, 5, is greater than permitted\n",
      "RDKit ERROR: [09:56:51] Explicit valence for atom # 8 C, 5, is greater than permitted\n",
      "RDKit ERROR: [09:56:51] Explicit valence for atom # 0 C, 5, is greater than permitted\n",
      "RDKit ERROR: [09:56:51] Explicit valence for atom # 7 C, 5, is greater than permitted\n",
      "RDKit ERROR: [09:56:51] Explicit valence for atom # 5 C, 5, is greater than permitted\n",
      "RDKit ERROR: [09:56:51] Explicit valence for atom # 16 N, 4, is greater than permitted\n",
      "RDKit ERROR: [09:56:51] Explicit valence for atom # 3 C, 5, is greater than permitted\n",
      "RDKit ERROR: [09:56:51] Explicit valence for atom # 0 C, 5, is greater than permitted\n",
      "RDKit ERROR: [09:56:51] Explicit valence for atom # 34 C, 5, is greater than permitted\n",
      "RDKit ERROR: [09:56:52] Explicit valence for atom # 2 C, 5, is greater than permitted\n",
      "RDKit ERROR: [09:56:52] Explicit valence for atom # 25 C, 5, is greater than permitted\n",
      "RDKit ERROR: [09:56:52] Explicit valence for atom # 34 C, 5, is greater than permitted\n",
      "RDKit ERROR: [09:56:52] Explicit valence for atom # 0 C, 5, is greater than permitted\n",
      "RDKit ERROR: [09:56:52] Explicit valence for atom # 32 C, 5, is greater than permitted\n",
      "RDKit ERROR: [09:56:52] Explicit valence for atom # 0 C, 5, is greater than permitted\n",
      "RDKit ERROR: [09:56:52] Explicit valence for atom # 0 O, 3, is greater than permitted\n",
      "RDKit ERROR: [09:56:52] Explicit valence for atom # 48 C, 5, is greater than permitted\n",
      "RDKit ERROR: [09:56:52] Explicit valence for atom # 40 C, 5, is greater than permitted\n",
      "RDKit ERROR: [09:56:52] Explicit valence for atom # 4 C, 5, is greater than permitted\n",
      "RDKit ERROR: [09:56:52] Explicit valence for atom # 23 C, 5, is greater than permitted\n",
      "RDKit ERROR: [09:56:52] Explicit valence for atom # 12 C, 5, is greater than permitted\n",
      "RDKit ERROR: [09:56:52] Explicit valence for atom # 11 C, 5, is greater than permitted\n",
      "RDKit ERROR: [09:56:52] Explicit valence for atom # 0 C, 5, is greater than permitted\n",
      "RDKit ERROR: [09:56:52] Explicit valence for atom # 0 C, 5, is greater than permitted\n",
      "RDKit ERROR: [09:56:52] Explicit valence for atom # 6 C, 5, is greater than permitted\n",
      "RDKit ERROR: [09:56:52] Explicit valence for atom # 15 C, 5, is greater than permitted\n",
      "RDKit ERROR: [09:56:53] Explicit valence for atom # 18 C, 5, is greater than permitted\n",
      "RDKit ERROR: [09:56:53] Explicit valence for atom # 17 C, 5, is greater than permitted\n",
      "RDKit ERROR: [09:56:53] Explicit valence for atom # 7 C, 5, is greater than permitted\n",
      "RDKit ERROR: [09:56:53] Explicit valence for atom # 21 C, 5, is greater than permitted\n",
      "RDKit ERROR: [09:56:53] Explicit valence for atom # 0 O, 3, is greater than permitted\n",
      "RDKit ERROR: [09:56:53] Explicit valence for atom # 26 O, 3, is greater than permitted\n",
      "RDKit ERROR: [09:56:53] Explicit valence for atom # 0 O, 3, is greater than permitted\n",
      "RDKit ERROR: [09:56:53] Explicit valence for atom # 0 O, 3, is greater than permitted\n",
      "RDKit ERROR: [09:56:53] Explicit valence for atom # 0 C, 5, is greater than permitted\n",
      "RDKit ERROR: [09:56:53] Explicit valence for atom # 4 C, 5, is greater than permitted\n",
      "RDKit ERROR: [09:56:53] Explicit valence for atom # 0 O, 3, is greater than permitted\n",
      "RDKit ERROR: [09:56:53] Explicit valence for atom # 5 C, 5, is greater than permitted\n",
      "RDKit ERROR: [09:56:53] Explicit valence for atom # 5 C, 5, is greater than permitted\n",
      "RDKit ERROR: [09:56:53] Explicit valence for atom # 27 C, 5, is greater than permitted\n",
      "RDKit ERROR: [09:56:53] Explicit valence for atom # 0 O, 3, is greater than permitted\n",
      "RDKit ERROR: [09:56:53] Explicit valence for atom # 5 N, 4, is greater than permitted\n",
      "RDKit ERROR: [09:56:53] Explicit valence for atom # 26 C, 5, is greater than permitted\n",
      "RDKit ERROR: [09:56:53] Explicit valence for atom # 37 C, 5, is greater than permitted\n",
      "RDKit ERROR: [09:56:53] Explicit valence for atom # 28 C, 5, is greater than permitted\n",
      "RDKit ERROR: [09:56:53] Explicit valence for atom # 20 C, 5, is greater than permitted\n",
      "RDKit ERROR: [09:56:53] Explicit valence for atom # 6 C, 5, is greater than permitted\n",
      "RDKit ERROR: [09:56:53] Explicit valence for atom # 16 C, 5, is greater than permitted\n",
      "RDKit ERROR: [09:56:53] Explicit valence for atom # 0 O, 3, is greater than permitted\n",
      "RDKit ERROR: [09:56:53] Explicit valence for atom # 0 O, 3, is greater than permitted\n",
      "RDKit ERROR: [09:56:53] Explicit valence for atom # 0 C, 5, is greater than permitted\n",
      "RDKit ERROR: [09:56:53] Explicit valence for atom # 16 C, 5, is greater than permitted\n",
      "RDKit ERROR: [09:56:53] Explicit valence for atom # 51 C, 5, is greater than permitted\n",
      "RDKit ERROR: [09:56:53] Explicit valence for atom # 0 O, 3, is greater than permitted\n",
      "RDKit ERROR: [09:56:53] Explicit valence for atom # 14 C, 5, is greater than permitted\n",
      "RDKit ERROR: [09:56:53] Explicit valence for atom # 32 C, 5, is greater than permitted\n",
      "RDKit ERROR: [09:56:53] Explicit valence for atom # 28 C, 5, is greater than permitted\n",
      "RDKit ERROR: [09:56:53] Explicit valence for atom # 14 C, 5, is greater than permitted\n",
      "RDKit ERROR: [09:56:53] Explicit valence for atom # 10 N, 4, is greater than permitted\n",
      "RDKit ERROR: [09:56:53] Explicit valence for atom # 18 C, 5, is greater than permitted\n",
      "RDKit ERROR: [09:56:53] Explicit valence for atom # 0 C, 5, is greater than permitted\n",
      "RDKit ERROR: [09:56:53] Explicit valence for atom # 15 C, 5, is greater than permitted\n",
      "RDKit ERROR: [09:56:53] Explicit valence for atom # 0 O, 3, is greater than permitted\n",
      "RDKit ERROR: [09:56:53] Explicit valence for atom # 9 C, 5, is greater than permitted\n",
      "RDKit ERROR: [09:56:53] Explicit valence for atom # 2 C, 5, is greater than permitted\n",
      "RDKit ERROR: [09:56:53] Explicit valence for atom # 17 C, 5, is greater than permitted\n",
      "RDKit ERROR: [09:56:53] Explicit valence for atom # 0 O, 3, is greater than permitted\n",
      "RDKit ERROR: [09:56:53] Explicit valence for atom # 7 C, 5, is greater than permitted\n",
      "RDKit ERROR: [09:56:53] Explicit valence for atom # 0 C, 5, is greater than permitted\n",
      "RDKit ERROR: [09:56:53] Explicit valence for atom # 29 C, 5, is greater than permitted\n",
      "RDKit ERROR: [09:56:53] Explicit valence for atom # 0 O, 3, is greater than permitted\n",
      "RDKit ERROR: [09:56:53] Explicit valence for atom # 36 C, 5, is greater than permitted\n",
      "RDKit ERROR: [09:56:53] Explicit valence for atom # 0 O, 3, is greater than permitted\n",
      "RDKit ERROR: [09:56:53] Explicit valence for atom # 18 C, 5, is greater than permitted\n"
     ]
    }
   ],
   "source": [
    "out = [x for x in smiles_ls if retro.frp_depolymerize(x) != None]\n",
    "len(out)"
   ]
  },
  {
   "cell_type": "code",
   "execution_count": 19,
   "metadata": {},
   "outputs": [
    {
     "output_type": "execute_result",
     "data": {
      "text/plain": [
       "<rdkit.Chem.rdchem.Mol at 0x7fe467254bc0>"
      ],
      "image/png": "[encoded data removed]"
     },
     "metadata": {},
     "execution_count": 19
    }
   ],
   "source": [
    "Chem.MolFromSmiles(out[0])"
   ]
  },
  {
   "cell_type": "code",
   "execution_count": 20,
   "metadata": {},
   "outputs": [
    {
     "output_type": "execute_result",
     "data": {
      "text/plain": [
       "<rdkit.Chem.rdchem.Mol at 0x7fe4680ba080>"
      ],
      "image/png": "[encoded data removed]"
     },
     "metadata": {},
     "execution_count": 20
    }
   ],
   "source": [
    "Chem.MolFromSmiles(out[1])"
   ]
  },
  {
   "cell_type": "code",
   "execution_count": 23,
   "metadata": {},
   "outputs": [
    {
     "output_type": "execute_result",
     "data": {
      "text/plain": [
       "                                                smiles          tg        bg  \\\n",
       "2138   [*]CC([*])(CC(C)C1=NC(C)C(=O)O1)C1=NC(C)C(=O)O1  423.798977  5.899242   \n",
       "8601   [*]CC([*])(CC(C)C1=NC(C)C(=O)O1)C1=NC(C)C(=O)O1  423.798977  5.899242   \n",
       "28752  [*]CC([*])(CC(C)C1=NC(C)C(=O)O1)C1=NC(C)C(=O)O1  423.798977  5.899242   \n",
       "39898  [*]CC([*])(CC(C)C1=NC(C)C(=O)O1)C1=NC(C)C(=O)O1  423.798977  5.899242   \n",
       "\n",
       "            cib  \n",
       "2138   2.919123  \n",
       "8601   2.919123  \n",
       "28752  2.919123  \n",
       "39898  2.919123  "
      ],
      "text/html": "<div>\n<style scoped>\n    .dataframe tbody tr th:only-of-type {\n        vertical-align: middle;\n    }\n\n    .dataframe tbody tr th {\n        vertical-align: top;\n    }\n\n    .dataframe thead th {\n        text-align: right;\n    }\n</style>\n<table border=\"1\" class=\"dataframe\">\n  <thead>\n    <tr style=\"text-align: right;\">\n      <th></th>\n      <th>smiles</th>\n      <th>tg</th>\n      <th>bg</th>\n      <th>cib</th>\n    </tr>\n  </thead>\n  <tbody>\n    <tr>\n      <th>2138</th>\n      <td>[*]CC([*])(CC(C)C1=NC(C)C(=O)O1)C1=NC(C)C(=O)O1</td>\n      <td>423.798977</td>\n      <td>5.899242</td>\n      <td>2.919123</td>\n    </tr>\n    <tr>\n      <th>8601</th>\n      <td>[*]CC([*])(CC(C)C1=NC(C)C(=O)O1)C1=NC(C)C(=O)O1</td>\n      <td>423.798977</td>\n      <td>5.899242</td>\n      <td>2.919123</td>\n    </tr>\n    <tr>\n      <th>28752</th>\n      <td>[*]CC([*])(CC(C)C1=NC(C)C(=O)O1)C1=NC(C)C(=O)O1</td>\n      <td>423.798977</td>\n      <td>5.899242</td>\n      <td>2.919123</td>\n    </tr>\n    <tr>\n      <th>39898</th>\n      <td>[*]CC([*])(CC(C)C1=NC(C)C(=O)O1)C1=NC(C)C(=O)O1</td>\n      <td>423.798977</td>\n      <td>5.899242</td>\n      <td>2.919123</td>\n    </tr>\n  </tbody>\n</table>\n</div>"
     },
     "metadata": {},
     "execution_count": 23
    }
   ],
   "source": [
    "df[df['smiles']==out[1]]"
   ]
  },
  {
   "cell_type": "code",
   "execution_count": 24,
   "metadata": {},
   "outputs": [
    {
     "output_type": "execute_result",
     "data": {
      "text/plain": [
       "<rdkit.Chem.rdchem.Mol at 0x7fe4680ba940>"
      ],
      "image/png": "[encoded data removed]"
     },
     "metadata": {},
     "execution_count": 24
    }
   ],
   "source": [
    "Chem.MolFromSmiles(out[2])"
   ]
  },
  {
   "cell_type": "code",
   "execution_count": 25,
   "metadata": {},
   "outputs": [
    {
     "output_type": "execute_result",
     "data": {
      "text/plain": [
       "                                smiles          tg        bg       cib\n",
       "2409   [*]CC([*])C1CC(C)C2C3CCC(C3)C12  472.222304  5.747219  3.458461\n",
       "3762   [*]CC([*])C1CC(C)C2C3CCC(C3)C12  472.222304  5.747219  3.458461\n",
       "12180  [*]CC([*])C1CC(C)C2C3CCC(C3)C12  472.222304  5.747219  3.458461\n",
       "13652  [*]CC([*])C1CC(C)C2C3CCC(C3)C12  472.222304  5.747219  3.458461\n",
       "33830  [*]CC([*])C1CC(C)C2C3CCC(C3)C12  472.222304  5.747219  3.458461\n",
       "51575  [*]CC([*])C1CC(C)C2C3CCC(C3)C12  472.222304  5.747219  3.458461"
      ],
      "text/html": "<div>\n<style scoped>\n    .dataframe tbody tr th:only-of-type {\n        vertical-align: middle;\n    }\n\n    .dataframe tbody tr th {\n        vertical-align: top;\n    }\n\n    .dataframe thead th {\n        text-align: right;\n    }\n</style>\n<table border=\"1\" class=\"dataframe\">\n  <thead>\n    <tr style=\"text-align: right;\">\n      <th></th>\n      <th>smiles</th>\n      <th>tg</th>\n      <th>bg</th>\n      <th>cib</th>\n    </tr>\n  </thead>\n  <tbody>\n    <tr>\n      <th>2409</th>\n      <td>[*]CC([*])C1CC(C)C2C3CCC(C3)C12</td>\n      <td>472.222304</td>\n      <td>5.747219</td>\n      <td>3.458461</td>\n    </tr>\n    <tr>\n      <th>3762</th>\n      <td>[*]CC([*])C1CC(C)C2C3CCC(C3)C12</td>\n      <td>472.222304</td>\n      <td>5.747219</td>\n      <td>3.458461</td>\n    </tr>\n    <tr>\n      <th>12180</th>\n      <td>[*]CC([*])C1CC(C)C2C3CCC(C3)C12</td>\n      <td>472.222304</td>\n      <td>5.747219</td>\n      <td>3.458461</td>\n    </tr>\n    <tr>\n      <th>13652</th>\n      <td>[*]CC([*])C1CC(C)C2C3CCC(C3)C12</td>\n      <td>472.222304</td>\n      <td>5.747219</td>\n      <td>3.458461</td>\n    </tr>\n    <tr>\n      <th>33830</th>\n      <td>[*]CC([*])C1CC(C)C2C3CCC(C3)C12</td>\n      <td>472.222304</td>\n      <td>5.747219</td>\n      <td>3.458461</td>\n    </tr>\n    <tr>\n      <th>51575</th>\n      <td>[*]CC([*])C1CC(C)C2C3CCC(C3)C12</td>\n      <td>472.222304</td>\n      <td>5.747219</td>\n      <td>3.458461</td>\n    </tr>\n  </tbody>\n</table>\n</div>"
     },
     "metadata": {},
     "execution_count": 25
    }
   ],
   "source": [
    "df[df['smiles']==out[2]]"
   ]
  },
  {
   "cell_type": "code",
   "execution_count": 29,
   "metadata": {},
   "outputs": [
    {
     "output_type": "execute_result",
     "data": {
      "text/plain": [
       "<rdkit.Chem.rdchem.Mol at 0x7fe4680beb70>"
      ],
      "image/png": "[encoded data removed]"
     },
     "metadata": {},
     "execution_count": 29
    }
   ],
   "source": [
    "Chem.MolFromSmiles(out[5])"
   ]
  },
  {
   "cell_type": "code",
   "execution_count": 33,
   "metadata": {},
   "outputs": [
    {
     "output_type": "execute_result",
     "data": {
      "text/plain": [
       "                                            smiles          tg        bg  \\\n",
       "5635   [*]CC([*])C1CC(CC)C(CCC2CCC3C4CCC(C4)C23)C1  421.030279  5.524643   \n",
       "44344  [*]CC([*])C1CC(CC)C(CCC2CCC3C4CCC(C4)C23)C1  421.030279  5.524643   \n",
       "\n",
       "            cib  \n",
       "5635   3.154625  \n",
       "44344  3.154625  "
      ],
      "text/html": "<div>\n<style scoped>\n    .dataframe tbody tr th:only-of-type {\n        vertical-align: middle;\n    }\n\n    .dataframe tbody tr th {\n        vertical-align: top;\n    }\n\n    .dataframe thead th {\n        text-align: right;\n    }\n</style>\n<table border=\"1\" class=\"dataframe\">\n  <thead>\n    <tr style=\"text-align: right;\">\n      <th></th>\n      <th>smiles</th>\n      <th>tg</th>\n      <th>bg</th>\n      <th>cib</th>\n    </tr>\n  </thead>\n  <tbody>\n    <tr>\n      <th>5635</th>\n      <td>[*]CC([*])C1CC(CC)C(CCC2CCC3C4CCC(C4)C23)C1</td>\n      <td>421.030279</td>\n      <td>5.524643</td>\n      <td>3.154625</td>\n    </tr>\n    <tr>\n      <th>44344</th>\n      <td>[*]CC([*])C1CC(CC)C(CCC2CCC3C4CCC(C4)C23)C1</td>\n      <td>421.030279</td>\n      <td>5.524643</td>\n      <td>3.154625</td>\n    </tr>\n  </tbody>\n</table>\n</div>"
     },
     "metadata": {},
     "execution_count": 33
    }
   ],
   "source": [
    "df[df['smiles']==out[5]]"
   ]
  },
  {
   "cell_type": "code",
   "execution_count": 38,
   "metadata": {},
   "outputs": [
    {
     "output_type": "execute_result",
     "data": {
      "text/plain": [
       "<rdkit.Chem.rdchem.Mol at 0x7fe4680c96c0>"
      ],
      "image/png": "[encoded data removed]"
     },
     "metadata": {},
     "execution_count": 38
    }
   ],
   "source": [
    "Chem.MolFromSmiles(out[10])"
   ]
  },
  {
   "cell_type": "code",
   "execution_count": 39,
   "metadata": {},
   "outputs": [
    {
     "output_type": "execute_result",
     "data": {
      "text/plain": [
       "                                                  smiles          tg  \\\n",
       "11600  [*]CC([*])(CC(C)(C)C1=NC(C)C(C)O1)C1=NC(C)C(=O)O1  418.250602   \n",
       "\n",
       "             bg       cib  \n",
       "11600  6.074991  3.362081  "
      ],
      "text/html": "<div>\n<style scoped>\n    .dataframe tbody tr th:only-of-type {\n        vertical-align: middle;\n    }\n\n    .dataframe tbody tr th {\n        vertical-align: top;\n    }\n\n    .dataframe thead th {\n        text-align: right;\n    }\n</style>\n<table border=\"1\" class=\"dataframe\">\n  <thead>\n    <tr style=\"text-align: right;\">\n      <th></th>\n      <th>smiles</th>\n      <th>tg</th>\n      <th>bg</th>\n      <th>cib</th>\n    </tr>\n  </thead>\n  <tbody>\n    <tr>\n      <th>11600</th>\n      <td>[*]CC([*])(CC(C)(C)C1=NC(C)C(C)O1)C1=NC(C)C(=O)O1</td>\n      <td>418.250602</td>\n      <td>6.074991</td>\n      <td>3.362081</td>\n    </tr>\n  </tbody>\n</table>\n</div>"
     },
     "metadata": {},
     "execution_count": 39
    }
   ],
   "source": [
    "df[df['smiles']==out[10]]"
   ]
  },
  {
   "cell_type": "code",
   "execution_count": 40,
   "metadata": {},
   "outputs": [
    {
     "output_type": "execute_result",
     "data": {
      "text/plain": [
       "<rdkit.Chem.rdchem.Mol at 0x7fe4680c93a0>"
      ],
      "image/png": "[encoded data removed]"
     },
     "metadata": {},
     "execution_count": 40
    }
   ],
   "source": [
    "Chem.MolFromSmiles(out[11])"
   ]
  },
  {
   "cell_type": "code",
   "execution_count": 41,
   "metadata": {},
   "outputs": [
    {
     "output_type": "execute_result",
     "data": {
      "text/plain": [
       "                                       smiles          tg        bg       cib\n",
       "11792  [*]CC([*])(Cl)C(=O)NCC1CCCC(CC(N)=O)C1  443.209028  5.569672  2.862899"
      ],
      "text/html": "<div>\n<style scoped>\n    .dataframe tbody tr th:only-of-type {\n        vertical-align: middle;\n    }\n\n    .dataframe tbody tr th {\n        vertical-align: top;\n    }\n\n    .dataframe thead th {\n        text-align: right;\n    }\n</style>\n<table border=\"1\" class=\"dataframe\">\n  <thead>\n    <tr style=\"text-align: right;\">\n      <th></th>\n      <th>smiles</th>\n      <th>tg</th>\n      <th>bg</th>\n      <th>cib</th>\n    </tr>\n  </thead>\n  <tbody>\n    <tr>\n      <th>11792</th>\n      <td>[*]CC([*])(Cl)C(=O)NCC1CCCC(CC(N)=O)C1</td>\n      <td>443.209028</td>\n      <td>5.569672</td>\n      <td>2.862899</td>\n    </tr>\n  </tbody>\n</table>\n</div>"
     },
     "metadata": {},
     "execution_count": 41
    }
   ],
   "source": [
    "df[df['smiles']==out[11]]"
   ]
  },
  {
   "cell_type": "code",
   "execution_count": 42,
   "metadata": {},
   "outputs": [
    {
     "output_type": "execute_result",
     "data": {
      "text/plain": [
       "<rdkit.Chem.rdchem.Mol at 0x7fe46806aad0>"
      ],
      "image/png": "[encoded data removed]"
     },
     "metadata": {},
     "execution_count": 42
    }
   ],
   "source": [
    "Chem.MolFromSmiles(out[12])"
   ]
  },
  {
   "cell_type": "code",
   "execution_count": 43,
   "metadata": {},
   "outputs": [
    {
     "output_type": "execute_result",
     "data": {
      "text/plain": [
       "                                        smiles        tg       bg       cib\n",
       "12148  [*]CC([*])C1C2C(C)CC(CC)C2C1C1CC2CCC1C2  416.1335  5.76206  3.213548"
      ],
      "text/html": "<div>\n<style scoped>\n    .dataframe tbody tr th:only-of-type {\n        vertical-align: middle;\n    }\n\n    .dataframe tbody tr th {\n        vertical-align: top;\n    }\n\n    .dataframe thead th {\n        text-align: right;\n    }\n</style>\n<table border=\"1\" class=\"dataframe\">\n  <thead>\n    <tr style=\"text-align: right;\">\n      <th></th>\n      <th>smiles</th>\n      <th>tg</th>\n      <th>bg</th>\n      <th>cib</th>\n    </tr>\n  </thead>\n  <tbody>\n    <tr>\n      <th>12148</th>\n      <td>[*]CC([*])C1C2C(C)CC(CC)C2C1C1CC2CCC1C2</td>\n      <td>416.1335</td>\n      <td>5.76206</td>\n      <td>3.213548</td>\n    </tr>\n  </tbody>\n</table>\n</div>"
     },
     "metadata": {},
     "execution_count": 43
    }
   ],
   "source": [
    "df[df['smiles']==out[12]]"
   ]
  },
  {
   "cell_type": "code",
   "execution_count": 46,
   "metadata": {},
   "outputs": [
    {
     "output_type": "execute_result",
     "data": {
      "text/plain": [
       "<rdkit.Chem.rdchem.Mol at 0x7fe4680d6d50>"
      ],
      "image/png": "[encoded data removed]"
     },
     "metadata": {},
     "execution_count": 46
    }
   ],
   "source": [
    "Chem.MolFromSmiles(out[14])"
   ]
  },
  {
   "cell_type": "code",
   "execution_count": 48,
   "metadata": {},
   "outputs": [
    {
     "output_type": "execute_result",
     "data": {
      "text/plain": [
       "                                    smiles          tg        bg       cib\n",
       "12772  [*]CC([*])C1CCC(C2C3CCC(C3)C2C)C1CC  439.726743  5.724267  3.321802"
      ],
      "text/html": "<div>\n<style scoped>\n    .dataframe tbody tr th:only-of-type {\n        vertical-align: middle;\n    }\n\n    .dataframe tbody tr th {\n        vertical-align: top;\n    }\n\n    .dataframe thead th {\n        text-align: right;\n    }\n</style>\n<table border=\"1\" class=\"dataframe\">\n  <thead>\n    <tr style=\"text-align: right;\">\n      <th></th>\n      <th>smiles</th>\n      <th>tg</th>\n      <th>bg</th>\n      <th>cib</th>\n    </tr>\n  </thead>\n  <tbody>\n    <tr>\n      <th>12772</th>\n      <td>[*]CC([*])C1CCC(C2C3CCC(C3)C2C)C1CC</td>\n      <td>439.726743</td>\n      <td>5.724267</td>\n      <td>3.321802</td>\n    </tr>\n  </tbody>\n</table>\n</div>"
     },
     "metadata": {},
     "execution_count": 48
    }
   ],
   "source": [
    "df[df['smiles']==out[14]]"
   ]
  },
  {
   "cell_type": "code",
   "execution_count": 51,
   "metadata": {},
   "outputs": [
    {
     "output_type": "execute_result",
     "data": {
      "text/plain": [
       "<rdkit.Chem.rdchem.Mol at 0x7fe4680c6710>"
      ],
      "image/png": "[encoded data removed]"
     },
     "metadata": {},
     "execution_count": 51
    }
   ],
   "source": [
    "Chem.MolFromSmiles(out[17])"
   ]
  },
  {
   "cell_type": "code",
   "execution_count": 52,
   "metadata": {},
   "outputs": [
    {
     "output_type": "execute_result",
     "data": {
      "text/plain": [
       "                                        smiles          tg        bg       cib\n",
       "14194  [*]CC([*])C1CCC(CCC2CCC3C4CCC(C4)C23)C1  429.882395  5.537663  3.127676\n",
       "24447  [*]CC([*])C1CCC(CCC2CCC3C4CCC(C4)C23)C1  429.882395  5.537663  3.127676\n",
       "51545  [*]CC([*])C1CCC(CCC2CCC3C4CCC(C4)C23)C1  429.882395  5.537663  3.127676"
      ],
      "text/html": "<div>\n<style scoped>\n    .dataframe tbody tr th:only-of-type {\n        vertical-align: middle;\n    }\n\n    .dataframe tbody tr th {\n        vertical-align: top;\n    }\n\n    .dataframe thead th {\n        text-align: right;\n    }\n</style>\n<table border=\"1\" class=\"dataframe\">\n  <thead>\n    <tr style=\"text-align: right;\">\n      <th></th>\n      <th>smiles</th>\n      <th>tg</th>\n      <th>bg</th>\n      <th>cib</th>\n    </tr>\n  </thead>\n  <tbody>\n    <tr>\n      <th>14194</th>\n      <td>[*]CC([*])C1CCC(CCC2CCC3C4CCC(C4)C23)C1</td>\n      <td>429.882395</td>\n      <td>5.537663</td>\n      <td>3.127676</td>\n    </tr>\n    <tr>\n      <th>24447</th>\n      <td>[*]CC([*])C1CCC(CCC2CCC3C4CCC(C4)C23)C1</td>\n      <td>429.882395</td>\n      <td>5.537663</td>\n      <td>3.127676</td>\n    </tr>\n    <tr>\n      <th>51545</th>\n      <td>[*]CC([*])C1CCC(CCC2CCC3C4CCC(C4)C23)C1</td>\n      <td>429.882395</td>\n      <td>5.537663</td>\n      <td>3.127676</td>\n    </tr>\n  </tbody>\n</table>\n</div>"
     },
     "metadata": {},
     "execution_count": 52
    }
   ],
   "source": [
    "df[df['smiles']==out[17]]"
   ]
  },
  {
   "cell_type": "code",
   "execution_count": 54,
   "metadata": {},
   "outputs": [],
   "source": [
    "out2 = []\n",
    "for x in out:\n",
    "    if x not in out2:\n",
    "        out2.append(x)"
   ]
  },
  {
   "cell_type": "code",
   "execution_count": 55,
   "metadata": {},
   "outputs": [
    {
     "output_type": "execute_result",
     "data": {
      "text/plain": [
       "35"
      ]
     },
     "metadata": {},
     "execution_count": 55
    }
   ],
   "source": [
    "len(out2)"
   ]
  },
  {
   "cell_type": "code",
   "execution_count": 61,
   "metadata": {},
   "outputs": [
    {
     "output_type": "execute_result",
     "data": {
      "text/plain": [
       "<rdkit.Chem.rdchem.Mol at 0x7fe467255760>"
      ],
      "image/png": "[encoded data removed]"
     },
     "metadata": {},
     "execution_count": 61
    }
   ],
   "source": [
    "Chem.MolFromSmiles(out2[15])"
   ]
  },
  {
   "cell_type": "code",
   "execution_count": 81,
   "metadata": {},
   "outputs": [
    {
     "output_type": "execute_result",
     "data": {
      "text/plain": [
       "                                    smiles          tg        bg       cib\n",
       "21407  [*]CC([*])C1C(C)C(CC)C2C3CCC(C3)C12  452.242325  5.616659  3.451383\n",
       "54318  [*]CC([*])C1C(C)C(CC)C2C3CCC(C3)C12  452.242325  5.616659  3.451383"
      ],
      "text/html": "<div>\n<style scoped>\n    .dataframe tbody tr th:only-of-type {\n        vertical-align: middle;\n    }\n\n    .dataframe tbody tr th {\n        vertical-align: top;\n    }\n\n    .dataframe thead th {\n        text-align: right;\n    }\n</style>\n<table border=\"1\" class=\"dataframe\">\n  <thead>\n    <tr style=\"text-align: right;\">\n      <th></th>\n      <th>smiles</th>\n      <th>tg</th>\n      <th>bg</th>\n      <th>cib</th>\n    </tr>\n  </thead>\n  <tbody>\n    <tr>\n      <th>21407</th>\n      <td>[*]CC([*])C1C(C)C(CC)C2C3CCC(C3)C12</td>\n      <td>452.242325</td>\n      <td>5.616659</td>\n      <td>3.451383</td>\n    </tr>\n    <tr>\n      <th>54318</th>\n      <td>[*]CC([*])C1C(C)C(CC)C2C3CCC(C3)C12</td>\n      <td>452.242325</td>\n      <td>5.616659</td>\n      <td>3.451383</td>\n    </tr>\n  </tbody>\n</table>\n</div>"
     },
     "metadata": {},
     "execution_count": 81
    }
   ],
   "source": [
    "df[df['smiles']==out2[15]]"
   ]
  },
  {
   "cell_type": "code",
   "execution_count": 64,
   "metadata": {},
   "outputs": [
    {
     "output_type": "execute_result",
     "data": {
      "text/plain": [
       "<rdkit.Chem.rdchem.Mol at 0x7fe4672418f0>"
      ],
      "image/png": "[encoded data removed]"
     },
     "metadata": {},
     "execution_count": 64
    }
   ],
   "source": [
    "Chem.MolFromSmiles(out2[18])"
   ]
  },
  {
   "cell_type": "code",
   "execution_count": 82,
   "metadata": {},
   "outputs": [
    {
     "output_type": "execute_result",
     "data": {
      "text/plain": [
       "                                           smiles          tg        bg  \\\n",
       "23432  [*]CC([*])(CC(C)(C)C1=NC(C)C(=O)O1)C(=O)OC  418.040476  6.215951   \n",
       "35828  [*]CC([*])(CC(C)(C)C1=NC(C)C(=O)O1)C(=O)OC  418.040476  6.215951   \n",
       "\n",
       "            cib  \n",
       "23432  2.822738  \n",
       "35828  2.822738  "
      ],
      "text/html": "<div>\n<style scoped>\n    .dataframe tbody tr th:only-of-type {\n        vertical-align: middle;\n    }\n\n    .dataframe tbody tr th {\n        vertical-align: top;\n    }\n\n    .dataframe thead th {\n        text-align: right;\n    }\n</style>\n<table border=\"1\" class=\"dataframe\">\n  <thead>\n    <tr style=\"text-align: right;\">\n      <th></th>\n      <th>smiles</th>\n      <th>tg</th>\n      <th>bg</th>\n      <th>cib</th>\n    </tr>\n  </thead>\n  <tbody>\n    <tr>\n      <th>23432</th>\n      <td>[*]CC([*])(CC(C)(C)C1=NC(C)C(=O)O1)C(=O)OC</td>\n      <td>418.040476</td>\n      <td>6.215951</td>\n      <td>2.822738</td>\n    </tr>\n    <tr>\n      <th>35828</th>\n      <td>[*]CC([*])(CC(C)(C)C1=NC(C)C(=O)O1)C(=O)OC</td>\n      <td>418.040476</td>\n      <td>6.215951</td>\n      <td>2.822738</td>\n    </tr>\n  </tbody>\n</table>\n</div>"
     },
     "metadata": {},
     "execution_count": 82
    }
   ],
   "source": [
    "df[df['smiles']==out2[18]]"
   ]
  },
  {
   "cell_type": "code",
   "execution_count": 69,
   "metadata": {},
   "outputs": [
    {
     "output_type": "execute_result",
     "data": {
      "text/plain": [
       "<rdkit.Chem.rdchem.Mol at 0x7fe4680b1ee0>"
      ],
      "image/png": "[encoded data removed]"
     },
     "metadata": {},
     "execution_count": 69
    }
   ],
   "source": [
    "Chem.MolFromSmiles(out2[23])"
   ]
  },
  {
   "cell_type": "code",
   "execution_count": 83,
   "metadata": {},
   "outputs": [
    {
     "output_type": "execute_result",
     "data": {
      "text/plain": [
       "                                                  smiles          tg  \\\n",
       "36387  [*]CC([*])(CC(C)(C)C1=NC(C)C(=O)O1)C1=NC(C)C(=...  422.542855   \n",
       "47331  [*]CC([*])(CC(C)(C)C1=NC(C)C(=O)O1)C1=NC(C)C(=...  422.542855   \n",
       "49731  [*]CC([*])(CC(C)(C)C1=NC(C)C(=O)O1)C1=NC(C)C(=...  422.542855   \n",
       "\n",
       "             bg       cib  \n",
       "36387  5.908199  2.845352  \n",
       "47331  5.908199  2.845352  \n",
       "49731  5.908199  2.845352  "
      ],
      "text/html": "<div>\n<style scoped>\n    .dataframe tbody tr th:only-of-type {\n        vertical-align: middle;\n    }\n\n    .dataframe tbody tr th {\n        vertical-align: top;\n    }\n\n    .dataframe thead th {\n        text-align: right;\n    }\n</style>\n<table border=\"1\" class=\"dataframe\">\n  <thead>\n    <tr style=\"text-align: right;\">\n      <th></th>\n      <th>smiles</th>\n      <th>tg</th>\n      <th>bg</th>\n      <th>cib</th>\n    </tr>\n  </thead>\n  <tbody>\n    <tr>\n      <th>36387</th>\n      <td>[*]CC([*])(CC(C)(C)C1=NC(C)C(=O)O1)C1=NC(C)C(=...</td>\n      <td>422.542855</td>\n      <td>5.908199</td>\n      <td>2.845352</td>\n    </tr>\n    <tr>\n      <th>47331</th>\n      <td>[*]CC([*])(CC(C)(C)C1=NC(C)C(=O)O1)C1=NC(C)C(=...</td>\n      <td>422.542855</td>\n      <td>5.908199</td>\n      <td>2.845352</td>\n    </tr>\n    <tr>\n      <th>49731</th>\n      <td>[*]CC([*])(CC(C)(C)C1=NC(C)C(=O)O1)C1=NC(C)C(=...</td>\n      <td>422.542855</td>\n      <td>5.908199</td>\n      <td>2.845352</td>\n    </tr>\n  </tbody>\n</table>\n</div>"
     },
     "metadata": {},
     "execution_count": 83
    }
   ],
   "source": [
    "df[df['smiles']==out2[23]]"
   ]
  },
  {
   "cell_type": "code",
   "execution_count": 71,
   "metadata": {},
   "outputs": [
    {
     "output_type": "execute_result",
     "data": {
      "text/plain": [
       "<rdkit.Chem.rdchem.Mol at 0x7fe4680be620>"
      ],
      "image/png": "[encoded data removed]"
     },
     "metadata": {},
     "execution_count": 71
    }
   ],
   "source": [
    "Chem.MolFromSmiles(out2[25])"
   ]
  },
  {
   "cell_type": "code",
   "execution_count": 84,
   "metadata": {},
   "outputs": [
    {
     "output_type": "execute_result",
     "data": {
      "text/plain": [
       "                                smiles          tg       bg       cib\n",
       "38642  [*]CC([*])C1C(C)CC2C3CCC(C3)C21  469.127594  5.61762  3.427977\n",
       "41355  [*]CC([*])C1C(C)CC2C3CCC(C3)C21  469.127594  5.61762  3.427977\n",
       "55909  [*]CC([*])C1C(C)CC2C3CCC(C3)C21  469.127594  5.61762  3.427977"
      ],
      "text/html": "<div>\n<style scoped>\n    .dataframe tbody tr th:only-of-type {\n        vertical-align: middle;\n    }\n\n    .dataframe tbody tr th {\n        vertical-align: top;\n    }\n\n    .dataframe thead th {\n        text-align: right;\n    }\n</style>\n<table border=\"1\" class=\"dataframe\">\n  <thead>\n    <tr style=\"text-align: right;\">\n      <th></th>\n      <th>smiles</th>\n      <th>tg</th>\n      <th>bg</th>\n      <th>cib</th>\n    </tr>\n  </thead>\n  <tbody>\n    <tr>\n      <th>38642</th>\n      <td>[*]CC([*])C1C(C)CC2C3CCC(C3)C21</td>\n      <td>469.127594</td>\n      <td>5.61762</td>\n      <td>3.427977</td>\n    </tr>\n    <tr>\n      <th>41355</th>\n      <td>[*]CC([*])C1C(C)CC2C3CCC(C3)C21</td>\n      <td>469.127594</td>\n      <td>5.61762</td>\n      <td>3.427977</td>\n    </tr>\n    <tr>\n      <th>55909</th>\n      <td>[*]CC([*])C1C(C)CC2C3CCC(C3)C21</td>\n      <td>469.127594</td>\n      <td>5.61762</td>\n      <td>3.427977</td>\n    </tr>\n  </tbody>\n</table>\n</div>"
     },
     "metadata": {},
     "execution_count": 84
    }
   ],
   "source": [
    "df[df['smiles']==out2[25]]"
   ]
  },
  {
   "cell_type": "code",
   "execution_count": 73,
   "metadata": {},
   "outputs": [
    {
     "output_type": "execute_result",
     "data": {
      "text/plain": [
       "<rdkit.Chem.rdchem.Mol at 0x7fe468071d00>"
      ],
      "image/png": "[encoded data removed]"
     },
     "metadata": {},
     "execution_count": 73
    }
   ],
   "source": [
    "Chem.MolFromSmiles(out2[27])"
   ]
  },
  {
   "cell_type": "code",
   "execution_count": 85,
   "metadata": {},
   "outputs": [
    {
     "output_type": "execute_result",
     "data": {
      "text/plain": [
       "                                  smiles          tg        bg      cib\n",
       "39788  [*]CC([*])C1CC(CCC)C2C3CCC(C3)C12  439.369544  5.778485  3.43198"
      ],
      "text/html": "<div>\n<style scoped>\n    .dataframe tbody tr th:only-of-type {\n        vertical-align: middle;\n    }\n\n    .dataframe tbody tr th {\n        vertical-align: top;\n    }\n\n    .dataframe thead th {\n        text-align: right;\n    }\n</style>\n<table border=\"1\" class=\"dataframe\">\n  <thead>\n    <tr style=\"text-align: right;\">\n      <th></th>\n      <th>smiles</th>\n      <th>tg</th>\n      <th>bg</th>\n      <th>cib</th>\n    </tr>\n  </thead>\n  <tbody>\n    <tr>\n      <th>39788</th>\n      <td>[*]CC([*])C1CC(CCC)C2C3CCC(C3)C12</td>\n      <td>439.369544</td>\n      <td>5.778485</td>\n      <td>3.43198</td>\n    </tr>\n  </tbody>\n</table>\n</div>"
     },
     "metadata": {},
     "execution_count": 85
    }
   ],
   "source": [
    "df[df['smiles']==out2[27]]"
   ]
  },
  {
   "cell_type": "code",
   "execution_count": 74,
   "metadata": {},
   "outputs": [
    {
     "output_type": "execute_result",
     "data": {
      "text/plain": [
       "<rdkit.Chem.rdchem.Mol at 0x7fe4680c69e0>"
      ],
      "image/png": "[encoded data removed]"
     },
     "metadata": {},
     "execution_count": 74
    }
   ],
   "source": [
    "Chem.MolFromSmiles(out2[28])"
   ]
  },
  {
   "cell_type": "code",
   "execution_count": 86,
   "metadata": {},
   "outputs": [
    {
     "output_type": "execute_result",
     "data": {
      "text/plain": [
       "                                smiles          tg        bg       cib\n",
       "42115  [*]CC([*])C1CCC(C2CC3CC2CC3C)C1  440.507056  5.673757  3.256478"
      ],
      "text/html": "<div>\n<style scoped>\n    .dataframe tbody tr th:only-of-type {\n        vertical-align: middle;\n    }\n\n    .dataframe tbody tr th {\n        vertical-align: top;\n    }\n\n    .dataframe thead th {\n        text-align: right;\n    }\n</style>\n<table border=\"1\" class=\"dataframe\">\n  <thead>\n    <tr style=\"text-align: right;\">\n      <th></th>\n      <th>smiles</th>\n      <th>tg</th>\n      <th>bg</th>\n      <th>cib</th>\n    </tr>\n  </thead>\n  <tbody>\n    <tr>\n      <th>42115</th>\n      <td>[*]CC([*])C1CCC(C2CC3CC2CC3C)C1</td>\n      <td>440.507056</td>\n      <td>5.673757</td>\n      <td>3.256478</td>\n    </tr>\n  </tbody>\n</table>\n</div>"
     },
     "metadata": {},
     "execution_count": 86
    }
   ],
   "source": [
    "df[df['smiles']==out2[28]]"
   ]
  },
  {
   "cell_type": "code",
   "execution_count": 75,
   "metadata": {},
   "outputs": [
    {
     "output_type": "execute_result",
     "data": {
      "text/plain": [
       "<rdkit.Chem.rdchem.Mol at 0x7fe4680e97b0>"
      ],
      "image/png": "[encoded data removed]"
     },
     "metadata": {},
     "execution_count": 75
    }
   ],
   "source": [
    "Chem.MolFromSmiles(out2[29])"
   ]
  },
  {
   "cell_type": "code",
   "execution_count": 87,
   "metadata": {},
   "outputs": [
    {
     "output_type": "execute_result",
     "data": {
      "text/plain": [
       "                                               smiles          tg        bg  \\\n",
       "43192  [*]CC([*])(CC(C)C1=NC(C)C(=O)O1)C1=NC(C)C(C)O1  417.108766  6.076694   \n",
       "43370  [*]CC([*])(CC(C)C1=NC(C)C(=O)O1)C1=NC(C)C(C)O1  417.108766  6.076694   \n",
       "\n",
       "            cib  \n",
       "43192  3.448883  \n",
       "43370  3.448883  "
      ],
      "text/html": "<div>\n<style scoped>\n    .dataframe tbody tr th:only-of-type {\n        vertical-align: middle;\n    }\n\n    .dataframe tbody tr th {\n        vertical-align: top;\n    }\n\n    .dataframe thead th {\n        text-align: right;\n    }\n</style>\n<table border=\"1\" class=\"dataframe\">\n  <thead>\n    <tr style=\"text-align: right;\">\n      <th></th>\n      <th>smiles</th>\n      <th>tg</th>\n      <th>bg</th>\n      <th>cib</th>\n    </tr>\n  </thead>\n  <tbody>\n    <tr>\n      <th>43192</th>\n      <td>[*]CC([*])(CC(C)C1=NC(C)C(=O)O1)C1=NC(C)C(C)O1</td>\n      <td>417.108766</td>\n      <td>6.076694</td>\n      <td>3.448883</td>\n    </tr>\n    <tr>\n      <th>43370</th>\n      <td>[*]CC([*])(CC(C)C1=NC(C)C(=O)O1)C1=NC(C)C(C)O1</td>\n      <td>417.108766</td>\n      <td>6.076694</td>\n      <td>3.448883</td>\n    </tr>\n  </tbody>\n</table>\n</div>"
     },
     "metadata": {},
     "execution_count": 87
    }
   ],
   "source": [
    "df[df['smiles']==out2[29]]"
   ]
  },
  {
   "cell_type": "code",
   "execution_count": 77,
   "metadata": {},
   "outputs": [
    {
     "output_type": "execute_result",
     "data": {
      "text/plain": [
       "<rdkit.Chem.rdchem.Mol at 0x7fe467261350>"
      ],
      "image/png": "[encoded data removed]"
     },
     "metadata": {},
     "execution_count": 77
    }
   ],
   "source": [
    "Chem.MolFromSmiles(out2[31])"
   ]
  },
  {
   "cell_type": "code",
   "execution_count": 88,
   "metadata": {},
   "outputs": [
    {
     "output_type": "execute_result",
     "data": {
      "text/plain": [
       "                                 smiles         tg        bg       cib\n",
       "43535  [*]CC([*])C1CC(CC)C2C3CCC(C3)C12  455.24956  5.772352  3.446523"
      ],
      "text/html": "<div>\n<style scoped>\n    .dataframe tbody tr th:only-of-type {\n        vertical-align: middle;\n    }\n\n    .dataframe tbody tr th {\n        vertical-align: top;\n    }\n\n    .dataframe thead th {\n        text-align: right;\n    }\n</style>\n<table border=\"1\" class=\"dataframe\">\n  <thead>\n    <tr style=\"text-align: right;\">\n      <th></th>\n      <th>smiles</th>\n      <th>tg</th>\n      <th>bg</th>\n      <th>cib</th>\n    </tr>\n  </thead>\n  <tbody>\n    <tr>\n      <th>43535</th>\n      <td>[*]CC([*])C1CC(CC)C2C3CCC(C3)C12</td>\n      <td>455.24956</td>\n      <td>5.772352</td>\n      <td>3.446523</td>\n    </tr>\n  </tbody>\n</table>\n</div>"
     },
     "metadata": {},
     "execution_count": 88
    }
   ],
   "source": [
    "df[df['smiles']==out2[31]]"
   ]
  },
  {
   "cell_type": "code",
   "execution_count": 78,
   "metadata": {},
   "outputs": [
    {
     "output_type": "execute_result",
     "data": {
      "text/plain": [
       "<rdkit.Chem.rdchem.Mol at 0x7fe468076530>"
      ],
      "image/png": "[encoded data removed]"
     },
     "metadata": {},
     "execution_count": 78
    }
   ],
   "source": [
    "Chem.MolFromSmiles(out2[32])"
   ]
  },
  {
   "cell_type": "code",
   "execution_count": 89,
   "metadata": {},
   "outputs": [
    {
     "output_type": "execute_result",
     "data": {
      "text/plain": [
       "                                                  smiles          tg  \\\n",
       "48053  [*]CC([*])C1CC(CCC2CCC3C2C2CC3C(C)(C(=O)OC)C2)...  442.897832   \n",
       "\n",
       "             bg       cib  \n",
       "48053  5.528727  2.907866  "
      ],
      "text/html": "<div>\n<style scoped>\n    .dataframe tbody tr th:only-of-type {\n        vertical-align: middle;\n    }\n\n    .dataframe tbody tr th {\n        vertical-align: top;\n    }\n\n    .dataframe thead th {\n        text-align: right;\n    }\n</style>\n<table border=\"1\" class=\"dataframe\">\n  <thead>\n    <tr style=\"text-align: right;\">\n      <th></th>\n      <th>smiles</th>\n      <th>tg</th>\n      <th>bg</th>\n      <th>cib</th>\n    </tr>\n  </thead>\n  <tbody>\n    <tr>\n      <th>48053</th>\n      <td>[*]CC([*])C1CC(CCC2CCC3C2C2CC3C(C)(C(=O)OC)C2)...</td>\n      <td>442.897832</td>\n      <td>5.528727</td>\n      <td>2.907866</td>\n    </tr>\n  </tbody>\n</table>\n</div>"
     },
     "metadata": {},
     "execution_count": 89
    }
   ],
   "source": [
    "df[df['smiles']==out2[32]]"
   ]
  },
  {
   "source": [
    "# Check [*]CO[*] polymers"
   ],
   "cell_type": "markdown",
   "metadata": {}
  },
  {
   "cell_type": "code",
   "execution_count": null,
   "metadata": {},
   "outputs": [],
   "source": []
  },
  {
   "source": [
    "# Check [*]CCCC[*] polymers"
   ],
   "cell_type": "markdown",
   "metadata": {}
  },
  {
   "cell_type": "code",
   "execution_count": 38,
   "metadata": {},
   "outputs": [
    {
     "output_type": "execute_result",
     "data": {
      "text/plain": [
       "<rdkit.Chem.rdchem.Mol at 0x7f1784b09530>"
      ],
      "image/png": "[encoded data removed]"
     },
     "metadata": {},
     "execution_count": 38
    }
   ],
   "source": [
    "Chem.MolFromSmarts('[#0]C[CH2]C[CH2][#0]')"
   ]
  },
  {
   "cell_type": "code",
   "execution_count": 39,
   "metadata": {},
   "outputs": [
    {
     "output_type": "execute_result",
     "data": {
      "text/plain": [
       "['[*]CC1CC2C3CCC(C3)C2([*])C1',\n",
       " '[*]CC1CC2C(CC3CCC4C5CCC(C5)C34)NCC2([*])C1',\n",
       " '[*]CC1CC2C3CC(CC3C)C2([*])C1',\n",
       " '[*]CC1CC2([*])CC1C1CCC(CCC3CC(CC)C4C5CCC(C5)C34)C12',\n",
       " '[*]CC1CC2([*])CC1C1CCC(CCC3CC(CC)C4C5CC(C)C(C5)C34)C12',\n",
       " '[*]CC1CC([*])(CC)C2C3CCC(C3)C12',\n",
       " '[*]CC1CC2([*])CC1C1CCC(CCC3CCC(CC)C3)C12']"
      ]
     },
     "metadata": {},
     "execution_count": 39
    }
   ],
   "source": [
    "smiles_ls = success['SMILES'].tolist()\n",
    "inds = [x for x in smiles_ls if Chem.MolFromSmiles(x).HasSubstructMatch(Chem.MolFromSmarts('[#0]C[CH2]C[CH2][#0]'))]\n",
    "inds"
   ]
  },
  {
   "cell_type": "code",
   "execution_count": 40,
   "metadata": {},
   "outputs": [
    {
     "output_type": "execute_result",
     "data": {
      "text/plain": [
       "<rdkit.Chem.rdchem.Mol at 0x7f1784cb58f0>"
      ],
      "image/png": "[encoded data removed]"
     },
     "metadata": {},
     "execution_count": 40
    }
   ],
   "source": [
    "Chem.MolFromSmiles(inds[0])"
   ]
  },
  {
   "cell_type": "code",
   "execution_count": 41,
   "metadata": {},
   "outputs": [
    {
     "output_type": "execute_result",
     "data": {
      "text/plain": [
       "<rdkit.Chem.rdchem.Mol at 0x7f1784c93990>"
      ],
      "image/png": "[encoded data removed]"
     },
     "metadata": {},
     "execution_count": 41
    }
   ],
   "source": [
    "Chem.MolFromSmiles(inds[1])"
   ]
  },
  {
   "cell_type": "code",
   "execution_count": 42,
   "metadata": {},
   "outputs": [
    {
     "output_type": "execute_result",
     "data": {
      "text/plain": [
       "<rdkit.Chem.rdchem.Mol at 0x7f1784cb2e40>"
      ],
      "image/png": "[encoded data removed]"
     },
     "metadata": {},
     "execution_count": 42
    }
   ],
   "source": [
    "Chem.MolFromSmiles(inds[2])"
   ]
  },
  {
   "cell_type": "code",
   "execution_count": 43,
   "metadata": {},
   "outputs": [
    {
     "output_type": "execute_result",
     "data": {
      "text/plain": [
       "<rdkit.Chem.rdchem.Mol at 0x7f1784cb2210>"
      ],
      "image/png": "[encoded data removed]"
     },
     "metadata": {},
     "execution_count": 43
    }
   ],
   "source": [
    "Chem.MolFromSmiles(inds[3])"
   ]
  },
  {
   "cell_type": "code",
   "execution_count": 44,
   "metadata": {},
   "outputs": [
    {
     "output_type": "execute_result",
     "data": {
      "text/plain": [
       "<rdkit.Chem.rdchem.Mol at 0x7f1784c8eee0>"
      ],
      "image/png": "[encoded data removed]"
     },
     "metadata": {},
     "execution_count": 44
    }
   ],
   "source": [
    "Chem.MolFromSmiles(inds[4])"
   ]
  },
  {
   "cell_type": "code",
   "execution_count": 45,
   "metadata": {},
   "outputs": [
    {
     "output_type": "execute_result",
     "data": {
      "text/plain": [
       "<rdkit.Chem.rdchem.Mol at 0x7f1784c8edf0>"
      ],
      "image/png": "[encoded data removed]"
     },
     "metadata": {},
     "execution_count": 45
    }
   ],
   "source": [
    "Chem.MolFromSmiles(inds[5])"
   ]
  },
  {
   "cell_type": "code",
   "execution_count": 46,
   "metadata": {},
   "outputs": [
    {
     "output_type": "execute_result",
     "data": {
      "text/plain": [
       "<rdkit.Chem.rdchem.Mol at 0x7f1784efb8f0>"
      ],
      "image/png": "[encoded data removed]"
     },
     "metadata": {},
     "execution_count": 46
    }
   ],
   "source": [
    "Chem.MolFromSmiles(inds[6])"
   ]
  },
  {
   "source": [
    "# Look for target polymers with [*]CC[*]"
   ],
   "cell_type": "markdown",
   "metadata": {}
  },
  {
   "cell_type": "code",
   "execution_count": 4,
   "metadata": {},
   "outputs": [
    {
     "output_type": "execute_result",
     "data": {
      "text/plain": [
       "    Bandgap       CIB          Tg           smiles\n",
       "0  6.828510  3.542109  239.302690          [*]C[*]\n",
       "1  4.977452  3.494155  293.363913      [*]CC([*])C\n",
       "2  6.673815  3.534393  255.176840     [*]CC([*])CC\n",
       "3  6.633060  3.546230  245.806539    [*]CC([*])CCC\n",
       "4  6.336481  3.492962  305.693967  [*]CC([*])C(C)C"
      ],
      "text/html": "<div>\n<style scoped>\n    .dataframe tbody tr th:only-of-type {\n        vertical-align: middle;\n    }\n\n    .dataframe tbody tr th {\n        vertical-align: top;\n    }\n\n    .dataframe thead th {\n        text-align: right;\n    }\n</style>\n<table border=\"1\" class=\"dataframe\">\n  <thead>\n    <tr style=\"text-align: right;\">\n      <th></th>\n      <th>Bandgap</th>\n      <th>CIB</th>\n      <th>Tg</th>\n      <th>smiles</th>\n    </tr>\n  </thead>\n  <tbody>\n    <tr>\n      <th>0</th>\n      <td>6.828510</td>\n      <td>3.542109</td>\n      <td>239.302690</td>\n      <td>[*]C[*]</td>\n    </tr>\n    <tr>\n      <th>1</th>\n      <td>4.977452</td>\n      <td>3.494155</td>\n      <td>293.363913</td>\n      <td>[*]CC([*])C</td>\n    </tr>\n    <tr>\n      <th>2</th>\n      <td>6.673815</td>\n      <td>3.534393</td>\n      <td>255.176840</td>\n      <td>[*]CC([*])CC</td>\n    </tr>\n    <tr>\n      <th>3</th>\n      <td>6.633060</td>\n      <td>3.546230</td>\n      <td>245.806539</td>\n      <td>[*]CC([*])CCC</td>\n    </tr>\n    <tr>\n      <th>4</th>\n      <td>6.336481</td>\n      <td>3.492962</td>\n      <td>305.693967</td>\n      <td>[*]CC([*])C(C)C</td>\n    </tr>\n  </tbody>\n</table>\n</div>"
     },
     "metadata": {},
     "execution_count": 4
    }
   ],
   "source": [
    "df = ru.pd_load('/data/rgur/g2g/paper_1/cib_tg_eg/cutoff-.1/../property_data/property_data.csv')\n",
    "df.head()"
   ]
  },
  {
   "cell_type": "code",
   "execution_count": 5,
   "metadata": {},
   "outputs": [
    {
     "output_type": "execute_result",
     "data": {
      "text/plain": [
       "61"
      ]
     },
     "metadata": {},
     "execution_count": 5
    }
   ],
   "source": [
    "df_med = df[(df['Bandgap']>5.5)&(df['CIB']>3)&(df['Tg']>400)]\n",
    "len(df_med)"
   ]
  },
  {
   "cell_type": "code",
   "execution_count": 56,
   "metadata": {},
   "outputs": [
    {
     "output_type": "execute_result",
     "data": {
      "text/plain": [
       "[0, 1, 3, 17, 18, 19, 21, 22, 23, 24, 30, 32, 33, 55, 59, 60]"
      ]
     },
     "metadata": {},
     "execution_count": 56
    }
   ],
   "source": [
    "inds = [ind for ind,x in enumerate(df_med['smiles'].tolist()) if Chem.MolFromSmiles(x).HasSubstructMatch(Chem.MolFromSmiles('*CC*'))]\n",
    "inds"
   ]
  },
  {
   "cell_type": "code",
   "execution_count": 57,
   "metadata": {},
   "outputs": [
    {
     "output_type": "execute_result",
     "data": {
      "text/plain": [
       "16"
      ]
     },
     "metadata": {},
     "execution_count": 57
    }
   ],
   "source": [
    "len(inds)"
   ]
  },
  {
   "cell_type": "code",
   "execution_count": 59,
   "metadata": {},
   "outputs": [
    {
     "output_type": "execute_result",
     "data": {
      "text/plain": [
       "<rdkit.Chem.rdchem.Mol at 0x7f1784ca13a0>"
      ],
      "image/png": "[encoded data removed]"
     },
     "metadata": {},
     "execution_count": 59
    }
   ],
   "source": [
    "Chem.MolFromSmiles(df_med['smiles'].tolist()[inds[0]])"
   ]
  },
  {
   "cell_type": "code",
   "execution_count": 60,
   "metadata": {},
   "outputs": [
    {
     "output_type": "execute_result",
     "data": {
      "text/plain": [
       "<rdkit.Chem.rdchem.Mol at 0x7f1784c9c4e0>"
      ],
      "image/png": "[encoded data removed]"
     },
     "metadata": {},
     "execution_count": 60
    }
   ],
   "source": [
    "Chem.MolFromSmiles(df_med['smiles'].tolist()[inds[1]])"
   ]
  },
  {
   "cell_type": "code",
   "execution_count": 61,
   "metadata": {},
   "outputs": [
    {
     "output_type": "execute_result",
     "data": {
      "text/plain": [
       "<rdkit.Chem.rdchem.Mol at 0x7f1784b32c10>"
      ],
      "image/png": "[encoded data removed]"
     },
     "metadata": {},
     "execution_count": 61
    }
   ],
   "source": [
    "Chem.MolFromSmiles(df_med['smiles'].tolist()[inds[2]])"
   ]
  },
  {
   "cell_type": "code",
   "execution_count": 62,
   "metadata": {},
   "outputs": [
    {
     "output_type": "execute_result",
     "data": {
      "text/plain": [
       "<rdkit.Chem.rdchem.Mol at 0x7f1784b09d00>"
      ],
      "image/png": "[encoded data removed]"
     },
     "metadata": {},
     "execution_count": 62
    }
   ],
   "source": [
    "Chem.MolFromSmiles(df_med['smiles'].tolist()[inds[12]])"
   ]
  },
  {
   "cell_type": "markdown",
   "metadata": {},
   "source": [
    "# dap on all polymers"
   ]
  },
  {
   "cell_type": "code",
   "execution_count": null,
   "metadata": {},
   "outputs": [],
   "source": [
    "smiles = []\n",
    "with open('/data/rgur/g2g/paper_1/cib_tg_eg/cutoff-.1/first_cib_model/results_List/resultsList.txt','r') as f:\n",
    "    for line in f:\n",
    "        smiles.append(line.strip())\n",
    "smiles[0:5]"
   ]
  },
  {
   "cell_type": "code",
   "execution_count": null,
   "metadata": {},
   "outputs": [],
   "source": [
    "len(smiles)"
   ]
  },
  {
   "cell_type": "code",
   "execution_count": null,
   "metadata": {},
   "outputs": [],
   "source": [
    "inds = [x for x in smiles if retro.dap_depolymerize(x) != None]\n",
    "inds"
   ]
  },
  {
   "cell_type": "code",
   "execution_count": null,
   "metadata": {},
   "outputs": [],
   "source": [
    "len(inds)"
   ]
  },
  {
   "cell_type": "code",
   "execution_count": null,
   "metadata": {},
   "outputs": [],
   "source": [
    "retro.dap_depolymerize(inds[0])"
   ]
  },
  {
   "cell_type": "code",
   "execution_count": null,
   "metadata": {},
   "outputs": [],
   "source": [
    "retro.dap_depolymerize(inds[1])"
   ]
  },
  {
   "cell_type": "code",
   "execution_count": null,
   "metadata": {},
   "outputs": [],
   "source": [
    "retro.dap_depolymerize(inds[2])"
   ]
  },
  {
   "cell_type": "code",
   "execution_count": null,
   "metadata": {},
   "outputs": [],
   "source": [
    "retro.dap_depolymerize(inds[3])"
   ]
  },
  {
   "cell_type": "markdown",
   "metadata": {},
   "source": [
    "# Acidify chain...doesn't work"
   ]
  },
  {
   "cell_type": "code",
   "execution_count": null,
   "metadata": {},
   "outputs": [],
   "source": [
    "patt1 = Chem.MolFromSmarts('[CH1,CH2,CH3]=[CH1,CH2,CH3]')\n",
    "patt1"
   ]
  },
  {
   "cell_type": "code",
   "execution_count": null,
   "metadata": {},
   "outputs": [],
   "source": [
    "patt2 = Chem.MolFromSmarts('[cH1,cH2,cH3][cH1,cH2,cH3]')\n",
    "patt2"
   ]
  },
  {
   "cell_type": "code",
   "execution_count": null,
   "metadata": {},
   "outputs": [],
   "source": [
    "Chem.MolFromSmiles('C=C').HasSubstructMatch(patt) #should be true"
   ]
  },
  {
   "cell_type": "code",
   "execution_count": null,
   "metadata": {},
   "outputs": [],
   "source": [
    "m = Chem.MolFromSmiles('C(Cl)(Cl)=C')\n",
    "m.HasSubstructMatch(patt) #should be false"
   ]
  },
  {
   "cell_type": "code",
   "execution_count": null,
   "metadata": {},
   "outputs": [],
   "source": [
    "m"
   ]
  },
  {
   "cell_type": "code",
   "execution_count": null,
   "metadata": {},
   "outputs": [],
   "source": [
    "m = Chem.MolFromSmiles('c1ccccc1')\n",
    "m.HasSubstructMatch(patt) #should be False"
   ]
  },
  {
   "cell_type": "code",
   "execution_count": null,
   "metadata": {},
   "outputs": [],
   "source": [
    "m = Chem.MolFromSmiles('c1ccccc1')\n",
    "m.HasSubstructMatch(patt2) #should be True"
   ]
  },
  {
   "cell_type": "code",
   "execution_count": null,
   "metadata": {},
   "outputs": [],
   "source": [
    "m.GetSubstructMatches(patt2)"
   ]
  },
  {
   "cell_type": "code",
   "execution_count": null,
   "metadata": {},
   "outputs": [],
   "source": [
    "ru.mol_with_atom_index(m)"
   ]
  },
  {
   "cell_type": "code",
   "execution_count": null,
   "metadata": {},
   "outputs": [],
   "source": [
    "matches = m.GetSubstructMatches(patt2)\n",
    "matches"
   ]
  },
  {
   "cell_type": "code",
   "execution_count": null,
   "metadata": {},
   "outputs": [],
   "source": [
    "em = Chem.EditableMol(m)"
   ]
  },
  {
   "cell_type": "code",
   "execution_count": null,
   "metadata": {},
   "outputs": [],
   "source": [
    "o1=em.AddAtom(Chem.AtomFromSmiles('O'))\n",
    "o2=em.AddAtom(Chem.AtomFromSmiles('O'))\n",
    "c1 = em.AddAtom(Chem.AtomFromSmiles('C'))\n",
    "c2 = em.AddAtom(Chem.AtomFromSmiles('C'))"
   ]
  },
  {
   "cell_type": "code",
   "execution_count": null,
   "metadata": {},
   "outputs": [],
   "source": [
    "# #bind new atoms\n",
    "# em.AddBond(o1,c1,Chem.BondType.SINGLE)\n",
    "# em.AddBond(o2,c1,Chem.BondType.DOUBLE)\n",
    "# em.AddBond(c2,c1,Chem.BondType.SINGLE)\n",
    "\n",
    "# # #switch double/aromatic bond to single\n",
    "# em.RemoveBond(matches[2][0],matches[2][1])\n",
    "# em.AddBond(matches[2][0],matches[2][1],Chem.BondType.SINGLE)\n",
    "\n",
    "#bind to original\n",
    "em.AddBond(matches[2][0],o1,Chem.BondType.SINGLE)\n",
    "em.GetMol()"
   ]
  },
  {
   "cell_type": "markdown",
   "metadata": {},
   "source": [
    "# Make hclify"
   ]
  },
  {
   "cell_type": "code",
   "execution_count": null,
   "metadata": {},
   "outputs": [],
   "source": [
    "patt = Chem.MolFromSmarts('[CH2,CH1]=C')\n",
    "patt"
   ]
  },
  {
   "cell_type": "code",
   "execution_count": null,
   "metadata": {},
   "outputs": [],
   "source": [
    "m = Chem.MolFromSmiles('*/C=C/*')\n",
    "m"
   ]
  },
  {
   "cell_type": "code",
   "execution_count": null,
   "metadata": {},
   "outputs": [],
   "source": [
    "ru.mol_with_atom_index(m)"
   ]
  },
  {
   "cell_type": "code",
   "execution_count": null,
   "metadata": {},
   "outputs": [],
   "source": [
    "match=m.GetSubstructMatches(patt)\n",
    "match"
   ]
  },
  {
   "cell_type": "code",
   "execution_count": null,
   "metadata": {},
   "outputs": [],
   "source": [
    "em = Chem.EditableMol(m)"
   ]
  },
  {
   "cell_type": "code",
   "execution_count": null,
   "metadata": {},
   "outputs": [],
   "source": [
    "Cl=em.AddAtom(Chem.AtomFromSmiles('Cl'))"
   ]
  },
  {
   "cell_type": "code",
   "execution_count": null,
   "metadata": {},
   "outputs": [],
   "source": [
    "em.RemoveBond(match[0][0],match[0][1])\n",
    "em.AddBond(match[0][0],match[0][1],Chem.BondType.SINGLE)\n",
    "em.AddBond(match[0][0],Cl,Chem.BondType.SINGLE)\n",
    "em.GetMol()"
   ]
  },
  {
   "cell_type": "code",
   "execution_count": null,
   "metadata": {},
   "outputs": [],
   "source": [
    "m2 = Chem.MolFromSmiles('*/C(C#N)=C/C1C=CC(*)CC1')\n",
    "m2"
   ]
  },
  {
   "cell_type": "code",
   "execution_count": null,
   "metadata": {},
   "outputs": [],
   "source": [
    "out = retro.hclify(m2)"
   ]
  },
  {
   "cell_type": "code",
   "execution_count": null,
   "metadata": {},
   "outputs": [],
   "source": [
    "out"
   ]
  },
  {
   "cell_type": "code",
   "execution_count": null,
   "metadata": {},
   "outputs": [],
   "source": [
    "out[0]"
   ]
  },
  {
   "cell_type": "code",
   "execution_count": null,
   "metadata": {},
   "outputs": [],
   "source": [
    "out[1]"
   ]
  },
  {
   "cell_type": "code",
   "execution_count": null,
   "metadata": {},
   "outputs": [],
   "source": [
    "out[2]"
   ]
  },
  {
   "cell_type": "markdown",
   "metadata": {},
   "source": [
    "# ppf poly(carboxylic acid) + carbodiimide\n",
    "ppf = post-polymerization functionalization"
   ]
  },
  {
   "cell_type": "code",
   "execution_count": null,
   "metadata": {},
   "outputs": [],
   "source": [
    "m=Chem.MolFromSmiles('*CC(C)*')\n",
    "m"
   ]
  },
  {
   "cell_type": "code",
   "execution_count": null,
   "metadata": {},
   "outputs": [],
   "source": [
    "lp = ru.LinearPol(m)"
   ]
  },
  {
   "cell_type": "code",
   "execution_count": null,
   "metadata": {},
   "outputs": [],
   "source": [
    "lp.SideChainMol()"
   ]
  },
  {
   "cell_type": "code",
   "execution_count": null,
   "metadata": {},
   "outputs": [],
   "source": [
    "Chem.MolFromSmarts('C(=O)[NH][R1]')"
   ]
  },
  {
   "cell_type": "code",
   "execution_count": null,
   "metadata": {},
   "outputs": [],
   "source": [
    "from rdkit.Chem import AllChem\n",
    "rxn = AllChem.ReactionFromSmarts('C(=O)[NH]>>C(=O)[OH]')\n",
    "rxn3 = AllChem.ReactionFromSmarts('C(=O)[NH]>>C(=O)[OH]')"
   ]
  },
  {
   "cell_type": "code",
   "execution_count": null,
   "metadata": {},
   "outputs": [],
   "source": [
    "rxn2 = AllChem.ChemicalReaction()\n",
    "for i in range(rxn.GetNumReactantTemplates()):\n",
    "    rxn2.AddProductTemplate(rxn.GetReactantTemplate(i))\n",
    "for i in range(rxn.GetNumProductTemplates()):\n",
    "    rxn2.AddReactantTemplate(rxn.GetProductTemplate(i))\n",
    "rxn2.Initialize()"
   ]
  },
  {
   "cell_type": "code",
   "execution_count": null,
   "metadata": {},
   "outputs": [],
   "source": [
    "m2 = Chem.MolFromSmiles('CCCC(=O)NCCCCC')\n",
    "m2"
   ]
  },
  {
   "cell_type": "code",
   "execution_count": null,
   "metadata": {
    "scrolled": true
   },
   "outputs": [],
   "source": [
    "rxn.RunReactants([m2])[0][0]"
   ]
  },
  {
   "cell_type": "code",
   "execution_count": null,
   "metadata": {},
   "outputs": [],
   "source": [
    "mod_mol = Chem.ReplaceSubstructs(m2, \n",
    "                                 Chem.MolFromSmarts('C(=O)[NH]'), \n",
    "                                 Chem.MolFromSmiles('C(=O)[OH]'),\n",
    "                                 replaceAll=True)\n",
    "mod_mol"
   ]
  },
  {
   "cell_type": "code",
   "execution_count": null,
   "metadata": {},
   "outputs": [],
   "source": [
    "mod_mol[0]"
   ]
  },
  {
   "cell_type": "code",
   "execution_count": null,
   "metadata": {},
   "outputs": [],
   "source": [
    "def isHydrocarbon(smiles):\n",
    "    if type(smiles) != str:\n",
    "        smiles = Chem.MolToSmiles(smiles)\n",
    "    smiles=smiles.lower()\n",
    "    filtered = [c.lower() for c in smiles if c.isalpha()]\n",
    "    if smiles.count('c') == len(filtered):\n",
    "        return True\n",
    "    else:\n",
    "        return False"
   ]
  },
  {
   "cell_type": "code",
   "execution_count": null,
   "metadata": {},
   "outputs": [],
   "source": [
    "isHydrocarbon(Chem.MolFromSmiles('CC')) #should be True"
   ]
  },
  {
   "cell_type": "code",
   "execution_count": null,
   "metadata": {},
   "outputs": [],
   "source": [
    "isHydrocarbon(Chem.MolFromSmiles('COC')) #should be False"
   ]
  },
  {
   "cell_type": "code",
   "execution_count": null,
   "metadata": {},
   "outputs": [],
   "source": [
    "mod_mol_str = Chem.MolToSmiles(mod_mol[0])\n",
    "mod_mol_str"
   ]
  },
  {
   "cell_type": "code",
   "execution_count": null,
   "metadata": {},
   "outputs": [],
   "source": [
    "ls=mod_mol_str.split('.')\n",
    "ls"
   ]
  },
  {
   "cell_type": "code",
   "execution_count": null,
   "metadata": {},
   "outputs": [],
   "source": [
    "non_hc = []\n",
    "for s in ls:\n",
    "    if not isHydrocarbon(s):\n",
    "        non_hc.append(s)\n",
    "print(non_hc)\n",
    "if len(non_hc) == 1:\n",
    "    Chem.MolFromSmiles(non_hc[0])"
   ]
  },
  {
   "cell_type": "code",
   "execution_count": null,
   "metadata": {},
   "outputs": [],
   "source": [
    "Chem.MolFromSmiles(non_hc[0])"
   ]
  },
  {
   "cell_type": "code",
   "execution_count": null,
   "metadata": {},
   "outputs": [],
   "source": [
    "m3 = Chem.MolFromSmiles('*C(COCC(*)C(=O)NCC)C(=O)NC')\n",
    "m3"
   ]
  },
  {
   "cell_type": "code",
   "execution_count": null,
   "metadata": {},
   "outputs": [],
   "source": [
    "retro.ppf_poly_carboxylic_acid_plus_carbodiimide(m3)"
   ]
  },
  {
   "cell_type": "code",
   "execution_count": null,
   "metadata": {},
   "outputs": [],
   "source": [
    "m4 = Chem.MolFromSmiles('*C(CCC(*)C(=O)NCC)C(=O)NO')\n",
    "m4"
   ]
  },
  {
   "cell_type": "code",
   "execution_count": null,
   "metadata": {},
   "outputs": [],
   "source": [
    "retro.ppf_poly_carboxylic_acid_plus_carbodiimide(m4) #should return None"
   ]
  },
  {
   "cell_type": "code",
   "execution_count": null,
   "metadata": {
    "scrolled": true
   },
   "outputs": [],
   "source": [
    "inds = [x for x in smiles if retro.ppf_poly_carboxylic_acid_plus_carbodiimide(x) != None]\n",
    "inds"
   ]
  },
  {
   "cell_type": "code",
   "execution_count": null,
   "metadata": {},
   "outputs": [],
   "source": [
    "len(inds)"
   ]
  },
  {
   "cell_type": "markdown",
   "metadata": {},
   "source": [
    "# ppf thiol-ene"
   ]
  },
  {
   "cell_type": "code",
   "execution_count": null,
   "metadata": {},
   "outputs": [],
   "source": [
    "R_groups = ['COC(C)=O','CC(C)(C)OC(=O)NCC(=O)O','Cc1ccccc1','C(N)C(=O)O','CCN(C)CC','C(O)CO','CC(F)(F)C(F)(F)F']"
   ]
  },
  {
   "cell_type": "code",
   "execution_count": null,
   "metadata": {},
   "outputs": [],
   "source": [
    "Chem.MolFromSmiles('CS%s'%'COC(C)=O')"
   ]
  },
  {
   "cell_type": "code",
   "execution_count": null,
   "metadata": {},
   "outputs": [],
   "source": [
    "# inds = [x for x in smiles if retro.dap_depolymerize(x) != None]\n",
    "# inds\n",
    "pol_matches = []\n",
    "for x in smiles:\n",
    "    lp = ru.LinearPol(x)\n",
    "    try:\n",
    "        scm=lp.SideChainMol()\n",
    "        matches = []\n",
    "        for r in R_groups:\n",
    "            ss = Chem.MolFromSmiles('CS%s'%r)\n",
    "            if scm.HasSubstructMatch(ss):\n",
    "                pol_matches.append(x)\n",
    "                break\n",
    "    except:\n",
    "        pass"
   ]
  },
  {
   "cell_type": "code",
   "execution_count": null,
   "metadata": {},
   "outputs": [],
   "source": [
    "len(pol_matches)"
   ]
  },
  {
   "cell_type": "markdown",
   "metadata": {},
   "source": [
    "# Make hydrogenate_chain"
   ]
  },
  {
   "cell_type": "code",
   "execution_count": null,
   "metadata": {},
   "outputs": [],
   "source": [
    "m5 = Chem.MolFromSmiles('*CCCC1(C)CCC1*')\n",
    "m5"
   ]
  },
  {
   "cell_type": "code",
   "execution_count": null,
   "metadata": {},
   "outputs": [],
   "source": [
    "ru.mol_with_atom_index(m5)"
   ]
  },
  {
   "cell_type": "code",
   "execution_count": null,
   "metadata": {},
   "outputs": [],
   "source": [
    "patt = Chem.MolFromSmiles('CC')"
   ]
  },
  {
   "cell_type": "code",
   "execution_count": null,
   "metadata": {},
   "outputs": [],
   "source": [
    "m5.HasSubstructMatch(patt)"
   ]
  },
  {
   "cell_type": "code",
   "execution_count": null,
   "metadata": {},
   "outputs": [],
   "source": [
    "m5.GetSubstructMatches(patt)"
   ]
  },
  {
   "cell_type": "code",
   "execution_count": null,
   "metadata": {},
   "outputs": [],
   "source": [
    "m5.GetBonds()"
   ]
  },
  {
   "cell_type": "code",
   "execution_count": null,
   "metadata": {},
   "outputs": [],
   "source": [
    "em = Chem.EditableMol(m5)"
   ]
  },
  {
   "cell_type": "code",
   "execution_count": null,
   "metadata": {},
   "outputs": [],
   "source": [
    "em.RemoveBond(0,1)\n",
    "em.AddBond(0,1,Chem.BondType.DOUBLE)"
   ]
  },
  {
   "cell_type": "code",
   "execution_count": null,
   "metadata": {},
   "outputs": [],
   "source": [
    "em.GetMol()"
   ]
  },
  {
   "cell_type": "code",
   "execution_count": null,
   "metadata": {},
   "outputs": [],
   "source": [
    "Chem.SanitizeMol(em.GetMol())"
   ]
  },
  {
   "cell_type": "markdown",
   "metadata": {},
   "source": [
    "# Test hydrogenate_chain"
   ]
  },
  {
   "cell_type": "code",
   "execution_count": null,
   "metadata": {},
   "outputs": [],
   "source": [
    "m5 = Chem.MolFromSmiles('*CCCC1(C)CCC1*')\n",
    "m5"
   ]
  },
  {
   "cell_type": "code",
   "execution_count": null,
   "metadata": {},
   "outputs": [],
   "source": [
    "new = hydrogenate_chain(m5)"
   ]
  },
  {
   "cell_type": "code",
   "execution_count": null,
   "metadata": {},
   "outputs": [],
   "source": [
    "new[0]"
   ]
  },
  {
   "cell_type": "code",
   "execution_count": null,
   "metadata": {},
   "outputs": [],
   "source": [
    "new[1]"
   ]
  },
  {
   "cell_type": "code",
   "execution_count": null,
   "metadata": {},
   "outputs": [],
   "source": [
    "new[2]"
   ]
  },
  {
   "cell_type": "code",
   "execution_count": null,
   "metadata": {},
   "outputs": [],
   "source": [
    "new[3]"
   ]
  },
  {
   "cell_type": "code",
   "execution_count": null,
   "metadata": {},
   "outputs": [],
   "source": [
    "new[4]"
   ]
  },
  {
   "cell_type": "markdown",
   "metadata": {},
   "source": [
    "# Make get connector_inds"
   ]
  },
  {
   "cell_type": "code",
   "execution_count": null,
   "metadata": {},
   "outputs": [],
   "source": [
    "m5 = Chem.MolFromSmiles('*CCCC1(C)CCC1*')\n",
    "m5\n",
    "\n",
    "ru.mol_with_atom_index(m5)"
   ]
  },
  {
   "cell_type": "code",
   "execution_count": null,
   "metadata": {},
   "outputs": [],
   "source": [
    "a=m5.GetAtoms()"
   ]
  },
  {
   "cell_type": "code",
   "execution_count": null,
   "metadata": {},
   "outputs": [],
   "source": [
    "b=a[4]"
   ]
  },
  {
   "cell_type": "code",
   "execution_count": null,
   "metadata": {},
   "outputs": [],
   "source": [
    "c=b.GetNeighbors()[0]"
   ]
  },
  {
   "cell_type": "code",
   "execution_count": null,
   "metadata": {},
   "outputs": [],
   "source": [
    "c.GetIdx()"
   ]
  },
  {
   "cell_type": "markdown",
   "metadata": {},
   "source": [
    "# Test get_connector_inds"
   ]
  },
  {
   "cell_type": "code",
   "execution_count": null,
   "metadata": {},
   "outputs": [],
   "source": [
    "ru.get_connector_inds(m5)"
   ]
  },
  {
   "cell_type": "markdown",
   "metadata": {},
   "source": [
    "# Make periodic_mol"
   ]
  },
  {
   "cell_type": "code",
   "execution_count": null,
   "metadata": {},
   "outputs": [],
   "source": [
    "m5 = Chem.MolFromSmiles('*CCCC1(C)CCC1*')\n",
    "m5\n",
    "\n",
    "ru.mol_with_atom_index(m5)"
   ]
  },
  {
   "cell_type": "code",
   "execution_count": null,
   "metadata": {
    "scrolled": true
   },
   "outputs": [],
   "source": [
    "p5=ru.LinearPol(m5)"
   ]
  },
  {
   "cell_type": "code",
   "execution_count": null,
   "metadata": {},
   "outputs": [],
   "source": [
    "p5.connector_inds"
   ]
  },
  {
   "cell_type": "code",
   "execution_count": null,
   "metadata": {},
   "outputs": [],
   "source": [
    "p5.star_inds"
   ]
  },
  {
   "cell_type": "code",
   "execution_count": null,
   "metadata": {},
   "outputs": [],
   "source": [
    "em = Chem.EditableMol(m5)\n",
    "em"
   ]
  },
  {
   "cell_type": "code",
   "execution_count": null,
   "metadata": {},
   "outputs": [],
   "source": []
  },
  {
   "cell_type": "code",
   "execution_count": null,
   "metadata": {},
   "outputs": [],
   "source": [
    "em.AddBond(p5.connector_inds[0],p5.connector_inds[1],Chem.BondType.SINGLE)\n",
    "em.RemoveAtom(p5.star_inds[0])\n",
    "em.RemoveAtom(p5.star_inds[1] - 1)"
   ]
  },
  {
   "cell_type": "code",
   "execution_count": null,
   "metadata": {},
   "outputs": [],
   "source": [
    "em.GetMol()"
   ]
  },
  {
   "cell_type": "markdown",
   "metadata": {},
   "source": [
    "# Test PeriodicMol"
   ]
  },
  {
   "cell_type": "code",
   "execution_count": null,
   "metadata": {},
   "outputs": [],
   "source": [
    "ru.LinearPol(m6).PeriodicMol()"
   ]
  },
  {
   "cell_type": "markdown",
   "metadata": {},
   "source": [
    "# Make sg_possible"
   ]
  },
  {
   "cell_type": "code",
   "execution_count": null,
   "metadata": {},
   "outputs": [],
   "source": [
    "m6 = Chem.MolFromSmiles('*Oc2ccc(C(C)(C)c1ccc(OC(*)=O)cc1)cc2')"
   ]
  },
  {
   "cell_type": "code",
   "execution_count": null,
   "metadata": {},
   "outputs": [],
   "source": [
    "def sg_possible(mol):\n",
    "    possible_patt_smiles = ['CO']\n",
    "    has_patt = []\n",
    "    lp = ru.LinearPol(mol)\n",
    "    pm = lp.PeriodicMol()\n",
    "    for s in possible_patt_smiles:\n",
    "        if len(pm.GetSubstructMatches(Chem.MolFromSmiles(s))) > 1:\n",
    "            has_patt.append(s)\n",
    "    if len(has_patt) > 0:\n",
    "        return (True,has_patt)\n",
    "    else:\n",
    "        return (False,has_patt)"
   ]
  },
  {
   "cell_type": "code",
   "execution_count": null,
   "metadata": {},
   "outputs": [],
   "source": [
    "sg_possible(m6) #should be True"
   ]
  },
  {
   "cell_type": "code",
   "execution_count": null,
   "metadata": {},
   "outputs": [],
   "source": [
    "sg_possible(m5) #should be False"
   ]
  },
  {
   "cell_type": "markdown",
   "metadata": {},
   "source": [
    "# Make depolymerize"
   ]
  },
  {
   "cell_type": "code",
   "execution_count": null,
   "metadata": {},
   "outputs": [],
   "source": [
    "patt = 'CO'"
   ]
  },
  {
   "cell_type": "code",
   "execution_count": null,
   "metadata": {},
   "outputs": [],
   "source": [
    "lp = ru.LinearPol(m6)\n",
    "pm = lp.PeriodicMol()"
   ]
  },
  {
   "cell_type": "code",
   "execution_count": null,
   "metadata": {},
   "outputs": [],
   "source": [
    "pm"
   ]
  },
  {
   "cell_type": "code",
   "execution_count": null,
   "metadata": {},
   "outputs": [],
   "source": [
    "pm.GetSubstructMatches(Chem.MolFromSmiles(patt))"
   ]
  },
  {
   "cell_type": "code",
   "execution_count": null,
   "metadata": {},
   "outputs": [],
   "source": [
    "ru.mol_with_atom_index(pm)"
   ]
  },
  {
   "cell_type": "code",
   "execution_count": null,
   "metadata": {},
   "outputs": [],
   "source": [
    "em = Chem.EditableMol(pm)"
   ]
  },
  {
   "cell_type": "code",
   "execution_count": null,
   "metadata": {},
   "outputs": [],
   "source": [
    "em.RemoveBond(13,0)\n",
    "em.RemoveBond(13,12)\n",
    "em.AddAtom(Chem.AtomFromSmiles('[Cl]'))\n",
    "em.AddAtom(Chem.AtomFromSmiles('[Cl]'))\n",
    "em.AddBond(13,19,Chem.BondType.SINGLE)\n",
    "em.AddBond(13,20,Chem.BondType.SINGLE)\n",
    "m=em.GetMol()\n",
    "Chem.SanitizeMol(m)\n",
    "\n",
    "# em = Chem.EditableMol(m)\n",
    "# em.AddAtom(Chem.AtomFromSmiles('[Cl]'))\n",
    "# em.AddAtom(Chem.AtomFromSmiles('[Cl]'))\n",
    "# em.AddBond(13,19,Chem.BondType.SINGLE)\n",
    "# em.AddBond(13,20,Chem.BondType.SINGLE)\n",
    "# m=em.GetMol()\n",
    "# Chem.SanitizeMol(m)\n",
    "m"
   ]
  },
  {
   "cell_type": "code",
   "execution_count": null,
   "metadata": {},
   "outputs": [],
   "source": [
    "for atom in m.GetAtoms():\n",
    "    atom.SetAtomMapNum(0)\n",
    "m"
   ]
  },
  {
   "cell_type": "markdown",
   "metadata": {},
   "source": [
    "# Test depolymerize"
   ]
  },
  {
   "cell_type": "code",
   "execution_count": null,
   "metadata": {},
   "outputs": [],
   "source": [
    "m6 = Chem.MolFromSmiles('*Oc2ccc(C(C)(C)c1ccc(OC(*)=O)cc1)cc2')\n",
    "patt = 'CO'\n",
    "\n",
    "lp = ru.LinearPol(m6)\n",
    "pm = lp.PeriodicMol()"
   ]
  },
  {
   "cell_type": "code",
   "execution_count": null,
   "metadata": {
    "scrolled": true
   },
   "outputs": [],
   "source": [
    "monomer_sets=retro.depolymerize(lp,patt)\n",
    "monomer_sets"
   ]
  },
  {
   "cell_type": "code",
   "execution_count": null,
   "metadata": {},
   "outputs": [],
   "source": [
    "a=monomer_sets[0]"
   ]
  },
  {
   "cell_type": "code",
   "execution_count": null,
   "metadata": {},
   "outputs": [],
   "source": [
    "Chem.SanitizeMol(a)"
   ]
  },
  {
   "cell_type": "code",
   "execution_count": null,
   "metadata": {},
   "outputs": [],
   "source": [
    "Chem.MolToSmiles(a)"
   ]
  },
  {
   "cell_type": "code",
   "execution_count": null,
   "metadata": {},
   "outputs": [],
   "source": [
    "from IPython.display import SVG\n",
    "SVG(ru.drawFromSmiles('CC(C)(c1ccc(Cl)cc1)c1ccc(Cl)cc1.O=C(O)O'))"
   ]
  },
  {
   "cell_type": "markdown",
   "metadata": {},
   "source": [
    "# Test depolymerize on data set"
   ]
  },
  {
   "cell_type": "code",
   "execution_count": null,
   "metadata": {},
   "outputs": [],
   "source": [
    "success = ru.pd_load('/data/rgur/g2g/paper_1/cib_tg_eg/cutoff-.1/first_cib_model/new_polymers_12_43PM_on_June_23_2020_sortedObjective.csv')\n",
    "success.head()"
   ]
  },
  {
   "cell_type": "code",
   "execution_count": null,
   "metadata": {},
   "outputs": [],
   "source": [
    "len(success)"
   ]
  },
  {
   "cell_type": "code",
   "execution_count": null,
   "metadata": {},
   "outputs": [],
   "source": [
    "def test(s):\n",
    "    return retro.depolymerize(ru.LinearPol(s),'CO')"
   ]
  },
  {
   "cell_type": "code",
   "execution_count": null,
   "metadata": {},
   "outputs": [],
   "source": [
    "smiles_ls = success['SMILES'].tolist()\n",
    "inds = [x for x in smiles_ls if retro.sg_possible(x)[0]]\n",
    "inds"
   ]
  },
  {
   "cell_type": "code",
   "execution_count": null,
   "metadata": {},
   "outputs": [],
   "source": [
    "inds[0], len(inds)"
   ]
  },
  {
   "cell_type": "code",
   "execution_count": null,
   "metadata": {},
   "outputs": [],
   "source": [
    "sets = [(s,test(s)) for s in inds if s != None]"
   ]
  },
  {
   "cell_type": "code",
   "execution_count": null,
   "metadata": {},
   "outputs": [],
   "source": [
    "success = [x for x in sets if x[1] != []]\n",
    "len(success)"
   ]
  },
  {
   "cell_type": "code",
   "execution_count": null,
   "metadata": {},
   "outputs": [],
   "source": [
    "success[24][1][0]"
   ]
  },
  {
   "cell_type": "code",
   "execution_count": null,
   "metadata": {},
   "outputs": [],
   "source": [
    "Chem.MolFromSmiles(success[3][0])"
   ]
  },
  {
   "cell_type": "code",
   "execution_count": null,
   "metadata": {},
   "outputs": [],
   "source": [
    "success[0][1]"
   ]
  },
  {
   "cell_type": "code",
   "execution_count": null,
   "metadata": {},
   "outputs": [],
   "source": [
    "success[220][0]"
   ]
  },
  {
   "cell_type": "code",
   "execution_count": null,
   "metadata": {},
   "outputs": [],
   "source": [
    "p6 = ru.LinearPol(m6)\n",
    "Chem.GetShortestPath(m6,p6.star_inds[0],p6.star_inds[1])"
   ]
  },
  {
   "cell_type": "code",
   "execution_count": null,
   "metadata": {},
   "outputs": [],
   "source": [
    "ru.mol_with_atom_index(m6)"
   ]
  },
  {
   "cell_type": "markdown",
   "metadata": {},
   "source": [
    "# Make symmetry...doesn't work"
   ]
  },
  {
   "cell_type": "code",
   "execution_count": null,
   "metadata": {},
   "outputs": [],
   "source": [
    "x=Chem.MolFromSmiles('c1cc(*)ccc1*')"
   ]
  },
  {
   "cell_type": "code",
   "execution_count": null,
   "metadata": {},
   "outputs": [],
   "source": [
    "from rdkit import Chem\n",
    "from rdkit.Chem import rdmolfiles\n",
    "import time\n",
    "\n",
    "def is_symmetric(mol):\n",
    "    if type(mol) == str:\n",
    "        mol = Chem.MolFromSmiles(mol)    \n",
    "    z=list(rdmolfiles.CanonicalRankAtoms(mol, breakTies=False))\n",
    "    print(z)\n",
    "    return len(z) != len(set(z))"
   ]
  },
  {
   "cell_type": "code",
   "execution_count": null,
   "metadata": {},
   "outputs": [],
   "source": [
    "is_symmetric(x) #should be True"
   ]
  },
  {
   "cell_type": "code",
   "execution_count": null,
   "metadata": {},
   "outputs": [],
   "source": [
    "is_symmetric('CO') #should be False"
   ]
  },
  {
   "cell_type": "code",
   "execution_count": null,
   "metadata": {},
   "outputs": [],
   "source": [
    "is_symmetric('CC') #should be True"
   ]
  },
  {
   "cell_type": "code",
   "execution_count": null,
   "metadata": {},
   "outputs": [],
   "source": [
    "is_symmetric('C1NCN1')"
   ]
  },
  {
   "cell_type": "code",
   "execution_count": null,
   "metadata": {},
   "outputs": [],
   "source": [
    "Chem.MolToSmiles(m)"
   ]
  },
  {
   "cell_type": "code",
   "execution_count": null,
   "metadata": {},
   "outputs": [],
   "source": [
    "is_symmetric('O=C(Cl)Cl')"
   ]
  },
  {
   "cell_type": "code",
   "execution_count": null,
   "metadata": {},
   "outputs": [],
   "source": [
    "is_symmetric('CC(C)(c1ccc(O)cc1)c1ccc(O)cc1')"
   ]
  },
  {
   "cell_type": "code",
   "execution_count": null,
   "metadata": {},
   "outputs": [],
   "source": [
    "import itertools"
   ]
  },
  {
   "cell_type": "code",
   "execution_count": null,
   "metadata": {},
   "outputs": [],
   "source": [
    "list(itertools.combinations([0,1,2], 2))"
   ]
  },
  {
   "cell_type": "markdown",
   "metadata": {},
   "source": [
    "Check for Rings of type 'CNC(=O)' and 'COC(=O)'"
   ]
  },
  {
   "cell_type": "code",
   "execution_count": null,
   "metadata": {},
   "outputs": [],
   "source": [
    "success = ru.pd_load('/data/rgur/g2g/paper_1/cib_tg_eg/cutoff-.1/first_cib_model/new_polymers_12_43PM_on_June_23_2020_sortedObjective.csv')\n",
    "success.head()\n",
    "\n",
    "len(success)\n",
    "\n",
    "def test(s):\n",
    "    return retro.depolymerize(ru.LinearPol(s),'CO')\n",
    "\n",
    "smiles_ls = success['SMILES'].tolist()"
   ]
  },
  {
   "cell_type": "code",
   "execution_count": null,
   "metadata": {},
   "outputs": [],
   "source": [
    "smiles_ls[0]"
   ]
  },
  {
   "cell_type": "code",
   "execution_count": null,
   "metadata": {},
   "outputs": [],
   "source": [
    "patt1=Chem.MolFromSmiles('CNC(=O)')\n",
    "patt2=Chem.MolFromSmiles('COC(=O)')"
   ]
  },
  {
   "cell_type": "code",
   "execution_count": null,
   "metadata": {},
   "outputs": [],
   "source": [
    "Chem.MolFromSmiles(smiles_ls[0])"
   ]
  },
  {
   "cell_type": "code",
   "execution_count": null,
   "metadata": {},
   "outputs": [],
   "source": [
    "ru.LinearPol(smiles_ls[0]).AlphaMol()"
   ]
  },
  {
   "cell_type": "code",
   "execution_count": null,
   "metadata": {},
   "outputs": [],
   "source": [
    "success = []\n",
    "for i,x in enumerate(smiles_ls):\n",
    "    try:\n",
    "        y=ru.LinearPol(x).AlphaMol()\n",
    "        if len(y.GetSubstructMatches(patt1))==1 or len(y.GetSubstructMatches(patt2))==1:\n",
    "            success.append(x)\n",
    "    except:\n",
    "        pass"
   ]
  },
  {
   "cell_type": "code",
   "execution_count": null,
   "metadata": {},
   "outputs": [],
   "source": [
    "len(success)"
   ]
  },
  {
   "cell_type": "code",
   "execution_count": null,
   "metadata": {},
   "outputs": [],
   "source": [
    "Chem.MolFromSmiles(success[0])"
   ]
  },
  {
   "cell_type": "code",
   "execution_count": null,
   "metadata": {},
   "outputs": [],
   "source": [
    "Chem.MolFromSmiles(success[423])"
   ]
  },
  {
   "cell_type": "markdown",
   "metadata": {},
   "source": [
    "# Test alpha_chain"
   ]
  },
  {
   "cell_type": "code",
   "execution_count": null,
   "metadata": {},
   "outputs": [],
   "source": [
    "m8 = Chem.MolFromSmiles('[*]C1OC(C2CC(C)CC(CC(=O)NCC3CCCC(CC(N)=O)C3[*])C2)=NC1C')\n",
    "p8 = ru.LinearPol(m8)"
   ]
  },
  {
   "cell_type": "code",
   "execution_count": null,
   "metadata": {},
   "outputs": [],
   "source": [
    "p8.main_chain_atoms"
   ]
  },
  {
   "cell_type": "code",
   "execution_count": null,
   "metadata": {},
   "outputs": [],
   "source": [
    "m8"
   ]
  },
  {
   "cell_type": "code",
   "execution_count": null,
   "metadata": {},
   "outputs": [],
   "source": [
    "p8.AlphaMol()"
   ]
  },
  {
   "cell_type": "markdown",
   "metadata": {},
   "source": [
    "# Check for MURI fragment"
   ]
  },
  {
   "cell_type": "code",
   "execution_count": null,
   "metadata": {},
   "outputs": [],
   "source": [
    "all_polymers = []\n",
    "with open('/data/rgur/g2g/paper_1/cib_tg_eg/cutoff-.1/first_cib_model/results_List/resultsList.txt','r') as f:\n",
    "    for line in f:\n",
    "        all_polymers.append(line.strip())"
   ]
  },
  {
   "cell_type": "code",
   "execution_count": null,
   "metadata": {},
   "outputs": [],
   "source": [
    "len(all_polymers)"
   ]
  },
  {
   "cell_type": "code",
   "execution_count": null,
   "metadata": {},
   "outputs": [],
   "source": [
    "ru.LinearPol(all_polymers[100]).mol"
   ]
  },
  {
   "cell_type": "code",
   "execution_count": null,
   "metadata": {},
   "outputs": [],
   "source": [
    "Chem.MolFromSmiles('C(C=O)')"
   ]
  },
  {
   "cell_type": "code",
   "execution_count": null,
   "metadata": {},
   "outputs": [],
   "source": [
    "success = []\n",
    "patt = Chem.MolFromSmiles('C(C=O)')\n",
    "for i,x in enumerate(all_polymers[0:800]):\n",
    "    try:\n",
    "        y=ru.LinearPol(x).PeriodicMol()\n",
    "        if y.HasSubstructMatch(patt):\n",
    "            success.append(x)\n",
    "    except:\n",
    "        pass"
   ]
  },
  {
   "cell_type": "code",
   "execution_count": null,
   "metadata": {},
   "outputs": [],
   "source": [
    "len(success)"
   ]
  },
  {
   "cell_type": "code",
   "execution_count": null,
   "metadata": {},
   "outputs": [],
   "source": [
    "Chem.MolFromSmiles(success[12])"
   ]
  },
  {
   "cell_type": "code",
   "execution_count": null,
   "metadata": {},
   "outputs": [],
   "source": [
    "Chem.MolFromSmiles(success[3])"
   ]
  },
  {
   "cell_type": "code",
   "execution_count": null,
   "metadata": {},
   "outputs": [],
   "source": [
    "Chem.MolFromSmiles(success[4])"
   ]
  },
  {
   "cell_type": "code",
   "execution_count": null,
   "metadata": {},
   "outputs": [],
   "source": [
    "Chem.MolFromSmiles(success[5])"
   ]
  },
  {
   "cell_type": "code",
   "execution_count": null,
   "metadata": {},
   "outputs": [],
   "source": [
    "Chem.MolFromSmiles(success[6])"
   ]
  },
  {
   "cell_type": "code",
   "execution_count": null,
   "metadata": {},
   "outputs": [],
   "source": [
    "Chem.MolFromSmiles(success[7])"
   ]
  },
  {
   "cell_type": "code",
   "execution_count": null,
   "metadata": {},
   "outputs": [],
   "source": [
    "Chem.MolFromSmiles(success[8])"
   ]
  },
  {
   "cell_type": "code",
   "execution_count": null,
   "metadata": {},
   "outputs": [],
   "source": [
    "Chem.MolFromSmiles(success[2])"
   ]
  },
  {
   "cell_type": "markdown",
   "metadata": {},
   "source": [
    "# Try ADMET depolymerize"
   ]
  },
  {
   "cell_type": "code",
   "execution_count": null,
   "metadata": {},
   "outputs": [],
   "source": [
    "m = Chem.MolFromSmiles('*CCC*')\n",
    "m"
   ]
  },
  {
   "cell_type": "code",
   "execution_count": null,
   "metadata": {},
   "outputs": [],
   "source": [
    "retro.hydrogenate_chain(m)[1]"
   ]
  },
  {
   "cell_type": "code",
   "execution_count": null,
   "metadata": {},
   "outputs": [],
   "source": [
    "a=ru.LinearPol(retro.hydrogenate_chain(m)[0])"
   ]
  },
  {
   "cell_type": "code",
   "execution_count": null,
   "metadata": {},
   "outputs": [],
   "source": [
    "a = retro.admet_depolymerize(ru.LinearPol(retro.hydrogenate_chain(m)[0]))\n",
    "a"
   ]
  },
  {
   "cell_type": "code",
   "execution_count": null,
   "metadata": {},
   "outputs": [],
   "source": [
    "a."
   ]
  },
  {
   "cell_type": "code",
   "execution_count": null,
   "metadata": {},
   "outputs": [],
   "source": [
    "ru.is_symmetric_chem(a)"
   ]
  },
  {
   "cell_type": "code",
   "execution_count": null,
   "metadata": {},
   "outputs": [],
   "source": [
    "success = ru.pd_load('/data/rgur/g2g/paper_1/cib_tg_eg/cutoff-.1/first_cib_model/new_polymers_12_43PM_on_June_23_2020_sortedObjective.csv')\n",
    "success.head()\n",
    "\n",
    "len(success)\n",
    "\n",
    "def test(s):\n",
    "    return retro.depolymerize(ru.LinearPol(s),'CO')\n",
    "\n",
    "smiles_ls = success['SMILES'].tolist()"
   ]
  },
  {
   "cell_type": "code",
   "execution_count": null,
   "metadata": {},
   "outputs": [],
   "source": [
    "success = []\n",
    "for i,x in enumerate(smiles_ls):\n",
    "    try:\n",
    "        monomer = retro.admet_depolymerize(ru.LinearPol(retro.hydrogenate_chain(x)[0]))\n",
    "        if ru.is_symmetric_chem(monomer):\n",
    "            success.append((Chem.MolFromSmiles(x),monomer))\n",
    "    except:\n",
    "        pass"
   ]
  },
  {
   "cell_type": "code",
   "execution_count": null,
   "metadata": {},
   "outputs": [],
   "source": [
    "rm_none = [x for x in success if x[1] != None]"
   ]
  },
  {
   "cell_type": "code",
   "execution_count": null,
   "metadata": {},
   "outputs": [],
   "source": [
    "len(success)"
   ]
  },
  {
   "cell_type": "code",
   "execution_count": null,
   "metadata": {},
   "outputs": [],
   "source": [
    "len(rm_none)"
   ]
  },
  {
   "cell_type": "code",
   "execution_count": null,
   "metadata": {},
   "outputs": [],
   "source": [
    "rm_none[0][0]"
   ]
  },
  {
   "cell_type": "code",
   "execution_count": null,
   "metadata": {},
   "outputs": [],
   "source": [
    "rm_none[0][1]"
   ]
  },
  {
   "cell_type": "code",
   "execution_count": null,
   "metadata": {},
   "outputs": [],
   "source": [
    "rm_none[1][0]"
   ]
  },
  {
   "cell_type": "code",
   "execution_count": null,
   "metadata": {},
   "outputs": [],
   "source": [
    "rm_none[1][1]"
   ]
  },
  {
   "cell_type": "code",
   "execution_count": null,
   "metadata": {},
   "outputs": [],
   "source": [
    "rm_none[2][0]"
   ]
  },
  {
   "cell_type": "code",
   "execution_count": null,
   "metadata": {},
   "outputs": [],
   "source": [
    "rm_none[2][1]"
   ]
  },
  {
   "cell_type": "markdown",
   "metadata": {},
   "source": [
    "# Thiol + electrophile\n",
    "The theory is that the more e- deficient the C=C (i.e. more +ve the charge on the carbons), the higher the rate constant"
   ]
  },
  {
   "cell_type": "code",
   "execution_count": null,
   "metadata": {},
   "outputs": [],
   "source": [
    "m2 = Chem.MolFromSmiles('Cn1c(=O)ccc1=O')\n",
    "m2"
   ]
  },
  {
   "cell_type": "code",
   "execution_count": null,
   "metadata": {},
   "outputs": [],
   "source": [
    "ru.mol_with_atom_index(m2)"
   ]
  },
  {
   "cell_type": "code",
   "execution_count": null,
   "metadata": {},
   "outputs": [],
   "source": [
    "m2.GetAtoms()[4].GetProp('_GasteigerCharge') #rate constant = 8,000"
   ]
  },
  {
   "cell_type": "code",
   "execution_count": null,
   "metadata": {},
   "outputs": [],
   "source": [
    "m3 = Chem.MolFromSmiles('COC(=O)C1=C(C(=O)OC)C2(C)C=CC1(C)O2')\n",
    "m3"
   ]
  },
  {
   "cell_type": "code",
   "execution_count": null,
   "metadata": {},
   "outputs": [],
   "source": [
    "ru.mol_with_atom_index(m3)"
   ]
  },
  {
   "cell_type": "code",
   "execution_count": null,
   "metadata": {},
   "outputs": [],
   "source": [
    "ru.mol_with_partial_charge(m3)"
   ]
  },
  {
   "cell_type": "code",
   "execution_count": null,
   "metadata": {},
   "outputs": [],
   "source": [
    "m3.GetAtoms()[4].GetProp('_GasteigerCharge') #rate constant = 30,000"
   ]
  },
  {
   "cell_type": "code",
   "execution_count": null,
   "metadata": {},
   "outputs": [],
   "source": [
    "m3.GetAtoms()[5].GetProp('_GasteigerCharge') #rate constant = 30,000"
   ]
  },
  {
   "cell_type": "code",
   "execution_count": null,
   "metadata": {},
   "outputs": [],
   "source": [
    "m3.GetAtoms()[12].GetProp('_GasteigerCharge') #rate constant = 30,000"
   ]
  },
  {
   "cell_type": "code",
   "execution_count": null,
   "metadata": {},
   "outputs": [],
   "source": [
    "m3.GetAtoms()[13].GetProp('_GasteigerCharge') #rate constant = 30,000"
   ]
  },
  {
   "cell_type": "code",
   "execution_count": null,
   "metadata": {},
   "outputs": [],
   "source": [
    "m4 = Chem.MolFromSmiles('C=C(C)')\n",
    "m4"
   ]
  },
  {
   "cell_type": "code",
   "execution_count": null,
   "metadata": {},
   "outputs": [],
   "source": [
    "ru.mol_with_atom_index(m4)"
   ]
  },
  {
   "cell_type": "code",
   "execution_count": null,
   "metadata": {},
   "outputs": [],
   "source": [
    "ru.mol_with_partial_charge(m4)"
   ]
  },
  {
   "cell_type": "code",
   "execution_count": null,
   "metadata": {},
   "outputs": [],
   "source": [
    "m3.GetAtoms()[0].GetProp('_GasteigerCharge')"
   ]
  },
  {
   "cell_type": "code",
   "execution_count": null,
   "metadata": {},
   "outputs": [],
   "source": [
    "m3.GetAtoms()[1].GetProp('_GasteigerCharge')"
   ]
  },
  {
   "cell_type": "code",
   "execution_count": null,
   "metadata": {},
   "outputs": [],
   "source": []
  }
 ],
 "metadata": {
  "kernelspec": {
   "display_name": "Python (efrc)",
   "language": "python",
   "name": "efrc"
  },
  "language_info": {
   "codemirror_mode": {
    "name": "ipython",
    "version": 3
   },
   "file_extension": ".py",
   "mimetype": "text/x-python",
   "name": "python",
   "nbconvert_exporter": "python",
   "pygments_lexer": "ipython3",
   "version": "3.7.7-final"
  }
 },
 "nbformat": 4,
 "nbformat_minor": 2
}