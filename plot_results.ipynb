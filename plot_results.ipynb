{
 "cells": [
  {
   "cell_type": "markdown",
   "metadata": {},
   "source": [
    "# Import"
   ]
  },
  {
   "cell_type": "code",
   "execution_count": 1,
   "metadata": {},
   "outputs": [],
   "source": [
    "import pandas as pd"
   ]
  },
  {
   "cell_type": "code",
   "execution_count": 2,
   "metadata": {},
   "outputs": [],
   "source": [
    "%matplotlib inline\n",
    "import matplotlib.pyplot as plt"
   ]
  },
  {
   "cell_type": "code",
   "execution_count": 3,
   "metadata": {},
   "outputs": [],
   "source": [
    "import numpy as np"
   ]
  },
  {
   "cell_type": "code",
   "execution_count": 4,
   "metadata": {},
   "outputs": [
    {
     "name": "stderr",
     "output_type": "stream",
     "text": [
      "/home/modules/anaconda3/lib/python3.7/site-packages/dask/config.py:168: YAMLLoadWarning: calling yaml.load() without Loader=... is deprecated, as the default Loader is unsafe. Please read https://msg.pyyaml.org/load for full details.\n",
      "  data = yaml.load(f.read()) or {}\n",
      "/home/modules/anaconda3/lib/python3.7/site-packages/distributed/config.py:20: YAMLLoadWarning: calling yaml.load() without Loader=... is deprecated, as the default Loader is unsafe. Please read https://msg.pyyaml.org/load for full details.\n",
      "  defaults = yaml.load(f)\n"
     ]
    },
    {
     "data": {
      "text/plain": [
       "<module 'efrc_ml_production' from '/home/rgur/py_scripts/efrc_ml_production.py'>"
      ]
     },
     "execution_count": 4,
     "metadata": {},
     "output_type": "execute_result"
    }
   ],
   "source": [
    "import importlib\n",
    "import efrc_ml_production as ml\n",
    "importlib.reload(ml)"
   ]
  },
  {
   "cell_type": "code",
   "execution_count": 5,
   "metadata": {},
   "outputs": [],
   "source": [
    "from sklearn.metrics import r2_score as r2"
   ]
  },
  {
   "cell_type": "code",
   "execution_count": 6,
   "metadata": {},
   "outputs": [],
   "source": [
    "import os\n",
    "from os import listdir\n",
    "from os.path import isfile, join"
   ]
  },
  {
   "cell_type": "code",
   "execution_count": 7,
   "metadata": {},
   "outputs": [
    {
     "data": {
      "text/plain": [
       "<module 'rishi_utils' from '/home/rgur/py_scripts/rishi_utils.py'>"
      ]
     },
     "execution_count": 7,
     "metadata": {},
     "output_type": "execute_result"
    }
   ],
   "source": [
    "import rishi_utils as ru\n",
    "importlib.reload(ru)"
   ]
  },
  {
   "cell_type": "code",
   "execution_count": 8,
   "metadata": {},
   "outputs": [
    {
     "data": {
      "text/plain": [
       "'/home/rgur/py_scripts'"
      ]
     },
     "execution_count": 8,
     "metadata": {},
     "output_type": "execute_result"
    }
   ],
   "source": [
    "os.getcwd()"
   ]
  },
  {
   "cell_type": "markdown",
   "metadata": {},
   "source": [
    "# Define variables"
   ]
  },
  {
   "cell_type": "code",
   "execution_count": 9,
   "metadata": {},
   "outputs": [],
   "source": [
    "results_dir = '/data/rgur/efrc/ml/results/'"
   ]
  },
  {
   "cell_type": "code",
   "execution_count": 10,
   "metadata": {},
   "outputs": [],
   "source": [
    "stacked_path = '/data/rgur/efrc/prep_data/all_v1/stacked.csv'\n",
    "ml_d_path = '/data/rgur/efrc/prep_data/all_v1/ml_data.csv'"
   ]
  },
  {
   "cell_type": "code",
   "execution_count": 11,
   "metadata": {},
   "outputs": [],
   "source": [
    "Y_DATA_PATH = '/data/rgur/efrc/data_DONOTTOUCH/hMOF_allData_March25_2013.xlsx'"
   ]
  },
  {
   "cell_type": "code",
   "execution_count": 12,
   "metadata": {},
   "outputs": [
    {
     "name": "stderr",
     "output_type": "stream",
     "text": [
      "/home/modules/anaconda3/lib/python3.7/site-packages/IPython/core/interactiveshell.py:3214: DtypeWarning: Columns (5,6,7,8,9,10,11,12,13) have mixed types. Specify dtype option on import or set low_memory=False.\n",
      "  if (yield from self.run_code(code, result)):\n",
      "/home/modules/anaconda3/lib/python3.7/site-packages/IPython/core/interactiveshell.py:3214: DtypeWarning: Columns (4,5,6,7,8,9,10,11,12) have mixed types. Specify dtype option on import or set low_memory=False.\n",
      "  if (yield from self.run_code(code, result)):\n"
     ]
    }
   ],
   "source": [
    "stacked = ru.pd_load('/data/rgur/efrc/prep_data/all_v1/stacked.csv')\n",
    "ml_d = ru.pd_load('/data/rgur/efrc/prep_data/all_v1/ml_data.csv')"
   ]
  },
  {
   "cell_type": "code",
   "execution_count": 13,
   "metadata": {},
   "outputs": [],
   "source": [
    "ml_d = ml.merge_data(ml_d, False, Y_DATA_PATH)"
   ]
  },
  {
   "cell_type": "code",
   "execution_count": 14,
   "metadata": {},
   "outputs": [],
   "source": [
    "stacked_map = {}\n",
    "for i in stacked[['filename', 'pressure','vol_uptake']].iterrows():\n",
    "    val = i[1]\n",
    "    stacked_map[(val['filename'], val['pressure'])] = val['vol_uptake']"
   ]
  },
  {
   "cell_type": "code",
   "execution_count": 15,
   "metadata": {},
   "outputs": [],
   "source": [
    "grav_map = {}\n",
    "for i in ml_d[['filename', 'CH4_cm3/g_35_bar']].iterrows():\n",
    "    val = i[1]\n",
    "    grav_map[val['filename']] = val['CH4_cm3/g_35_bar']"
   ]
  },
  {
   "cell_type": "markdown",
   "metadata": {},
   "source": [
    "# Define functions"
   ]
  },
  {
   "cell_type": "code",
   "execution_count": 16,
   "metadata": {},
   "outputs": [],
   "source": [
    "def getMetrics(true, pred, metrics):\n",
    "    '''\n",
    "    Get metric values from a list if metric functions\n",
    "    '''\n",
    "    return [f(true, pred) for f in metrics]"
   ]
  },
  {
   "cell_type": "code",
   "execution_count": 17,
   "metadata": {},
   "outputs": [],
   "source": [
    "def checkIsoFile(filename):\n",
    "    '''\n",
    "    Determine whether or not filename should be included\n",
    "    '''\n",
    "    if filename[-4:] == '.csv':\n",
    "        if 'iso' in filename:\n",
    "            row_count = ru.count_lines(filename) - 1\n",
    "            if row_count == 533430:\n",
    "                return True\n",
    "    return False"
   ]
  },
  {
   "cell_type": "code",
   "execution_count": 46,
   "metadata": {},
   "outputs": [],
   "source": [
    "def checkGravFile(filename):\n",
    "    '''\n",
    "    Determine whether or not filename should be included\n",
    "    '''\n",
    "    if filename[-4:] == '.csv':\n",
    "        if 'grav' in filename:\n",
    "            row_count = ru.count_lines(filename) - 1\n",
    "            if row_count == 126369:\n",
    "                return True\n",
    "    return False"
   ]
  },
  {
   "cell_type": "code",
   "execution_count": 19,
   "metadata": {},
   "outputs": [],
   "source": [
    "def get_t_pct(filename):\n",
    "    return float(filename.split('train_')[1][:2])"
   ]
  },
  {
   "cell_type": "code",
   "execution_count": 20,
   "metadata": {},
   "outputs": [],
   "source": [
    "def get_Code(filename):\n",
    "    return filename.split('code_')[1][:4]"
   ]
  },
  {
   "cell_type": "code",
   "execution_count": 21,
   "metadata": {},
   "outputs": [],
   "source": [
    "def getSeed(filename):\n",
    "    return filename.split('seed_')[1][:1]"
   ]
  },
  {
   "cell_type": "code",
   "execution_count": 22,
   "metadata": {},
   "outputs": [],
   "source": [
    "def getAllFilenames(parent_dir):\n",
    "    return [parent_dir+f for f in listdir(parent_dir) if isfile(join(parent_dir, f))]"
   ]
  },
  {
   "cell_type": "code",
   "execution_count": 23,
   "metadata": {},
   "outputs": [],
   "source": [
    "def getTruthVals(train_keys, test_keys, my_map):\n",
    "    train_truth = [my_map[f] for f in train_keys]\n",
    "    test_truth = [my_map[f] for f in test_keys]\n",
    "    return train_truth, test_truth"
   ]
  },
  {
   "cell_type": "code",
   "execution_count": 24,
   "metadata": {},
   "outputs": [],
   "source": [
    "def getPredsAndKeys(df):\n",
    "    n_unique_pressures = len(df['Pressure'].unique())\n",
    "    train_df = df[df['Class'] == 'Train']\n",
    "    test_df = df[df['Class'] == 'Test']\n",
    "    train_preds = train_df['Prediction'].tolist()\n",
    "    test_preds = test_df['Prediction'].tolist()\n",
    "    if n_unique_pressures == 1:\n",
    "        train_keys = train_df['Filename'].tolist()\n",
    "        test_keys = test_df['Filename'].tolist()\n",
    "    else:\n",
    "        train_keys = [tuple(r) for r in train_df[['Filename', 'Pressure']].to_numpy()]\n",
    "        test_keys = [tuple(r) for r in test_df[['Filename', 'Pressure']].to_numpy()]\n",
    "    return train_preds, train_keys, test_preds, test_keys"
   ]
  },
  {
   "cell_type": "code",
   "execution_count": 25,
   "metadata": {},
   "outputs": [],
   "source": [
    "def get_time(f):\n",
    "    return '_'.join(f.split('.')[0].split('_')[-6:])"
   ]
  },
  {
   "cell_type": "code",
   "execution_count": 26,
   "metadata": {},
   "outputs": [],
   "source": [
    "def unflatten(l, n):\n",
    "    new = []\n",
    "    length = len(l)\n",
    "    prev = 0\n",
    "    split_inds = list(range(0, length+1, n))\n",
    "    prev = 0\n",
    "    for ind in split_inds[1:]:\n",
    "        new.append(l[prev:ind])\n",
    "        prev = ind\n",
    "    return new"
   ]
  },
  {
   "cell_type": "code",
   "execution_count": 27,
   "metadata": {},
   "outputs": [],
   "source": [
    "def getMetricsFromDf(f, fix_preds, stacked):\n",
    "    #df = pd.read_csv(f)\n",
    "    df = ru.pd_load(f)\n",
    "    if fix_preds:\n",
    "        fix_predictions(df)\n",
    "    train_preds, train_keys, test_preds, test_keys = getPredsAndKeys(df)\n",
    "    if stacked:\n",
    "        my_map = stacked_map\n",
    "    else:\n",
    "        my_map = grav_map\n",
    "    train_truth, test_truth = getTruthVals(train_keys, test_keys, my_map)\n",
    "    train_vals = getMetrics(true=train_truth, pred=train_preds, metrics=[ml.get_rmse, r2])\n",
    "    test_vals = getMetrics(true=test_truth, pred=test_preds, metrics=[ml.get_rmse, r2])\n",
    "    return (train_vals, test_vals)"
   ]
  },
  {
   "cell_type": "code",
   "execution_count": 28,
   "metadata": {},
   "outputs": [],
   "source": [
    "def getResultsDf(good_codes=None, good_time=None, fix_preds=True, include_geo=False, stacked=False):\n",
    "    \n",
    "    seeds = []\n",
    "    run1_r2s = []\n",
    "    run1_rmses = []\n",
    "    run2_r2s = []\n",
    "    run2_rmses = []\n",
    "    run3_r2s = []\n",
    "    run3_rmses = []\n",
    "    train_pcts = []\n",
    "    codes = []\n",
    "    classes = []\n",
    "    all_files = getAllFilenames(results_dir)\n",
    "    #relevant_iso = [checkIsoFile(f) for f in all_files]\n",
    "    if stacked:\n",
    "        checkFile = checkIsoFile\n",
    "    else:\n",
    "        checkFile = checkGravFile\n",
    "    relevent = [f for f in all_files if checkFile(f)]\n",
    "    unique_codes = list(set([get_Code(f) for f in relevent]))\n",
    "    if include_geo:\n",
    "        good_codes = [code for code in unique_codes if code[-1] == '1']\n",
    "    else:\n",
    "        good_codes = [code for code in unique_codes if code[-1] == '0']\n",
    "    print(good_codes)\n",
    "    if good_codes != None:\n",
    "        relevent = [f for f in relevent if get_Code(f) in good_codes]\n",
    "    if good_time != None:\n",
    "        relevent = [f for f in relevent if get_time(f) in good_time]\n",
    "    relevent = sorted(relevent)\n",
    "    nested_relevent = unflatten(relevent, 3)\n",
    "    for l in nested_relevent:\n",
    "        f = l[0]\n",
    "        codes += [get_Code(f)]*2\n",
    "        classes.append(\"Train\")\n",
    "        classes.append(\"Test\")\n",
    "        #seeds += [getSeed(f)]*2\n",
    "        train_pcts += [get_t_pct(f)]*2\n",
    "        vals = [getMetricsFromDf(f, fix_preds, stacked) for f in l] #[seed 0, seed 1, seed 2], [train, test], [rmse, r2]\n",
    "        #print(vals)\n",
    "        run1_r2s.append(vals[0][0][1])\n",
    "        run1_r2s.append(vals[0][1][1])\n",
    "        \n",
    "        run1_rmses.append(vals[0][0][0])\n",
    "        run1_rmses.append(vals[0][1][0])\n",
    "        \n",
    "        run2_r2s.append(vals[1][0][1])\n",
    "        run2_r2s.append(vals[1][1][1])\n",
    "        \n",
    "        run2_rmses.append(vals[1][0][0])\n",
    "        run2_rmses.append(vals[1][1][0])\n",
    "        \n",
    "        run3_r2s.append(vals[2][0][1])\n",
    "        run3_r2s.append(vals[2][1][1])\n",
    "        \n",
    "        run3_rmses.append(vals[2][0][0])\n",
    "        run3_rmses.append(vals[2][1][0])\n",
    "\n",
    "    return pd.DataFrame({\"Run 1 R2\": run1_r2s, \"Run 1 RMSE\": run1_rmses, \"Run 2 R2\": run2_r2s, \n",
    "                         \"Run 2 RMSE\": run2_rmses, \"Run 3 R2\": run3_r2s, \"Run 3 RMSE\": run3_rmses, \n",
    "                         \"Training %\": train_pcts, \"Code\": codes, \"Class\": classes})"
   ]
  },
  {
   "cell_type": "code",
   "execution_count": 29,
   "metadata": {},
   "outputs": [],
   "source": [
    "def labelFromCode(code):\n",
    "    s = ''\n",
    "    if code[0] == '1':\n",
    "        s+='SI+'\n",
    "    if code[1] == '1':\n",
    "        s+='SD+'\n",
    "    if code[2] == '1':\n",
    "        s+='LS+'\n",
    "    if code[3] == '1':\n",
    "        s+='Geo+'\n",
    "    return s[:-1]"
   ]
  },
  {
   "cell_type": "code",
   "execution_count": 30,
   "metadata": {},
   "outputs": [],
   "source": [
    "def fix_predictions(df):\n",
    "    preds = df['Prediction'].tolist()\n",
    "    new = []\n",
    "    for i in preds:\n",
    "        if i<0:\n",
    "            new.append(0)\n",
    "        else:\n",
    "            new.append(i)\n",
    "    df['Prediction'] = new"
   ]
  },
  {
   "cell_type": "code",
   "execution_count": 34,
   "metadata": {},
   "outputs": [],
   "source": [
    "def plot_results(df, title='Learning Curve', good_codes=None, score_name='RMSE', ylim=None, axes=None, \n",
    "                 place_legend='in'):\n",
    "    colors = ['r', 'k', 'b', 'c', 'm', 'y', 'darkorange', 'slategray', 'tan', 'deeppink', 'greenyellow','g']\n",
    "    n_plots = len\n",
    "    if axes is None:\n",
    "        _, axes = plt.subplots(1, 1, figsize=(8, 8))\n",
    "\n",
    "    axes.set_title(title)\n",
    "    if ylim is not None:\n",
    "        axes.set_ylim(*ylim)\n",
    "    axes.set_xlabel(\"Training examples\")\n",
    "    axes.set_ylabel(score_name)\n",
    "    if good_codes == None:\n",
    "        good_codes = df['Code'].unique().tolist()\n",
    "    for ind, code in enumerate(good_codes):\n",
    "        LABEL = labelFromCode(code)\n",
    "        df_code = df[df['Code'] == code]\n",
    "        train_df = df_code[df_code['Class'] == 'Train']\n",
    "        test_df = df_code[df_code['Class'] == 'Test']\n",
    "        score_train_df = train_df[['Run 1 %s' %score_name, 'Run 2 %s' %score_name, 'Run 3 %s' %score_name]]\n",
    "        score_test_df = test_df[['Run 1 %s' %score_name, 'Run 2 %s' %score_name, 'Run 3 %s' %score_name]]\n",
    "        train_sizes = df['Training %'].unique()\n",
    "\n",
    "        train_scores_mean = np.mean(score_train_df, axis=1)\n",
    "        train_scores_std = np.std(score_train_df, axis=1)\n",
    "        test_scores_mean = np.mean(score_test_df, axis=1)\n",
    "        test_scores_std = np.std(score_test_df, axis=1)\n",
    "        #fit_times_mean = np.mean(fit_times, axis=1)\n",
    "        #fit_times_std = np.std(fit_times, axis=1)\n",
    "\n",
    "        train_scores_mean = train_scores_mean\n",
    "        train_scores_std = train_scores_std\n",
    "        test_scores_mean = test_scores_mean\n",
    "        test_scores_std = test_scores_std\n",
    "\n",
    "        # Plot learning curve\n",
    "        n_done = len(train_scores_mean) #in case not all runs are done yet\n",
    "        axes.grid()\n",
    "        axes.fill_between(train_sizes[0:n_done], train_scores_mean - train_scores_std,\n",
    "                             train_scores_mean + train_scores_std, alpha=0.1,\n",
    "                             color=colors[ind])\n",
    "        axes.fill_between(train_sizes[0:n_done], test_scores_mean - test_scores_std,\n",
    "                             test_scores_mean + test_scores_std, alpha=0.1,\n",
    "                             color=colors[ind])\n",
    "        axes.plot(train_sizes[0:n_done], train_scores_mean, 'o-', color=colors[ind],\n",
    "                     label=\"Training %s - %s\" %(score_name, LABEL) )\n",
    "        axes.plot(train_sizes[0:n_done], test_scores_mean, 'x-', color=colors[ind],\n",
    "                     label=\"Test %s - %s\" %(score_name, LABEL) )\n",
    "    if place_legend == 'out':\n",
    "        axes.legend(loc='center left', bbox_to_anchor=(1, 0.5))\n",
    "    else:\n",
    "        axes.legend(loc=\"best\")\n",
    "\n",
    "    return plt"
   ]
  },
  {
   "cell_type": "markdown",
   "metadata": {},
   "source": [
    "# Run "
   ]
  },
  {
   "cell_type": "code",
   "execution_count": 50,
   "metadata": {},
   "outputs": [
    {
     "name": "stdout",
     "output_type": "stream",
     "text": [
      "['1000', '1110', '0100', '1100', '0110', '1010']\n"
     ]
    }
   ],
   "source": [
    "#GOOD_CODES = ['1010', '1000']\n",
    "#GOOD_TIME = ['08_37PM_on_April_18_2020', '02_56PM_on_April_20_2020']\n",
    "#GOOD_TIME = ['05_52PM_on_April_26_2020', '11_15AM_on_April_28_2020', '05_14PM_on_April_28_2020']\n",
    "GOOD_TIME = ['12_07PM_on_April_28_2020']\n",
    "\n",
    "results_df = getResultsDf(good_codes=None, good_time=GOOD_TIME, fix_preds=True, include_geo=False, stacked=False)"
   ]
  },
  {
   "cell_type": "code",
   "execution_count": 51,
   "metadata": {},
   "outputs": [
    {
     "name": "stderr",
     "output_type": "stream",
     "text": [
      "W0429 11:13:31.446654 140098263344896 legend.py:1289] No handles with labels found to put in legend.\n"
     ]
    },
    {
     "data": {
      "text/plain": [
       "<module 'matplotlib.pyplot' from '/home/modules/anaconda3/lib/python3.7/site-packages/matplotlib/pyplot.py'>"
      ]
     },
     "execution_count": 51,
     "metadata": {},
     "output_type": "execute_result"
    },
    {
     "data": {
      "image/png": "[encoded data removed]",
      "text/plain": [
       "<Figure size 576x576 with 1 Axes>"
      ]
     },
     "metadata": {
      "needs_background": "light"
     },
     "output_type": "display_data"
    }
   ],
   "source": [
    "%matplotlib inline\n",
    "\n",
    "plot_results(results_df, score_name='R2')"
   ]
  },
  {
   "cell_type": "code",
   "execution_count": 49,
   "metadata": {},
   "outputs": [
    {
     "data": {
      "text/html": [
       "<div>\n",
       "<style scoped>\n",
       "    .dataframe tbody tr th:only-of-type {\n",
       "        vertical-align: middle;\n",
       "    }\n",
       "\n",
       "    .dataframe tbody tr th {\n",
       "        vertical-align: top;\n",
       "    }\n",
       "\n",
       "    .dataframe thead th {\n",
       "        text-align: right;\n",
       "    }\n",
       "</style>\n",
       "<table border=\"1\" class=\"dataframe\">\n",
       "  <thead>\n",
       "    <tr style=\"text-align: right;\">\n",
       "      <th></th>\n",
       "      <th>Run 1 R2</th>\n",
       "      <th>Run 1 RMSE</th>\n",
       "      <th>Run 2 R2</th>\n",
       "      <th>Run 2 RMSE</th>\n",
       "      <th>Run 3 R2</th>\n",
       "      <th>Run 3 RMSE</th>\n",
       "      <th>Training %</th>\n",
       "      <th>Code</th>\n",
       "      <th>Class</th>\n",
       "    </tr>\n",
       "  </thead>\n",
       "  <tbody>\n",
       "  </tbody>\n",
       "</table>\n",
       "</div>"
      ],
      "text/plain": [
       "Empty DataFrame\n",
       "Columns: [Run 1 R2, Run 1 RMSE, Run 2 R2, Run 2 RMSE, Run 3 R2, Run 3 RMSE, Training %, Code, Class]\n",
       "Index: []"
      ]
     },
     "execution_count": 49,
     "metadata": {},
     "output_type": "execute_result"
    }
   ],
   "source": [
    "results_df"
   ]
  },
  {
   "cell_type": "markdown",
   "metadata": {},
   "source": [
    "# Scratch"
   ]
  },
  {
   "cell_type": "code",
   "execution_count": null,
   "metadata": {},
   "outputs": [],
   "source": [
    "train_df = results_df[(results_df['Class'] == 'Test') & (results_df['Training %'] == 70.0)]"
   ]
  },
  {
   "cell_type": "code",
   "execution_count": null,
   "metadata": {},
   "outputs": [],
   "source": [
    "train_df['Average RMSE'] = np.mean(train_df[['Run 1 RMSE', 'Run 2 RMSE', 'Run 3 RMSE']], axis=1)"
   ]
  },
  {
   "cell_type": "code",
   "execution_count": null,
   "metadata": {},
   "outputs": [],
   "source": [
    "train_df['Average R2'] = np.mean(train_df[['Run 1 R2', 'Run 2 R2', 'Run 3 R2']], axis=1)"
   ]
  },
  {
   "cell_type": "code",
   "execution_count": null,
   "metadata": {},
   "outputs": [],
   "source": [
    "train_df"
   ]
  },
  {
   "cell_type": "markdown",
   "metadata": {},
   "source": [
    "# Test functions"
   ]
  },
  {
   "cell_type": "code",
   "execution_count": null,
   "metadata": {},
   "outputs": [],
   "source": [
    "getMetrics([1,0,0], [1,0,0], [ml.get_rmse, r2]) "
   ]
  },
  {
   "cell_type": "code",
   "execution_count": null,
   "metadata": {},
   "outputs": [],
   "source": []
  },
  {
   "cell_type": "code",
   "execution_count": null,
   "metadata": {},
   "outputs": [],
   "source": []
  },
  {
   "cell_type": "code",
   "execution_count": null,
   "metadata": {},
   "outputs": [],
   "source": [
    "a = '/data/rgur/efrc/ml/results/results_grav_code_1110_train_60_seed_0_12_34PM_on_April_17_2020.csv'"
   ]
  },
  {
   "cell_type": "code",
   "execution_count": null,
   "metadata": {},
   "outputs": [],
   "source": [
    "checkGravFile(a)"
   ]
  },
  {
   "cell_type": "code",
   "execution_count": null,
   "metadata": {},
   "outputs": [],
   "source": []
  },
  {
   "cell_type": "code",
   "execution_count": null,
   "metadata": {},
   "outputs": [],
   "source": []
  },
  {
   "cell_type": "code",
   "execution_count": null,
   "metadata": {},
   "outputs": [],
   "source": [
    "unflatten([0,1,2,3,4,6,7,8,9], 3)"
   ]
  },
  {
   "cell_type": "code",
   "execution_count": null,
   "metadata": {},
   "outputs": [],
   "source": []
  },
  {
   "cell_type": "code",
   "execution_count": null,
   "metadata": {},
   "outputs": [],
   "source": [
    "labelFromCode('1111')"
   ]
  },
  {
   "cell_type": "code",
   "execution_count": null,
   "metadata": {},
   "outputs": [],
   "source": []
  },
  {
   "cell_type": "code",
   "execution_count": 52,
   "metadata": {},
   "outputs": [],
   "source": [
    "df = ru.pd_load('/data/rgur/efrc/ml/results/results_grav_code_0100_train_50_seed_0_12_07PM_on_April_28_2020.csv')"
   ]
  },
  {
   "cell_type": "code",
   "execution_count": 53,
   "metadata": {},
   "outputs": [
    {
     "data": {
      "text/html": [
       "<div>\n",
       "<style scoped>\n",
       "    .dataframe tbody tr th:only-of-type {\n",
       "        vertical-align: middle;\n",
       "    }\n",
       "\n",
       "    .dataframe tbody tr th {\n",
       "        vertical-align: top;\n",
       "    }\n",
       "\n",
       "    .dataframe thead th {\n",
       "        text-align: right;\n",
       "    }\n",
       "</style>\n",
       "<table border=\"1\" class=\"dataframe\">\n",
       "  <thead>\n",
       "    <tr style=\"text-align: right;\">\n",
       "      <th></th>\n",
       "      <th>Unnamed: 0</th>\n",
       "      <th>Filename</th>\n",
       "      <th>Pressure</th>\n",
       "      <th>Class</th>\n",
       "      <th>Prediction</th>\n",
       "    </tr>\n",
       "  </thead>\n",
       "  <tbody>\n",
       "    <tr>\n",
       "      <th>0</th>\n",
       "      <td>0</td>\n",
       "      <td>hypotheticalMOF_5004666_i_0_j_20_k_12_m_1_cat_...</td>\n",
       "      <td>35</td>\n",
       "      <td>Train</td>\n",
       "      <td>90.822083</td>\n",
       "    </tr>\n",
       "    <tr>\n",
       "      <th>1</th>\n",
       "      <td>1</td>\n",
       "      <td>hypotheticalMOF_5034070_i_1_j_19_k_4_m_6_cat_1...</td>\n",
       "      <td>35</td>\n",
       "      <td>Train</td>\n",
       "      <td>37.327415</td>\n",
       "    </tr>\n",
       "    <tr>\n",
       "      <th>2</th>\n",
       "      <td>2</td>\n",
       "      <td>hypotheticalMOF_30888_i_2_j_9_k_6_m_0_cat_1.cif</td>\n",
       "      <td>35</td>\n",
       "      <td>Train</td>\n",
       "      <td>126.574303</td>\n",
       "    </tr>\n",
       "    <tr>\n",
       "      <th>3</th>\n",
       "      <td>3</td>\n",
       "      <td>hypotheticalMOF_5024913_i_0_j_27_k_17_m_7_cat_...</td>\n",
       "      <td>35</td>\n",
       "      <td>Train</td>\n",
       "      <td>148.466125</td>\n",
       "    </tr>\n",
       "    <tr>\n",
       "      <th>4</th>\n",
       "      <td>4</td>\n",
       "      <td>hypotheticalMOF_5069229_i_2_j_23_k_23_m_0_cat_...</td>\n",
       "      <td>35</td>\n",
       "      <td>Train</td>\n",
       "      <td>94.487976</td>\n",
       "    </tr>\n",
       "    <tr>\n",
       "      <th>5</th>\n",
       "      <td>5</td>\n",
       "      <td>hypotheticalMOF_15055_i_0_j_17_k_13_m_7_cat_1.cif</td>\n",
       "      <td>35</td>\n",
       "      <td>Train</td>\n",
       "      <td>130.349182</td>\n",
       "    </tr>\n",
       "    <tr>\n",
       "      <th>6</th>\n",
       "      <td>6</td>\n",
       "      <td>hypotheticalMOF_5364_i_0_j_9_k_7_m_7_cat_1.cif</td>\n",
       "      <td>35</td>\n",
       "      <td>Train</td>\n",
       "      <td>104.508224</td>\n",
       "    </tr>\n",
       "    <tr>\n",
       "      <th>7</th>\n",
       "      <td>7</td>\n",
       "      <td>hypotheticalMOF_5025231_i_0_j_27_k_19_m_14_cat...</td>\n",
       "      <td>35</td>\n",
       "      <td>Train</td>\n",
       "      <td>89.955048</td>\n",
       "    </tr>\n",
       "    <tr>\n",
       "      <th>8</th>\n",
       "      <td>8</td>\n",
       "      <td>hypotheticalMOF_5035953_i_1_j_20_k_2_m_3_cat_2...</td>\n",
       "      <td>35</td>\n",
       "      <td>Train</td>\n",
       "      <td>77.078125</td>\n",
       "    </tr>\n",
       "    <tr>\n",
       "      <th>9</th>\n",
       "      <td>9</td>\n",
       "      <td>hypotheticalMOF_5065435_i_2_j_21_k_17_m_10_cat...</td>\n",
       "      <td>35</td>\n",
       "      <td>Train</td>\n",
       "      <td>99.660049</td>\n",
       "    </tr>\n",
       "    <tr>\n",
       "      <th>10</th>\n",
       "      <td>10</td>\n",
       "      <td>hypotheticalMOF_9033_i_0_j_13_k_2_m_10_cat_1.cif</td>\n",
       "      <td>35</td>\n",
       "      <td>Train</td>\n",
       "      <td>147.691208</td>\n",
       "    </tr>\n",
       "    <tr>\n",
       "      <th>11</th>\n",
       "      <td>11</td>\n",
       "      <td>hypotheticalMOF_5005681_i_0_j_20_k_19_m_7_cat_...</td>\n",
       "      <td>35</td>\n",
       "      <td>Train</td>\n",
       "      <td>81.864510</td>\n",
       "    </tr>\n",
       "    <tr>\n",
       "      <th>12</th>\n",
       "      <td>12</td>\n",
       "      <td>hypotheticalMOF_5005128_i_0_j_20_k_15_m_4_cat_...</td>\n",
       "      <td>35</td>\n",
       "      <td>Train</td>\n",
       "      <td>162.024353</td>\n",
       "    </tr>\n",
       "    <tr>\n",
       "      <th>13</th>\n",
       "      <td>13</td>\n",
       "      <td>hypotheticalMOF_5028178_i_0_j_28_k_13_m_3_cat_...</td>\n",
       "      <td>35</td>\n",
       "      <td>Train</td>\n",
       "      <td>148.979355</td>\n",
       "    </tr>\n",
       "    <tr>\n",
       "      <th>14</th>\n",
       "      <td>14</td>\n",
       "      <td>hypotheticalMOF_5069045_i_2_j_23_k_20_m_9_cat_...</td>\n",
       "      <td>35</td>\n",
       "      <td>Train</td>\n",
       "      <td>64.981476</td>\n",
       "    </tr>\n",
       "    <tr>\n",
       "      <th>15</th>\n",
       "      <td>15</td>\n",
       "      <td>hypotheticalMOF_5018861_i_0_j_25_k_20_m_9_cat_...</td>\n",
       "      <td>35</td>\n",
       "      <td>Train</td>\n",
       "      <td>63.753971</td>\n",
       "    </tr>\n",
       "    <tr>\n",
       "      <th>16</th>\n",
       "      <td>16</td>\n",
       "      <td>hypotheticalMOF_24676_i_1_j_15_k_6_m_10_cat_1.cif</td>\n",
       "      <td>35</td>\n",
       "      <td>Train</td>\n",
       "      <td>128.315353</td>\n",
       "    </tr>\n",
       "    <tr>\n",
       "      <th>17</th>\n",
       "      <td>17</td>\n",
       "      <td>hypotheticalMOF_5034549_i_1_j_19_k_7_m_6_cat_1...</td>\n",
       "      <td>35</td>\n",
       "      <td>Train</td>\n",
       "      <td>136.035583</td>\n",
       "    </tr>\n",
       "    <tr>\n",
       "      <th>18</th>\n",
       "      <td>18</td>\n",
       "      <td>hypotheticalMOF_5031166_i_0_j_29_k_7_m_9_cat_1...</td>\n",
       "      <td>35</td>\n",
       "      <td>Train</td>\n",
       "      <td>142.419128</td>\n",
       "    </tr>\n",
       "    <tr>\n",
       "      <th>19</th>\n",
       "      <td>19</td>\n",
       "      <td>hypotheticalMOF_5042289_i_1_j_22_k_20_m_7_cat_...</td>\n",
       "      <td>35</td>\n",
       "      <td>Train</td>\n",
       "      <td>83.034332</td>\n",
       "    </tr>\n",
       "    <tr>\n",
       "      <th>20</th>\n",
       "      <td>20</td>\n",
       "      <td>hypotheticalMOF_5001133_i_0_j_19_k_7_m_2_cat_2...</td>\n",
       "      <td>35</td>\n",
       "      <td>Train</td>\n",
       "      <td>86.180466</td>\n",
       "    </tr>\n",
       "    <tr>\n",
       "      <th>21</th>\n",
       "      <td>21</td>\n",
       "      <td>hypotheticalMOF_5068701_i_2_j_23_k_17_m_1_cat_...</td>\n",
       "      <td>35</td>\n",
       "      <td>Train</td>\n",
       "      <td>124.928490</td>\n",
       "    </tr>\n",
       "    <tr>\n",
       "      <th>22</th>\n",
       "      <td>22</td>\n",
       "      <td>hypotheticalMOF_5020622_i_0_j_26_k_7_m_8_cat_1...</td>\n",
       "      <td>35</td>\n",
       "      <td>Train</td>\n",
       "      <td>122.267929</td>\n",
       "    </tr>\n",
       "    <tr>\n",
       "      <th>23</th>\n",
       "      <td>23</td>\n",
       "      <td>hypotheticalMOF_5039630_i_1_j_21_k_10_m_9_cat_...</td>\n",
       "      <td>35</td>\n",
       "      <td>Train</td>\n",
       "      <td>27.179749</td>\n",
       "    </tr>\n",
       "    <tr>\n",
       "      <th>24</th>\n",
       "      <td>24</td>\n",
       "      <td>hypotheticalMOF_5076499_i_2_j_27_k_7_m_1_cat_2...</td>\n",
       "      <td>35</td>\n",
       "      <td>Train</td>\n",
       "      <td>113.716766</td>\n",
       "    </tr>\n",
       "    <tr>\n",
       "      <th>25</th>\n",
       "      <td>25</td>\n",
       "      <td>hypotheticalMOF_5048267_i_1_j_25_k_20_m_14_cat...</td>\n",
       "      <td>35</td>\n",
       "      <td>Train</td>\n",
       "      <td>128.923981</td>\n",
       "    </tr>\n",
       "    <tr>\n",
       "      <th>26</th>\n",
       "      <td>26</td>\n",
       "      <td>hypotheticalMOF_3001490_i_2_j_25_k_23_m_6_cat_...</td>\n",
       "      <td>35</td>\n",
       "      <td>Train</td>\n",
       "      <td>151.770691</td>\n",
       "    </tr>\n",
       "    <tr>\n",
       "      <th>27</th>\n",
       "      <td>27</td>\n",
       "      <td>hypotheticalMOF_3001230_i_2_j_24_k_23_m_1_cat_...</td>\n",
       "      <td>35</td>\n",
       "      <td>Train</td>\n",
       "      <td>95.712532</td>\n",
       "    </tr>\n",
       "    <tr>\n",
       "      <th>28</th>\n",
       "      <td>28</td>\n",
       "      <td>hypotheticalMOF_5080949_i_2_j_28_k_27_m_14_cat...</td>\n",
       "      <td>35</td>\n",
       "      <td>Train</td>\n",
       "      <td>130.585876</td>\n",
       "    </tr>\n",
       "    <tr>\n",
       "      <th>29</th>\n",
       "      <td>29</td>\n",
       "      <td>hypotheticalMOF_5003004_i_0_j_20_k_2_m_3_cat_1...</td>\n",
       "      <td>35</td>\n",
       "      <td>Train</td>\n",
       "      <td>139.167679</td>\n",
       "    </tr>\n",
       "    <tr>\n",
       "      <th>...</th>\n",
       "      <td>...</td>\n",
       "      <td>...</td>\n",
       "      <td>...</td>\n",
       "      <td>...</td>\n",
       "      <td>...</td>\n",
       "    </tr>\n",
       "    <tr>\n",
       "      <th>533400</th>\n",
       "      <td>533400</td>\n",
       "      <td>hypotheticalMOF_27804_i_2_j_3_k_1_m_3.cif</td>\n",
       "      <td>35</td>\n",
       "      <td>Test</td>\n",
       "      <td>151.666367</td>\n",
       "    </tr>\n",
       "    <tr>\n",
       "      <th>533401</th>\n",
       "      <td>533401</td>\n",
       "      <td>hypotheticalMOF_19336_i_1_j_7_k_4_m_10.cif</td>\n",
       "      <td>35</td>\n",
       "      <td>Test</td>\n",
       "      <td>130.412903</td>\n",
       "    </tr>\n",
       "    <tr>\n",
       "      <th>533402</th>\n",
       "      <td>533402</td>\n",
       "      <td>hypotheticalMOF_20339_i_1_j_9_k_6_m_0.cif</td>\n",
       "      <td>35</td>\n",
       "      <td>Test</td>\n",
       "      <td>130.426880</td>\n",
       "    </tr>\n",
       "    <tr>\n",
       "      <th>533403</th>\n",
       "      <td>533403</td>\n",
       "      <td>hypotheticalMOF_33523_i_2_j_13_k_3_m_8.cif</td>\n",
       "      <td>35</td>\n",
       "      <td>Test</td>\n",
       "      <td>104.133804</td>\n",
       "    </tr>\n",
       "    <tr>\n",
       "      <th>533404</th>\n",
       "      <td>533404</td>\n",
       "      <td>hypotheticalMOF_35057_i_2_j_15_k_5_m_4.cif</td>\n",
       "      <td>35</td>\n",
       "      <td>Test</td>\n",
       "      <td>148.505157</td>\n",
       "    </tr>\n",
       "    <tr>\n",
       "      <th>533405</th>\n",
       "      <td>533405</td>\n",
       "      <td>hypotheticalMOF_5078870_i_2_j_28_k_4_m_13.cif</td>\n",
       "      <td>35</td>\n",
       "      <td>Test</td>\n",
       "      <td>155.229767</td>\n",
       "    </tr>\n",
       "    <tr>\n",
       "      <th>533406</th>\n",
       "      <td>533406</td>\n",
       "      <td>hypotheticalMOF_6004863_i_3_j_27_k_27_m_11.cif</td>\n",
       "      <td>35</td>\n",
       "      <td>Test</td>\n",
       "      <td>118.830650</td>\n",
       "    </tr>\n",
       "    <tr>\n",
       "      <th>533407</th>\n",
       "      <td>533407</td>\n",
       "      <td>hypotheticalMOF_1003107_i_3_j_18_k_13_m_2.cif</td>\n",
       "      <td>35</td>\n",
       "      <td>Test</td>\n",
       "      <td>111.994492</td>\n",
       "    </tr>\n",
       "    <tr>\n",
       "      <th>533408</th>\n",
       "      <td>533408</td>\n",
       "      <td>hypotheticalMOF_13167_i_0_j_16_k_7_m_1.cif</td>\n",
       "      <td>35</td>\n",
       "      <td>Test</td>\n",
       "      <td>124.744377</td>\n",
       "    </tr>\n",
       "    <tr>\n",
       "      <th>533409</th>\n",
       "      <td>533409</td>\n",
       "      <td>hypotheticalMOF_674_i_0_j_3_k_0_m_1.cif</td>\n",
       "      <td>35</td>\n",
       "      <td>Test</td>\n",
       "      <td>128.190765</td>\n",
       "    </tr>\n",
       "    <tr>\n",
       "      <th>533410</th>\n",
       "      <td>533410</td>\n",
       "      <td>hypotheticalMOF_2000125_i_1_j_20_k_19_m_12.cif</td>\n",
       "      <td>35</td>\n",
       "      <td>Test</td>\n",
       "      <td>145.885712</td>\n",
       "    </tr>\n",
       "    <tr>\n",
       "      <th>533411</th>\n",
       "      <td>533411</td>\n",
       "      <td>hypotheticalMOF_21696_i_1_j_11_k_4_m_9.cif</td>\n",
       "      <td>35</td>\n",
       "      <td>Test</td>\n",
       "      <td>145.399155</td>\n",
       "    </tr>\n",
       "    <tr>\n",
       "      <th>533412</th>\n",
       "      <td>533412</td>\n",
       "      <td>hypotheticalMOF_5036375_i_1_j_20_k_5_m_2.cif</td>\n",
       "      <td>35</td>\n",
       "      <td>Test</td>\n",
       "      <td>123.498077</td>\n",
       "    </tr>\n",
       "    <tr>\n",
       "      <th>533413</th>\n",
       "      <td>533413</td>\n",
       "      <td>hypotheticalMOF_13539_i_0_j_16_k_12_m_11.cif</td>\n",
       "      <td>35</td>\n",
       "      <td>Test</td>\n",
       "      <td>132.548187</td>\n",
       "    </tr>\n",
       "    <tr>\n",
       "      <th>533414</th>\n",
       "      <td>533414</td>\n",
       "      <td>hypotheticalMOF_13484_i_0_j_16_k_11_m_12.cif</td>\n",
       "      <td>35</td>\n",
       "      <td>Test</td>\n",
       "      <td>135.945709</td>\n",
       "    </tr>\n",
       "    <tr>\n",
       "      <th>533415</th>\n",
       "      <td>533415</td>\n",
       "      <td>hypotheticalMOF_21046_i_1_j_10_k_6_m_2.cif</td>\n",
       "      <td>35</td>\n",
       "      <td>Test</td>\n",
       "      <td>143.776825</td>\n",
       "    </tr>\n",
       "    <tr>\n",
       "      <th>533416</th>\n",
       "      <td>533416</td>\n",
       "      <td>hypotheticalMOF_7001927_i_4_j_27_k_2_m_3.cif</td>\n",
       "      <td>35</td>\n",
       "      <td>Test</td>\n",
       "      <td>131.369263</td>\n",
       "    </tr>\n",
       "    <tr>\n",
       "      <th>533417</th>\n",
       "      <td>533417</td>\n",
       "      <td>hypotheticalMOF_3000533_i_1_j_25_k_24_m_11.cif</td>\n",
       "      <td>35</td>\n",
       "      <td>Test</td>\n",
       "      <td>109.352455</td>\n",
       "    </tr>\n",
       "    <tr>\n",
       "      <th>533418</th>\n",
       "      <td>533418</td>\n",
       "      <td>hypotheticalMOF_5005654_i_0_j_20_k_19_m_6.cif</td>\n",
       "      <td>35</td>\n",
       "      <td>Test</td>\n",
       "      <td>99.874802</td>\n",
       "    </tr>\n",
       "    <tr>\n",
       "      <th>533419</th>\n",
       "      <td>533419</td>\n",
       "      <td>hypotheticalMOF_5008598_i_0_j_21_k_19_m_9.cif</td>\n",
       "      <td>35</td>\n",
       "      <td>Test</td>\n",
       "      <td>108.617737</td>\n",
       "    </tr>\n",
       "    <tr>\n",
       "      <th>533420</th>\n",
       "      <td>533420</td>\n",
       "      <td>hypotheticalMOF_22257_i_1_j_12_k_0_m_4.cif</td>\n",
       "      <td>35</td>\n",
       "      <td>Test</td>\n",
       "      <td>111.838745</td>\n",
       "    </tr>\n",
       "    <tr>\n",
       "      <th>533421</th>\n",
       "      <td>533421</td>\n",
       "      <td>hypotheticalMOF_13777_i_0_j_16_k_16_m_6.cif</td>\n",
       "      <td>35</td>\n",
       "      <td>Test</td>\n",
       "      <td>179.466446</td>\n",
       "    </tr>\n",
       "    <tr>\n",
       "      <th>533422</th>\n",
       "      <td>533422</td>\n",
       "      <td>hypotheticalMOF_1002914_i_3_j_18_k_1_m_9.cif</td>\n",
       "      <td>35</td>\n",
       "      <td>Test</td>\n",
       "      <td>140.217514</td>\n",
       "    </tr>\n",
       "    <tr>\n",
       "      <th>533423</th>\n",
       "      <td>533423</td>\n",
       "      <td>hypotheticalMOF_5058663_i_1_j_29_k_29_m_2.cif</td>\n",
       "      <td>35</td>\n",
       "      <td>Test</td>\n",
       "      <td>112.264931</td>\n",
       "    </tr>\n",
       "    <tr>\n",
       "      <th>533424</th>\n",
       "      <td>533424</td>\n",
       "      <td>hypotheticalMOF_5065720_i_2_j_21_k_19_m_13.cif</td>\n",
       "      <td>35</td>\n",
       "      <td>Test</td>\n",
       "      <td>119.296272</td>\n",
       "    </tr>\n",
       "    <tr>\n",
       "      <th>533425</th>\n",
       "      <td>533425</td>\n",
       "      <td>hypotheticalMOF_5045656_i_1_j_24_k_19_m_13.cif</td>\n",
       "      <td>35</td>\n",
       "      <td>Test</td>\n",
       "      <td>144.792877</td>\n",
       "    </tr>\n",
       "    <tr>\n",
       "      <th>533426</th>\n",
       "      <td>533426</td>\n",
       "      <td>hypotheticalMOF_1004361_i_4_j_17_k_0_m_9.cif</td>\n",
       "      <td>35</td>\n",
       "      <td>Test</td>\n",
       "      <td>136.047562</td>\n",
       "    </tr>\n",
       "    <tr>\n",
       "      <th>533427</th>\n",
       "      <td>533427</td>\n",
       "      <td>hypotheticalMOF_5030334_i_0_j_29_k_1_m_1.cif</td>\n",
       "      <td>35</td>\n",
       "      <td>Test</td>\n",
       "      <td>109.485901</td>\n",
       "    </tr>\n",
       "    <tr>\n",
       "      <th>533428</th>\n",
       "      <td>533428</td>\n",
       "      <td>hypotheticalMOF_1004395_i_4_j_17_k_3_m_10.cif</td>\n",
       "      <td>35</td>\n",
       "      <td>Test</td>\n",
       "      <td>119.546417</td>\n",
       "    </tr>\n",
       "    <tr>\n",
       "      <th>533429</th>\n",
       "      <td>533429</td>\n",
       "      <td>hypotheticalMOF_5018479_i_0_j_25_k_18_m_9.cif</td>\n",
       "      <td>35</td>\n",
       "      <td>Test</td>\n",
       "      <td>126.322533</td>\n",
       "    </tr>\n",
       "  </tbody>\n",
       "</table>\n",
       "<p>533430 rows × 5 columns</p>\n",
       "</div>"
      ],
      "text/plain": [
       "        Unnamed: 0                                           Filename  \\\n",
       "0                0  hypotheticalMOF_5004666_i_0_j_20_k_12_m_1_cat_...   \n",
       "1                1  hypotheticalMOF_5034070_i_1_j_19_k_4_m_6_cat_1...   \n",
       "2                2    hypotheticalMOF_30888_i_2_j_9_k_6_m_0_cat_1.cif   \n",
       "3                3  hypotheticalMOF_5024913_i_0_j_27_k_17_m_7_cat_...   \n",
       "4                4  hypotheticalMOF_5069229_i_2_j_23_k_23_m_0_cat_...   \n",
       "5                5  hypotheticalMOF_15055_i_0_j_17_k_13_m_7_cat_1.cif   \n",
       "6                6     hypotheticalMOF_5364_i_0_j_9_k_7_m_7_cat_1.cif   \n",
       "7                7  hypotheticalMOF_5025231_i_0_j_27_k_19_m_14_cat...   \n",
       "8                8  hypotheticalMOF_5035953_i_1_j_20_k_2_m_3_cat_2...   \n",
       "9                9  hypotheticalMOF_5065435_i_2_j_21_k_17_m_10_cat...   \n",
       "10              10   hypotheticalMOF_9033_i_0_j_13_k_2_m_10_cat_1.cif   \n",
       "11              11  hypotheticalMOF_5005681_i_0_j_20_k_19_m_7_cat_...   \n",
       "12              12  hypotheticalMOF_5005128_i_0_j_20_k_15_m_4_cat_...   \n",
       "13              13  hypotheticalMOF_5028178_i_0_j_28_k_13_m_3_cat_...   \n",
       "14              14  hypotheticalMOF_5069045_i_2_j_23_k_20_m_9_cat_...   \n",
       "15              15  hypotheticalMOF_5018861_i_0_j_25_k_20_m_9_cat_...   \n",
       "16              16  hypotheticalMOF_24676_i_1_j_15_k_6_m_10_cat_1.cif   \n",
       "17              17  hypotheticalMOF_5034549_i_1_j_19_k_7_m_6_cat_1...   \n",
       "18              18  hypotheticalMOF_5031166_i_0_j_29_k_7_m_9_cat_1...   \n",
       "19              19  hypotheticalMOF_5042289_i_1_j_22_k_20_m_7_cat_...   \n",
       "20              20  hypotheticalMOF_5001133_i_0_j_19_k_7_m_2_cat_2...   \n",
       "21              21  hypotheticalMOF_5068701_i_2_j_23_k_17_m_1_cat_...   \n",
       "22              22  hypotheticalMOF_5020622_i_0_j_26_k_7_m_8_cat_1...   \n",
       "23              23  hypotheticalMOF_5039630_i_1_j_21_k_10_m_9_cat_...   \n",
       "24              24  hypotheticalMOF_5076499_i_2_j_27_k_7_m_1_cat_2...   \n",
       "25              25  hypotheticalMOF_5048267_i_1_j_25_k_20_m_14_cat...   \n",
       "26              26  hypotheticalMOF_3001490_i_2_j_25_k_23_m_6_cat_...   \n",
       "27              27  hypotheticalMOF_3001230_i_2_j_24_k_23_m_1_cat_...   \n",
       "28              28  hypotheticalMOF_5080949_i_2_j_28_k_27_m_14_cat...   \n",
       "29              29  hypotheticalMOF_5003004_i_0_j_20_k_2_m_3_cat_1...   \n",
       "...            ...                                                ...   \n",
       "533400      533400          hypotheticalMOF_27804_i_2_j_3_k_1_m_3.cif   \n",
       "533401      533401         hypotheticalMOF_19336_i_1_j_7_k_4_m_10.cif   \n",
       "533402      533402          hypotheticalMOF_20339_i_1_j_9_k_6_m_0.cif   \n",
       "533403      533403         hypotheticalMOF_33523_i_2_j_13_k_3_m_8.cif   \n",
       "533404      533404         hypotheticalMOF_35057_i_2_j_15_k_5_m_4.cif   \n",
       "533405      533405      hypotheticalMOF_5078870_i_2_j_28_k_4_m_13.cif   \n",
       "533406      533406     hypotheticalMOF_6004863_i_3_j_27_k_27_m_11.cif   \n",
       "533407      533407      hypotheticalMOF_1003107_i_3_j_18_k_13_m_2.cif   \n",
       "533408      533408         hypotheticalMOF_13167_i_0_j_16_k_7_m_1.cif   \n",
       "533409      533409            hypotheticalMOF_674_i_0_j_3_k_0_m_1.cif   \n",
       "533410      533410     hypotheticalMOF_2000125_i_1_j_20_k_19_m_12.cif   \n",
       "533411      533411         hypotheticalMOF_21696_i_1_j_11_k_4_m_9.cif   \n",
       "533412      533412       hypotheticalMOF_5036375_i_1_j_20_k_5_m_2.cif   \n",
       "533413      533413       hypotheticalMOF_13539_i_0_j_16_k_12_m_11.cif   \n",
       "533414      533414       hypotheticalMOF_13484_i_0_j_16_k_11_m_12.cif   \n",
       "533415      533415         hypotheticalMOF_21046_i_1_j_10_k_6_m_2.cif   \n",
       "533416      533416       hypotheticalMOF_7001927_i_4_j_27_k_2_m_3.cif   \n",
       "533417      533417     hypotheticalMOF_3000533_i_1_j_25_k_24_m_11.cif   \n",
       "533418      533418      hypotheticalMOF_5005654_i_0_j_20_k_19_m_6.cif   \n",
       "533419      533419      hypotheticalMOF_5008598_i_0_j_21_k_19_m_9.cif   \n",
       "533420      533420         hypotheticalMOF_22257_i_1_j_12_k_0_m_4.cif   \n",
       "533421      533421        hypotheticalMOF_13777_i_0_j_16_k_16_m_6.cif   \n",
       "533422      533422       hypotheticalMOF_1002914_i_3_j_18_k_1_m_9.cif   \n",
       "533423      533423      hypotheticalMOF_5058663_i_1_j_29_k_29_m_2.cif   \n",
       "533424      533424     hypotheticalMOF_5065720_i_2_j_21_k_19_m_13.cif   \n",
       "533425      533425     hypotheticalMOF_5045656_i_1_j_24_k_19_m_13.cif   \n",
       "533426      533426       hypotheticalMOF_1004361_i_4_j_17_k_0_m_9.cif   \n",
       "533427      533427       hypotheticalMOF_5030334_i_0_j_29_k_1_m_1.cif   \n",
       "533428      533428      hypotheticalMOF_1004395_i_4_j_17_k_3_m_10.cif   \n",
       "533429      533429      hypotheticalMOF_5018479_i_0_j_25_k_18_m_9.cif   \n",
       "\n",
       "        Pressure  Class  Prediction  \n",
       "0             35  Train   90.822083  \n",
       "1             35  Train   37.327415  \n",
       "2             35  Train  126.574303  \n",
       "3             35  Train  148.466125  \n",
       "4             35  Train   94.487976  \n",
       "5             35  Train  130.349182  \n",
       "6             35  Train  104.508224  \n",
       "7             35  Train   89.955048  \n",
       "8             35  Train   77.078125  \n",
       "9             35  Train   99.660049  \n",
       "10            35  Train  147.691208  \n",
       "11            35  Train   81.864510  \n",
       "12            35  Train  162.024353  \n",
       "13            35  Train  148.979355  \n",
       "14            35  Train   64.981476  \n",
       "15            35  Train   63.753971  \n",
       "16            35  Train  128.315353  \n",
       "17            35  Train  136.035583  \n",
       "18            35  Train  142.419128  \n",
       "19            35  Train   83.034332  \n",
       "20            35  Train   86.180466  \n",
       "21            35  Train  124.928490  \n",
       "22            35  Train  122.267929  \n",
       "23            35  Train   27.179749  \n",
       "24            35  Train  113.716766  \n",
       "25            35  Train  128.923981  \n",
       "26            35  Train  151.770691  \n",
       "27            35  Train   95.712532  \n",
       "28            35  Train  130.585876  \n",
       "29            35  Train  139.167679  \n",
       "...          ...    ...         ...  \n",
       "533400        35   Test  151.666367  \n",
       "533401        35   Test  130.412903  \n",
       "533402        35   Test  130.426880  \n",
       "533403        35   Test  104.133804  \n",
       "533404        35   Test  148.505157  \n",
       "533405        35   Test  155.229767  \n",
       "533406        35   Test  118.830650  \n",
       "533407        35   Test  111.994492  \n",
       "533408        35   Test  124.744377  \n",
       "533409        35   Test  128.190765  \n",
       "533410        35   Test  145.885712  \n",
       "533411        35   Test  145.399155  \n",
       "533412        35   Test  123.498077  \n",
       "533413        35   Test  132.548187  \n",
       "533414        35   Test  135.945709  \n",
       "533415        35   Test  143.776825  \n",
       "533416        35   Test  131.369263  \n",
       "533417        35   Test  109.352455  \n",
       "533418        35   Test   99.874802  \n",
       "533419        35   Test  108.617737  \n",
       "533420        35   Test  111.838745  \n",
       "533421        35   Test  179.466446  \n",
       "533422        35   Test  140.217514  \n",
       "533423        35   Test  112.264931  \n",
       "533424        35   Test  119.296272  \n",
       "533425        35   Test  144.792877  \n",
       "533426        35   Test  136.047562  \n",
       "533427        35   Test  109.485901  \n",
       "533428        35   Test  119.546417  \n",
       "533429        35   Test  126.322533  \n",
       "\n",
       "[533430 rows x 5 columns]"
      ]
     },
     "execution_count": 53,
     "metadata": {},
     "output_type": "execute_result"
    }
   ],
   "source": [
    "df"
   ]
  },
  {
   "cell_type": "code",
   "execution_count": 54,
   "metadata": {},
   "outputs": [],
   "source": [
    "from skopt import gp_minimize"
   ]
  }
 ],
 "metadata": {
  "kernelspec": {
   "display_name": "Python 3",
   "language": "python",
   "name": "python3"
  },
  "language_info": {
   "codemirror_mode": {
    "name": "ipython",
    "version": 3
   },
   "file_extension": ".py",
   "mimetype": "text/x-python",
   "name": "python",
   "nbconvert_exporter": "python",
   "pygments_lexer": "ipython3",
   "version": "3.7.3"
  }
 },
 "nbformat": 4,
 "nbformat_minor": 2
}
