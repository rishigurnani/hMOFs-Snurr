{
 "cells": [
  {
   "cell_type": "markdown",
   "metadata": {},
   "source": [
    "# Import"
   ]
  },
  {
   "cell_type": "code",
   "execution_count": 5,
   "metadata": {},
   "outputs": [],
   "source": [
    "import pandas as pd"
   ]
  },
  {
   "cell_type": "code",
   "execution_count": 6,
   "metadata": {},
   "outputs": [],
   "source": [
    "%matplotlib inline\n",
    "import matplotlib.pyplot as plt"
   ]
  },
  {
   "cell_type": "code",
   "execution_count": 7,
   "metadata": {},
   "outputs": [],
   "source": [
    "import numpy as np"
   ]
  },
  {
   "cell_type": "code",
   "execution_count": 8,
   "metadata": {},
   "outputs": [
    {
     "name": "stderr",
     "output_type": "stream",
     "text": [
      "/home/modules/anaconda3/lib/python3.7/site-packages/dask/config.py:168: YAMLLoadWarning: calling yaml.load() without Loader=... is deprecated, as the default Loader is unsafe. Please read https://msg.pyyaml.org/load for full details.\n",
      "  data = yaml.load(f.read()) or {}\n",
      "/home/modules/anaconda3/lib/python3.7/site-packages/distributed/config.py:20: YAMLLoadWarning: calling yaml.load() without Loader=... is deprecated, as the default Loader is unsafe. Please read https://msg.pyyaml.org/load for full details.\n",
      "  defaults = yaml.load(f)\n"
     ]
    },
    {
     "data": {
      "text/plain": [
       "<module 'efrc_ml_production' from '/home/rgur/py_scripts/efrc_ml_production.py'>"
      ]
     },
     "execution_count": 8,
     "metadata": {},
     "output_type": "execute_result"
    }
   ],
   "source": [
    "import importlib\n",
    "import efrc_ml_production as ml\n",
    "importlib.reload(ml)"
   ]
  },
  {
   "cell_type": "code",
   "execution_count": 9,
   "metadata": {},
   "outputs": [],
   "source": [
    "from sklearn.metrics import r2_score as r2"
   ]
  },
  {
   "cell_type": "code",
   "execution_count": 10,
   "metadata": {},
   "outputs": [],
   "source": [
    "from os import listdir\n",
    "from os.path import isfile, join"
   ]
  },
  {
   "cell_type": "markdown",
   "metadata": {},
   "source": [
    "# Define variables"
   ]
  },
  {
   "cell_type": "code",
   "execution_count": 11,
   "metadata": {},
   "outputs": [],
   "source": [
    "results_dir = '/data/rgur/efrc/ml/results/'"
   ]
  },
  {
   "cell_type": "code",
   "execution_count": 12,
   "metadata": {},
   "outputs": [],
   "source": [
    "stacked_path = '/data/rgur/efrc/prep_data/all_v1/stacked.csv'\n",
    "ml_d_path = '/data/rgur/efrc/prep_data/all_v1/ml_data.csv'"
   ]
  },
  {
   "cell_type": "code",
   "execution_count": 13,
   "metadata": {},
   "outputs": [],
   "source": [
    "Y_DATA_PATH = '/data/rgur/efrc/data_DONOTTOUCH/hMOF_allData_March25_2013.xlsx'"
   ]
  },
  {
   "cell_type": "code",
   "execution_count": 14,
   "metadata": {},
   "outputs": [
    {
     "name": "stderr",
     "output_type": "stream",
     "text": [
      "/home/modules/anaconda3/lib/python3.7/site-packages/IPython/core/interactiveshell.py:3049: DtypeWarning: Columns (5,6,7,8,9,10,11,12,13) have mixed types. Specify dtype option on import or set low_memory=False.\n",
      "  interactivity=interactivity, compiler=compiler, result=result)\n",
      "/home/modules/anaconda3/lib/python3.7/site-packages/IPython/core/interactiveshell.py:3049: DtypeWarning: Columns (4,5,6,7,8,9,10,11,12) have mixed types. Specify dtype option on import or set low_memory=False.\n",
      "  interactivity=interactivity, compiler=compiler, result=result)\n"
     ]
    }
   ],
   "source": [
    "stacked = pd.read_csv('/data/rgur/efrc/prep_data/all_v1/stacked.csv')\n",
    "ml_d = pd.read_csv('/data/rgur/efrc/prep_data/all_v1/ml_data.csv')"
   ]
  },
  {
   "cell_type": "code",
   "execution_count": 15,
   "metadata": {},
   "outputs": [],
   "source": [
    "ml_d = ml.merge_data(ml_d, False, Y_DATA_PATH)"
   ]
  },
  {
   "cell_type": "code",
   "execution_count": 16,
   "metadata": {},
   "outputs": [],
   "source": [
    "stacked_map = {}\n",
    "for i in stacked[['filename', 'pressure','vol_uptake']].iterrows():\n",
    "    val = i[1]\n",
    "    stacked_map[(val['filename'], val['pressure'])] = val['vol_uptake']"
   ]
  },
  {
   "cell_type": "code",
   "execution_count": 17,
   "metadata": {},
   "outputs": [],
   "source": [
    "grav_map = {}\n",
    "for i in ml_d[['filename', 'CH4_cm3/g_35_bar']].iterrows():\n",
    "    val = i[1]\n",
    "    grav_map[val['filename']] = val['CH4_cm3/g_35_bar']"
   ]
  },
  {
   "cell_type": "markdown",
   "metadata": {},
   "source": [
    "# Define functions"
   ]
  },
  {
   "cell_type": "code",
   "execution_count": 18,
   "metadata": {},
   "outputs": [],
   "source": [
    "def getMetrics(true, pred, metrics):\n",
    "    '''\n",
    "    Get metric values from a list if metric functions\n",
    "    '''\n",
    "    return [f(true, pred) for f in metrics]"
   ]
  },
  {
   "cell_type": "code",
   "execution_count": 19,
   "metadata": {},
   "outputs": [],
   "source": [
    "def checkIsoFile(filename):\n",
    "    '''\n",
    "    Determine whether or not filename should be included\n",
    "    '''\n",
    "    if filename[-4:] == '.csv':\n",
    "        if 'iso' in filename:\n",
    "            with open(filename, 'r') as handle:\n",
    "                row_count = sum(1 for row in handle) - 1\n",
    "            if row_count == 533430:\n",
    "                return True\n",
    "    return False"
   ]
  },
  {
   "cell_type": "code",
   "execution_count": 20,
   "metadata": {},
   "outputs": [],
   "source": [
    "def checkGravFile(filename):\n",
    "    '''\n",
    "    Determine whether or not filename should be included\n",
    "    '''\n",
    "    if filename[-4:] == '.csv':\n",
    "        if 'grav' in filename:\n",
    "            with open(filename, 'r') as handle:\n",
    "                row_count = sum(1 for row in handle) - 1\n",
    "            if row_count == 126369:\n",
    "                return True\n",
    "    return False"
   ]
  },
  {
   "cell_type": "code",
   "execution_count": 21,
   "metadata": {},
   "outputs": [],
   "source": [
    "def get_t_pct(filename):\n",
    "    return float(filename.split('train_')[1][:2])"
   ]
  },
  {
   "cell_type": "code",
   "execution_count": 22,
   "metadata": {},
   "outputs": [],
   "source": [
    "def get_Code(filename):\n",
    "    return filename.split('code_')[1][:4]"
   ]
  },
  {
   "cell_type": "code",
   "execution_count": 23,
   "metadata": {},
   "outputs": [],
   "source": [
    "def getSeed(filename):\n",
    "    return filename.split('seed_')[1][:1]"
   ]
  },
  {
   "cell_type": "code",
   "execution_count": 24,
   "metadata": {},
   "outputs": [],
   "source": [
    "def getAllFilenames(parent_dir):\n",
    "    return [parent_dir+f for f in listdir(parent_dir) if isfile(join(parent_dir, f))]"
   ]
  },
  {
   "cell_type": "code",
   "execution_count": 25,
   "metadata": {},
   "outputs": [],
   "source": [
    "def getTruthVals(train_keys, test_keys, my_map):\n",
    "    train_truth = [my_map[f] for f in train_keys]\n",
    "    test_truth = [my_map[f] for f in test_keys]\n",
    "    return train_truth, test_truth"
   ]
  },
  {
   "cell_type": "code",
   "execution_count": 26,
   "metadata": {},
   "outputs": [],
   "source": [
    "def getPredsAndKeys(df):\n",
    "    n_unique_pressures = len(df['Pressure'].unique())\n",
    "    train_df = df[df['Class'] == 'Train']\n",
    "    test_df = df[df['Class'] == 'Test']\n",
    "    train_preds = train_df['Prediction'].tolist()\n",
    "    test_preds = test_df['Prediction'].tolist()\n",
    "    if n_unique_pressures == 1:\n",
    "        train_keys = train_df['Filename'].tolist()\n",
    "        test_keys = test_df['Filename'].tolist()\n",
    "    else:\n",
    "        train_keys = [tuple(r) for r in train_df.to_numpy()]\n",
    "        test_keys = [tuple(r) for r in test_df.to_numpy()]\n",
    "    return train_preds, train_keys, test_preds, test_keys"
   ]
  },
  {
   "cell_type": "code",
   "execution_count": 27,
   "metadata": {},
   "outputs": [],
   "source": [
    "def get_time(f):\n",
    "    return '_'.join(f.split('.')[0].split('_')[-6:])"
   ]
  },
  {
   "cell_type": "code",
   "execution_count": 28,
   "metadata": {},
   "outputs": [],
   "source": [
    "def unflatten(l, n):\n",
    "    new = []\n",
    "    length = len(l)\n",
    "    prev = 0\n",
    "    split_inds = list(range(0, length+1, n))\n",
    "    prev = 0\n",
    "    for ind in split_inds[1:]:\n",
    "        new.append(l[prev:ind])\n",
    "        prev = ind\n",
    "    return new"
   ]
  },
  {
   "cell_type": "code",
   "execution_count": 29,
   "metadata": {},
   "outputs": [],
   "source": [
    "def getMetricsFromDf(f, fix_preds):\n",
    "    df = pd.read_csv(f)\n",
    "    if fix_preds:\n",
    "        fix_predictions(df)\n",
    "    train_preds, train_keys, test_preds, test_keys = getPredsAndKeys(df)\n",
    "    train_truth, test_truth = getTruthVals(train_keys, test_keys, grav_map)\n",
    "    train_vals = getMetrics(true=train_truth, pred=train_preds, metrics=[ml.get_rmse, r2])\n",
    "    test_vals = getMetrics(true=test_truth, pred=test_preds, metrics=[ml.get_rmse, r2])\n",
    "    return (train_vals, test_vals)"
   ]
  },
  {
   "cell_type": "code",
   "execution_count": 48,
   "metadata": {},
   "outputs": [],
   "source": [
    "def getResultsDf(good_codes=None, good_time=None, fix_preds=True, include_geo=False, stacked=False):\n",
    "    \n",
    "    seeds = []\n",
    "    run1_r2s = []\n",
    "    run1_rmses = []\n",
    "    run2_r2s = []\n",
    "    run2_rmses = []\n",
    "    run3_r2s = []\n",
    "    run3_rmses = []\n",
    "    train_pcts = []\n",
    "    codes = []\n",
    "    classes = []\n",
    "    all_files = getAllFilenames(results_dir)\n",
    "    #relevant_iso = [checkIsoFile(f) for f in all_files]\n",
    "    if stacked:\n",
    "        checkFile = checkIsoFile\n",
    "    else:\n",
    "        checkFile = checkGravFile\n",
    "    relevent = [f for f in all_files if checkFile(f)]\n",
    "    unique_codes = list(set([get_Code(f) for f in relevent]))\n",
    "    if include_geo:\n",
    "        good_codes = [code for code in unique_codes if code[-1] == '1']\n",
    "    else:\n",
    "        good_codes = [code for code in unique_codes if code[-1] == '0']\n",
    "    print(good_codes)\n",
    "    if good_codes != None:\n",
    "        relevent = [f for f in relevent if get_Code(f) in good_codes]\n",
    "    if good_time != None:\n",
    "        relevent = [f for f in relevent if get_time(f) in good_time]\n",
    "    relevent = sorted(relevent)\n",
    "    nested_relevent = unflatten(relevent, 3)\n",
    "    for l in nested_relevent:\n",
    "        f = l[0]\n",
    "        codes += [get_Code(f)]*2\n",
    "        classes.append(\"Train\")\n",
    "        classes.append(\"Test\")\n",
    "        #seeds += [getSeed(f)]*2\n",
    "        train_pcts += [get_t_pct(f)]*2\n",
    "        vals = [getMetricsFromDf(f, fix_preds) for f in l] #[seed 0, seed 1, seed 2], [train, test], [rmse, r2]\n",
    "        #print(vals)\n",
    "        run1_r2s.append(vals[0][0][1])\n",
    "        run1_r2s.append(vals[0][1][1])\n",
    "        \n",
    "        run1_rmses.append(vals[0][0][0])\n",
    "        run1_rmses.append(vals[0][1][0])\n",
    "        \n",
    "        run2_r2s.append(vals[1][0][1])\n",
    "        run2_r2s.append(vals[1][1][1])\n",
    "        \n",
    "        run2_rmses.append(vals[1][0][0])\n",
    "        run2_rmses.append(vals[1][1][0])\n",
    "        \n",
    "        run3_r2s.append(vals[2][0][1])\n",
    "        run3_r2s.append(vals[2][1][1])\n",
    "        \n",
    "        run3_rmses.append(vals[2][0][0])\n",
    "        run3_rmses.append(vals[2][1][0])\n",
    "\n",
    "    return pd.DataFrame({\"Run 1 R2\": run1_r2s, \"Run 1 RMSE\": run1_rmses, \"Run 2 R2\": run2_r2s, \n",
    "                         \"Run 2 RMSE\": run2_rmses, \"Run 3 R2\": run3_r2s, \"Run 3 RMSE\": run3_rmses, \n",
    "                         \"Training %\": train_pcts, \"Code\": codes, \"Class\": classes})"
   ]
  },
  {
   "cell_type": "code",
   "execution_count": 31,
   "metadata": {},
   "outputs": [],
   "source": [
    "def labelFromCode(code):\n",
    "    s = ''\n",
    "    if code[0] == '1':\n",
    "        s+='SI+'\n",
    "    if code[1] == '1':\n",
    "        s+='SD+'\n",
    "    if code[2] == '1':\n",
    "        s+='LS+'\n",
    "    if code[3] == '1':\n",
    "        s+='Geo+'\n",
    "    return s[:-1]"
   ]
  },
  {
   "cell_type": "code",
   "execution_count": 32,
   "metadata": {},
   "outputs": [],
   "source": [
    "def fix_predictions(df):\n",
    "    preds = df['Prediction'].tolist()\n",
    "    new = []\n",
    "    for i in preds:\n",
    "        if i<0:\n",
    "            new.append(0)\n",
    "        else:\n",
    "            new.append(i)\n",
    "    df['Prediction'] = new"
   ]
  },
  {
   "cell_type": "code",
   "execution_count": 53,
   "metadata": {},
   "outputs": [],
   "source": [
    "def plot_results(df, title='Learning Curve', good_codes=None, score_name='RMSE', ylim=None, axes=None):\n",
    "    colors = ['r', 'g', 'k', 'b', 'c', 'm', 'y', 'darkorange', 'slategray', 'tan', 'deeppink', 'greenyellow']\n",
    "    if axes is None:\n",
    "        _, axes = plt.subplots(1, 1, figsize=(8, 8))\n",
    "\n",
    "    axes.set_title(title)\n",
    "    if ylim is not None:\n",
    "        axes.set_ylim(*ylim)\n",
    "    axes.set_xlabel(\"Training examples\")\n",
    "    axes.set_ylabel(score_name)\n",
    "    if good_codes == None:\n",
    "        good_codes = df['Code'].unique().tolist()\n",
    "    \n",
    "    for ind, code in enumerate(good_codes):\n",
    "        LABEL = labelFromCode(code)\n",
    "        df_code = df[df['Code'] == code]\n",
    "        train_df = df_code[df_code['Class'] == 'Train']\n",
    "        test_df = df_code[df_code['Class'] == 'Test']\n",
    "        rmse_train_df = train_df[['Run 1 RMSE', 'Run 2 RMSE', 'Run 3 RMSE']]\n",
    "        rmse_test_df = test_df[['Run 1 RMSE', 'Run 2 RMSE', 'Run 3 RMSE']]\n",
    "        train_sizes = df['Training %'].unique()\n",
    "    \n",
    "        RMSE_train_scores_mean = np.mean(rmse_train_df, axis=1)\n",
    "        RMSE_train_scores_std = np.std(rmse_train_df, axis=1)\n",
    "        RMSE_test_scores_mean = np.mean(rmse_test_df, axis=1)\n",
    "        RMSE_test_scores_std = np.std(rmse_test_df, axis=1)\n",
    "        #fit_times_mean = np.mean(fit_times, axis=1)\n",
    "        #fit_times_std = np.std(fit_times, axis=1)\n",
    "\n",
    "        train_scores_mean = RMSE_train_scores_mean\n",
    "        train_scores_std = RMSE_train_scores_std\n",
    "        test_scores_mean = RMSE_test_scores_mean\n",
    "        test_scores_std = RMSE_test_scores_std\n",
    "        \n",
    "        # Plot learning curve\n",
    "        n_done = len(train_scores_mean) #in case not all runs are done yet\n",
    "        axes.grid()\n",
    "        axes.fill_between(train_sizes[0:n_done], train_scores_mean - train_scores_std,\n",
    "                             train_scores_mean + train_scores_std, alpha=0.1,\n",
    "                             color=colors[ind])\n",
    "        axes.fill_between(train_sizes[0:n_done], test_scores_mean - test_scores_std,\n",
    "                             test_scores_mean + test_scores_std, alpha=0.1,\n",
    "                             color=colors[ind])\n",
    "        axes.plot(train_sizes[0:n_done], train_scores_mean, 'o-', color=colors[ind],\n",
    "                     label=\"Training %s - %s\" %(score_name, LABEL) )\n",
    "        axes.plot(train_sizes[0:n_done], test_scores_mean, 'x-', color=colors[ind],\n",
    "                     label=\"Test %s - %s\" %(score_name, LABEL) )\n",
    "    axes.legend(loc=\"best\")\n",
    "\n",
    "    return plt"
   ]
  },
  {
   "cell_type": "markdown",
   "metadata": {},
   "source": [
    "# Scratch"
   ]
  },
  {
   "cell_type": "code",
   "execution_count": 11,
   "metadata": {},
   "outputs": [
    {
     "name": "stderr",
     "output_type": "stream",
     "text": [
      "/home/modules/anaconda3/lib/python3.7/site-packages/IPython/core/interactiveshell.py:3049: DtypeWarning: Columns (5,6,7,8,9,10,11,12,13) have mixed types. Specify dtype option on import or set low_memory=False.\n",
      "  interactivity=interactivity, compiler=compiler, result=result)\n"
     ]
    }
   ],
   "source": [
    "df = pd.read_csv('/data/rgur/efrc/prep_data/all_v1/stacked.csv')"
   ]
  },
  {
   "cell_type": "code",
   "execution_count": 19,
   "metadata": {},
   "outputs": [
    {
     "data": {
      "text/plain": [
       "'1100'"
      ]
     },
     "execution_count": 19,
     "metadata": {},
     "output_type": "execute_result"
    }
   ],
   "source": [
    "'results_grav_code_1100_train_70_seed_20_09_51AM_on_April_17_2020.csv'.split('code_')[1][:4]"
   ]
  },
  {
   "cell_type": "code",
   "execution_count": 40,
   "metadata": {},
   "outputs": [],
   "source": [
    "df = pd.read_csv('/data/rgur/efrc/ml/results/results_grav_code_1000_train_50_seed_20_09_51AM_on_April_17_2020.csv')"
   ]
  },
  {
   "cell_type": "code",
   "execution_count": 41,
   "metadata": {},
   "outputs": [
    {
     "data": {
      "text/html": [
       "<div>\n",
       "<style scoped>\n",
       "    .dataframe tbody tr th:only-of-type {\n",
       "        vertical-align: middle;\n",
       "    }\n",
       "\n",
       "    .dataframe tbody tr th {\n",
       "        vertical-align: top;\n",
       "    }\n",
       "\n",
       "    .dataframe thead th {\n",
       "        text-align: right;\n",
       "    }\n",
       "</style>\n",
       "<table border=\"1\" class=\"dataframe\">\n",
       "  <thead>\n",
       "    <tr style=\"text-align: right;\">\n",
       "      <th></th>\n",
       "      <th>Unnamed: 0</th>\n",
       "      <th>Filename</th>\n",
       "      <th>Pressure</th>\n",
       "      <th>Class</th>\n",
       "      <th>Prediction</th>\n",
       "    </tr>\n",
       "  </thead>\n",
       "  <tbody>\n",
       "    <tr>\n",
       "      <th>0</th>\n",
       "      <td>0</td>\n",
       "      <td>hypotheticalMOF_28999_i_2_j_6_k_2_m_1_cat_1.cif</td>\n",
       "      <td>35</td>\n",
       "      <td>Train</td>\n",
       "      <td>-7.725647</td>\n",
       "    </tr>\n",
       "    <tr>\n",
       "      <th>1</th>\n",
       "      <td>1</td>\n",
       "      <td>hypotheticalMOF_5069430_i_2_j_24_k_1_m_9.cif</td>\n",
       "      <td>35</td>\n",
       "      <td>Train</td>\n",
       "      <td>305.337952</td>\n",
       "    </tr>\n",
       "    <tr>\n",
       "      <th>2</th>\n",
       "      <td>2</td>\n",
       "      <td>hypotheticalMOF_6193_i_0_j_10_k_6_m_3_cat_1.cif</td>\n",
       "      <td>35</td>\n",
       "      <td>Train</td>\n",
       "      <td>92.068481</td>\n",
       "    </tr>\n",
       "    <tr>\n",
       "      <th>3</th>\n",
       "      <td>3</td>\n",
       "      <td>hypotheticalMOF_5073689_i_2_j_26_k_0_m_13.cif</td>\n",
       "      <td>35</td>\n",
       "      <td>Train</td>\n",
       "      <td>3.087921</td>\n",
       "    </tr>\n",
       "    <tr>\n",
       "      <th>4</th>\n",
       "      <td>4</td>\n",
       "      <td>hypotheticalMOF_5070072_i_2_j_24_k_10_m_9.cif</td>\n",
       "      <td>35</td>\n",
       "      <td>Train</td>\n",
       "      <td>256.223694</td>\n",
       "    </tr>\n",
       "  </tbody>\n",
       "</table>\n",
       "</div>"
      ],
      "text/plain": [
       "   Unnamed: 0                                         Filename  Pressure  \\\n",
       "0           0  hypotheticalMOF_28999_i_2_j_6_k_2_m_1_cat_1.cif        35   \n",
       "1           1     hypotheticalMOF_5069430_i_2_j_24_k_1_m_9.cif        35   \n",
       "2           2  hypotheticalMOF_6193_i_0_j_10_k_6_m_3_cat_1.cif        35   \n",
       "3           3    hypotheticalMOF_5073689_i_2_j_26_k_0_m_13.cif        35   \n",
       "4           4    hypotheticalMOF_5070072_i_2_j_24_k_10_m_9.cif        35   \n",
       "\n",
       "   Class  Prediction  \n",
       "0  Train   -7.725647  \n",
       "1  Train  305.337952  \n",
       "2  Train   92.068481  \n",
       "3  Train    3.087921  \n",
       "4  Train  256.223694  "
      ]
     },
     "execution_count": 41,
     "metadata": {},
     "output_type": "execute_result"
    }
   ],
   "source": [
    "df.head()"
   ]
  },
  {
   "cell_type": "code",
   "execution_count": 49,
   "metadata": {},
   "outputs": [
    {
     "data": {
      "text/html": [
       "<div>\n",
       "<style scoped>\n",
       "    .dataframe tbody tr th:only-of-type {\n",
       "        vertical-align: middle;\n",
       "    }\n",
       "\n",
       "    .dataframe tbody tr th {\n",
       "        vertical-align: top;\n",
       "    }\n",
       "\n",
       "    .dataframe thead th {\n",
       "        text-align: right;\n",
       "    }\n",
       "</style>\n",
       "<table border=\"1\" class=\"dataframe\">\n",
       "  <thead>\n",
       "    <tr style=\"text-align: right;\">\n",
       "      <th></th>\n",
       "      <th>Unnamed: 0</th>\n",
       "      <th>Filename</th>\n",
       "      <th>Pressure</th>\n",
       "      <th>Class</th>\n",
       "      <th>Prediction</th>\n",
       "    </tr>\n",
       "  </thead>\n",
       "  <tbody>\n",
       "    <tr>\n",
       "      <th>0</th>\n",
       "      <td>0</td>\n",
       "      <td>hypotheticalMOF_28999_i_2_j_6_k_2_m_1_cat_1.cif</td>\n",
       "      <td>35</td>\n",
       "      <td>Train</td>\n",
       "      <td>0.000000</td>\n",
       "    </tr>\n",
       "    <tr>\n",
       "      <th>1</th>\n",
       "      <td>1</td>\n",
       "      <td>hypotheticalMOF_5069430_i_2_j_24_k_1_m_9.cif</td>\n",
       "      <td>35</td>\n",
       "      <td>Train</td>\n",
       "      <td>305.337952</td>\n",
       "    </tr>\n",
       "    <tr>\n",
       "      <th>2</th>\n",
       "      <td>2</td>\n",
       "      <td>hypotheticalMOF_6193_i_0_j_10_k_6_m_3_cat_1.cif</td>\n",
       "      <td>35</td>\n",
       "      <td>Train</td>\n",
       "      <td>92.068481</td>\n",
       "    </tr>\n",
       "    <tr>\n",
       "      <th>3</th>\n",
       "      <td>3</td>\n",
       "      <td>hypotheticalMOF_5073689_i_2_j_26_k_0_m_13.cif</td>\n",
       "      <td>35</td>\n",
       "      <td>Train</td>\n",
       "      <td>3.087921</td>\n",
       "    </tr>\n",
       "    <tr>\n",
       "      <th>4</th>\n",
       "      <td>4</td>\n",
       "      <td>hypotheticalMOF_5070072_i_2_j_24_k_10_m_9.cif</td>\n",
       "      <td>35</td>\n",
       "      <td>Train</td>\n",
       "      <td>256.223694</td>\n",
       "    </tr>\n",
       "  </tbody>\n",
       "</table>\n",
       "</div>"
      ],
      "text/plain": [
       "   Unnamed: 0                                         Filename  Pressure  \\\n",
       "0           0  hypotheticalMOF_28999_i_2_j_6_k_2_m_1_cat_1.cif        35   \n",
       "1           1     hypotheticalMOF_5069430_i_2_j_24_k_1_m_9.cif        35   \n",
       "2           2  hypotheticalMOF_6193_i_0_j_10_k_6_m_3_cat_1.cif        35   \n",
       "3           3    hypotheticalMOF_5073689_i_2_j_26_k_0_m_13.cif        35   \n",
       "4           4    hypotheticalMOF_5070072_i_2_j_24_k_10_m_9.cif        35   \n",
       "\n",
       "   Class  Prediction  \n",
       "0  Train    0.000000  \n",
       "1  Train  305.337952  \n",
       "2  Train   92.068481  \n",
       "3  Train    3.087921  \n",
       "4  Train  256.223694  "
      ]
     },
     "execution_count": 49,
     "metadata": {},
     "output_type": "execute_result"
    }
   ],
   "source": [
    "fix_predictions(df)\n",
    "df.head()"
   ]
  },
  {
   "cell_type": "code",
   "execution_count": 25,
   "metadata": {},
   "outputs": [
    {
     "data": {
      "text/plain": [
       "1"
      ]
     },
     "execution_count": 25,
     "metadata": {},
     "output_type": "execute_result"
    }
   ],
   "source": [
    "len(results_df['Pressure'].unique())"
   ]
  },
  {
   "cell_type": "markdown",
   "metadata": {},
   "source": [
    "# Test functions"
   ]
  },
  {
   "cell_type": "code",
   "execution_count": 10,
   "metadata": {},
   "outputs": [
    {
     "data": {
      "text/plain": [
       "[0.0, 1.0]"
      ]
     },
     "execution_count": 10,
     "metadata": {},
     "output_type": "execute_result"
    }
   ],
   "source": [
    "getMetrics([1,0,0], [1,0,0], [ml.get_rmse, r2]) "
   ]
  },
  {
   "cell_type": "code",
   "execution_count": null,
   "metadata": {},
   "outputs": [],
   "source": []
  },
  {
   "cell_type": "code",
   "execution_count": null,
   "metadata": {},
   "outputs": [],
   "source": []
  },
  {
   "cell_type": "code",
   "execution_count": 77,
   "metadata": {},
   "outputs": [],
   "source": [
    "a = '/data/rgur/efrc/ml/results/results_grav_code_1110_train_60_seed_0_12_34PM_on_April_17_2020.csv'"
   ]
  },
  {
   "cell_type": "code",
   "execution_count": 53,
   "metadata": {},
   "outputs": [
    {
     "data": {
      "text/plain": [
       "False"
      ]
     },
     "execution_count": 53,
     "metadata": {},
     "output_type": "execute_result"
    }
   ],
   "source": [
    "checkGravFile(a)"
   ]
  },
  {
   "cell_type": "code",
   "execution_count": null,
   "metadata": {},
   "outputs": [],
   "source": []
  },
  {
   "cell_type": "code",
   "execution_count": null,
   "metadata": {},
   "outputs": [],
   "source": []
  },
  {
   "cell_type": "code",
   "execution_count": 53,
   "metadata": {},
   "outputs": [
    {
     "data": {
      "text/plain": [
       "[[0, 1, 2], [3, 4, 6], [7, 8, 9]]"
      ]
     },
     "execution_count": 53,
     "metadata": {},
     "output_type": "execute_result"
    }
   ],
   "source": [
    "unflatten([0,1,2,3,4,6,7,8,9], 3)"
   ]
  },
  {
   "cell_type": "code",
   "execution_count": null,
   "metadata": {},
   "outputs": [],
   "source": []
  },
  {
   "cell_type": "code",
   "execution_count": 3,
   "metadata": {},
   "outputs": [],
   "source": [
    "#GOOD_CODES = ['1010', '1000']\n",
    "GOOD_TIME = ['08_37PM_on_April_18_2020']"
   ]
  },
  {
   "cell_type": "code",
   "execution_count": 55,
   "metadata": {},
   "outputs": [
    {
     "name": "stdout",
     "output_type": "stream",
     "text": [
      "[]\n"
     ]
    }
   ],
   "source": [
    "results_df = getResultsDf(good_codes=None, good_time=GOOD_TIME, fix_preds=True, include_geo=True, stacked=True)"
   ]
  },
  {
   "cell_type": "code",
   "execution_count": 50,
   "metadata": {},
   "outputs": [
    {
     "data": {
      "text/html": [
       "<div>\n",
       "<style scoped>\n",
       "    .dataframe tbody tr th:only-of-type {\n",
       "        vertical-align: middle;\n",
       "    }\n",
       "\n",
       "    .dataframe tbody tr th {\n",
       "        vertical-align: top;\n",
       "    }\n",
       "\n",
       "    .dataframe thead th {\n",
       "        text-align: right;\n",
       "    }\n",
       "</style>\n",
       "<table border=\"1\" class=\"dataframe\">\n",
       "  <thead>\n",
       "    <tr style=\"text-align: right;\">\n",
       "      <th></th>\n",
       "      <th>Run 1 R2</th>\n",
       "      <th>Run 1 RMSE</th>\n",
       "      <th>Run 2 R2</th>\n",
       "      <th>Run 2 RMSE</th>\n",
       "      <th>Run 3 R2</th>\n",
       "      <th>Run 3 RMSE</th>\n",
       "      <th>Training %</th>\n",
       "      <th>Code</th>\n",
       "      <th>Class</th>\n",
       "    </tr>\n",
       "  </thead>\n",
       "  <tbody>\n",
       "    <tr>\n",
       "      <th>0</th>\n",
       "      <td>0.999206</td>\n",
       "      <td>2.956456</td>\n",
       "      <td>0.999257</td>\n",
       "      <td>2.854170</td>\n",
       "      <td>0.999319</td>\n",
       "      <td>2.736541</td>\n",
       "      <td>50.0</td>\n",
       "      <td>1001</td>\n",
       "      <td>Train</td>\n",
       "    </tr>\n",
       "    <tr>\n",
       "      <th>1</th>\n",
       "      <td>0.990838</td>\n",
       "      <td>10.016761</td>\n",
       "      <td>0.990710</td>\n",
       "      <td>10.105099</td>\n",
       "      <td>0.990493</td>\n",
       "      <td>10.210687</td>\n",
       "      <td>50.0</td>\n",
       "      <td>1001</td>\n",
       "      <td>Test</td>\n",
       "    </tr>\n",
       "    <tr>\n",
       "      <th>2</th>\n",
       "      <td>0.999227</td>\n",
       "      <td>2.931591</td>\n",
       "      <td>0.999276</td>\n",
       "      <td>2.835498</td>\n",
       "      <td>0.999441</td>\n",
       "      <td>2.496915</td>\n",
       "      <td>60.0</td>\n",
       "      <td>1001</td>\n",
       "      <td>Train</td>\n",
       "    </tr>\n",
       "    <tr>\n",
       "      <th>3</th>\n",
       "      <td>0.991569</td>\n",
       "      <td>9.508137</td>\n",
       "      <td>0.991481</td>\n",
       "      <td>9.564714</td>\n",
       "      <td>0.990854</td>\n",
       "      <td>9.882140</td>\n",
       "      <td>60.0</td>\n",
       "      <td>1001</td>\n",
       "      <td>Test</td>\n",
       "    </tr>\n",
       "    <tr>\n",
       "      <th>4</th>\n",
       "      <td>0.999394</td>\n",
       "      <td>2.588375</td>\n",
       "      <td>0.999298</td>\n",
       "      <td>2.791824</td>\n",
       "      <td>0.999319</td>\n",
       "      <td>2.737227</td>\n",
       "      <td>70.0</td>\n",
       "      <td>1001</td>\n",
       "      <td>Train</td>\n",
       "    </tr>\n",
       "  </tbody>\n",
       "</table>\n",
       "</div>"
      ],
      "text/plain": [
       "   Run 1 R2  Run 1 RMSE  Run 2 R2  Run 2 RMSE  Run 3 R2  Run 3 RMSE  \\\n",
       "0  0.999206    2.956456  0.999257    2.854170  0.999319    2.736541   \n",
       "1  0.990838   10.016761  0.990710   10.105099  0.990493   10.210687   \n",
       "2  0.999227    2.931591  0.999276    2.835498  0.999441    2.496915   \n",
       "3  0.991569    9.508137  0.991481    9.564714  0.990854    9.882140   \n",
       "4  0.999394    2.588375  0.999298    2.791824  0.999319    2.737227   \n",
       "\n",
       "   Training %  Code  Class  \n",
       "0        50.0  1001  Train  \n",
       "1        50.0  1001   Test  \n",
       "2        60.0  1001  Train  \n",
       "3        60.0  1001   Test  \n",
       "4        70.0  1001  Train  "
      ]
     },
     "execution_count": 50,
     "metadata": {},
     "output_type": "execute_result"
    }
   ],
   "source": [
    "results_df.head()"
   ]
  },
  {
   "cell_type": "code",
   "execution_count": 51,
   "metadata": {},
   "outputs": [],
   "source": [
    "%matplotlib inline"
   ]
  },
  {
   "cell_type": "code",
   "execution_count": 52,
   "metadata": {
    "scrolled": true
   },
   "outputs": [
    {
     "name": "stdout",
     "output_type": "stream",
     "text": [
      "4\n"
     ]
    },
    {
     "data": {
      "text/plain": [
       "<module 'matplotlib.pyplot' from '/home/modules/anaconda3/lib/python3.7/site-packages/matplotlib/pyplot.py'>"
      ]
     },
     "execution_count": 52,
     "metadata": {},
     "output_type": "execute_result"
    },
    {
     "data": {
      "image/png": "[encoded data removed]",
      "text/plain": [
       "<Figure size 576x576 with 1 Axes>"
      ]
     },
     "metadata": {
      "needs_background": "light"
     },
     "output_type": "display_data"
    }
   ],
   "source": [
    "plot_results(results_df)"
   ]
  },
  {
   "cell_type": "code",
   "execution_count": 7,
   "metadata": {},
   "outputs": [
    {
     "data": {
      "text/plain": [
       "'SI+SD+LS+Geo'"
      ]
     },
     "execution_count": 7,
     "metadata": {},
     "output_type": "execute_result"
    }
   ],
   "source": [
    "labelFromCode('1111')"
   ]
  },
  {
   "cell_type": "code",
   "execution_count": null,
   "metadata": {},
   "outputs": [],
   "source": []
  }
 ],
 "metadata": {
  "kernelspec": {
   "display_name": "Python 3",
   "language": "python",
   "name": "python3"
  },
  "language_info": {
   "codemirror_mode": {
    "name": "ipython",
    "version": 3
   },
   "file_extension": ".py",
   "mimetype": "text/x-python",
   "name": "python",
   "nbconvert_exporter": "python",
   "pygments_lexer": "ipython3",
   "version": "3.7.3"
  }
 },
 "nbformat": 4,
 "nbformat_minor": 2
}
