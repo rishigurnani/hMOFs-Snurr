{
 "cells": [
  {
   "cell_type": "markdown",
   "metadata": {},
   "source": [
    "# Import"
   ]
  },
  {
   "cell_type": "code",
   "execution_count": 1,
   "metadata": {},
   "outputs": [],
   "source": [
    "import shap"
   ]
  },
  {
   "cell_type": "code",
   "execution_count": 2,
   "metadata": {},
   "outputs": [
    {
     "name": "stderr",
     "output_type": "stream",
     "text": [
      "calling yaml.load() without Loader=... is deprecated, as the default Loader is unsafe. Please read https://msg.pyyaml.org/load for full details.\n",
      "calling yaml.load() without Loader=... is deprecated, as the default Loader is unsafe. Please read https://msg.pyyaml.org/load for full details.\n"
     ]
    }
   ],
   "source": [
    "import xgboost as xgb"
   ]
  },
  {
   "cell_type": "code",
   "execution_count": 76,
   "metadata": {},
   "outputs": [
    {
     "data": {
      "text/plain": [
       "<module 'efrc_ml_production' from '/home/rgur/py_scripts/efrc_ml_production.py'>"
      ]
     },
     "execution_count": 76,
     "metadata": {},
     "output_type": "execute_result"
    }
   ],
   "source": [
    "import importlib\n",
    "import efrc_ml_production as ml\n",
    "importlib.reload(ml)"
   ]
  },
  {
   "cell_type": "code",
   "execution_count": 77,
   "metadata": {},
   "outputs": [
    {
     "data": {
      "text/plain": [
       "<module 'rishi_utils' from '/home/rgur/py_scripts/rishi_utils.py'>"
      ]
     },
     "execution_count": 77,
     "metadata": {},
     "output_type": "execute_result"
    }
   ],
   "source": [
    "import rishi_utils as ru\n",
    "importlib.reload(ru)"
   ]
  },
  {
   "cell_type": "code",
   "execution_count": 5,
   "metadata": {},
   "outputs": [],
   "source": [
    "import pandas as pd"
   ]
  },
  {
   "cell_type": "code",
   "execution_count": 6,
   "metadata": {},
   "outputs": [],
   "source": [
    "import time"
   ]
  },
  {
   "cell_type": "code",
   "execution_count": 7,
   "metadata": {},
   "outputs": [],
   "source": [
    "import tensorflow as tf"
   ]
  },
  {
   "cell_type": "code",
   "execution_count": 8,
   "metadata": {},
   "outputs": [],
   "source": [
    "import pickle"
   ]
  },
  {
   "cell_type": "markdown",
   "metadata": {},
   "source": [
    "# Write functions"
   ]
  },
  {
   "cell_type": "code",
   "execution_count": 6,
   "metadata": {},
   "outputs": [],
   "source": [
    "def load_model(model_path):\n",
    "    reg = xgb.XGBRegressor()\n",
    "    booster = xgb.Booster()\n",
    "    booster.load_model(model_path)\n",
    "    reg._Booster = booster\n",
    "    return reg"
   ]
  },
  {
   "cell_type": "code",
   "execution_count": 73,
   "metadata": {},
   "outputs": [],
   "source": [
    "def shap_mat(model, data, model_type):\n",
    "    start = time.time()\n",
    "    if model_type == 'xgb':\n",
    "        explainer = shap.TreeExplainer(model)\n",
    "    elif model_type == 'nn':\n",
    "        explainer = shap.GradientExplainer(model,data)\n",
    "    shap_values = explainer.shap_values(data)\n",
    "    end = time.time()\n",
    "    print(\"Time elapsed to create shap values: %s\" %(end-start))\n",
    "    return shap_values"
   ]
  },
  {
   "cell_type": "code",
   "execution_count": 8,
   "metadata": {},
   "outputs": [],
   "source": [
    "def get_features(params_path):\n",
    "    f = open(params_path, 'r')\n",
    "    start = False\n",
    "    for line in f:\n",
    "        #lines.append(line.strip())\n",
    "        strp = line.strip()\n",
    "        if start:\n",
    "            try:\n",
    "                exec(strp)\n",
    "            except:\n",
    "                pass        \n",
    "        elif 'algo' in strp:\n",
    "            start = True\n",
    "            try:\n",
    "                exec(strp)\n",
    "            except:\n",
    "                pass    \n",
    "    \n",
    "    RETURN_FEATURES = True\n",
    "    return ml.prepToSplit(cat_si_sd, SD_ML_DATA_PATH, SI_ML_DATA_PATH, start_str_sd, end_str_sd, start_str_si, end_str_si, total_frac, \n",
    "                                        del_defective_mofs, add_size_fp, size_dependent, stacked, n_core, \n",
    "                                        del_geometric_fp, cat_col_names, Y_DATA_PATH, return_features=RETURN_FEATURES)"
   ]
  },
  {
   "cell_type": "code",
   "execution_count": 49,
   "metadata": {},
   "outputs": [],
   "source": [
    "def change_names(s):\n",
    "    d = {'norm_Void_Fraction':'Void Fraction',\n",
    "    'norm_Surf._Area_(m2/g)':'Surface Area',\n",
    "    'norm_Density':'Density',\n",
    "     'Mefp_norm_mol_wt_si':'Norm_mol_wt',\n",
    "     'Mmfp_MQNs26_si':'Norm_MQNs26',\n",
    "     'norm_Mmfp_Chi1n': 'Chi1n',\n",
    "     'norm_Vol._Surf._Area': 'Volumetric Surface Area',\n",
    "     'oh_1': 'Cat_1',\n",
    "     'norm_Max._Pore_(ang.)': 'Max Pore Diameter',\n",
    "     'norm_Dom._Pore_(ang.)': 'Dominant Pore Diameter',\n",
    "     'norm_atomic_rad_pa_(angstroms)': 'Atomic_rad'\n",
    "    }\n",
    "    try:\n",
    "        return d[s]\n",
    "    except:\n",
    "        if s[:5] == 'norm_':\n",
    "            s = s[5:]\n",
    "        if s[-3:] == '_si':\n",
    "            s = 'norm_' + s[:-3]\n",
    "        if 'Mefp_' in s:\n",
    "            s = s.replace('Mefp_', '')\n",
    "        if 'Mmfp_' in s:\n",
    "            s = s.replace('Mmfp_', '')\n",
    "        if 'Mafp_' in s:\n",
    "            s = s.replace('Mafp_', '')\n",
    "#         if (s[:5] == 'Mefp_' or s[:5] == 'Mmfp_' or s[:5] == 'Mafp_'):\n",
    "#             s = s[5:]\n",
    "        if s[-3:] == '_pa':\n",
    "            s = s[:-3]\n",
    "        s=s.capitalize()\n",
    "        return s\n",
    "        "
   ]
  },
  {
   "cell_type": "markdown",
   "metadata": {},
   "source": [
    "# Scratch"
   ]
  },
  {
   "cell_type": "markdown",
   "metadata": {},
   "source": [
    "# SHAP Plots for optimized geometric isotherm model"
   ]
  },
  {
   "cell_type": "code",
   "execution_count": 2,
   "metadata": {},
   "outputs": [],
   "source": [
    "PATH_TO_MODEL = '/data/rgur/efrc/paper_data/isotherm_models/geo/iso_code_1011_fold_6_10_47AM_on_May_08_2020.h5'"
   ]
  },
  {
   "cell_type": "code",
   "execution_count": 3,
   "metadata": {},
   "outputs": [],
   "source": [
    "model = tf.keras.models.load_model(PATH_TO_MODEL)"
   ]
  },
  {
   "cell_type": "code",
   "execution_count": 31,
   "metadata": {},
   "outputs": [
    {
     "name": "stdout",
     "output_type": "stream",
     "text": [
      "\n",
      "Starting to Construct Isotherm Stacked Data Frame\n",
      "Using start_str_sd Density\n",
      "Using end_str_sd norm_Dom._Pore_(ang.)\n",
      "Using start_str_si filename\n",
      "Using end_str_si valence_pa\n",
      "Total frac equals 1\n"
     ]
    },
    {
     "name": "stderr",
     "output_type": "stream",
     "text": [
      "Columns (5,6,7,8,9,10,11,12,13) have mixed types. Specify dtype option on import or set low_memory=False.\n"
     ]
    },
    {
     "name": "stdout",
     "output_type": "stream",
     "text": [
      "\n",
      "\n",
      "Starting To Make Linker Size Columns\n",
      "Finished Making Linker Size Columns\n",
      "The following columns have been dropped: []\n"
     ]
    }
   ],
   "source": [
    "RETURN_FEATURES = False\n",
    "SD_ML_DATA_PATH = '/data/rgur/efrc/prep_data/all_no_norm/ml_data.csv'\n",
    "SI_ML_DATA_PATH = '/data/rgur/efrc/prep_data/all_v1/stacked.csv'\n",
    "start_str_sd = 'CH4_v/v_248_bar'\n",
    "end_str_sd = 'norm_Dom._Pore_(ang.)'\n",
    "start_str_si = 'filename'\n",
    "end_str_si = 'valence_pa'\n",
    "total_frac = 1\n",
    "del_defective_mofs = False\n",
    "cat_si_sd = False\n",
    "add_size_fp = True #make True if you want to add 20 feature columns, where each feature is the number of atoms in a linker\n",
    "srt_size_fp = True\n",
    "iso_start_str_sd = 'Density'\n",
    "iso_end_str_sd = 'norm_Dom._Pore_(ang.)'\n",
    "grav_start_str_sd = 'CH4_v/v_248_bar'\n",
    "grav_end_str_sd = 'norm_Dom._Pore_(ang.)'\n",
    "start_str_si = 'filename'\n",
    "end_str_si = 'valence_pa'\n",
    "cat_col_names = ['cat_1', 'cat_2', 'cat_3', 'cat_4']\n",
    "ml_data, _, _, _, features, _ =   ml.prepToSplit('nn', cat_si_sd, SD_ML_DATA_PATH, SI_ML_DATA_PATH, \n",
    "                                                iso_start_str_sd, iso_end_str_sd, start_str_si, \n",
    "                                                end_str_si, 1,del_defective_mofs, add_size_fp, \n",
    "                                                srt_size_fp, None, True, 10, False, cat_col_names, \n",
    "                                                '', '', return_features=RETURN_FEATURES) "
   ]
  },
  {
   "cell_type": "code",
   "execution_count": 33,
   "metadata": {},
   "outputs": [
    {
     "data": {
      "text/plain": [
       "533430"
      ]
     },
     "execution_count": 33,
     "metadata": {},
     "output_type": "execute_result"
    }
   ],
   "source": [
    "len(ml_data)"
   ]
  },
  {
   "cell_type": "code",
   "execution_count": 51,
   "metadata": {},
   "outputs": [],
   "source": [
    "ml_data[['filename']+features].to_csv('/data/rgur/efrc/paper_data/isotherm_models/geo/master_feature_df.csv', compression='gzip')"
   ]
  },
  {
   "cell_type": "code",
   "execution_count": 34,
   "metadata": {},
   "outputs": [
    {
     "data": {
      "text/plain": [
       "440"
      ]
     },
     "execution_count": 34,
     "metadata": {},
     "output_type": "execute_result"
    }
   ],
   "source": [
    "len(features)"
   ]
  },
  {
   "cell_type": "code",
   "execution_count": 19,
   "metadata": {},
   "outputs": [],
   "source": [
    "features = [i for i in features if i not in ['norm_Mafp_N2_O2_N3', 'norm_Mmfp_MQNs25', 'norm_Mmfp_MQNs24', 'norm_Mafp_C1_N2_N3', 'norm_Mmfp_MQNs22', 'norm_Mmfp_MQNs23']]"
   ]
  },
  {
   "cell_type": "code",
   "execution_count": 20,
   "metadata": {},
   "outputs": [
    {
     "data": {
      "text/plain": [
       "440"
      ]
     },
     "execution_count": 20,
     "metadata": {},
     "output_type": "execute_result"
    }
   ],
   "source": [
    "len(features)"
   ]
  },
  {
   "cell_type": "code",
   "execution_count": 26,
   "metadata": {},
   "outputs": [],
   "source": [
    "results = ru.pd_load('/data/rgur/efrc/paper_data/isotherm_models/geo/results_iso_code_1011_fold_6_10_47AM_on_May_08_2020.csv')"
   ]
  },
  {
   "cell_type": "code",
   "execution_count": 27,
   "metadata": {},
   "outputs": [],
   "source": [
    "train_fn = results[results['Class']=='Train']['Filename'].unique()"
   ]
  },
  {
   "cell_type": "code",
   "execution_count": 36,
   "metadata": {},
   "outputs": [
    {
     "data": {
      "text/plain": [
       "117958"
      ]
     },
     "execution_count": 36,
     "metadata": {},
     "output_type": "execute_result"
    }
   ],
   "source": [
    "len(train_fn)"
   ]
  },
  {
   "cell_type": "code",
   "execution_count": 37,
   "metadata": {},
   "outputs": [],
   "source": [
    "train_fp = ml_data[ml_data['filename'].isin(train_fn)].reset_index().drop('index', axis=1)[features]"
   ]
  },
  {
   "cell_type": "code",
   "execution_count": 80,
   "metadata": {},
   "outputs": [],
   "source": [
    "new_features = [f for f in ml_data.keys() if f in features]"
   ]
  },
  {
   "cell_type": "code",
   "execution_count": 85,
   "metadata": {
    "scrolled": true
   },
   "outputs": [
    {
     "data": {
      "text/html": [
       "['norm_Max._Pore_(ang.)', 'norm_Void_Fraction', 'norm_Surf._Area_(m2/g)', 'norm_Vol._Surf._Area', 'norm_Density', 'norm_valence_pa', 'norm_atomic_rad_pa_(angstroms)', 'norm_affinity_pa_(eV)', 'norm_ionization_potential_pa_(eV)', 'norm_electronegativity_pa', 'size_0', 'size_1', 'size_2', 'size_3', 'size_4', 'size_5', 'size_6', 'size_7', 'size_8', 'size_9', 'size_10', 'size_11', 'size_12', 'size_13', 'size_14', 'size_15', 'size_16', 'size_17', 'size_18', 'size_19']"
      ],
      "text/plain": [
       "['norm_Max._Pore_(ang.)',\n",
       " 'norm_Void_Fraction',\n",
       " 'norm_Surf._Area_(m2/g)',\n",
       " 'norm_Vol._Surf._Area',\n",
       " 'norm_Density',\n",
       " 'norm_valence_pa',\n",
       " 'norm_atomic_rad_pa_(angstroms)',\n",
       " 'norm_affinity_pa_(eV)',\n",
       " 'norm_ionization_potential_pa_(eV)',\n",
       " 'norm_electronegativity_pa',\n",
       " 'size_0',\n",
       " 'size_1',\n",
       " 'size_2',\n",
       " 'size_3',\n",
       " 'size_4',\n",
       " 'size_5',\n",
       " 'size_6',\n",
       " 'size_7',\n",
       " 'size_8',\n",
       " 'size_9',\n",
       " 'size_10',\n",
       " 'size_11',\n",
       " 'size_12',\n",
       " 'size_13',\n",
       " 'size_14',\n",
       " 'size_15',\n",
       " 'size_16',\n",
       " 'size_17',\n",
       " 'size_18',\n",
       " 'size_19']"
      ]
     },
     "execution_count": 85,
     "metadata": {},
     "output_type": "execute_result"
    }
   ],
   "source": [
    "new_features[-35:-5]"
   ]
  },
  {
   "cell_type": "code",
   "execution_count": 74,
   "metadata": {},
   "outputs": [
    {
     "name": "stdout",
     "output_type": "stream",
     "text": [
      "Time elapsed to create shap values: 4.716682434082031\n"
     ]
    }
   ],
   "source": [
    "shap_vals = shap_mat(model, train_fp.sample(frac=.001, random_state=12).to_numpy(), 'nn')"
   ]
  },
  {
   "cell_type": "code",
   "execution_count": 56,
   "metadata": {},
   "outputs": [
    {
     "data": {
      "text/plain": [
       "(5000, 440)"
      ]
     },
     "execution_count": 56,
     "metadata": {},
     "output_type": "execute_result"
    }
   ],
   "source": [
    "shap_vals[0].shape"
   ]
  },
  {
   "cell_type": "code",
   "execution_count": 43,
   "metadata": {},
   "outputs": [],
   "source": [
    "#save shap_vals\n",
    "with open('/data/rgur/efrc/paper_data/isotherm_models/geo/shap/fold_6_shap_values.pkl', 'wb') as f:\n",
    "    pickle.dump(shap_vals, f)"
   ]
  },
  {
   "cell_type": "markdown",
   "metadata": {},
   "source": [
    "Analyze"
   ]
  },
  {
   "cell_type": "code",
   "execution_count": 78,
   "metadata": {},
   "outputs": [
    {
     "ename": "NameError",
     "evalue": "name 'change_names' is not defined",
     "output_type": "error",
     "traceback": [
      "\u001b[0;31m---------------------------------------------------------------------------\u001b[0m",
      "\u001b[0;31mNameError\u001b[0m                                 Traceback (most recent call last)",
      "\u001b[0;32m<ipython-input-78-0bdc9ebe9e27>\u001b[0m in \u001b[0;36m<module>\u001b[0;34m\u001b[0m\n\u001b[0;32m----> 1\u001b[0;31m \u001b[0madj_names\u001b[0m \u001b[0;34m=\u001b[0m \u001b[0;34m[\u001b[0m\u001b[0mchange_names\u001b[0m\u001b[0;34m(\u001b[0m\u001b[0ms\u001b[0m\u001b[0;34m)\u001b[0m \u001b[0;32mfor\u001b[0m \u001b[0ms\u001b[0m \u001b[0;32min\u001b[0m \u001b[0mfeatures\u001b[0m\u001b[0;34m]\u001b[0m\u001b[0;34m\u001b[0m\u001b[0;34m\u001b[0m\u001b[0m\n\u001b[0m\u001b[1;32m      2\u001b[0m \u001b[0;34m\u001b[0m\u001b[0m\n\u001b[1;32m      3\u001b[0m \u001b[0mshap\u001b[0m\u001b[0;34m.\u001b[0m\u001b[0msummary_plot\u001b[0m\u001b[0;34m(\u001b[0m\u001b[0mshap_vals\u001b[0m\u001b[0;34m,\u001b[0m \u001b[0mnew_features\u001b[0m\u001b[0;34m,\u001b[0m \u001b[0mplot_type\u001b[0m\u001b[0;34m=\u001b[0m\u001b[0;34m'bar'\u001b[0m\u001b[0;34m,\u001b[0m \u001b[0mshow\u001b[0m\u001b[0;34m=\u001b[0m\u001b[0;32mFalse\u001b[0m\u001b[0;34m)\u001b[0m\u001b[0;34m\u001b[0m\u001b[0;34m\u001b[0m\u001b[0m\n",
      "\u001b[0;32m<ipython-input-78-0bdc9ebe9e27>\u001b[0m in \u001b[0;36m<listcomp>\u001b[0;34m(.0)\u001b[0m\n\u001b[0;32m----> 1\u001b[0;31m \u001b[0madj_names\u001b[0m \u001b[0;34m=\u001b[0m \u001b[0;34m[\u001b[0m\u001b[0mchange_names\u001b[0m\u001b[0;34m(\u001b[0m\u001b[0ms\u001b[0m\u001b[0;34m)\u001b[0m \u001b[0;32mfor\u001b[0m \u001b[0ms\u001b[0m \u001b[0;32min\u001b[0m \u001b[0mfeatures\u001b[0m\u001b[0;34m]\u001b[0m\u001b[0;34m\u001b[0m\u001b[0;34m\u001b[0m\u001b[0m\n\u001b[0m\u001b[1;32m      2\u001b[0m \u001b[0;34m\u001b[0m\u001b[0m\n\u001b[1;32m      3\u001b[0m \u001b[0mshap\u001b[0m\u001b[0;34m.\u001b[0m\u001b[0msummary_plot\u001b[0m\u001b[0;34m(\u001b[0m\u001b[0mshap_vals\u001b[0m\u001b[0;34m,\u001b[0m \u001b[0mnew_features\u001b[0m\u001b[0;34m,\u001b[0m \u001b[0mplot_type\u001b[0m\u001b[0;34m=\u001b[0m\u001b[0;34m'bar'\u001b[0m\u001b[0;34m,\u001b[0m \u001b[0mshow\u001b[0m\u001b[0;34m=\u001b[0m\u001b[0;32mFalse\u001b[0m\u001b[0;34m)\u001b[0m\u001b[0;34m\u001b[0m\u001b[0;34m\u001b[0m\u001b[0m\n",
      "\u001b[0;31mNameError\u001b[0m: name 'change_names' is not defined"
     ]
    }
   ],
   "source": [
    "adj_names = [change_names(s) for s in features]\n",
    "\n",
    "shap.summary_plot(shap_vals, new_features, plot_type='bar', show=False)"
   ]
  },
  {
   "cell_type": "code",
   "execution_count": 52,
   "metadata": {},
   "outputs": [],
   "source": [
    "df = ru.pd_load('/data/rgur/efrc/paper_data/isotherm_models/geo/master_feature_df.csv')"
   ]
  },
  {
   "cell_type": "code",
   "execution_count": 53,
   "metadata": {},
   "outputs": [
    {
     "data": {
      "text/plain": [
       "442"
      ]
     },
     "execution_count": 53,
     "metadata": {},
     "output_type": "execute_result"
    }
   ],
   "source": [
    "len(df.keys())"
   ]
  },
  {
   "cell_type": "code",
   "execution_count": 54,
   "metadata": {},
   "outputs": [
    {
     "data": {
      "text/html": [
       "<div>\n",
       "<style scoped>\n",
       "    .dataframe tbody tr th:only-of-type {\n",
       "        vertical-align: middle;\n",
       "    }\n",
       "\n",
       "    .dataframe tbody tr th {\n",
       "        vertical-align: top;\n",
       "    }\n",
       "\n",
       "    .dataframe thead th {\n",
       "        text-align: right;\n",
       "    }\n",
       "</style>\n",
       "<table border=\"1\" class=\"dataframe\">\n",
       "  <thead>\n",
       "    <tr style=\"text-align: right;\">\n",
       "      <th></th>\n",
       "      <th>Unnamed: 0</th>\n",
       "      <th>filename</th>\n",
       "      <th>Mafp_Br1_C2_C1</th>\n",
       "      <th>Mafp_Br1_C2_C2</th>\n",
       "      <th>Mafp_Br1_C2_C3</th>\n",
       "      <th>Mafp_Br1_C3_Br1</th>\n",
       "      <th>Mafp_Br1_C3_C1</th>\n",
       "      <th>Mafp_Br1_C3_C2</th>\n",
       "      <th>Mafp_Br1_C3_C3</th>\n",
       "      <th>Mafp_Br1_C3_C4</th>\n",
       "      <th>...</th>\n",
       "      <th>size_10</th>\n",
       "      <th>size_11</th>\n",
       "      <th>size_12</th>\n",
       "      <th>size_13</th>\n",
       "      <th>size_14</th>\n",
       "      <th>size_15</th>\n",
       "      <th>size_16</th>\n",
       "      <th>size_17</th>\n",
       "      <th>size_18</th>\n",
       "      <th>size_19</th>\n",
       "    </tr>\n",
       "  </thead>\n",
       "  <tbody>\n",
       "    <tr>\n",
       "      <th>0</th>\n",
       "      <td>0</td>\n",
       "      <td>hypotheticalMOF_6000523_i_3_j_19_k_12_m_9_cat_...</td>\n",
       "      <td>0.0</td>\n",
       "      <td>0.0</td>\n",
       "      <td>0.0</td>\n",
       "      <td>0.0</td>\n",
       "      <td>0.0</td>\n",
       "      <td>0.0</td>\n",
       "      <td>0.0</td>\n",
       "      <td>0.0</td>\n",
       "      <td>...</td>\n",
       "      <td>-0.029315</td>\n",
       "      <td>-0.829873</td>\n",
       "      <td>-0.672508</td>\n",
       "      <td>-0.133216</td>\n",
       "      <td>-0.031841</td>\n",
       "      <td>-0.029811</td>\n",
       "      <td>-0.334436</td>\n",
       "      <td>-0.312647</td>\n",
       "      <td>-0.292247</td>\n",
       "      <td>-0.153648</td>\n",
       "    </tr>\n",
       "    <tr>\n",
       "      <th>1</th>\n",
       "      <td>1</td>\n",
       "      <td>hypotheticalMOF_5053773_i_1_j_27_k_27_m_7_cat_...</td>\n",
       "      <td>0.0</td>\n",
       "      <td>0.0</td>\n",
       "      <td>0.0</td>\n",
       "      <td>0.0</td>\n",
       "      <td>0.0</td>\n",
       "      <td>0.0</td>\n",
       "      <td>0.0</td>\n",
       "      <td>0.0</td>\n",
       "      <td>...</td>\n",
       "      <td>-0.029315</td>\n",
       "      <td>0.434629</td>\n",
       "      <td>0.636795</td>\n",
       "      <td>1.321616</td>\n",
       "      <td>1.554432</td>\n",
       "      <td>1.740400</td>\n",
       "      <td>-0.334436</td>\n",
       "      <td>-0.312647</td>\n",
       "      <td>-0.292247</td>\n",
       "      <td>-0.153648</td>\n",
       "    </tr>\n",
       "    <tr>\n",
       "      <th>2</th>\n",
       "      <td>2</td>\n",
       "      <td>hypotheticalMOF_5051526_i_1_j_27_k_5_m_9_cat_1...</td>\n",
       "      <td>0.0</td>\n",
       "      <td>0.0</td>\n",
       "      <td>0.0</td>\n",
       "      <td>0.0</td>\n",
       "      <td>0.0</td>\n",
       "      <td>0.0</td>\n",
       "      <td>0.0</td>\n",
       "      <td>0.0</td>\n",
       "      <td>...</td>\n",
       "      <td>-0.029315</td>\n",
       "      <td>0.434629</td>\n",
       "      <td>0.636795</td>\n",
       "      <td>0.230492</td>\n",
       "      <td>0.647990</td>\n",
       "      <td>0.357423</td>\n",
       "      <td>-0.334436</td>\n",
       "      <td>-0.312647</td>\n",
       "      <td>-0.292247</td>\n",
       "      <td>-0.153648</td>\n",
       "    </tr>\n",
       "    <tr>\n",
       "      <th>3</th>\n",
       "      <td>3</td>\n",
       "      <td>hypotheticalMOF_5004666_i_0_j_20_k_12_m_1_cat_...</td>\n",
       "      <td>0.0</td>\n",
       "      <td>0.0</td>\n",
       "      <td>0.0</td>\n",
       "      <td>0.0</td>\n",
       "      <td>0.0</td>\n",
       "      <td>0.0</td>\n",
       "      <td>0.0</td>\n",
       "      <td>0.0</td>\n",
       "      <td>...</td>\n",
       "      <td>-0.029315</td>\n",
       "      <td>-0.739551</td>\n",
       "      <td>-0.578986</td>\n",
       "      <td>-0.029300</td>\n",
       "      <td>0.081464</td>\n",
       "      <td>0.080827</td>\n",
       "      <td>0.660298</td>\n",
       "      <td>0.723784</td>\n",
       "      <td>0.894481</td>\n",
       "      <td>2.021637</td>\n",
       "    </tr>\n",
       "    <tr>\n",
       "      <th>4</th>\n",
       "      <td>4</td>\n",
       "      <td>hypotheticalMOF_36515_i_2_j_17_k_6_m_2_cat_1.cif</td>\n",
       "      <td>0.0</td>\n",
       "      <td>0.0</td>\n",
       "      <td>0.0</td>\n",
       "      <td>0.0</td>\n",
       "      <td>0.0</td>\n",
       "      <td>0.0</td>\n",
       "      <td>0.0</td>\n",
       "      <td>0.0</td>\n",
       "      <td>...</td>\n",
       "      <td>-0.029315</td>\n",
       "      <td>0.073343</td>\n",
       "      <td>0.262709</td>\n",
       "      <td>0.490283</td>\n",
       "      <td>0.987906</td>\n",
       "      <td>0.634018</td>\n",
       "      <td>-0.334436</td>\n",
       "      <td>-0.312647</td>\n",
       "      <td>-0.292247</td>\n",
       "      <td>-0.153648</td>\n",
       "    </tr>\n",
       "  </tbody>\n",
       "</table>\n",
       "<p>5 rows × 442 columns</p>\n",
       "</div>"
      ],
      "text/plain": [
       "   Unnamed: 0                                           filename  \\\n",
       "0           0  hypotheticalMOF_6000523_i_3_j_19_k_12_m_9_cat_...   \n",
       "1           1  hypotheticalMOF_5053773_i_1_j_27_k_27_m_7_cat_...   \n",
       "2           2  hypotheticalMOF_5051526_i_1_j_27_k_5_m_9_cat_1...   \n",
       "3           3  hypotheticalMOF_5004666_i_0_j_20_k_12_m_1_cat_...   \n",
       "4           4   hypotheticalMOF_36515_i_2_j_17_k_6_m_2_cat_1.cif   \n",
       "\n",
       "   Mafp_Br1_C2_C1  Mafp_Br1_C2_C2  Mafp_Br1_C2_C3  Mafp_Br1_C3_Br1  \\\n",
       "0             0.0             0.0             0.0              0.0   \n",
       "1             0.0             0.0             0.0              0.0   \n",
       "2             0.0             0.0             0.0              0.0   \n",
       "3             0.0             0.0             0.0              0.0   \n",
       "4             0.0             0.0             0.0              0.0   \n",
       "\n",
       "   Mafp_Br1_C3_C1  Mafp_Br1_C3_C2  Mafp_Br1_C3_C3  Mafp_Br1_C3_C4  ...  \\\n",
       "0             0.0             0.0             0.0             0.0  ...   \n",
       "1             0.0             0.0             0.0             0.0  ...   \n",
       "2             0.0             0.0             0.0             0.0  ...   \n",
       "3             0.0             0.0             0.0             0.0  ...   \n",
       "4             0.0             0.0             0.0             0.0  ...   \n",
       "\n",
       "    size_10   size_11   size_12   size_13   size_14   size_15   size_16  \\\n",
       "0 -0.029315 -0.829873 -0.672508 -0.133216 -0.031841 -0.029811 -0.334436   \n",
       "1 -0.029315  0.434629  0.636795  1.321616  1.554432  1.740400 -0.334436   \n",
       "2 -0.029315  0.434629  0.636795  0.230492  0.647990  0.357423 -0.334436   \n",
       "3 -0.029315 -0.739551 -0.578986 -0.029300  0.081464  0.080827  0.660298   \n",
       "4 -0.029315  0.073343  0.262709  0.490283  0.987906  0.634018 -0.334436   \n",
       "\n",
       "    size_17   size_18   size_19  \n",
       "0 -0.312647 -0.292247 -0.153648  \n",
       "1 -0.312647 -0.292247 -0.153648  \n",
       "2 -0.312647 -0.292247 -0.153648  \n",
       "3  0.723784  0.894481  2.021637  \n",
       "4 -0.312647 -0.292247 -0.153648  \n",
       "\n",
       "[5 rows x 442 columns]"
      ]
     },
     "execution_count": 54,
     "metadata": {},
     "output_type": "execute_result"
    }
   ],
   "source": [
    "df.head()"
   ]
  },
  {
   "cell_type": "markdown",
   "metadata": {},
   "source": [
    "# Analyze from files"
   ]
  },
  {
   "cell_type": "code",
   "execution_count": 10,
   "metadata": {},
   "outputs": [],
   "source": [
    "with open('/data/rgur/efrc/paper_data/isotherm_models/geo/features/features_code_10111_11_45PM_on_May_09_2020', 'rb') as f:\n",
    "    features = pickle.load(f)"
   ]
  },
  {
   "cell_type": "code",
   "execution_count": 15,
   "metadata": {},
   "outputs": [],
   "source": [
    "df = ru.pd_load('/data/rgur/efrc/paper_data/isotherm_models/geo/master_feature_df.csv')"
   ]
  },
  {
   "cell_type": "code",
   "execution_count": 16,
   "metadata": {},
   "outputs": [],
   "source": [
    "PATH_TO_MODEL = '/data/rgur/efrc/paper_data/isotherm_models/geo/iso_code_1011_fold_6_10_47AM_on_May_08_2020.h5'\n",
    "\n",
    "model = tf.keras.models.load_model(PATH_TO_MODEL)"
   ]
  },
  {
   "cell_type": "code",
   "execution_count": 17,
   "metadata": {},
   "outputs": [],
   "source": [
    "results = ru.pd_load('/data/rgur/efrc/paper_data/isotherm_models/geo/results_iso_code_1011_fold_6_10_47AM_on_May_08_2020.csv')"
   ]
  },
  {
   "cell_type": "code",
   "execution_count": 20,
   "metadata": {},
   "outputs": [
    {
     "data": {
      "text/html": [
       "<div>\n",
       "<style scoped>\n",
       "    .dataframe tbody tr th:only-of-type {\n",
       "        vertical-align: middle;\n",
       "    }\n",
       "\n",
       "    .dataframe tbody tr th {\n",
       "        vertical-align: top;\n",
       "    }\n",
       "\n",
       "    .dataframe thead th {\n",
       "        text-align: right;\n",
       "    }\n",
       "</style>\n",
       "<table border=\"1\" class=\"dataframe\">\n",
       "  <thead>\n",
       "    <tr style=\"text-align: right;\">\n",
       "      <th></th>\n",
       "      <th>Unnamed: 0</th>\n",
       "      <th>filename</th>\n",
       "      <th>Mafp_Br1_C2_C1</th>\n",
       "      <th>Mafp_Br1_C2_C2</th>\n",
       "      <th>Mafp_Br1_C2_C3</th>\n",
       "      <th>Mafp_Br1_C3_Br1</th>\n",
       "      <th>Mafp_Br1_C3_C1</th>\n",
       "      <th>Mafp_Br1_C3_C2</th>\n",
       "      <th>Mafp_Br1_C3_C3</th>\n",
       "      <th>Mafp_Br1_C3_C4</th>\n",
       "      <th>...</th>\n",
       "      <th>size_10</th>\n",
       "      <th>size_11</th>\n",
       "      <th>size_12</th>\n",
       "      <th>size_13</th>\n",
       "      <th>size_14</th>\n",
       "      <th>size_15</th>\n",
       "      <th>size_16</th>\n",
       "      <th>size_17</th>\n",
       "      <th>size_18</th>\n",
       "      <th>size_19</th>\n",
       "    </tr>\n",
       "  </thead>\n",
       "  <tbody>\n",
       "    <tr>\n",
       "      <th>0</th>\n",
       "      <td>0</td>\n",
       "      <td>hypotheticalMOF_6000523_i_3_j_19_k_12_m_9_cat_...</td>\n",
       "      <td>0.0</td>\n",
       "      <td>0.0</td>\n",
       "      <td>0.0</td>\n",
       "      <td>0.0</td>\n",
       "      <td>0.0</td>\n",
       "      <td>0.0</td>\n",
       "      <td>0.0</td>\n",
       "      <td>0.0</td>\n",
       "      <td>...</td>\n",
       "      <td>-0.029315</td>\n",
       "      <td>-0.829873</td>\n",
       "      <td>-0.672508</td>\n",
       "      <td>-0.133216</td>\n",
       "      <td>-0.031841</td>\n",
       "      <td>-0.029811</td>\n",
       "      <td>-0.334436</td>\n",
       "      <td>-0.312647</td>\n",
       "      <td>-0.292247</td>\n",
       "      <td>-0.153648</td>\n",
       "    </tr>\n",
       "    <tr>\n",
       "      <th>1</th>\n",
       "      <td>1</td>\n",
       "      <td>hypotheticalMOF_5053773_i_1_j_27_k_27_m_7_cat_...</td>\n",
       "      <td>0.0</td>\n",
       "      <td>0.0</td>\n",
       "      <td>0.0</td>\n",
       "      <td>0.0</td>\n",
       "      <td>0.0</td>\n",
       "      <td>0.0</td>\n",
       "      <td>0.0</td>\n",
       "      <td>0.0</td>\n",
       "      <td>...</td>\n",
       "      <td>-0.029315</td>\n",
       "      <td>0.434629</td>\n",
       "      <td>0.636795</td>\n",
       "      <td>1.321616</td>\n",
       "      <td>1.554432</td>\n",
       "      <td>1.740400</td>\n",
       "      <td>-0.334436</td>\n",
       "      <td>-0.312647</td>\n",
       "      <td>-0.292247</td>\n",
       "      <td>-0.153648</td>\n",
       "    </tr>\n",
       "    <tr>\n",
       "      <th>2</th>\n",
       "      <td>2</td>\n",
       "      <td>hypotheticalMOF_5051526_i_1_j_27_k_5_m_9_cat_1...</td>\n",
       "      <td>0.0</td>\n",
       "      <td>0.0</td>\n",
       "      <td>0.0</td>\n",
       "      <td>0.0</td>\n",
       "      <td>0.0</td>\n",
       "      <td>0.0</td>\n",
       "      <td>0.0</td>\n",
       "      <td>0.0</td>\n",
       "      <td>...</td>\n",
       "      <td>-0.029315</td>\n",
       "      <td>0.434629</td>\n",
       "      <td>0.636795</td>\n",
       "      <td>0.230492</td>\n",
       "      <td>0.647990</td>\n",
       "      <td>0.357423</td>\n",
       "      <td>-0.334436</td>\n",
       "      <td>-0.312647</td>\n",
       "      <td>-0.292247</td>\n",
       "      <td>-0.153648</td>\n",
       "    </tr>\n",
       "    <tr>\n",
       "      <th>3</th>\n",
       "      <td>3</td>\n",
       "      <td>hypotheticalMOF_5004666_i_0_j_20_k_12_m_1_cat_...</td>\n",
       "      <td>0.0</td>\n",
       "      <td>0.0</td>\n",
       "      <td>0.0</td>\n",
       "      <td>0.0</td>\n",
       "      <td>0.0</td>\n",
       "      <td>0.0</td>\n",
       "      <td>0.0</td>\n",
       "      <td>0.0</td>\n",
       "      <td>...</td>\n",
       "      <td>-0.029315</td>\n",
       "      <td>-0.739551</td>\n",
       "      <td>-0.578986</td>\n",
       "      <td>-0.029300</td>\n",
       "      <td>0.081464</td>\n",
       "      <td>0.080827</td>\n",
       "      <td>0.660298</td>\n",
       "      <td>0.723784</td>\n",
       "      <td>0.894481</td>\n",
       "      <td>2.021637</td>\n",
       "    </tr>\n",
       "    <tr>\n",
       "      <th>4</th>\n",
       "      <td>4</td>\n",
       "      <td>hypotheticalMOF_36515_i_2_j_17_k_6_m_2_cat_1.cif</td>\n",
       "      <td>0.0</td>\n",
       "      <td>0.0</td>\n",
       "      <td>0.0</td>\n",
       "      <td>0.0</td>\n",
       "      <td>0.0</td>\n",
       "      <td>0.0</td>\n",
       "      <td>0.0</td>\n",
       "      <td>0.0</td>\n",
       "      <td>...</td>\n",
       "      <td>-0.029315</td>\n",
       "      <td>0.073343</td>\n",
       "      <td>0.262709</td>\n",
       "      <td>0.490283</td>\n",
       "      <td>0.987906</td>\n",
       "      <td>0.634018</td>\n",
       "      <td>-0.334436</td>\n",
       "      <td>-0.312647</td>\n",
       "      <td>-0.292247</td>\n",
       "      <td>-0.153648</td>\n",
       "    </tr>\n",
       "  </tbody>\n",
       "</table>\n",
       "<p>5 rows × 442 columns</p>\n",
       "</div>"
      ],
      "text/plain": [
       "   Unnamed: 0                                           filename  \\\n",
       "0           0  hypotheticalMOF_6000523_i_3_j_19_k_12_m_9_cat_...   \n",
       "1           1  hypotheticalMOF_5053773_i_1_j_27_k_27_m_7_cat_...   \n",
       "2           2  hypotheticalMOF_5051526_i_1_j_27_k_5_m_9_cat_1...   \n",
       "3           3  hypotheticalMOF_5004666_i_0_j_20_k_12_m_1_cat_...   \n",
       "4           4   hypotheticalMOF_36515_i_2_j_17_k_6_m_2_cat_1.cif   \n",
       "\n",
       "   Mafp_Br1_C2_C1  Mafp_Br1_C2_C2  Mafp_Br1_C2_C3  Mafp_Br1_C3_Br1  \\\n",
       "0             0.0             0.0             0.0              0.0   \n",
       "1             0.0             0.0             0.0              0.0   \n",
       "2             0.0             0.0             0.0              0.0   \n",
       "3             0.0             0.0             0.0              0.0   \n",
       "4             0.0             0.0             0.0              0.0   \n",
       "\n",
       "   Mafp_Br1_C3_C1  Mafp_Br1_C3_C2  Mafp_Br1_C3_C3  Mafp_Br1_C3_C4  ...  \\\n",
       "0             0.0             0.0             0.0             0.0  ...   \n",
       "1             0.0             0.0             0.0             0.0  ...   \n",
       "2             0.0             0.0             0.0             0.0  ...   \n",
       "3             0.0             0.0             0.0             0.0  ...   \n",
       "4             0.0             0.0             0.0             0.0  ...   \n",
       "\n",
       "    size_10   size_11   size_12   size_13   size_14   size_15   size_16  \\\n",
       "0 -0.029315 -0.829873 -0.672508 -0.133216 -0.031841 -0.029811 -0.334436   \n",
       "1 -0.029315  0.434629  0.636795  1.321616  1.554432  1.740400 -0.334436   \n",
       "2 -0.029315  0.434629  0.636795  0.230492  0.647990  0.357423 -0.334436   \n",
       "3 -0.029315 -0.739551 -0.578986 -0.029300  0.081464  0.080827  0.660298   \n",
       "4 -0.029315  0.073343  0.262709  0.490283  0.987906  0.634018 -0.334436   \n",
       "\n",
       "    size_17   size_18   size_19  \n",
       "0 -0.312647 -0.292247 -0.153648  \n",
       "1 -0.312647 -0.292247 -0.153648  \n",
       "2 -0.312647 -0.292247 -0.153648  \n",
       "3  0.723784  0.894481  2.021637  \n",
       "4 -0.312647 -0.292247 -0.153648  \n",
       "\n",
       "[5 rows x 442 columns]"
      ]
     },
     "execution_count": 20,
     "metadata": {},
     "output_type": "execute_result"
    }
   ],
   "source": [
    "df.head()['']"
   ]
  },
  {
   "cell_type": "code",
   "execution_count": 29,
   "metadata": {},
   "outputs": [],
   "source": [
    "features_no_si = []\n",
    "for f in features:\n",
    "    if f[-3:] == '_si':\n",
    "        f = f[:-3]\n",
    "    features_no_si.append(f)"
   ]
  },
  {
   "cell_type": "code",
   "execution_count": 30,
   "metadata": {},
   "outputs": [],
   "source": [
    "train_fn = results[results['Class']=='Train']['Filename'].unique()\n",
    "\n",
    "len(train_fn)\n",
    "\n",
    "train_df = df[df['filename'].isin(train_fn)].reset_index().drop('index', axis=1)[features_no_si]"
   ]
  },
  {
   "cell_type": "code",
   "execution_count": 64,
   "metadata": {},
   "outputs": [],
   "source": [
    "sample_train_df = df[df['filename'].isin(train_fn)].reset_index().drop('index', axis=1).sample(frac=.01, random_state=12)"
   ]
  },
  {
   "cell_type": "code",
   "execution_count": 65,
   "metadata": {},
   "outputs": [
    {
     "name": "stdout",
     "output_type": "stream",
     "text": [
      "Time elapsed to create shap values: 243.55460667610168\n"
     ]
    }
   ],
   "source": [
    "shap_vals = ml.shap_mat(model, sample_train_df[features_no_si].to_numpy(), 'nn')"
   ]
  },
  {
   "cell_type": "code",
   "execution_count": 79,
   "metadata": {},
   "outputs": [
    {
     "data": {
      "image/png": "[encoded data removed]",
      "text/plain": [
       "<Figure size 576x684 with 1 Axes>"
      ]
     },
     "metadata": {
      "needs_background": "light"
     },
     "output_type": "display_data"
    }
   ],
   "source": [
    "shap.summary_plot(shap_vals, features_no_si, feature_names=[ml.shap_change_names(s) for s in features_no_si], \n",
    "                  plot_type='bar', show=False)"
   ]
  },
  {
   "cell_type": "code",
   "execution_count": 68,
   "metadata": {},
   "outputs": [],
   "source": [
    "def shap_save_df(shap_vals, save_path):\n",
    "    shap_df = pd.DataFrame(data=shap_vals[0], columns=features_no_si)\n",
    "    shap_df['filename'] = sample_train_df['filename']\n",
    "    shap_df.to_csv(save_path, compression='gzip')"
   ]
  },
  {
   "cell_type": "code",
   "execution_count": 69,
   "metadata": {},
   "outputs": [],
   "source": [
    "shap_save_df(shap_vals,'/data/rgur/efrc/paper_data/isotherm_models/geo/shap/fold_6_shapdf.csv')"
   ]
  },
  {
   "cell_type": "markdown",
   "metadata": {},
   "source": [
    "# SHAP Plots for best all-feature model"
   ]
  },
  {
   "cell_type": "code",
   "execution_count": 10,
   "metadata": {},
   "outputs": [],
   "source": [
    "model = load_model('/data/rgur/efrc/ml/models/12:05PM_on_April_11_2020/12:05PM_on_April_11_2020.xgb')"
   ]
  },
  {
   "cell_type": "code",
   "execution_count": 11,
   "metadata": {},
   "outputs": [],
   "source": [
    "params_path = '/data/rgur/efrc/ml/models/12:05PM_on_April_11_2020/params_12:05PM_on_April_11_2020'"
   ]
  },
  {
   "cell_type": "code",
   "execution_count": 12,
   "metadata": {},
   "outputs": [
    {
     "name": "stderr",
     "output_type": "stream",
     "text": [
      "Columns (4,5,6,7,8,9,10,11,12) have mixed types. Specify dtype option on import or set low_memory=False.\n"
     ]
    }
   ],
   "source": [
    "f = open(params_path, 'r')\n",
    "start = False\n",
    "for line in f:\n",
    "    #lines.append(line.strip())\n",
    "    strp = line.strip()\n",
    "    if start:\n",
    "        try:\n",
    "            exec(strp)\n",
    "        except:\n",
    "            pass        \n",
    "    elif 'algo' in strp:\n",
    "        start = True\n",
    "        try:\n",
    "            exec(strp)\n",
    "        except:\n",
    "            pass    \n",
    "\n",
    "RETURN_FEATURES = True\n",
    "features = ml.prepToSplit(cat_si_sd, SD_ML_DATA_PATH, SI_ML_DATA_PATH, start_str_sd, end_str_sd, start_str_si, end_str_si, total_frac, \n",
    "                                    del_defective_mofs, add_size_fp, size_dependent, stacked, n_core, \n",
    "                                    del_geometric_fp, cat_col_names, Y_DATA_PATH, return_features=RETURN_FEATURES)"
   ]
  },
  {
   "cell_type": "code",
   "execution_count": 13,
   "metadata": {},
   "outputs": [],
   "source": [
    "features = [i for i in features if i not in ['norm_Mafp_N2_O2_N3', 'norm_Mmfp_MQNs25', 'norm_Mmfp_MQNs24', 'norm_Mafp_C1_N2_N3', 'norm_Mmfp_MQNs22', 'norm_Mmfp_MQNs23']]"
   ]
  },
  {
   "cell_type": "code",
   "execution_count": 15,
   "metadata": {},
   "outputs": [],
   "source": [
    "train = pd.read_csv('/data/rgur/efrc/ml/models/12:05PM_on_April_11_2020/train_12:05PM_on_April_11_2020.csv')"
   ]
  },
  {
   "cell_type": "code",
   "execution_count": 16,
   "metadata": {},
   "outputs": [],
   "source": [
    "test = pd.read_csv('/data/rgur/efrc/ml/models/12:05PM_on_April_11_2020/test_12:05PM_on_April_11_2020.csv')"
   ]
  },
  {
   "cell_type": "code",
   "execution_count": 17,
   "metadata": {},
   "outputs": [],
   "source": [
    "train_fp = pd.concat([train, test], ignore_index=True)[features].to_numpy()"
   ]
  },
  {
   "cell_type": "code",
   "execution_count": 18,
   "metadata": {},
   "outputs": [
    {
     "name": "stderr",
     "output_type": "stream",
     "text": [
      "Setting feature_perturbation = \"tree_path_dependent\" because no background data was given.\n"
     ]
    },
    {
     "name": "stdout",
     "output_type": "stream",
     "text": [
      "Time elapsed to create shap values: 7.2797627449035645\n"
     ]
    }
   ],
   "source": [
    "shap_vals = shap_mat(model, train_fp)"
   ]
  },
  {
   "cell_type": "code",
   "execution_count": 19,
   "metadata": {},
   "outputs": [],
   "source": [
    "#save shap_vals\n",
    "import pickle\n",
    "with open('/data/rgur/efrc/ml/models/12:05PM_on_April_11_2020/shap_12:05PM_on_April_11_2020.pkl', 'wb') as f:\n",
    "    pickle.dump(shap_vals, f)"
   ]
  },
  {
   "cell_type": "code",
   "execution_count": 20,
   "metadata": {},
   "outputs": [],
   "source": [
    "adj_names = [change_names(s) for s in features]"
   ]
  },
  {
   "cell_type": "code",
   "execution_count": 21,
   "metadata": {
    "scrolled": true
   },
   "outputs": [
    {
     "data": {
      "image/png": "[encoded data removed]",
      "text/plain": [
       "<Figure size 576x684 with 1 Axes>"
      ]
     },
     "metadata": {
      "needs_background": "light"
     },
     "output_type": "display_data"
    }
   ],
   "source": [
    "shap.summary_plot(shap_vals, features, feature_names=adj_names, plot_type='bar', show=False)"
   ]
  },
  {
   "cell_type": "markdown",
   "metadata": {},
   "source": [
    "# Test functions"
   ]
  },
  {
   "cell_type": "code",
   "execution_count": null,
   "metadata": {},
   "outputs": [],
   "source": []
  }
 ],
 "metadata": {
  "kernelspec": {
   "display_name": "Python 3",
   "language": "python",
   "name": "python3"
  },
  "language_info": {
   "codemirror_mode": {
    "name": "ipython",
    "version": 3
   },
   "file_extension": ".py",
   "mimetype": "text/x-python",
   "name": "python",
   "nbconvert_exporter": "python",
   "pygments_lexer": "ipython3",
   "version": "3.7.3"
  }
 },
 "nbformat": 4,
 "nbformat_minor": 2
}
