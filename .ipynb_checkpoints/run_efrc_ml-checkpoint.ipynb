{
 "cells": [
  {
   "cell_type": "code",
   "execution_count": 1,
   "metadata": {
    "scrolled": true
   },
   "outputs": [],
   "source": [
    "import pandas as pd"
   ]
  },
  {
   "cell_type": "code",
   "execution_count": 2,
   "metadata": {},
   "outputs": [],
   "source": [
    "import numpy as np"
   ]
  },
  {
   "cell_type": "code",
   "execution_count": 3,
   "metadata": {},
   "outputs": [],
   "source": [
    "from matplotlib import pyplot as plt"
   ]
  },
  {
   "cell_type": "code",
   "execution_count": 4,
   "metadata": {},
   "outputs": [],
   "source": [
    "import math"
   ]
  },
  {
   "cell_type": "code",
   "execution_count": 5,
   "metadata": {},
   "outputs": [],
   "source": [
    "%matplotlib inline\n",
    "tickfontsize=20\n",
    "labelfontsize = tickfontsize"
   ]
  },
  {
   "cell_type": "code",
   "execution_count": 27,
   "metadata": {
    "scrolled": true
   },
   "outputs": [
    {
     "data": {
      "text/plain": [
       "<module 'efrc_ml_production' from '/home/rgur/py_scripts/efrc_ml_production.py'>"
      ]
     },
     "execution_count": 27,
     "metadata": {},
     "output_type": "execute_result"
    }
   ],
   "source": [
    "import importlib\n",
    "import efrc_ml_production as ml\n",
    "importlib.reload(ml)"
   ]
  },
  {
   "cell_type": "code",
   "execution_count": 7,
   "metadata": {},
   "outputs": [],
   "source": [
    "from rdkit import Chem"
   ]
  },
  {
   "cell_type": "code",
   "execution_count": 8,
   "metadata": {},
   "outputs": [],
   "source": [
    "import xgboost as xgb"
   ]
  },
  {
   "cell_type": "code",
   "execution_count": 9,
   "metadata": {},
   "outputs": [],
   "source": [
    "import datetime\n",
    "import time"
   ]
  },
  {
   "cell_type": "markdown",
   "metadata": {},
   "source": [
    "# Define variables"
   ]
  },
  {
   "cell_type": "code",
   "execution_count": 24,
   "metadata": {},
   "outputs": [],
   "source": [
    "#following must be defined\n",
    "algo = 'nn' #am I using XGBoost (xgb) or Neural Nets (nn)?\n",
    "total_frac = .1 #total fraction of data set to work with\n",
    "training_pct = .7 #how much percent of total fraction should be used for training\n",
    "random_split = True #make True if the training data should be chosen randomly\n",
    "n_remote = 10000 #the n_remote most remote points will be added to training set if random_split = False\n",
    "USE_PCA = True #should I use PCA?\n",
    "N_COMPONENTS=400 #how many PCA Components should I use?\n",
    "del_defective_mofs = False #make True if you want to remove all MOFs which a '0' value for at least one geometric property\n",
    "cat_si_sd = False #make True if you want to concatenate size-indep and size-dep fps\n",
    "add_size_fp = False #make True if you want to add 20 feature columns, where each feature is the number of atoms in a linker\n",
    "size_dependent = False #make True if the input ML-ready data contains fingerprint which does not normalize each PG feature$\n",
    "stacked = True #make True if the input ML-ready data contains pressure as feature\n",
    "n_core = 18 #number of cores to use\n",
    "if not stacked:\n",
    "    SD_ML_DATA_PATH = '/data/rgur/efrc/prep_data/all_no_norm/ml_data.csv' #path to size-dep data\n",
    "else:\n",
    "    SD_ML_DATA_PATH = '/data/rgur/efrc/prep_data/all_no_norm/stacked.csv'\n",
    "if not stacked:\n",
    "    SI_ML_DATA_PATH = '/data/rgur/efrc/prep_data/all_v1/ml_data.csv' #path to size-indep data\n",
    "else:\n",
    "    SI_ML_DATA_PATH = '/data/rgur/efrc/prep_data/all_v1/stacked.csv'\n",
    "if not stacked:\n",
    "    start_str_sd = 'CH4_v/v_248_bar'\n",
    "    end_str_sd = 'norm_Dom._Pore_(ang.)'\n",
    "else:\n",
    "    start_str_sd = 'Density'\n",
    "    end_str_sd = 'norm_Dom._Pore_(ang.)'\n",
    "\n",
    "start_str_si = 'filename'\n",
    "end_str_si = 'valence_pa'\n",
    "del_geometric_fp = False #make True if you want to ignore the geometric features\n",
    "cat_col_names = ['oh_1', 'oh_2', 'oh_3', 'oh_4'] #names for interpenetration columns\n",
    "Y_DATA_PATH = '/data/rgur/efrc/data_DONOTTOUCH/hMOF_allData_March25_2013.xlsx' #path to original hMOF data\n",
    "default_params = {'objective':'reg:linear', 'colsample_bytree':0.3, 'learning_rate':0.1,\n",
    "                'max_depth':15, 'alpha':10, 'n_estimators':10}\n",
    "n_trees = 50 #number of weak learners. Bigger is better until 5000\n",
    "save_pp = False #make True if you want to save the parity plot\n",
    "#########################################################################"
   ]
  },
  {
   "cell_type": "markdown",
   "metadata": {},
   "source": [
    "# Steps before run"
   ]
  },
  {
   "cell_type": "code",
   "execution_count": 18,
   "metadata": {
    "scrolled": false
   },
   "outputs": [
    {
     "name": "stderr",
     "output_type": "stream",
     "text": [
      "/home/modules/anaconda3/lib/python3.7/site-packages/IPython/core/interactiveshell.py:3296: DtypeWarning: Columns (5,6,7,8,9,10,11,12,13) have mixed types. Specify dtype option on import or set low_memory=False.\n",
      "  exec(code_obj, self.user_global_ns, self.user_ns)\n"
     ]
    },
    {
     "name": "stdout",
     "output_type": "stream",
     "text": [
      "\n",
      "\n",
      "Using following 414 features\n",
      "Mafp_Br1_C2_C1\n",
      "Mafp_Br1_C2_C2\n",
      "Mafp_Br1_C2_C3\n",
      "Mafp_Br1_C3_Br1\n",
      "Mafp_Br1_C3_C1\n",
      "Mafp_Br1_C3_C2\n",
      "Mafp_Br1_C3_C3\n",
      "Mafp_Br1_C3_C4\n",
      "Mafp_Br1_C3_N1\n",
      "Mafp_Br1_C3_N2\n",
      "Mafp_Br1_C3_N3\n",
      "Mafp_Br1_C3_O1\n",
      "Mafp_Br1_C4_Br1\n",
      "Mafp_Br1_C4_C2\n",
      "Mafp_Br1_C4_C3\n",
      "Mafp_Br1_C4_C4\n",
      "Mafp_Br1_C4_H1\n",
      "Mafp_Br1_C4_N1\n",
      "Mafp_Br1_C4_N2\n",
      "Mafp_Br1_C4_N3\n",
      "Mafp_Br1_C4_O1\n",
      "Mafp_Br1_C4_O2\n",
      "Mafp_Br1_N2_C2\n",
      "Mafp_Br1_N2_C3\n",
      "Mafp_Br1_N2_C4\n",
      "Mafp_Br1_N2_N1\n",
      "Mafp_Br1_N2_N2\n",
      "Mafp_Br1_N2_N3\n",
      "Mafp_Br1_N3_Br1\n",
      "Mafp_Br1_N3_C2\n",
      "Mafp_Br1_N3_C3\n",
      "Mafp_Br1_N3_H1\n",
      "Mafp_Br1_N3_N2\n",
      "Mafp_Br1_N3_O2\n",
      "Mafp_Br1_O2_C2\n",
      "Mafp_Br1_O2_C3\n",
      "Mafp_Br1_O2_C4\n",
      "Mafp_C1_C2_C2\n",
      "Mafp_C1_C2_C3\n",
      "Mafp_C1_C2_C4\n",
      "Mafp_C1_C2_F1\n",
      "Mafp_C1_C2_H1\n",
      "Mafp_C1_C2_O1\n",
      "Mafp_C1_C2_O2\n",
      "Mafp_C1_C3_C2\n",
      "Mafp_C1_C3_C3\n",
      "Mafp_C1_C3_C4\n",
      "Mafp_C1_C3_Cl1\n",
      "Mafp_C1_C3_F1\n",
      "Mafp_C1_C3_H1\n",
      "Mafp_C1_C3_N2\n",
      "Mafp_C1_C3_N3\n",
      "Mafp_C1_C3_O1\n",
      "Mafp_C1_C3_O2\n",
      "Mafp_C1_C4_C2\n",
      "Mafp_C1_C4_C3\n",
      "Mafp_C1_C4_C4\n",
      "Mafp_C1_C4_H1\n",
      "Mafp_C1_C4_O1\n",
      "Mafp_C1_C4_O2\n",
      "Mafp_C1_N2_C2\n",
      "Mafp_C1_N2_C3\n",
      "Mafp_C1_N2_N2\n",
      "Mafp_C1_N2_N3\n",
      "Mafp_C1_N3_C3\n",
      "Mafp_C1_N3_C4\n",
      "Mafp_C1_N3_N2\n",
      "Mafp_C1_N3_N3\n",
      "Mafp_C1_N3_O1\n",
      "Mafp_C1_O2_C3\n",
      "Mafp_C1_O2_C4\n",
      "Mafp_C2_C2_C2\n",
      "Mafp_C2_C2_C3\n",
      "Mafp_C2_C2_C4\n",
      "Mafp_C2_C2_Cl1\n",
      "Mafp_C2_C2_F1\n",
      "Mafp_C2_C2_H1\n",
      "Mafp_C2_C2_N1\n",
      "Mafp_C2_C2_N2\n",
      "Mafp_C2_C2_N3\n",
      "Mafp_C2_C2_O1\n",
      "Mafp_C2_C2_O2\n",
      "Mafp_C2_C3_C2\n",
      "Mafp_C2_C3_C3\n",
      "Mafp_C2_C3_C4\n",
      "Mafp_C2_C3_Cl1\n",
      "Mafp_C2_C3_F1\n",
      "Mafp_C2_C3_H1\n",
      "Mafp_C2_C3_N1\n",
      "Mafp_C2_C3_N2\n",
      "Mafp_C2_C3_N3\n",
      "Mafp_C2_C3_O1\n",
      "Mafp_C2_C3_O2\n",
      "Mafp_C2_C4_C2\n",
      "Mafp_C2_C4_C3\n",
      "Mafp_C2_C4_C4\n",
      "Mafp_C2_C4_Cl1\n",
      "Mafp_C2_C4_F1\n",
      "Mafp_C2_C4_H1\n",
      "Mafp_C2_C4_N2\n",
      "Mafp_C2_C4_N3\n",
      "Mafp_C2_C4_O1\n",
      "Mafp_C2_C4_O2\n",
      "Mafp_C2_N2_C2\n",
      "Mafp_C2_N2_C3\n",
      "Mafp_C2_N2_C4\n",
      "Mafp_C2_N2_Cl1\n",
      "Mafp_C2_N2_F1\n",
      "Mafp_C2_N2_H1\n",
      "Mafp_C2_N2_N1\n",
      "Mafp_C2_N2_N2\n",
      "Mafp_C2_N2_N3\n",
      "Mafp_C2_N2_O1\n",
      "Mafp_C2_N2_O2\n",
      "Mafp_C2_N3_C2\n",
      "Mafp_C2_N3_C3\n",
      "Mafp_C2_N3_C4\n",
      "Mafp_C2_N3_F1\n",
      "Mafp_C2_N3_H1\n",
      "Mafp_C2_N3_N2\n",
      "Mafp_C2_N3_N3\n",
      "Mafp_C2_N3_O1\n",
      "Mafp_C2_N3_O2\n",
      "Mafp_C2_O2_C2\n",
      "Mafp_C2_O2_C3\n",
      "Mafp_C2_O2_C4\n",
      "Mafp_C2_O2_Cl1\n",
      "Mafp_C2_O2_H1\n",
      "Mafp_C2_O2_N2\n",
      "Mafp_C2_O2_N3\n",
      "Mafp_C3_C2_C3\n",
      "Mafp_C3_C2_C4\n",
      "Mafp_C3_C2_Cl1\n",
      "Mafp_C3_C2_F1\n",
      "Mafp_C3_C2_H1\n",
      "Mafp_C3_C2_N1\n",
      "Mafp_C3_C2_N2\n",
      "Mafp_C3_C2_N3\n",
      "Mafp_C3_C2_O1\n",
      "Mafp_C3_C2_O2\n",
      "Mafp_C3_C3_C3\n",
      "Mafp_C3_C3_C4\n",
      "Mafp_C3_C3_Cl1\n",
      "Mafp_C3_C3_F1\n",
      "Mafp_C3_C3_H1\n",
      "Mafp_C3_C3_N1\n",
      "Mafp_C3_C3_N2\n",
      "Mafp_C3_C3_N3\n",
      "Mafp_C3_C3_O1\n",
      "Mafp_C3_C3_O2\n",
      "Mafp_C3_C4_C3\n",
      "Mafp_C3_C4_C4\n",
      "Mafp_C3_C4_Cl1\n",
      "Mafp_C3_C4_F1\n",
      "Mafp_C3_C4_H1\n",
      "Mafp_C3_C4_N1\n",
      "Mafp_C3_C4_N2\n",
      "Mafp_C3_C4_N3\n",
      "Mafp_C3_C4_O1\n",
      "Mafp_C3_C4_O2\n",
      "Mafp_C3_N2_C3\n",
      "Mafp_C3_N2_C4\n",
      "Mafp_C3_N2_Cl1\n",
      "Mafp_C3_N2_F1\n",
      "Mafp_C3_N2_H1\n",
      "Mafp_C3_N2_N1\n",
      "Mafp_C3_N2_N2\n",
      "Mafp_C3_N2_N3\n",
      "Mafp_C3_N2_O1\n",
      "Mafp_C3_N2_O2\n",
      "Mafp_C3_N3_C3\n",
      "Mafp_C3_N3_C4\n",
      "Mafp_C3_N3_Cl1\n",
      "Mafp_C3_N3_F1\n",
      "Mafp_C3_N3_H1\n",
      "Mafp_C3_N3_N1\n",
      "Mafp_C3_N3_N2\n",
      "Mafp_C3_N3_N3\n",
      "Mafp_C3_N3_O2\n",
      "Mafp_C3_O2_C3\n",
      "Mafp_C3_O2_C4\n",
      "Mafp_C3_O2_Cl1\n",
      "Mafp_C3_O2_F1\n",
      "Mafp_C3_O2_H1\n",
      "Mafp_C3_O2_N2\n",
      "Mafp_C3_O2_N3\n",
      "Mafp_C3_O2_O1\n",
      "Mafp_C3_O2_O2\n",
      "Mafp_C4_C2_C4\n",
      "Mafp_C4_C2_H1\n",
      "Mafp_C4_C2_N1\n",
      "Mafp_C4_C2_N2\n",
      "Mafp_C4_C2_N3\n",
      "Mafp_C4_C2_O1\n",
      "Mafp_C4_C2_O2\n",
      "Mafp_C4_C3_C4\n",
      "Mafp_C4_C3_Cl1\n",
      "Mafp_C4_C3_F1\n",
      "Mafp_C4_C3_H1\n",
      "Mafp_C4_C3_N1\n",
      "Mafp_C4_C3_N2\n",
      "Mafp_C4_C3_N3\n",
      "Mafp_C4_C3_O1\n",
      "Mafp_C4_C3_O2\n",
      "Mafp_C4_C4_C4\n",
      "Mafp_C4_C4_Cl1\n",
      "Mafp_C4_C4_F1\n",
      "Mafp_C4_C4_H1\n",
      "Mafp_C4_C4_N1\n",
      "Mafp_C4_C4_N2\n",
      "Mafp_C4_C4_N3\n",
      "Mafp_C4_C4_O1\n",
      "Mafp_C4_C4_O2\n",
      "Mafp_C4_N2_C4\n",
      "Mafp_C4_N2_H1\n",
      "Mafp_C4_N2_N1\n",
      "Mafp_C4_N2_N2\n",
      "Mafp_C4_N2_N3\n",
      "Mafp_C4_N2_O1\n",
      "Mafp_C4_N3_C4\n",
      "Mafp_C4_N3_F1\n",
      "Mafp_C4_N3_H1\n",
      "Mafp_C4_N3_N1\n",
      "Mafp_C4_N3_N2\n",
      "Mafp_C4_N3_N3\n",
      "Mafp_C4_N3_O1\n",
      "Mafp_C4_N3_O2\n",
      "Mafp_C4_O2_C4\n",
      "Mafp_C4_O2_Cl1\n",
      "Mafp_C4_O2_F1\n",
      "Mafp_C4_O2_H1\n",
      "Mafp_C4_O2_N2\n",
      "Mafp_C4_O2_N3\n",
      "Mafp_C4_O2_O1\n",
      "Mafp_C4_O2_O2\n",
      "Mafp_Cl1_C3_Cl1\n",
      "Mafp_Cl1_C3_H1\n",
      "Mafp_Cl1_C3_N1\n",
      "Mafp_Cl1_C3_N2\n",
      "Mafp_Cl1_C3_N3\n",
      "Mafp_Cl1_C3_O1\n",
      "Mafp_Cl1_C4_Cl1\n",
      "Mafp_Cl1_C4_H1\n",
      "Mafp_Cl1_C4_N2\n",
      "Mafp_Cl1_C4_N3\n",
      "Mafp_Cl1_C4_O1\n",
      "Mafp_Cl1_C4_O2\n",
      "Mafp_Cl1_N2_N1\n",
      "Mafp_Cl1_N2_N2\n",
      "Mafp_Cl1_N3_Cl1\n",
      "Mafp_Cl1_N3_H1\n",
      "Mafp_Cl1_N3_N2\n",
      "Mafp_F1_C3_F1\n",
      "Mafp_F1_C3_N1\n",
      "Mafp_F1_C3_N2\n",
      "Mafp_F1_C3_N3\n",
      "Mafp_F1_C3_O1\n",
      "Mafp_F1_C3_O2\n",
      "Mafp_F1_C4_F1\n",
      "Mafp_F1_C4_H1\n",
      "Mafp_F1_C4_N2\n",
      "Mafp_F1_C4_N3\n",
      "Mafp_F1_C4_O1\n",
      "Mafp_F1_C4_O2\n",
      "Mafp_F1_N2_N2\n",
      "Mafp_F1_N3_F1\n",
      "Mafp_F1_N3_H1\n",
      "Mafp_F1_N3_N1\n",
      "Mafp_F1_N3_N2\n",
      "Mafp_F1_N3_N3\n",
      "Mafp_H1_C2_H1\n",
      "Mafp_H1_C2_N1\n",
      "Mafp_H1_C2_N2\n",
      "Mafp_H1_C2_N3\n",
      "Mafp_H1_C2_O1\n",
      "Mafp_H1_C2_O2\n",
      "Mafp_H1_C3_H1\n",
      "Mafp_H1_C3_N1\n",
      "Mafp_H1_C3_N2\n",
      "Mafp_H1_C3_N3\n",
      "Mafp_H1_C3_O1\n",
      "Mafp_H1_C3_O2\n",
      "Mafp_H1_C4_H1\n",
      "Mafp_H1_C4_N2\n",
      "Mafp_H1_C4_N3\n",
      "Mafp_H1_C4_O1\n",
      "Mafp_H1_C4_O2\n",
      "Mafp_H1_N2_H1\n",
      "Mafp_H1_N2_N1\n",
      "Mafp_H1_N2_N2\n",
      "Mafp_H1_N2_N3\n",
      "Mafp_H1_N3_H1\n",
      "Mafp_H1_N3_N1\n",
      "Mafp_H1_N3_N2\n",
      "Mafp_H1_N3_N3\n",
      "Mafp_H1_N3_O2\n",
      "Mafp_H1_O2_H1\n",
      "Mafp_H1_O2_N2\n",
      "Mafp_H1_O2_O1\n",
      "Mafp_H1_O2_O2\n",
      "Mafp_N1_C2_N2\n",
      "Mafp_N1_C2_N3\n",
      "Mafp_N1_C2_O2\n",
      "Mafp_N1_C3_N2\n",
      "Mafp_N1_C3_N3\n",
      "Mafp_N1_C3_O1\n",
      "Mafp_N1_C3_O2\n",
      "Mafp_N1_C4_N2\n",
      "Mafp_N1_C4_N3\n",
      "Mafp_N1_C4_O2\n",
      "Mafp_N1_N2_N3\n",
      "Mafp_N1_N3_N2\n",
      "Mafp_N1_N3_N3\n",
      "Mafp_N2_C2_N2\n",
      "Mafp_N2_C2_N3\n",
      "Mafp_N2_C2_O2\n",
      "Mafp_N2_C3_N2\n",
      "Mafp_N2_C3_N3\n",
      "Mafp_N2_C3_O1\n",
      "Mafp_N2_C3_O2\n",
      "Mafp_N2_C4_N2\n",
      "Mafp_N2_C4_N3\n",
      "Mafp_N2_C4_O1\n",
      "Mafp_N2_C4_O2\n",
      "Mafp_N2_N2_N2\n",
      "Mafp_N2_N2_N3\n",
      "Mafp_N2_N2_O2\n",
      "Mafp_N2_N3_N2\n",
      "Mafp_N2_N3_N3\n",
      "Mafp_N2_N3_O2\n",
      "Mafp_N2_O2_N3\n",
      "Mafp_N3_C2_O1\n",
      "Mafp_N3_C3_N3\n",
      "Mafp_N3_C3_O1\n",
      "Mafp_N3_C3_O2\n",
      "Mafp_N3_C4_N3\n",
      "Mafp_N3_C4_O1\n",
      "Mafp_N3_C4_O2\n",
      "Mafp_N3_N2_N3\n",
      "Mafp_N3_N2_O1\n",
      "Mafp_N3_N2_O2\n",
      "Mafp_N3_N3_N3\n",
      "Mafp_N3_N3_O1\n",
      "Mafp_N3_N3_O2\n",
      "Mafp_N3_O2_N3\n",
      "Mafp_O1_C2_O1\n",
      "Mafp_O1_C2_O2\n",
      "Mafp_O1_C3_O1\n",
      "Mafp_O1_C3_O2\n",
      "Mafp_O1_C4_O1\n",
      "Mafp_O1_C4_O2\n",
      "Mafp_O1_N3_O2\n",
      "Mafp_O2_C2_O2\n",
      "Mafp_O2_C3_O2\n",
      "Mafp_O2_C4_O2\n",
      "Mafp_O2_N3_O2\n",
      "Mefp_fam_acrylate\n",
      "Mefp_fam_carbonateester\n",
      "Mefp_fam_ketone\n",
      "Mefp_fam_polyamides\n",
      "Mefp_fam_single\n",
      "Mefp_norm_mol_wt\n",
      "Mefp_numatoms_none_H\n",
      "Mefp_ring\n",
      "Mmfp_Chi0n\n",
      "Mmfp_Chi0v\n",
      "Mmfp_Chi1n\n",
      "Mmfp_Chi1v\n",
      "Mmfp_Chi2n\n",
      "Mmfp_Chi2v\n",
      "Mmfp_HallKierAlpha\n",
      "Mmfp_MQNs13\n",
      "Mmfp_MQNs14\n",
      "Mmfp_MQNs15\n",
      "Mmfp_MQNs16\n",
      "Mmfp_MQNs17\n",
      "Mmfp_MQNs18\n",
      "Mmfp_MQNs19\n",
      "Mmfp_MQNs20\n",
      "Mmfp_MQNs21\n",
      "Mmfp_MQNs22\n",
      "Mmfp_MQNs23\n",
      "Mmfp_MQNs24\n",
      "Mmfp_MQNs25\n",
      "Mmfp_MQNs26\n",
      "Mmfp_MQNs27\n",
      "Mmfp_MQNs28\n",
      "Mmfp_MQNs29\n",
      "Mmfp_MQNs30\n",
      "Mmfp_MQNs31\n",
      "Mmfp_MQNs32\n",
      "Mmfp_MQNs33\n",
      "Mmfp_MQNs34\n",
      "Mmfp_MQNs35\n",
      "Mmfp_MQNs36\n",
      "Mmfp_MQNs37\n",
      "Mmfp_MQNs38\n",
      "Mmfp_MQNs39\n",
      "Mmfp_MQNs40\n",
      "Mmfp_MQNs41\n",
      "Mmfp_MQNs42\n",
      "Mmfp_NumAliphaticRings\n",
      "Mmfp_NumAromaticRings\n",
      "Mmfp_tpsa\n",
      "norm_valence_pa\n",
      "norm_atomic_rad_pa_(angstroms)\n",
      "norm_affinity_pa_(eV)\n",
      "norm_ionization_potential_pa_(eV)\n",
      "norm_electronegativity_pa\n",
      "oh_1\n",
      "oh_2\n",
      "oh_3\n",
      "oh_4\n",
      "norm_log_pressure\n",
      "The following columns have been dropped: []\n"
     ]
    }
   ],
   "source": [
    "if not stacked:\n",
    "    ml_data, property_used, target_mean, target_std, features = ml.prepToSplit(cat_si_sd, SD_ML_DATA_PATH, \n",
    "                                            SI_ML_DATA_PATH, start_str_sd, end_str_sd, start_str_si, end_str_si, \n",
    "                                            total_frac, del_defective_mofs, add_size_fp, size_dependent, stacked, n_core, \n",
    "                                            del_geometric_fp, cat_col_names, Y_DATA_PATH)\n",
    "if stacked:\n",
    "    ml_data, property_used, target_mean, target_std, features, p_info = ml.prepToSplit(cat_si_sd, SD_ML_DATA_PATH, \n",
    "                                            SI_ML_DATA_PATH, start_str_sd, end_str_sd, start_str_si, end_str_si, \n",
    "                                            total_frac, del_defective_mofs, add_size_fp, size_dependent, stacked, n_core, \n",
    "                                            del_geometric_fp, cat_col_names, Y_DATA_PATH)"
   ]
  },
  {
   "cell_type": "code",
   "execution_count": 19,
   "metadata": {},
   "outputs": [
    {
     "data": {
      "text/html": [
       "<div>\n",
       "<style scoped>\n",
       "    .dataframe tbody tr th:only-of-type {\n",
       "        vertical-align: middle;\n",
       "    }\n",
       "\n",
       "    .dataframe tbody tr th {\n",
       "        vertical-align: top;\n",
       "    }\n",
       "\n",
       "    .dataframe thead th {\n",
       "        text-align: right;\n",
       "    }\n",
       "</style>\n",
       "<table border=\"1\" class=\"dataframe\">\n",
       "  <thead>\n",
       "    <tr style=\"text-align: right;\">\n",
       "      <th></th>\n",
       "      <th>filename</th>\n",
       "      <th>Mafp_Br1_C2_C1</th>\n",
       "      <th>Mafp_Br1_C2_C2</th>\n",
       "      <th>Mafp_Br1_C2_C3</th>\n",
       "      <th>Mafp_Br1_C3_Br1</th>\n",
       "      <th>Mafp_Br1_C3_C1</th>\n",
       "      <th>Mafp_Br1_C3_C2</th>\n",
       "      <th>Mafp_Br1_C3_C3</th>\n",
       "      <th>Mafp_Br1_C3_C4</th>\n",
       "      <th>Mafp_Br1_C3_N1</th>\n",
       "      <th>...</th>\n",
       "      <th>std_CH4_v/v_248_bar</th>\n",
       "      <th>pressure</th>\n",
       "      <th>vol_uptake</th>\n",
       "      <th>norm_vol_uptake</th>\n",
       "      <th>oh_1</th>\n",
       "      <th>oh_2</th>\n",
       "      <th>oh_3</th>\n",
       "      <th>oh_4</th>\n",
       "      <th>log_pressure</th>\n",
       "      <th>norm_log_pressure</th>\n",
       "    </tr>\n",
       "  </thead>\n",
       "  <tbody>\n",
       "    <tr>\n",
       "      <th>0</th>\n",
       "      <td>hypotheticalMOF_26354_i_1_j_17_k_12_m_3.cif</td>\n",
       "      <td>0.0</td>\n",
       "      <td>0.0</td>\n",
       "      <td>0.0</td>\n",
       "      <td>0.0</td>\n",
       "      <td>0.0</td>\n",
       "      <td>0.0</td>\n",
       "      <td>0.255556</td>\n",
       "      <td>0.0</td>\n",
       "      <td>0.0</td>\n",
       "      <td>...</td>\n",
       "      <td>81.18772</td>\n",
       "      <td>1.0</td>\n",
       "      <td>13.814959</td>\n",
       "      <td>-1.218399</td>\n",
       "      <td>1</td>\n",
       "      <td>0</td>\n",
       "      <td>0</td>\n",
       "      <td>0</td>\n",
       "      <td>0.000000</td>\n",
       "      <td>-1.568109</td>\n",
       "    </tr>\n",
       "    <tr>\n",
       "      <th>1</th>\n",
       "      <td>hypotheticalMOF_5021850_i_0_j_26_k_20_m_9.cif</td>\n",
       "      <td>0.0</td>\n",
       "      <td>0.0</td>\n",
       "      <td>0.0</td>\n",
       "      <td>0.0</td>\n",
       "      <td>0.0</td>\n",
       "      <td>0.0</td>\n",
       "      <td>0.000000</td>\n",
       "      <td>0.0</td>\n",
       "      <td>0.0</td>\n",
       "      <td>...</td>\n",
       "      <td>81.18772</td>\n",
       "      <td>100.0</td>\n",
       "      <td>187.276749</td>\n",
       "      <td>0.751626</td>\n",
       "      <td>1</td>\n",
       "      <td>0</td>\n",
       "      <td>0</td>\n",
       "      <td>0</td>\n",
       "      <td>4.605170</td>\n",
       "      <td>0.808183</td>\n",
       "    </tr>\n",
       "    <tr>\n",
       "      <th>2</th>\n",
       "      <td>hypotheticalMOF_5079671_i_2_j_28_k_14_m_9.cif</td>\n",
       "      <td>0.0</td>\n",
       "      <td>0.0</td>\n",
       "      <td>0.0</td>\n",
       "      <td>0.0</td>\n",
       "      <td>0.0</td>\n",
       "      <td>0.0</td>\n",
       "      <td>0.000000</td>\n",
       "      <td>0.0</td>\n",
       "      <td>0.0</td>\n",
       "      <td>...</td>\n",
       "      <td>81.18772</td>\n",
       "      <td>5.8</td>\n",
       "      <td>89.617874</td>\n",
       "      <td>-0.357497</td>\n",
       "      <td>1</td>\n",
       "      <td>0</td>\n",
       "      <td>0</td>\n",
       "      <td>0</td>\n",
       "      <td>1.757858</td>\n",
       "      <td>-0.661045</td>\n",
       "    </tr>\n",
       "    <tr>\n",
       "      <th>3</th>\n",
       "      <td>hypotheticalMOF_5080085_i_2_j_28_k_20_m_1.cif</td>\n",
       "      <td>0.0</td>\n",
       "      <td>0.0</td>\n",
       "      <td>0.0</td>\n",
       "      <td>0.0</td>\n",
       "      <td>0.0</td>\n",
       "      <td>0.0</td>\n",
       "      <td>0.000000</td>\n",
       "      <td>0.0</td>\n",
       "      <td>0.0</td>\n",
       "      <td>...</td>\n",
       "      <td>81.18772</td>\n",
       "      <td>100.0</td>\n",
       "      <td>210.736374</td>\n",
       "      <td>1.018059</td>\n",
       "      <td>1</td>\n",
       "      <td>0</td>\n",
       "      <td>0</td>\n",
       "      <td>0</td>\n",
       "      <td>4.605170</td>\n",
       "      <td>0.808183</td>\n",
       "    </tr>\n",
       "    <tr>\n",
       "      <th>4</th>\n",
       "      <td>hypotheticalMOF_7185_i_0_j_11_k_5_m_4_cat_1.cif</td>\n",
       "      <td>0.0</td>\n",
       "      <td>0.0</td>\n",
       "      <td>0.0</td>\n",
       "      <td>0.0</td>\n",
       "      <td>0.0</td>\n",
       "      <td>0.0</td>\n",
       "      <td>0.000000</td>\n",
       "      <td>0.0</td>\n",
       "      <td>0.0</td>\n",
       "      <td>...</td>\n",
       "      <td>81.18772</td>\n",
       "      <td>1.0</td>\n",
       "      <td>10.484447</td>\n",
       "      <td>-1.256224</td>\n",
       "      <td>0</td>\n",
       "      <td>1</td>\n",
       "      <td>0</td>\n",
       "      <td>0</td>\n",
       "      <td>0.000000</td>\n",
       "      <td>-1.568109</td>\n",
       "    </tr>\n",
       "  </tbody>\n",
       "</table>\n",
       "<p>5 rows × 478 columns</p>\n",
       "</div>"
      ],
      "text/plain": [
       "                                          filename  Mafp_Br1_C2_C1  \\\n",
       "0      hypotheticalMOF_26354_i_1_j_17_k_12_m_3.cif             0.0   \n",
       "1    hypotheticalMOF_5021850_i_0_j_26_k_20_m_9.cif             0.0   \n",
       "2    hypotheticalMOF_5079671_i_2_j_28_k_14_m_9.cif             0.0   \n",
       "3    hypotheticalMOF_5080085_i_2_j_28_k_20_m_1.cif             0.0   \n",
       "4  hypotheticalMOF_7185_i_0_j_11_k_5_m_4_cat_1.cif             0.0   \n",
       "\n",
       "   Mafp_Br1_C2_C2  Mafp_Br1_C2_C3  Mafp_Br1_C3_Br1  Mafp_Br1_C3_C1  \\\n",
       "0             0.0             0.0              0.0             0.0   \n",
       "1             0.0             0.0              0.0             0.0   \n",
       "2             0.0             0.0              0.0             0.0   \n",
       "3             0.0             0.0              0.0             0.0   \n",
       "4             0.0             0.0              0.0             0.0   \n",
       "\n",
       "   Mafp_Br1_C3_C2  Mafp_Br1_C3_C3  Mafp_Br1_C3_C4  Mafp_Br1_C3_N1  ...  \\\n",
       "0             0.0        0.255556             0.0             0.0  ...   \n",
       "1             0.0        0.000000             0.0             0.0  ...   \n",
       "2             0.0        0.000000             0.0             0.0  ...   \n",
       "3             0.0        0.000000             0.0             0.0  ...   \n",
       "4             0.0        0.000000             0.0             0.0  ...   \n",
       "\n",
       "   std_CH4_v/v_248_bar  pressure  vol_uptake  norm_vol_uptake  oh_1  oh_2  \\\n",
       "0             81.18772       1.0   13.814959        -1.218399     1     0   \n",
       "1             81.18772     100.0  187.276749         0.751626     1     0   \n",
       "2             81.18772       5.8   89.617874        -0.357497     1     0   \n",
       "3             81.18772     100.0  210.736374         1.018059     1     0   \n",
       "4             81.18772       1.0   10.484447        -1.256224     0     1   \n",
       "\n",
       "   oh_3  oh_4  log_pressure  norm_log_pressure  \n",
       "0     0     0      0.000000          -1.568109  \n",
       "1     0     0      4.605170           0.808183  \n",
       "2     0     0      1.757858          -0.661045  \n",
       "3     0     0      4.605170           0.808183  \n",
       "4     0     0      0.000000          -1.568109  \n",
       "\n",
       "[5 rows x 478 columns]"
      ]
     },
     "execution_count": 19,
     "metadata": {},
     "output_type": "execute_result"
    }
   ],
   "source": [
    "ml_data.head()"
   ]
  },
  {
   "cell_type": "code",
   "execution_count": 20,
   "metadata": {
    "scrolled": true
   },
   "outputs": [
    {
     "name": "stdout",
     "output_type": "stream",
     "text": [
      "Total len of test_df + train_df: 53343\n"
     ]
    }
   ],
   "source": [
    "train_df, test_df= ml.trainTestSplit(ml_data, property_used, training_pct, stacked, \n",
    "                                     n_core, random_split, n_remote, features, USE_PCA, N_COMPONENTS)"
   ]
  },
  {
   "cell_type": "code",
   "execution_count": 21,
   "metadata": {},
   "outputs": [],
   "source": [
    "if algo == 'xgb':\n",
    "    train_d, test_d, train_label, test_label = ml.alter_dtype(train_df, test_df, property_used, n_core, algo, features)\n",
    "else:\n",
    "    train_d, test_d, train_label, test_label = ml.alter_dtype(train_df, test_df, property_used, n_core, algo, features)"
   ]
  },
  {
   "cell_type": "code",
   "execution_count": 22,
   "metadata": {},
   "outputs": [
    {
     "data": {
      "text/plain": [
       "53343"
      ]
     },
     "execution_count": 22,
     "metadata": {},
     "output_type": "execute_result"
    }
   ],
   "source": [
    "len(train_label) + len(test_label)"
   ]
  },
  {
   "cell_type": "markdown",
   "metadata": {},
   "source": [
    "# Run Single Model"
   ]
  },
  {
   "cell_type": "markdown",
   "metadata": {},
   "source": [
    "Good parameters"
   ]
  },
  {
   "cell_type": "code",
   "execution_count": 28,
   "metadata": {},
   "outputs": [
    {
     "name": "stdout",
     "output_type": "stream",
     "text": [
      "Train on 29876 samples, validate on 7469 samples\n",
      "Epoch 1/1000\n",
      "29760/29876 [============================>.] - ETA: 0s - loss: 0.1843 - mae: 0.3093 - mse: 0.1843\n",
      "Epoch 00001: val_loss improved from inf to 0.13962, saving model to model_checkpoint.h5\n",
      "\n",
      "Epoch: 0, loss:0.1843,  mae:0.3092,  mse:0.1843,  val_loss:0.1396,  val_mae:0.2720,  val_mse:0.1396,  \n",
      "29876/29876 [==============================] - 4s 120us/sample - loss: 0.1843 - mae: 0.3092 - mse: 0.1843 - val_loss: 0.1396 - val_mae: 0.2720 - val_mse: 0.1396\n",
      "Epoch 2/1000\n",
      " 3488/29876 [==>...........................] - ETA: 2s - loss: 0.1246 - mae: 0.2500 - mse: 0.1246"
     ]
    },
    {
     "name": "stderr",
     "output_type": "stream",
     "text": [
      "W0412 18:34:19.395685 139760761788160 callbacks.py:1286] Early stopping conditioned on metric `val_loss` which is not available. Available metrics are: loss,mae,mse\n",
      "W0412 18:34:19.396519 139760761788160 callbacks.py:1018] Can save best model only with val_loss available, skipping.\n"
     ]
    },
    {
     "name": "stdout",
     "output_type": "stream",
     "text": [
      "."
     ]
    },
    {
     "ename": "KeyboardInterrupt",
     "evalue": "",
     "output_type": "error",
     "traceback": [
      "\u001b[0;31m---------------------------------------------------------------------------\u001b[0m",
      "\u001b[0;31mKeyboardInterrupt\u001b[0m                         Traceback (most recent call last)",
      "\u001b[0;32m<ipython-input-28-b563ee1bb547>\u001b[0m in \u001b[0;36m<module>\u001b[0;34m\u001b[0m\n\u001b[1;32m      6\u001b[0m        \u001b[0;34m'alpha'\u001b[0m\u001b[0;34m:\u001b[0m \u001b[0;36m2\u001b[0m\u001b[0;34m,\u001b[0m\u001b[0;34m\u001b[0m\u001b[0;34m\u001b[0m\u001b[0m\n\u001b[1;32m      7\u001b[0m        'n_estimators': 10}\n\u001b[0;32m----> 8\u001b[0;31m \u001b[0mMODEL\u001b[0m \u001b[0;34m=\u001b[0m \u001b[0mml\u001b[0m\u001b[0;34m.\u001b[0m\u001b[0mrun_model\u001b[0m\u001b[0;34m(\u001b[0m\u001b[0malgo\u001b[0m\u001b[0;34m,\u001b[0m \u001b[0mtrain_d\u001b[0m\u001b[0;34m,\u001b[0m \u001b[0mn_trees\u001b[0m\u001b[0;34m,\u001b[0m \u001b[0mparams\u001b[0m\u001b[0;34m)\u001b[0m\u001b[0;34m\u001b[0m\u001b[0;34m\u001b[0m\u001b[0m\n\u001b[0m\u001b[1;32m      9\u001b[0m \u001b[0mml\u001b[0m\u001b[0;34m.\u001b[0m\u001b[0mparity_plot\u001b[0m\u001b[0;34m(\u001b[0m\u001b[0mMODEL\u001b[0m\u001b[0;34m,\u001b[0m \u001b[0mtrain_d\u001b[0m\u001b[0;34m,\u001b[0m \u001b[0mtest_d\u001b[0m\u001b[0;34m,\u001b[0m \u001b[0mstacked\u001b[0m\u001b[0;34m,\u001b[0m \u001b[0malgo\u001b[0m\u001b[0;34m,\u001b[0m \u001b[0mtarget_mean\u001b[0m\u001b[0;34m,\u001b[0m \u001b[0mtarget_std\u001b[0m\u001b[0;34m,\u001b[0m \u001b[0mproperty_used\u001b[0m\u001b[0;34m,\u001b[0m \u001b[0mtest_label\u001b[0m\u001b[0;34m,\u001b[0m \u001b[0mtrain_label\u001b[0m\u001b[0;34m,\u001b[0m \u001b[0msave\u001b[0m\u001b[0;34m=\u001b[0m\u001b[0mSAVE_FIG\u001b[0m\u001b[0;34m)\u001b[0m\u001b[0;34m\u001b[0m\u001b[0;34m\u001b[0m\u001b[0m\n",
      "\u001b[0;32m~/py_scripts/efrc_ml_production.py\u001b[0m in \u001b[0;36mrun_model\u001b[0;34m(algo, train_d, n_trees, params, n_core)\u001b[0m\n\u001b[1;32m    490\u001b[0m         early_history = model.fit(fp, label, batch_size=32,\n\u001b[1;32m    491\u001b[0m                             \u001b[0mepochs\u001b[0m\u001b[0;34m=\u001b[0m\u001b[0mEPOCHS\u001b[0m\u001b[0;34m,\u001b[0m \u001b[0mvalidation_split\u001b[0m \u001b[0;34m=\u001b[0m \u001b[0;36m0.2\u001b[0m\u001b[0;34m,\u001b[0m \u001b[0mverbose\u001b[0m\u001b[0;34m=\u001b[0m\u001b[0;36m1\u001b[0m\u001b[0;34m,\u001b[0m\u001b[0;31m\\\u001b[0m\u001b[0;34m\u001b[0m\u001b[0;34m\u001b[0m\u001b[0m\n\u001b[0;32m--> 492\u001b[0;31m                                   callbacks=[early_stop,checkpoint_callbacks,tfdocs.modeling.EpochDots(),tensorboard_callback])\n\u001b[0m\u001b[1;32m    493\u001b[0m         \u001b[0;31m##############################################\u001b[0m\u001b[0;34m\u001b[0m\u001b[0;34m\u001b[0m\u001b[0;34m\u001b[0m\u001b[0m\n\u001b[1;32m    494\u001b[0m     \u001b[0mend\u001b[0m \u001b[0;34m=\u001b[0m \u001b[0mtime\u001b[0m\u001b[0;34m.\u001b[0m\u001b[0mtime\u001b[0m\u001b[0;34m(\u001b[0m\u001b[0;34m)\u001b[0m\u001b[0;34m\u001b[0m\u001b[0;34m\u001b[0m\u001b[0m\n",
      "\u001b[0;32m~/.local/lib/python3.7/site-packages/tensorflow_core/python/keras/engine/training.py\u001b[0m in \u001b[0;36mfit\u001b[0;34m(self, x, y, batch_size, epochs, verbose, callbacks, validation_split, validation_data, shuffle, class_weight, sample_weight, initial_epoch, steps_per_epoch, validation_steps, validation_freq, max_queue_size, workers, use_multiprocessing, **kwargs)\u001b[0m\n\u001b[1;32m    817\u001b[0m         \u001b[0mmax_queue_size\u001b[0m\u001b[0;34m=\u001b[0m\u001b[0mmax_queue_size\u001b[0m\u001b[0;34m,\u001b[0m\u001b[0;34m\u001b[0m\u001b[0;34m\u001b[0m\u001b[0m\n\u001b[1;32m    818\u001b[0m         \u001b[0mworkers\u001b[0m\u001b[0;34m=\u001b[0m\u001b[0mworkers\u001b[0m\u001b[0;34m,\u001b[0m\u001b[0;34m\u001b[0m\u001b[0;34m\u001b[0m\u001b[0m\n\u001b[0;32m--> 819\u001b[0;31m         use_multiprocessing=use_multiprocessing)\n\u001b[0m\u001b[1;32m    820\u001b[0m \u001b[0;34m\u001b[0m\u001b[0m\n\u001b[1;32m    821\u001b[0m   def evaluate(self,\n",
      "\u001b[0;32m~/.local/lib/python3.7/site-packages/tensorflow_core/python/keras/engine/training_v2.py\u001b[0m in \u001b[0;36mfit\u001b[0;34m(self, model, x, y, batch_size, epochs, verbose, callbacks, validation_split, validation_data, shuffle, class_weight, sample_weight, initial_epoch, steps_per_epoch, validation_steps, validation_freq, max_queue_size, workers, use_multiprocessing, **kwargs)\u001b[0m\n\u001b[1;32m    340\u001b[0m                 \u001b[0mmode\u001b[0m\u001b[0;34m=\u001b[0m\u001b[0mModeKeys\u001b[0m\u001b[0;34m.\u001b[0m\u001b[0mTRAIN\u001b[0m\u001b[0;34m,\u001b[0m\u001b[0;34m\u001b[0m\u001b[0;34m\u001b[0m\u001b[0m\n\u001b[1;32m    341\u001b[0m                 \u001b[0mtraining_context\u001b[0m\u001b[0;34m=\u001b[0m\u001b[0mtraining_context\u001b[0m\u001b[0;34m,\u001b[0m\u001b[0;34m\u001b[0m\u001b[0;34m\u001b[0m\u001b[0m\n\u001b[0;32m--> 342\u001b[0;31m                 total_epochs=epochs)\n\u001b[0m\u001b[1;32m    343\u001b[0m             \u001b[0mcbks\u001b[0m\u001b[0;34m.\u001b[0m\u001b[0mmake_logs\u001b[0m\u001b[0;34m(\u001b[0m\u001b[0mmodel\u001b[0m\u001b[0;34m,\u001b[0m \u001b[0mepoch_logs\u001b[0m\u001b[0;34m,\u001b[0m \u001b[0mtraining_result\u001b[0m\u001b[0;34m,\u001b[0m \u001b[0mModeKeys\u001b[0m\u001b[0;34m.\u001b[0m\u001b[0mTRAIN\u001b[0m\u001b[0;34m)\u001b[0m\u001b[0;34m\u001b[0m\u001b[0;34m\u001b[0m\u001b[0m\n\u001b[1;32m    344\u001b[0m \u001b[0;34m\u001b[0m\u001b[0m\n",
      "\u001b[0;32m~/.local/lib/python3.7/site-packages/tensorflow_core/python/keras/engine/training_v2.py\u001b[0m in \u001b[0;36mrun_one_epoch\u001b[0;34m(model, iterator, execution_function, dataset_size, batch_size, strategy, steps_per_epoch, num_samples, mode, training_context, total_epochs)\u001b[0m\n\u001b[1;32m    126\u001b[0m         step=step, mode=mode, size=current_batch_size) as batch_logs:\n\u001b[1;32m    127\u001b[0m       \u001b[0;32mtry\u001b[0m\u001b[0;34m:\u001b[0m\u001b[0;34m\u001b[0m\u001b[0;34m\u001b[0m\u001b[0m\n\u001b[0;32m--> 128\u001b[0;31m         \u001b[0mbatch_outs\u001b[0m \u001b[0;34m=\u001b[0m \u001b[0mexecution_function\u001b[0m\u001b[0;34m(\u001b[0m\u001b[0miterator\u001b[0m\u001b[0;34m)\u001b[0m\u001b[0;34m\u001b[0m\u001b[0;34m\u001b[0m\u001b[0m\n\u001b[0m\u001b[1;32m    129\u001b[0m       \u001b[0;32mexcept\u001b[0m \u001b[0;34m(\u001b[0m\u001b[0mStopIteration\u001b[0m\u001b[0;34m,\u001b[0m \u001b[0merrors\u001b[0m\u001b[0;34m.\u001b[0m\u001b[0mOutOfRangeError\u001b[0m\u001b[0;34m)\u001b[0m\u001b[0;34m:\u001b[0m\u001b[0;34m\u001b[0m\u001b[0;34m\u001b[0m\u001b[0m\n\u001b[1;32m    130\u001b[0m         \u001b[0;31m# TODO(kaftan): File bug about tf function and errors.OutOfRangeError?\u001b[0m\u001b[0;34m\u001b[0m\u001b[0;34m\u001b[0m\u001b[0;34m\u001b[0m\u001b[0m\n",
      "\u001b[0;32m~/.local/lib/python3.7/site-packages/tensorflow_core/python/keras/engine/training_v2_utils.py\u001b[0m in \u001b[0;36mexecution_function\u001b[0;34m(input_fn)\u001b[0m\n\u001b[1;32m     96\u001b[0m     \u001b[0;31m# `numpy` translates Tensors to values in Eager mode.\u001b[0m\u001b[0;34m\u001b[0m\u001b[0;34m\u001b[0m\u001b[0;34m\u001b[0m\u001b[0m\n\u001b[1;32m     97\u001b[0m     return nest.map_structure(_non_none_constant_value,\n\u001b[0;32m---> 98\u001b[0;31m                               distributed_function(input_fn))\n\u001b[0m\u001b[1;32m     99\u001b[0m \u001b[0;34m\u001b[0m\u001b[0m\n\u001b[1;32m    100\u001b[0m   \u001b[0;32mreturn\u001b[0m \u001b[0mexecution_function\u001b[0m\u001b[0;34m\u001b[0m\u001b[0;34m\u001b[0m\u001b[0m\n",
      "\u001b[0;32m~/.local/lib/python3.7/site-packages/tensorflow_core/python/eager/def_function.py\u001b[0m in \u001b[0;36m__call__\u001b[0;34m(self, *args, **kwds)\u001b[0m\n\u001b[1;32m    566\u001b[0m         \u001b[0mxla_context\u001b[0m\u001b[0;34m.\u001b[0m\u001b[0mExit\u001b[0m\u001b[0;34m(\u001b[0m\u001b[0;34m)\u001b[0m\u001b[0;34m\u001b[0m\u001b[0;34m\u001b[0m\u001b[0m\n\u001b[1;32m    567\u001b[0m     \u001b[0;32melse\u001b[0m\u001b[0;34m:\u001b[0m\u001b[0;34m\u001b[0m\u001b[0;34m\u001b[0m\u001b[0m\n\u001b[0;32m--> 568\u001b[0;31m       \u001b[0mresult\u001b[0m \u001b[0;34m=\u001b[0m \u001b[0mself\u001b[0m\u001b[0;34m.\u001b[0m\u001b[0m_call\u001b[0m\u001b[0;34m(\u001b[0m\u001b[0;34m*\u001b[0m\u001b[0margs\u001b[0m\u001b[0;34m,\u001b[0m \u001b[0;34m**\u001b[0m\u001b[0mkwds\u001b[0m\u001b[0;34m)\u001b[0m\u001b[0;34m\u001b[0m\u001b[0;34m\u001b[0m\u001b[0m\n\u001b[0m\u001b[1;32m    569\u001b[0m \u001b[0;34m\u001b[0m\u001b[0m\n\u001b[1;32m    570\u001b[0m     \u001b[0;32mif\u001b[0m \u001b[0mtracing_count\u001b[0m \u001b[0;34m==\u001b[0m \u001b[0mself\u001b[0m\u001b[0;34m.\u001b[0m\u001b[0m_get_tracing_count\u001b[0m\u001b[0;34m(\u001b[0m\u001b[0;34m)\u001b[0m\u001b[0;34m:\u001b[0m\u001b[0;34m\u001b[0m\u001b[0;34m\u001b[0m\u001b[0m\n",
      "\u001b[0;32m~/.local/lib/python3.7/site-packages/tensorflow_core/python/eager/def_function.py\u001b[0m in \u001b[0;36m_call\u001b[0;34m(self, *args, **kwds)\u001b[0m\n\u001b[1;32m    597\u001b[0m       \u001b[0;31m# In this case we have created variables on the first call, so we run the\u001b[0m\u001b[0;34m\u001b[0m\u001b[0;34m\u001b[0m\u001b[0;34m\u001b[0m\u001b[0m\n\u001b[1;32m    598\u001b[0m       \u001b[0;31m# defunned version which is guaranteed to never create variables.\u001b[0m\u001b[0;34m\u001b[0m\u001b[0;34m\u001b[0m\u001b[0;34m\u001b[0m\u001b[0m\n\u001b[0;32m--> 599\u001b[0;31m       \u001b[0;32mreturn\u001b[0m \u001b[0mself\u001b[0m\u001b[0;34m.\u001b[0m\u001b[0m_stateless_fn\u001b[0m\u001b[0;34m(\u001b[0m\u001b[0;34m*\u001b[0m\u001b[0margs\u001b[0m\u001b[0;34m,\u001b[0m \u001b[0;34m**\u001b[0m\u001b[0mkwds\u001b[0m\u001b[0;34m)\u001b[0m  \u001b[0;31m# pylint: disable=not-callable\u001b[0m\u001b[0;34m\u001b[0m\u001b[0;34m\u001b[0m\u001b[0m\n\u001b[0m\u001b[1;32m    600\u001b[0m     \u001b[0;32melif\u001b[0m \u001b[0mself\u001b[0m\u001b[0;34m.\u001b[0m\u001b[0m_stateful_fn\u001b[0m \u001b[0;32mis\u001b[0m \u001b[0;32mnot\u001b[0m \u001b[0;32mNone\u001b[0m\u001b[0;34m:\u001b[0m\u001b[0;34m\u001b[0m\u001b[0;34m\u001b[0m\u001b[0m\n\u001b[1;32m    601\u001b[0m       \u001b[0;31m# Release the lock early so that multiple threads can perform the call\u001b[0m\u001b[0;34m\u001b[0m\u001b[0;34m\u001b[0m\u001b[0;34m\u001b[0m\u001b[0m\n",
      "\u001b[0;32m~/.local/lib/python3.7/site-packages/tensorflow_core/python/eager/function.py\u001b[0m in \u001b[0;36m__call__\u001b[0;34m(self, *args, **kwargs)\u001b[0m\n\u001b[1;32m   2361\u001b[0m     \u001b[0;32mwith\u001b[0m \u001b[0mself\u001b[0m\u001b[0;34m.\u001b[0m\u001b[0m_lock\u001b[0m\u001b[0;34m:\u001b[0m\u001b[0;34m\u001b[0m\u001b[0;34m\u001b[0m\u001b[0m\n\u001b[1;32m   2362\u001b[0m       \u001b[0mgraph_function\u001b[0m\u001b[0;34m,\u001b[0m \u001b[0margs\u001b[0m\u001b[0;34m,\u001b[0m \u001b[0mkwargs\u001b[0m \u001b[0;34m=\u001b[0m \u001b[0mself\u001b[0m\u001b[0;34m.\u001b[0m\u001b[0m_maybe_define_function\u001b[0m\u001b[0;34m(\u001b[0m\u001b[0margs\u001b[0m\u001b[0;34m,\u001b[0m \u001b[0mkwargs\u001b[0m\u001b[0;34m)\u001b[0m\u001b[0;34m\u001b[0m\u001b[0;34m\u001b[0m\u001b[0m\n\u001b[0;32m-> 2363\u001b[0;31m     \u001b[0;32mreturn\u001b[0m \u001b[0mgraph_function\u001b[0m\u001b[0;34m.\u001b[0m\u001b[0m_filtered_call\u001b[0m\u001b[0;34m(\u001b[0m\u001b[0margs\u001b[0m\u001b[0;34m,\u001b[0m \u001b[0mkwargs\u001b[0m\u001b[0;34m)\u001b[0m  \u001b[0;31m# pylint: disable=protected-access\u001b[0m\u001b[0;34m\u001b[0m\u001b[0;34m\u001b[0m\u001b[0m\n\u001b[0m\u001b[1;32m   2364\u001b[0m \u001b[0;34m\u001b[0m\u001b[0m\n\u001b[1;32m   2365\u001b[0m   \u001b[0;34m@\u001b[0m\u001b[0mproperty\u001b[0m\u001b[0;34m\u001b[0m\u001b[0;34m\u001b[0m\u001b[0m\n",
      "\u001b[0;32m~/.local/lib/python3.7/site-packages/tensorflow_core/python/eager/function.py\u001b[0m in \u001b[0;36m_filtered_call\u001b[0;34m(self, args, kwargs)\u001b[0m\n\u001b[1;32m   1609\u001b[0m          if isinstance(t, (ops.Tensor,\n\u001b[1;32m   1610\u001b[0m                            resource_variable_ops.BaseResourceVariable))),\n\u001b[0;32m-> 1611\u001b[0;31m         self.captured_inputs)\n\u001b[0m\u001b[1;32m   1612\u001b[0m \u001b[0;34m\u001b[0m\u001b[0m\n\u001b[1;32m   1613\u001b[0m   \u001b[0;32mdef\u001b[0m \u001b[0m_call_flat\u001b[0m\u001b[0;34m(\u001b[0m\u001b[0mself\u001b[0m\u001b[0;34m,\u001b[0m \u001b[0margs\u001b[0m\u001b[0;34m,\u001b[0m \u001b[0mcaptured_inputs\u001b[0m\u001b[0;34m,\u001b[0m \u001b[0mcancellation_manager\u001b[0m\u001b[0;34m=\u001b[0m\u001b[0;32mNone\u001b[0m\u001b[0;34m)\u001b[0m\u001b[0;34m:\u001b[0m\u001b[0;34m\u001b[0m\u001b[0;34m\u001b[0m\u001b[0m\n",
      "\u001b[0;32m~/.local/lib/python3.7/site-packages/tensorflow_core/python/eager/function.py\u001b[0m in \u001b[0;36m_call_flat\u001b[0;34m(self, args, captured_inputs, cancellation_manager)\u001b[0m\n\u001b[1;32m   1690\u001b[0m       \u001b[0;31m# No tape is watching; skip to running the function.\u001b[0m\u001b[0;34m\u001b[0m\u001b[0;34m\u001b[0m\u001b[0;34m\u001b[0m\u001b[0m\n\u001b[1;32m   1691\u001b[0m       return self._build_call_outputs(self._inference_function.call(\n\u001b[0;32m-> 1692\u001b[0;31m           ctx, args, cancellation_manager=cancellation_manager))\n\u001b[0m\u001b[1;32m   1693\u001b[0m     forward_backward = self._select_forward_and_backward_functions(\n\u001b[1;32m   1694\u001b[0m         \u001b[0margs\u001b[0m\u001b[0;34m,\u001b[0m\u001b[0;34m\u001b[0m\u001b[0;34m\u001b[0m\u001b[0m\n",
      "\u001b[0;32m~/.local/lib/python3.7/site-packages/tensorflow_core/python/eager/function.py\u001b[0m in \u001b[0;36mcall\u001b[0;34m(self, ctx, args, cancellation_manager)\u001b[0m\n\u001b[1;32m    543\u001b[0m               \u001b[0minputs\u001b[0m\u001b[0;34m=\u001b[0m\u001b[0margs\u001b[0m\u001b[0;34m,\u001b[0m\u001b[0;34m\u001b[0m\u001b[0;34m\u001b[0m\u001b[0m\n\u001b[1;32m    544\u001b[0m               \u001b[0mattrs\u001b[0m\u001b[0;34m=\u001b[0m\u001b[0;34m(\u001b[0m\u001b[0;34m\"executor_type\"\u001b[0m\u001b[0;34m,\u001b[0m \u001b[0mexecutor_type\u001b[0m\u001b[0;34m,\u001b[0m \u001b[0;34m\"config_proto\"\u001b[0m\u001b[0;34m,\u001b[0m \u001b[0mconfig\u001b[0m\u001b[0;34m)\u001b[0m\u001b[0;34m,\u001b[0m\u001b[0;34m\u001b[0m\u001b[0;34m\u001b[0m\u001b[0m\n\u001b[0;32m--> 545\u001b[0;31m               ctx=ctx)\n\u001b[0m\u001b[1;32m    546\u001b[0m         \u001b[0;32melse\u001b[0m\u001b[0;34m:\u001b[0m\u001b[0;34m\u001b[0m\u001b[0;34m\u001b[0m\u001b[0m\n\u001b[1;32m    547\u001b[0m           outputs = execute.execute_with_cancellation(\n",
      "\u001b[0;32m~/.local/lib/python3.7/site-packages/tensorflow_core/python/eager/execute.py\u001b[0m in \u001b[0;36mquick_execute\u001b[0;34m(op_name, num_outputs, inputs, attrs, ctx, name)\u001b[0m\n\u001b[1;32m     59\u001b[0m     tensors = pywrap_tensorflow.TFE_Py_Execute(ctx._handle, device_name,\n\u001b[1;32m     60\u001b[0m                                                \u001b[0mop_name\u001b[0m\u001b[0;34m,\u001b[0m \u001b[0minputs\u001b[0m\u001b[0;34m,\u001b[0m \u001b[0mattrs\u001b[0m\u001b[0;34m,\u001b[0m\u001b[0;34m\u001b[0m\u001b[0;34m\u001b[0m\u001b[0m\n\u001b[0;32m---> 61\u001b[0;31m                                                num_outputs)\n\u001b[0m\u001b[1;32m     62\u001b[0m   \u001b[0;32mexcept\u001b[0m \u001b[0mcore\u001b[0m\u001b[0;34m.\u001b[0m\u001b[0m_NotOkStatusException\u001b[0m \u001b[0;32mas\u001b[0m \u001b[0me\u001b[0m\u001b[0;34m:\u001b[0m\u001b[0;34m\u001b[0m\u001b[0;34m\u001b[0m\u001b[0m\n\u001b[1;32m     63\u001b[0m     \u001b[0;32mif\u001b[0m \u001b[0mname\u001b[0m \u001b[0;32mis\u001b[0m \u001b[0;32mnot\u001b[0m \u001b[0;32mNone\u001b[0m\u001b[0;34m:\u001b[0m\u001b[0;34m\u001b[0m\u001b[0;34m\u001b[0m\u001b[0m\n",
      "\u001b[0;31mKeyboardInterrupt\u001b[0m: "
     ]
    }
   ],
   "source": [
    "SAVE_FIG = False\n",
    "params = {'objective': 'reg:squarederror',\n",
    "       'colsample_bytree': 0.5,\n",
    "       'learning_rate': 0.15,\n",
    "       'max_depth': 10,\n",
    "       'alpha': 2,\n",
    "       'n_estimators': 10}\n",
    "MODEL = ml.run_model(algo, train_d, n_trees, params)\n",
    "ml.parity_plot(MODEL, train_d, test_d, stacked, algo, target_mean, target_std, property_used, test_label, train_label, save=SAVE_FIG)"
   ]
  },
  {
   "cell_type": "code",
   "execution_count": null,
   "metadata": {},
   "outputs": [],
   "source": []
  },
  {
   "cell_type": "code",
   "execution_count": null,
   "metadata": {},
   "outputs": [],
   "source": []
  },
  {
   "cell_type": "code",
   "execution_count": 42,
   "metadata": {},
   "outputs": [
    {
     "data": {
      "text/plain": [
       "'07:05PM_on_April_11_2020'"
      ]
     },
     "execution_count": 42,
     "metadata": {},
     "output_type": "execute_result"
    }
   ],
   "source": [
    "now = datetime.datetime.now().strftime(\"%I:%M%p_on_%B_%d_%Y\")\n",
    "now"
   ]
  },
  {
   "cell_type": "code",
   "execution_count": null,
   "metadata": {},
   "outputs": [],
   "source": [
    "SAVE_FIG = True"
   ]
  },
  {
   "cell_type": "code",
   "execution_count": null,
   "metadata": {},
   "outputs": [],
   "source": [
    "ml.parity_plot(MODEL, train_d, test_d, stacked, algo, target_mean, target_std, property_used, test_label, train_label, save=SAVE_FIG, fname=now)"
   ]
  },
  {
   "cell_type": "code",
   "execution_count": null,
   "metadata": {},
   "outputs": [],
   "source": [
    "#only run below to save"
   ]
  },
  {
   "cell_type": "code",
   "execution_count": null,
   "metadata": {},
   "outputs": [],
   "source": [
    "if algo=='xgb':\n",
    "    MODEL.save_model('/data/rgur/efrc/ml/models/%s/%s.xgb' %(now, now))\n",
    "else:\n",
    "    MODEL.save('/data/rgur/efrc/ml/models/%s/%s.h5' %(now, now),save_format='h5')"
   ]
  },
  {
   "cell_type": "code",
   "execution_count": 85,
   "metadata": {},
   "outputs": [
    {
     "name": "stderr",
     "output_type": "stream",
     "text": [
      "/home/modules/anaconda3/lib/python3.7/site-packages/ipykernel_launcher.py:1: FutureWarning: The signature of `Series.to_csv` was aligned to that of `DataFrame.to_csv`, and argument 'header' will change its default value from False to True: please pass an explicit value to suppress this warning.\n",
      "  \"\"\"Entry point for launching an IPython kernel.\n"
     ]
    }
   ],
   "source": [
    "train_df['filename'].to_csv('/data/rgur/efrc/ml/models/%s/train_%s.csv' %(now, now))"
   ]
  },
  {
   "cell_type": "code",
   "execution_count": 86,
   "metadata": {},
   "outputs": [
    {
     "name": "stderr",
     "output_type": "stream",
     "text": [
      "/home/modules/anaconda3/lib/python3.7/site-packages/ipykernel_launcher.py:1: FutureWarning: The signature of `Series.to_csv` was aligned to that of `DataFrame.to_csv`, and argument 'header' will change its default value from False to True: please pass an explicit value to suppress this warning.\n",
      "  \"\"\"Entry point for launching an IPython kernel.\n"
     ]
    }
   ],
   "source": [
    "test_df['filename'].to_csv('/data/rgur/efrc/ml/models/%s/test_%s.csv' %(now, now))"
   ]
  },
  {
   "cell_type": "code",
   "execution_count": 87,
   "metadata": {},
   "outputs": [],
   "source": [
    "import pickle"
   ]
  },
  {
   "cell_type": "code",
   "execution_count": 88,
   "metadata": {},
   "outputs": [],
   "source": [
    "with open('/data/rgur/efrc/ml/models/%s/features_%s.pkl' %(now, now), 'wb') as f:\n",
    "    pickle.dump(features, f, protocol=3)"
   ]
  },
  {
   "cell_type": "markdown",
   "metadata": {},
   "source": [
    "# Get inds of defective MOFs and plot"
   ]
  },
  {
   "cell_type": "code",
   "execution_count": null,
   "metadata": {
    "scrolled": true
   },
   "outputs": [],
   "source": [
    "ml_data, property_used, target_mean, target_std = ml.prepToSplit(ML_DATA_PATH, start_str, end_str, total_frac, \n",
    "                                        del_defective_mofs, add_size_fp, size_dependent, stacked, n_core, \n",
    "                                        del_geometric_fp, cat_col_names, Y_DATA_PATH)"
   ]
  },
  {
   "cell_type": "code",
   "execution_count": null,
   "metadata": {},
   "outputs": [],
   "source": [
    "train_df, test_df = ml.trainTestSplit(ml_data, property_used, training_pct, stacked, n_core, random_split, n_remote)"
   ]
  },
  {
   "cell_type": "code",
   "execution_count": null,
   "metadata": {},
   "outputs": [],
   "source": [
    "check_cols = ['Dom._Pore_(ang.)',\n",
    "             'Max._Pore_(ang.)',\n",
    "             'Void_Fraction',\n",
    "             'Surf._Area_(m2/g)',\n",
    "             'Vol._Surf._Area',\n",
    "             'Density']\n",
    "to_drop = test_df[(test_df[check_cols].T == 0).any()].index"
   ]
  },
  {
   "cell_type": "code",
   "execution_count": null,
   "metadata": {},
   "outputs": [],
   "source": [
    "to_drop"
   ]
  },
  {
   "cell_type": "code",
   "execution_count": null,
   "metadata": {},
   "outputs": [],
   "source": [
    "train_d, test_d, train_label, test_label = ml.alter_dtype(train_df, test_df, property_used, n_core, algo)"
   ]
  },
  {
   "cell_type": "code",
   "execution_count": null,
   "metadata": {},
   "outputs": [],
   "source": [
    "len(train_label) + len(test_label)"
   ]
  },
  {
   "cell_type": "code",
   "execution_count": null,
   "metadata": {},
   "outputs": [],
   "source": [
    "params = {'objective': 'reg:linear',\n",
    "   'colsample_bytree': 0.5,\n",
    "   'learning_rate': 0.15,\n",
    "   'max_depth': 10,\n",
    "   'alpha': 2,\n",
    "   'n_estimators': 10}\n",
    "MODEL = ml.run_model(algo, n_trees, params)"
   ]
  },
  {
   "cell_type": "code",
   "execution_count": null,
   "metadata": {},
   "outputs": [],
   "source": [
    "now = datetime.datetime.now().strftime(\"%I:%M%p_on_%B_%d_%Y\")\n",
    "now"
   ]
  },
  {
   "cell_type": "code",
   "execution_count": null,
   "metadata": {},
   "outputs": [],
   "source": [
    "SAVE_FIG = False"
   ]
  },
  {
   "cell_type": "code",
   "execution_count": null,
   "metadata": {},
   "outputs": [],
   "source": [
    "ml.parity_plot(MODEL, stacked, algo, target_mean, target_std, property_used, \n",
    "               test_label, train_label, save=SAVE_FIG, fname=now, subset_inds=to_drop.tolist())"
   ]
  },
  {
   "cell_type": "code",
   "execution_count": null,
   "metadata": {},
   "outputs": [],
   "source": []
  },
  {
   "cell_type": "markdown",
   "metadata": {},
   "source": [
    "# Test functions"
   ]
  },
  {
   "cell_type": "code",
   "execution_count": null,
   "metadata": {},
   "outputs": [],
   "source": []
  }
 ],
 "metadata": {
  "kernelspec": {
   "display_name": "Python 3",
   "language": "python",
   "name": "python3"
  },
  "language_info": {
   "codemirror_mode": {
    "name": "ipython",
    "version": 3
   },
   "file_extension": ".py",
   "mimetype": "text/x-python",
   "name": "python",
   "nbconvert_exporter": "python",
   "pygments_lexer": "ipython3",
   "version": "3.7.3"
  }
 },
 "nbformat": 4,
 "nbformat_minor": 2
}
