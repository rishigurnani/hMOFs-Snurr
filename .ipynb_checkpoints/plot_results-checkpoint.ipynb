{
 "cells": [
  {
   "cell_type": "markdown",
   "metadata": {},
   "source": [
    "# Import"
   ]
  },
  {
   "cell_type": "code",
   "execution_count": 1,
   "metadata": {},
   "outputs": [],
   "source": [
    "import pandas as pd"
   ]
  },
  {
   "cell_type": "code",
   "execution_count": 2,
   "metadata": {},
   "outputs": [],
   "source": [
    "%matplotlib inline\n",
    "import matplotlib.pyplot as plt"
   ]
  },
  {
   "cell_type": "code",
   "execution_count": 3,
   "metadata": {},
   "outputs": [],
   "source": [
    "import numpy as np"
   ]
  },
  {
   "cell_type": "code",
   "execution_count": 4,
   "metadata": {},
   "outputs": [
    {
     "name": "stderr",
     "output_type": "stream",
     "text": [
      "/home/modules/anaconda3/lib/python3.7/site-packages/dask/config.py:168: YAMLLoadWarning: calling yaml.load() without Loader=... is deprecated, as the default Loader is unsafe. Please read https://msg.pyyaml.org/load for full details.\n",
      "  data = yaml.load(f.read()) or {}\n",
      "/home/modules/anaconda3/lib/python3.7/site-packages/distributed/config.py:20: YAMLLoadWarning: calling yaml.load() without Loader=... is deprecated, as the default Loader is unsafe. Please read https://msg.pyyaml.org/load for full details.\n",
      "  defaults = yaml.load(f)\n"
     ]
    },
    {
     "data": {
      "text/plain": [
       "<module 'efrc_ml_production' from '/home/rgur/py_scripts/efrc_ml_production.py'>"
      ]
     },
     "execution_count": 4,
     "metadata": {},
     "output_type": "execute_result"
    }
   ],
   "source": [
    "import importlib\n",
    "import efrc_ml_production as ml\n",
    "importlib.reload(ml)"
   ]
  },
  {
   "cell_type": "code",
   "execution_count": 5,
   "metadata": {},
   "outputs": [],
   "source": [
    "from sklearn.metrics import r2_score as r2"
   ]
  },
  {
   "cell_type": "code",
   "execution_count": 6,
   "metadata": {},
   "outputs": [],
   "source": [
    "import os\n",
    "from os import listdir\n",
    "from os.path import isfile, join"
   ]
  },
  {
   "cell_type": "code",
   "execution_count": 7,
   "metadata": {},
   "outputs": [
    {
     "data": {
      "text/plain": [
       "<module 'rishi_utils' from '/home/rgur/py_scripts/rishi_utils.py'>"
      ]
     },
     "execution_count": 7,
     "metadata": {},
     "output_type": "execute_result"
    }
   ],
   "source": [
    "import rishi_utils as ru\n",
    "importlib.reload(ru)"
   ]
  },
  {
   "cell_type": "code",
   "execution_count": 8,
   "metadata": {},
   "outputs": [
    {
     "data": {
      "text/plain": [
       "'/home/rgur/py_scripts'"
      ]
     },
     "execution_count": 8,
     "metadata": {},
     "output_type": "execute_result"
    }
   ],
   "source": [
    "os.getcwd()"
   ]
  },
  {
   "cell_type": "markdown",
   "metadata": {},
   "source": [
    "# Define variables"
   ]
  },
  {
   "cell_type": "code",
   "execution_count": 9,
   "metadata": {},
   "outputs": [],
   "source": [
    "results_dir = '/data/rgur/efrc/ml/group_pres_results/'"
   ]
  },
  {
   "cell_type": "code",
   "execution_count": 10,
   "metadata": {},
   "outputs": [],
   "source": [
    "stacked_path = '/data/rgur/efrc/prep_data/all_v1/stacked.csv'\n",
    "ml_d_path = '/data/rgur/efrc/prep_data/all_v1/ml_data.csv'"
   ]
  },
  {
   "cell_type": "code",
   "execution_count": 11,
   "metadata": {},
   "outputs": [],
   "source": [
    "Y_DATA_PATH = '/data/rgur/efrc/data_DONOTTOUCH/hMOF_allData_March25_2013.xlsx'"
   ]
  },
  {
   "cell_type": "code",
   "execution_count": 12,
   "metadata": {
    "scrolled": true
   },
   "outputs": [
    {
     "name": "stderr",
     "output_type": "stream",
     "text": [
      "/home/modules/anaconda3/lib/python3.7/site-packages/IPython/core/interactiveshell.py:3214: DtypeWarning: Columns (5,6,7,8,9,10,11,12,13) have mixed types. Specify dtype option on import or set low_memory=False.\n",
      "  if (yield from self.run_code(code, result)):\n",
      "/home/modules/anaconda3/lib/python3.7/site-packages/IPython/core/interactiveshell.py:3214: DtypeWarning: Columns (4,5,6,7,8,9,10,11,12) have mixed types. Specify dtype option on import or set low_memory=False.\n",
      "  if (yield from self.run_code(code, result)):\n"
     ]
    }
   ],
   "source": [
    "stacked = ru.pd_load('/data/rgur/efrc/prep_data/all_v1/stacked.csv')\n",
    "ml_d = ru.pd_load('/data/rgur/efrc/prep_data/all_v1/ml_data.csv')"
   ]
  },
  {
   "cell_type": "code",
   "execution_count": 13,
   "metadata": {},
   "outputs": [
    {
     "ename": "KeyboardInterrupt",
     "evalue": "",
     "output_type": "error",
     "traceback": [
      "\u001b[0;31m---------------------------------------------------------------------------\u001b[0m",
      "\u001b[0;31mKeyboardInterrupt\u001b[0m                         Traceback (most recent call last)",
      "\u001b[0;32m<ipython-input-13-0ccce2aaf568>\u001b[0m in \u001b[0;36m<module>\u001b[0;34m\u001b[0m\n\u001b[0;32m----> 1\u001b[0;31m \u001b[0mml_d\u001b[0m \u001b[0;34m=\u001b[0m \u001b[0mml\u001b[0m\u001b[0;34m.\u001b[0m\u001b[0mmerge_data\u001b[0m\u001b[0;34m(\u001b[0m\u001b[0mml_d\u001b[0m\u001b[0;34m,\u001b[0m \u001b[0;32mFalse\u001b[0m\u001b[0;34m,\u001b[0m \u001b[0mY_DATA_PATH\u001b[0m\u001b[0;34m)\u001b[0m\u001b[0;34m\u001b[0m\u001b[0;34m\u001b[0m\u001b[0m\n\u001b[0m",
      "\u001b[0;32m~/py_scripts/efrc_ml_production.py\u001b[0m in \u001b[0;36mmerge_data\u001b[0;34m(df, stacked, Y_DATA_PATH)\u001b[0m\n\u001b[1;32m    122\u001b[0m     '''\n\u001b[1;32m    123\u001b[0m     \u001b[0;32mif\u001b[0m \u001b[0;32mnot\u001b[0m \u001b[0mstacked\u001b[0m\u001b[0;34m:\u001b[0m\u001b[0;34m\u001b[0m\u001b[0;34m\u001b[0m\u001b[0m\n\u001b[0;32m--> 124\u001b[0;31m         \u001b[0my_data\u001b[0m \u001b[0;34m=\u001b[0m \u001b[0mpd\u001b[0m\u001b[0;34m.\u001b[0m\u001b[0mread_excel\u001b[0m\u001b[0;34m(\u001b[0m\u001b[0mY_DATA_PATH\u001b[0m\u001b[0;34m)\u001b[0m\u001b[0;34m\u001b[0m\u001b[0;34m\u001b[0m\u001b[0m\n\u001b[0m\u001b[1;32m    125\u001b[0m         \u001b[0mdf\u001b[0m \u001b[0;34m=\u001b[0m \u001b[0mdf\u001b[0m\u001b[0;34m.\u001b[0m\u001b[0mjoin\u001b[0m\u001b[0;34m(\u001b[0m\u001b[0my_data\u001b[0m\u001b[0;34m[\u001b[0m\u001b[0;34m[\u001b[0m\u001b[0;34m'Crystal ID#'\u001b[0m\u001b[0;34m,\u001b[0m \u001b[0;34m'CH4 cm3/g 35 bar'\u001b[0m\u001b[0;34m]\u001b[0m\u001b[0;34m]\u001b[0m\u001b[0;34m.\u001b[0m\u001b[0mset_index\u001b[0m\u001b[0;34m(\u001b[0m\u001b[0;34m'Crystal ID#'\u001b[0m\u001b[0;34m)\u001b[0m\u001b[0;34m,\u001b[0m \u001b[0mon\u001b[0m\u001b[0;34m=\u001b[0m\u001b[0;34m'Crystal_ID#'\u001b[0m\u001b[0;34m)\u001b[0m\u001b[0;34m\u001b[0m\u001b[0;34m\u001b[0m\u001b[0m\n\u001b[1;32m    126\u001b[0m         \u001b[0;32mfor\u001b[0m \u001b[0mkey\u001b[0m \u001b[0;32min\u001b[0m \u001b[0mdf\u001b[0m\u001b[0;34m.\u001b[0m\u001b[0mkeys\u001b[0m\u001b[0;34m(\u001b[0m\u001b[0;34m)\u001b[0m\u001b[0;34m:\u001b[0m\u001b[0;34m\u001b[0m\u001b[0;34m\u001b[0m\u001b[0m\n",
      "\u001b[0;32m/home/modules/anaconda3/lib/python3.7/site-packages/pandas/util/_decorators.py\u001b[0m in \u001b[0;36mwrapper\u001b[0;34m(*args, **kwargs)\u001b[0m\n\u001b[1;32m    186\u001b[0m                 \u001b[0;32melse\u001b[0m\u001b[0;34m:\u001b[0m\u001b[0;34m\u001b[0m\u001b[0;34m\u001b[0m\u001b[0m\n\u001b[1;32m    187\u001b[0m                     \u001b[0mkwargs\u001b[0m\u001b[0;34m[\u001b[0m\u001b[0mnew_arg_name\u001b[0m\u001b[0;34m]\u001b[0m \u001b[0;34m=\u001b[0m \u001b[0mnew_arg_value\u001b[0m\u001b[0;34m\u001b[0m\u001b[0;34m\u001b[0m\u001b[0m\n\u001b[0;32m--> 188\u001b[0;31m             \u001b[0;32mreturn\u001b[0m \u001b[0mfunc\u001b[0m\u001b[0;34m(\u001b[0m\u001b[0;34m*\u001b[0m\u001b[0margs\u001b[0m\u001b[0;34m,\u001b[0m \u001b[0;34m**\u001b[0m\u001b[0mkwargs\u001b[0m\u001b[0;34m)\u001b[0m\u001b[0;34m\u001b[0m\u001b[0;34m\u001b[0m\u001b[0m\n\u001b[0m\u001b[1;32m    189\u001b[0m         \u001b[0;32mreturn\u001b[0m \u001b[0mwrapper\u001b[0m\u001b[0;34m\u001b[0m\u001b[0;34m\u001b[0m\u001b[0m\n\u001b[1;32m    190\u001b[0m     \u001b[0;32mreturn\u001b[0m \u001b[0m_deprecate_kwarg\u001b[0m\u001b[0;34m\u001b[0m\u001b[0;34m\u001b[0m\u001b[0m\n",
      "\u001b[0;32m/home/modules/anaconda3/lib/python3.7/site-packages/pandas/util/_decorators.py\u001b[0m in \u001b[0;36mwrapper\u001b[0;34m(*args, **kwargs)\u001b[0m\n\u001b[1;32m    186\u001b[0m                 \u001b[0;32melse\u001b[0m\u001b[0;34m:\u001b[0m\u001b[0;34m\u001b[0m\u001b[0;34m\u001b[0m\u001b[0m\n\u001b[1;32m    187\u001b[0m                     \u001b[0mkwargs\u001b[0m\u001b[0;34m[\u001b[0m\u001b[0mnew_arg_name\u001b[0m\u001b[0;34m]\u001b[0m \u001b[0;34m=\u001b[0m \u001b[0mnew_arg_value\u001b[0m\u001b[0;34m\u001b[0m\u001b[0;34m\u001b[0m\u001b[0m\n\u001b[0;32m--> 188\u001b[0;31m             \u001b[0;32mreturn\u001b[0m \u001b[0mfunc\u001b[0m\u001b[0;34m(\u001b[0m\u001b[0;34m*\u001b[0m\u001b[0margs\u001b[0m\u001b[0;34m,\u001b[0m \u001b[0;34m**\u001b[0m\u001b[0mkwargs\u001b[0m\u001b[0;34m)\u001b[0m\u001b[0;34m\u001b[0m\u001b[0;34m\u001b[0m\u001b[0m\n\u001b[0m\u001b[1;32m    189\u001b[0m         \u001b[0;32mreturn\u001b[0m \u001b[0mwrapper\u001b[0m\u001b[0;34m\u001b[0m\u001b[0;34m\u001b[0m\u001b[0m\n\u001b[1;32m    190\u001b[0m     \u001b[0;32mreturn\u001b[0m \u001b[0m_deprecate_kwarg\u001b[0m\u001b[0;34m\u001b[0m\u001b[0;34m\u001b[0m\u001b[0m\n",
      "\u001b[0;32m/home/modules/anaconda3/lib/python3.7/site-packages/pandas/io/excel.py\u001b[0m in \u001b[0;36mread_excel\u001b[0;34m(io, sheet_name, header, names, index_col, parse_cols, usecols, squeeze, dtype, engine, converters, true_values, false_values, skiprows, nrows, na_values, keep_default_na, verbose, parse_dates, date_parser, thousands, comment, skip_footer, skipfooter, convert_float, mangle_dupe_cols, **kwds)\u001b[0m\n\u001b[1;32m    348\u001b[0m \u001b[0;34m\u001b[0m\u001b[0m\n\u001b[1;32m    349\u001b[0m     \u001b[0;32mif\u001b[0m \u001b[0;32mnot\u001b[0m \u001b[0misinstance\u001b[0m\u001b[0;34m(\u001b[0m\u001b[0mio\u001b[0m\u001b[0;34m,\u001b[0m \u001b[0mExcelFile\u001b[0m\u001b[0;34m)\u001b[0m\u001b[0;34m:\u001b[0m\u001b[0;34m\u001b[0m\u001b[0;34m\u001b[0m\u001b[0m\n\u001b[0;32m--> 350\u001b[0;31m         \u001b[0mio\u001b[0m \u001b[0;34m=\u001b[0m \u001b[0mExcelFile\u001b[0m\u001b[0;34m(\u001b[0m\u001b[0mio\u001b[0m\u001b[0;34m,\u001b[0m \u001b[0mengine\u001b[0m\u001b[0;34m=\u001b[0m\u001b[0mengine\u001b[0m\u001b[0;34m)\u001b[0m\u001b[0;34m\u001b[0m\u001b[0;34m\u001b[0m\u001b[0m\n\u001b[0m\u001b[1;32m    351\u001b[0m \u001b[0;34m\u001b[0m\u001b[0m\n\u001b[1;32m    352\u001b[0m     return io.parse(\n",
      "\u001b[0;32m/home/modules/anaconda3/lib/python3.7/site-packages/pandas/io/excel.py\u001b[0m in \u001b[0;36m__init__\u001b[0;34m(self, io, engine)\u001b[0m\n\u001b[1;32m    651\u001b[0m         \u001b[0mself\u001b[0m\u001b[0;34m.\u001b[0m\u001b[0m_io\u001b[0m \u001b[0;34m=\u001b[0m \u001b[0m_stringify_path\u001b[0m\u001b[0;34m(\u001b[0m\u001b[0mio\u001b[0m\u001b[0;34m)\u001b[0m\u001b[0;34m\u001b[0m\u001b[0;34m\u001b[0m\u001b[0m\n\u001b[1;32m    652\u001b[0m \u001b[0;34m\u001b[0m\u001b[0m\n\u001b[0;32m--> 653\u001b[0;31m         \u001b[0mself\u001b[0m\u001b[0;34m.\u001b[0m\u001b[0m_reader\u001b[0m \u001b[0;34m=\u001b[0m \u001b[0mself\u001b[0m\u001b[0;34m.\u001b[0m\u001b[0m_engines\u001b[0m\u001b[0;34m[\u001b[0m\u001b[0mengine\u001b[0m\u001b[0;34m]\u001b[0m\u001b[0;34m(\u001b[0m\u001b[0mself\u001b[0m\u001b[0;34m.\u001b[0m\u001b[0m_io\u001b[0m\u001b[0;34m)\u001b[0m\u001b[0;34m\u001b[0m\u001b[0;34m\u001b[0m\u001b[0m\n\u001b[0m\u001b[1;32m    654\u001b[0m \u001b[0;34m\u001b[0m\u001b[0m\n\u001b[1;32m    655\u001b[0m     \u001b[0;32mdef\u001b[0m \u001b[0m__fspath__\u001b[0m\u001b[0;34m(\u001b[0m\u001b[0mself\u001b[0m\u001b[0;34m)\u001b[0m\u001b[0;34m:\u001b[0m\u001b[0;34m\u001b[0m\u001b[0;34m\u001b[0m\u001b[0m\n",
      "\u001b[0;32m/home/modules/anaconda3/lib/python3.7/site-packages/pandas/io/excel.py\u001b[0m in \u001b[0;36m__init__\u001b[0;34m(self, filepath_or_buffer)\u001b[0m\n\u001b[1;32m    422\u001b[0m             \u001b[0mself\u001b[0m\u001b[0;34m.\u001b[0m\u001b[0mbook\u001b[0m \u001b[0;34m=\u001b[0m \u001b[0mxlrd\u001b[0m\u001b[0;34m.\u001b[0m\u001b[0mopen_workbook\u001b[0m\u001b[0;34m(\u001b[0m\u001b[0mfile_contents\u001b[0m\u001b[0;34m=\u001b[0m\u001b[0mdata\u001b[0m\u001b[0;34m)\u001b[0m\u001b[0;34m\u001b[0m\u001b[0;34m\u001b[0m\u001b[0m\n\u001b[1;32m    423\u001b[0m         \u001b[0;32melif\u001b[0m \u001b[0misinstance\u001b[0m\u001b[0;34m(\u001b[0m\u001b[0mfilepath_or_buffer\u001b[0m\u001b[0;34m,\u001b[0m \u001b[0mcompat\u001b[0m\u001b[0;34m.\u001b[0m\u001b[0mstring_types\u001b[0m\u001b[0;34m)\u001b[0m\u001b[0;34m:\u001b[0m\u001b[0;34m\u001b[0m\u001b[0;34m\u001b[0m\u001b[0m\n\u001b[0;32m--> 424\u001b[0;31m             \u001b[0mself\u001b[0m\u001b[0;34m.\u001b[0m\u001b[0mbook\u001b[0m \u001b[0;34m=\u001b[0m \u001b[0mxlrd\u001b[0m\u001b[0;34m.\u001b[0m\u001b[0mopen_workbook\u001b[0m\u001b[0;34m(\u001b[0m\u001b[0mfilepath_or_buffer\u001b[0m\u001b[0;34m)\u001b[0m\u001b[0;34m\u001b[0m\u001b[0;34m\u001b[0m\u001b[0m\n\u001b[0m\u001b[1;32m    425\u001b[0m         \u001b[0;32melse\u001b[0m\u001b[0;34m:\u001b[0m\u001b[0;34m\u001b[0m\u001b[0;34m\u001b[0m\u001b[0m\n\u001b[1;32m    426\u001b[0m             raise ValueError('Must explicitly set engine if not passing in'\n",
      "\u001b[0;32m/home/modules/anaconda3/lib/python3.7/site-packages/xlrd/__init__.py\u001b[0m in \u001b[0;36mopen_workbook\u001b[0;34m(filename, logfile, verbosity, use_mmap, file_contents, encoding_override, formatting_info, on_demand, ragged_rows)\u001b[0m\n\u001b[1;32m    136\u001b[0m                 \u001b[0mformatting_info\u001b[0m\u001b[0;34m=\u001b[0m\u001b[0mformatting_info\u001b[0m\u001b[0;34m,\u001b[0m\u001b[0;34m\u001b[0m\u001b[0;34m\u001b[0m\u001b[0m\n\u001b[1;32m    137\u001b[0m                 \u001b[0mon_demand\u001b[0m\u001b[0;34m=\u001b[0m\u001b[0mon_demand\u001b[0m\u001b[0;34m,\u001b[0m\u001b[0;34m\u001b[0m\u001b[0;34m\u001b[0m\u001b[0m\n\u001b[0;32m--> 138\u001b[0;31m                 \u001b[0mragged_rows\u001b[0m\u001b[0;34m=\u001b[0m\u001b[0mragged_rows\u001b[0m\u001b[0;34m,\u001b[0m\u001b[0;34m\u001b[0m\u001b[0;34m\u001b[0m\u001b[0m\n\u001b[0m\u001b[1;32m    139\u001b[0m             )\n\u001b[1;32m    140\u001b[0m             \u001b[0;32mreturn\u001b[0m \u001b[0mbk\u001b[0m\u001b[0;34m\u001b[0m\u001b[0;34m\u001b[0m\u001b[0m\n",
      "\u001b[0;32m/home/modules/anaconda3/lib/python3.7/site-packages/xlrd/xlsx.py\u001b[0m in \u001b[0;36mopen_workbook_2007_xml\u001b[0;34m(zf, component_names, logfile, verbosity, use_mmap, formatting_info, on_demand, ragged_rows)\u001b[0m\n\u001b[1;32m    839\u001b[0m         \u001b[0mx12sheet\u001b[0m \u001b[0;34m=\u001b[0m \u001b[0mX12Sheet\u001b[0m\u001b[0;34m(\u001b[0m\u001b[0msheet\u001b[0m\u001b[0;34m,\u001b[0m \u001b[0mlogfile\u001b[0m\u001b[0;34m,\u001b[0m \u001b[0mverbosity\u001b[0m\u001b[0;34m)\u001b[0m\u001b[0;34m\u001b[0m\u001b[0;34m\u001b[0m\u001b[0m\n\u001b[1;32m    840\u001b[0m         \u001b[0mheading\u001b[0m \u001b[0;34m=\u001b[0m \u001b[0;34m\"Sheet %r (sheetx=%d) from %r\"\u001b[0m \u001b[0;34m%\u001b[0m \u001b[0;34m(\u001b[0m\u001b[0msheet\u001b[0m\u001b[0;34m.\u001b[0m\u001b[0mname\u001b[0m\u001b[0;34m,\u001b[0m \u001b[0msheetx\u001b[0m\u001b[0;34m,\u001b[0m \u001b[0mfname\u001b[0m\u001b[0;34m)\u001b[0m\u001b[0;34m\u001b[0m\u001b[0;34m\u001b[0m\u001b[0m\n\u001b[0;32m--> 841\u001b[0;31m         \u001b[0mx12sheet\u001b[0m\u001b[0;34m.\u001b[0m\u001b[0mprocess_stream\u001b[0m\u001b[0;34m(\u001b[0m\u001b[0mzflo\u001b[0m\u001b[0;34m,\u001b[0m \u001b[0mheading\u001b[0m\u001b[0;34m)\u001b[0m\u001b[0;34m\u001b[0m\u001b[0;34m\u001b[0m\u001b[0m\n\u001b[0m\u001b[1;32m    842\u001b[0m         \u001b[0;32mdel\u001b[0m \u001b[0mzflo\u001b[0m\u001b[0;34m\u001b[0m\u001b[0;34m\u001b[0m\u001b[0m\n\u001b[1;32m    843\u001b[0m \u001b[0;34m\u001b[0m\u001b[0m\n",
      "\u001b[0;32m/home/modules/anaconda3/lib/python3.7/site-packages/xlrd/xlsx.py\u001b[0m in \u001b[0;36mown_process_stream\u001b[0;34m(self, stream, heading)\u001b[0m\n\u001b[1;32m    546\u001b[0m         \u001b[0mrow_tag\u001b[0m \u001b[0;34m=\u001b[0m \u001b[0mU_SSML12\u001b[0m \u001b[0;34m+\u001b[0m \u001b[0;34m\"row\"\u001b[0m\u001b[0;34m\u001b[0m\u001b[0;34m\u001b[0m\u001b[0m\n\u001b[1;32m    547\u001b[0m         \u001b[0mself_do_row\u001b[0m \u001b[0;34m=\u001b[0m \u001b[0mself\u001b[0m\u001b[0;34m.\u001b[0m\u001b[0mdo_row\u001b[0m\u001b[0;34m\u001b[0m\u001b[0;34m\u001b[0m\u001b[0m\n\u001b[0;32m--> 548\u001b[0;31m         \u001b[0;32mfor\u001b[0m \u001b[0mevent\u001b[0m\u001b[0;34m,\u001b[0m \u001b[0melem\u001b[0m \u001b[0;32min\u001b[0m \u001b[0mET\u001b[0m\u001b[0;34m.\u001b[0m\u001b[0miterparse\u001b[0m\u001b[0;34m(\u001b[0m\u001b[0mstream\u001b[0m\u001b[0;34m)\u001b[0m\u001b[0;34m:\u001b[0m\u001b[0;34m\u001b[0m\u001b[0;34m\u001b[0m\u001b[0m\n\u001b[0m\u001b[1;32m    549\u001b[0m             \u001b[0;32mif\u001b[0m \u001b[0melem\u001b[0m\u001b[0;34m.\u001b[0m\u001b[0mtag\u001b[0m \u001b[0;34m==\u001b[0m \u001b[0mrow_tag\u001b[0m\u001b[0;34m:\u001b[0m\u001b[0;34m\u001b[0m\u001b[0;34m\u001b[0m\u001b[0m\n\u001b[1;32m    550\u001b[0m                 \u001b[0mself_do_row\u001b[0m\u001b[0;34m(\u001b[0m\u001b[0melem\u001b[0m\u001b[0;34m)\u001b[0m\u001b[0;34m\u001b[0m\u001b[0;34m\u001b[0m\u001b[0m\n",
      "\u001b[0;32m/home/modules/anaconda3/lib/python3.7/xml/etree/ElementTree.py\u001b[0m in \u001b[0;36miterator\u001b[0;34m()\u001b[0m\n\u001b[1;32m   1225\u001b[0m                 \u001b[0;32mif\u001b[0m \u001b[0;32mnot\u001b[0m \u001b[0mdata\u001b[0m\u001b[0;34m:\u001b[0m\u001b[0;34m\u001b[0m\u001b[0;34m\u001b[0m\u001b[0m\n\u001b[1;32m   1226\u001b[0m                     \u001b[0;32mbreak\u001b[0m\u001b[0;34m\u001b[0m\u001b[0;34m\u001b[0m\u001b[0m\n\u001b[0;32m-> 1227\u001b[0;31m                 \u001b[0mpullparser\u001b[0m\u001b[0;34m.\u001b[0m\u001b[0mfeed\u001b[0m\u001b[0;34m(\u001b[0m\u001b[0mdata\u001b[0m\u001b[0;34m)\u001b[0m\u001b[0;34m\u001b[0m\u001b[0;34m\u001b[0m\u001b[0m\n\u001b[0m\u001b[1;32m   1228\u001b[0m             \u001b[0mroot\u001b[0m \u001b[0;34m=\u001b[0m \u001b[0mpullparser\u001b[0m\u001b[0;34m.\u001b[0m\u001b[0m_close_and_return_root\u001b[0m\u001b[0;34m(\u001b[0m\u001b[0;34m)\u001b[0m\u001b[0;34m\u001b[0m\u001b[0;34m\u001b[0m\u001b[0m\n\u001b[1;32m   1229\u001b[0m             \u001b[0;32myield\u001b[0m \u001b[0;32mfrom\u001b[0m \u001b[0mpullparser\u001b[0m\u001b[0;34m.\u001b[0m\u001b[0mread_events\u001b[0m\u001b[0;34m(\u001b[0m\u001b[0;34m)\u001b[0m\u001b[0;34m\u001b[0m\u001b[0;34m\u001b[0m\u001b[0m\n",
      "\u001b[0;32m/home/modules/anaconda3/lib/python3.7/xml/etree/ElementTree.py\u001b[0m in \u001b[0;36mfeed\u001b[0;34m(self, data)\u001b[0m\n\u001b[1;32m   1267\u001b[0m         \u001b[0;32mif\u001b[0m \u001b[0mdata\u001b[0m\u001b[0;34m:\u001b[0m\u001b[0;34m\u001b[0m\u001b[0;34m\u001b[0m\u001b[0m\n\u001b[1;32m   1268\u001b[0m             \u001b[0;32mtry\u001b[0m\u001b[0;34m:\u001b[0m\u001b[0;34m\u001b[0m\u001b[0;34m\u001b[0m\u001b[0m\n\u001b[0;32m-> 1269\u001b[0;31m                 \u001b[0mself\u001b[0m\u001b[0;34m.\u001b[0m\u001b[0m_parser\u001b[0m\u001b[0;34m.\u001b[0m\u001b[0mfeed\u001b[0m\u001b[0;34m(\u001b[0m\u001b[0mdata\u001b[0m\u001b[0;34m)\u001b[0m\u001b[0;34m\u001b[0m\u001b[0;34m\u001b[0m\u001b[0m\n\u001b[0m\u001b[1;32m   1270\u001b[0m             \u001b[0;32mexcept\u001b[0m \u001b[0mSyntaxError\u001b[0m \u001b[0;32mas\u001b[0m \u001b[0mexc\u001b[0m\u001b[0;34m:\u001b[0m\u001b[0;34m\u001b[0m\u001b[0;34m\u001b[0m\u001b[0m\n\u001b[1;32m   1271\u001b[0m                 \u001b[0mself\u001b[0m\u001b[0;34m.\u001b[0m\u001b[0m_events_queue\u001b[0m\u001b[0;34m.\u001b[0m\u001b[0mappend\u001b[0m\u001b[0;34m(\u001b[0m\u001b[0mexc\u001b[0m\u001b[0;34m)\u001b[0m\u001b[0;34m\u001b[0m\u001b[0;34m\u001b[0m\u001b[0m\n",
      "\u001b[0;32m/home/modules/anaconda3/lib/python3.7/xml/etree/ElementTree.py\u001b[0m in \u001b[0;36mfeed\u001b[0;34m(self, data)\u001b[0m\n\u001b[1;32m   1628\u001b[0m         \u001b[0;34m\"\"\"Feed encoded data to parser.\"\"\"\u001b[0m\u001b[0;34m\u001b[0m\u001b[0;34m\u001b[0m\u001b[0m\n\u001b[1;32m   1629\u001b[0m         \u001b[0;32mtry\u001b[0m\u001b[0;34m:\u001b[0m\u001b[0;34m\u001b[0m\u001b[0;34m\u001b[0m\u001b[0m\n\u001b[0;32m-> 1630\u001b[0;31m             \u001b[0mself\u001b[0m\u001b[0;34m.\u001b[0m\u001b[0mparser\u001b[0m\u001b[0;34m.\u001b[0m\u001b[0mParse\u001b[0m\u001b[0;34m(\u001b[0m\u001b[0mdata\u001b[0m\u001b[0;34m,\u001b[0m \u001b[0;36m0\u001b[0m\u001b[0;34m)\u001b[0m\u001b[0;34m\u001b[0m\u001b[0;34m\u001b[0m\u001b[0m\n\u001b[0m\u001b[1;32m   1631\u001b[0m         \u001b[0;32mexcept\u001b[0m \u001b[0mself\u001b[0m\u001b[0;34m.\u001b[0m\u001b[0m_error\u001b[0m \u001b[0;32mas\u001b[0m \u001b[0mv\u001b[0m\u001b[0;34m:\u001b[0m\u001b[0;34m\u001b[0m\u001b[0;34m\u001b[0m\u001b[0m\n\u001b[1;32m   1632\u001b[0m             \u001b[0mself\u001b[0m\u001b[0;34m.\u001b[0m\u001b[0m_raiseerror\u001b[0m\u001b[0;34m(\u001b[0m\u001b[0mv\u001b[0m\u001b[0;34m)\u001b[0m\u001b[0;34m\u001b[0m\u001b[0;34m\u001b[0m\u001b[0m\n",
      "\u001b[0;32m/tmp/build/80754af9/python_1553721932202/work/Modules/pyexpat.c\u001b[0m in \u001b[0;36mStartElement\u001b[0;34m()\u001b[0m\n",
      "\u001b[0;32m/home/modules/anaconda3/lib/python3.7/xml/etree/ElementTree.py\u001b[0m in \u001b[0;36m_start\u001b[0;34m(self, tag, attr_list)\u001b[0m\n\u001b[1;32m   1542\u001b[0m         \u001b[0;32mreturn\u001b[0m \u001b[0mname\u001b[0m\u001b[0;34m\u001b[0m\u001b[0;34m\u001b[0m\u001b[0m\n\u001b[1;32m   1543\u001b[0m \u001b[0;34m\u001b[0m\u001b[0m\n\u001b[0;32m-> 1544\u001b[0;31m     \u001b[0;32mdef\u001b[0m \u001b[0m_start\u001b[0m\u001b[0;34m(\u001b[0m\u001b[0mself\u001b[0m\u001b[0;34m,\u001b[0m \u001b[0mtag\u001b[0m\u001b[0;34m,\u001b[0m \u001b[0mattr_list\u001b[0m\u001b[0;34m)\u001b[0m\u001b[0;34m:\u001b[0m\u001b[0;34m\u001b[0m\u001b[0;34m\u001b[0m\u001b[0m\n\u001b[0m\u001b[1;32m   1545\u001b[0m         \u001b[0;31m# Handler for expat's StartElementHandler. Since ordered_attributes\u001b[0m\u001b[0;34m\u001b[0m\u001b[0;34m\u001b[0m\u001b[0;34m\u001b[0m\u001b[0m\n\u001b[1;32m   1546\u001b[0m         \u001b[0;31m# is set, the attributes are reported as a list of alternating\u001b[0m\u001b[0;34m\u001b[0m\u001b[0;34m\u001b[0m\u001b[0;34m\u001b[0m\u001b[0m\n",
      "\u001b[0;31mKeyboardInterrupt\u001b[0m: "
     ]
    }
   ],
   "source": [
    "ml_d = ml.merge_data(ml_d, False, Y_DATA_PATH)"
   ]
  },
  {
   "cell_type": "code",
   "execution_count": null,
   "metadata": {},
   "outputs": [],
   "source": [
    "stacked_map = {}\n",
    "for i in stacked[['filename', 'pressure','vol_uptake']].iterrows():\n",
    "    val = i[1]\n",
    "    stacked_map[(val['filename'], val['pressure'])] = val['vol_uptake']"
   ]
  },
  {
   "cell_type": "code",
   "execution_count": null,
   "metadata": {},
   "outputs": [],
   "source": [
    "grav_map = {}\n",
    "for i in ml_d[['filename', 'CH4_cm3/g_35_bar']].iterrows():\n",
    "    val = i[1]\n",
    "    grav_map[val['filename']] = val['CH4_cm3/g_35_bar']"
   ]
  },
  {
   "cell_type": "markdown",
   "metadata": {},
   "source": [
    "# Define functions"
   ]
  },
  {
   "cell_type": "code",
   "execution_count": null,
   "metadata": {},
   "outputs": [],
   "source": [
    "def getMetrics(true, pred, metrics):\n",
    "    '''\n",
    "    Get metric values from a list if metric functions\n",
    "    '''\n",
    "    return [f(true, pred) for f in metrics]"
   ]
  },
  {
   "cell_type": "code",
   "execution_count": null,
   "metadata": {},
   "outputs": [],
   "source": [
    "def checkIsoFile(filename):\n",
    "    '''\n",
    "    Determine whether or not filename should be included\n",
    "    '''\n",
    "    if filename[-4:] == '.csv':\n",
    "        if 'iso' in filename:\n",
    "            row_count = ru.count_lines(filename) - 1\n",
    "            if row_count == 533430:\n",
    "                return True\n",
    "    return False"
   ]
  },
  {
   "cell_type": "code",
   "execution_count": null,
   "metadata": {},
   "outputs": [],
   "source": [
    "def checkGravFile(filename):\n",
    "    '''\n",
    "    Determine whether or not filename should be included\n",
    "    '''\n",
    "    if filename[-4:] == '.csv':\n",
    "        if 'grav' in filename:\n",
    "            row_count = ru.count_lines(filename) - 1\n",
    "            if row_count == 126369:\n",
    "                return True\n",
    "    return False"
   ]
  },
  {
   "cell_type": "code",
   "execution_count": null,
   "metadata": {},
   "outputs": [],
   "source": [
    "def get_t_pct(filename):\n",
    "    return float(filename.split('train_')[1][:2])"
   ]
  },
  {
   "cell_type": "code",
   "execution_count": null,
   "metadata": {},
   "outputs": [],
   "source": [
    "def get_Code(filename):\n",
    "    return filename.split('code_')[1][:4]"
   ]
  },
  {
   "cell_type": "code",
   "execution_count": null,
   "metadata": {},
   "outputs": [],
   "source": [
    "def getSeed(filename):\n",
    "    return filename.split('seed_')[1][:1]"
   ]
  },
  {
   "cell_type": "code",
   "execution_count": null,
   "metadata": {},
   "outputs": [],
   "source": [
    "def getAllFilenames(parent_dir):\n",
    "    return [parent_dir+f for f in listdir(parent_dir) if isfile(join(parent_dir, f))]"
   ]
  },
  {
   "cell_type": "code",
   "execution_count": null,
   "metadata": {},
   "outputs": [],
   "source": [
    "def getTruthVals(train_keys, test_keys, my_map):\n",
    "    train_truth = [my_map[f] for f in train_keys]\n",
    "    test_truth = [my_map[f] for f in test_keys]\n",
    "    return train_truth, test_truth"
   ]
  },
  {
   "cell_type": "code",
   "execution_count": null,
   "metadata": {},
   "outputs": [],
   "source": [
    "def getPredsAndKeys(df):\n",
    "    n_unique_pressures = len(df['Pressure'].unique())\n",
    "    train_df = df[df['Class'] == 'Train']\n",
    "    test_df = df[df['Class'] == 'Test']\n",
    "    train_preds = train_df['Prediction'].tolist()\n",
    "    test_preds = test_df['Prediction'].tolist()\n",
    "    if n_unique_pressures == 1:\n",
    "        train_keys = train_df['Filename'].tolist()\n",
    "        test_keys = test_df['Filename'].tolist()\n",
    "    else:\n",
    "        train_keys = [tuple(r) for r in train_df[['Filename', 'Pressure']].to_numpy()]\n",
    "        test_keys = [tuple(r) for r in test_df[['Filename', 'Pressure']].to_numpy()]\n",
    "    return train_preds, train_keys, test_preds, test_keys"
   ]
  },
  {
   "cell_type": "code",
   "execution_count": null,
   "metadata": {},
   "outputs": [],
   "source": [
    "def get_time(f):\n",
    "    return '_'.join(f.split('.')[0].split('_')[-6:])"
   ]
  },
  {
   "cell_type": "code",
   "execution_count": null,
   "metadata": {},
   "outputs": [],
   "source": [
    "def unflatten(l, n):\n",
    "    new = []\n",
    "    length = len(l)\n",
    "    prev = 0\n",
    "    split_inds = list(range(0, length+1, n))\n",
    "    prev = 0\n",
    "    for ind in split_inds[1:]:\n",
    "        new.append(l[prev:ind])\n",
    "        prev = ind\n",
    "    return new"
   ]
  },
  {
   "cell_type": "code",
   "execution_count": null,
   "metadata": {},
   "outputs": [],
   "source": [
    "def getMetricsFromDf(f, fix_preds, stacked):\n",
    "    #df = pd.read_csv(f)\n",
    "    df = ru.pd_load(f)\n",
    "    if fix_preds:\n",
    "        fix_predictions(df)\n",
    "    train_preds, train_keys, test_preds, test_keys = getPredsAndKeys(df)\n",
    "    if stacked:\n",
    "        my_map = stacked_map\n",
    "    else:\n",
    "        my_map = grav_map\n",
    "    train_truth, test_truth = getTruthVals(train_keys, test_keys, my_map)\n",
    "    train_vals = getMetrics(true=train_truth, pred=train_preds, metrics=[ml.get_rmse, r2])\n",
    "    test_vals = getMetrics(true=test_truth, pred=test_preds, metrics=[ml.get_rmse, r2])\n",
    "    return (train_vals, test_vals)"
   ]
  },
  {
   "cell_type": "code",
   "execution_count": null,
   "metadata": {},
   "outputs": [],
   "source": [
    "def getResultsDf(good_codes=None, good_time=None, fix_preds=True, include_geo=False, stacked=False):\n",
    "    \n",
    "    seeds = []\n",
    "    run1_r2s = []\n",
    "    run1_rmses = []\n",
    "    run2_r2s = []\n",
    "    run2_rmses = []\n",
    "    run3_r2s = []\n",
    "    run3_rmses = []\n",
    "    train_pcts = []\n",
    "    codes = []\n",
    "    classes = []\n",
    "    all_files = getAllFilenames(results_dir)\n",
    "    #relevant_iso = [checkIsoFile(f) for f in all_files]\n",
    "    if stacked:\n",
    "        checkFile = checkIsoFile\n",
    "    else:\n",
    "        checkFile = checkGravFile\n",
    "    relevent = [f for f in all_files if checkFile(f)]\n",
    "    #print(relevent[0:5])\n",
    "    unique_codes = list(set([get_Code(f) for f in relevent]))\n",
    "    if include_geo==True:\n",
    "        print('Only including geometric codes')\n",
    "        good_codes = [code for code in unique_codes if code[-1] == '1']\n",
    "    elif include_geo==False:\n",
    "        print('Only including non-geometric codes')\n",
    "        good_codes = [code for code in unique_codes if code[-1] == '0']\n",
    "    if good_codes != None:\n",
    "        relevent = [f for f in relevent if get_Code(f) in good_codes]\n",
    "    #print(relevent[0:5])\n",
    "    if good_time != None:\n",
    "        relevent = [f for f in relevent if get_time(f) in good_time]\n",
    "    #print(relevent[0:5])\n",
    "    relevent = sorted(relevent)\n",
    "    #print(relevent[0:5])\n",
    "    unique_codes = list(set([get_Code(f) for f in relevent]))\n",
    "    #print(unique_codes)\n",
    "    \n",
    "    nested_relevent = unflatten(relevent, 3)\n",
    "    for l in nested_relevent:\n",
    "        f = l[0]\n",
    "        codes += [get_Code(f)]*2\n",
    "        classes.append(\"Train\")\n",
    "        classes.append(\"Test\")\n",
    "        #seeds += [getSeed(f)]*2\n",
    "        train_pcts += [get_t_pct(f)]*2\n",
    "        vals = [getMetricsFromDf(f, fix_preds, stacked) for f in l] #[seed 0, seed 1, seed 2], [train, test], [rmse, r2]\n",
    "        #print(vals)\n",
    "        run1_r2s.append(vals[0][0][1])\n",
    "        run1_r2s.append(vals[0][1][1])\n",
    "        \n",
    "        run1_rmses.append(vals[0][0][0])\n",
    "        run1_rmses.append(vals[0][1][0])\n",
    "        \n",
    "        run2_r2s.append(vals[1][0][1])\n",
    "        run2_r2s.append(vals[1][1][1])\n",
    "        \n",
    "        run2_rmses.append(vals[1][0][0])\n",
    "        run2_rmses.append(vals[1][1][0])\n",
    "        \n",
    "        run3_r2s.append(vals[2][0][1])\n",
    "        run3_r2s.append(vals[2][1][1])\n",
    "        \n",
    "        run3_rmses.append(vals[2][0][0])\n",
    "        run3_rmses.append(vals[2][1][0])\n",
    "    return pd.DataFrame({\"Run 1 R2\": run1_r2s, \"Run 1 RMSE\": run1_rmses, \"Run 2 R2\": run2_r2s, \n",
    "                         \"Run 2 RMSE\": run2_rmses, \"Run 3 R2\": run3_r2s, \"Run 3 RMSE\": run3_rmses, \n",
    "                         \"Training %\": train_pcts, \"Code\": codes, \"Class\": classes})"
   ]
  },
  {
   "cell_type": "code",
   "execution_count": null,
   "metadata": {},
   "outputs": [],
   "source": [
    "def labelFromCode(code):\n",
    "    s = ''\n",
    "    if code[0] == '1':\n",
    "        s+='SI+'\n",
    "    if code[1] == '1':\n",
    "        s+='SD+'\n",
    "    if code[2] == '1':\n",
    "        s+='LS+'\n",
    "    if code[3] == '1':\n",
    "        s+='Geo+'\n",
    "    return s[:-1]"
   ]
  },
  {
   "cell_type": "code",
   "execution_count": null,
   "metadata": {},
   "outputs": [],
   "source": [
    "def fix_predictions(df):\n",
    "    preds = df['Prediction'].tolist()\n",
    "    new = []\n",
    "    for i in preds:\n",
    "        if i<0:\n",
    "            new.append(0)\n",
    "        else:\n",
    "            new.append(i)\n",
    "    df['Prediction'] = new"
   ]
  },
  {
   "cell_type": "code",
   "execution_count": null,
   "metadata": {},
   "outputs": [],
   "source": [
    "def plot_results(df, title='Learning Curve', good_codes=None, score_name='RMSE', ylim=None, axes=None, \n",
    "                 place_legend='in', custom_labels=None):\n",
    "    colors = ['r', 'k', 'b', 'c', 'm', 'y', 'darkorange', 'slategray', 'tan', 'deeppink', 'greenyellow','g']\n",
    "    n_plots = len\n",
    "    if axes is None:\n",
    "        _, axes = plt.subplots(1, 1, figsize=(8, 8))\n",
    "\n",
    "    axes.set_title(title)\n",
    "    if ylim is not None:\n",
    "        axes.set_ylim(*ylim)\n",
    "    axes.set_xlabel(\"Percent of Data Set Used For Training\")\n",
    "    axes.set_ylabel(score_name)\n",
    "    if good_codes == None:\n",
    "        good_codes = df['Code'].unique().tolist()\n",
    "    for ind, code in enumerate(good_codes):\n",
    "        if custom_labels == None:\n",
    "            LABEL = labelFromCode(code)\n",
    "            TRAIN_LABEL = \"Training %s - %s\" %(score_name, LABEL)\n",
    "            TEST_LABEL = \"Test %s - %s\" %(score_name, LABEL)\n",
    "        else:\n",
    "            TRAIN_LABEL, TEST_LABEL = custom_labels[code]\n",
    "        df_code = df[df['Code'] == code]\n",
    "        train_df = df_code[df_code['Class'] == 'Train']\n",
    "        test_df = df_code[df_code['Class'] == 'Test']\n",
    "        score_train_df = train_df[['Run 1 %s' %score_name, 'Run 2 %s' %score_name, 'Run 3 %s' %score_name]]\n",
    "        score_test_df = test_df[['Run 1 %s' %score_name, 'Run 2 %s' %score_name, 'Run 3 %s' %score_name]]\n",
    "        train_sizes = df['Training %'].unique()\n",
    "\n",
    "        train_scores_mean = np.mean(score_train_df, axis=1)\n",
    "        train_scores_std = np.std(score_train_df, axis=1)\n",
    "        test_scores_mean = np.mean(score_test_df, axis=1)\n",
    "        test_scores_std = np.std(score_test_df, axis=1)\n",
    "        #fit_times_mean = np.mean(fit_times, axis=1)\n",
    "        #fit_times_std = np.std(fit_times, axis=1)\n",
    "\n",
    "        train_scores_mean = train_scores_mean\n",
    "        train_scores_std = train_scores_std\n",
    "        test_scores_mean = test_scores_mean\n",
    "        test_scores_std = test_scores_std\n",
    "        \n",
    "        # Plot learning curve\n",
    "        n_done = len(train_scores_mean) #in case not all runs are done yet\n",
    "        axes.grid()\n",
    "        axes.fill_between(train_sizes[0:n_done], train_scores_mean - train_scores_std,\n",
    "                             train_scores_mean + train_scores_std, alpha=0.1,\n",
    "                             color=colors[ind])\n",
    "        axes.fill_between(train_sizes[0:n_done], test_scores_mean - test_scores_std,\n",
    "                             test_scores_mean + test_scores_std, alpha=0.1,\n",
    "                             color=colors[ind])\n",
    "        axes.plot(train_sizes[0:n_done], train_scores_mean, 'o-', color=colors[ind],\n",
    "                     label=TRAIN_LABEL)\n",
    "        axes.plot(train_sizes[0:n_done], test_scores_mean, 'x-', color=colors[ind],\n",
    "                     label=TEST_LABEL)\n",
    "    if place_legend == 'out':\n",
    "        axes.legend(loc='center left', bbox_to_anchor=(1, 0.5))\n",
    "    else:\n",
    "        axes.legend(loc=\"best\")\n",
    "\n",
    "    return plt"
   ]
  },
  {
   "cell_type": "markdown",
   "metadata": {},
   "source": [
    "# Run "
   ]
  },
  {
   "cell_type": "code",
   "execution_count": 62,
   "metadata": {},
   "outputs": [],
   "source": [
    "GOOD_CODES = ['1011', '1010']\n",
    "#GOOD_TIME = ['08_37PM_on_April_18_2020', '02_56PM_on_April_20_2020']\n",
    "GOOD_TIME = ['05_52PM_on_April_26_2020', '11_15AM_on_April_28_2020', '05_14PM_on_April_28_2020']\n",
    "#GOOD_TIME = ['12_18PM_on_April_29_2020']\n",
    "\n",
    "results_df = getResultsDf(good_codes=GOOD_CODES, good_time=GOOD_TIME, fix_preds=True, include_geo=True, stacked=True)"
   ]
  },
  {
   "cell_type": "code",
   "execution_count": 66,
   "metadata": {},
   "outputs": [
    {
     "data": {
      "text/plain": [
       "<module 'matplotlib.pyplot' from '/home/modules/anaconda3/lib/python3.7/site-packages/matplotlib/pyplot.py'>"
      ]
     },
     "execution_count": 66,
     "metadata": {},
     "output_type": "execute_result"
    },
    {
     "data": {
      "image/png": "[encoded data removed]",
      "text/plain": [
       "<Figure size 576x576 with 1 Axes>"
      ]
     },
     "metadata": {
      "needs_background": "light"
     },
     "output_type": "display_data"
    }
   ],
   "source": [
    "%matplotlib inline\n",
    "\n",
    "plot_results(results_df, score_name='RMSE', custom_labels=[('Train', 'Test')])"
   ]
  },
  {
   "cell_type": "code",
   "execution_count": 67,
   "metadata": {},
   "outputs": [
    {
     "data": {
      "text/html": [
       "<div>\n",
       "<style scoped>\n",
       "    .dataframe tbody tr th:only-of-type {\n",
       "        vertical-align: middle;\n",
       "    }\n",
       "\n",
       "    .dataframe tbody tr th {\n",
       "        vertical-align: top;\n",
       "    }\n",
       "\n",
       "    .dataframe thead th {\n",
       "        text-align: right;\n",
       "    }\n",
       "</style>\n",
       "<table border=\"1\" class=\"dataframe\">\n",
       "  <thead>\n",
       "    <tr style=\"text-align: right;\">\n",
       "      <th></th>\n",
       "      <th>Run 1 R2</th>\n",
       "      <th>Run 1 RMSE</th>\n",
       "      <th>Run 2 R2</th>\n",
       "      <th>Run 2 RMSE</th>\n",
       "      <th>Run 3 R2</th>\n",
       "      <th>Run 3 RMSE</th>\n",
       "      <th>Training %</th>\n",
       "      <th>Code</th>\n",
       "      <th>Class</th>\n",
       "    </tr>\n",
       "  </thead>\n",
       "  <tbody>\n",
       "    <tr>\n",
       "      <th>0</th>\n",
       "      <td>0.991026</td>\n",
       "      <td>8.349455</td>\n",
       "      <td>0.993314</td>\n",
       "      <td>7.210422</td>\n",
       "      <td>0.994627</td>\n",
       "      <td>6.463003</td>\n",
       "      <td>50.0</td>\n",
       "      <td>1011</td>\n",
       "      <td>Train</td>\n",
       "    </tr>\n",
       "    <tr>\n",
       "      <th>1</th>\n",
       "      <td>0.989360</td>\n",
       "      <td>9.096951</td>\n",
       "      <td>0.989764</td>\n",
       "      <td>8.917941</td>\n",
       "      <td>0.990281</td>\n",
       "      <td>8.691282</td>\n",
       "      <td>50.0</td>\n",
       "      <td>1011</td>\n",
       "      <td>Test</td>\n",
       "    </tr>\n",
       "    <tr>\n",
       "      <th>2</th>\n",
       "      <td>0.995475</td>\n",
       "      <td>5.924804</td>\n",
       "      <td>0.996445</td>\n",
       "      <td>5.253483</td>\n",
       "      <td>0.997653</td>\n",
       "      <td>4.266782</td>\n",
       "      <td>60.0</td>\n",
       "      <td>1011</td>\n",
       "      <td>Train</td>\n",
       "    </tr>\n",
       "    <tr>\n",
       "      <th>3</th>\n",
       "      <td>0.990839</td>\n",
       "      <td>8.450673</td>\n",
       "      <td>0.991196</td>\n",
       "      <td>8.280315</td>\n",
       "      <td>0.991406</td>\n",
       "      <td>8.185486</td>\n",
       "      <td>60.0</td>\n",
       "      <td>1011</td>\n",
       "      <td>Test</td>\n",
       "    </tr>\n",
       "    <tr>\n",
       "      <th>4</th>\n",
       "      <td>0.996224</td>\n",
       "      <td>5.415505</td>\n",
       "      <td>0.996697</td>\n",
       "      <td>5.066845</td>\n",
       "      <td>0.991463</td>\n",
       "      <td>8.135198</td>\n",
       "      <td>70.0</td>\n",
       "      <td>1011</td>\n",
       "      <td>Train</td>\n",
       "    </tr>\n",
       "    <tr>\n",
       "      <th>5</th>\n",
       "      <td>0.991688</td>\n",
       "      <td>8.045081</td>\n",
       "      <td>0.991355</td>\n",
       "      <td>8.198425</td>\n",
       "      <td>0.989797</td>\n",
       "      <td>8.932554</td>\n",
       "      <td>70.0</td>\n",
       "      <td>1011</td>\n",
       "      <td>Test</td>\n",
       "    </tr>\n",
       "    <tr>\n",
       "      <th>6</th>\n",
       "      <td>0.990090</td>\n",
       "      <td>8.769402</td>\n",
       "      <td>0.994041</td>\n",
       "      <td>6.804762</td>\n",
       "      <td>0.996932</td>\n",
       "      <td>4.881399</td>\n",
       "      <td>80.0</td>\n",
       "      <td>1011</td>\n",
       "      <td>Train</td>\n",
       "    </tr>\n",
       "    <tr>\n",
       "      <th>7</th>\n",
       "      <td>0.988667</td>\n",
       "      <td>9.415291</td>\n",
       "      <td>0.990911</td>\n",
       "      <td>8.410859</td>\n",
       "      <td>0.991526</td>\n",
       "      <td>8.130013</td>\n",
       "      <td>80.0</td>\n",
       "      <td>1011</td>\n",
       "      <td>Test</td>\n",
       "    </tr>\n",
       "    <tr>\n",
       "      <th>8</th>\n",
       "      <td>0.985214</td>\n",
       "      <td>10.723660</td>\n",
       "      <td>0.996894</td>\n",
       "      <td>4.912086</td>\n",
       "      <td>0.995767</td>\n",
       "      <td>5.734554</td>\n",
       "      <td>90.0</td>\n",
       "      <td>1011</td>\n",
       "      <td>Train</td>\n",
       "    </tr>\n",
       "    <tr>\n",
       "      <th>9</th>\n",
       "      <td>0.984188</td>\n",
       "      <td>11.057067</td>\n",
       "      <td>0.991530</td>\n",
       "      <td>8.138069</td>\n",
       "      <td>0.992201</td>\n",
       "      <td>7.806470</td>\n",
       "      <td>90.0</td>\n",
       "      <td>1011</td>\n",
       "      <td>Test</td>\n",
       "    </tr>\n",
       "  </tbody>\n",
       "</table>\n",
       "</div>"
      ],
      "text/plain": [
       "   Run 1 R2  Run 1 RMSE  Run 2 R2  Run 2 RMSE  Run 3 R2  Run 3 RMSE  \\\n",
       "0  0.991026    8.349455  0.993314    7.210422  0.994627    6.463003   \n",
       "1  0.989360    9.096951  0.989764    8.917941  0.990281    8.691282   \n",
       "2  0.995475    5.924804  0.996445    5.253483  0.997653    4.266782   \n",
       "3  0.990839    8.450673  0.991196    8.280315  0.991406    8.185486   \n",
       "4  0.996224    5.415505  0.996697    5.066845  0.991463    8.135198   \n",
       "5  0.991688    8.045081  0.991355    8.198425  0.989797    8.932554   \n",
       "6  0.990090    8.769402  0.994041    6.804762  0.996932    4.881399   \n",
       "7  0.988667    9.415291  0.990911    8.410859  0.991526    8.130013   \n",
       "8  0.985214   10.723660  0.996894    4.912086  0.995767    5.734554   \n",
       "9  0.984188   11.057067  0.991530    8.138069  0.992201    7.806470   \n",
       "\n",
       "   Training %  Code  Class  \n",
       "0        50.0  1011  Train  \n",
       "1        50.0  1011   Test  \n",
       "2        60.0  1011  Train  \n",
       "3        60.0  1011   Test  \n",
       "4        70.0  1011  Train  \n",
       "5        70.0  1011   Test  \n",
       "6        80.0  1011  Train  \n",
       "7        80.0  1011   Test  \n",
       "8        90.0  1011  Train  \n",
       "9        90.0  1011   Test  "
      ]
     },
     "execution_count": 67,
     "metadata": {},
     "output_type": "execute_result"
    }
   ],
   "source": [
    "results_df"
   ]
  },
  {
   "cell_type": "markdown",
   "metadata": {},
   "source": [
    "# Parity Plot"
   ]
  },
  {
   "cell_type": "code",
   "execution_count": 76,
   "metadata": {},
   "outputs": [],
   "source": [
    "preds = ru.pd_load('/data/rgur/efrc/ml/group_pres_results/results_iso_code_1011_train_60_seed_20_05_14PM_on_April_28_2020.csv')"
   ]
  },
  {
   "cell_type": "code",
   "execution_count": 78,
   "metadata": {},
   "outputs": [],
   "source": [
    "fix_preds = preds['Prediction']"
   ]
  },
  {
   "cell_type": "code",
   "execution_count": 80,
   "metadata": {},
   "outputs": [],
   "source": [
    "fix_preds = [max(0,x) for x in fix_preds]"
   ]
  },
  {
   "cell_type": "code",
   "execution_count": 139,
   "metadata": {},
   "outputs": [],
   "source": [
    "truth = []\n",
    "for i in preds[['Filename', 'Pressure']].iterrows():\n",
    "    val = i[1]\n",
    "    truth.append( stacked_map[(val['Filename'], val['Pressure'])] )"
   ]
  },
  {
   "cell_type": "code",
   "execution_count": 140,
   "metadata": {},
   "outputs": [],
   "source": [
    "test_start = preds[preds['Class'] == 'Test'].index.to_list()[0]"
   ]
  },
  {
   "cell_type": "code",
   "execution_count": 141,
   "metadata": {},
   "outputs": [],
   "source": [
    "res_test_label = truth[test_start:]\n",
    "res_test_predictions = fix_preds[test_start:]\n",
    "res_train_label = truth[:test_start]\n",
    "res_train_predictions = fix_preds[:test_start]"
   ]
  },
  {
   "cell_type": "code",
   "execution_count": 142,
   "metadata": {},
   "outputs": [
    {
     "data": {
      "text/plain": [
       "[0.0, 12.4095458984375, 14.97004222869873, 49.9246826171875, 22.99345397949219]"
      ]
     },
     "execution_count": 142,
     "metadata": {},
     "output_type": "execute_result"
    }
   ],
   "source": [
    "res_train_label[0:5]"
   ]
  },
  {
   "cell_type": "code",
   "execution_count": 143,
   "metadata": {},
   "outputs": [
    {
     "data": {
      "text/plain": [
       "[0,\n",
       " 10.38751983642578,\n",
       " 15.063568115234375,\n",
       " 48.72477722167969,\n",
       " 27.27480316162109]"
      ]
     },
     "execution_count": 143,
     "metadata": {},
     "output_type": "execute_result"
    }
   ],
   "source": [
    "res_train_predictions[0:5]"
   ]
  },
  {
   "cell_type": "code",
   "execution_count": 144,
   "metadata": {},
   "outputs": [],
   "source": [
    "def fix_na(true, pred):\n",
    "    df = pd.DataFrame({'True': true, 'Pred': pred}).dropna()\n",
    "    return df['True'].to_list(), df['Pred'].to_list()"
   ]
  },
  {
   "cell_type": "code",
   "execution_count": 145,
   "metadata": {},
   "outputs": [],
   "source": [
    "res_test_label, res_test_predictions = fix_na(res_test_label, res_test_predictions)"
   ]
  },
  {
   "cell_type": "code",
   "execution_count": 146,
   "metadata": {},
   "outputs": [],
   "source": [
    "res_train_label, res_train_predictions = fix_na(res_train_label, res_train_predictions)"
   ]
  },
  {
   "cell_type": "code",
   "execution_count": null,
   "metadata": {},
   "outputs": [],
   "source": []
  },
  {
   "cell_type": "code",
   "execution_count": 147,
   "metadata": {},
   "outputs": [
    {
     "name": "stdout",
     "output_type": "stream",
     "text": [
      "Test RMSE is 8.185485981284085\n"
     ]
    },
    {
     "data": {
      "image/png": "[encoded data removed]",
      "text/plain": [
       "<Figure size 576x576 with 1 Axes>"
      ]
     },
     "metadata": {
      "needs_background": "light"
     },
     "output_type": "display_data"
    }
   ],
   "source": [
    "fig1,ax1 = plt.subplots(figsize = (8,8))\n",
    "\n",
    "\n",
    "rmse = ml.get_rmse(res_test_label, res_test_predictions)\n",
    "print(\"Test RMSE is %s\" %rmse)\n",
    "\n",
    "tr_rmse = ml.get_rmse(res_train_label, res_train_predictions)\n",
    "\n",
    "from sklearn.metrics import r2_score as r2\n",
    "\n",
    "r2_val = r2(y_true=res_test_label, y_pred=res_test_predictions)\n",
    "r2_tr = r2(y_true=res_train_label, y_pred=res_train_predictions)\n",
    "\n",
    "ax1.scatter(res_test_label, res_test_predictions, c='r',s=10, label='Test')\n",
    "is_stacked = True\n",
    "if is_stacked:\n",
    "    x_lab = 'True Volumetric Uptake'\n",
    "    y_lab = 'Predicted Volumetric Uptake'\n",
    "else:\n",
    "    x_lab = 'True Gravimetric Uptake'\n",
    "    y_lab = 'Predicted Gravimetric Uptake'\n",
    "\n",
    "ax1.set_xlabel(x_lab,fontsize=20)\n",
    "ax1.set_ylabel(y_lab,fontsize=20)\n",
    "max_val = max([max(res_test_label),max(res_test_predictions)])+1\n",
    "ax1.set_xlim(0, max_val)\n",
    "ax1.set_ylim(0, max_val)\n",
    "\n",
    "plot_x_min, plot_x_max = plt.xlim()\n",
    "plot_y_min, plot_y_max = plt.ylim()\n",
    "ax1.legend()\n",
    "ax1.plot(np.linspace(plot_x_min,plot_x_max,100),np.linspace(plot_y_min,plot_y_max,100),c='k',ls='--')\n",
    "text_position_x = plot_x_min + (plot_x_max - plot_x_min) * 0.05\n",
    "text_position_y = plot_y_max - (plot_y_max - plot_y_min) * 0.25\n",
    "\n",
    "ax1.text(text_position_x, text_position_y, \"RMSE test=\" + str(\"%.4f\" % rmse) + '\\n' + \n",
    "         \"RMSE train=\" + str(\"%.4f\" % tr_rmse) + '\\n' +\n",
    "         \"R2 test=\" + str(\"%.4f\" % r2_val) + '\\n' +\n",
    "         \"R2 train=\" + str(\"%.4f\" % r2_tr), ha='left', fontsize=16)\n",
    "fig1.tight_layout()"
   ]
  },
  {
   "cell_type": "code",
   "execution_count": null,
   "metadata": {},
   "outputs": [],
   "source": [
    "ml.parity_plot()"
   ]
  },
  {
   "cell_type": "markdown",
   "metadata": {},
   "source": [
    "# Scratch"
   ]
  },
  {
   "cell_type": "code",
   "execution_count": 109,
   "metadata": {},
   "outputs": [],
   "source": [
    "train_df = results_df[(results_df['Class'] == 'Train') & (results_df['Training %'] == 50.0)]"
   ]
  },
  {
   "cell_type": "code",
   "execution_count": 110,
   "metadata": {},
   "outputs": [
    {
     "name": "stderr",
     "output_type": "stream",
     "text": [
      "/home/modules/anaconda3/lib/python3.7/site-packages/ipykernel_launcher.py:1: SettingWithCopyWarning: \n",
      "A value is trying to be set on a copy of a slice from a DataFrame.\n",
      "Try using .loc[row_indexer,col_indexer] = value instead\n",
      "\n",
      "See the caveats in the documentation: http://pandas.pydata.org/pandas-docs/stable/indexing.html#indexing-view-versus-copy\n",
      "  \"\"\"Entry point for launching an IPython kernel.\n"
     ]
    }
   ],
   "source": [
    "train_df['Average RMSE'] = np.mean(train_df[['Run 1 RMSE', 'Run 2 RMSE', 'Run 3 RMSE']], axis=1)"
   ]
  },
  {
   "cell_type": "code",
   "execution_count": 111,
   "metadata": {},
   "outputs": [
    {
     "name": "stderr",
     "output_type": "stream",
     "text": [
      "/home/modules/anaconda3/lib/python3.7/site-packages/ipykernel_launcher.py:1: SettingWithCopyWarning: \n",
      "A value is trying to be set on a copy of a slice from a DataFrame.\n",
      "Try using .loc[row_indexer,col_indexer] = value instead\n",
      "\n",
      "See the caveats in the documentation: http://pandas.pydata.org/pandas-docs/stable/indexing.html#indexing-view-versus-copy\n",
      "  \"\"\"Entry point for launching an IPython kernel.\n"
     ]
    }
   ],
   "source": [
    "train_df['Average R2'] = np.mean(train_df[['Run 1 R2', 'Run 2 R2', 'Run 3 R2']], axis=1)"
   ]
  },
  {
   "cell_type": "code",
   "execution_count": 113,
   "metadata": {},
   "outputs": [
    {
     "name": "stderr",
     "output_type": "stream",
     "text": [
      "/home/modules/anaconda3/lib/python3.7/site-packages/ipykernel_launcher.py:1: SettingWithCopyWarning: \n",
      "A value is trying to be set on a copy of a slice from a DataFrame.\n",
      "Try using .loc[row_indexer,col_indexer] = value instead\n",
      "\n",
      "See the caveats in the documentation: http://pandas.pydata.org/pandas-docs/stable/indexing.html#indexing-view-versus-copy\n",
      "  \"\"\"Entry point for launching an IPython kernel.\n"
     ]
    }
   ],
   "source": [
    "train_df['STD RMSE'] = np.std(train_df[['Run 1 RMSE', 'Run 2 RMSE', 'Run 3 RMSE']], axis=1)"
   ]
  },
  {
   "cell_type": "code",
   "execution_count": 114,
   "metadata": {},
   "outputs": [
    {
     "data": {
      "text/html": [
       "<div>\n",
       "<style scoped>\n",
       "    .dataframe tbody tr th:only-of-type {\n",
       "        vertical-align: middle;\n",
       "    }\n",
       "\n",
       "    .dataframe tbody tr th {\n",
       "        vertical-align: top;\n",
       "    }\n",
       "\n",
       "    .dataframe thead th {\n",
       "        text-align: right;\n",
       "    }\n",
       "</style>\n",
       "<table border=\"1\" class=\"dataframe\">\n",
       "  <thead>\n",
       "    <tr style=\"text-align: right;\">\n",
       "      <th></th>\n",
       "      <th>Run 1 R2</th>\n",
       "      <th>Run 1 RMSE</th>\n",
       "      <th>Run 2 R2</th>\n",
       "      <th>Run 2 RMSE</th>\n",
       "      <th>Run 3 R2</th>\n",
       "      <th>Run 3 RMSE</th>\n",
       "      <th>Training %</th>\n",
       "      <th>Code</th>\n",
       "      <th>Class</th>\n",
       "      <th>Average RMSE</th>\n",
       "      <th>Average R2</th>\n",
       "      <th>STD RMSE</th>\n",
       "    </tr>\n",
       "  </thead>\n",
       "  <tbody>\n",
       "    <tr>\n",
       "      <th>0</th>\n",
       "      <td>0.956732</td>\n",
       "      <td>21.776226</td>\n",
       "      <td>0.947849</td>\n",
       "      <td>23.943619</td>\n",
       "      <td>0.930724</td>\n",
       "      <td>27.563389</td>\n",
       "      <td>50.0</td>\n",
       "      <td>1000</td>\n",
       "      <td>Train</td>\n",
       "      <td>24.427745</td>\n",
       "      <td>0.945102</td>\n",
       "      <td>2.387271</td>\n",
       "    </tr>\n",
       "  </tbody>\n",
       "</table>\n",
       "</div>"
      ],
      "text/plain": [
       "   Run 1 R2  Run 1 RMSE  Run 2 R2  Run 2 RMSE  Run 3 R2  Run 3 RMSE  \\\n",
       "0  0.956732   21.776226  0.947849   23.943619  0.930724   27.563389   \n",
       "\n",
       "   Training %  Code  Class  Average RMSE  Average R2  STD RMSE  \n",
       "0        50.0  1000  Train     24.427745    0.945102  2.387271  "
      ]
     },
     "execution_count": 114,
     "metadata": {},
     "output_type": "execute_result"
    }
   ],
   "source": [
    "train_df"
   ]
  },
  {
   "cell_type": "markdown",
   "metadata": {},
   "source": [
    "# Test functions"
   ]
  },
  {
   "cell_type": "code",
   "execution_count": null,
   "metadata": {},
   "outputs": [],
   "source": [
    "getMetrics([1,0,0], [1,0,0], [ml.get_rmse, r2]) "
   ]
  },
  {
   "cell_type": "code",
   "execution_count": null,
   "metadata": {},
   "outputs": [],
   "source": []
  },
  {
   "cell_type": "code",
   "execution_count": null,
   "metadata": {},
   "outputs": [],
   "source": []
  },
  {
   "cell_type": "code",
   "execution_count": null,
   "metadata": {},
   "outputs": [],
   "source": [
    "a = '/data/rgur/efrc/ml/results/results_grav_code_1110_train_60_seed_0_12_34PM_on_April_17_2020.csv'"
   ]
  },
  {
   "cell_type": "code",
   "execution_count": null,
   "metadata": {},
   "outputs": [],
   "source": [
    "checkGravFile(a)"
   ]
  },
  {
   "cell_type": "code",
   "execution_count": null,
   "metadata": {},
   "outputs": [],
   "source": []
  },
  {
   "cell_type": "code",
   "execution_count": null,
   "metadata": {},
   "outputs": [],
   "source": []
  },
  {
   "cell_type": "code",
   "execution_count": null,
   "metadata": {},
   "outputs": [],
   "source": [
    "unflatten([0,1,2,3,4,6,7,8,9], 3)"
   ]
  },
  {
   "cell_type": "code",
   "execution_count": null,
   "metadata": {},
   "outputs": [],
   "source": []
  },
  {
   "cell_type": "code",
   "execution_count": null,
   "metadata": {},
   "outputs": [],
   "source": [
    "labelFromCode('1111')"
   ]
  },
  {
   "cell_type": "code",
   "execution_count": null,
   "metadata": {},
   "outputs": [],
   "source": []
  },
  {
   "cell_type": "code",
   "execution_count": 91,
   "metadata": {},
   "outputs": [],
   "source": [
    "df = ru.pd_load('/data/rgur/efrc/ml/results/results_grav_code_1000_train_50_seed_0_12_18PM_on_April_29_2020.csv')"
   ]
  },
  {
   "cell_type": "code",
   "execution_count": 92,
   "metadata": {},
   "outputs": [
    {
     "data": {
      "text/html": [
       "<div>\n",
       "<style scoped>\n",
       "    .dataframe tbody tr th:only-of-type {\n",
       "        vertical-align: middle;\n",
       "    }\n",
       "\n",
       "    .dataframe tbody tr th {\n",
       "        vertical-align: top;\n",
       "    }\n",
       "\n",
       "    .dataframe thead th {\n",
       "        text-align: right;\n",
       "    }\n",
       "</style>\n",
       "<table border=\"1\" class=\"dataframe\">\n",
       "  <thead>\n",
       "    <tr style=\"text-align: right;\">\n",
       "      <th></th>\n",
       "      <th>Unnamed: 0</th>\n",
       "      <th>Filename</th>\n",
       "      <th>Pressure</th>\n",
       "      <th>Class</th>\n",
       "      <th>Prediction</th>\n",
       "    </tr>\n",
       "  </thead>\n",
       "  <tbody>\n",
       "    <tr>\n",
       "      <th>0</th>\n",
       "      <td>0</td>\n",
       "      <td>hypotheticalMOF_5053773_i_1_j_27_k_27_m_7_cat_...</td>\n",
       "      <td>35</td>\n",
       "      <td>Train</td>\n",
       "      <td>310.802795</td>\n",
       "    </tr>\n",
       "    <tr>\n",
       "      <th>1</th>\n",
       "      <td>1</td>\n",
       "      <td>hypotheticalMOF_5051526_i_1_j_27_k_5_m_9_cat_1...</td>\n",
       "      <td>35</td>\n",
       "      <td>Train</td>\n",
       "      <td>249.915619</td>\n",
       "    </tr>\n",
       "    <tr>\n",
       "      <th>2</th>\n",
       "      <td>2</td>\n",
       "      <td>hypotheticalMOF_5004666_i_0_j_20_k_12_m_1_cat_...</td>\n",
       "      <td>35</td>\n",
       "      <td>Train</td>\n",
       "      <td>89.942970</td>\n",
       "    </tr>\n",
       "    <tr>\n",
       "      <th>3</th>\n",
       "      <td>3</td>\n",
       "      <td>hypotheticalMOF_5024913_i_0_j_27_k_17_m_7_cat_...</td>\n",
       "      <td>35</td>\n",
       "      <td>Train</td>\n",
       "      <td>232.454697</td>\n",
       "    </tr>\n",
       "    <tr>\n",
       "      <th>4</th>\n",
       "      <td>4</td>\n",
       "      <td>hypotheticalMOF_15055_i_0_j_17_k_13_m_7_cat_1.cif</td>\n",
       "      <td>35</td>\n",
       "      <td>Train</td>\n",
       "      <td>175.953964</td>\n",
       "    </tr>\n",
       "    <tr>\n",
       "      <th>5</th>\n",
       "      <td>5</td>\n",
       "      <td>hypotheticalMOF_5022583_i_0_j_26_k_26_m_11_cat...</td>\n",
       "      <td>35</td>\n",
       "      <td>Train</td>\n",
       "      <td>235.852203</td>\n",
       "    </tr>\n",
       "    <tr>\n",
       "      <th>6</th>\n",
       "      <td>6</td>\n",
       "      <td>hypotheticalMOF_5065435_i_2_j_21_k_17_m_10_cat...</td>\n",
       "      <td>35</td>\n",
       "      <td>Train</td>\n",
       "      <td>112.377510</td>\n",
       "    </tr>\n",
       "    <tr>\n",
       "      <th>7</th>\n",
       "      <td>7</td>\n",
       "      <td>hypotheticalMOF_9033_i_0_j_13_k_2_m_10_cat_1.cif</td>\n",
       "      <td>35</td>\n",
       "      <td>Train</td>\n",
       "      <td>160.230682</td>\n",
       "    </tr>\n",
       "    <tr>\n",
       "      <th>8</th>\n",
       "      <td>8</td>\n",
       "      <td>hypotheticalMOF_5005681_i_0_j_20_k_19_m_7_cat_...</td>\n",
       "      <td>35</td>\n",
       "      <td>Train</td>\n",
       "      <td>67.108932</td>\n",
       "    </tr>\n",
       "    <tr>\n",
       "      <th>9</th>\n",
       "      <td>9</td>\n",
       "      <td>hypotheticalMOF_5046246_i_1_j_25_k_1_m_1_cat_1...</td>\n",
       "      <td>35</td>\n",
       "      <td>Train</td>\n",
       "      <td>192.713150</td>\n",
       "    </tr>\n",
       "    <tr>\n",
       "      <th>10</th>\n",
       "      <td>10</td>\n",
       "      <td>hypotheticalMOF_5069045_i_2_j_23_k_20_m_9_cat_...</td>\n",
       "      <td>35</td>\n",
       "      <td>Train</td>\n",
       "      <td>62.524933</td>\n",
       "    </tr>\n",
       "    <tr>\n",
       "      <th>11</th>\n",
       "      <td>11</td>\n",
       "      <td>hypotheticalMOF_5018861_i_0_j_25_k_20_m_9_cat_...</td>\n",
       "      <td>35</td>\n",
       "      <td>Train</td>\n",
       "      <td>50.915451</td>\n",
       "    </tr>\n",
       "    <tr>\n",
       "      <th>12</th>\n",
       "      <td>12</td>\n",
       "      <td>hypotheticalMOF_5042289_i_1_j_22_k_20_m_7_cat_...</td>\n",
       "      <td>35</td>\n",
       "      <td>Train</td>\n",
       "      <td>63.337189</td>\n",
       "    </tr>\n",
       "    <tr>\n",
       "      <th>13</th>\n",
       "      <td>13</td>\n",
       "      <td>hypotheticalMOF_5028686_i_0_j_28_k_18_m_4_cat_...</td>\n",
       "      <td>35</td>\n",
       "      <td>Train</td>\n",
       "      <td>273.350983</td>\n",
       "    </tr>\n",
       "    <tr>\n",
       "      <th>14</th>\n",
       "      <td>14</td>\n",
       "      <td>hypotheticalMOF_5008401_i_0_j_21_k_18_m_7_cat_...</td>\n",
       "      <td>35</td>\n",
       "      <td>Train</td>\n",
       "      <td>214.825302</td>\n",
       "    </tr>\n",
       "    <tr>\n",
       "      <th>15</th>\n",
       "      <td>15</td>\n",
       "      <td>hypotheticalMOF_5009699_i_0_j_22_k_5_m_9_cat_2...</td>\n",
       "      <td>35</td>\n",
       "      <td>Train</td>\n",
       "      <td>-0.459213</td>\n",
       "    </tr>\n",
       "    <tr>\n",
       "      <th>16</th>\n",
       "      <td>16</td>\n",
       "      <td>hypotheticalMOF_5068701_i_2_j_23_k_17_m_1_cat_...</td>\n",
       "      <td>35</td>\n",
       "      <td>Train</td>\n",
       "      <td>118.765663</td>\n",
       "    </tr>\n",
       "    <tr>\n",
       "      <th>17</th>\n",
       "      <td>17</td>\n",
       "      <td>hypotheticalMOF_5039630_i_1_j_21_k_10_m_9_cat_...</td>\n",
       "      <td>35</td>\n",
       "      <td>Train</td>\n",
       "      <td>13.605118</td>\n",
       "    </tr>\n",
       "    <tr>\n",
       "      <th>18</th>\n",
       "      <td>18</td>\n",
       "      <td>hypotheticalMOF_5048267_i_1_j_25_k_20_m_14_cat...</td>\n",
       "      <td>35</td>\n",
       "      <td>Train</td>\n",
       "      <td>184.878815</td>\n",
       "    </tr>\n",
       "    <tr>\n",
       "      <th>19</th>\n",
       "      <td>19</td>\n",
       "      <td>hypotheticalMOF_3001490_i_2_j_25_k_23_m_6_cat_...</td>\n",
       "      <td>35</td>\n",
       "      <td>Train</td>\n",
       "      <td>364.095520</td>\n",
       "    </tr>\n",
       "    <tr>\n",
       "      <th>20</th>\n",
       "      <td>20</td>\n",
       "      <td>hypotheticalMOF_3001230_i_2_j_24_k_23_m_1_cat_...</td>\n",
       "      <td>35</td>\n",
       "      <td>Train</td>\n",
       "      <td>170.814514</td>\n",
       "    </tr>\n",
       "    <tr>\n",
       "      <th>21</th>\n",
       "      <td>21</td>\n",
       "      <td>hypotheticalMOF_5080949_i_2_j_28_k_27_m_14_cat...</td>\n",
       "      <td>35</td>\n",
       "      <td>Train</td>\n",
       "      <td>312.189667</td>\n",
       "    </tr>\n",
       "    <tr>\n",
       "      <th>22</th>\n",
       "      <td>22</td>\n",
       "      <td>hypotheticalMOF_5048372_i_1_j_25_k_21_m_7_cat_...</td>\n",
       "      <td>35</td>\n",
       "      <td>Train</td>\n",
       "      <td>213.993576</td>\n",
       "    </tr>\n",
       "    <tr>\n",
       "      <th>23</th>\n",
       "      <td>23</td>\n",
       "      <td>hypotheticalMOF_5018753_i_0_j_25_k_20_m_2_cat_...</td>\n",
       "      <td>35</td>\n",
       "      <td>Train</td>\n",
       "      <td>225.065521</td>\n",
       "    </tr>\n",
       "    <tr>\n",
       "      <th>24</th>\n",
       "      <td>24</td>\n",
       "      <td>hypotheticalMOF_5058061_i_1_j_29_k_23_m_1_cat_...</td>\n",
       "      <td>35</td>\n",
       "      <td>Train</td>\n",
       "      <td>227.374222</td>\n",
       "    </tr>\n",
       "    <tr>\n",
       "      <th>25</th>\n",
       "      <td>25</td>\n",
       "      <td>hypotheticalMOF_5068902_i_2_j_23_k_19_m_9_cat_...</td>\n",
       "      <td>35</td>\n",
       "      <td>Train</td>\n",
       "      <td>150.112976</td>\n",
       "    </tr>\n",
       "    <tr>\n",
       "      <th>26</th>\n",
       "      <td>26</td>\n",
       "      <td>hypotheticalMOF_5070517_i_2_j_24_k_19_m_2_cat_...</td>\n",
       "      <td>35</td>\n",
       "      <td>Train</td>\n",
       "      <td>26.949173</td>\n",
       "    </tr>\n",
       "    <tr>\n",
       "      <th>27</th>\n",
       "      <td>27</td>\n",
       "      <td>hypotheticalMOF_5036165_i_1_j_20_k_4_m_4_cat_1...</td>\n",
       "      <td>35</td>\n",
       "      <td>Train</td>\n",
       "      <td>92.805389</td>\n",
       "    </tr>\n",
       "    <tr>\n",
       "      <th>28</th>\n",
       "      <td>28</td>\n",
       "      <td>hypotheticalMOF_5052796_i_1_j_27_k_19_m_12_cat...</td>\n",
       "      <td>35</td>\n",
       "      <td>Train</td>\n",
       "      <td>95.865768</td>\n",
       "    </tr>\n",
       "    <tr>\n",
       "      <th>29</th>\n",
       "      <td>29</td>\n",
       "      <td>hypotheticalMOF_5033665_i_1_j_19_k_0_m_7_cat_1...</td>\n",
       "      <td>35</td>\n",
       "      <td>Train</td>\n",
       "      <td>16.735382</td>\n",
       "    </tr>\n",
       "    <tr>\n",
       "      <th>...</th>\n",
       "      <td>...</td>\n",
       "      <td>...</td>\n",
       "      <td>...</td>\n",
       "      <td>...</td>\n",
       "      <td>...</td>\n",
       "    </tr>\n",
       "    <tr>\n",
       "      <th>126339</th>\n",
       "      <td>126339</td>\n",
       "      <td>hypotheticalMOF_5068419_i_2_j_23_k_12_m_2.cif</td>\n",
       "      <td>35</td>\n",
       "      <td>Test</td>\n",
       "      <td>202.791687</td>\n",
       "    </tr>\n",
       "    <tr>\n",
       "      <th>126340</th>\n",
       "      <td>126340</td>\n",
       "      <td>hypotheticalMOF_6003391_i_3_j_25_k_9_m_13.cif</td>\n",
       "      <td>35</td>\n",
       "      <td>Test</td>\n",
       "      <td>105.333542</td>\n",
       "    </tr>\n",
       "    <tr>\n",
       "      <th>126341</th>\n",
       "      <td>126341</td>\n",
       "      <td>hypotheticalMOF_31169_i_2_j_10_k_0_m_4.cif</td>\n",
       "      <td>35</td>\n",
       "      <td>Test</td>\n",
       "      <td>208.591934</td>\n",
       "    </tr>\n",
       "    <tr>\n",
       "      <th>126342</th>\n",
       "      <td>126342</td>\n",
       "      <td>hypotheticalMOF_5065466_i_2_j_21_k_18_m_3.cif</td>\n",
       "      <td>35</td>\n",
       "      <td>Test</td>\n",
       "      <td>173.289902</td>\n",
       "    </tr>\n",
       "    <tr>\n",
       "      <th>126343</th>\n",
       "      <td>126343</td>\n",
       "      <td>hypotheticalMOF_33820_i_2_j_13_k_7_m_1.cif</td>\n",
       "      <td>35</td>\n",
       "      <td>Test</td>\n",
       "      <td>242.261261</td>\n",
       "    </tr>\n",
       "    <tr>\n",
       "      <th>126344</th>\n",
       "      <td>126344</td>\n",
       "      <td>hypotheticalMOF_6002899_i_3_j_24_k_7_m_10.cif</td>\n",
       "      <td>35</td>\n",
       "      <td>Test</td>\n",
       "      <td>72.692375</td>\n",
       "    </tr>\n",
       "    <tr>\n",
       "      <th>126345</th>\n",
       "      <td>126345</td>\n",
       "      <td>hypotheticalMOF_5003451_i_0_j_20_k_5_m_1.cif</td>\n",
       "      <td>35</td>\n",
       "      <td>Test</td>\n",
       "      <td>252.041779</td>\n",
       "    </tr>\n",
       "    <tr>\n",
       "      <th>126346</th>\n",
       "      <td>126346</td>\n",
       "      <td>hypotheticalMOF_1004528_i_4_j_18_k_2_m_1.cif</td>\n",
       "      <td>35</td>\n",
       "      <td>Test</td>\n",
       "      <td>169.750931</td>\n",
       "    </tr>\n",
       "    <tr>\n",
       "      <th>126347</th>\n",
       "      <td>126347</td>\n",
       "      <td>hypotheticalMOF_32033_i_2_j_11_k_2_m_4.cif</td>\n",
       "      <td>35</td>\n",
       "      <td>Test</td>\n",
       "      <td>396.313599</td>\n",
       "    </tr>\n",
       "    <tr>\n",
       "      <th>126348</th>\n",
       "      <td>126348</td>\n",
       "      <td>hypotheticalMOF_6002277_i_3_j_22_k_20_m_4.cif</td>\n",
       "      <td>35</td>\n",
       "      <td>Test</td>\n",
       "      <td>147.110947</td>\n",
       "    </tr>\n",
       "    <tr>\n",
       "      <th>126349</th>\n",
       "      <td>126349</td>\n",
       "      <td>hypotheticalMOF_5063278_i_2_j_20_k_19_m_4.cif</td>\n",
       "      <td>35</td>\n",
       "      <td>Test</td>\n",
       "      <td>227.033173</td>\n",
       "    </tr>\n",
       "    <tr>\n",
       "      <th>126350</th>\n",
       "      <td>126350</td>\n",
       "      <td>hypotheticalMOF_5066829_i_2_j_22_k_10_m_11.cif</td>\n",
       "      <td>35</td>\n",
       "      <td>Test</td>\n",
       "      <td>149.116028</td>\n",
       "    </tr>\n",
       "    <tr>\n",
       "      <th>126351</th>\n",
       "      <td>126351</td>\n",
       "      <td>hypotheticalMOF_5069718_i_2_j_24_k_5_m_7.cif</td>\n",
       "      <td>35</td>\n",
       "      <td>Test</td>\n",
       "      <td>242.190277</td>\n",
       "    </tr>\n",
       "    <tr>\n",
       "      <th>126352</th>\n",
       "      <td>126352</td>\n",
       "      <td>hypotheticalMOF_3002045_i_2_j_26_k_26_m_0.cif</td>\n",
       "      <td>35</td>\n",
       "      <td>Test</td>\n",
       "      <td>131.844391</td>\n",
       "    </tr>\n",
       "    <tr>\n",
       "      <th>126353</th>\n",
       "      <td>126353</td>\n",
       "      <td>hypotheticalMOF_5065047_i_2_j_21_k_12_m_12.cif</td>\n",
       "      <td>35</td>\n",
       "      <td>Test</td>\n",
       "      <td>296.678833</td>\n",
       "    </tr>\n",
       "    <tr>\n",
       "      <th>126354</th>\n",
       "      <td>126354</td>\n",
       "      <td>hypotheticalMOF_5008598_i_0_j_21_k_19_m_9.cif</td>\n",
       "      <td>35</td>\n",
       "      <td>Test</td>\n",
       "      <td>208.794403</td>\n",
       "    </tr>\n",
       "    <tr>\n",
       "      <th>126355</th>\n",
       "      <td>126355</td>\n",
       "      <td>hypotheticalMOF_22257_i_1_j_12_k_0_m_4.cif</td>\n",
       "      <td>35</td>\n",
       "      <td>Test</td>\n",
       "      <td>67.117653</td>\n",
       "    </tr>\n",
       "    <tr>\n",
       "      <th>126356</th>\n",
       "      <td>126356</td>\n",
       "      <td>hypotheticalMOF_7002120_i_4_j_27_k_13_m_7.cif</td>\n",
       "      <td>35</td>\n",
       "      <td>Test</td>\n",
       "      <td>159.242783</td>\n",
       "    </tr>\n",
       "    <tr>\n",
       "      <th>126357</th>\n",
       "      <td>126357</td>\n",
       "      <td>hypotheticalMOF_26324_i_1_j_17_k_11_m_11.cif</td>\n",
       "      <td>35</td>\n",
       "      <td>Test</td>\n",
       "      <td>220.289932</td>\n",
       "    </tr>\n",
       "    <tr>\n",
       "      <th>126358</th>\n",
       "      <td>126358</td>\n",
       "      <td>hypotheticalMOF_5066370_i_2_j_22_k_2_m_10.cif</td>\n",
       "      <td>35</td>\n",
       "      <td>Test</td>\n",
       "      <td>226.342560</td>\n",
       "    </tr>\n",
       "    <tr>\n",
       "      <th>126359</th>\n",
       "      <td>126359</td>\n",
       "      <td>hypotheticalMOF_13777_i_0_j_16_k_16_m_6.cif</td>\n",
       "      <td>35</td>\n",
       "      <td>Test</td>\n",
       "      <td>244.118073</td>\n",
       "    </tr>\n",
       "    <tr>\n",
       "      <th>126360</th>\n",
       "      <td>126360</td>\n",
       "      <td>hypotheticalMOF_1002914_i_3_j_18_k_1_m_9.cif</td>\n",
       "      <td>35</td>\n",
       "      <td>Test</td>\n",
       "      <td>199.008957</td>\n",
       "    </tr>\n",
       "    <tr>\n",
       "      <th>126361</th>\n",
       "      <td>126361</td>\n",
       "      <td>hypotheticalMOF_5058663_i_1_j_29_k_29_m_2.cif</td>\n",
       "      <td>35</td>\n",
       "      <td>Test</td>\n",
       "      <td>374.019165</td>\n",
       "    </tr>\n",
       "    <tr>\n",
       "      <th>126362</th>\n",
       "      <td>126362</td>\n",
       "      <td>hypotheticalMOF_5066022_i_2_j_21_k_21_m_1.cif</td>\n",
       "      <td>35</td>\n",
       "      <td>Test</td>\n",
       "      <td>263.065704</td>\n",
       "    </tr>\n",
       "    <tr>\n",
       "      <th>126363</th>\n",
       "      <td>126363</td>\n",
       "      <td>hypotheticalMOF_7001830_i_4_j_26_k_22_m_9.cif</td>\n",
       "      <td>35</td>\n",
       "      <td>Test</td>\n",
       "      <td>96.743439</td>\n",
       "    </tr>\n",
       "    <tr>\n",
       "      <th>126364</th>\n",
       "      <td>126364</td>\n",
       "      <td>hypotheticalMOF_31779_i_2_j_10_k_9_m_11.cif</td>\n",
       "      <td>35</td>\n",
       "      <td>Test</td>\n",
       "      <td>79.833588</td>\n",
       "    </tr>\n",
       "    <tr>\n",
       "      <th>126365</th>\n",
       "      <td>126365</td>\n",
       "      <td>hypotheticalMOF_2000013_i_1_j_19_k_19_m_3.cif</td>\n",
       "      <td>35</td>\n",
       "      <td>Test</td>\n",
       "      <td>108.897430</td>\n",
       "    </tr>\n",
       "    <tr>\n",
       "      <th>126366</th>\n",
       "      <td>126366</td>\n",
       "      <td>hypotheticalMOF_21351_i_1_j_11_k_0_m_1.cif</td>\n",
       "      <td>35</td>\n",
       "      <td>Test</td>\n",
       "      <td>174.536285</td>\n",
       "    </tr>\n",
       "    <tr>\n",
       "      <th>126367</th>\n",
       "      <td>126367</td>\n",
       "      <td>hypotheticalMOF_1003152_i_3_j_18_k_18_m_3.cif</td>\n",
       "      <td>35</td>\n",
       "      <td>Test</td>\n",
       "      <td>103.134262</td>\n",
       "    </tr>\n",
       "    <tr>\n",
       "      <th>126368</th>\n",
       "      <td>126368</td>\n",
       "      <td>hypotheticalMOF_5000920_i_0_j_19_k_5_m_11.cif</td>\n",
       "      <td>35</td>\n",
       "      <td>Test</td>\n",
       "      <td>276.357208</td>\n",
       "    </tr>\n",
       "  </tbody>\n",
       "</table>\n",
       "<p>126369 rows × 5 columns</p>\n",
       "</div>"
      ],
      "text/plain": [
       "        Unnamed: 0                                           Filename  \\\n",
       "0                0  hypotheticalMOF_5053773_i_1_j_27_k_27_m_7_cat_...   \n",
       "1                1  hypotheticalMOF_5051526_i_1_j_27_k_5_m_9_cat_1...   \n",
       "2                2  hypotheticalMOF_5004666_i_0_j_20_k_12_m_1_cat_...   \n",
       "3                3  hypotheticalMOF_5024913_i_0_j_27_k_17_m_7_cat_...   \n",
       "4                4  hypotheticalMOF_15055_i_0_j_17_k_13_m_7_cat_1.cif   \n",
       "5                5  hypotheticalMOF_5022583_i_0_j_26_k_26_m_11_cat...   \n",
       "6                6  hypotheticalMOF_5065435_i_2_j_21_k_17_m_10_cat...   \n",
       "7                7   hypotheticalMOF_9033_i_0_j_13_k_2_m_10_cat_1.cif   \n",
       "8                8  hypotheticalMOF_5005681_i_0_j_20_k_19_m_7_cat_...   \n",
       "9                9  hypotheticalMOF_5046246_i_1_j_25_k_1_m_1_cat_1...   \n",
       "10              10  hypotheticalMOF_5069045_i_2_j_23_k_20_m_9_cat_...   \n",
       "11              11  hypotheticalMOF_5018861_i_0_j_25_k_20_m_9_cat_...   \n",
       "12              12  hypotheticalMOF_5042289_i_1_j_22_k_20_m_7_cat_...   \n",
       "13              13  hypotheticalMOF_5028686_i_0_j_28_k_18_m_4_cat_...   \n",
       "14              14  hypotheticalMOF_5008401_i_0_j_21_k_18_m_7_cat_...   \n",
       "15              15  hypotheticalMOF_5009699_i_0_j_22_k_5_m_9_cat_2...   \n",
       "16              16  hypotheticalMOF_5068701_i_2_j_23_k_17_m_1_cat_...   \n",
       "17              17  hypotheticalMOF_5039630_i_1_j_21_k_10_m_9_cat_...   \n",
       "18              18  hypotheticalMOF_5048267_i_1_j_25_k_20_m_14_cat...   \n",
       "19              19  hypotheticalMOF_3001490_i_2_j_25_k_23_m_6_cat_...   \n",
       "20              20  hypotheticalMOF_3001230_i_2_j_24_k_23_m_1_cat_...   \n",
       "21              21  hypotheticalMOF_5080949_i_2_j_28_k_27_m_14_cat...   \n",
       "22              22  hypotheticalMOF_5048372_i_1_j_25_k_21_m_7_cat_...   \n",
       "23              23  hypotheticalMOF_5018753_i_0_j_25_k_20_m_2_cat_...   \n",
       "24              24  hypotheticalMOF_5058061_i_1_j_29_k_23_m_1_cat_...   \n",
       "25              25  hypotheticalMOF_5068902_i_2_j_23_k_19_m_9_cat_...   \n",
       "26              26  hypotheticalMOF_5070517_i_2_j_24_k_19_m_2_cat_...   \n",
       "27              27  hypotheticalMOF_5036165_i_1_j_20_k_4_m_4_cat_1...   \n",
       "28              28  hypotheticalMOF_5052796_i_1_j_27_k_19_m_12_cat...   \n",
       "29              29  hypotheticalMOF_5033665_i_1_j_19_k_0_m_7_cat_1...   \n",
       "...            ...                                                ...   \n",
       "126339      126339      hypotheticalMOF_5068419_i_2_j_23_k_12_m_2.cif   \n",
       "126340      126340      hypotheticalMOF_6003391_i_3_j_25_k_9_m_13.cif   \n",
       "126341      126341         hypotheticalMOF_31169_i_2_j_10_k_0_m_4.cif   \n",
       "126342      126342      hypotheticalMOF_5065466_i_2_j_21_k_18_m_3.cif   \n",
       "126343      126343         hypotheticalMOF_33820_i_2_j_13_k_7_m_1.cif   \n",
       "126344      126344      hypotheticalMOF_6002899_i_3_j_24_k_7_m_10.cif   \n",
       "126345      126345       hypotheticalMOF_5003451_i_0_j_20_k_5_m_1.cif   \n",
       "126346      126346       hypotheticalMOF_1004528_i_4_j_18_k_2_m_1.cif   \n",
       "126347      126347         hypotheticalMOF_32033_i_2_j_11_k_2_m_4.cif   \n",
       "126348      126348      hypotheticalMOF_6002277_i_3_j_22_k_20_m_4.cif   \n",
       "126349      126349      hypotheticalMOF_5063278_i_2_j_20_k_19_m_4.cif   \n",
       "126350      126350     hypotheticalMOF_5066829_i_2_j_22_k_10_m_11.cif   \n",
       "126351      126351       hypotheticalMOF_5069718_i_2_j_24_k_5_m_7.cif   \n",
       "126352      126352      hypotheticalMOF_3002045_i_2_j_26_k_26_m_0.cif   \n",
       "126353      126353     hypotheticalMOF_5065047_i_2_j_21_k_12_m_12.cif   \n",
       "126354      126354      hypotheticalMOF_5008598_i_0_j_21_k_19_m_9.cif   \n",
       "126355      126355         hypotheticalMOF_22257_i_1_j_12_k_0_m_4.cif   \n",
       "126356      126356      hypotheticalMOF_7002120_i_4_j_27_k_13_m_7.cif   \n",
       "126357      126357       hypotheticalMOF_26324_i_1_j_17_k_11_m_11.cif   \n",
       "126358      126358      hypotheticalMOF_5066370_i_2_j_22_k_2_m_10.cif   \n",
       "126359      126359        hypotheticalMOF_13777_i_0_j_16_k_16_m_6.cif   \n",
       "126360      126360       hypotheticalMOF_1002914_i_3_j_18_k_1_m_9.cif   \n",
       "126361      126361      hypotheticalMOF_5058663_i_1_j_29_k_29_m_2.cif   \n",
       "126362      126362      hypotheticalMOF_5066022_i_2_j_21_k_21_m_1.cif   \n",
       "126363      126363      hypotheticalMOF_7001830_i_4_j_26_k_22_m_9.cif   \n",
       "126364      126364        hypotheticalMOF_31779_i_2_j_10_k_9_m_11.cif   \n",
       "126365      126365      hypotheticalMOF_2000013_i_1_j_19_k_19_m_3.cif   \n",
       "126366      126366         hypotheticalMOF_21351_i_1_j_11_k_0_m_1.cif   \n",
       "126367      126367      hypotheticalMOF_1003152_i_3_j_18_k_18_m_3.cif   \n",
       "126368      126368      hypotheticalMOF_5000920_i_0_j_19_k_5_m_11.cif   \n",
       "\n",
       "        Pressure  Class  Prediction  \n",
       "0             35  Train  310.802795  \n",
       "1             35  Train  249.915619  \n",
       "2             35  Train   89.942970  \n",
       "3             35  Train  232.454697  \n",
       "4             35  Train  175.953964  \n",
       "5             35  Train  235.852203  \n",
       "6             35  Train  112.377510  \n",
       "7             35  Train  160.230682  \n",
       "8             35  Train   67.108932  \n",
       "9             35  Train  192.713150  \n",
       "10            35  Train   62.524933  \n",
       "11            35  Train   50.915451  \n",
       "12            35  Train   63.337189  \n",
       "13            35  Train  273.350983  \n",
       "14            35  Train  214.825302  \n",
       "15            35  Train   -0.459213  \n",
       "16            35  Train  118.765663  \n",
       "17            35  Train   13.605118  \n",
       "18            35  Train  184.878815  \n",
       "19            35  Train  364.095520  \n",
       "20            35  Train  170.814514  \n",
       "21            35  Train  312.189667  \n",
       "22            35  Train  213.993576  \n",
       "23            35  Train  225.065521  \n",
       "24            35  Train  227.374222  \n",
       "25            35  Train  150.112976  \n",
       "26            35  Train   26.949173  \n",
       "27            35  Train   92.805389  \n",
       "28            35  Train   95.865768  \n",
       "29            35  Train   16.735382  \n",
       "...          ...    ...         ...  \n",
       "126339        35   Test  202.791687  \n",
       "126340        35   Test  105.333542  \n",
       "126341        35   Test  208.591934  \n",
       "126342        35   Test  173.289902  \n",
       "126343        35   Test  242.261261  \n",
       "126344        35   Test   72.692375  \n",
       "126345        35   Test  252.041779  \n",
       "126346        35   Test  169.750931  \n",
       "126347        35   Test  396.313599  \n",
       "126348        35   Test  147.110947  \n",
       "126349        35   Test  227.033173  \n",
       "126350        35   Test  149.116028  \n",
       "126351        35   Test  242.190277  \n",
       "126352        35   Test  131.844391  \n",
       "126353        35   Test  296.678833  \n",
       "126354        35   Test  208.794403  \n",
       "126355        35   Test   67.117653  \n",
       "126356        35   Test  159.242783  \n",
       "126357        35   Test  220.289932  \n",
       "126358        35   Test  226.342560  \n",
       "126359        35   Test  244.118073  \n",
       "126360        35   Test  199.008957  \n",
       "126361        35   Test  374.019165  \n",
       "126362        35   Test  263.065704  \n",
       "126363        35   Test   96.743439  \n",
       "126364        35   Test   79.833588  \n",
       "126365        35   Test  108.897430  \n",
       "126366        35   Test  174.536285  \n",
       "126367        35   Test  103.134262  \n",
       "126368        35   Test  276.357208  \n",
       "\n",
       "[126369 rows x 5 columns]"
      ]
     },
     "execution_count": 92,
     "metadata": {},
     "output_type": "execute_result"
    }
   ],
   "source": [
    "df"
   ]
  }
 ],
 "metadata": {
  "kernelspec": {
   "display_name": "Python 3",
   "language": "python",
   "name": "python3"
  },
  "language_info": {
   "codemirror_mode": {
    "name": "ipython",
    "version": 3
   },
   "file_extension": ".py",
   "mimetype": "text/x-python",
   "name": "python",
   "nbconvert_exporter": "python",
   "pygments_lexer": "ipython3",
   "version": "3.7.3"
  }
 },
 "nbformat": 4,
 "nbformat_minor": 2
}
