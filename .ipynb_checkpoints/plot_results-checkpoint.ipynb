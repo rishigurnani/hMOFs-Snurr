{
 "cells": [
  {
   "cell_type": "markdown",
   "metadata": {},
   "source": [
    "# Import"
   ]
  },
  {
   "cell_type": "code",
   "execution_count": 1,
   "metadata": {},
   "outputs": [],
   "source": [
    "import pandas as pd"
   ]
  },
  {
   "cell_type": "code",
   "execution_count": 2,
   "metadata": {},
   "outputs": [],
   "source": [
    "%matplotlib inline\n",
    "import matplotlib.pyplot as plt"
   ]
  },
  {
   "cell_type": "code",
   "execution_count": 3,
   "metadata": {},
   "outputs": [],
   "source": [
    "import numpy as np"
   ]
  },
  {
   "cell_type": "code",
   "execution_count": 4,
   "metadata": {},
   "outputs": [
    {
     "name": "stderr",
     "output_type": "stream",
     "text": [
      "/home/modules/anaconda3/lib/python3.7/site-packages/dask/config.py:168: YAMLLoadWarning: calling yaml.load() without Loader=... is deprecated, as the default Loader is unsafe. Please read https://msg.pyyaml.org/load for full details.\n",
      "  data = yaml.load(f.read()) or {}\n",
      "/home/modules/anaconda3/lib/python3.7/site-packages/distributed/config.py:20: YAMLLoadWarning: calling yaml.load() without Loader=... is deprecated, as the default Loader is unsafe. Please read https://msg.pyyaml.org/load for full details.\n",
      "  defaults = yaml.load(f)\n"
     ]
    },
    {
     "data": {
      "text/plain": [
       "<module 'efrc_ml_production' from '/home/rgur/py_scripts/efrc_ml_production.py'>"
      ]
     },
     "execution_count": 4,
     "metadata": {},
     "output_type": "execute_result"
    }
   ],
   "source": [
    "import importlib\n",
    "import efrc_ml_production as ml\n",
    "importlib.reload(ml)"
   ]
  },
  {
   "cell_type": "code",
   "execution_count": 5,
   "metadata": {},
   "outputs": [],
   "source": [
    "from sklearn.metrics import r2_score as r2"
   ]
  },
  {
   "cell_type": "code",
   "execution_count": 1,
   "metadata": {},
   "outputs": [],
   "source": [
    "import os\n",
    "from os import listdir\n",
    "from os.path import isfile, join"
   ]
  },
  {
   "cell_type": "code",
   "execution_count": 2,
   "metadata": {},
   "outputs": [
    {
     "data": {
      "text/plain": [
       "'/home/rgur/py_scripts'"
      ]
     },
     "execution_count": 2,
     "metadata": {},
     "output_type": "execute_result"
    }
   ],
   "source": [
    "os.getcwd()"
   ]
  },
  {
   "cell_type": "markdown",
   "metadata": {},
   "source": [
    "# Define variables"
   ]
  },
  {
   "cell_type": "code",
   "execution_count": 7,
   "metadata": {},
   "outputs": [],
   "source": [
    "results_dir = '/data/rgur/efrc/ml/results/'"
   ]
  },
  {
   "cell_type": "code",
   "execution_count": 8,
   "metadata": {},
   "outputs": [],
   "source": [
    "stacked_path = '/data/rgur/efrc/prep_data/all_v1/stacked.csv'\n",
    "ml_d_path = '/data/rgur/efrc/prep_data/all_v1/ml_data.csv'"
   ]
  },
  {
   "cell_type": "code",
   "execution_count": 9,
   "metadata": {},
   "outputs": [],
   "source": [
    "Y_DATA_PATH = '/data/rgur/efrc/data_DONOTTOUCH/hMOF_allData_March25_2013.xlsx'"
   ]
  },
  {
   "cell_type": "code",
   "execution_count": 10,
   "metadata": {},
   "outputs": [
    {
     "name": "stderr",
     "output_type": "stream",
     "text": [
      "/home/modules/anaconda3/lib/python3.7/site-packages/IPython/core/interactiveshell.py:3049: DtypeWarning: Columns (5,6,7,8,9,10,11,12,13) have mixed types. Specify dtype option on import or set low_memory=False.\n",
      "  interactivity=interactivity, compiler=compiler, result=result)\n",
      "/home/modules/anaconda3/lib/python3.7/site-packages/IPython/core/interactiveshell.py:3049: DtypeWarning: Columns (4,5,6,7,8,9,10,11,12) have mixed types. Specify dtype option on import or set low_memory=False.\n",
      "  interactivity=interactivity, compiler=compiler, result=result)\n"
     ]
    }
   ],
   "source": [
    "stacked = pd.read_csv('/data/rgur/efrc/prep_data/all_v1/stacked.csv')\n",
    "ml_d = pd.read_csv('/data/rgur/efrc/prep_data/all_v1/ml_data.csv')"
   ]
  },
  {
   "cell_type": "code",
   "execution_count": 11,
   "metadata": {},
   "outputs": [],
   "source": [
    "ml_d = ml.merge_data(ml_d, False, Y_DATA_PATH)"
   ]
  },
  {
   "cell_type": "code",
   "execution_count": 12,
   "metadata": {},
   "outputs": [],
   "source": [
    "stacked_map = {}\n",
    "for i in stacked[['filename', 'pressure','vol_uptake']].iterrows():\n",
    "    val = i[1]\n",
    "    stacked_map[(val['filename'], val['pressure'])] = val['vol_uptake']"
   ]
  },
  {
   "cell_type": "code",
   "execution_count": 13,
   "metadata": {},
   "outputs": [],
   "source": [
    "grav_map = {}\n",
    "for i in ml_d[['filename', 'CH4_cm3/g_35_bar']].iterrows():\n",
    "    val = i[1]\n",
    "    grav_map[val['filename']] = val['CH4_cm3/g_35_bar']"
   ]
  },
  {
   "cell_type": "markdown",
   "metadata": {},
   "source": [
    "# Define functions"
   ]
  },
  {
   "cell_type": "code",
   "execution_count": 14,
   "metadata": {},
   "outputs": [],
   "source": [
    "def getMetrics(true, pred, metrics):\n",
    "    '''\n",
    "    Get metric values from a list if metric functions\n",
    "    '''\n",
    "    return [f(true, pred) for f in metrics]"
   ]
  },
  {
   "cell_type": "code",
   "execution_count": 15,
   "metadata": {},
   "outputs": [],
   "source": [
    "def checkIsoFile(filename):\n",
    "    '''\n",
    "    Determine whether or not filename should be included\n",
    "    '''\n",
    "    if filename[-4:] == '.csv':\n",
    "        if 'iso' in filename:\n",
    "            with open(filename, 'r') as handle:\n",
    "                row_count = sum(1 for row in handle) - 1\n",
    "            if row_count == 533430:\n",
    "                return True\n",
    "    return False"
   ]
  },
  {
   "cell_type": "code",
   "execution_count": 16,
   "metadata": {},
   "outputs": [],
   "source": [
    "def checkGravFile(filename):\n",
    "    '''\n",
    "    Determine whether or not filename should be included\n",
    "    '''\n",
    "    if filename[-4:] == '.csv':\n",
    "        if 'grav' in filename:\n",
    "            with open(filename, 'r') as handle:\n",
    "                row_count = sum(1 for row in handle) - 1\n",
    "            if row_count == 126369:\n",
    "                return True\n",
    "    return False"
   ]
  },
  {
   "cell_type": "code",
   "execution_count": 17,
   "metadata": {},
   "outputs": [],
   "source": [
    "def get_t_pct(filename):\n",
    "    return float(filename.split('train_')[1][:2])"
   ]
  },
  {
   "cell_type": "code",
   "execution_count": 18,
   "metadata": {},
   "outputs": [],
   "source": [
    "def get_Code(filename):\n",
    "    return filename.split('code_')[1][:4]"
   ]
  },
  {
   "cell_type": "code",
   "execution_count": 19,
   "metadata": {},
   "outputs": [],
   "source": [
    "def getSeed(filename):\n",
    "    return filename.split('seed_')[1][:1]"
   ]
  },
  {
   "cell_type": "code",
   "execution_count": 20,
   "metadata": {},
   "outputs": [],
   "source": [
    "def getAllFilenames(parent_dir):\n",
    "    return [parent_dir+f for f in listdir(parent_dir) if isfile(join(parent_dir, f))]"
   ]
  },
  {
   "cell_type": "code",
   "execution_count": 21,
   "metadata": {},
   "outputs": [],
   "source": [
    "def getTruthVals(train_keys, test_keys, my_map):\n",
    "    train_truth = [my_map[f] for f in train_keys]\n",
    "    test_truth = [my_map[f] for f in test_keys]\n",
    "    return train_truth, test_truth"
   ]
  },
  {
   "cell_type": "code",
   "execution_count": 31,
   "metadata": {},
   "outputs": [],
   "source": [
    "def getPredsAndKeys(df):\n",
    "    n_unique_pressures = len(df['Pressure'].unique())\n",
    "    train_df = df[df['Class'] == 'Train']\n",
    "    test_df = df[df['Class'] == 'Test']\n",
    "    train_preds = train_df['Prediction'].tolist()\n",
    "    test_preds = test_df['Prediction'].tolist()\n",
    "    if n_unique_pressures == 1:\n",
    "        train_keys = train_df['Filename'].tolist()\n",
    "        test_keys = test_df['Filename'].tolist()\n",
    "    else:\n",
    "        train_keys = [tuple(r) for r in train_df[['Filename', 'Pressure']].to_numpy()]\n",
    "        test_keys = [tuple(r) for r in test_df[['Filename', 'Pressure']].to_numpy()]\n",
    "    return train_preds, train_keys, test_preds, test_keys"
   ]
  },
  {
   "cell_type": "code",
   "execution_count": 23,
   "metadata": {},
   "outputs": [],
   "source": [
    "def get_time(f):\n",
    "    return '_'.join(f.split('.')[0].split('_')[-6:])"
   ]
  },
  {
   "cell_type": "code",
   "execution_count": 24,
   "metadata": {},
   "outputs": [],
   "source": [
    "def unflatten(l, n):\n",
    "    new = []\n",
    "    length = len(l)\n",
    "    prev = 0\n",
    "    split_inds = list(range(0, length+1, n))\n",
    "    prev = 0\n",
    "    for ind in split_inds[1:]:\n",
    "        new.append(l[prev:ind])\n",
    "        prev = ind\n",
    "    return new"
   ]
  },
  {
   "cell_type": "code",
   "execution_count": 37,
   "metadata": {},
   "outputs": [],
   "source": [
    "def getMetricsFromDf(f, fix_preds, stacked):\n",
    "    df = pd.read_csv(f)\n",
    "    if fix_preds:\n",
    "        fix_predictions(df)\n",
    "    train_preds, train_keys, test_preds, test_keys = getPredsAndKeys(df)\n",
    "    if stacked:\n",
    "        my_map = stacked_map\n",
    "    else:\n",
    "        my_map = grav_map\n",
    "    train_truth, test_truth = getTruthVals(train_keys, test_keys, my_map)\n",
    "    train_vals = getMetrics(true=train_truth, pred=train_preds, metrics=[ml.get_rmse, r2])\n",
    "    test_vals = getMetrics(true=test_truth, pred=test_preds, metrics=[ml.get_rmse, r2])\n",
    "    return (train_vals, test_vals)"
   ]
  },
  {
   "cell_type": "code",
   "execution_count": 38,
   "metadata": {},
   "outputs": [],
   "source": [
    "def getResultsDf(good_codes=None, good_time=None, fix_preds=True, include_geo=False, stacked=False):\n",
    "    \n",
    "    seeds = []\n",
    "    run1_r2s = []\n",
    "    run1_rmses = []\n",
    "    run2_r2s = []\n",
    "    run2_rmses = []\n",
    "    run3_r2s = []\n",
    "    run3_rmses = []\n",
    "    train_pcts = []\n",
    "    codes = []\n",
    "    classes = []\n",
    "    all_files = getAllFilenames(results_dir)\n",
    "    #relevant_iso = [checkIsoFile(f) for f in all_files]\n",
    "    if stacked:\n",
    "        checkFile = checkIsoFile\n",
    "    else:\n",
    "        checkFile = checkGravFile\n",
    "    relevent = [f for f in all_files if checkFile(f)]\n",
    "    unique_codes = list(set([get_Code(f) for f in relevent]))\n",
    "    if include_geo:\n",
    "        good_codes = [code for code in unique_codes if code[-1] == '1']\n",
    "    else:\n",
    "        good_codes = [code for code in unique_codes if code[-1] == '0']\n",
    "    print(good_codes)\n",
    "    if good_codes != None:\n",
    "        relevent = [f for f in relevent if get_Code(f) in good_codes]\n",
    "    if good_time != None:\n",
    "        relevent = [f for f in relevent if get_time(f) in good_time]\n",
    "    relevent = sorted(relevent)\n",
    "    nested_relevent = unflatten(relevent, 3)\n",
    "    for l in nested_relevent:\n",
    "        f = l[0]\n",
    "        codes += [get_Code(f)]*2\n",
    "        classes.append(\"Train\")\n",
    "        classes.append(\"Test\")\n",
    "        #seeds += [getSeed(f)]*2\n",
    "        train_pcts += [get_t_pct(f)]*2\n",
    "        vals = [getMetricsFromDf(f, fix_preds, stacked) for f in l] #[seed 0, seed 1, seed 2], [train, test], [rmse, r2]\n",
    "        #print(vals)\n",
    "        run1_r2s.append(vals[0][0][1])\n",
    "        run1_r2s.append(vals[0][1][1])\n",
    "        \n",
    "        run1_rmses.append(vals[0][0][0])\n",
    "        run1_rmses.append(vals[0][1][0])\n",
    "        \n",
    "        run2_r2s.append(vals[1][0][1])\n",
    "        run2_r2s.append(vals[1][1][1])\n",
    "        \n",
    "        run2_rmses.append(vals[1][0][0])\n",
    "        run2_rmses.append(vals[1][1][0])\n",
    "        \n",
    "        run3_r2s.append(vals[2][0][1])\n",
    "        run3_r2s.append(vals[2][1][1])\n",
    "        \n",
    "        run3_rmses.append(vals[2][0][0])\n",
    "        run3_rmses.append(vals[2][1][0])\n",
    "\n",
    "    return pd.DataFrame({\"Run 1 R2\": run1_r2s, \"Run 1 RMSE\": run1_rmses, \"Run 2 R2\": run2_r2s, \n",
    "                         \"Run 2 RMSE\": run2_rmses, \"Run 3 R2\": run3_r2s, \"Run 3 RMSE\": run3_rmses, \n",
    "                         \"Training %\": train_pcts, \"Code\": codes, \"Class\": classes})"
   ]
  },
  {
   "cell_type": "code",
   "execution_count": 39,
   "metadata": {},
   "outputs": [],
   "source": [
    "def labelFromCode(code):\n",
    "    s = ''\n",
    "    if code[0] == '1':\n",
    "        s+='SI+'\n",
    "    if code[1] == '1':\n",
    "        s+='SD+'\n",
    "    if code[2] == '1':\n",
    "        s+='LS+'\n",
    "    if code[3] == '1':\n",
    "        s+='Geo+'\n",
    "    return s[:-1]"
   ]
  },
  {
   "cell_type": "code",
   "execution_count": 40,
   "metadata": {},
   "outputs": [],
   "source": [
    "def fix_predictions(df):\n",
    "    preds = df['Prediction'].tolist()\n",
    "    new = []\n",
    "    for i in preds:\n",
    "        if i<0:\n",
    "            new.append(0)\n",
    "        else:\n",
    "            new.append(i)\n",
    "    df['Prediction'] = new"
   ]
  },
  {
   "cell_type": "code",
   "execution_count": 41,
   "metadata": {},
   "outputs": [],
   "source": [
    "def plot_results(df, title='Learning Curve', good_codes=None, score_name='RMSE', ylim=None, axes=None):\n",
    "    colors = ['r', 'k', 'b', 'c', 'm', 'y', 'darkorange', 'slategray', 'tan', 'deeppink', 'greenyellow','g']\n",
    "    n_plots = len\n",
    "    if axes is None:\n",
    "        _, axes = plt.subplots(1, 1, figsize=(8, 8))\n",
    "\n",
    "    axes.set_title(title)\n",
    "    if ylim is not None:\n",
    "        axes.set_ylim(*ylim)\n",
    "    axes.set_xlabel(\"Training examples\")\n",
    "    axes.set_ylabel(score_name)\n",
    "    if good_codes == None:\n",
    "        good_codes = df['Code'].unique().tolist()\n",
    "    for ind, code in enumerate(good_codes):\n",
    "        LABEL = labelFromCode(code)\n",
    "        df_code = df[df['Code'] == code]\n",
    "        train_df = df_code[df_code['Class'] == 'Train']\n",
    "        test_df = df_code[df_code['Class'] == 'Test']\n",
    "        score_train_df = train_df[['Run 1 %s' %score_name, 'Run 2 %s' %score_name, 'Run 3 %s' %score_name]]\n",
    "        score_test_df = test_df[['Run 1 %s' %score_name, 'Run 2 %s' %score_name, 'Run 3 %s' %score_name]]\n",
    "        train_sizes = df['Training %'].unique()\n",
    "\n",
    "        train_scores_mean = np.mean(score_train_df, axis=1)\n",
    "        train_scores_std = np.std(score_train_df, axis=1)\n",
    "        test_scores_mean = np.mean(score_test_df, axis=1)\n",
    "        test_scores_std = np.std(score_test_df, axis=1)\n",
    "        #fit_times_mean = np.mean(fit_times, axis=1)\n",
    "        #fit_times_std = np.std(fit_times, axis=1)\n",
    "\n",
    "        train_scores_mean = train_scores_mean\n",
    "        train_scores_std = train_scores_std\n",
    "        test_scores_mean = test_scores_mean\n",
    "        test_scores_std = test_scores_std\n",
    "\n",
    "        # Plot learning curve\n",
    "        n_done = len(train_scores_mean) #in case not all runs are done yet\n",
    "        axes.grid()\n",
    "        axes.fill_between(train_sizes[0:n_done], train_scores_mean - train_scores_std,\n",
    "                             train_scores_mean + train_scores_std, alpha=0.1,\n",
    "                             color=colors[ind])\n",
    "        axes.fill_between(train_sizes[0:n_done], test_scores_mean - test_scores_std,\n",
    "                             test_scores_mean + test_scores_std, alpha=0.1,\n",
    "                             color=colors[ind])\n",
    "        axes.plot(train_sizes[0:n_done], train_scores_mean, 'o-', color=colors[ind],\n",
    "                     label=\"Training %s - %s\" %(score_name, LABEL) )\n",
    "        axes.plot(train_sizes[0:n_done], test_scores_mean, 'x-', color=colors[ind],\n",
    "                     label=\"Test %s - %s\" %(score_name, LABEL) )\n",
    "    axes.legend(loc=\"best\")\n",
    "\n",
    "    return plt"
   ]
  },
  {
   "cell_type": "markdown",
   "metadata": {},
   "source": [
    "# Run "
   ]
  },
  {
   "cell_type": "code",
   "execution_count": 42,
   "metadata": {},
   "outputs": [
    {
     "name": "stdout",
     "output_type": "stream",
     "text": [
      "['1000']\n"
     ]
    }
   ],
   "source": [
    "#GOOD_CODES = ['1010', '1000']\n",
    "GOOD_TIME = ['08_37PM_on_April_18_2020', '02_56PM_on_April_20_2020']\n",
    "\n",
    "results_df = getResultsDf(good_codes=None, good_time=GOOD_TIME, fix_preds=True, include_geo=False, stacked=True)"
   ]
  },
  {
   "cell_type": "code",
   "execution_count": 44,
   "metadata": {},
   "outputs": [
    {
     "data": {
      "text/plain": [
       "<module 'matplotlib.pyplot' from '/home/modules/anaconda3/lib/python3.7/site-packages/matplotlib/pyplot.py'>"
      ]
     },
     "execution_count": 44,
     "metadata": {},
     "output_type": "execute_result"
    },
    {
     "data": {
      "image/png": "[encoded data removed]",
      "text/plain": [
       "<Figure size 576x576 with 1 Axes>"
      ]
     },
     "metadata": {
      "needs_background": "light"
     },
     "output_type": "display_data"
    }
   ],
   "source": [
    "%matplotlib inline\n",
    "\n",
    "plot_results(results_df, score_name='R2')"
   ]
  },
  {
   "cell_type": "markdown",
   "metadata": {},
   "source": [
    "# Scratch"
   ]
  },
  {
   "cell_type": "code",
   "execution_count": 54,
   "metadata": {},
   "outputs": [],
   "source": [
    "train_df = results_df[(results_df['Class'] == 'Test') & (results_df['Training %'] == 70.0)]"
   ]
  },
  {
   "cell_type": "code",
   "execution_count": 55,
   "metadata": {},
   "outputs": [
    {
     "name": "stderr",
     "output_type": "stream",
     "text": [
      "/home/modules/anaconda3/lib/python3.7/site-packages/ipykernel_launcher.py:1: SettingWithCopyWarning: \n",
      "A value is trying to be set on a copy of a slice from a DataFrame.\n",
      "Try using .loc[row_indexer,col_indexer] = value instead\n",
      "\n",
      "See the caveats in the documentation: http://pandas.pydata.org/pandas-docs/stable/indexing.html#indexing-view-versus-copy\n",
      "  \"\"\"Entry point for launching an IPython kernel.\n"
     ]
    }
   ],
   "source": [
    "train_df['Average RMSE'] = np.mean(train_df[['Run 1 RMSE', 'Run 2 RMSE', 'Run 3 RMSE']], axis=1)"
   ]
  },
  {
   "cell_type": "code",
   "execution_count": 56,
   "metadata": {},
   "outputs": [
    {
     "name": "stderr",
     "output_type": "stream",
     "text": [
      "/home/modules/anaconda3/lib/python3.7/site-packages/ipykernel_launcher.py:1: SettingWithCopyWarning: \n",
      "A value is trying to be set on a copy of a slice from a DataFrame.\n",
      "Try using .loc[row_indexer,col_indexer] = value instead\n",
      "\n",
      "See the caveats in the documentation: http://pandas.pydata.org/pandas-docs/stable/indexing.html#indexing-view-versus-copy\n",
      "  \"\"\"Entry point for launching an IPython kernel.\n"
     ]
    }
   ],
   "source": [
    "train_df['Average R2'] = np.mean(train_df[['Run 1 R2', 'Run 2 R2', 'Run 3 R2']], axis=1)"
   ]
  },
  {
   "cell_type": "code",
   "execution_count": 57,
   "metadata": {},
   "outputs": [
    {
     "data": {
      "text/html": [
       "<div>\n",
       "<style scoped>\n",
       "    .dataframe tbody tr th:only-of-type {\n",
       "        vertical-align: middle;\n",
       "    }\n",
       "\n",
       "    .dataframe tbody tr th {\n",
       "        vertical-align: top;\n",
       "    }\n",
       "\n",
       "    .dataframe thead th {\n",
       "        text-align: right;\n",
       "    }\n",
       "</style>\n",
       "<table border=\"1\" class=\"dataframe\">\n",
       "  <thead>\n",
       "    <tr style=\"text-align: right;\">\n",
       "      <th></th>\n",
       "      <th>Run 1 R2</th>\n",
       "      <th>Run 1 RMSE</th>\n",
       "      <th>Run 2 R2</th>\n",
       "      <th>Run 2 RMSE</th>\n",
       "      <th>Run 3 R2</th>\n",
       "      <th>Run 3 RMSE</th>\n",
       "      <th>Training %</th>\n",
       "      <th>Code</th>\n",
       "      <th>Class</th>\n",
       "      <th>Average RMSE</th>\n",
       "      <th>Average R2</th>\n",
       "    </tr>\n",
       "  </thead>\n",
       "  <tbody>\n",
       "    <tr>\n",
       "      <th>5</th>\n",
       "      <td>0.936671</td>\n",
       "      <td>25.884467</td>\n",
       "      <td>0.935851</td>\n",
       "      <td>25.858998</td>\n",
       "      <td>0.937089</td>\n",
       "      <td>25.588740</td>\n",
       "      <td>70.0</td>\n",
       "      <td>0100</td>\n",
       "      <td>Test</td>\n",
       "      <td>25.777402</td>\n",
       "      <td>0.936537</td>\n",
       "    </tr>\n",
       "    <tr>\n",
       "      <th>15</th>\n",
       "      <td>0.942122</td>\n",
       "      <td>24.289175</td>\n",
       "      <td>0.943307</td>\n",
       "      <td>24.018984</td>\n",
       "      <td>0.943450</td>\n",
       "      <td>24.024181</td>\n",
       "      <td>70.0</td>\n",
       "      <td>0110</td>\n",
       "      <td>Test</td>\n",
       "      <td>24.110780</td>\n",
       "      <td>0.942959</td>\n",
       "    </tr>\n",
       "    <tr>\n",
       "      <th>25</th>\n",
       "      <td>0.933309</td>\n",
       "      <td>26.806908</td>\n",
       "      <td>0.931675</td>\n",
       "      <td>27.058255</td>\n",
       "      <td>0.929536</td>\n",
       "      <td>27.440465</td>\n",
       "      <td>70.0</td>\n",
       "      <td>1000</td>\n",
       "      <td>Test</td>\n",
       "      <td>27.101876</td>\n",
       "      <td>0.931507</td>\n",
       "    </tr>\n",
       "    <tr>\n",
       "      <th>35</th>\n",
       "      <td>0.930841</td>\n",
       "      <td>26.300870</td>\n",
       "      <td>0.929344</td>\n",
       "      <td>26.655992</td>\n",
       "      <td>0.930632</td>\n",
       "      <td>26.317700</td>\n",
       "      <td>70.0</td>\n",
       "      <td>1010</td>\n",
       "      <td>Test</td>\n",
       "      <td>26.424854</td>\n",
       "      <td>0.930272</td>\n",
       "    </tr>\n",
       "    <tr>\n",
       "      <th>45</th>\n",
       "      <td>0.940472</td>\n",
       "      <td>24.958006</td>\n",
       "      <td>0.937374</td>\n",
       "      <td>25.575791</td>\n",
       "      <td>0.937376</td>\n",
       "      <td>25.554064</td>\n",
       "      <td>70.0</td>\n",
       "      <td>1100</td>\n",
       "      <td>Test</td>\n",
       "      <td>25.362621</td>\n",
       "      <td>0.938408</td>\n",
       "    </tr>\n",
       "    <tr>\n",
       "      <th>55</th>\n",
       "      <td>0.940059</td>\n",
       "      <td>24.571056</td>\n",
       "      <td>0.940325</td>\n",
       "      <td>24.495681</td>\n",
       "      <td>0.940847</td>\n",
       "      <td>24.506243</td>\n",
       "      <td>70.0</td>\n",
       "      <td>1110</td>\n",
       "      <td>Test</td>\n",
       "      <td>24.524327</td>\n",
       "      <td>0.940410</td>\n",
       "    </tr>\n",
       "  </tbody>\n",
       "</table>\n",
       "</div>"
      ],
      "text/plain": [
       "    Run 1 R2  Run 1 RMSE  Run 2 R2  Run 2 RMSE  Run 3 R2  Run 3 RMSE  \\\n",
       "5   0.936671   25.884467  0.935851   25.858998  0.937089   25.588740   \n",
       "15  0.942122   24.289175  0.943307   24.018984  0.943450   24.024181   \n",
       "25  0.933309   26.806908  0.931675   27.058255  0.929536   27.440465   \n",
       "35  0.930841   26.300870  0.929344   26.655992  0.930632   26.317700   \n",
       "45  0.940472   24.958006  0.937374   25.575791  0.937376   25.554064   \n",
       "55  0.940059   24.571056  0.940325   24.495681  0.940847   24.506243   \n",
       "\n",
       "    Training %  Code Class  Average RMSE  Average R2  \n",
       "5         70.0  0100  Test     25.777402    0.936537  \n",
       "15        70.0  0110  Test     24.110780    0.942959  \n",
       "25        70.0  1000  Test     27.101876    0.931507  \n",
       "35        70.0  1010  Test     26.424854    0.930272  \n",
       "45        70.0  1100  Test     25.362621    0.938408  \n",
       "55        70.0  1110  Test     24.524327    0.940410  "
      ]
     },
     "execution_count": 57,
     "metadata": {},
     "output_type": "execute_result"
    }
   ],
   "source": [
    "train_df"
   ]
  },
  {
   "cell_type": "markdown",
   "metadata": {},
   "source": [
    "# Test functions"
   ]
  },
  {
   "cell_type": "code",
   "execution_count": 10,
   "metadata": {},
   "outputs": [
    {
     "data": {
      "text/plain": [
       "[0.0, 1.0]"
      ]
     },
     "execution_count": 10,
     "metadata": {},
     "output_type": "execute_result"
    }
   ],
   "source": [
    "getMetrics([1,0,0], [1,0,0], [ml.get_rmse, r2]) "
   ]
  },
  {
   "cell_type": "code",
   "execution_count": null,
   "metadata": {},
   "outputs": [],
   "source": []
  },
  {
   "cell_type": "code",
   "execution_count": null,
   "metadata": {},
   "outputs": [],
   "source": []
  },
  {
   "cell_type": "code",
   "execution_count": 77,
   "metadata": {},
   "outputs": [],
   "source": [
    "a = '/data/rgur/efrc/ml/results/results_grav_code_1110_train_60_seed_0_12_34PM_on_April_17_2020.csv'"
   ]
  },
  {
   "cell_type": "code",
   "execution_count": 53,
   "metadata": {},
   "outputs": [
    {
     "data": {
      "text/plain": [
       "False"
      ]
     },
     "execution_count": 53,
     "metadata": {},
     "output_type": "execute_result"
    }
   ],
   "source": [
    "checkGravFile(a)"
   ]
  },
  {
   "cell_type": "code",
   "execution_count": null,
   "metadata": {},
   "outputs": [],
   "source": []
  },
  {
   "cell_type": "code",
   "execution_count": null,
   "metadata": {},
   "outputs": [],
   "source": []
  },
  {
   "cell_type": "code",
   "execution_count": 53,
   "metadata": {},
   "outputs": [
    {
     "data": {
      "text/plain": [
       "[[0, 1, 2], [3, 4, 6], [7, 8, 9]]"
      ]
     },
     "execution_count": 53,
     "metadata": {},
     "output_type": "execute_result"
    }
   ],
   "source": [
    "unflatten([0,1,2,3,4,6,7,8,9], 3)"
   ]
  },
  {
   "cell_type": "code",
   "execution_count": null,
   "metadata": {},
   "outputs": [],
   "source": []
  },
  {
   "cell_type": "code",
   "execution_count": 7,
   "metadata": {},
   "outputs": [
    {
     "data": {
      "text/plain": [
       "'SI+SD+LS+Geo'"
      ]
     },
     "execution_count": 7,
     "metadata": {},
     "output_type": "execute_result"
    }
   ],
   "source": [
    "labelFromCode('1111')"
   ]
  },
  {
   "cell_type": "code",
   "execution_count": null,
   "metadata": {},
   "outputs": [],
   "source": []
  }
 ],
 "metadata": {
  "kernelspec": {
   "display_name": "Python 3",
   "language": "python",
   "name": "python3"
  },
  "language_info": {
   "codemirror_mode": {
    "name": "ipython",
    "version": 3
   },
   "file_extension": ".py",
   "mimetype": "text/x-python",
   "name": "python",
   "nbconvert_exporter": "python",
   "pygments_lexer": "ipython3",
   "version": "3.7.3"
  }
 },
 "nbformat": 4,
 "nbformat_minor": 2
}
