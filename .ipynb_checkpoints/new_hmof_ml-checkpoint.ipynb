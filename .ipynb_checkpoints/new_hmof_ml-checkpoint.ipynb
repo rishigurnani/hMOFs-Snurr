{
 "cells": [
  {
   "cell_type": "markdown",
   "metadata": {},
   "source": [
    "# Import"
   ]
  },
  {
   "cell_type": "code",
   "execution_count": 5,
   "metadata": {},
   "outputs": [],
   "source": [
    "from joblib import Parallel, delayed\n",
    "import xgboost as xgb\n",
    "from sklearn.metrics import mean_squared_error\n",
    "import pandas as pd\n",
    "import numpy as np\n",
    "from sklearn.model_selection import train_test_split\n",
    "import matplotlib.pyplot as plt\n",
    "import numpy as np \n",
    "from os import path\n",
    "import pandas as pd \n",
    "import os\n",
    "#import tensorflow as tf\n",
    "#from tensorflow import keras\n",
    "#from tensorflow.keras import layers\n",
    "#os.environ[\"CUDA_VISIBLE_DEVICES\"] = '1'\n",
    "import matplotlib.pyplot as plt\n",
    "import seaborn as sns\n",
    "#import tensorflow_docs as tfdocs\n",
    "#import tensorflow_docs.plots\n",
    "#import tensorflow_docs.modeling\n",
    "import matplotlib.pyplot as plt\n",
    "from matplotlib import rc\n",
    "from matplotlib import rcParams\n",
    "import datetime\n",
    "import math\n",
    "import time\n",
    "import pickle\n",
    "import random\n",
    "from scipy.spatial import cKDTree\n",
    "from sklearn import preprocessing\n",
    "from sklearn.decomposition import PCA\n",
    "import sys\n",
    "from sklearn.metrics import r2_score as r2\n",
    "#from rdkit import Chem\n",
    "from sklearn.decomposition import PCA\n",
    "import rishi_utils as ru\n",
    "\n",
    "import importlib\n",
    "import efrc_ml_production as ml\n",
    "importlib.reload(ml)\n",
    "importlib.reload(ru)\n",
    "from skopt import gp_minimize\n",
    "\n",
    "from multiprocessing import Pool"
   ]
  },
  {
   "cell_type": "code",
   "execution_count": 6,
   "metadata": {},
   "outputs": [],
   "source": [
    "import tensorflow as tf\n",
    "config = tf.compat.v1.ConfigProto()\n",
    "config.gpu_options.allow_growth=True\n",
    "sess = tf.compat.v1.Session(config=config)\n",
    "tf.compat.v1.enable_eager_execution()\n",
    "from tensorflow import keras\n",
    "import tensorflow.keras.backend as K\n",
    "from tensorflow.keras import layers\n",
    "import tensorflow_docs as tfdocs\n",
    "import tensorflow_docs.plots\n",
    "import tensorflow_docs.modeling\n",
    "\n",
    "from sklearn.model_selection import LeaveOneOut,KFold"
   ]
  },
  {
   "cell_type": "markdown",
   "metadata": {},
   "source": [
    "# New"
   ]
  },
  {
   "cell_type": "code",
   "execution_count": 7,
   "metadata": {},
   "outputs": [],
   "source": [
    "class hmofMLdataset:\n",
    "    def __init__(self, results_dir, now, SI_grav_data_path='/data/rgur/efrc/prep_data/all_v1/ml_data.csv', \n",
    "                 SD_grav_data_path='/data/rgur/efrc/prep_data/all_no_norm/ml_data.csv',SI_stacked_path=\n",
    "                '/data/rgur/efrc/prep_data/all_v1/stacked.csv',\n",
    "                 SD_stacked_path='/data/rgur/efrc/prep_data/all_no_norm/stacked.csv',\n",
    "                 Y_DATA_PATH='/data/rgur/efrc/data_DONOTTOUCH/hMOF_allData_March25_2013.xlsx', n_core=15, skip=None, \n",
    "                 do=None, nn_space=None, grav_algo='xgb'):\n",
    "        self.results_dir = results_dir \n",
    "        os.chdir(self.results_dir)\n",
    "        self.SI_grav_data_path = SI_grav_data_path\n",
    "        self.SD_grav_data_path = SD_grav_data_path\n",
    "        self.SI_stacked_path = SI_stacked_path\n",
    "        self.SD_stacked_path = SD_stacked_path\n",
    "        self.n_core = n_core\n",
    "        self.Y_DATA_PATH = Y_DATA_PATH\n",
    "        self.del_defective_mofs = False\n",
    "        self.cat_si_sd = True\n",
    "        self.add_size_fp = True #make True if you want to add 20 feature columns, where each feature is the number of atoms in a linker\n",
    "        self.srt_size_fp = True\n",
    "        self.iso_start_str_sd = 'Density'\n",
    "        self.iso_end_str_sd = 'norm_Dom._Pore_(ang.)'\n",
    "        self.grav_start_str_sd = 'CH4_v/v_248_bar'\n",
    "        self.grav_end_str_sd = 'norm_Dom._Pore_(ang.)'\n",
    "        self.start_str_si = 'filename'\n",
    "        self.end_str_si = 'valence_pa'\n",
    "        self.cat_col_names = ['cat_1', 'cat_2', 'cat_3', 'cat_4']\n",
    "        self.skip = skip\n",
    "        self.feature_codes = ['10000', '11000', '01000', '10100', '11100', '01100',\n",
    "                             '10010', '11010', '01010', '10110', '11110', '01110',\n",
    "                             '10001', '11001', '01001', '10101', '11101', '01101',\n",
    "                             '10011', '11011', '01011', '10111', '11111', '01111']\n",
    "        self.do = do\n",
    "        if self.do != None:\n",
    "            self.feature_codes = self.do\n",
    "        elif skip != None:\n",
    "            self.feature_codes = [i for i in self.feature_codes if i not in self.skip]   \n",
    "        print(\"There are %s unique feature codes\" %len(set(self.feature_codes)))\n",
    "        self.any_stacked = any([item[-1]=='1' for item in self.feature_codes]) #are any codes for stacked models?\n",
    "        self.now = now\n",
    "        print(\"now is %s\" %self.now)\n",
    "        self.nn_space = nn_space\n",
    "        self.grav_algo = grav_algo\n",
    "    def makeMasterDFs(self):\n",
    "        #gravimetric\n",
    "        self.grav, self.grav_prop, self.grav_target_mean, self.grav_target_std, self.grav_all_features = \\\n",
    "                                            ml.prepToSplit(\n",
    "                                            self.grav_algo, self.cat_si_sd, self.SD_grav_data_path, self.SI_grav_data_path, \n",
    "                                            self.grav_start_str_sd, self.grav_end_str_sd, self.start_str_si, \n",
    "                                            self.end_str_si, 1, self.del_defective_mofs, self.add_size_fp, \n",
    "                                            self.srt_size_fp, None, stacked=False, n_core=self.n_core, \n",
    "                                            del_geometric_fp=False, cat_col_names=self.cat_col_names, \n",
    "                                            Y_DATA_PATH=self.Y_DATA_PATH\n",
    "                                            )\n",
    "        size_cols = [\"size_%s\" %s for s in range(20)]\n",
    "        self.LS_dict = {row[1]['filename']:row[1][size_cols] for row in self.grav.iterrows()} # map from filename \n",
    "                                                                                        #to linkersize-vector\n",
    "        #stacked\n",
    "        if self.any_stacked:\n",
    "            self.iso, self.iso_prop, self.iso_target_mean, self.iso_target_std, self.iso_all_features, self.pinfo = \\\n",
    "                                                ml.prepToSplit(\n",
    "                                                'nn', self.cat_si_sd, self.SD_stacked_path, self.SI_stacked_path, \n",
    "                                                self.iso_start_str_sd, self.iso_end_str_sd, self.start_str_si, \n",
    "                                                self.end_str_si, 1, self.del_defective_mofs, self.add_size_fp, \n",
    "                                                self.srt_size_fp, None, True, self.n_core, False, self.cat_col_names, \n",
    "                                                self.Y_DATA_PATH, self.LS_dict) \n",
    "    def select_features(self, code, stacked):\n",
    "        '''\n",
    "        Should only be called after makeMasterDFs\n",
    "        '''\n",
    "        si = bool(int(code[0])) #True (=1) if size-independent features are included\n",
    "        sd = bool(int(code[1])) #True (=1) if size-dependent features are included\n",
    "        size_fp = bool(int(code[2])) #True (=1) if linker size features are included\n",
    "        geo_fp = bool(int(code[3])) #True (=1) if geometric features are included\n",
    "        non_pg = ml.getNonPGcolNames(size_fp, stacked, not geo_fp, self.cat_col_names)\n",
    "        pg = []\n",
    "        if si:\n",
    "            try:\n",
    "                si_df = pd.read_csv(self.SI_grav_data_path)\n",
    "            except:\n",
    "                si_df = pd.read_csv(self.SI_grav_data_path, compression='gzip')\n",
    "            self.all_pg = [s for s in ml.getPGcolNames(si_df, start_str=self.start_str_si, end_str=self.end_str_si)]\n",
    "            pg += [s+'_si' for s in ml.getPGcolNames(si_df, start_str=self.start_str_si, end_str=self.end_str_si) \n",
    "                   if s+'_si' in self.grav_all_features]\n",
    "            del si_df\n",
    "        if sd:\n",
    "            try:\n",
    "                sd_df = pd.read_csv(self.SD_grav_data_path)\n",
    "            except:\n",
    "                sd_df = pd.read_csv(self.SD_grav_data_path, compression='gzip')\n",
    "            pg += [s for s in ml.getPGcolNames(sd_df, self.grav_start_str_sd, self.grav_end_str_sd) if s in\n",
    "                  self.grav_all_features]\n",
    "        return non_pg + pg\n",
    "    def makeAllResults(self):\n",
    "        self.makeMasterDFs()\n",
    "        print('\\n')\n",
    "        #Parallel(n_jobs=self.n_core)(delayed(self.makeResult)(j) for j in self.feature_codes)\n",
    "        for i in self.feature_codes: #True if stacked\n",
    "                STACKED = bool(int(i[-1])) #True (=1) if stacked\n",
    "                CODE = i[:-1]\n",
    "                run_features = self.select_features(code=CODE, stacked=STACKED)\n",
    "                if STACKED:\n",
    "                    print(\"Running code %s for isotherm model\" %CODE)\n",
    "                    drop_features = [s for s in self.iso_all_features if s not in run_features]\n",
    "                    algo = 'nn'\n",
    "                else:\n",
    "                    print(\"Running code %s for gravimetric uptake model\" %CODE)\n",
    "                    algo = self.grav_algo\n",
    "                    drop_features = [s for s in self.grav_all_features if s not in run_features]\n",
    "                    #l.append(self.iso.drop(drop_features, axis=1))\n",
    "                if algo == 'nn':\n",
    "                    N_CORE=1\n",
    "                else:\n",
    "                    N_CORE=self.n_core\n",
    "                if STACKED:\n",
    "                    FpDataSet(self.iso.drop(drop_features, axis=1), run_features, self.iso_prop, \n",
    "                              self.iso_target_mean, self.iso_target_std, now=self.now, nn_space=self.nn_space, \n",
    "                              stacked=STACKED, fp_code=CODE, n_core=N_CORE, grav_algo=self.grav_algo).train()\n",
    "                else:\n",
    "                    FpDataSet(self.grav.drop(drop_features, axis=1), run_features, self.grav_prop, \n",
    "                              self.grav_target_mean, self.grav_target_std, now=self.now, nn_space=self.nn_space,\n",
    "                              stacked=STACKED, fp_code=CODE, n_core=N_CORE, grav_algo=self.grav_algo).train()\n",
    "class FpDataSet:\n",
    "    def __init__(self, df, features, property_used, target_mean, target_std, stacked, now, nn_space, fp_code='0', \n",
    "                    n_core=15, grav_algo='xgb', track=True, chkpt_name='model_checkpoint',n_folds=15):\n",
    "        self.n_folds = n_folds #for master run\n",
    "        self.now = now\n",
    "        self.df = df\n",
    "        self.fp_code = fp_code\n",
    "        self.property_used = property_used\n",
    "        self.target_mean = target_mean\n",
    "        self.target_std = target_std\n",
    "        self.n_samples = len(self.df)\n",
    "        self.features = features\n",
    "        self.stacked = stacked\n",
    "        self.n_core = n_core\n",
    "        self.grav_algo = grav_algo\n",
    "        self.track=track\n",
    "        self.chkpt_name = chkpt_name\n",
    "        self.file_tracker = {'train':[],'test':[]}\n",
    "        self.pressure_tracker = {'train':[],'test':[]}\n",
    "        if self.stacked:\n",
    "            self.algo = 'nn'\n",
    "            self.model_tag = 'iso'\n",
    "        else:\n",
    "            self.algo = self.grav_algo\n",
    "            self.model_tag = 'grav'\n",
    "        self.nn_space = nn_space\n",
    "        self.hp_frac = .05\n",
    "        self.fn = self.df['filename'].unique() #filenames\n",
    "        \n",
    "    def make_splits(self):\n",
    "        def gen():\n",
    "            for train_index, test_index in KFold(self.n_folds).split(self.fn):\n",
    "                train_fn = self.fn[train_index]\n",
    "                test_fn = self.fn[test_index]\n",
    "                train_df = self.df[self.df['filename'].isin(train_fn)].reset_index().drop('index', axis=1)\n",
    "                test_df = self.df[self.df['filename'].isin(test_fn)].reset_index().drop('index', axis=1)\n",
    "                if self.track:\n",
    "                    self.file_tracker['train'].append(train_df['filename'].tolist())\n",
    "                    self.file_tracker['test'].append(test_df['filename'].tolist())\n",
    "                    try:\n",
    "                        self.pressure_tracker['train'].append(train_df['pressure'].tolist())\n",
    "                        self.pressure_tracker['test'].append(test_df['pressure'].tolist())\n",
    "                    except:\n",
    "                        self.pressure_tracker['train'].append(['na']*len(train_df))\n",
    "                        self.pressure_tracker['test'].append(['na']*len(test_df))\n",
    "                X_train, X_test = train_df[self.features].to_numpy(), test_df[self.features].to_numpy()\n",
    "                y_train, y_test = train_df[self.property_used].to_numpy(), test_df[self.property_used].to_numpy()\n",
    "                yield X_train,y_train,X_test,y_test\n",
    "\n",
    "        return tf.data.Dataset.from_generator(gen, (tf.float64,tf.float64,tf.float64,tf.float64))    \n",
    "    def CV_objective(self, params):\n",
    "        try:\n",
    "            lr = params[1]\n",
    "        except:\n",
    "            lr = .001 #default\n",
    "        try:\n",
    "            h_units = params[0]\n",
    "        except:\n",
    "            h_units = 100 #default\n",
    "        patience = 15 #default\n",
    "        try:\n",
    "            BS = params[2]\n",
    "        except:\n",
    "            BS = 32 #default\n",
    "        dataset = self.make_splits()\n",
    "        start = time.time()\n",
    "        import datetime\n",
    "        rmses = []\n",
    "        os.system('rm %s.h5' %self.chkpt_name)\n",
    "        try:\n",
    "            os.system('rm -rf logs')\n",
    "        except:\n",
    "            pass\n",
    "        fold = 0\n",
    "        for X_train,y_train,X_test,y_test in dataset:\n",
    "            early_stop = keras.callbacks.EarlyStopping(monitor='val_loss', patience=patience)\n",
    "            checkpoint_callbacks = keras.callbacks.ModelCheckpoint(filepath='%s.h5' %self.chkpt_name, monitor='val_loss',\\\n",
    "                                                                  verbose=1, save_best_only=True, mode='min')\n",
    "            model = ml.build_model(X_train.shape[1], lr, h_units, 'relu')\n",
    "\n",
    "            model.fit(X_train, y_train, batch_size=BS,epochs=1000, verbose=1, \n",
    "                      callbacks=[checkpoint_callbacks, early_stop],\n",
    "                        validation_split=None, validation_data=(X_test,y_test), shuffle=True, class_weight=None,\n",
    "                        sample_weight=None, initial_epoch=0, steps_per_epoch=None,\n",
    "                        validation_steps=None, validation_freq=1, max_queue_size=10, workers=1,\n",
    "                        use_multiprocessing=False\n",
    "                     ) \n",
    "            model.load_weights(filepath='%s.h5' %self.chkpt_name)\n",
    "            preds = model.predict(X_test).flatten()\n",
    "            rmse = ml.get_rmse(preds, y_test)\n",
    "            print(\"RMSE of fold %s is %s\" %( fold,rmse ))\n",
    "            rmses.append(rmse)\n",
    "            if self.track:\n",
    "                n_train = len(self.file_tracker['train'][fold])\n",
    "                n_test = len(self.file_tracker['test'][fold])\n",
    "                res_test_predictions, res_test_label, res_train_label, res_train_predictions = \\\n",
    "                    ml.unscale(preds, model.predict(X_train).flatten(), y_test.numpy(), \n",
    "                           y_train.numpy(), self.target_mean, self.target_std)\n",
    "                results_df = pd.DataFrame({\"Filename\": self.file_tracker['train'][fold]+ \\\n",
    "                                       self.file_tracker['test'][fold], \n",
    "                                       \"Pressure\": self.pressure_tracker['train'][fold]+ \\\n",
    "                                       self.pressure_tracker['test'][fold], \n",
    "                                       \"Class\": ['Train']*n_train+['Test']*n_test,\n",
    "                                    \"Prediction\": res_train_predictions.tolist()+res_test_predictions.tolist(),\n",
    "                                      \"Truth\": res_train_label.tolist()+res_test_label.tolist()}\n",
    "                                     )\n",
    "                save_fragment = '%s_code_%s_fold_%s_%s' %(self.model_tag, self.fp_code, fold, self.now)\n",
    "                results_df.to_csv('results_%s.csv' %save_fragment, compression='gzip')\n",
    "                print(\"Save Results using Fragment %s\" %save_fragment)\n",
    "                try:\n",
    "                    model.save_model('%s.xgb' %save_fragment)\n",
    "                except:\n",
    "                    model.save('%s.h5' %save_fragment,save_format='h5')\n",
    "            \n",
    "            fold+=1\n",
    "        print(\"\\nBest fold is %s\" %np.array(rmses).argmax())\n",
    "        print(\"Average RMSEs of best epochs in each fold: %s\" %np.mean(rmses))\n",
    "        end = time.time()\n",
    "        print('Set of Folds Done in %s' %(end-start))        \n",
    "        if self.track:\n",
    "            save_fragment = '%s_code_%s_%s' %(self.model_tag, self.fp_code, self.now)\n",
    "            with open('file_tracker_%s.pkl' %save_fragment, 'wb') as f:\n",
    "                pickle.dump(self.file_tracker, f)\n",
    "        return np.mean(rmses)\n",
    "    def train(self):\n",
    "        hp_files = np.random.choice(self.fn, size=round(len(self.fn)*self.hp_frac), replace=False)\n",
    "        hp_df = self.df[self.df['filename'].isin(hp_files)].reset_index().drop('index', axis=1)\n",
    "        hp_df.to_csv('hp_df.csv', compression='gzip')\n",
    "        print(\"Saved hp_df to disk\")\n",
    "        params = HPOpt(hp_df, self.features, self.property_used, self.target_mean, self.target_std, \n",
    "                      self.stacked, now=self.now, space=self.nn_space, grav_algo=self.grav_algo).get_params()\n",
    "        print(\"Optimzed Hyperparameters found: %s\" %params)\n",
    "        mean_rmse = self.CV_objective(params)\n",
    "\n",
    "class HPOpt:\n",
    "    def __init__(self, df, features, property_used, target_mean, target_std, stacked, \n",
    "                 space, now, n_trees=50, grav_algo='xgb'):\n",
    "        self.df = df\n",
    "        self.space = space\n",
    "        self.stacked = stacked\n",
    "        self.property_used = property_used\n",
    "        self.features = features\n",
    "        self.target_mean = target_mean\n",
    "        self.target_std = target_std\n",
    "        self.n_trees = n_trees\n",
    "        self.grav_algo = grav_algo\n",
    "        self.now = now\n",
    "        if stacked:\n",
    "            self.N_CALLS = 20\n",
    "            self.algo = 'nn'\n",
    "        else:\n",
    "            self.N_CALLS = 30\n",
    "            self.algo = self.grav_algo\n",
    "        \n",
    "        print(\"Using %s calls for HPOpt\" %self.N_CALLS)\n",
    "    def get_params(self):\n",
    "        HP_Inst = FpDataSet(self.df, self.features, self.property_used, self.target_mean, self.target_std, \n",
    "                            self.stacked, self.now, self.space, '0',1, self.grav_algo, track=False, \n",
    "                            chkpt_name='hp_model_checkpoint', n_folds=5)\n",
    "        self.start = time.time()\n",
    "        r = gp_minimize(HP_Inst.CV_objective, self.space, n_calls=self.N_CALLS)\n",
    "        self.end = time.time()\n",
    "        print(\"Finished HPOpt in %s\" %(self.end-self.start))\n",
    "        self.params = r.x\n",
    "        return self.params"
   ]
  },
  {
   "cell_type": "markdown",
   "metadata": {},
   "source": [
    "# Try"
   ]
  },
  {
   "cell_type": "code",
   "execution_count": 8,
   "metadata": {},
   "outputs": [
    {
     "name": "stdout",
     "output_type": "stream",
     "text": [
      "There are 1 unique feature codes\n",
      "now is 10_31AM_on_May_08_2020\n",
      "\n",
      "Starting to Construct Gravimetric Uptake Data Frame\n",
      "Using start_str_sd CH4_v/v_248_bar\n",
      "Using end_str_sd norm_Dom._Pore_(ang.)\n",
      "Using start_str_si filename\n",
      "Using end_str_si valence_pa\n",
      "Total frac equals 1\n",
      "\n",
      "\n",
      "Starting To Make Linker Size Columns\n",
      "Starting to sort Linker Size Columns\n",
      "Finished Making Linker Size Columns\n",
      "The following columns have been dropped: ['norm_Mafp_C1_N2_N3', 'norm_Mafp_N2_O2_N3', 'norm_Mmfp_MQNs22', 'norm_Mmfp_MQNs23', 'norm_Mmfp_MQNs24', 'norm_Mmfp_MQNs25']\n",
      "\n",
      "Starting to Construct Isotherm Stacked Data Frame\n",
      "Using start_str_sd Density\n",
      "Using end_str_sd norm_Dom._Pore_(ang.)\n",
      "Using start_str_si filename\n",
      "Using end_str_si valence_pa\n",
      "Total frac equals 1\n",
      "\n",
      "\n",
      "Starting To Make Linker Size Columns\n",
      "Finished Making Linker Size Columns\n",
      "The following columns have been dropped: ['norm_Mafp_C1_N2_N3', 'norm_Mafp_N2_O2_N3', 'norm_Mmfp_MQNs22', 'norm_Mmfp_MQNs23', 'norm_Mmfp_MQNs24', 'norm_Mmfp_MQNs25']\n",
      "\n",
      "\n",
      "Running code 1011 for isotherm model\n"
     ]
    },
    {
     "ename": "AttributeError",
     "evalue": "'numpy.ndarray' object has no attribute 'to_numpy'",
     "output_type": "error",
     "traceback": [
      "\u001b[0;31m---------------------------------------------------------------------------\u001b[0m",
      "\u001b[0;31mAttributeError\u001b[0m                            Traceback (most recent call last)",
      "\u001b[0;32m<ipython-input-8-a955d467403d>\u001b[0m in \u001b[0;36m<module>\u001b[0;34m\u001b[0m\n\u001b[1;32m     15\u001b[0m                    \u001b[0mSI_stacked_path\u001b[0m\u001b[0;34m=\u001b[0m\u001b[0;34m'/data/rgur/efrc/prep_data/all_v1/stacked_head.csv'\u001b[0m\u001b[0;34m,\u001b[0m\u001b[0;34m\u001b[0m\u001b[0;34m\u001b[0m\u001b[0m\n\u001b[1;32m     16\u001b[0m                  \u001b[0mSD_stacked_path\u001b[0m\u001b[0;34m=\u001b[0m\u001b[0;34m'/data/rgur/efrc/prep_data/all_no_norm/stacked_head.csv'\u001b[0m\u001b[0;34m,\u001b[0m\u001b[0;34m\u001b[0m\u001b[0;34m\u001b[0m\u001b[0m\n\u001b[0;32m---> 17\u001b[0;31m              do=DO, nn_space=NN_SPACE).makeAllResults()\n\u001b[0m",
      "\u001b[0;32m<ipython-input-7-75194fe2cd10>\u001b[0m in \u001b[0;36mmakeAllResults\u001b[0;34m(self)\u001b[0m\n\u001b[1;32m    115\u001b[0m                     FpDataSet(self.iso.drop(drop_features, axis=1), run_features, self.iso_prop, \n\u001b[1;32m    116\u001b[0m                               \u001b[0mself\u001b[0m\u001b[0;34m.\u001b[0m\u001b[0miso_target_mean\u001b[0m\u001b[0;34m,\u001b[0m \u001b[0mself\u001b[0m\u001b[0;34m.\u001b[0m\u001b[0miso_target_std\u001b[0m\u001b[0;34m,\u001b[0m \u001b[0mnow\u001b[0m\u001b[0;34m=\u001b[0m\u001b[0mself\u001b[0m\u001b[0;34m.\u001b[0m\u001b[0mnow\u001b[0m\u001b[0;34m,\u001b[0m \u001b[0mnn_space\u001b[0m\u001b[0;34m=\u001b[0m\u001b[0mself\u001b[0m\u001b[0;34m.\u001b[0m\u001b[0mnn_space\u001b[0m\u001b[0;34m,\u001b[0m\u001b[0;34m\u001b[0m\u001b[0;34m\u001b[0m\u001b[0m\n\u001b[0;32m--> 117\u001b[0;31m                               stacked=STACKED, fp_code=CODE, n_core=N_CORE, grav_algo=self.grav_algo).train()\n\u001b[0m\u001b[1;32m    118\u001b[0m                 \u001b[0;32melse\u001b[0m\u001b[0;34m:\u001b[0m\u001b[0;34m\u001b[0m\u001b[0;34m\u001b[0m\u001b[0m\n\u001b[1;32m    119\u001b[0m                     FpDataSet(self.grav.drop(drop_features, axis=1), run_features, self.grav_prop, \n",
      "\u001b[0;32m<ipython-input-7-75194fe2cd10>\u001b[0m in \u001b[0;36m__init__\u001b[0;34m(self, df, features, property_used, target_mean, target_std, stacked, now, nn_space, fp_code, n_core, grav_algo, track, chkpt_name, n_folds)\u001b[0m\n\u001b[1;32m    147\u001b[0m         \u001b[0mself\u001b[0m\u001b[0;34m.\u001b[0m\u001b[0mnn_space\u001b[0m \u001b[0;34m=\u001b[0m \u001b[0mnn_space\u001b[0m\u001b[0;34m\u001b[0m\u001b[0;34m\u001b[0m\u001b[0m\n\u001b[1;32m    148\u001b[0m         \u001b[0mself\u001b[0m\u001b[0;34m.\u001b[0m\u001b[0mhp_frac\u001b[0m \u001b[0;34m=\u001b[0m \u001b[0;36m.05\u001b[0m\u001b[0;34m\u001b[0m\u001b[0;34m\u001b[0m\u001b[0m\n\u001b[0;32m--> 149\u001b[0;31m         \u001b[0mself\u001b[0m\u001b[0;34m.\u001b[0m\u001b[0mfn\u001b[0m \u001b[0;34m=\u001b[0m \u001b[0mself\u001b[0m\u001b[0;34m.\u001b[0m\u001b[0mdf\u001b[0m\u001b[0;34m[\u001b[0m\u001b[0;34m'filename'\u001b[0m\u001b[0;34m]\u001b[0m\u001b[0;34m.\u001b[0m\u001b[0munique\u001b[0m\u001b[0;34m(\u001b[0m\u001b[0;34m)\u001b[0m\u001b[0;34m.\u001b[0m\u001b[0mto_numpy\u001b[0m\u001b[0;34m(\u001b[0m\u001b[0;34m)\u001b[0m \u001b[0;31m#filenames\u001b[0m\u001b[0;34m\u001b[0m\u001b[0;34m\u001b[0m\u001b[0m\n\u001b[0m\u001b[1;32m    150\u001b[0m \u001b[0;34m\u001b[0m\u001b[0m\n\u001b[1;32m    151\u001b[0m     \u001b[0;32mdef\u001b[0m \u001b[0mmake_splits\u001b[0m\u001b[0;34m(\u001b[0m\u001b[0mself\u001b[0m\u001b[0;34m)\u001b[0m\u001b[0;34m:\u001b[0m\u001b[0;34m\u001b[0m\u001b[0;34m\u001b[0m\u001b[0m\n",
      "\u001b[0;31mAttributeError\u001b[0m: 'numpy.ndarray' object has no attribute 'to_numpy'"
     ]
    }
   ],
   "source": [
    "PATH = '/data/rgur/efrc/paper_data/isotherm_models/test'\n",
    "\n",
    "now = datetime.datetime.now().strftime(\"%I_%M%p_on_%B_%d_%Y\")\n",
    "\n",
    "Y_DATA_PATH = '/data/rgur/efrc/data_DONOTTOUCH/hMOF_allData_March25_2013.xlsx'\n",
    "\n",
    "NN_SPACE = [(250, 600), #n_units\n",
    "                (.0002, .001),#learning rate\n",
    "                (8, 512)] #batch size\n",
    "GRAV_ALGO = 'nn'\n",
    "DO = ['10111']\n",
    "out = hmofMLdataset(PATH, now, Y_DATA_PATH=Y_DATA_PATH,\n",
    "                   SI_grav_data_path='/data/rgur/efrc/prep_data/all_v1/ml_data_head.csv',\n",
    "                 SD_grav_data_path='/data/rgur/efrc/prep_data/all_no_norm/ml_data_head.csv',\n",
    "                   SI_stacked_path='/data/rgur/efrc/prep_data/all_v1/stacked_head.csv',\n",
    "                 SD_stacked_path='/data/rgur/efrc/prep_data/all_no_norm/stacked_head.csv',\n",
    "             do=DO, nn_space=NN_SPACE).makeAllResults()"
   ]
  },
  {
   "cell_type": "markdown",
   "metadata": {},
   "source": [
    "# Analyze results"
   ]
  },
  {
   "cell_type": "code",
   "execution_count": 58,
   "metadata": {},
   "outputs": [],
   "source": [
    "with open(PATH+'/file_tracker_iso_code_1011_06_28PM_on_May_07_2020.pkl', 'rb') as f:\n",
    "    file_tracker = pickle.load(f)"
   ]
  },
  {
   "cell_type": "code",
   "execution_count": 65,
   "metadata": {},
   "outputs": [
    {
     "data": {
      "text/plain": [
       "185"
      ]
     },
     "execution_count": 65,
     "metadata": {},
     "output_type": "execute_result"
    }
   ],
   "source": [
    "len(file_tracker['train'][2])"
   ]
  },
  {
   "cell_type": "code",
   "execution_count": 66,
   "metadata": {},
   "outputs": [],
   "source": [
    "test_files, train_files = file_tracker['test'][7],file_tracker['train'][7]"
   ]
  },
  {
   "cell_type": "code",
   "execution_count": 67,
   "metadata": {},
   "outputs": [],
   "source": [
    "df = ru.pd_load('/data/rgur/efrc/prep_data/all_v1/stacked_head.csv')"
   ]
  },
  {
   "cell_type": "code",
   "execution_count": 68,
   "metadata": {},
   "outputs": [],
   "source": [
    "test_df = df[df['filename'].isin(test_files)].reset_index().drop('index', axis=1) \n",
    "train_df = df[df['filename'].isin(train_files)].reset_index().drop('index', axis=1) "
   ]
  },
  {
   "cell_type": "code",
   "execution_count": 70,
   "metadata": {},
   "outputs": [],
   "source": [
    "y_test, y_train = test_df['vol_uptake'], train_df['vol_uptake']"
   ]
  },
  {
   "cell_type": "code",
   "execution_count": 73,
   "metadata": {},
   "outputs": [],
   "source": [
    "model = tf.keras.models.load_model(PATH+'/iso_code_1011_fold_7_06_28PM_on_May_07_2020.h5')"
   ]
  },
  {
   "cell_type": "markdown",
   "metadata": {},
   "source": [
    "After saving results"
   ]
  },
  {
   "cell_type": "code",
   "execution_count": 126,
   "metadata": {},
   "outputs": [],
   "source": [
    "df = ru.pd_load(PATH+'/results_iso_code_1011_fold_10_08_59PM_on_May_07_2020.csv')"
   ]
  },
  {
   "cell_type": "code",
   "execution_count": 127,
   "metadata": {},
   "outputs": [
    {
     "data": {
      "text/html": [
       "<div>\n",
       "<style scoped>\n",
       "    .dataframe tbody tr th:only-of-type {\n",
       "        vertical-align: middle;\n",
       "    }\n",
       "\n",
       "    .dataframe tbody tr th {\n",
       "        vertical-align: top;\n",
       "    }\n",
       "\n",
       "    .dataframe thead th {\n",
       "        text-align: right;\n",
       "    }\n",
       "</style>\n",
       "<table border=\"1\" class=\"dataframe\">\n",
       "  <thead>\n",
       "    <tr style=\"text-align: right;\">\n",
       "      <th></th>\n",
       "      <th>Unnamed: 0</th>\n",
       "      <th>Filename</th>\n",
       "      <th>Pressure</th>\n",
       "      <th>Class</th>\n",
       "      <th>Prediction</th>\n",
       "      <th>Truth</th>\n",
       "    </tr>\n",
       "  </thead>\n",
       "  <tbody>\n",
       "    <tr>\n",
       "      <th>0</th>\n",
       "      <td>0</td>\n",
       "      <td>hypotheticalMOF_5053773_i_1_j_27_k_27_m_7_cat_...</td>\n",
       "      <td>1.0</td>\n",
       "      <td>Train</td>\n",
       "      <td>19.184036</td>\n",
       "      <td>12.409546</td>\n",
       "    </tr>\n",
       "    <tr>\n",
       "      <th>1</th>\n",
       "      <td>1</td>\n",
       "      <td>hypotheticalMOF_5051526_i_1_j_27_k_5_m_9_cat_1...</td>\n",
       "      <td>1.0</td>\n",
       "      <td>Train</td>\n",
       "      <td>28.117630</td>\n",
       "      <td>14.970042</td>\n",
       "    </tr>\n",
       "    <tr>\n",
       "      <th>2</th>\n",
       "      <td>2</td>\n",
       "      <td>hypotheticalMOF_5004666_i_0_j_20_k_12_m_1_cat_...</td>\n",
       "      <td>1.0</td>\n",
       "      <td>Train</td>\n",
       "      <td>23.642342</td>\n",
       "      <td>11.924002</td>\n",
       "    </tr>\n",
       "    <tr>\n",
       "      <th>3</th>\n",
       "      <td>3</td>\n",
       "      <td>hypotheticalMOF_36515_i_2_j_17_k_6_m_2_cat_1.cif</td>\n",
       "      <td>1.0</td>\n",
       "      <td>Train</td>\n",
       "      <td>36.059769</td>\n",
       "      <td>49.924683</td>\n",
       "    </tr>\n",
       "    <tr>\n",
       "      <th>4</th>\n",
       "      <td>4</td>\n",
       "      <td>hypotheticalMOF_5032463_i_0_j_29_k_21_m_4_cat_...</td>\n",
       "      <td>1.0</td>\n",
       "      <td>Train</td>\n",
       "      <td>-35.059898</td>\n",
       "      <td>22.993454</td>\n",
       "    </tr>\n",
       "  </tbody>\n",
       "</table>\n",
       "</div>"
      ],
      "text/plain": [
       "   Unnamed: 0                                           Filename  Pressure  \\\n",
       "0           0  hypotheticalMOF_5053773_i_1_j_27_k_27_m_7_cat_...       1.0   \n",
       "1           1  hypotheticalMOF_5051526_i_1_j_27_k_5_m_9_cat_1...       1.0   \n",
       "2           2  hypotheticalMOF_5004666_i_0_j_20_k_12_m_1_cat_...       1.0   \n",
       "3           3   hypotheticalMOF_36515_i_2_j_17_k_6_m_2_cat_1.cif       1.0   \n",
       "4           4  hypotheticalMOF_5032463_i_0_j_29_k_21_m_4_cat_...       1.0   \n",
       "\n",
       "   Class  Prediction      Truth  \n",
       "0  Train   19.184036  12.409546  \n",
       "1  Train   28.117630  14.970042  \n",
       "2  Train   23.642342  11.924002  \n",
       "3  Train   36.059769  49.924683  \n",
       "4  Train  -35.059898  22.993454  "
      ]
     },
     "execution_count": 127,
     "metadata": {},
     "output_type": "execute_result"
    }
   ],
   "source": [
    "df.head()"
   ]
  },
  {
   "cell_type": "code",
   "execution_count": 131,
   "metadata": {},
   "outputs": [],
   "source": [
    "test = df[df['Class'] == 'Test']\n",
    "true = test['Truth'].tolist()\n",
    "pred = test['Prediction'].tolist()\n",
    "pred = [max(i, 0) for i in pred]"
   ]
  },
  {
   "cell_type": "code",
   "execution_count": 132,
   "metadata": {},
   "outputs": [
    {
     "data": {
      "text/plain": [
       "<matplotlib.collections.PathCollection at 0x7f37bc286be0>"
      ]
     },
     "execution_count": 132,
     "metadata": {},
     "output_type": "execute_result"
    },
    {
     "data": {
      "image/png": "[encoded data removed]",
      "text/plain": [
       "<Figure size 432x288 with 1 Axes>"
      ]
     },
     "metadata": {
      "needs_background": "light"
     },
     "output_type": "display_data"
    }
   ],
   "source": [
    "%matplotlib inline\n",
    "plt.scatter(true, pred)"
   ]
  },
  {
   "cell_type": "code",
   "execution_count": null,
   "metadata": {},
   "outputs": [],
   "source": [
    "pred_train, pred_test = model."
   ]
  },
  {
   "cell_type": "markdown",
   "metadata": {},
   "source": [
    "# Scratch"
   ]
  },
  {
   "cell_type": "code",
   "execution_count": 4,
   "metadata": {},
   "outputs": [],
   "source": [
    "a = np.array([1,3,2])"
   ]
  },
  {
   "cell_type": "code",
   "execution_count": 22,
   "metadata": {},
   "outputs": [
    {
     "data": {
      "text/plain": [
       "1"
      ]
     },
     "execution_count": 22,
     "metadata": {},
     "output_type": "execute_result"
    }
   ],
   "source": [
    "a.argmax()"
   ]
  },
  {
   "cell_type": "code",
   "execution_count": 18,
   "metadata": {},
   "outputs": [],
   "source": [
    "b = {'a':[1]}"
   ]
  },
  {
   "cell_type": "code",
   "execution_count": 19,
   "metadata": {},
   "outputs": [],
   "source": [
    "b['a'].append(2)"
   ]
  },
  {
   "cell_type": "code",
   "execution_count": 20,
   "metadata": {},
   "outputs": [
    {
     "data": {
      "text/plain": [
       "{'a': [1, 2]}"
      ]
     },
     "execution_count": 20,
     "metadata": {},
     "output_type": "execute_result"
    }
   ],
   "source": [
    "b"
   ]
  },
  {
   "cell_type": "code",
   "execution_count": 3,
   "metadata": {},
   "outputs": [],
   "source": [
    "a = pd.DataFrame({'a':['hi','me']}).to_numpy()"
   ]
  },
  {
   "cell_type": "code",
   "execution_count": 8,
   "metadata": {},
   "outputs": [
    {
     "data": {
      "text/plain": [
       "array([2, 2])"
      ]
     },
     "execution_count": 8,
     "metadata": {},
     "output_type": "execute_result"
    }
   ],
   "source": [
    "np.random.randint(0, len(a), size=, )"
   ]
  },
  {
   "cell_type": "code",
   "execution_count": 9,
   "metadata": {},
   "outputs": [
    {
     "data": {
      "text/plain": [
       "array([3, 2])"
      ]
     },
     "execution_count": 9,
     "metadata": {},
     "output_type": "execute_result"
    }
   ],
   "source": [
    "np.random.choice(a, size=2, replace=False)"
   ]
  },
  {
   "cell_type": "markdown",
   "metadata": {},
   "source": [
    "# Old"
   ]
  }
 ],
 "metadata": {
  "kernelspec": {
   "display_name": "Python 3",
   "language": "python",
   "name": "python3"
  },
  "language_info": {
   "codemirror_mode": {
    "name": "ipython",
    "version": 3
   },
   "file_extension": ".py",
   "mimetype": "text/x-python",
   "name": "python",
   "nbconvert_exporter": "python",
   "pygments_lexer": "ipython3",
   "version": "3.7.3"
  }
 },
 "nbformat": 4,
 "nbformat_minor": 2
}
