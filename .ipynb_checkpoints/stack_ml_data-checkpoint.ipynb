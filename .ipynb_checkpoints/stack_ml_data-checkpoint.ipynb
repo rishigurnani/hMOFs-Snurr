{
 "cells": [
  {
   "cell_type": "markdown",
   "metadata": {},
   "source": [
    "# Import "
   ]
  },
  {
   "cell_type": "code",
   "execution_count": 1,
   "metadata": {},
   "outputs": [],
   "source": [
    "import pandas as pd"
   ]
  },
  {
   "cell_type": "code",
   "execution_count": 2,
   "metadata": {},
   "outputs": [],
   "source": [
    "from pickle import dump, load"
   ]
  },
  {
   "cell_type": "markdown",
   "metadata": {},
   "source": [
    "# Load Data"
   ]
  },
  {
   "cell_type": "code",
   "execution_count": 3,
   "metadata": {
    "scrolled": false
   },
   "outputs": [
    {
     "name": "stderr",
     "output_type": "stream",
     "text": [
      "/home/rishi/.virtualenvs/efrc-p3/lib/python3.6/site-packages/IPython/core/interactiveshell.py:3058: DtypeWarning: Columns (4,5,6,7,8,9,10,11,12) have mixed types. Specify dtype option on import or set low_memory=False.\n",
      "  interactivity=interactivity, compiler=compiler, result=result)\n"
     ]
    }
   ],
   "source": [
    "ml_data = pd.read_csv('./all_mofs/ml_data.csv')"
   ]
  },
  {
   "cell_type": "code",
   "execution_count": 4,
   "metadata": {},
   "outputs": [
    {
     "name": "stdout",
     "output_type": "stream",
     "text": [
      "<class 'pandas.core.frame.DataFrame'>\n",
      "RangeIndex: 126384 entries, 0 to 126383\n",
      "Columns: 498 entries, Unnamed: 0 to std_CH4_v/v_248_bar\n",
      "dtypes: float64(472), int64(5), object(21)\n",
      "memory usage: 589.6 MB\n"
     ]
    }
   ],
   "source": [
    "ml_data.info(memory_usage='deep')"
   ]
  },
  {
   "cell_type": "code",
   "execution_count": 5,
   "metadata": {},
   "outputs": [
    {
     "data": {
      "text/plain": [
       "True"
      ]
     },
     "execution_count": 5,
     "metadata": {},
     "output_type": "execute_result"
    }
   ],
   "source": [
    "ml_data.dtypes[0] == 'int64'"
   ]
  },
  {
   "cell_type": "code",
   "execution_count": 6,
   "metadata": {},
   "outputs": [],
   "source": [
    "cols = ml_data.keys().tolist()\n",
    "for i,tp in enumerate(ml_data.dtypes):\n",
    "    col = cols[i]\n",
    "    if tp == 'int64':\n",
    "        ml_data[col] = ml_data[col].astype('int8')\n",
    "    elif tp == 'float64':\n",
    "        ml_data[col] = ml_data[col].astype('float32')"
   ]
  },
  {
   "cell_type": "code",
   "execution_count": 7,
   "metadata": {},
   "outputs": [],
   "source": [
    "stacked = pd.concat([ml_data]*6, ignore_index=True)"
   ]
  },
  {
   "cell_type": "code",
   "execution_count": 8,
   "metadata": {},
   "outputs": [],
   "source": [
    "nmof = len(ml_data)"
   ]
  },
  {
   "cell_type": "code",
   "execution_count": 9,
   "metadata": {},
   "outputs": [],
   "source": [
    "pressure = [1]*nmof + [5.8]*nmof + [35]*nmof + [65]*nmof + [100]*nmof + [248]*nmof"
   ]
  },
  {
   "cell_type": "code",
   "execution_count": 10,
   "metadata": {},
   "outputs": [],
   "source": [
    "stacked['pressure'] = pressure"
   ]
  },
  {
   "cell_type": "code",
   "execution_count": 11,
   "metadata": {},
   "outputs": [],
   "source": [
    "vol_uptake = []\n",
    "uptake_1 = stacked['CH4_v/v_1_bar'].tolist()\n",
    "uptake_5 = stacked['CH4_v/v_5.8_bar'].tolist()\n",
    "uptake_35 = stacked['CH4_v/v_35_bar'].tolist()\n",
    "uptake_65 = stacked['CH4_v/v_65_bar'].tolist()\n",
    "uptake_100 = stacked['CH4_v/v_100_bar'].tolist()\n",
    "uptake_248 = stacked['CH4_v/v_248_bar'].tolist()\n",
    "\n",
    "for ind, val in enumerate(pressure):\n",
    "    if val == 1:\n",
    "        vol_uptake.append(uptake_1[ind])\n",
    "    elif val == 5.8:\n",
    "        vol_uptake.append(uptake_5[ind])\n",
    "    elif val == 35:\n",
    "        vol_uptake.append(uptake_35[ind])\n",
    "    elif val == 65:\n",
    "        vol_uptake.append(uptake_65[ind])\n",
    "    elif val == 100:\n",
    "        vol_uptake.append(uptake_100[ind])\n",
    "    else:\n",
    "        vol_uptake.append(uptake_248[ind])"
   ]
  },
  {
   "cell_type": "code",
   "execution_count": 12,
   "metadata": {},
   "outputs": [],
   "source": [
    "stacked['vol_uptake'] = vol_uptake"
   ]
  },
  {
   "cell_type": "code",
   "execution_count": 10,
   "metadata": {},
   "outputs": [
    {
     "data": {
      "text/html": [
       "<div>\n",
       "<style scoped>\n",
       "    .dataframe tbody tr th:only-of-type {\n",
       "        vertical-align: middle;\n",
       "    }\n",
       "\n",
       "    .dataframe tbody tr th {\n",
       "        vertical-align: top;\n",
       "    }\n",
       "\n",
       "    .dataframe thead th {\n",
       "        text-align: right;\n",
       "    }\n",
       "</style>\n",
       "<table border=\"1\" class=\"dataframe\">\n",
       "  <thead>\n",
       "    <tr style=\"text-align: right;\">\n",
       "      <th></th>\n",
       "      <th>Unnamed: 0</th>\n",
       "      <th>#_of_Linkers</th>\n",
       "      <th>L0_Smiles</th>\n",
       "      <th>L10_Smiles</th>\n",
       "      <th>L11_Smiles</th>\n",
       "      <th>L12_Smiles</th>\n",
       "      <th>L13_Smiles</th>\n",
       "      <th>L14_Smiles</th>\n",
       "      <th>L15_Smiles</th>\n",
       "      <th>L16_Smiles</th>\n",
       "      <th>...</th>\n",
       "      <th>mean_CH4_v/v_65_bar</th>\n",
       "      <th>std_CH4_v/v_65_bar</th>\n",
       "      <th>norm_CH4_v/v_100_bar</th>\n",
       "      <th>mean_CH4_v/v_100_bar</th>\n",
       "      <th>std_CH4_v/v_100_bar</th>\n",
       "      <th>norm_CH4_v/v_248_bar</th>\n",
       "      <th>mean_CH4_v/v_248_bar</th>\n",
       "      <th>std_CH4_v/v_248_bar</th>\n",
       "      <th>pressure</th>\n",
       "      <th>vol_uptake</th>\n",
       "    </tr>\n",
       "  </thead>\n",
       "  <tbody>\n",
       "    <tr>\n",
       "      <td>0</td>\n",
       "      <td>0</td>\n",
       "      <td>6</td>\n",
       "      <td>[O]C(=O)C#CC#CC(=O)[O]</td>\n",
       "      <td>NaN</td>\n",
       "      <td>NaN</td>\n",
       "      <td>NaN</td>\n",
       "      <td>NaN</td>\n",
       "      <td>NaN</td>\n",
       "      <td>NaN</td>\n",
       "      <td>NaN</td>\n",
       "      <td>...</td>\n",
       "      <td>163.846681</td>\n",
       "      <td>58.292254</td>\n",
       "      <td>-2.790110</td>\n",
       "      <td>182.710119</td>\n",
       "      <td>65.484926</td>\n",
       "      <td>NaN</td>\n",
       "      <td>216.323764</td>\n",
       "      <td>81.18772</td>\n",
       "      <td>1.0</td>\n",
       "      <td>0.000000</td>\n",
       "    </tr>\n",
       "    <tr>\n",
       "      <td>1</td>\n",
       "      <td>1</td>\n",
       "      <td>6</td>\n",
       "      <td>[O]C(=O)c1ccc(c(c1N)N)c1nnc(nn1)c1cc(N)c(c(c1N...</td>\n",
       "      <td>NaN</td>\n",
       "      <td>NaN</td>\n",
       "      <td>NaN</td>\n",
       "      <td>NaN</td>\n",
       "      <td>NaN</td>\n",
       "      <td>NaN</td>\n",
       "      <td>NaN</td>\n",
       "      <td>...</td>\n",
       "      <td>163.846681</td>\n",
       "      <td>58.292254</td>\n",
       "      <td>0.805583</td>\n",
       "      <td>182.710119</td>\n",
       "      <td>65.484926</td>\n",
       "      <td>0.697362</td>\n",
       "      <td>216.323764</td>\n",
       "      <td>81.18772</td>\n",
       "      <td>1.0</td>\n",
       "      <td>12.409545</td>\n",
       "    </tr>\n",
       "    <tr>\n",
       "      <td>2</td>\n",
       "      <td>2</td>\n",
       "      <td>6</td>\n",
       "      <td>[O]C(=O)C#Cc1cc(O)c(c(c1)O)C#CC(=O)[O]</td>\n",
       "      <td>NaN</td>\n",
       "      <td>NaN</td>\n",
       "      <td>NaN</td>\n",
       "      <td>NaN</td>\n",
       "      <td>NaN</td>\n",
       "      <td>NaN</td>\n",
       "      <td>NaN</td>\n",
       "      <td>...</td>\n",
       "      <td>163.846681</td>\n",
       "      <td>58.292254</td>\n",
       "      <td>0.506575</td>\n",
       "      <td>182.710119</td>\n",
       "      <td>65.484926</td>\n",
       "      <td>0.349411</td>\n",
       "      <td>216.323764</td>\n",
       "      <td>81.18772</td>\n",
       "      <td>1.0</td>\n",
       "      <td>14.970042</td>\n",
       "    </tr>\n",
       "    <tr>\n",
       "      <td>3</td>\n",
       "      <td>3</td>\n",
       "      <td>12</td>\n",
       "      <td>[O]C(=O)C#CC#CC#CC(=O)[O]</td>\n",
       "      <td>[O]C(=O)C#CC#CC#CC(=O)[O]</td>\n",
       "      <td>[O]C(=O)C#CC#CC#CC(=O)[O]</td>\n",
       "      <td>NaN</td>\n",
       "      <td>NaN</td>\n",
       "      <td>NaN</td>\n",
       "      <td>NaN</td>\n",
       "      <td>NaN</td>\n",
       "      <td>...</td>\n",
       "      <td>163.846681</td>\n",
       "      <td>58.292254</td>\n",
       "      <td>-0.747845</td>\n",
       "      <td>182.710119</td>\n",
       "      <td>65.484926</td>\n",
       "      <td>-0.810289</td>\n",
       "      <td>216.323764</td>\n",
       "      <td>81.18772</td>\n",
       "      <td>1.0</td>\n",
       "      <td>11.924002</td>\n",
       "    </tr>\n",
       "    <tr>\n",
       "      <td>4</td>\n",
       "      <td>4</td>\n",
       "      <td>6</td>\n",
       "      <td>[O]C(=O)c1ccc(c(c1)Cl)C#Cc1c(Cl)cc(cc1Cl)C(=O)[O]</td>\n",
       "      <td>NaN</td>\n",
       "      <td>NaN</td>\n",
       "      <td>NaN</td>\n",
       "      <td>NaN</td>\n",
       "      <td>NaN</td>\n",
       "      <td>NaN</td>\n",
       "      <td>NaN</td>\n",
       "      <td>...</td>\n",
       "      <td>163.846681</td>\n",
       "      <td>58.292254</td>\n",
       "      <td>0.183220</td>\n",
       "      <td>182.710119</td>\n",
       "      <td>65.484926</td>\n",
       "      <td>NaN</td>\n",
       "      <td>216.323764</td>\n",
       "      <td>81.18772</td>\n",
       "      <td>1.0</td>\n",
       "      <td>49.924683</td>\n",
       "    </tr>\n",
       "    <tr>\n",
       "      <td>...</td>\n",
       "      <td>...</td>\n",
       "      <td>...</td>\n",
       "      <td>...</td>\n",
       "      <td>...</td>\n",
       "      <td>...</td>\n",
       "      <td>...</td>\n",
       "      <td>...</td>\n",
       "      <td>...</td>\n",
       "      <td>...</td>\n",
       "      <td>...</td>\n",
       "      <td>...</td>\n",
       "      <td>...</td>\n",
       "      <td>...</td>\n",
       "      <td>...</td>\n",
       "      <td>...</td>\n",
       "      <td>...</td>\n",
       "      <td>...</td>\n",
       "      <td>...</td>\n",
       "      <td>...</td>\n",
       "      <td>...</td>\n",
       "      <td>...</td>\n",
       "    </tr>\n",
       "    <tr>\n",
       "      <td>758299</td>\n",
       "      <td>126469</td>\n",
       "      <td>3</td>\n",
       "      <td>[O]C(=O)/C=C/C=C(/C(=O)[O])\\F</td>\n",
       "      <td>NaN</td>\n",
       "      <td>NaN</td>\n",
       "      <td>NaN</td>\n",
       "      <td>NaN</td>\n",
       "      <td>NaN</td>\n",
       "      <td>NaN</td>\n",
       "      <td>NaN</td>\n",
       "      <td>...</td>\n",
       "      <td>163.846681</td>\n",
       "      <td>58.292254</td>\n",
       "      <td>-0.004233</td>\n",
       "      <td>182.710119</td>\n",
       "      <td>65.484926</td>\n",
       "      <td>NaN</td>\n",
       "      <td>216.323764</td>\n",
       "      <td>81.18772</td>\n",
       "      <td>248.0</td>\n",
       "      <td>NaN</td>\n",
       "    </tr>\n",
       "    <tr>\n",
       "      <td>758300</td>\n",
       "      <td>126470</td>\n",
       "      <td>1</td>\n",
       "      <td>[O]C(=O)c1cc2c(cc1Br)c(Br)[c]c1c2[c]c(Br)c2c1c...</td>\n",
       "      <td>NaN</td>\n",
       "      <td>NaN</td>\n",
       "      <td>NaN</td>\n",
       "      <td>NaN</td>\n",
       "      <td>NaN</td>\n",
       "      <td>NaN</td>\n",
       "      <td>NaN</td>\n",
       "      <td>...</td>\n",
       "      <td>163.846681</td>\n",
       "      <td>58.292254</td>\n",
       "      <td>0.288312</td>\n",
       "      <td>182.710119</td>\n",
       "      <td>65.484926</td>\n",
       "      <td>-0.006340</td>\n",
       "      <td>216.323764</td>\n",
       "      <td>81.18772</td>\n",
       "      <td>248.0</td>\n",
       "      <td>215.809026</td>\n",
       "    </tr>\n",
       "    <tr>\n",
       "      <td>758301</td>\n",
       "      <td>126471</td>\n",
       "      <td>3</td>\n",
       "      <td>[O]C(=O)C#C[C@]12[C@H]3[C@H]4[C@@]2([C@]2([C@@...</td>\n",
       "      <td>NaN</td>\n",
       "      <td>NaN</td>\n",
       "      <td>NaN</td>\n",
       "      <td>NaN</td>\n",
       "      <td>NaN</td>\n",
       "      <td>NaN</td>\n",
       "      <td>NaN</td>\n",
       "      <td>...</td>\n",
       "      <td>163.846681</td>\n",
       "      <td>58.292254</td>\n",
       "      <td>0.269705</td>\n",
       "      <td>182.710119</td>\n",
       "      <td>65.484926</td>\n",
       "      <td>NaN</td>\n",
       "      <td>216.323764</td>\n",
       "      <td>81.18772</td>\n",
       "      <td>248.0</td>\n",
       "      <td>NaN</td>\n",
       "    </tr>\n",
       "    <tr>\n",
       "      <td>758302</td>\n",
       "      <td>126472</td>\n",
       "      <td>3</td>\n",
       "      <td>[O]C(=O)C#C[C@@]12[C@H]3[C@H]4[C@@H]1[C@]1([C@...</td>\n",
       "      <td>NaN</td>\n",
       "      <td>NaN</td>\n",
       "      <td>NaN</td>\n",
       "      <td>NaN</td>\n",
       "      <td>NaN</td>\n",
       "      <td>NaN</td>\n",
       "      <td>NaN</td>\n",
       "      <td>...</td>\n",
       "      <td>163.846681</td>\n",
       "      <td>58.292254</td>\n",
       "      <td>0.570227</td>\n",
       "      <td>182.710119</td>\n",
       "      <td>65.484926</td>\n",
       "      <td>0.894216</td>\n",
       "      <td>216.323764</td>\n",
       "      <td>81.18772</td>\n",
       "      <td>248.0</td>\n",
       "      <td>288.923145</td>\n",
       "    </tr>\n",
       "    <tr>\n",
       "      <td>758303</td>\n",
       "      <td>126473</td>\n",
       "      <td>3</td>\n",
       "      <td>COc1c(ccc(c1OC)C#CC(=O)[O])C#CC(=O)[O]</td>\n",
       "      <td>NaN</td>\n",
       "      <td>NaN</td>\n",
       "      <td>NaN</td>\n",
       "      <td>NaN</td>\n",
       "      <td>NaN</td>\n",
       "      <td>NaN</td>\n",
       "      <td>NaN</td>\n",
       "      <td>...</td>\n",
       "      <td>163.846681</td>\n",
       "      <td>58.292254</td>\n",
       "      <td>0.398382</td>\n",
       "      <td>182.710119</td>\n",
       "      <td>65.484926</td>\n",
       "      <td>0.917007</td>\n",
       "      <td>216.323764</td>\n",
       "      <td>81.18772</td>\n",
       "      <td>248.0</td>\n",
       "      <td>290.773501</td>\n",
       "    </tr>\n",
       "  </tbody>\n",
       "</table>\n",
       "<p>758304 rows × 500 columns</p>\n",
       "</div>"
      ],
      "text/plain": [
       "        Unnamed: 0  #_of_Linkers  \\\n",
       "0                0             6   \n",
       "1                1             6   \n",
       "2                2             6   \n",
       "3                3            12   \n",
       "4                4             6   \n",
       "...            ...           ...   \n",
       "758299      126469             3   \n",
       "758300      126470             1   \n",
       "758301      126471             3   \n",
       "758302      126472             3   \n",
       "758303      126473             3   \n",
       "\n",
       "                                                L0_Smiles  \\\n",
       "0                                  [O]C(=O)C#CC#CC(=O)[O]   \n",
       "1       [O]C(=O)c1ccc(c(c1N)N)c1nnc(nn1)c1cc(N)c(c(c1N...   \n",
       "2                  [O]C(=O)C#Cc1cc(O)c(c(c1)O)C#CC(=O)[O]   \n",
       "3                               [O]C(=O)C#CC#CC#CC(=O)[O]   \n",
       "4       [O]C(=O)c1ccc(c(c1)Cl)C#Cc1c(Cl)cc(cc1Cl)C(=O)[O]   \n",
       "...                                                   ...   \n",
       "758299                      [O]C(=O)/C=C/C=C(/C(=O)[O])\\F   \n",
       "758300  [O]C(=O)c1cc2c(cc1Br)c(Br)[c]c1c2[c]c(Br)c2c1c...   \n",
       "758301  [O]C(=O)C#C[C@]12[C@H]3[C@H]4[C@@]2([C@]2([C@@...   \n",
       "758302  [O]C(=O)C#C[C@@]12[C@H]3[C@H]4[C@@H]1[C@]1([C@...   \n",
       "758303             COc1c(ccc(c1OC)C#CC(=O)[O])C#CC(=O)[O]   \n",
       "\n",
       "                       L10_Smiles                 L11_Smiles L12_Smiles  \\\n",
       "0                             NaN                        NaN        NaN   \n",
       "1                             NaN                        NaN        NaN   \n",
       "2                             NaN                        NaN        NaN   \n",
       "3       [O]C(=O)C#CC#CC#CC(=O)[O]  [O]C(=O)C#CC#CC#CC(=O)[O]        NaN   \n",
       "4                             NaN                        NaN        NaN   \n",
       "...                           ...                        ...        ...   \n",
       "758299                        NaN                        NaN        NaN   \n",
       "758300                        NaN                        NaN        NaN   \n",
       "758301                        NaN                        NaN        NaN   \n",
       "758302                        NaN                        NaN        NaN   \n",
       "758303                        NaN                        NaN        NaN   \n",
       "\n",
       "       L13_Smiles L14_Smiles L15_Smiles L16_Smiles  ... mean_CH4_v/v_65_bar  \\\n",
       "0             NaN        NaN        NaN        NaN  ...          163.846681   \n",
       "1             NaN        NaN        NaN        NaN  ...          163.846681   \n",
       "2             NaN        NaN        NaN        NaN  ...          163.846681   \n",
       "3             NaN        NaN        NaN        NaN  ...          163.846681   \n",
       "4             NaN        NaN        NaN        NaN  ...          163.846681   \n",
       "...           ...        ...        ...        ...  ...                 ...   \n",
       "758299        NaN        NaN        NaN        NaN  ...          163.846681   \n",
       "758300        NaN        NaN        NaN        NaN  ...          163.846681   \n",
       "758301        NaN        NaN        NaN        NaN  ...          163.846681   \n",
       "758302        NaN        NaN        NaN        NaN  ...          163.846681   \n",
       "758303        NaN        NaN        NaN        NaN  ...          163.846681   \n",
       "\n",
       "       std_CH4_v/v_65_bar norm_CH4_v/v_100_bar mean_CH4_v/v_100_bar  \\\n",
       "0               58.292254            -2.790110           182.710119   \n",
       "1               58.292254             0.805583           182.710119   \n",
       "2               58.292254             0.506575           182.710119   \n",
       "3               58.292254            -0.747845           182.710119   \n",
       "4               58.292254             0.183220           182.710119   \n",
       "...                   ...                  ...                  ...   \n",
       "758299          58.292254            -0.004233           182.710119   \n",
       "758300          58.292254             0.288312           182.710119   \n",
       "758301          58.292254             0.269705           182.710119   \n",
       "758302          58.292254             0.570227           182.710119   \n",
       "758303          58.292254             0.398382           182.710119   \n",
       "\n",
       "       std_CH4_v/v_100_bar norm_CH4_v/v_248_bar mean_CH4_v/v_248_bar  \\\n",
       "0                65.484926                  NaN           216.323764   \n",
       "1                65.484926             0.697362           216.323764   \n",
       "2                65.484926             0.349411           216.323764   \n",
       "3                65.484926            -0.810289           216.323764   \n",
       "4                65.484926                  NaN           216.323764   \n",
       "...                    ...                  ...                  ...   \n",
       "758299           65.484926                  NaN           216.323764   \n",
       "758300           65.484926            -0.006340           216.323764   \n",
       "758301           65.484926                  NaN           216.323764   \n",
       "758302           65.484926             0.894216           216.323764   \n",
       "758303           65.484926             0.917007           216.323764   \n",
       "\n",
       "       std_CH4_v/v_248_bar pressure  vol_uptake  \n",
       "0                 81.18772      1.0    0.000000  \n",
       "1                 81.18772      1.0   12.409545  \n",
       "2                 81.18772      1.0   14.970042  \n",
       "3                 81.18772      1.0   11.924002  \n",
       "4                 81.18772      1.0   49.924683  \n",
       "...                    ...      ...         ...  \n",
       "758299            81.18772    248.0         NaN  \n",
       "758300            81.18772    248.0  215.809026  \n",
       "758301            81.18772    248.0         NaN  \n",
       "758302            81.18772    248.0  288.923145  \n",
       "758303            81.18772    248.0  290.773501  \n",
       "\n",
       "[758304 rows x 500 columns]"
      ]
     },
     "execution_count": 10,
     "metadata": {},
     "output_type": "execute_result"
    }
   ],
   "source": [
    "stacked"
   ]
  },
  {
   "cell_type": "code",
   "execution_count": 13,
   "metadata": {},
   "outputs": [
    {
     "name": "stdout",
     "output_type": "stream",
     "text": [
      "<class 'pandas.core.frame.DataFrame'>\n",
      "RangeIndex: 758304 entries, 0 to 758303\n",
      "Columns: 500 entries, Unnamed: 0 to vol_uptake\n",
      "dtypes: float32(472), float64(2), int8(5), object(21)\n",
      "memory usage: 2.1 GB\n"
     ]
    }
   ],
   "source": [
    "stacked.info(memory_usage='deep')"
   ]
  },
  {
   "cell_type": "code",
   "execution_count": 14,
   "metadata": {},
   "outputs": [],
   "source": [
    "stacked = stacked.drop(['CH4_v/v_1_bar','CH4_v/v_5.8_bar','CH4_v/v_35_bar','CH4_v/v_65_bar','CH4_v/v_100_bar',\n",
    "             'CH4_v/v_248_bar'], axis=1)"
   ]
  },
  {
   "cell_type": "code",
   "execution_count": 18,
   "metadata": {},
   "outputs": [],
   "source": [
    "stacked = stacked[stacked['vol_uptake'].notna()].reset_index()"
   ]
  },
  {
   "cell_type": "code",
   "execution_count": 20,
   "metadata": {},
   "outputs": [],
   "source": [
    "stacked = stacked.drop('index', axis=1)"
   ]
  },
  {
   "cell_type": "code",
   "execution_count": 21,
   "metadata": {},
   "outputs": [],
   "source": [
    "stacked.to_csv('stacked.csv')"
   ]
  },
  {
   "cell_type": "markdown",
   "metadata": {},
   "source": [
    "# read back stacked"
   ]
  },
  {
   "cell_type": "code",
   "execution_count": null,
   "metadata": {},
   "outputs": [],
   "source": [
    "import pandas as pd"
   ]
  },
  {
   "cell_type": "code",
   "execution_count": null,
   "metadata": {},
   "outputs": [],
   "source": [
    "import pickle"
   ]
  },
  {
   "cell_type": "code",
   "execution_count": null,
   "metadata": {},
   "outputs": [],
   "source": [
    "pickle_in = open(\"stacked.pkl\",\"rb\")"
   ]
  },
  {
   "cell_type": "code",
   "execution_count": null,
   "metadata": {},
   "outputs": [],
   "source": [
    "stacked = pickle.load(pickle_in)"
   ]
  },
  {
   "cell_type": "code",
   "execution_count": 23,
   "metadata": {},
   "outputs": [],
   "source": [
    "def norm_col(df, col_name):\n",
    "    \n",
    "    nrow = len(df)\n",
    "    mean = df[col_name].mean()\n",
    "    std = df[col_name].std()\n",
    "    \n",
    "    df['norm_' + col_name] = (df[col_name] - mean) / std\n",
    "    df['mean_' + col_name] = [mean for i in range(nrow)]\n",
    "    df['std_' + col_name] = [std for i in range(nrow)]"
   ]
  },
  {
   "cell_type": "code",
   "execution_count": 24,
   "metadata": {},
   "outputs": [],
   "source": [
    "norm_col(stacked, 'vol_uptake')"
   ]
  },
  {
   "cell_type": "code",
   "execution_count": 25,
   "metadata": {},
   "outputs": [],
   "source": [
    "stacked.to_csv('stacked.csv')"
   ]
  },
  {
   "cell_type": "code",
   "execution_count": null,
   "metadata": {},
   "outputs": [],
   "source": []
  }
 ],
 "metadata": {
  "kernelspec": {
   "display_name": "Python 3",
   "language": "python",
   "name": "python3"
  },
  "language_info": {
   "codemirror_mode": {
    "name": "ipython",
    "version": 3
   },
   "file_extension": ".py",
   "mimetype": "text/x-python",
   "name": "python",
   "nbconvert_exporter": "python",
   "pygments_lexer": "ipython3",
   "version": "3.7.3"
  }
 },
 "nbformat": 4,
 "nbformat_minor": 2
}
