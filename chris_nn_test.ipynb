{
 "cells": [
  {
   "cell_type": "code",
   "execution_count": 35,
   "metadata": {},
   "outputs": [],
   "source": [
    "import tensorflow as tf\n",
    "import numpy as np\n",
    "tfk = tf.keras.layers\n",
    "data = np.random.rand(1000,300).astype(np.float32)\n",
    "out_data = np.random.rand(1000,1).astype(np.float32)"
   ]
  },
  {
   "cell_type": "code",
   "execution_count": 65,
   "metadata": {},
   "outputs": [],
   "source": [
    "inputs  = tfk.Input(300)\n",
    "out = tfk.Dense(100, activation='relu')(inputs)\n",
    "# out = tfk.Dropout(0.5)(out)\n",
    "out = tfk.Dense(100, activation='relu')(out)\n",
    "# out = tfk.Dropout(0.5)(out)\n",
    "\n",
    "out = tfk.Dense(1, activation='linear')(out)\n",
    "model = tf.keras.Model(inputs, out)\n",
    "model.compile('adam', loss='mse')"
   ]
  },
  {
   "cell_type": "code",
   "execution_count": 66,
   "metadata": {},
   "outputs": [
    {
     "name": "stdout",
     "output_type": "stream",
     "text": [
      "Train for 90 steps, validate for 90 steps\n",
      "Epoch 1/10\n",
      "90/90 [==============================] - 1s 7ms/step - loss: 0.1166 - val_loss: 0.0851\n",
      "Epoch 2/10\n",
      "90/90 [==============================] - 0s 4ms/step - loss: 0.0884 - val_loss: 0.0839\n",
      "Epoch 3/10\n",
      "90/90 [==============================] - 0s 4ms/step - loss: 0.0823 - val_loss: 0.0763\n",
      "Epoch 4/10\n",
      "90/90 [==============================] - 0s 4ms/step - loss: 0.0773 - val_loss: 0.0688\n",
      "Epoch 5/10\n",
      "90/90 [==============================] - 0s 4ms/step - loss: 0.0738 - val_loss: 0.0645\n",
      "Epoch 6/10\n",
      "90/90 [==============================] - 0s 4ms/step - loss: 0.0671 - val_loss: 0.0585\n",
      "Epoch 7/10\n",
      "90/90 [==============================] - 0s 4ms/step - loss: 0.0612 - val_loss: 0.0529\n",
      "Epoch 8/10\n",
      "90/90 [==============================] - 0s 4ms/step - loss: 0.0530 - val_loss: 0.0493\n",
      "Epoch 9/10\n",
      "90/90 [==============================] - 0s 4ms/step - loss: 0.0468 - val_loss: 0.0524\n",
      "Epoch 10/10\n",
      "90/90 [==============================] - 0s 4ms/step - loss: 0.0437 - val_loss: 0.0499\n"
     ]
    },
    {
     "data": {
      "text/plain": [
       "<tensorflow.python.keras.callbacks.History at 0x7f051c053390>"
      ]
     },
     "execution_count": 66,
     "metadata": {},
     "output_type": "execute_result"
    }
   ],
   "source": [
    "all_data = tf.data.Dataset.from_tensor_slices((data, out_data))\n",
    "test_data = all_data.take(100).batch(10)\n",
    "train_data = all_data.skip(100).batch(10)\n",
    "\n",
    "model.fit(train_data, validation_data=train_data, epochs=10)\n",
    "\n"
   ]
  },
  {
   "cell_type": "code",
   "execution_count": 67,
   "metadata": {},
   "outputs": [
    {
     "data": {
      "text/plain": [
       "[<matplotlib.lines.Line2D at 0x7f04fc6e8250>]"
      ]
     },
     "execution_count": 67,
     "metadata": {},
     "output_type": "execute_result"
    },
    {
     "data": {
      "image/png": "[encoded data removed]",
      "text/plain": [
       "<Figure size 640x480 with 1 Axes>"
      ]
     },
     "metadata": {},
     "output_type": "display_data"
    }
   ],
   "source": [
    "import matplotlib\n",
    "import matplotlib.pyplot as plt\n",
    "matplotlib.style.use(['default'])\n",
    "truth = []\n",
    "for i in test_data:\n",
    "    truth.append(i[1].numpy())\n",
    "truth = np.concatenate(truth)\n",
    "plt.plot(truth, model.predict(test_data).flatten(), 'o')"
   ]
  },
  {
   "cell_type": "code",
   "execution_count": null,
   "metadata": {},
   "outputs": [],
   "source": []
  }
 ],
 "metadata": {
  "file_extension": ".py",
  "kernelspec": {
   "display_name": "Python 3",
   "language": "python",
   "name": "python3"
  },
  "language_info": {
   "codemirror_mode": {
    "name": "ipython",
    "version": 3
   },
   "file_extension": ".py",
   "mimetype": "text/x-python",
   "name": "python",
   "nbconvert_exporter": "python",
   "pygments_lexer": "ipython3",
   "version": "3.7.3"
  },
  "mimetype": "text/x-python",
  "name": "python",
  "npconvert_exporter": "python",
  "pygments_lexer": "ipython3",
  "version": 3
 },
 "nbformat": 4,
 "nbformat_minor": 2
}
