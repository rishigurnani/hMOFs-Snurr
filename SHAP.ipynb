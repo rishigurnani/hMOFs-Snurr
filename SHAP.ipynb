{
 "cells": [
  {
   "cell_type": "markdown",
   "metadata": {},
   "source": [
    "# Import"
   ]
  },
  {
   "cell_type": "code",
   "execution_count": 1,
   "metadata": {},
   "outputs": [],
   "source": [
    "import shap"
   ]
  },
  {
   "cell_type": "code",
   "execution_count": 2,
   "metadata": {},
   "outputs": [
    {
     "name": "stderr",
     "output_type": "stream",
     "text": [
      "calling yaml.load() without Loader=... is deprecated, as the default Loader is unsafe. Please read https://msg.pyyaml.org/load for full details.\n",
      "calling yaml.load() without Loader=... is deprecated, as the default Loader is unsafe. Please read https://msg.pyyaml.org/load for full details.\n"
     ]
    }
   ],
   "source": [
    "import xgboost as xgb"
   ]
  },
  {
   "cell_type": "code",
   "execution_count": 3,
   "metadata": {},
   "outputs": [
    {
     "data": {
      "text/plain": [
       "<module 'efrc_ml_production' from '/home/rgur/py_scripts/efrc_ml_production.py'>"
      ]
     },
     "execution_count": 3,
     "metadata": {},
     "output_type": "execute_result"
    }
   ],
   "source": [
    "import importlib\n",
    "import efrc_ml_production as ml\n",
    "importlib.reload(ml)"
   ]
  },
  {
   "cell_type": "code",
   "execution_count": 4,
   "metadata": {},
   "outputs": [],
   "source": [
    "import pandas as pd"
   ]
  },
  {
   "cell_type": "code",
   "execution_count": 5,
   "metadata": {},
   "outputs": [],
   "source": [
    "import time"
   ]
  },
  {
   "cell_type": "markdown",
   "metadata": {},
   "source": [
    "# Write functions"
   ]
  },
  {
   "cell_type": "code",
   "execution_count": 6,
   "metadata": {},
   "outputs": [],
   "source": [
    "def load_model(model_path):\n",
    "    reg = xgb.XGBRegressor()\n",
    "    booster = xgb.Booster()\n",
    "    booster.load_model(model_path)\n",
    "    reg._Booster = booster\n",
    "    return reg"
   ]
  },
  {
   "cell_type": "code",
   "execution_count": 7,
   "metadata": {},
   "outputs": [],
   "source": [
    "def shap_mat(model, data):\n",
    "    start = time.time()\n",
    "    explainer = shap.TreeExplainer(model)\n",
    "    end = time.time()\n",
    "    shap_values = explainer.shap_values(data)\n",
    "    print(\"Time elapsed to create shap values: %s\" %(end-start))\n",
    "    return shap_values"
   ]
  },
  {
   "cell_type": "code",
   "execution_count": 8,
   "metadata": {},
   "outputs": [],
   "source": [
    "def get_features(params_path):\n",
    "    f = open(params_path, 'r')\n",
    "    start = False\n",
    "    for line in f:\n",
    "        #lines.append(line.strip())\n",
    "        strp = line.strip()\n",
    "        if start:\n",
    "            try:\n",
    "                exec(strp)\n",
    "            except:\n",
    "                pass        \n",
    "        elif 'algo' in strp:\n",
    "            start = True\n",
    "            try:\n",
    "                exec(strp)\n",
    "            except:\n",
    "                pass    \n",
    "    \n",
    "    RETURN_FEATURES = True\n",
    "    return ml.prepToSplit(cat_si_sd, SD_ML_DATA_PATH, SI_ML_DATA_PATH, start_str_sd, end_str_sd, start_str_si, end_str_si, total_frac, \n",
    "                                        del_defective_mofs, add_size_fp, size_dependent, stacked, n_core, \n",
    "                                        del_geometric_fp, cat_col_names, Y_DATA_PATH, return_features=RETURN_FEATURES)"
   ]
  },
  {
   "cell_type": "code",
   "execution_count": 9,
   "metadata": {},
   "outputs": [],
   "source": [
    "def change_names(s):\n",
    "    d = {'norm_Void_Fraction':'Void Fraction',\n",
    "    'norm_Surf._Area_(m2/g)':'Surface Area',\n",
    "    'norm_Density':'Density',\n",
    "     'Mefp_norm_mol_wt_si':'Norm_mol_wt',\n",
    "     'Mmfp_MQNs26_si':'Norm_MQNs26',\n",
    "     'norm_Mmfp_Chi1n': 'Chi1n',\n",
    "     'norm_Vol._Surf._Area': 'Volumetric Surface Area',\n",
    "     'oh_1': 'Cat_1',\n",
    "     'norm_Max._Pore_(ang.)': 'Max Pore Diameter',\n",
    "     'norm_Dom._Pore_(ang.)': 'Dominant Pore Diameter',\n",
    "     'norm_atomic_rad_pa_(angstroms)': 'Atomic_rad'\n",
    "    }\n",
    "    try:\n",
    "        return d[s]\n",
    "    except:\n",
    "        if s[:5] == 'norm_':\n",
    "            s = s[5:]\n",
    "        if s[-3:] == '_si':\n",
    "            s = 'norm_' + s[:-3]\n",
    "        if 'Mefp_' in s:\n",
    "            s = s.replace('Mefp_', '')\n",
    "        if 'Mmfp_' in s:\n",
    "            s = s.replace('Mmfp_', '')\n",
    "        if 'Mafp_' in s:\n",
    "            s = s.replace('Mafp_', '')\n",
    "#         if (s[:5] == 'Mefp_' or s[:5] == 'Mmfp_' or s[:5] == 'Mafp_'):\n",
    "#             s = s[5:]\n",
    "        if s[-3:] == '_pa':\n",
    "            s = s[:-3]\n",
    "        s=s.capitalize()\n",
    "        return s\n",
    "        "
   ]
  },
  {
   "cell_type": "markdown",
   "metadata": {},
   "source": [
    "# Scratch"
   ]
  },
  {
   "cell_type": "markdown",
   "metadata": {},
   "source": [
    "# SHAP Plots for best all-feature model"
   ]
  },
  {
   "cell_type": "code",
   "execution_count": 10,
   "metadata": {},
   "outputs": [],
   "source": [
    "model = load_model('/data/rgur/efrc/ml/models/12:05PM_on_April_11_2020/12:05PM_on_April_11_2020.xgb')"
   ]
  },
  {
   "cell_type": "code",
   "execution_count": 11,
   "metadata": {},
   "outputs": [],
   "source": [
    "params_path = '/data/rgur/efrc/ml/models/12:05PM_on_April_11_2020/params_12:05PM_on_April_11_2020'"
   ]
  },
  {
   "cell_type": "code",
   "execution_count": 12,
   "metadata": {},
   "outputs": [
    {
     "name": "stderr",
     "output_type": "stream",
     "text": [
      "Columns (4,5,6,7,8,9,10,11,12) have mixed types. Specify dtype option on import or set low_memory=False.\n"
     ]
    }
   ],
   "source": [
    "f = open(params_path, 'r')\n",
    "start = False\n",
    "for line in f:\n",
    "    #lines.append(line.strip())\n",
    "    strp = line.strip()\n",
    "    if start:\n",
    "        try:\n",
    "            exec(strp)\n",
    "        except:\n",
    "            pass        \n",
    "    elif 'algo' in strp:\n",
    "        start = True\n",
    "        try:\n",
    "            exec(strp)\n",
    "        except:\n",
    "            pass    \n",
    "\n",
    "RETURN_FEATURES = True\n",
    "features = ml.prepToSplit(cat_si_sd, SD_ML_DATA_PATH, SI_ML_DATA_PATH, start_str_sd, end_str_sd, start_str_si, end_str_si, total_frac, \n",
    "                                    del_defective_mofs, add_size_fp, size_dependent, stacked, n_core, \n",
    "                                    del_geometric_fp, cat_col_names, Y_DATA_PATH, return_features=RETURN_FEATURES)"
   ]
  },
  {
   "cell_type": "code",
   "execution_count": 13,
   "metadata": {},
   "outputs": [],
   "source": [
    "features = [i for i in features if i not in ['norm_Mafp_N2_O2_N3', 'norm_Mmfp_MQNs25', 'norm_Mmfp_MQNs24', 'norm_Mafp_C1_N2_N3', 'norm_Mmfp_MQNs22', 'norm_Mmfp_MQNs23']]"
   ]
  },
  {
   "cell_type": "code",
   "execution_count": 15,
   "metadata": {},
   "outputs": [],
   "source": [
    "train = pd.read_csv('/data/rgur/efrc/ml/models/12:05PM_on_April_11_2020/train_12:05PM_on_April_11_2020.csv')"
   ]
  },
  {
   "cell_type": "code",
   "execution_count": 16,
   "metadata": {},
   "outputs": [],
   "source": [
    "test = pd.read_csv('/data/rgur/efrc/ml/models/12:05PM_on_April_11_2020/test_12:05PM_on_April_11_2020.csv')"
   ]
  },
  {
   "cell_type": "code",
   "execution_count": 17,
   "metadata": {},
   "outputs": [],
   "source": [
    "train_fp = pd.concat([train, test], ignore_index=True)[features].to_numpy()"
   ]
  },
  {
   "cell_type": "code",
   "execution_count": 18,
   "metadata": {},
   "outputs": [
    {
     "name": "stderr",
     "output_type": "stream",
     "text": [
      "Setting feature_perturbation = \"tree_path_dependent\" because no background data was given.\n"
     ]
    },
    {
     "name": "stdout",
     "output_type": "stream",
     "text": [
      "Time elapsed to create shap values: 7.2797627449035645\n"
     ]
    }
   ],
   "source": [
    "shap_vals = shap_mat(model, train_fp)"
   ]
  },
  {
   "cell_type": "code",
   "execution_count": 19,
   "metadata": {},
   "outputs": [],
   "source": [
    "#save shap_vals\n",
    "import pickle\n",
    "with open('/data/rgur/efrc/ml/models/12:05PM_on_April_11_2020/shap_12:05PM_on_April_11_2020.pkl', 'wb') as f:\n",
    "    pickle.dump(shap_vals, f)"
   ]
  },
  {
   "cell_type": "code",
   "execution_count": 20,
   "metadata": {},
   "outputs": [],
   "source": [
    "adj_names = [change_names(s) for s in features]"
   ]
  },
  {
   "cell_type": "code",
   "execution_count": 21,
   "metadata": {
    "scrolled": true
   },
   "outputs": [
    {
     "data": {
      "image/png": "[encoded data removed]",
      "text/plain": [
       "<Figure size 576x684 with 1 Axes>"
      ]
     },
     "metadata": {
      "needs_background": "light"
     },
     "output_type": "display_data"
    }
   ],
   "source": [
    "shap.summary_plot(shap_vals, features, feature_names=adj_names, plot_type='bar', show=False)"
   ]
  },
  {
   "cell_type": "markdown",
   "metadata": {},
   "source": [
    "# Test functions"
   ]
  },
  {
   "cell_type": "code",
   "execution_count": null,
   "metadata": {},
   "outputs": [],
   "source": []
  }
 ],
 "metadata": {
  "kernelspec": {
   "display_name": "Python 3",
   "language": "python",
   "name": "python3"
  },
  "language_info": {
   "codemirror_mode": {
    "name": "ipython",
    "version": 3
   },
   "file_extension": ".py",
   "mimetype": "text/x-python",
   "name": "python",
   "nbconvert_exporter": "python",
   "pygments_lexer": "ipython3",
   "version": "3.7.3"
  }
 },
 "nbformat": 4,
 "nbformat_minor": 2
}
