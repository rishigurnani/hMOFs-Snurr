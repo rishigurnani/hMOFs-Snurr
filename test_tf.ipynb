{
 "cells": [
  {
   "cell_type": "markdown",
   "metadata": {},
   "source": [
    "# Import"
   ]
  },
  {
   "cell_type": "code",
   "execution_count": 1,
   "metadata": {},
   "outputs": [],
   "source": [
    "from sklearn.datasets import load_boston"
   ]
  },
  {
   "cell_type": "code",
   "execution_count": 5,
   "metadata": {},
   "outputs": [],
   "source": [
    "import pandas as pd"
   ]
  },
  {
   "cell_type": "code",
   "execution_count": 16,
   "metadata": {},
   "outputs": [
    {
     "data": {
      "text/plain": [
       "[PhysicalDevice(name='/physical_device:GPU:0', device_type='GPU')]"
      ]
     },
     "execution_count": 16,
     "metadata": {},
     "output_type": "execute_result"
    }
   ],
   "source": [
    "import numpy as np \n",
    "from os import path\n",
    "import pandas as pd \n",
    "import os\n",
    "import tensorflow as tf\n",
    "from tensorflow import keras\n",
    "from tensorflow.keras import layers\n",
    "os.environ[\"CUDA_VISIBLE_DEVICES\"] = '0'\n",
    "import matplotlib.pyplot as plt\n",
    "import seaborn as sns\n",
    "\n",
    "import tensorflow_docs as tfdocs\n",
    "import tensorflow_docs.plots\n",
    "import tensorflow_docs.modeling\n",
    "\n",
    "%matplotlib inline\n",
    "import matplotlib.pyplot as plt\n",
    "from matplotlib import rc\n",
    "from matplotlib import rcParams\n",
    "tickfontsize=20\n",
    "labelfontsize = tickfontsize\n",
    "\n",
    "import datetime\n",
    "\n",
    "import math\n",
    "\n",
    "import time\n",
    "\n",
    "import random\n",
    "\n",
    "gpus = tf.config.experimental.list_physical_devices('GPU')\n",
    "for gpu in gpus:\n",
    "    tf.config.experimental.set_memory_growth(gpu, True)\n",
    "\n",
    "gpus"
   ]
  },
  {
   "cell_type": "markdown",
   "metadata": {},
   "source": [
    "# Load data"
   ]
  },
  {
   "cell_type": "code",
   "execution_count": 2,
   "metadata": {},
   "outputs": [],
   "source": [
    "boston = load_boston()"
   ]
  },
  {
   "cell_type": "markdown",
   "metadata": {},
   "source": [
    "# Process data"
   ]
  },
  {
   "cell_type": "code",
   "execution_count": 3,
   "metadata": {},
   "outputs": [
    {
     "name": "stdout",
     "output_type": "stream",
     "text": [
      "dict_keys(['data', 'target', 'feature_names', 'DESCR', 'filename'])\n"
     ]
    }
   ],
   "source": [
    "print(boston.keys())"
   ]
  },
  {
   "cell_type": "code",
   "execution_count": 4,
   "metadata": {},
   "outputs": [
    {
     "name": "stdout",
     "output_type": "stream",
     "text": [
      "['CRIM' 'ZN' 'INDUS' 'CHAS' 'NOX' 'RM' 'AGE' 'DIS' 'RAD' 'TAX' 'PTRATIO'\n",
      " 'B' 'LSTAT']\n"
     ]
    }
   ],
   "source": [
    "print(boston.feature_names)"
   ]
  },
  {
   "cell_type": "code",
   "execution_count": 6,
   "metadata": {},
   "outputs": [],
   "source": [
    "data = pd.DataFrame(boston.data)\n",
    "data.columns = boston.feature_names"
   ]
  },
  {
   "cell_type": "code",
   "execution_count": 7,
   "metadata": {},
   "outputs": [
    {
     "data": {
      "text/html": [
       "<div>\n",
       "<style scoped>\n",
       "    .dataframe tbody tr th:only-of-type {\n",
       "        vertical-align: middle;\n",
       "    }\n",
       "\n",
       "    .dataframe tbody tr th {\n",
       "        vertical-align: top;\n",
       "    }\n",
       "\n",
       "    .dataframe thead th {\n",
       "        text-align: right;\n",
       "    }\n",
       "</style>\n",
       "<table border=\"1\" class=\"dataframe\">\n",
       "  <thead>\n",
       "    <tr style=\"text-align: right;\">\n",
       "      <th></th>\n",
       "      <th>CRIM</th>\n",
       "      <th>ZN</th>\n",
       "      <th>INDUS</th>\n",
       "      <th>CHAS</th>\n",
       "      <th>NOX</th>\n",
       "      <th>RM</th>\n",
       "      <th>AGE</th>\n",
       "      <th>DIS</th>\n",
       "      <th>RAD</th>\n",
       "      <th>TAX</th>\n",
       "      <th>PTRATIO</th>\n",
       "      <th>B</th>\n",
       "      <th>LSTAT</th>\n",
       "    </tr>\n",
       "  </thead>\n",
       "  <tbody>\n",
       "    <tr>\n",
       "      <th>0</th>\n",
       "      <td>0.00632</td>\n",
       "      <td>18.0</td>\n",
       "      <td>2.31</td>\n",
       "      <td>0.0</td>\n",
       "      <td>0.538</td>\n",
       "      <td>6.575</td>\n",
       "      <td>65.2</td>\n",
       "      <td>4.0900</td>\n",
       "      <td>1.0</td>\n",
       "      <td>296.0</td>\n",
       "      <td>15.3</td>\n",
       "      <td>396.90</td>\n",
       "      <td>4.98</td>\n",
       "    </tr>\n",
       "    <tr>\n",
       "      <th>1</th>\n",
       "      <td>0.02731</td>\n",
       "      <td>0.0</td>\n",
       "      <td>7.07</td>\n",
       "      <td>0.0</td>\n",
       "      <td>0.469</td>\n",
       "      <td>6.421</td>\n",
       "      <td>78.9</td>\n",
       "      <td>4.9671</td>\n",
       "      <td>2.0</td>\n",
       "      <td>242.0</td>\n",
       "      <td>17.8</td>\n",
       "      <td>396.90</td>\n",
       "      <td>9.14</td>\n",
       "    </tr>\n",
       "    <tr>\n",
       "      <th>2</th>\n",
       "      <td>0.02729</td>\n",
       "      <td>0.0</td>\n",
       "      <td>7.07</td>\n",
       "      <td>0.0</td>\n",
       "      <td>0.469</td>\n",
       "      <td>7.185</td>\n",
       "      <td>61.1</td>\n",
       "      <td>4.9671</td>\n",
       "      <td>2.0</td>\n",
       "      <td>242.0</td>\n",
       "      <td>17.8</td>\n",
       "      <td>392.83</td>\n",
       "      <td>4.03</td>\n",
       "    </tr>\n",
       "    <tr>\n",
       "      <th>3</th>\n",
       "      <td>0.03237</td>\n",
       "      <td>0.0</td>\n",
       "      <td>2.18</td>\n",
       "      <td>0.0</td>\n",
       "      <td>0.458</td>\n",
       "      <td>6.998</td>\n",
       "      <td>45.8</td>\n",
       "      <td>6.0622</td>\n",
       "      <td>3.0</td>\n",
       "      <td>222.0</td>\n",
       "      <td>18.7</td>\n",
       "      <td>394.63</td>\n",
       "      <td>2.94</td>\n",
       "    </tr>\n",
       "    <tr>\n",
       "      <th>4</th>\n",
       "      <td>0.06905</td>\n",
       "      <td>0.0</td>\n",
       "      <td>2.18</td>\n",
       "      <td>0.0</td>\n",
       "      <td>0.458</td>\n",
       "      <td>7.147</td>\n",
       "      <td>54.2</td>\n",
       "      <td>6.0622</td>\n",
       "      <td>3.0</td>\n",
       "      <td>222.0</td>\n",
       "      <td>18.7</td>\n",
       "      <td>396.90</td>\n",
       "      <td>5.33</td>\n",
       "    </tr>\n",
       "  </tbody>\n",
       "</table>\n",
       "</div>"
      ],
      "text/plain": [
       "      CRIM    ZN  INDUS  CHAS    NOX     RM   AGE     DIS  RAD    TAX  \\\n",
       "0  0.00632  18.0   2.31   0.0  0.538  6.575  65.2  4.0900  1.0  296.0   \n",
       "1  0.02731   0.0   7.07   0.0  0.469  6.421  78.9  4.9671  2.0  242.0   \n",
       "2  0.02729   0.0   7.07   0.0  0.469  7.185  61.1  4.9671  2.0  242.0   \n",
       "3  0.03237   0.0   2.18   0.0  0.458  6.998  45.8  6.0622  3.0  222.0   \n",
       "4  0.06905   0.0   2.18   0.0  0.458  7.147  54.2  6.0622  3.0  222.0   \n",
       "\n",
       "   PTRATIO       B  LSTAT  \n",
       "0     15.3  396.90   4.98  \n",
       "1     17.8  396.90   9.14  \n",
       "2     17.8  392.83   4.03  \n",
       "3     18.7  394.63   2.94  \n",
       "4     18.7  396.90   5.33  "
      ]
     },
     "execution_count": 7,
     "metadata": {},
     "output_type": "execute_result"
    }
   ],
   "source": [
    "data.head()"
   ]
  },
  {
   "cell_type": "code",
   "execution_count": 10,
   "metadata": {},
   "outputs": [],
   "source": [
    "target = boston.target"
   ]
  },
  {
   "cell_type": "code",
   "execution_count": 14,
   "metadata": {},
   "outputs": [],
   "source": [
    "data = data.drop(\"PRICE\", axis=1)"
   ]
  },
  {
   "cell_type": "code",
   "execution_count": 18,
   "metadata": {},
   "outputs": [
    {
     "data": {
      "text/plain": [
       "506"
      ]
     },
     "execution_count": 18,
     "metadata": {},
     "output_type": "execute_result"
    }
   ],
   "source": [
    "len(data)"
   ]
  },
  {
   "cell_type": "markdown",
   "metadata": {},
   "source": [
    "# Build Model"
   ]
  },
  {
   "cell_type": "code",
   "execution_count": 31,
   "metadata": {},
   "outputs": [
    {
     "name": "stdout",
     "output_type": "stream",
     "text": [
      "Model: \"sequential_5\"\n",
      "_________________________________________________________________\n",
      "Layer (type)                 Output Shape              Param #   \n",
      "=================================================================\n",
      "dense_20 (Dense)             (None, 100)               1400      \n",
      "_________________________________________________________________\n",
      "dense_21 (Dense)             (None, 100)               10100     \n",
      "_________________________________________________________________\n",
      "dense_22 (Dense)             (None, 100)               10100     \n",
      "_________________________________________________________________\n",
      "dense_23 (Dense)             (None, 1)                 101       \n",
      "=================================================================\n",
      "Total params: 21,701\n",
      "Trainable params: 21,701\n",
      "Non-trainable params: 0\n",
      "_________________________________________________________________\n"
     ]
    }
   ],
   "source": [
    "# define the keras model\n",
    "def build_model():\n",
    "    model = keras.Sequential([\n",
    "        layers.Dense(100, activation='relu', input_shape=[len(data.keys())]), #default is 100\n",
    "        #layers.Dense(100, activation='relu'), #default is not exist\n",
    "        #layers.Dropout(.1), #default is not exist\n",
    "        #layers.Dense(100, activation='relu'), #default is not exist\n",
    "        #layers.Dropout(.1), #default is not exist\n",
    "        layers.Dense(100, activation='relu'), #default is 100\n",
    "        #layers.Dropout(.1), #default is not exist\n",
    "        layers.Dense(100, activation='relu'), #default is 100\n",
    "        #layers.Dropout(.1), #default is not exist\n",
    "        #layers.Dense(1)\n",
    "        layers.Dense(1, activation='linear') #default activation is None\n",
    "    ])\n",
    "\n",
    "#     model = keras.Sequential([\n",
    "#         layers.Dense(400, activation='relu', input_shape=[len(train_fp.keys())]),\n",
    "#         layers.Dense(400, activation='relu'),\n",
    "#         layers.Dense(100, activation='relu'),\n",
    "#         #layers.Dense(1)\n",
    "#         layers.Dense(1, activation='linear')\n",
    "#     ])\n",
    "\n",
    "    opt = keras.optimizers.Adam(learning_rate=.001) #default is .001\n",
    "    \n",
    "    model.compile(loss='mse',\n",
    "        optimizer=opt,\n",
    "        metrics=['mae', 'mse'])\n",
    "    return model\n",
    "\n",
    "model = build_model()\n",
    "model.summary()"
   ]
  },
  {
   "cell_type": "markdown",
   "metadata": {},
   "source": [
    "# Training"
   ]
  },
  {
   "cell_type": "code",
   "execution_count": 32,
   "metadata": {},
   "outputs": [],
   "source": [
    "patience = 10"
   ]
  },
  {
   "cell_type": "code",
   "execution_count": 33,
   "metadata": {},
   "outputs": [
    {
     "name": "stdout",
     "output_type": "stream",
     "text": [
      "Train on 404 samples, validate on 102 samples\n",
      "Epoch 1/1000\n",
      "320/404 [======================>.......] - ETA: 0s - loss: 172.8478 - mae: 10.5071 - mse: 172.8478\n",
      "Epoch 00001: val_loss improved from inf to 404.46692, saving model to model_checkpoint.h5\n",
      "\n",
      "Epoch: 0, loss:166.7479,  mae:10.0908,  mse:166.7478,  val_loss:404.4669,  val_mae:18.7984,  val_mse:404.4669,  \n",
      "404/404 [==============================] - 1s 1ms/sample - loss: 166.7479 - mae: 10.0908 - mse: 166.7478 - val_loss: 404.4669 - val_mae: 18.7984 - val_mse: 404.4669\n",
      "Epoch 2/1000\n",
      "320/404 [======================>.......] - ETA: 0s - loss: 89.1160 - mae: 7.2212 - mse: 89.1160   \n",
      "Epoch 00002: val_loss improved from 404.46692 to 330.06866, saving model to model_checkpoint.h5\n",
      "404/404 [==============================] - 0s 334us/sample - loss: 93.0413 - mae: 7.0776 - mse: 93.0413 - val_loss: 330.0687 - val_mae: 13.6041 - val_mse: 330.0687\n",
      "Epoch 3/1000\n",
      "384/404 [===========================>..] - ETA: 0s - loss: 91.4823 - mae: 7.0811 - mse: 91.4823  \n",
      "Epoch 00003: val_loss improved from 330.06866 to 288.16039, saving model to model_checkpoint.h5\n",
      "404/404 [==============================] - 0s 282us/sample - loss: 89.8047 - mae: 7.0060 - mse: 89.8047 - val_loss: 288.1604 - val_mae: 13.3361 - val_mse: 288.1604\n",
      "Epoch 4/1000\n",
      "288/404 [====================>.........] - ETA: 0s - loss: 76.7531 - mae: 6.5035 - mse: 76.7531\n",
      "Epoch 00004: val_loss improved from 288.16039 to 174.02831, saving model to model_checkpoint.h5\n",
      "404/404 [==============================] - 0s 335us/sample - loss: 73.5140 - mae: 6.2420 - mse: 73.5140 - val_loss: 174.0283 - val_mae: 9.6019 - val_mse: 174.0283\n",
      "Epoch 5/1000\n",
      "352/404 [=========================>....] - ETA: 0s - loss: 71.9916 - mae: 6.0266 - mse: 71.9916\n",
      "Epoch 00005: val_loss did not improve from 174.02831\n",
      "404/404 [==============================] - 0s 257us/sample - loss: 68.8688 - mae: 5.9194 - mse: 68.8688 - val_loss: 261.8338 - val_mae: 12.0931 - val_mse: 261.8338\n",
      "Epoch 6/1000\n",
      "320/404 [======================>.......] - ETA: 0s - loss: 59.4927 - mae: 5.5005 - mse: 59.4927\n",
      "Epoch 00006: val_loss improved from 174.02831 to 98.60263, saving model to model_checkpoint.h5\n",
      "404/404 [==============================] - 0s 325us/sample - loss: 64.6959 - mae: 5.6427 - mse: 64.6959 - val_loss: 98.6026 - val_mae: 7.5802 - val_mse: 98.6026\n",
      "Epoch 7/1000\n",
      "352/404 [=========================>....] - ETA: 0s - loss: 60.4754 - mae: 5.5924 - mse: 60.4754\n",
      "Epoch 00007: val_loss did not improve from 98.60263\n",
      "404/404 [==============================] - 0s 239us/sample - loss: 61.0849 - mae: 5.5653 - mse: 61.0849 - val_loss: 142.6532 - val_mae: 9.3436 - val_mse: 142.6532\n",
      "Epoch 8/1000\n",
      " 32/404 [=>............................] - ETA: 0s - loss: 75.4463 - mae: 6.5480 - mse: 75.4463\n",
      "Epoch 00008: val_loss did not improve from 98.60263\n",
      "404/404 [==============================] - 0s 202us/sample - loss: 62.4077 - mae: 5.7371 - mse: 62.4077 - val_loss: 146.8792 - val_mae: 9.3344 - val_mse: 146.8792\n",
      "Epoch 9/1000\n",
      "384/404 [===========================>..] - ETA: 0s - loss: 53.5781 - mae: 5.0833 - mse: 53.5781\n",
      "Epoch 00009: val_loss did not improve from 98.60263\n",
      "404/404 [==============================] - 0s 225us/sample - loss: 55.1485 - mae: 5.1833 - mse: 55.1485 - val_loss: 286.6682 - val_mae: 13.4571 - val_mse: 286.6682\n",
      "Epoch 10/1000\n",
      "320/404 [======================>.......] - ETA: 0s - loss: 63.2835 - mae: 5.6414 - mse: 63.2835\n",
      "Epoch 00010: val_loss did not improve from 98.60263\n",
      "404/404 [==============================] - 0s 285us/sample - loss: 57.9867 - mae: 5.3255 - mse: 57.9867 - val_loss: 160.5122 - val_mae: 9.7284 - val_mse: 160.5123\n",
      "Epoch 11/1000\n",
      " 32/404 [=>............................] - ETA: 0s - loss: 64.4053 - mae: 6.0298 - mse: 64.4053\n",
      "Epoch 00011: val_loss did not improve from 98.60263\n",
      "404/404 [==============================] - 0s 221us/sample - loss: 56.2334 - mae: 5.4024 - mse: 56.2334 - val_loss: 138.3746 - val_mae: 9.1030 - val_mse: 138.3746\n",
      "Epoch 12/1000\n",
      "384/404 [===========================>..] - ETA: 0s - loss: 61.1165 - mae: 5.3617 - mse: 61.1165\n",
      "Epoch 00012: val_loss did not improve from 98.60263\n",
      "404/404 [==============================] - 0s 224us/sample - loss: 60.5600 - mae: 5.3216 - mse: 60.5600 - val_loss: 220.6279 - val_mae: 12.4718 - val_mse: 220.6279\n",
      "Epoch 13/1000\n",
      "288/404 [====================>.........] - ETA: 0s - loss: 63.1106 - mae: 5.8386 - mse: 63.1106\n",
      "Epoch 00013: val_loss improved from 98.60263 to 60.37705, saving model to model_checkpoint.h5\n",
      "404/404 [==============================] - 0s 332us/sample - loss: 66.3445 - mae: 6.2169 - mse: 66.3445 - val_loss: 60.3771 - val_mae: 6.2190 - val_mse: 60.3771\n",
      "Epoch 14/1000\n",
      "352/404 [=========================>....] - ETA: 0s - loss: 67.6991 - mae: 5.9460 - mse: 67.6991\n",
      "Epoch 00014: val_loss did not improve from 60.37705\n",
      "404/404 [==============================] - 0s 247us/sample - loss: 63.8136 - mae: 5.7218 - mse: 63.8136 - val_loss: 65.4333 - val_mae: 6.8782 - val_mse: 65.4333\n",
      "Epoch 15/1000\n",
      "384/404 [===========================>..] - ETA: 0s - loss: 55.7154 - mae: 5.3834 - mse: 55.7154\n",
      "Epoch 00015: val_loss did not improve from 60.37705\n",
      "404/404 [==============================] - 0s 244us/sample - loss: 55.2173 - mae: 5.3522 - mse: 55.2173 - val_loss: 218.9513 - val_mae: 11.4709 - val_mse: 218.9513\n",
      "Epoch 16/1000\n",
      "320/404 [======================>.......] - ETA: 0s - loss: 53.2286 - mae: 5.0705 - mse: 53.2286\n",
      "Epoch 00016: val_loss did not improve from 60.37705\n",
      "404/404 [==============================] - 0s 248us/sample - loss: 52.4754 - mae: 5.2635 - mse: 52.4754 - val_loss: 172.4421 - val_mae: 10.7290 - val_mse: 172.4421\n",
      "Epoch 17/1000\n",
      "384/404 [===========================>..] - ETA: 0s - loss: 52.0719 - mae: 5.1664 - mse: 52.0719\n",
      "Epoch 00017: val_loss did not improve from 60.37705\n",
      "404/404 [==============================] - 0s 217us/sample - loss: 50.8450 - mae: 5.0762 - mse: 50.8450 - val_loss: 84.3504 - val_mae: 6.9941 - val_mse: 84.3504\n",
      "Epoch 18/1000\n",
      "384/404 [===========================>..] - ETA: 0s - loss: 39.2899 - mae: 4.4250 - mse: 39.2899\n",
      "Epoch 00018: val_loss did not improve from 60.37705\n",
      "404/404 [==============================] - 0s 223us/sample - loss: 41.0167 - mae: 4.5185 - mse: 41.0167 - val_loss: 150.6343 - val_mae: 9.6590 - val_mse: 150.6343\n",
      "Epoch 19/1000\n",
      "288/404 [====================>.........] - ETA: 0s - loss: 44.2569 - mae: 4.8205 - mse: 44.2569\n",
      "Epoch 00019: val_loss did not improve from 60.37705\n",
      "404/404 [==============================] - 0s 288us/sample - loss: 44.0247 - mae: 4.7684 - mse: 44.0247 - val_loss: 65.9193 - val_mae: 6.5098 - val_mse: 65.9193\n",
      "Epoch 20/1000\n",
      "352/404 [=========================>....] - ETA: 0s - loss: 42.6633 - mae: 4.6084 - mse: 42.6633\n",
      "Epoch 00020: val_loss did not improve from 60.37705\n",
      "404/404 [==============================] - 0s 236us/sample - loss: 41.9590 - mae: 4.6116 - mse: 41.9590 - val_loss: 124.0483 - val_mae: 8.9476 - val_mse: 124.0483\n",
      "Epoch 21/1000\n",
      "384/404 [===========================>..] - ETA: 0s - loss: 40.0295 - mae: 4.6521 - mse: 40.0295\n",
      "Epoch 00021: val_loss did not improve from 60.37705\n",
      "404/404 [==============================] - 0s 229us/sample - loss: 42.0335 - mae: 4.7190 - mse: 42.0335 - val_loss: 79.9809 - val_mae: 6.8917 - val_mse: 79.9809\n",
      "Epoch 22/1000\n",
      "320/404 [======================>.......] - ETA: 0s - loss: 46.7636 - mae: 5.1178 - mse: 46.7636\n",
      "Epoch 00022: val_loss did not improve from 60.37705\n",
      "404/404 [==============================] - 0s 266us/sample - loss: 48.8338 - mae: 5.1306 - mse: 48.8337 - val_loss: 90.6745 - val_mae: 7.9713 - val_mse: 90.6745\n",
      "Epoch 23/1000\n",
      "352/404 [=========================>....] - ETA: 0s - loss: 38.9253 - mae: 4.5427 - mse: 38.9253\n",
      "Epoch 00023: val_loss improved from 60.37705 to 54.05709, saving model to model_checkpoint.h5\n",
      "404/404 [==============================] - 0s 292us/sample - loss: 39.7964 - mae: 4.6347 - mse: 39.7964 - val_loss: 54.0571 - val_mae: 5.8323 - val_mse: 54.0571\n",
      "Epoch 24/1000\n",
      "384/404 [===========================>..] - ETA: 0s - loss: 34.4397 - mae: 4.2608 - mse: 34.4398\n",
      "Epoch 00024: val_loss did not improve from 54.05709\n",
      "404/404 [==============================] - 0s 210us/sample - loss: 36.0069 - mae: 4.3048 - mse: 36.0069 - val_loss: 88.1617 - val_mae: 7.5608 - val_mse: 88.1617\n"
     ]
    },
    {
     "name": "stdout",
     "output_type": "stream",
     "text": [
      "Epoch 25/1000\n",
      "352/404 [=========================>....] - ETA: 0s - loss: 40.1230 - mae: 4.6869 - mse: 40.1230\n",
      "Epoch 00025: val_loss improved from 54.05709 to 36.58179, saving model to model_checkpoint.h5\n",
      "404/404 [==============================] - 0s 304us/sample - loss: 36.8902 - mae: 4.4691 - mse: 36.8902 - val_loss: 36.5818 - val_mae: 5.0612 - val_mse: 36.5818\n",
      "Epoch 26/1000\n",
      "320/404 [======================>.......] - ETA: 0s - loss: 35.4977 - mae: 4.2574 - mse: 35.4977\n",
      "Epoch 00026: val_loss did not improve from 36.58179\n",
      "404/404 [==============================] - 0s 247us/sample - loss: 36.6239 - mae: 4.4070 - mse: 36.6239 - val_loss: 56.1256 - val_mae: 6.1122 - val_mse: 56.1256\n",
      "Epoch 27/1000\n",
      " 32/404 [=>............................] - ETA: 0s - loss: 28.9387 - mae: 4.4758 - mse: 28.9387\n",
      "Epoch 00027: val_loss did not improve from 36.58179\n",
      "404/404 [==============================] - 0s 197us/sample - loss: 36.8008 - mae: 4.3566 - mse: 36.8008 - val_loss: 121.7792 - val_mae: 8.6140 - val_mse: 121.7792\n",
      "Epoch 28/1000\n",
      "352/404 [=========================>....] - ETA: 0s - loss: 37.3678 - mae: 4.3010 - mse: 37.3678\n",
      "Epoch 00028: val_loss did not improve from 36.58179\n",
      "404/404 [==============================] - 0s 244us/sample - loss: 37.2938 - mae: 4.3312 - mse: 37.2938 - val_loss: 156.5749 - val_mae: 10.7516 - val_mse: 156.5749\n",
      "Epoch 29/1000\n",
      "320/404 [======================>.......] - ETA: 0s - loss: 29.8139 - mae: 4.0516 - mse: 29.8139\n",
      "Epoch 00029: val_loss did not improve from 36.58179\n",
      "404/404 [==============================] - 0s 262us/sample - loss: 31.8459 - mae: 4.1227 - mse: 31.8459 - val_loss: 50.2885 - val_mae: 5.6348 - val_mse: 50.2885\n",
      "Epoch 30/1000\n",
      "352/404 [=========================>....] - ETA: 0s - loss: 31.8143 - mae: 4.1814 - mse: 31.8143\n",
      "Epoch 00030: val_loss did not improve from 36.58179\n",
      "404/404 [==============================] - 0s 251us/sample - loss: 32.1586 - mae: 4.1623 - mse: 32.1586 - val_loss: 41.8925 - val_mae: 5.3195 - val_mse: 41.8925\n",
      "Epoch 31/1000\n",
      "384/404 [===========================>..] - ETA: 0s - loss: 31.7288 - mae: 4.1354 - mse: 31.7288\n",
      "Epoch 00031: val_loss did not improve from 36.58179\n",
      "404/404 [==============================] - 0s 233us/sample - loss: 30.7230 - mae: 4.0747 - mse: 30.7230 - val_loss: 53.3421 - val_mae: 5.7731 - val_mse: 53.3421\n",
      "Epoch 32/1000\n",
      "320/404 [======================>.......] - ETA: 0s - loss: 32.3468 - mae: 4.0842 - mse: 32.3468\n",
      "Epoch 00032: val_loss did not improve from 36.58179\n",
      "404/404 [==============================] - 0s 278us/sample - loss: 34.1063 - mae: 4.1132 - mse: 34.1063 - val_loss: 126.4998 - val_mae: 9.5815 - val_mse: 126.4998\n",
      "Epoch 33/1000\n",
      "352/404 [=========================>....] - ETA: 0s - loss: 35.5125 - mae: 4.5103 - mse: 35.5125\n",
      "Epoch 00033: val_loss did not improve from 36.58179\n",
      "404/404 [==============================] - 0s 258us/sample - loss: 34.4210 - mae: 4.3951 - mse: 34.4210 - val_loss: 59.6544 - val_mae: 6.6384 - val_mse: 59.6544\n",
      "Epoch 34/1000\n",
      "384/404 [===========================>..] - ETA: 0s - loss: 39.7837 - mae: 4.5854 - mse: 39.7837\n",
      "Epoch 00034: val_loss did not improve from 36.58179\n",
      "404/404 [==============================] - 0s 231us/sample - loss: 40.0007 - mae: 4.6253 - mse: 40.0007 - val_loss: 52.3901 - val_mae: 5.7147 - val_mse: 52.3901\n",
      "Epoch 35/1000\n",
      "352/404 [=========================>....] - ETA: 0s - loss: 34.8465 - mae: 4.2372 - mse: 34.8465\n",
      "Epoch 00035: val_loss did not improve from 36.58179\n",
      "404/404 [==============================] - 0s 264us/sample - loss: 36.3721 - mae: 4.2970 - mse: 36.3721 - val_loss: 95.2031 - val_mae: 7.8624 - val_mse: 95.2031\n",
      "Time elapsed:  4.3157007694244385\n"
     ]
    }
   ],
   "source": [
    "# NN model training\n",
    "start = time.time()\n",
    "\n",
    "EPOCHS = 1000\n",
    "\n",
    "model = build_model()\n",
    "\n",
    "# The patience parameter is the amount of epochs to check for improvement\n",
    "early_stop = keras.callbacks.EarlyStopping(monitor='val_loss', patience=patience)\n",
    "checkpoint_callbacks = keras.callbacks.ModelCheckpoint(filepath='model_checkpoint.h5', monitor='val_loss',\\\n",
    "                                                      verbose=1, save_best_only=True, mode='min')\n",
    "\n",
    "log_dir=\"logs/fit/\" + datetime.datetime.now().strftime(\"%Y%m%d-%H%M%S\")\n",
    "tensorboard_callback = tf.keras.callbacks.TensorBoard(log_dir=log_dir, histogram_freq=1)\n",
    "\n",
    "# early_history = model.fit(train_fp.to_numpy(), train_label.to_numpy(), batch_size=1000,\n",
    "#                     epochs=EPOCHS, validation_split = 0.2, verbose=1,\\\n",
    "#                           callbacks=[early_stop,checkpoint_callbacks,tfdocs.modeling.EpochDots(),tensorboard_callback])\n",
    "\n",
    "#default below\n",
    "\n",
    "early_history = model.fit(data.to_numpy(), target, batch_size=32,\n",
    "                    epochs=EPOCHS, validation_split = 0.2, verbose=1,\\\n",
    "                          callbacks=[early_stop,checkpoint_callbacks,tfdocs.modeling.EpochDots(),tensorboard_callback])\n",
    "##############################################\n",
    "\n",
    "\n",
    "# early_history = model.fit(train_data,\n",
    "#                         epochs=EPOCHS, validation_data = train_data, verbose=1,\\\n",
    "#                               callbacks=[early_stop,checkpoint_callbacks,tfdocs.modeling.EpochDots(),tensorboard_callback])\n",
    "\n",
    "end = time.time()\n",
    "\n",
    "print(\"Time elapsed: \", end-start)"
   ]
  },
  {
   "cell_type": "code",
   "execution_count": 34,
   "metadata": {},
   "outputs": [
    {
     "data": {
      "text/plain": [
       "Text(0, 0.5, 'MAE')"
      ]
     },
     "execution_count": 34,
     "metadata": {},
     "output_type": "execute_result"
    },
    {
     "data": {
      "image/png": "[encoded data removed]",
      "text/plain": [
       "<Figure size 432x288 with 1 Axes>"
      ]
     },
     "metadata": {
      "needs_background": "light"
     },
     "output_type": "display_data"
    }
   ],
   "source": [
    "# Check if run converged\n",
    "plotter = tfdocs.plots.HistoryPlotter(smoothing_std=2)\n",
    "plotter.plot({'Early Stopping': early_history}, metric = \"mae\")\n",
    "#plt.ylim([0, 0.15])\n",
    "plt.ylabel('MAE')"
   ]
  },
  {
   "cell_type": "markdown",
   "metadata": {},
   "source": [
    "# Plot results"
   ]
  },
  {
   "cell_type": "code",
   "execution_count": 35,
   "metadata": {},
   "outputs": [
    {
     "name": "stdout",
     "output_type": "stream",
     "text": [
      "This is Test RMSE:  6.48104844055062\n"
     ]
    },
    {
     "data": {
      "image/png": "[encoded data removed]",
      "text/plain": [
       "<Figure size 576x576 with 1 Axes>"
      ]
     },
     "metadata": {
      "needs_background": "light"
     },
     "output_type": "display_data"
    }
   ],
   "source": [
    "def get_rmse(a, b):\n",
    "    '''\n",
    "    Compute rmse between a and b\n",
    "    '''\n",
    "    return math.sqrt(np.mean(np.square(np.subtract(a, b))))\n",
    "\n",
    "\n",
    "test_predictions = model.predict(data.to_numpy()).flatten()\n",
    "\n",
    "# #normalize test values\n",
    "# mean = float(ml_data['mean_CH4_v/v_1_bar'][0])\n",
    "# std = float(ml_data['std_CH4_v/v_1_bar'][0])\n",
    "# res_test_predictions = (test_predictions * std) + mean\n",
    "# res_test_label = (test_label * std) + mean\n",
    "# res_train_label = (train_label * std) + mean\n",
    "# ################\n",
    "\n",
    "\n",
    "\n",
    "# Evaluation of test error and plotting parity\n",
    "\n",
    "#model = tf.keras.models.load_model('model_checkpoint_bandgap.h5')\n",
    "\n",
    "\n",
    "\n",
    "fig1,ax1 = plt.subplots(figsize = (8,8))\n",
    "\n",
    "\n",
    "#plot un-normed\n",
    "#loss, mae, mse = model.evaluate(test_fp.to_numpy(), res_test_label.to_numpy(), verbose=2)\n",
    "#print(\"Testing set Mean Abs Error: {:5.2f} bg\".format(mae))\n",
    "#tr_loss, tr_mae, tr_mse = model.evaluate(train_fp.to_numpy(), res_train_label.to_numpy(), verbose=2)\n",
    "#tr_rmse = math.sqrt(tr_mse)\n",
    "#rmse = math.sqrt(mse)\n",
    "rmse = get_rmse(target, test_predictions)\n",
    "\n",
    "from sklearn.metrics import r2_score as r2\n",
    "\n",
    "r2_val = r2(y_true=target, y_pred=test_predictions)\n",
    "#r2_tr = r2(y_true=res_train_label, y_pred=res_train_predictions)\n",
    "\n",
    "print(\"This is Test RMSE: \", rmse)\n",
    "#print(\"This is Train RMSE: \", tr_rmse)\n",
    "\n",
    "ax1.scatter(target, test_predictions, c='r',s=10, label='Test')\n",
    "ax1.set_xlabel('True Volumetric Uptake',fontsize=labelfontsize)\n",
    "ax1.set_ylabel('Predicted Volumetric Uptake',fontsize=labelfontsize)\n",
    "#max_val = max([max(res_test_label),max(res_test_predictions)])+1\n",
    "#ax1.set_xlim(0, max_val)\n",
    "#ax1.set_ylim(0, max_val)\n",
    "\n",
    "##############################\n",
    "\n",
    "#default\n",
    "# loss, mae, mse = model.evaluate(test_fp.to_numpy(), test_label.to_numpy(), verbose=2)\n",
    "# print(\"Testing set Mean Abs Error: {:5.2f} bg\".format(mae))\n",
    "\n",
    "# tr_loss, tr_mae, tr_mse = model.evaluate(train_fp.to_numpy(), train_label.to_numpy(), verbose=2)\n",
    "\n",
    "# tr_rmse = math.sqrt(tr_mse)\n",
    "# rmse = math.sqrt(mse)\n",
    "#ax1.scatter(test_label, test_predictions, c='r',s=10) \n",
    "#ax1.scatter(train_label, train_predictions, c='b',s=10)\n",
    "# ax1.set_xlabel('True normalized CH4 Uptake @ 1 bar',fontsize=labelfontsize)\n",
    "# ax1.set_ylabel('Predicted normalized CH4 Uptake @ 1 bar',fontsize=labelfontsize)\n",
    "#ax1.set_xlim(min([min(test_label),min(test_predictions)])-1,max([max(test_label),max(test_predictions)])+1)\n",
    "#ax1.set_ylim(min([min(test_label),min(test_predictions)])-1,max([max(test_label),max(test_predictions)])+1)\n",
    "###############################################\n",
    "ax1.legend()\n",
    "plot_x_min, plot_x_max = plt.xlim()\n",
    "plot_y_min, plot_y_max = plt.ylim()\n",
    "\n",
    "ax1.plot(np.linspace(plot_x_min,plot_x_max,100),np.linspace(plot_y_min,plot_y_max,100),c='k',ls='--')\n",
    "text_position_x = plot_x_min + (plot_x_max - plot_x_min) * 0.05\n",
    "text_position_y = plot_y_max - (plot_y_max - plot_y_min) * 0.25\n",
    "\n",
    "#ax1.text(text_position_x, text_position_y, \"RMSE test=\" + str(\"%.4f\" % rmse), ha='left', fontsize=16)\n",
    "\n",
    "ax1.text(text_position_x, text_position_y, \"RMSE test=\" + str(\"%.4f\" % rmse) + '\\n' + \n",
    "         \"R2 test=\" + str(\"%.4f\" % r2_val), ha='left', fontsize=16)\n",
    "\n",
    "# ax1.text(text_position_x, text_position_y, \"MAE=\" + str(\"%.4f\" % mae) + ' \\n' + \n",
    "#          \"MSE=\" + str(\"%.4f\" % mse), ha='left', fontsize=16)\n",
    "fig1.tight_layout()\n",
    "#plt.savefig('./%s_test_parity_%s.png'%(property_used, total_frac),dpi=200)"
   ]
  },
  {
   "cell_type": "code",
   "execution_count": null,
   "metadata": {},
   "outputs": [],
   "source": []
  },
  {
   "cell_type": "code",
   "execution_count": null,
   "metadata": {},
   "outputs": [],
   "source": []
  }
 ],
 "metadata": {
  "kernelspec": {
   "display_name": "Python 3",
   "language": "python",
   "name": "python3"
  },
  "language_info": {
   "codemirror_mode": {
    "name": "ipython",
    "version": 3
   },
   "file_extension": ".py",
   "mimetype": "text/x-python",
   "name": "python",
   "nbconvert_exporter": "python",
   "pygments_lexer": "ipython3",
   "version": "3.7.3"
  }
 },
 "nbformat": 4,
 "nbformat_minor": 2
}
