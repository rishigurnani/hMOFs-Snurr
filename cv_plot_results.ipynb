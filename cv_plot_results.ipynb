{
 "cells": [
  {
   "cell_type": "code",
   "execution_count": null,
   "metadata": {},
   "outputs": [],
   "source": [
    "import rishi_utils as ru\n",
    "from matplotlib"
   ]
  },
  {
   "cell_type": "code",
   "execution_count": null,
   "metadata": {},
   "outputs": [],
   "source": [
    "PATH_TO_DATA_FILE = '/data/rgur/efrc/paper_data/isotherm_models/geo/results_iso_code_1011_fold_2_10_47AM_on_May_08_2020.csv'"
   ]
  },
  {
   "cell_type": "code",
   "execution_count": null,
   "metadata": {},
   "outputs": [],
   "source": [
    "df = ru.pd_load(PATH_TO_DATA_FILE)\n",
    "\n",
    "test = df[df['Class'] == 'Test']\n",
    "true = test['Truth'].tolist()\n",
    "pred = test['Prediction'].tolist()\n",
    "pred = [max(i, 0) for i in pred]\n",
    "\n",
    "%matplotlib inline\n",
    "plt.scatter(true, pred)"
   ]
  }
 ],
 "metadata": {
  "kernelspec": {
   "display_name": "Python 3",
   "language": "python",
   "name": "python3"
  },
  "language_info": {
   "codemirror_mode": {
    "name": "ipython",
    "version": 3
   },
   "file_extension": ".py",
   "mimetype": "text/x-python",
   "name": "python",
   "nbconvert_exporter": "python",
   "pygments_lexer": "ipython3",
   "version": "3.7.3"
  }
 },
 "nbformat": 4,
 "nbformat_minor": 2
}
