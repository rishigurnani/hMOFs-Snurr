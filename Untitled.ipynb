{
 "cells": [
  {
   "cell_type": "code",
   "execution_count": 4,
   "metadata": {},
   "outputs": [],
   "source": [
    "from pymatgen.core.periodic_table import Element"
   ]
  },
  {
   "cell_type": "code",
   "execution_count": 11,
   "metadata": {},
   "outputs": [],
   "source": [
    "from metal_props import *"
   ]
  },
  {
   "cell_type": "code",
   "execution_count": 19,
   "metadata": {},
   "outputs": [],
   "source": [
    "atom=Element('O')"
   ]
  },
  {
   "cell_type": "code",
   "execution_count": 8,
   "metadata": {},
   "outputs": [
    {
     "data": {
      "text/plain": [
       "0.6"
      ]
     },
     "execution_count": 8,
     "metadata": {},
     "output_type": "execute_result"
    }
   ],
   "source": [
    "atom.atomic_radius"
   ]
  },
  {
   "cell_type": "code",
   "execution_count": 20,
   "metadata": {},
   "outputs": [
    {
     "data": {
      "text/plain": [
       "Element O"
      ]
     },
     "execution_count": 20,
     "metadata": {},
     "output_type": "execute_result"
    }
   ],
   "source": [
    "atom"
   ]
  },
  {
   "cell_type": "code",
   "execution_count": 21,
   "metadata": {},
   "outputs": [
    {
     "data": {
      "text/plain": [
       "3.44"
      ]
     },
     "execution_count": 21,
     "metadata": {},
     "output_type": "execute_result"
    }
   ],
   "source": [
    "atom.X"
   ]
  },
  {
   "cell_type": "code",
   "execution_count": 15,
   "metadata": {},
   "outputs": [],
   "source": [
    "atoms = set([k for v in metal_ions.values() for k in v.keys()])"
   ]
  },
  {
   "cell_type": "code",
   "execution_count": 18,
   "metadata": {},
   "outputs": [
    {
     "data": {
      "text/plain": [
       "{'Ni': 1.35,\n",
       " 'Mg': 1.5,\n",
       " 'Cd': 1.55,\n",
       " 'W': 1.35,\n",
       " 'Os': 1.3,\n",
       " 'Pd': 1.4,\n",
       " 'Re': 1.35,\n",
       " 'O': 0.6,\n",
       " 'Mn': 1.4,\n",
       " 'Bi': 1.6,\n",
       " 'Fe': 1.4,\n",
       " 'Rh': 1.35,\n",
       " 'Zr': 1.55,\n",
       " 'Co': 1.35,\n",
       " 'Ru': 1.3,\n",
       " 'In': 1.55,\n",
       " 'Al': 1.25,\n",
       " 'Cr': 1.4,\n",
       " 'Pt': 1.35,\n",
       " 'Zn': 1.35,\n",
       " 'Tc': 1.35,\n",
       " 'Mo': 1.45,\n",
       " 'V': 1.35,\n",
       " 'Cu': 1.35}"
      ]
     },
     "execution_count": 18,
     "metadata": {},
     "output_type": "execute_result"
    }
   ],
   "source": [
    "atomic_radii = {atom:Element(atom).atomic_radius for atom in atoms}\n",
    "atomic_radii"
   ]
  },
  {
   "cell_type": "code",
   "execution_count": 22,
   "metadata": {},
   "outputs": [
    {
     "data": {
      "text/plain": [
       "{'Ni': 1.91,\n",
       " 'Mg': 1.31,\n",
       " 'Cd': 1.69,\n",
       " 'W': 2.36,\n",
       " 'Os': 2.2,\n",
       " 'Pd': 2.2,\n",
       " 'Re': 1.9,\n",
       " 'O': 3.44,\n",
       " 'Mn': 1.55,\n",
       " 'Bi': 2.02,\n",
       " 'Fe': 1.83,\n",
       " 'Rh': 2.28,\n",
       " 'Zr': 1.33,\n",
       " 'Co': 1.88,\n",
       " 'Ru': 2.2,\n",
       " 'In': 1.78,\n",
       " 'Al': 1.61,\n",
       " 'Cr': 1.66,\n",
       " 'Pt': 2.28,\n",
       " 'Zn': 1.65,\n",
       " 'Tc': 1.9,\n",
       " 'Mo': 2.16,\n",
       " 'V': 1.63,\n",
       " 'Cu': 1.9}"
      ]
     },
     "execution_count": 22,
     "metadata": {},
     "output_type": "execute_result"
    }
   ],
   "source": [
    "en = {atom:Element(atom).X for atom in atoms}\n",
    "en"
   ]
  },
  {
   "cell_type": "code",
   "execution_count": 24,
   "metadata": {},
   "outputs": [
    {
     "data": {
      "text/plain": [
       "['Al',\n",
       " 'Bi',\n",
       " 'Cd',\n",
       " 'Co',\n",
       " 'Cr',\n",
       " 'Cu',\n",
       " 'Fe',\n",
       " 'In',\n",
       " 'Mg',\n",
       " 'Mn',\n",
       " 'Mo',\n",
       " 'Ni',\n",
       " 'O',\n",
       " 'Os',\n",
       " 'Pd',\n",
       " 'Pt',\n",
       " 'Re',\n",
       " 'Rh',\n",
       " 'Ru',\n",
       " 'Tc',\n",
       " 'V',\n",
       " 'W',\n",
       " 'Zn',\n",
       " 'Zr']"
      ]
     },
     "execution_count": 24,
     "metadata": {},
     "output_type": "execute_result"
    }
   ],
   "source": [
    "sorted(en.keys())"
   ]
  },
  {
   "cell_type": "code",
   "execution_count": null,
   "metadata": {},
   "outputs": [],
   "source": [
    "atomic_radii={'Al'=1.18,\n",
    " 'Bi'=1.43,\n",
    " 'Cd'=1.61,\n",
    " 'Co'=1.52,\n",
    " 'Cr'=1.66,\n",
    " 'Cu'=1.45,\n",
    " 'Fe'=1.56,\n",
    " 'In'=1.56,\n",
    " 'Mg'=1.45,\n",
    " 'Mn'=1.61,\n",
    " 'Mo'=1.9,\n",
    " 'Ni'=1.49,\n",
    " 'O'=.48,\n",
    " 'Os'=1.85,\n",
    " 'Pd'=1.69,\n",
    " 'Pt'=1.77,\n",
    " 'Re'=1.88,\n",
    " 'Rh'=1.73,\n",
    " 'Ru'=1.78,\n",
    " 'Tc'=1.83,\n",
    " 'V'=1.71,\n",
    " 'W'=1.93,\n",
    " 'Zn'=1.42,\n",
    " 'Zr'=2.06}"
   ]
  },
  {
   "cell_type": "code",
   "execution_count": null,
   "metadata": {},
   "outputs": [],
   "source": [
    "ion_potential={'Al'=5.99,\n",
    " 'Bi'=7.29,\n",
    " 'Cd'=8.99,\n",
    " 'Co'=7.88,\n",
    " 'Cr'=6.77,\n",
    " 'Cu'=7.73,\n",
    " 'Fe'=7.90,\n",
    " 'In'=5.79,\n",
    " 'Mg'=7.65,\n",
    " 'Mn'=7.43,\n",
    " 'Mo'=7.09,\n",
    " 'Ni'=7.64,\n",
    " 'O'=13.62,\n",
    " 'Os'=8.44,\n",
    " 'Pd'=8.34,\n",
    " 'Pt'=8.96,\n",
    " 'Re'=7.83,\n",
    " 'Rh'=7.46,\n",
    " 'Ru'=7.36,\n",
    " 'Tc'=7.12,\n",
    " 'V'=6.75,\n",
    " 'W'=7.86,\n",
    " 'Zn'=9.39,\n",
    " 'Zr'=6.63}"
   ]
  }
 ],
 "metadata": {
  "kernelspec": {
   "display_name": "Python (efrc)",
   "language": "python",
   "name": "efrc"
  },
  "language_info": {
   "codemirror_mode": {
    "name": "ipython",
    "version": 3
   },
   "file_extension": ".py",
   "mimetype": "text/x-python",
   "name": "python",
   "nbconvert_exporter": "python",
   "pygments_lexer": "ipython3",
   "version": "3.7.7"
  }
 },
 "nbformat": 4,
 "nbformat_minor": 2
}
