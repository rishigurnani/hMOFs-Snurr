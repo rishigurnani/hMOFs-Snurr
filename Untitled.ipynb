{
 "cells": [
  {
   "cell_type": "code",
   "execution_count": 1,
   "metadata": {},
   "outputs": [],
   "source": [
    "import rishi_utils as ru"
   ]
  },
  {
   "cell_type": "code",
   "execution_count": 2,
   "metadata": {},
   "outputs": [],
   "source": [
    "import numpy as np"
   ]
  },
  {
   "cell_type": "code",
   "execution_count": 3,
   "metadata": {},
   "outputs": [],
   "source": [
    "import time"
   ]
  },
  {
   "cell_type": "code",
   "execution_count": 4,
   "metadata": {},
   "outputs": [],
   "source": [
    "from joblib import Parallel, delayed"
   ]
  },
  {
   "cell_type": "code",
   "execution_count": 5,
   "metadata": {},
   "outputs": [
    {
     "data": {
      "text/html": [
       "<div>\n",
       "<style scoped>\n",
       "    .dataframe tbody tr th:only-of-type {\n",
       "        vertical-align: middle;\n",
       "    }\n",
       "\n",
       "    .dataframe tbody tr th {\n",
       "        vertical-align: top;\n",
       "    }\n",
       "\n",
       "    .dataframe thead th {\n",
       "        text-align: right;\n",
       "    }\n",
       "</style>\n",
       "<table border=\"1\" class=\"dataframe\">\n",
       "  <thead>\n",
       "    <tr style=\"text-align: right;\">\n",
       "      <th></th>\n",
       "      <th>Unnamed: 0</th>\n",
       "      <th>smiles</th>\n",
       "      <th>Tg</th>\n",
       "      <th>Bandgap</th>\n",
       "    </tr>\n",
       "  </thead>\n",
       "  <tbody>\n",
       "    <tr>\n",
       "      <th>0</th>\n",
       "      <td>0</td>\n",
       "      <td>[*]C[*]</td>\n",
       "      <td>239.302690</td>\n",
       "      <td>6.946105</td>\n",
       "    </tr>\n",
       "    <tr>\n",
       "      <th>1</th>\n",
       "      <td>1</td>\n",
       "      <td>[*]CC([*])C</td>\n",
       "      <td>269.047999</td>\n",
       "      <td>7.681726</td>\n",
       "    </tr>\n",
       "    <tr>\n",
       "      <th>2</th>\n",
       "      <td>2</td>\n",
       "      <td>[*]CC([*])CC</td>\n",
       "      <td>255.176840</td>\n",
       "      <td>7.638155</td>\n",
       "    </tr>\n",
       "    <tr>\n",
       "      <th>3</th>\n",
       "      <td>3</td>\n",
       "      <td>[*]CC([*])CCC</td>\n",
       "      <td>245.806539</td>\n",
       "      <td>7.583267</td>\n",
       "    </tr>\n",
       "    <tr>\n",
       "      <th>4</th>\n",
       "      <td>4</td>\n",
       "      <td>[*]CC([*])C(C)C</td>\n",
       "      <td>301.401642</td>\n",
       "      <td>7.590294</td>\n",
       "    </tr>\n",
       "  </tbody>\n",
       "</table>\n",
       "</div>"
      ],
      "text/plain": [
       "   Unnamed: 0           smiles          Tg   Bandgap\n",
       "0           0          [*]C[*]  239.302690  6.946105\n",
       "1           1      [*]CC([*])C  269.047999  7.681726\n",
       "2           2     [*]CC([*])CC  255.176840  7.638155\n",
       "3           3    [*]CC([*])CCC  245.806539  7.583267\n",
       "4           4  [*]CC([*])C(C)C  301.401642  7.590294"
      ]
     },
     "execution_count": 5,
     "metadata": {},
     "output_type": "execute_result"
    }
   ],
   "source": [
    "df = ru.pd_load('/data/rgur/g2g/eg_and_tg/raw_data/property_data.csv')\n",
    "df.head()"
   ]
  },
  {
   "cell_type": "code",
   "execution_count": 6,
   "metadata": {},
   "outputs": [],
   "source": [
    "l=df['smiles'].tolist()[:200]"
   ]
  },
  {
   "cell_type": "code",
   "execution_count": 7,
   "metadata": {},
   "outputs": [
    {
     "data": {
      "text/plain": [
       "200"
      ]
     },
     "execution_count": 7,
     "metadata": {},
     "output_type": "execute_result"
    }
   ],
   "source": [
    "len(l)"
   ]
  },
  {
   "cell_type": "code",
   "execution_count": 11,
   "metadata": {},
   "outputs": [
    {
     "name": "stdout",
     "output_type": "stream",
     "text": [
      "8.65619707108\n"
     ]
    }
   ],
   "source": [
    "start=time.time()\n",
    "a=ru.struct_uniqueness(l)\n",
    "end=time.time()\n",
    "print(end-start)"
   ]
  },
  {
   "cell_type": "code",
   "execution_count": 8,
   "metadata": {},
   "outputs": [],
   "source": [
    "def struct_uniqueness(l,n_core=1):\n",
    "    '''\n",
    "    Find the structural uniqueness of each polymer in a list of polymers\n",
    "    '''\n",
    "    mat = np.zeros((len(l), len(l)))\n",
    "    data=[(ind1,ind2,i,j) for ind1,i in enumerate(l) for ind2,j in enumerate(l) if i<j]\n",
    "    def helper(x):\n",
    "        ind1=x[0]\n",
    "        ind2=x[1]\n",
    "        i=x[2]\n",
    "        j=x[3]\n",
    "        return (ind1,ind2,similarity(i,j))\n",
    "    vals=Parallel(n_jobs=n_core)(delayed(helper)(x) for x in data)\n",
    "    for ind1,ind2,sim in vals:\n",
    "        mat[ind1][ind2] = sim\n",
    "    mat = symmetrize(mat)\n",
    "    return np.subtract(np.ones(len(l)), np.max(mat, axis=0))"
   ]
  },
  {
   "cell_type": "code",
   "execution_count": 12,
   "metadata": {},
   "outputs": [
    {
     "name": "stdout",
     "output_type": "stream",
     "text": [
      "4.16460204124\n"
     ]
    }
   ],
   "source": [
    "start=time.time()\n",
    "b=struct_uniqueness(l)\n",
    "end=time.time()\n",
    "print(end-start)"
   ]
  },
  {
   "cell_type": "code",
   "execution_count": 13,
   "metadata": {},
   "outputs": [
    {
     "data": {
      "text/plain": [
       "array([ True,  True,  True,  True,  True,  True,  True,  True,  True,\n",
       "        True,  True,  True,  True,  True,  True,  True,  True,  True,\n",
       "        True,  True,  True,  True,  True,  True,  True,  True,  True,\n",
       "        True,  True,  True,  True,  True,  True,  True,  True,  True,\n",
       "        True,  True,  True,  True,  True,  True,  True,  True,  True,\n",
       "        True,  True,  True,  True,  True,  True,  True,  True,  True,\n",
       "        True,  True,  True,  True,  True,  True,  True,  True,  True,\n",
       "        True,  True,  True,  True,  True,  True,  True,  True,  True,\n",
       "        True,  True,  True,  True,  True,  True,  True,  True,  True,\n",
       "        True,  True,  True,  True,  True,  True,  True,  True,  True,\n",
       "        True,  True,  True,  True,  True,  True,  True,  True,  True,\n",
       "        True,  True,  True,  True,  True,  True,  True,  True,  True,\n",
       "        True,  True,  True,  True,  True,  True,  True,  True,  True,\n",
       "        True,  True,  True,  True,  True,  True,  True,  True,  True,\n",
       "        True,  True,  True,  True,  True,  True,  True,  True,  True,\n",
       "        True,  True,  True,  True,  True,  True,  True,  True,  True,\n",
       "        True,  True,  True,  True,  True,  True,  True,  True,  True,\n",
       "        True,  True,  True,  True,  True,  True,  True,  True,  True,\n",
       "        True,  True,  True,  True,  True,  True,  True,  True,  True,\n",
       "        True,  True,  True,  True,  True,  True,  True,  True,  True,\n",
       "        True,  True,  True,  True,  True,  True,  True,  True,  True,\n",
       "        True,  True,  True,  True,  True,  True,  True,  True,  True,\n",
       "        True,  True])"
      ]
     },
     "execution_count": 13,
     "metadata": {},
     "output_type": "execute_result"
    }
   ],
   "source": [
    "a==b"
   ]
  },
  {
   "cell_type": "code",
   "execution_count": 9,
   "metadata": {},
   "outputs": [],
   "source": [
    "import rdkit\n",
    "from rdkit import Chem, DataStructs\n",
    "from rdkit.Chem import AllChem\n",
    "def similarity(a, b):\n",
    "    if a is None or b is None:\n",
    "        return 0.0\n",
    "    amol = Chem.MolFromSmiles(a)\n",
    "    bmol = Chem.MolFromSmiles(b)\n",
    "    if amol is None or bmol is None:\n",
    "        return 0.0\n",
    "    fp1 = AllChem.GetMorganFingerprintAsBitVect(amol, 2, nBits=1024, useChirality=False)\n",
    "    fp2 = AllChem.GetMorganFingerprintAsBitVect(bmol, 2, nBits=1024, useChirality=False)\n",
    "    return DataStructs.TanimotoSimilarity(fp1, fp2)"
   ]
  },
  {
   "cell_type": "code",
   "execution_count": 10,
   "metadata": {},
   "outputs": [],
   "source": [
    "def symmetrize(a):\n",
    "    \"\"\"\n",
    "    Return a symmetrized version of NumPy array a.\n",
    "\n",
    "    Values 0 are replaced by the array value at the symmetric\n",
    "    position (with respect to the diagonal), i.e. if a_ij = 0,\n",
    "    then the returned array a' is such that a'_ij = a_ji.\n",
    "\n",
    "    Diagonal values are left untouched.\n",
    "\n",
    "    a -- square NumPy array, such that a_ij = 0 or a_ji = 0, \n",
    "    for i != j.\n",
    "    \"\"\"\n",
    "    return a + a.T - np.diag(a.diagonal())"
   ]
  },
  {
   "cell_type": "code",
   "execution_count": 4,
   "metadata": {},
   "outputs": [
    {
     "data": {
      "image/png": "[encoded data removed]",
      "text/plain": [
       "<PIL.Image.Image image mode=RGB size=300x300 at 0x7F379EC622D0>"
      ]
     },
     "execution_count": 4,
     "metadata": {},
     "output_type": "execute_result"
    }
   ],
   "source": [
    "ru.drawFromSmiles('[H]C([H])([H])C1(C([H])([H])C2([H])C([H])([H])OC([H])(C3(C4(C([H])([H])[H])C([*])([*])OC(=O)C4([H])[H])C(=O)OC(=O)C3([H])[H])C2([H])[H])C(=O)OC(=O)C1([H])[H]')"
   ]
  },
  {
   "cell_type": "code",
   "execution_count": null,
   "metadata": {},
   "outputs": [],
   "source": []
  }
 ],
 "metadata": {
  "kernelspec": {
   "display_name": "Python(cse6250)",
   "language": "python",
   "name": "cse6250"
  },
  "language_info": {
   "codemirror_mode": {
    "name": "ipython",
    "version": 2
   },
   "file_extension": ".py",
   "mimetype": "text/x-python",
   "name": "python",
   "nbconvert_exporter": "python",
   "pygments_lexer": "ipython2",
   "version": "2.7.17"
  }
 },
 "nbformat": 4,
 "nbformat_minor": 2
}
