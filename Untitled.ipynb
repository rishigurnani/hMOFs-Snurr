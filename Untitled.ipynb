{
 "cells": [
  {
   "cell_type": "code",
   "execution_count": 3,
   "metadata": {},
   "outputs": [],
   "source": [
    "import pandas as pd"
   ]
  },
  {
   "cell_type": "code",
   "execution_count": 99,
   "metadata": {},
   "outputs": [],
   "source": [
    "import numpy as np"
   ]
  },
  {
   "cell_type": "code",
   "execution_count": 103,
   "metadata": {},
   "outputs": [],
   "source": [
    "from matplotlib import pyplot as plt"
   ]
  },
  {
   "cell_type": "markdown",
   "metadata": {},
   "source": [
    "# Load data"
   ]
  },
  {
   "cell_type": "code",
   "execution_count": 4,
   "metadata": {},
   "outputs": [
    {
     "name": "stderr",
     "output_type": "stream",
     "text": [
      "/home/modules/anaconda3/lib/python3.7/site-packages/IPython/core/interactiveshell.py:3049: DtypeWarning: Columns (4,5,6,7,8,9,10,11,12) have mixed types. Specify dtype option on import or set low_memory=False.\n",
      "  interactivity=interactivity, compiler=compiler, result=result)\n"
     ]
    }
   ],
   "source": [
    "ml_data_sd = pd.read_csv('/data/rgur/efrc/prep_data/all_no_norm/ml_data.csv') #size dependent"
   ]
  },
  {
   "cell_type": "code",
   "execution_count": 5,
   "metadata": {},
   "outputs": [],
   "source": [
    "ml_data_si = pd.read_csv('/data/rgur/efrc/prep_data/all_v1/ml_data.csv') #size independent"
   ]
  },
  {
   "cell_type": "code",
   "execution_count": 85,
   "metadata": {},
   "outputs": [],
   "source": [
    "fp_by_smiles_sd = pd.read_csv('/data/rgur/efrc/prep_data/all_no_norm/fingerprint_all.csv')"
   ]
  },
  {
   "cell_type": "code",
   "execution_count": 86,
   "metadata": {},
   "outputs": [],
   "source": [
    "fp_by_smiles_si = pd.read_csv('/data/rgur/efrc/prep_data/all_v1/data_DONOTTOUCH/fingerprint_all.csv')"
   ]
  },
  {
   "cell_type": "markdown",
   "metadata": {},
   "source": [
    "# Write functions"
   ]
  },
  {
   "cell_type": "code",
   "execution_count": 37,
   "metadata": {},
   "outputs": [],
   "source": [
    "from rdkit import Chem"
   ]
  },
  {
   "cell_type": "code",
   "execution_count": 38,
   "metadata": {},
   "outputs": [],
   "source": [
    "def getNAtoms(smiles):\n",
    "    m = Chem.MolFromSmiles(smiles)\n",
    "    m2 = Chem.AddHs(m)\n",
    "    return len(m2.GetAtoms())"
   ]
  },
  {
   "cell_type": "code",
   "execution_count": 39,
   "metadata": {},
   "outputs": [],
   "source": [
    "def CompareValues(ind):\n",
    "    row = size_invariant_smiles_fp.iloc[ind, :]\n",
    "    row2 = size_dependent_smiles_fp.iloc[ind, :]\n",
    "    smiles = str(row['SMILES'])\n",
    "    chiho_val = row['Mmfp_tpsa']\n",
    "    my_val = row2['Mmfp_tpsa'] / getNAtoms(smiles)\n",
    "    return my_val, chiho_val "
   ]
  },
  {
   "cell_type": "code",
   "execution_count": 40,
   "metadata": {},
   "outputs": [],
   "source": [
    "def getNullCols(df):\n",
    "    return [col for col in df.keys() if df[col].isnull().all()]"
   ]
  },
  {
   "cell_type": "code",
   "execution_count": 43,
   "metadata": {},
   "outputs": [],
   "source": [
    "def geoProps():\n",
    "    '''\n",
    "    Return list of geometric properties\n",
    "    '''\n",
    "    return ['Dom._Pore_(ang.)',                                                             \n",
    "'Max._Pore_(ang.)'            ,                                              \n",
    "'Void_Fraction'                 ,                                      \n",
    "'Surf._Area_(m2/g)'              ,                                           \n",
    "'Vol._Surf._Area'             ,                                            \n",
    "'Density'  ]"
   ]
  },
  {
   "cell_type": "code",
   "execution_count": 60,
   "metadata": {},
   "outputs": [],
   "source": [
    "def DeficientMOFs(df):\n",
    "    '''\n",
    "    Return MOFs with missing geometric properties\n",
    "    '''\n",
    "\n",
    "\n",
    "    deficient = df[(df[geoProps()] == 0).any(1)]\n",
    "\n",
    "    return deficient"
   ]
  },
  {
   "cell_type": "markdown",
   "metadata": {},
   "source": [
    "# Use functions"
   ]
  },
  {
   "cell_type": "code",
   "execution_count": 130,
   "metadata": {},
   "outputs": [
    {
     "data": {
      "text/plain": [
       "['norm_Mafp_C1_N2_N3',\n",
       " 'norm_Mafp_N2_O2_N3',\n",
       " 'norm_Mmfp_MQNs22',\n",
       " 'norm_Mmfp_MQNs23',\n",
       " 'norm_Mmfp_MQNs24',\n",
       " 'norm_Mmfp_MQNs25']"
      ]
     },
     "execution_count": 130,
     "metadata": {},
     "output_type": "execute_result"
    }
   ],
   "source": [
    "nullColsSD = getNullCols(ml_data_sd)\n",
    "nullColsSD"
   ]
  },
  {
   "cell_type": "code",
   "execution_count": 131,
   "metadata": {},
   "outputs": [
    {
     "data": {
      "text/plain": [
       "[]"
      ]
     },
     "execution_count": 131,
     "metadata": {},
     "output_type": "execute_result"
    }
   ],
   "source": [
    "nullColsSI = getNullCols(ml_data_si)\n",
    "nullColsSI"
   ]
  },
  {
   "cell_type": "code",
   "execution_count": null,
   "metadata": {},
   "outputs": [],
   "source": [
    "len(ml_data_sd) == len(ml_data_si)"
   ]
  },
  {
   "cell_type": "code",
   "execution_count": null,
   "metadata": {},
   "outputs": [],
   "source": [
    "len(ml_data_sd.keys()) == len(ml_data_si.keys())"
   ]
  },
  {
   "cell_type": "code",
   "execution_count": 9,
   "metadata": {},
   "outputs": [],
   "source": [
    "row1SD = ml_data_sd.iloc[0, :]"
   ]
  },
  {
   "cell_type": "code",
   "execution_count": 10,
   "metadata": {},
   "outputs": [],
   "source": [
    "row1SI = ml_data_si.iloc[0, :]"
   ]
  },
  {
   "cell_type": "code",
   "execution_count": 179,
   "metadata": {},
   "outputs": [],
   "source": [
    "start = 440\n",
    "end = start + 10"
   ]
  },
  {
   "cell_type": "code",
   "execution_count": 180,
   "metadata": {
    "scrolled": true
   },
   "outputs": [
    {
     "data": {
      "text/plain": [
       "norm_Mmfp_MQNs39              -0.0113658\n",
       "norm_Mmfp_MQNs40              -0.0235665\n",
       "norm_Mmfp_MQNs41               -0.704045\n",
       "norm_Mmfp_MQNs42               -0.660405\n",
       "norm_Mmfp_NumAliphaticRings    -0.522998\n",
       "norm_Mmfp_NumAromaticRings     -0.937497\n",
       "norm_Mmfp_tpsa                 -0.508881\n",
       "norm_Dom._Pore_(ang.)           -1.39278\n",
       "mean_Dom._Pore_(ang.)            7.47706\n",
       "std_Dom._Pore_(ang.)             4.47097\n",
       "Name: 0, dtype: object"
      ]
     },
     "execution_count": 180,
     "metadata": {},
     "output_type": "execute_result"
    }
   ],
   "source": [
    "row1SD[start:end]"
   ]
  },
  {
   "cell_type": "code",
   "execution_count": 181,
   "metadata": {},
   "outputs": [
    {
     "data": {
      "text/plain": [
       "Mmfp_MQNs39                       0\n",
       "Mmfp_MQNs40                       0\n",
       "Mmfp_MQNs41                       0\n",
       "Mmfp_MQNs42                       0\n",
       "Mmfp_NumAliphaticRings            0\n",
       "Mmfp_NumAromaticRings             0\n",
       "Mmfp_tpsa                    1.8485\n",
       "valence_pa                        1\n",
       "atomic_rad_pa_(angstroms)     1.095\n",
       "affinity_pa_(eV)             0.9945\n",
       "Name: 0, dtype: object"
      ]
     },
     "execution_count": 181,
     "metadata": {},
     "output_type": "execute_result"
    }
   ],
   "source": [
    "diff = 19\n",
    "row1SI[start - diff:end - diff]"
   ]
  },
  {
   "cell_type": "code",
   "execution_count": null,
   "metadata": {},
   "outputs": [],
   "source": []
  },
  {
   "cell_type": "code",
   "execution_count": 113,
   "metadata": {},
   "outputs": [
    {
     "name": "stdout",
     "output_type": "stream",
     "text": [
      "126384\n"
     ]
    },
    {
     "data": {
      "text/plain": [
       "True"
      ]
     },
     "execution_count": 113,
     "metadata": {},
     "output_type": "execute_result"
    }
   ],
   "source": [
    "print(len(ml_data_sd['norm_Mafp_Br1_C4_C4']))\n",
    "len(ml_data_sd['norm_Mafp_Br1_C4_C4']) == len(ml_data_si['Mafp_Br1_C4_C4'])"
   ]
  },
  {
   "cell_type": "code",
   "execution_count": 115,
   "metadata": {},
   "outputs": [
    {
     "data": {
      "text/plain": [
       "0.9"
      ]
     },
     "execution_count": 115,
     "metadata": {},
     "output_type": "execute_result"
    }
   ],
   "source": [
    "max(ml_data_si['Mafp_Br1_C4_C4'])"
   ]
  },
  {
   "cell_type": "code",
   "execution_count": 119,
   "metadata": {},
   "outputs": [
    {
     "data": {
      "text/plain": [
       "40.0"
      ]
     },
     "execution_count": 119,
     "metadata": {},
     "output_type": "execute_result"
    }
   ],
   "source": [
    "max(fp_by_smiles_sd['Mafp_Br1_C4_C4'].dropna())"
   ]
  },
  {
   "cell_type": "code",
   "execution_count": 121,
   "metadata": {},
   "outputs": [
    {
     "data": {
      "text/plain": [
       "<matplotlib.collections.PathCollection at 0x7fa7243cb5f8>"
      ]
     },
     "execution_count": 121,
     "metadata": {},
     "output_type": "execute_result"
    },
    {
     "data": {
      "image/png": "[encoded data removed]",
      "text/plain": [
       "<Figure size 432x288 with 1 Axes>"
      ]
     },
     "metadata": {
      "needs_background": "light"
     },
     "output_type": "display_data"
    }
   ],
   "source": [
    "plt.scatter(fp_by_smiles_sd['Mafp_Br1_C4_C4'].dropna().to_numpy(), fp_by_smiles_si['Mafp_Br1_C4_C4'].dropna().to_numpy())"
   ]
  },
  {
   "cell_type": "code",
   "execution_count": null,
   "metadata": {},
   "outputs": [],
   "source": []
  },
  {
   "cell_type": "code",
   "execution_count": 120,
   "metadata": {},
   "outputs": [
    {
     "data": {
      "text/plain": [
       "37.62996204343745"
      ]
     },
     "execution_count": 120,
     "metadata": {},
     "output_type": "execute_result"
    }
   ],
   "source": [
    "max(ml_data_sd['norm_Mafp_Br1_C4_C4'])"
   ]
  },
  {
   "cell_type": "code",
   "execution_count": 143,
   "metadata": {},
   "outputs": [
    {
     "data": {
      "text/plain": [
       "Text(0.5, 1.0, 'Mafp_F1_C4_O2')"
      ]
     },
     "execution_count": 143,
     "metadata": {},
     "output_type": "execute_result"
    },
    {
     "data": {
      "image/png": "[encoded data removed]",
      "text/plain": [
       "<Figure size 432x288 with 1 Axes>"
      ]
     },
     "metadata": {
      "needs_background": "light"
     },
     "output_type": "display_data"
    }
   ],
   "source": [
    "prop = 'Mafp_F1_C4_O2'\n",
    "plt.scatter(ml_data_sd['norm_'+ prop].to_numpy(), ml_data_si[prop].to_numpy())\n",
    "plt.xlabel('Size Dependent')\n",
    "plt.ylabel('Size Independent')\n",
    "plt.title(prop)"
   ]
  },
  {
   "cell_type": "code",
   "execution_count": null,
   "metadata": {},
   "outputs": [],
   "source": []
  },
  {
   "cell_type": "code",
   "execution_count": 88,
   "metadata": {},
   "outputs": [],
   "source": [
    "fp_si = fp_by_smiles_si[fp_by_smiles_si['SMILES'] == '[O]C(=O)C#CC#CC(=O)[O]']"
   ]
  },
  {
   "cell_type": "code",
   "execution_count": 90,
   "metadata": {},
   "outputs": [
    {
     "data": {
      "text/html": [
       "<div>\n",
       "<style scoped>\n",
       "    .dataframe tbody tr th:only-of-type {\n",
       "        vertical-align: middle;\n",
       "    }\n",
       "\n",
       "    .dataframe tbody tr th {\n",
       "        vertical-align: top;\n",
       "    }\n",
       "\n",
       "    .dataframe thead th {\n",
       "        text-align: right;\n",
       "    }\n",
       "</style>\n",
       "<table border=\"1\" class=\"dataframe\">\n",
       "  <thead>\n",
       "    <tr style=\"text-align: right;\">\n",
       "      <th></th>\n",
       "      <th>ID</th>\n",
       "      <th>SMILES</th>\n",
       "      <th>Mafp_Br1_C2_C1</th>\n",
       "      <th>Mafp_Br1_C2_C2</th>\n",
       "      <th>Mafp_Br1_C2_C3</th>\n",
       "      <th>Mafp_Br1_C3_Br1</th>\n",
       "      <th>Mafp_Br1_C3_C1</th>\n",
       "      <th>Mafp_Br1_C3_C2</th>\n",
       "      <th>Mafp_Br1_C3_C3</th>\n",
       "      <th>Mafp_Br1_C3_C4</th>\n",
       "    </tr>\n",
       "  </thead>\n",
       "  <tbody>\n",
       "    <tr>\n",
       "      <th>80783</th>\n",
       "      <td>80783</td>\n",
       "      <td>[O]C(=O)C#CC#CC(=O)[O]</td>\n",
       "      <td>0.0</td>\n",
       "      <td>0.0</td>\n",
       "      <td>0.0</td>\n",
       "      <td>0.0</td>\n",
       "      <td>0.0</td>\n",
       "      <td>0.0</td>\n",
       "      <td>0.0</td>\n",
       "      <td>0.0</td>\n",
       "    </tr>\n",
       "  </tbody>\n",
       "</table>\n",
       "</div>"
      ],
      "text/plain": [
       "          ID                  SMILES  Mafp_Br1_C2_C1  Mafp_Br1_C2_C2  \\\n",
       "80783  80783  [O]C(=O)C#CC#CC(=O)[O]             0.0             0.0   \n",
       "\n",
       "       Mafp_Br1_C2_C3  Mafp_Br1_C3_Br1  Mafp_Br1_C3_C1  Mafp_Br1_C3_C2  \\\n",
       "80783             0.0              0.0             0.0             0.0   \n",
       "\n",
       "       Mafp_Br1_C3_C3  Mafp_Br1_C3_C4  \n",
       "80783             0.0             0.0  "
      ]
     },
     "execution_count": 90,
     "metadata": {},
     "output_type": "execute_result"
    }
   ],
   "source": [
    "fp_si.iloc[:,0:10]"
   ]
  },
  {
   "cell_type": "code",
   "execution_count": 91,
   "metadata": {},
   "outputs": [],
   "source": [
    "fp_sd = fp_by_smiles_sd[fp_by_smiles_sd['SMILES'] == '[O]C(=O)C#CC#CC(=O)[O]']"
   ]
  },
  {
   "cell_type": "code",
   "execution_count": 93,
   "metadata": {},
   "outputs": [
    {
     "data": {
      "text/html": [
       "<div>\n",
       "<style scoped>\n",
       "    .dataframe tbody tr th:only-of-type {\n",
       "        vertical-align: middle;\n",
       "    }\n",
       "\n",
       "    .dataframe tbody tr th {\n",
       "        vertical-align: top;\n",
       "    }\n",
       "\n",
       "    .dataframe thead th {\n",
       "        text-align: right;\n",
       "    }\n",
       "</style>\n",
       "<table border=\"1\" class=\"dataframe\">\n",
       "  <thead>\n",
       "    <tr style=\"text-align: right;\">\n",
       "      <th></th>\n",
       "      <th>ID</th>\n",
       "      <th>SMILES</th>\n",
       "      <th>Mafp_Br1_C2_C1</th>\n",
       "      <th>Mafp_Br1_C2_C2</th>\n",
       "      <th>Mafp_Br1_C2_C3</th>\n",
       "      <th>Mafp_Br1_C3_Br1</th>\n",
       "      <th>Mafp_Br1_C3_C1</th>\n",
       "      <th>Mafp_Br1_C3_C2</th>\n",
       "      <th>Mafp_Br1_C3_C3</th>\n",
       "      <th>Mafp_Br1_C3_C4</th>\n",
       "    </tr>\n",
       "  </thead>\n",
       "  <tbody>\n",
       "    <tr>\n",
       "      <th>80783</th>\n",
       "      <td>80783</td>\n",
       "      <td>[O]C(=O)C#CC#CC(=O)[O]</td>\n",
       "      <td>0.0</td>\n",
       "      <td>0.0</td>\n",
       "      <td>0.0</td>\n",
       "      <td>0.0</td>\n",
       "      <td>0.0</td>\n",
       "      <td>0.0</td>\n",
       "      <td>0.0</td>\n",
       "      <td>0.0</td>\n",
       "    </tr>\n",
       "  </tbody>\n",
       "</table>\n",
       "</div>"
      ],
      "text/plain": [
       "          ID                  SMILES  Mafp_Br1_C2_C1  Mafp_Br1_C2_C2  \\\n",
       "80783  80783  [O]C(=O)C#CC#CC(=O)[O]             0.0             0.0   \n",
       "\n",
       "       Mafp_Br1_C2_C3  Mafp_Br1_C3_Br1  Mafp_Br1_C3_C1  Mafp_Br1_C3_C2  \\\n",
       "80783             0.0              0.0             0.0             0.0   \n",
       "\n",
       "       Mafp_Br1_C3_C3  Mafp_Br1_C3_C4  \n",
       "80783             0.0             0.0  "
      ]
     },
     "execution_count": 93,
     "metadata": {},
     "output_type": "execute_result"
    }
   ],
   "source": [
    "fp_sd.iloc[:,0:10]"
   ]
  },
  {
   "cell_type": "code",
   "execution_count": 61,
   "metadata": {},
   "outputs": [],
   "source": [
    "defMOFsSI = DeficientMOFs(ml_data_si)"
   ]
  },
  {
   "cell_type": "code",
   "execution_count": 62,
   "metadata": {},
   "outputs": [],
   "source": [
    "defMOFsSD = DeficientMOFs(ml_data_sd)"
   ]
  },
  {
   "cell_type": "code",
   "execution_count": 68,
   "metadata": {},
   "outputs": [
    {
     "data": {
      "text/html": [
       "<div>\n",
       "<style scoped>\n",
       "    .dataframe tbody tr th:only-of-type {\n",
       "        vertical-align: middle;\n",
       "    }\n",
       "\n",
       "    .dataframe tbody tr th {\n",
       "        vertical-align: top;\n",
       "    }\n",
       "\n",
       "    .dataframe thead th {\n",
       "        text-align: right;\n",
       "    }\n",
       "</style>\n",
       "<table border=\"1\" class=\"dataframe\">\n",
       "  <thead>\n",
       "    <tr style=\"text-align: right;\">\n",
       "      <th></th>\n",
       "      <th>Crystal_ID#</th>\n",
       "      <th>Dom._Pore_(ang.)</th>\n",
       "      <th>Max._Pore_(ang.)</th>\n",
       "      <th>Void_Fraction</th>\n",
       "      <th>Surf._Area_(m2/g)</th>\n",
       "      <th>Vol._Surf._Area</th>\n",
       "      <th>Density</th>\n",
       "      <th>CH4_v/v_1_bar</th>\n",
       "      <th>CH4_v/v_5.8_bar</th>\n",
       "      <th>CH4_v/v_35_bar</th>\n",
       "    </tr>\n",
       "  </thead>\n",
       "  <tbody>\n",
       "    <tr>\n",
       "      <th>0</th>\n",
       "      <td>6000523</td>\n",
       "      <td>1.25</td>\n",
       "      <td>1.25</td>\n",
       "      <td>1.386220e-09</td>\n",
       "      <td>0.0</td>\n",
       "      <td>0.0</td>\n",
       "      <td>2.208307</td>\n",
       "      <td>0.000000</td>\n",
       "      <td>NaN</td>\n",
       "      <td>4.495788e-11</td>\n",
       "    </tr>\n",
       "    <tr>\n",
       "      <th>38</th>\n",
       "      <td>5009699</td>\n",
       "      <td>1.75</td>\n",
       "      <td>2.25</td>\n",
       "      <td>3.986120e-02</td>\n",
       "      <td>0.0</td>\n",
       "      <td>0.0</td>\n",
       "      <td>1.864341</td>\n",
       "      <td>0.000000</td>\n",
       "      <td>0.0</td>\n",
       "      <td>-2.562780e-05</td>\n",
       "    </tr>\n",
       "    <tr>\n",
       "      <th>46</th>\n",
       "      <td>5039630</td>\n",
       "      <td>1.25</td>\n",
       "      <td>3.25</td>\n",
       "      <td>3.457600e-02</td>\n",
       "      <td>0.0</td>\n",
       "      <td>0.0</td>\n",
       "      <td>1.867260</td>\n",
       "      <td>0.000000</td>\n",
       "      <td>0.0</td>\n",
       "      <td>-2.222980e-05</td>\n",
       "    </tr>\n",
       "    <tr>\n",
       "      <th>67</th>\n",
       "      <td>5070517</td>\n",
       "      <td>1.75</td>\n",
       "      <td>2.25</td>\n",
       "      <td>3.521410e-03</td>\n",
       "      <td>0.0</td>\n",
       "      <td>0.0</td>\n",
       "      <td>2.261994</td>\n",
       "      <td>0.000000</td>\n",
       "      <td>NaN</td>\n",
       "      <td>-2.263960e-06</td>\n",
       "    </tr>\n",
       "    <tr>\n",
       "      <th>75</th>\n",
       "      <td>5033665</td>\n",
       "      <td>2.25</td>\n",
       "      <td>2.75</td>\n",
       "      <td>7.088820e-02</td>\n",
       "      <td>0.0</td>\n",
       "      <td>0.0</td>\n",
       "      <td>1.544302</td>\n",
       "      <td>0.000000</td>\n",
       "      <td>NaN</td>\n",
       "      <td>-4.557580e-05</td>\n",
       "    </tr>\n",
       "    <tr>\n",
       "      <th>77</th>\n",
       "      <td>6000834</td>\n",
       "      <td>1.75</td>\n",
       "      <td>2.25</td>\n",
       "      <td>2.725170e-03</td>\n",
       "      <td>0.0</td>\n",
       "      <td>0.0</td>\n",
       "      <td>1.623168</td>\n",
       "      <td>0.000000</td>\n",
       "      <td>NaN</td>\n",
       "      <td>-1.752120e-06</td>\n",
       "    </tr>\n",
       "    <tr>\n",
       "      <th>80</th>\n",
       "      <td>16780</td>\n",
       "      <td>2.75</td>\n",
       "      <td>3.25</td>\n",
       "      <td>1.197290e-01</td>\n",
       "      <td>0.0</td>\n",
       "      <td>0.0</td>\n",
       "      <td>1.710458</td>\n",
       "      <td>0.006027</td>\n",
       "      <td>NaN</td>\n",
       "      <td>2.892382e-01</td>\n",
       "    </tr>\n",
       "    <tr>\n",
       "      <th>109</th>\n",
       "      <td>5063476</td>\n",
       "      <td>1.75</td>\n",
       "      <td>3.25</td>\n",
       "      <td>8.575330e-02</td>\n",
       "      <td>0.0</td>\n",
       "      <td>0.0</td>\n",
       "      <td>1.805592</td>\n",
       "      <td>0.000000</td>\n",
       "      <td>NaN</td>\n",
       "      <td>-5.513290e-05</td>\n",
       "    </tr>\n",
       "    <tr>\n",
       "      <th>110</th>\n",
       "      <td>6000877</td>\n",
       "      <td>1.25</td>\n",
       "      <td>1.25</td>\n",
       "      <td>3.087430e-09</td>\n",
       "      <td>0.0</td>\n",
       "      <td>0.0</td>\n",
       "      <td>2.164230</td>\n",
       "      <td>0.000000</td>\n",
       "      <td>0.0</td>\n",
       "      <td>-5.191578e-11</td>\n",
       "    </tr>\n",
       "    <tr>\n",
       "      <th>111</th>\n",
       "      <td>5036185</td>\n",
       "      <td>2.75</td>\n",
       "      <td>3.25</td>\n",
       "      <td>9.418980e-02</td>\n",
       "      <td>0.0</td>\n",
       "      <td>0.0</td>\n",
       "      <td>1.786221</td>\n",
       "      <td>0.026124</td>\n",
       "      <td>NaN</td>\n",
       "      <td>1.619066e-01</td>\n",
       "    </tr>\n",
       "  </tbody>\n",
       "</table>\n",
       "</div>"
      ],
      "text/plain": [
       "     Crystal_ID#  Dom._Pore_(ang.)  Max._Pore_(ang.)  Void_Fraction  \\\n",
       "0        6000523              1.25              1.25   1.386220e-09   \n",
       "38       5009699              1.75              2.25   3.986120e-02   \n",
       "46       5039630              1.25              3.25   3.457600e-02   \n",
       "67       5070517              1.75              2.25   3.521410e-03   \n",
       "75       5033665              2.25              2.75   7.088820e-02   \n",
       "77       6000834              1.75              2.25   2.725170e-03   \n",
       "80         16780              2.75              3.25   1.197290e-01   \n",
       "109      5063476              1.75              3.25   8.575330e-02   \n",
       "110      6000877              1.25              1.25   3.087430e-09   \n",
       "111      5036185              2.75              3.25   9.418980e-02   \n",
       "\n",
       "     Surf._Area_(m2/g)  Vol._Surf._Area   Density  CH4_v/v_1_bar  \\\n",
       "0                  0.0              0.0  2.208307       0.000000   \n",
       "38                 0.0              0.0  1.864341       0.000000   \n",
       "46                 0.0              0.0  1.867260       0.000000   \n",
       "67                 0.0              0.0  2.261994       0.000000   \n",
       "75                 0.0              0.0  1.544302       0.000000   \n",
       "77                 0.0              0.0  1.623168       0.000000   \n",
       "80                 0.0              0.0  1.710458       0.006027   \n",
       "109                0.0              0.0  1.805592       0.000000   \n",
       "110                0.0              0.0  2.164230       0.000000   \n",
       "111                0.0              0.0  1.786221       0.026124   \n",
       "\n",
       "     CH4_v/v_5.8_bar  CH4_v/v_35_bar  \n",
       "0                NaN    4.495788e-11  \n",
       "38               0.0   -2.562780e-05  \n",
       "46               0.0   -2.222980e-05  \n",
       "67               NaN   -2.263960e-06  \n",
       "75               NaN   -4.557580e-05  \n",
       "77               NaN   -1.752120e-06  \n",
       "80               NaN    2.892382e-01  \n",
       "109              NaN   -5.513290e-05  \n",
       "110              0.0   -5.191578e-11  \n",
       "111              NaN    1.619066e-01  "
      ]
     },
     "execution_count": 68,
     "metadata": {},
     "output_type": "execute_result"
    }
   ],
   "source": [
    "defMOFsSD.iloc[0:10, 30:40]"
   ]
  },
  {
   "cell_type": "code",
   "execution_count": 73,
   "metadata": {},
   "outputs": [
    {
     "data": {
      "text/html": [
       "<div>\n",
       "<style scoped>\n",
       "    .dataframe tbody tr th:only-of-type {\n",
       "        vertical-align: middle;\n",
       "    }\n",
       "\n",
       "    .dataframe tbody tr th {\n",
       "        vertical-align: top;\n",
       "    }\n",
       "\n",
       "    .dataframe thead th {\n",
       "        text-align: right;\n",
       "    }\n",
       "</style>\n",
       "<table border=\"1\" class=\"dataframe\">\n",
       "  <thead>\n",
       "    <tr style=\"text-align: right;\">\n",
       "      <th></th>\n",
       "      <th>Crystal_Id</th>\n",
       "      <th>Crystal_ID#</th>\n",
       "      <th>Dom._Pore_(ang.)</th>\n",
       "      <th>Max._Pore_(ang.)</th>\n",
       "      <th>Void_Fraction</th>\n",
       "      <th>Surf._Area_(m2/g)</th>\n",
       "      <th>Vol._Surf._Area</th>\n",
       "      <th>Density</th>\n",
       "      <th>CH4_v/v_1_bar</th>\n",
       "      <th>CH4_v/v_5.8_bar</th>\n",
       "    </tr>\n",
       "  </thead>\n",
       "  <tbody>\n",
       "    <tr>\n",
       "      <th>0</th>\n",
       "      <td>6000523</td>\n",
       "      <td>6000523</td>\n",
       "      <td>1.25</td>\n",
       "      <td>1.25</td>\n",
       "      <td>1.386220e-09</td>\n",
       "      <td>0.0</td>\n",
       "      <td>0.0</td>\n",
       "      <td>2.208307</td>\n",
       "      <td>0.000000</td>\n",
       "      <td>NaN</td>\n",
       "    </tr>\n",
       "    <tr>\n",
       "      <th>38</th>\n",
       "      <td>5009699</td>\n",
       "      <td>5009699</td>\n",
       "      <td>1.75</td>\n",
       "      <td>2.25</td>\n",
       "      <td>3.986120e-02</td>\n",
       "      <td>0.0</td>\n",
       "      <td>0.0</td>\n",
       "      <td>1.864341</td>\n",
       "      <td>0.000000</td>\n",
       "      <td>0.0</td>\n",
       "    </tr>\n",
       "    <tr>\n",
       "      <th>46</th>\n",
       "      <td>5039630</td>\n",
       "      <td>5039630</td>\n",
       "      <td>1.25</td>\n",
       "      <td>3.25</td>\n",
       "      <td>3.457600e-02</td>\n",
       "      <td>0.0</td>\n",
       "      <td>0.0</td>\n",
       "      <td>1.867260</td>\n",
       "      <td>0.000000</td>\n",
       "      <td>0.0</td>\n",
       "    </tr>\n",
       "    <tr>\n",
       "      <th>67</th>\n",
       "      <td>5070517</td>\n",
       "      <td>5070517</td>\n",
       "      <td>1.75</td>\n",
       "      <td>2.25</td>\n",
       "      <td>3.521410e-03</td>\n",
       "      <td>0.0</td>\n",
       "      <td>0.0</td>\n",
       "      <td>2.261994</td>\n",
       "      <td>0.000000</td>\n",
       "      <td>NaN</td>\n",
       "    </tr>\n",
       "    <tr>\n",
       "      <th>75</th>\n",
       "      <td>5033665</td>\n",
       "      <td>5033665</td>\n",
       "      <td>2.25</td>\n",
       "      <td>2.75</td>\n",
       "      <td>7.088820e-02</td>\n",
       "      <td>0.0</td>\n",
       "      <td>0.0</td>\n",
       "      <td>1.544302</td>\n",
       "      <td>0.000000</td>\n",
       "      <td>NaN</td>\n",
       "    </tr>\n",
       "    <tr>\n",
       "      <th>77</th>\n",
       "      <td>6000834</td>\n",
       "      <td>6000834</td>\n",
       "      <td>1.75</td>\n",
       "      <td>2.25</td>\n",
       "      <td>2.725170e-03</td>\n",
       "      <td>0.0</td>\n",
       "      <td>0.0</td>\n",
       "      <td>1.623168</td>\n",
       "      <td>0.000000</td>\n",
       "      <td>NaN</td>\n",
       "    </tr>\n",
       "    <tr>\n",
       "      <th>80</th>\n",
       "      <td>16780</td>\n",
       "      <td>16780</td>\n",
       "      <td>2.75</td>\n",
       "      <td>3.25</td>\n",
       "      <td>1.197290e-01</td>\n",
       "      <td>0.0</td>\n",
       "      <td>0.0</td>\n",
       "      <td>1.710458</td>\n",
       "      <td>0.006027</td>\n",
       "      <td>NaN</td>\n",
       "    </tr>\n",
       "    <tr>\n",
       "      <th>109</th>\n",
       "      <td>5063476</td>\n",
       "      <td>5063476</td>\n",
       "      <td>1.75</td>\n",
       "      <td>3.25</td>\n",
       "      <td>8.575330e-02</td>\n",
       "      <td>0.0</td>\n",
       "      <td>0.0</td>\n",
       "      <td>1.805592</td>\n",
       "      <td>0.000000</td>\n",
       "      <td>NaN</td>\n",
       "    </tr>\n",
       "    <tr>\n",
       "      <th>110</th>\n",
       "      <td>6000877</td>\n",
       "      <td>6000877</td>\n",
       "      <td>1.25</td>\n",
       "      <td>1.25</td>\n",
       "      <td>3.087430e-09</td>\n",
       "      <td>0.0</td>\n",
       "      <td>0.0</td>\n",
       "      <td>2.164230</td>\n",
       "      <td>0.000000</td>\n",
       "      <td>0.0</td>\n",
       "    </tr>\n",
       "    <tr>\n",
       "      <th>111</th>\n",
       "      <td>5036185</td>\n",
       "      <td>5036185</td>\n",
       "      <td>2.75</td>\n",
       "      <td>3.25</td>\n",
       "      <td>9.418980e-02</td>\n",
       "      <td>0.0</td>\n",
       "      <td>0.0</td>\n",
       "      <td>1.786221</td>\n",
       "      <td>0.026124</td>\n",
       "      <td>NaN</td>\n",
       "    </tr>\n",
       "  </tbody>\n",
       "</table>\n",
       "</div>"
      ],
      "text/plain": [
       "     Crystal_Id  Crystal_ID#  Dom._Pore_(ang.)  Max._Pore_(ang.)  \\\n",
       "0       6000523      6000523              1.25              1.25   \n",
       "38      5009699      5009699              1.75              2.25   \n",
       "46      5039630      5039630              1.25              3.25   \n",
       "67      5070517      5070517              1.75              2.25   \n",
       "75      5033665      5033665              2.25              2.75   \n",
       "77      6000834      6000834              1.75              2.25   \n",
       "80        16780        16780              2.75              3.25   \n",
       "109     5063476      5063476              1.75              3.25   \n",
       "110     6000877      6000877              1.25              1.25   \n",
       "111     5036185      5036185              2.75              3.25   \n",
       "\n",
       "     Void_Fraction  Surf._Area_(m2/g)  Vol._Surf._Area   Density  \\\n",
       "0     1.386220e-09                0.0              0.0  2.208307   \n",
       "38    3.986120e-02                0.0              0.0  1.864341   \n",
       "46    3.457600e-02                0.0              0.0  1.867260   \n",
       "67    3.521410e-03                0.0              0.0  2.261994   \n",
       "75    7.088820e-02                0.0              0.0  1.544302   \n",
       "77    2.725170e-03                0.0              0.0  1.623168   \n",
       "80    1.197290e-01                0.0              0.0  1.710458   \n",
       "109   8.575330e-02                0.0              0.0  1.805592   \n",
       "110   3.087430e-09                0.0              0.0  2.164230   \n",
       "111   9.418980e-02                0.0              0.0  1.786221   \n",
       "\n",
       "     CH4_v/v_1_bar  CH4_v/v_5.8_bar  \n",
       "0         0.000000              NaN  \n",
       "38        0.000000              0.0  \n",
       "46        0.000000              0.0  \n",
       "67        0.000000              NaN  \n",
       "75        0.000000              NaN  \n",
       "77        0.000000              NaN  \n",
       "80        0.006027              NaN  \n",
       "109       0.000000              NaN  \n",
       "110       0.000000              0.0  \n",
       "111       0.026124              NaN  "
      ]
     },
     "execution_count": 73,
     "metadata": {},
     "output_type": "execute_result"
    }
   ],
   "source": [
    "defMOFsSI.iloc[0:10, -65:-55]"
   ]
  },
  {
   "cell_type": "code",
   "execution_count": 74,
   "metadata": {},
   "outputs": [
    {
     "data": {
      "text/plain": [
       "5297"
      ]
     },
     "execution_count": 74,
     "metadata": {},
     "output_type": "execute_result"
    }
   ],
   "source": [
    "len(defMOFsSI)"
   ]
  },
  {
   "cell_type": "code",
   "execution_count": 75,
   "metadata": {},
   "outputs": [
    {
     "data": {
      "text/plain": [
       "True"
      ]
     },
     "execution_count": 75,
     "metadata": {},
     "output_type": "execute_result"
    }
   ],
   "source": [
    "len(defMOFsSI) == len(defMOFsSD)"
   ]
  },
  {
   "cell_type": "markdown",
   "metadata": {},
   "source": [
    "# Test functions"
   ]
  },
  {
   "cell_type": "code",
   "execution_count": 69,
   "metadata": {},
   "outputs": [
    {
     "data": {
      "text/plain": [
       "6"
      ]
     },
     "execution_count": 69,
     "metadata": {},
     "output_type": "execute_result"
    }
   ],
   "source": [
    "getNAtoms('C=C')"
   ]
  },
  {
   "cell_type": "code",
   "execution_count": 77,
   "metadata": {},
   "outputs": [
    {
     "data": {
      "text/plain": [
       "(1.3753017241379308, 1.3753017241379308)"
      ]
     },
     "execution_count": 77,
     "metadata": {},
     "output_type": "execute_result"
    }
   ],
   "source": [
    "CompareValues(27)"
   ]
  },
  {
   "cell_type": "code",
   "execution_count": null,
   "metadata": {},
   "outputs": [],
   "source": []
  }
 ],
 "metadata": {
  "kernelspec": {
   "display_name": "Python 3",
   "language": "python",
   "name": "python3"
  },
  "language_info": {
   "codemirror_mode": {
    "name": "ipython",
    "version": 3
   },
   "file_extension": ".py",
   "mimetype": "text/x-python",
   "name": "python",
   "nbconvert_exporter": "python",
   "pygments_lexer": "ipython3",
   "version": "3.7.3"
  }
 },
 "nbformat": 4,
 "nbformat_minor": 2
}
